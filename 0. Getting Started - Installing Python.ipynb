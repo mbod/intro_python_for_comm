{
 "cells": [
  {
   "cell_type": "markdown",
   "metadata": {},
   "source": [
    "# Introduction to Python programming for Communication"
   ]
  },
  {
   "cell_type": "markdown",
   "metadata": {},
   "source": [
    "These IPython notebooks are part of a workshop at the Annenberg School for Communication at University of Pennsylvania beginning in February 2016. The goal of the workshops is to be a collaborative environment for researchers in Communication to learn and practice basic Python programming skills for use in their research.\n",
    "\n",
    "Topics covered will include:\n",
    "\n",
    "* Basic Python programming\n",
    "* Handling and processing textual data\n",
    "* Collecting data and web scraping\n",
    "* Accessing APIs (e.g. NYTimes, Twitter)\n",
    "* Content analysis using dictionary and NLP based approaches"
   ]
  },
  {
   "cell_type": "code",
   "execution_count": null,
   "metadata": {
    "collapsed": true
   },
   "outputs": [],
   "source": []
  }
 ],
 "metadata": {
  "kernelspec": {
   "display_name": "Python 3",
   "language": "python",
   "name": "python3"
  },
  "language_info": {
   "codemirror_mode": {
    "name": "ipython",
    "version": 3
   },
   "file_extension": ".py",
   "mimetype": "text/x-python",
   "name": "python",
   "nbconvert_exporter": "python",
   "pygments_lexer": "ipython3",
   "version": "3.4.3"
  }
 },
 "nbformat": 4,
 "nbformat_minor": 0
}
