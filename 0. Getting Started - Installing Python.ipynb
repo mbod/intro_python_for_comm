{
 "cells": [
  {
   "cell_type": "markdown",
   "metadata": {},
   "source": [
    "# Introduction to Python programming for Communication"
   ]
  },
  {
   "cell_type": "markdown",
   "metadata": {},
   "source": [
    "These IPython notebooks are part of a workshop at the Annenberg School for Communication at University of Pennsylvania beginning in February 2016. The goal of the workshops is to be a collaborative environment for researchers in Communication to learn and practice basic Python programming skills for use in their research.\n",
    "\n",
    "Topics covered will include:\n",
    "\n",
    "* Basic Python programming\n",
    "* Handling and processing textual data\n",
    "* Collecting data and web scraping\n",
    "* Accessing APIs (e.g. NYTimes, Twitter)\n",
    "* Content analysis using dictionary and NLP based approaches"
   ]
  },
  {
   "cell_type": "markdown",
   "metadata": {},
   "source": [
    "## Installing Python"
   ]
  },
  {
   "cell_type": "markdown",
   "metadata": {},
   "source": [
    "The Anaconda distribution of Python 3 is recommended:\n",
    "\n",
    "https://www.continuum.io/downloads\n",
    "\n",
    "Select the Python 3 installer for your operating system and run through the installation steps."
   ]
  },
  {
   "cell_type": "markdown",
   "metadata": {},
   "source": [
    "## Working with Python\n",
    "\n",
    "We will work with Python in a number of different ways, including:\n",
    "\n",
    "* __IPython notebooks__ - a web based system for producing code, images and text to easily and quickly produce documents to share your work and results. This document **IS** an IPython notebook!\n",
    "* __Python scripts__ - the next step is to create script files in a text editor that can run anywhere Python is installed\n",
    "* __Spyder IDE__ - The Anaconda Python distributiom includes a fully featured IDE (Integrated Development Environment) that supports multiple files and a comprehensive help and documentation system. IDEs can be helpful when you move on to develop complex programs."
   ]
  },
  {
   "cell_type": "markdown",
   "metadata": {},
   "source": [
    "## Installing a text editor\n",
    "\n",
    "There are numerous text editors across different OSes, e.g. Notepad, Notepad++, TextMate, TextWrangler, nano, emacs, vim, that you may already be familar with. Many of these are Python aware (i.e., will do some kind of highlighting of syntax and may even highlight errors).\n",
    "\n",
    "If you don't have a particular favorite or would like to try a newish one we recommend using Atom.\n",
    "\n",
    "\n",
    "Download at:\n",
    "\n",
    "https://atom.io/\n",
    "\n",
    "and follow installation for your operating system."
   ]
  },
  {
   "cell_type": "markdown",
   "metadata": {
    "collapsed": true
   },
   "source": [
    "## Starting an IPython notebook\n",
    "\n",
    "1. You can start an IPython notebook from the Anaconda Launcher which will added to your applications/programs list when you installed the Anaconda distribution.\n",
    "    1. Start up the Launcher\n",
    "    2. Click on 'Launch' for the ipython-notebook\n",
    "\n",
    "<img src=\"img/launcher.png\" width=\"50%\"/>\n",
    "\n",
    "This will open up a terminal/console and start an IPython notebook running. It will also open up a new tab in your default browser\n"
   ]
  },
  {
   "cell_type": "markdown",
   "metadata": {},
   "source": []
  },
  {
   "cell_type": "code",
   "execution_count": null,
   "metadata": {
    "collapsed": true
   },
   "outputs": [],
   "source": []
  }
 ],
 "metadata": {
  "kernelspec": {
   "display_name": "Python 3",
   "language": "python",
   "name": "python3"
  },
  "language_info": {
   "codemirror_mode": {
    "name": "ipython",
    "version": 3
   },
   "file_extension": ".py",
   "mimetype": "text/x-python",
   "name": "python",
   "nbconvert_exporter": "python",
   "pygments_lexer": "ipython3",
   "version": "3.4.4"
  }
 },
 "nbformat": 4,
 "nbformat_minor": 0
}
