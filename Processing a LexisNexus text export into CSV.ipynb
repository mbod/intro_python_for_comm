{
 "cells": [
  {
   "cell_type": "markdown",
   "metadata": {},
   "source": [
    "# Processing a LexisNexus text export into CSV"
   ]
  },
  {
   "cell_type": "markdown",
   "metadata": {},
   "source": [
    "### Preparation\n",
    "\n",
    "1. download the file: https://github.com/mbod/intro_python_for_comm/blob/master/data/LexisNexusVapingExample.txt\n",
    "2. place it in the data folder of your IPython notebook\n",
    "\n",
    "### Task\n",
    "\n",
    "3. Load the text file <code>LexisNexusVapingExample.txt</code> into a variable text\n",
    "4. Examine the first 20000 chars to figure out how articles are separated\n",
    "5. Create a list by splitting on the separator string\n",
    "6. Seperate each article into prebody, body and postbody components\n",
    "7. Save the output to a CSV file with three columns:\n",
    "   prebody, body and postbody\n",
    "   and a row for each article\n",
    "   \n",
    "   "
   ]
  },
  {
   "cell_type": "markdown",
   "metadata": {},
   "source": [
    "### Loading contexts of the text file from the data folder\n",
    "\n",
    "If you downloaded the text file and placed in the data folder you can read it into a variable like this:"
   ]
  },
  {
   "cell_type": "code",
   "execution_count": 98,
   "metadata": {
    "collapsed": true
   },
   "outputs": [],
   "source": [
    "text = open('data/LexisNexusVapingExample.txt', 'r').read()"
   ]
  },
  {
   "cell_type": "markdown",
   "metadata": {},
   "source": [
    "Show the number of characters in the text file:"
   ]
  },
  {
   "cell_type": "code",
   "execution_count": 99,
   "metadata": {
    "collapsed": false
   },
   "outputs": [
    {
     "data": {
      "text/plain": [
       "1973633"
      ]
     },
     "execution_count": 99,
     "metadata": {},
     "output_type": "execute_result"
    }
   ],
   "source": [
    "len(text)    "
   ]
  },
  {
   "cell_type": "markdown",
   "metadata": {},
   "source": [
    "### Downloading the text file directly from github using the <code>requests</code> module"
   ]
  },
  {
   "cell_type": "code",
   "execution_count": null,
   "metadata": {
    "collapsed": true
   },
   "outputs": [],
   "source": [
    "import requests     # import the module"
   ]
  },
  {
   "cell_type": "markdown",
   "metadata": {},
   "source": [
    "The <code>get</code> function takes a URL and returns the content at that address."
   ]
  },
  {
   "cell_type": "code",
   "execution_count": 14,
   "metadata": {
    "collapsed": true
   },
   "outputs": [],
   "source": [
    "resp = requests.get('https://raw.githubusercontent.com/mbod/intro_python_for_comm/master/data/LexisNexusVapingExample.txt')"
   ]
  },
  {
   "cell_type": "code",
   "execution_count": 94,
   "metadata": {
    "collapsed": false
   },
   "outputs": [],
   "source": [
    "text2=resp.text    # assign content of response to a variable"
   ]
  },
  {
   "cell_type": "code",
   "execution_count": 95,
   "metadata": {
    "collapsed": false
   },
   "outputs": [
    {
     "data": {
      "text/plain": [
       "'\\ufeff\\r\\n\\r\\n\\r\\n\\r\\nDownload Request: Select Items: 1-500\\r\\nTime Of Request: Monday, February 22, 2016  12:48:50 EST\\r\\nSend To:\\r\\n\\r\\nMEGADEAL, ACADEMIC UNIVERSE\\r\\nUNIVERSITY OF PENNSYLVANIA\\r\\nLIBRARY\\r\\nPHILADELPHIA, PA\\r\\n\\r\\n\\r\\nTerms: (vaping)\\r\\n\\r\\n\\r\\nSource: Company Profiles and Directories;US Law Reviews and Journals,\\r\\nCo'"
      ]
     },
     "execution_count": 95,
     "metadata": {},
     "output_type": "execute_result"
    }
   ],
   "source": [
    "text2[:300]   # show first 300 characters"
   ]
  },
  {
   "cell_type": "code",
   "execution_count": 96,
   "metadata": {
    "collapsed": false
   },
   "outputs": [
    {
     "name": "stdout",
     "output_type": "stream",
     "text": [
      "﻿\r\n",
      "\r\n",
      "\r\n",
      "\r\n",
      "Download Request: Select Items: 1-500\r\n",
      "Time Of Request: Monday, February 22, 2016  12:48:50 EST\r\n",
      "Send To:\r\n",
      "\r\n",
      "MEGADEAL, ACADEMIC UNIVERSE\r\n",
      "UNIVERSITY OF PENNSYLVANIA\r\n",
      "LIBRARY\r\n",
      "PHILADELPHIA, PA\r\n",
      "\r\n",
      "\r\n",
      "Terms: (vaping)\r\n",
      "\r\n",
      "\r\n",
      "Source: Company Profiles and Directories;US Law Reviews and Journals,\r\n",
      "Co\n"
     ]
    }
   ],
   "source": [
    "print(text2[:300])   # use print to see formatting (spacing and newlines etc.)"
   ]
  },
  {
   "cell_type": "markdown",
   "metadata": {},
   "source": [
    "### Examine the first 20,000 characters to find string patterns that mark divisions between documents"
   ]
  },
  {
   "cell_type": "code",
   "execution_count": 10,
   "metadata": {
    "collapsed": false
   },
   "outputs": [
    {
     "name": "stdout",
     "output_type": "stream",
     "text": [
      "﻿\n",
      "\n",
      "\n",
      "\n",
      "Download Request: Select Items: 1-500\n",
      "Time Of Request: Monday, February 22, 2016  12:48:50 EST\n",
      "Send To:\n",
      "\n",
      "MEGADEAL, ACADEMIC UNIVERSE\n",
      "UNIVERSITY OF PENNSYLVANIA\n",
      "LIBRARY\n",
      "PHILADELPHIA, PA\n",
      "\n",
      "\n",
      "Terms: (vaping)\n",
      "\n",
      "\n",
      "Source: Company Profiles and Directories;US Law Reviews and Journals,\n",
      "Combined;Federal & State Court Cases - After 1944, Combined;Newspaper Stories,\n",
      "Combined Papers\n",
      "Combined Source: Company Profiles and Directories;US Law Reviews and Journals,\n",
      "Combined;Federal & State Court Cases - After 1944, Combined;Newspaper Stories,\n",
      "Combined Papers\n",
      "Project ID:\n",
      "\n",
      "\n",
      "\n",
      "                              1 of 1000 DOCUMENTS\n",
      "\n",
      "\n",
      "                          New Straits Times (Malaysia)\n",
      "\n",
      "                            November 1, 2015 Sunday\n",
      "\n",
      "Regulation for sake of health, safety\n",
      "\n",
      "BYLINE: Koi Kye Lee; Tharanya Arumugam; Rahmat Khairulijal\n",
      "\n",
      "SECTION: Pg. 5\n",
      "\n",
      "LENGTH: 683 words\n",
      "\n",
      "\n",
      "KUALA LUMPUR: MANUFACTURERS and sellers of vaping devices will be subjected to a\n",
      "major shift in the way they market their gadgets and accompanying odds and ends.\n",
      "\n",
      "As the authorities work together to address concerns related to the\n",
      "rapidly-growing trend of vaping, those in the business are looking at being\n",
      "subjected to a systematic mechanism that will serve to safeguard public safety\n",
      "and health.\n",
      "\n",
      "The Domestic Trade, Cooperatives and Consumerism Ministry told the New Sunday\n",
      "Times that in looking at regulating the industry, those in the business could\n",
      "soon be allowed to only sell devices that were certified and approved by the\n",
      "Department of Standards Malaysia (Sirim-approved).\n",
      "\n",
      "Its secretary-general, Datuk Seri Alias Ahmad, said there was a need to regulate\n",
      "the prices of vaping devices and e-liquids to protect consumers.\n",
      "\n",
      "He said the ministry was working with the Health Ministry and would engage\n",
      "stakeholders to ensure that all areas in the regulation of vaping were covered.\n",
      "\n",
      "\"Give us enough time to study the important aspects (concerning vaping),\n",
      "including legal and health issues, as well as the impact that the trend has on\n",
      "society (before decisions are finalised).\"\n",
      "\n",
      "The Health Ministry is already looking at tangible measures to be put in place\n",
      "to regulate vaping.\n",
      "\n",
      "Vapers in the country, whose numbers rank second only to the United States, may\n",
      "have to fork out more, as the ministry is looking at extending the sin tax\n",
      "imposed on cigarettes to vaping devices and e-liquids.\n",
      "\n",
      "The proposed change in the industry is on top of other new regulatory measures\n",
      "likely to be introduced, including import control.\n",
      "\n",
      "The spirit behind this, said the ministry, was to discourage the habit.\n",
      "\n",
      "Health Minister Datuk Seri Dr S. Subramaniam told the New Straits Times on\n",
      "Friday that he was looking at imposing a minimum age requirement for those\n",
      "buying and using vaping devices.\n",
      "\n",
      "Another measure would be to make it compulsory for the ingredients in e-liquids\n",
      "to be listed on the labels.\n",
      "\n",
      "As the rules to govern vaping continue to snowball, he said, the ministry would\n",
      "likely limit the places where vaping was allowed, similar to the way it had\n",
      "prohibited cigarette smoking in areas gazetted as non-smoking zones.\n",
      "\n",
      "He said this was important to protect non-vapers from the potential health risks\n",
      "that vaping could pose.\n",
      "\n",
      "He said the ministry was worried by the speed with which the vaping trend had\n",
      "picked up in the country.\n",
      "\n",
      "\"The estimate is that there are one million vapers in the country.\n",
      "\n",
      "\"Vaping is now unregulated, (and) we can't allow it. We are coming up with\n",
      "regulations that will control vaping-related activities as soon as possible.\n",
      "\n",
      "\"We've been studying them (regulations) for some time now, and we will start\n",
      "soon. We've got enough power to act.\"\n",
      "\n",
      "Dr Subramaniam said he hoped vapers would consider the fact that vaping had not\n",
      "been scientifically proven safe, and would cease from the habit until the\n",
      "ministry and experts concluded research on the health risks not only to those\n",
      "who vaped, but also \"passive vapers\".\n",
      "\n",
      "He said it was important to realise that vaping was a relatively new trend, and\n",
      "although there was insufficient evidence to conclusively prove the dangers of\n",
      "vaping devices, experts had warned that the health risks from vaping might\n",
      "manifest over the long term.\n",
      "\n",
      "He said while there might be different schools of thought on the matter,\n",
      "including one that suggested vaping was a safer option to smoking cigarettes\n",
      "because of the lower nicotine content, it could take up to 20 years to gather\n",
      "evidence.\n",
      "\n",
      "\"There's no hard evidence at present (to suggest vaping is safe). We have little\n",
      "information on it.\n",
      "\n",
      "\"Why pick up something that may be bad?\n",
      "\n",
      "\"My advice to all smokers, whether cigarettes, shisha, cigars, pipes or\n",
      "e-cigarettes - choose to stay healthy.\"\n",
      "\n",
      "Rural and Regional Development Minister Datuk Seri Ismail Sabri Yaakob, who\n",
      "opposes the ban on vaping, said he concurred with the need for regulation, and\n",
      "to ensure that the use of nicotine and other chemicals in e-liquids was safe.\n",
      "\n",
      "He said the government should also focus on reducing the number of smokers.\n",
      "Additional reporting by Rahmat Khairulijal\n",
      "\n",
      "( END )\n",
      "\n",
      "LOAD-DATE: November 1, 2015\n",
      "\n",
      "LANGUAGE: ENGLISH\n",
      "\n",
      "PUBLICATION-TYPE: Newspaper\n",
      "\n",
      "\n",
      "            Copyright 2015 New Straits Times Press (Malaysia) Berhad\n",
      "                              All Rights Reserved\n",
      "\n",
      "\n",
      "                              2 of 1000 DOCUMENTS\n",
      "\n",
      "\n",
      "                         Spokesman Review (Spokane, WA)\n",
      "\n",
      "                           December 29, 2015 Tuesday\n",
      "                                  Main Edition\n",
      "\n",
      "CLOUDY FUTURE FOR VAPING Health district pushes to restrict e-cigarette use in\n",
      "public places\n",
      "\n",
      "BYLINE: Becky Kramer beckyk@spokesman.com, (208) 765-7122\n",
      "\n",
      "SECTION: A; Pg. 001\n",
      "\n",
      "LENGTH: 1035 words\n",
      "\n",
      "\n",
      "At Smokin' Legal Vaperz, Alex Overman can try out more than 260 juice flavors\n",
      "for his electronic vaping device.\n",
      "\n",
      "His current favorite is lime cheesecake.\n",
      "\n",
      "\"Instead of stinking like cigarettes, I smell like limes,\" said Overman, a\n",
      "former smoker and a customer at the North Division Street store, who credits\n",
      "e-cigarettes for helping him kick a three-pack-a-day habit.\n",
      "\n",
      "Managers at the Smokin' Legal Vaperz say most of their clients are former\n",
      "smokers who've turned to vaping as a healthier alternative to cigarettes.\n",
      "\n",
      "But the store's ability to demonstrate the use of vaping devices - and allow\n",
      "customers to test flavors - could be prohibited under new Spokane Regional\n",
      "Health District regulations.\n",
      "\n",
      "The proposal is part of the health district's effort to extend prohibitions on\n",
      "smoking in public places to vaping devices. Anywhere that smoking is forbidden,\n",
      "vaping would be forbidden, too, said Paige McGowan, the health district's\n",
      "coordinator of tobacco, electronic cigarettes and marijuana prevention.\n",
      "\n",
      "That means no vaping in indoor public spaces or at worksites, even for vaping\n",
      "retailers.\n",
      "\n",
      "About a half-dozen Washington counties - including King and Snohomish - have\n",
      "adopted similar rules, and others are considering them. McGowan said counties\n",
      "are acting on concerns about the health effects of nicotine delivery in an\n",
      "aerosol form, including vaping's allure to teenagers. Federal studies show that\n",
      "teens who have never smoked or used other tobacco products are taking up vaping.\n",
      "\n",
      "\"We don't know the long-term impacts of breathing in this type of aerosol,\"\n",
      "McGowan said. \"We don't know what bystanders are being exposed to.\"\n",
      "\n",
      "But the mosaic of regulations being adopted by counties concerns the nonprofit\n",
      "Washington Vape Association, which would prefer to see the state create uniform\n",
      "rules.\n",
      "\n",
      "\"We think it's far more sensible, productive and logical if there is statewide\n",
      "legislation,\" said Joe Baba, the association's chairman and co-founder. \"We're\n",
      "urging caution and patience to the counties, to see what the 2016 legislative\n",
      "session produces.\"\n",
      "\n",
      "Last year, the Washington Legislature considered licensing requirements for\n",
      "vaping retailers, but the proposal didn't become law.\n",
      "\n",
      "Baba said most association members support restrictions on vaping in indoor\n",
      "public places, with exceptions for vaping stores open to individuals 18 and\n",
      "older. Currently, tobacco products can only be sold to people 18 and older, but\n",
      "state regulations don't prohibit younger teens from visiting vaping stores.\n",
      "\n",
      "\"We believe in educating (adult) customers that come into the store on how to\n",
      "use vaping devices properly ... and offering a variety of flavor choices so they\n",
      "can find the one that will help them quit smoking,\" said Baba, who is the\n",
      "co-owner of Vaporland stores in Snohomish County and of Twilight Vapor, a\n",
      "marketing company.\n",
      "\n",
      "McGowan, of the Spokane Regional Health District, said she hasn't seen any\n",
      "pending state legislation that restricts vaping in public places, but if the\n",
      "state adopts rules, they would take precedence over the county's actions.\n",
      "\n",
      "At Smokin' Legal Vaperz's three stores in Spokane County, access is already\n",
      "restricted to people 18 and older, said Luke Patterson, an employee.\n",
      "\n",
      "A few of the customers are what Patterson calls \"hobbyists,\" who enjoy the art\n",
      "of blowing vapor. But most are former smokers who are gradually reducing the\n",
      "nicotine content in the liquid solution used in vaping devices, he said.\n",
      "\n",
      "\"We ask what brand they're smoking, and how many cigarettes per day,\" he said.\n",
      "\"That allows us to match their nicotine levels. In most cases, we're reluctant\n",
      "to sell to people who are just starting.\"\n",
      "\n",
      "But vaping's effectiveness for smoking cessation remains a matter of scientific\n",
      "inquiry and debate. And the jury is still out on the long-term health impacts of\n",
      "vaping.\n",
      "\n",
      "McGowan cites U.S. Food and Drug Administration studies that found heavy metals,\n",
      "formaldehyde and other cancer-causing agents in the inhaled vapor. An article on\n",
      "the Seattle-King County Public Health Department's website also said  exhaled\n",
      "vapor exposes bystanders to nicotine, which is highly addictive.\n",
      "\n",
      "Patterson cites competing studies, which said the research results can be skewed\n",
      "by use of a mechanical inhaler, which amplifies what people would breathe into\n",
      "their lungs.\n",
      "\n",
      "Overman, 23, the Smokin' Legal Vaperz customer, said he's convinced  vaping\n",
      "helped him quit smoking, a habit he started at 16.\n",
      "\n",
      "\"After the first month, I could take a walk without wheezing,\" he said. \"I don't\n",
      "get colds anymore, and I can actually go to the gym and work out.\"\n",
      "\n",
      "During the two years he's been vaping, Overman said he's reduced the amount of\n",
      "nicotine in his e-cigarettes from 24 milligrams to 3 milligrams per milliliter.\n",
      "His eventual goal is to be nicotine-free.\n",
      "\n",
      "When he's visiting family in Spokane, Overman frequently visits the store on\n",
      "North Division. He enjoys hanging out, testing products and talking to the\n",
      "staff. In Everett, where he  lives, Snohomish County's health department\n",
      "recently put restrictions on vaping stores.\n",
      "\n",
      "Only one employee can demonstrate vaping products at a time. The stores must\n",
      "have ventilation equipment, and only five seats are allowed at the testing\n",
      "counter. Health officials don't want stores to create a \"vaping lounge\"\n",
      "atmosphere, where customers are encouraged to linger, said Heather Thomas, a\n",
      "spokeswoman for the Snohomish County health department.\n",
      "\n",
      "The rules, adopted in early December, have changed the experience of being in a\n",
      "vaping store in Snohomish County, Overman said.\n",
      "\n",
      "\"They can't have couches or TVs,\" he said of retailers. And after about 30\n",
      "minutes, customers are encouraged to move on, Overman said.\n",
      "\n",
      "2 SIDEBARS:\n",
      "\n",
      "VAPING BAN COMMENT PERIOD OPEN\n",
      "\n",
      "Spokane Regional Health District will accept comments through Feb. 5 on a\n",
      "proposal to ban vaping in indoor public places and worksites. Comments can be\n",
      "sent to sipp@srhd.org The health district's board will conduct a public hearing\n",
      "at its regularly scheduled meeting at 12:30 p.m. Feb. 25, at the district\n",
      "offices, 1101 W. College Ave.\n",
      "\n",
      "IDAHO\n",
      "\n",
      "In Idaho, vaping is not regulated under the state's clean indoor air law, but\n",
      "business owners can prohibit vaping in their establishments if they choose,\n",
      "according to the Idaho Department of Health and Welfare.\n",
      "\n",
      "LOAD-DATE: December 31, 2015\n",
      "\n",
      "LANGUAGE: ENGLISH\n",
      "\n",
      "PUBLICATION-TYPE: Newspaper\n",
      "\n",
      "\n",
      "                    Copyright 2015 Spokane Spokesman-Review\n",
      "\n",
      "\n",
      "                              3 of 1000 DOCUMENTS\n",
      "\n",
      "\n",
      "                         Spokesman Review (Spokane, WA)\n",
      "\n",
      "                          December 30, 2015 Wednesday\n",
      "                                  Main Edition\n",
      "\n",
      "VAPING TREND WORTH ATTENTION\n",
      "\n",
      "SECTION: A; Pg. 011\n",
      "\n",
      "LENGTH: 520 words\n",
      "\n",
      "\n",
      "EDITORIAL\n",
      "\n",
      "Vaping, like smoking, should be regulated and taxed.\n",
      "\n",
      "A proposed resolution by the Spokane Regional Health District would bring vaping\n",
      "under the Smoking in Public Places law that has controlled tobacco use in\n",
      "Washington for a decade. The SIPP law has significantly curtailed tobacco use,\n",
      "and with it the incidence of diseases such as asthma.\n",
      "\n",
      "Smoking among high school sophomores has dropped by almost one-half in\n",
      "Washington, although less in Spokane County.\n",
      "\n",
      "But many who have taken messages about tobacco's dangers to heart have turned to\n",
      "vaping as an alternative. Vaping heats - rather than  burns - synthetic\n",
      "flavoring using electronic devices like e-cigarettes or hand-held canisters that\n",
      "act like miniature hookahs.\n",
      "\n",
      "So far, the dangers of vaping are not fully understood, but the U.S. Food and\n",
      "Drug Administration warns that inhaling does introduce toxins like formaldehyde\n",
      "into the body, just as smoking does. The vapor also includes nicotine, the\n",
      "addictive ingredient  in cigarettes.\n",
      "\n",
      "Vaping supporters say the ability to control the amount of nicotine in vapor has\n",
      "been a selling point: Smokers can switch to vaping and gradually dial down the\n",
      "nicotine they need.\n",
      "\n",
      "But the presence of nicotine in exhaled vapor still exposes the public to health\n",
      "risks; to what degree is not clear.\n",
      "\n",
      "Health district officials fear vaping could \"renormalize\" tobacco use and its\n",
      "social acceptance after years of alerting the public to its dangers. In 2014, 23\n",
      "percent of high school seniors said they had vaped within the last 30 days.\n",
      "\n",
      "To discourage that trend, the health district is following an example set by\n",
      "other Washington counties that have already applied SIPP to vaping. Snohomish\n",
      "and Pierce counties allow vaping where the products are sold but limit consumer\n",
      "sampling: There are hundreds of different vaping devices and flavors.\n",
      "\n",
      "King County does not allow vaping  indoors - the same ban SIPP imposes on\n",
      "tobacco products. That is the standard proposed in Spokane.\n",
      "\n",
      "The district notes consumers are not allowed to sample tobacco or marijuana in\n",
      "the store, which is true. But the use of both has been around for hundreds of\n",
      "years. To use, you just set it on fire.\n",
      "\n",
      "Some accommodation for limited use on store premises might be reasonable as long\n",
      "as anyone younger  than 18 is excluded, ventilation isolates the store from\n",
      "adjacent businesses and testing like that done on marijuana products is\n",
      "required.\n",
      "\n",
      "Meanwhile, the industry plans to reintroduce legislation next year that will\n",
      "bring uniformity to vaping regulation statewide.\n",
      "\n",
      "If that uniformity is advisable, or even it it isn't, a deal should include the\n",
      "application of some additional tax to vaping products now subject only to sales\n",
      "tax. Legislation that stalled this year would have imposed a tax of 95 percent,\n",
      "which nevertheless would have kept the cost of vaping below that of tobacco,\n",
      "according to its sponsor.\n",
      "\n",
      "Taxation that high would snuff out many small businesses selling a product\n",
      "almost certainly less dangerous than the alternative: smoking.\n",
      "\n",
      "Vaping has its place. We should know where, and at what cost, by spring.\n",
      "\n",
      "TYPE: Column, Commentary, Editorial\n",
      "\n",
      "LOAD-DATE: January 1, 2016\n",
      "\n",
      "LANGUAGE: ENGLISH\n",
      "\n",
      "PUBLICATION-TYPE: Newspaper\n",
      "\n",
      "\n",
      "                    Copyright 2015 Spokane Spokesman-Review\n",
      "\n",
      "\n",
      "                              4 of 1000 DOCUMENTS\n",
      "\n",
      "\n",
      "                        The York Dispatch (Pennsylvania)\n",
      "\n",
      "                             April 13, 2015 Monday\n",
      "\n",
      "Research on vaping starts to clear smoke on possible health effects\n",
      "\n",
      "BYLINE: By MOLLIE DURKIN 505-5432/@ydhealth\n",
      "\n",
      "SECTION: NEWS\n",
      "\n",
      "LENGTH: 1089 words\n",
      "\n",
      "\n",
      "Ready to quit? Find resources below\n",
      "\n",
      "Chelsey Bowles said she doesn't stink anymore.\n",
      "\n",
      "\"Not smelling like an ashtray is nice, definitely,\" the Hanover resident said.\n",
      "\n",
      "Bowles said she no longer coughs in the mornings, her taste buds are back, she\n",
      "can smell again, and walking up stairs is no big deal.\n",
      "\n",
      "That's the difference, she said, between smoking cigarettes and vaping.\n",
      "\n",
      "At SS Vape in Manchester Township, 19-year-old Bowles said she was smoking about\n",
      "a pack a day before completely making the switch in December.\n",
      "\n",
      "Bowles is part of the exploding popularity of vaping, or using a smokeless\n",
      "\"cigarette\" that, when inhaled, electronically delivers flavored liquid with\n",
      "varying levels of nicotine. She started with 24 mg, and now she's down to 3 mg\n",
      "per bottle of vaping liquid.\n",
      "\n",
      "Success: Officials are pushing for more regulation as the debate rages on over\n",
      "vaping's possible health effects and role as a smoking-cessation tool. Gov. Tom\n",
      "Wolf has proposed a 40 percent wholesale tax on vaping devices.\n",
      "\n",
      "\"I have an issue with that, because he's trying to lump us in with tobacco,\"\n",
      "Bobby Allen said. \"This isn't tobacco.\"\n",
      "\n",
      "A smoker since he was 11 years old, Allen said that in September he went from\n",
      "more than two packs a day to nonsmoker in just two days of vaping.\n",
      "\n",
      "Allen, 38, of York City said he uses only 0 to 3 mg of nicotine but \"jumped into\n",
      "the hobby aspect\"   he makes his own coils, allowing him to get a bigger hit\n",
      "with more flavor and a bigger cloud.\n",
      "\n",
      "Drew Klinedinst, 30, of York City said he was a smoker for 15 years before\n",
      "vaping for the first time last October.\n",
      "\n",
      "\"I did this for three days, and I couldn't stand cigarettes,\" he said, noting\n",
      "that he uses 3 to 6 mg of nicotine.\n",
      "\n",
      "Education: Marie Drawbaugh, a tobacco cessation specialist for York Hospital,\n",
      "said she doesn't recommend vaping as a method of quitting cigarettes; she\n",
      "suggests evidence-based methods for her clients.\n",
      "\n",
      "If smokers do want to quit with vaping, they should \"do their homework and\n",
      "understand what they're getting,\" she said.\n",
      "\n",
      "\"We don't even know what's gonna happen in the long term,\" Drawbaugh said of the\n",
      "possible health effects. \"Twenty years from now, we'll see.\"\n",
      "\n",
      "Drawbaugh said maybe 20 percent of her clientele has tried vaping, but younger\n",
      "clients are more likely to make the switch   older smokers say it doesn't feel\n",
      "the same.\n",
      "\n",
      "\"They'll try them, but many of them say, 'No, that's not what I want,'\" she\n",
      "said.\n",
      "\n",
      "If a smoker wants to switch, it's important to avoid using combustible\n",
      "cigarettes and a vaping device simultaneously, Drawbaugh said.\n",
      "\n",
      "\"My concern is the people who go back and forth all day long, because who knows\n",
      "how much nicotine they're getting then?\" she said.\n",
      "\n",
      "For Karen Rizzo, president of the Pennsylvania Medical Society, successful\n",
      "bridging from smoking to vaping is a welcomed, positive outcome.\n",
      "\n",
      "\"This concept is an option to talk about with patients that are trying, are\n",
      "motivated to quit,\" she said. \"That's where the usefulness of this product, in\n",
      "my mind, is.\"\n",
      "\n",
      "Unregulated: Nicotine is \"a very serious addiction that's not given credit for\n",
      "how binding it is,\" said Pam Miller, a tobacco cessation specialist for Memorial\n",
      "Hospital.\n",
      "\n",
      "And with thousands of liquids and more than 400 unregulated brands of vaping\n",
      "devices on the market, \"we don't know exactly how much people are getting,\" she\n",
      "said.\n",
      "\n",
      "Miller said she focuses on intent when her clients take up vaping: If they want\n",
      "to try it for harm reduction, \"I think there could be value in that person\n",
      "making a behavior change.\"\n",
      "\n",
      "She said she's seeing a lot of people making the switch with the thought that\n",
      "vaping is smokeless and free of carbon monoxide   but transitions from vaping to\n",
      "smoking nothing are rare.\n",
      "\n",
      "\"I have talked to people who have completely switched from combustible products\n",
      "to e-cigarettes, but I haven't talked to people who've gone from there,\" Miller\n",
      "said.\n",
      "\n",
      "Using both products \"sort of perpetuates the habit and addiction,\" she said.\n",
      "Some clients, for example, will go from smoking two packs a day to one   but\n",
      "vape for the rest of the day, she said.\n",
      "\n",
      "Miller said she's hoping the FDA puts some final regulations on\n"
     ]
    }
   ],
   "source": [
    "print(text[0:20000])"
   ]
  },
  {
   "cell_type": "markdown",
   "metadata": {},
   "source": [
    "### The string <code>of 1000 DOCUMENTS</code> looks like a good candidate for splitting the the text file into the individual documents\n",
    "\n",
    "* Split the ``text`` string into **n** chunks using ``of 1000 DOCUMENTS``:"
   ]
  },
  {
   "cell_type": "code",
   "execution_count": 18,
   "metadata": {
    "collapsed": false
   },
   "outputs": [],
   "source": [
    "chunks = text.split('of 1000 DOCUMENTS')"
   ]
  },
  {
   "cell_type": "code",
   "execution_count": 123,
   "metadata": {
    "collapsed": false
   },
   "outputs": [
    {
     "data": {
      "text/plain": [
       "500"
      ]
     },
     "execution_count": 123,
     "metadata": {},
     "output_type": "execute_result"
    }
   ],
   "source": [
    "len(chunks)    # see how many chunks this produces"
   ]
  },
  {
   "cell_type": "code",
   "execution_count": 23,
   "metadata": {
    "collapsed": false
   },
   "outputs": [],
   "source": [
    "docs = chunks[1:]"
   ]
  },
  {
   "cell_type": "markdown",
   "metadata": {},
   "source": [
    "### Python excurcus:  Using ``enumerate`` to loop over lists\n",
    "\n",
    "* When you have a list of items and what to process each in turn then using a ``for`` loop is a common approach, e.g."
   ]
  },
  {
   "cell_type": "code",
   "execution_count": 125,
   "metadata": {
    "collapsed": false
   },
   "outputs": [
    {
     "name": "stdout",
     "output_type": "stream",
     "text": [
      "1\n",
      "2\n",
      "3\n",
      "4\n",
      "5\n",
      "The current item is: a\n",
      "The current item is: b\n",
      "The current item is: c\n",
      "The current item is: d\n"
     ]
    }
   ],
   "source": [
    "alist = [1,2,3,4,5]\n",
    "slist = ['a','b','c','d']\n",
    "\n",
    "for item in alist:\n",
    "    print(item)\n",
    "    \n",
    "for item in slist:\n",
    "    print('The current item is:',item)"
   ]
  },
  {
   "cell_type": "markdown",
   "metadata": {},
   "source": [
    "* Another, 'less Pythonic', way to do this is to create a loop that uses the indices of each item in the list, e.g."
   ]
  },
  {
   "cell_type": "code",
   "execution_count": 127,
   "metadata": {
    "collapsed": false
   },
   "outputs": [
    {
     "name": "stdout",
     "output_type": "stream",
     "text": [
      "Index 0 is item: 1\n",
      "Index 1 is item: 2\n",
      "Index 2 is item: 3\n",
      "Index 3 is item: 4\n",
      "Index 4 is item: 5\n"
     ]
    }
   ],
   "source": [
    "for idx in range(0,len(alist)):\n",
    "    print('Index', idx, 'is item:', alist[idx])"
   ]
  },
  {
   "cell_type": "markdown",
   "metadata": {},
   "source": [
    "* But often you want to have both each item in the list and its index without having to do ``list[idx]`` to get the item. The ``enumerate`` function helps in such cases.\n",
    "* ``enumerate(list)`` returns a list of tuples, where each item in the list consists of a pair where the first item is the index and second the item itself."
   ]
  },
  {
   "cell_type": "code",
   "execution_count": 128,
   "metadata": {
    "collapsed": false
   },
   "outputs": [
    {
     "data": {
      "text/plain": [
       "[(0, 'a'), (1, 'b'), (2, 'c'), (3, 'd')]"
      ]
     },
     "execution_count": 128,
     "metadata": {},
     "output_type": "execute_result"
    }
   ],
   "source": [
    "list(enumerate(slist))"
   ]
  },
  {
   "cell_type": "code",
   "execution_count": 132,
   "metadata": {
    "collapsed": false
   },
   "outputs": [
    {
     "data": {
      "text/plain": [
       "(0, 'a')"
      ]
     },
     "execution_count": 132,
     "metadata": {},
     "output_type": "execute_result"
    }
   ],
   "source": [
    "result = list(enumerate(slist))\n",
    "result[0]"
   ]
  },
  {
   "cell_type": "code",
   "execution_count": 35,
   "metadata": {
    "collapsed": false
   },
   "outputs": [
    {
     "name": "stdout",
     "output_type": "stream",
     "text": [
      "0 a\n",
      "1 b\n",
      "2 c\n",
      "3 d\n"
     ]
    }
   ],
   "source": [
    "for idx, item in enumerate(slist):\n",
    "    print(idx, item)"
   ]
  },
  {
   "cell_type": "markdown",
   "metadata": {},
   "source": [
    "### Back to the LexisNexus task\n",
    "\n",
    "* We can use the ``enumerate`` and ``for`` loop idiom to check how good our proposed strings are for splitting the document up into components.\n",
    "* For example, it looks like the string ``( END )`` could be a good marker of the end of the body. So we can test which documents contain it using the ``count`` function and testing whether we get at least one instance:"
   ]
  },
  {
   "cell_type": "code",
   "execution_count": 133,
   "metadata": {
    "collapsed": false
   },
   "outputs": [
    {
     "name": "stdout",
     "output_type": "stream",
     "text": [
      "Document 0 has ( END )? True\n",
      "Document 1 has ( END )? False\n",
      "Document 2 has ( END )? False\n",
      "Document 3 has ( END )? False\n",
      "Document 4 has ( END )? False\n",
      "Document 5 has ( END )? True\n",
      "Document 6 has ( END )? True\n",
      "Document 7 has ( END )? False\n",
      "Document 8 has ( END )? False\n",
      "Document 9 has ( END )? True\n",
      "Document 10 has ( END )? True\n",
      "Document 11 has ( END )? False\n",
      "Document 12 has ( END )? False\n",
      "Document 13 has ( END )? False\n",
      "Document 14 has ( END )? False\n",
      "Document 15 has ( END )? False\n",
      "Document 16 has ( END )? True\n",
      "Document 17 has ( END )? False\n",
      "Document 18 has ( END )? False\n",
      "Document 19 has ( END )? False\n",
      "Document 20 has ( END )? False\n",
      "Document 21 has ( END )? True\n",
      "Document 22 has ( END )? False\n",
      "Document 23 has ( END )? False\n",
      "Document 24 has ( END )? False\n",
      "Document 25 has ( END )? True\n",
      "Document 26 has ( END )? False\n",
      "Document 27 has ( END )? False\n",
      "Document 28 has ( END )? False\n",
      "Document 29 has ( END )? False\n",
      "Document 30 has ( END )? False\n",
      "Document 31 has ( END )? True\n",
      "Document 32 has ( END )? False\n",
      "Document 33 has ( END )? False\n",
      "Document 34 has ( END )? True\n",
      "Document 35 has ( END )? False\n",
      "Document 36 has ( END )? False\n",
      "Document 37 has ( END )? False\n",
      "Document 38 has ( END )? True\n",
      "Document 39 has ( END )? False\n",
      "Document 40 has ( END )? False\n",
      "Document 41 has ( END )? True\n",
      "Document 42 has ( END )? False\n",
      "Document 43 has ( END )? False\n",
      "Document 44 has ( END )? True\n",
      "Document 45 has ( END )? False\n",
      "Document 46 has ( END )? False\n",
      "Document 47 has ( END )? False\n",
      "Document 48 has ( END )? False\n",
      "Document 49 has ( END )? False\n",
      "Document 50 has ( END )? False\n",
      "Document 51 has ( END )? False\n",
      "Document 52 has ( END )? False\n",
      "Document 53 has ( END )? False\n",
      "Document 54 has ( END )? False\n",
      "Document 55 has ( END )? False\n",
      "Document 56 has ( END )? True\n",
      "Document 57 has ( END )? False\n",
      "Document 58 has ( END )? True\n",
      "Document 59 has ( END )? False\n",
      "Document 60 has ( END )? False\n",
      "Document 61 has ( END )? False\n",
      "Document 62 has ( END )? False\n",
      "Document 63 has ( END )? False\n",
      "Document 64 has ( END )? True\n",
      "Document 65 has ( END )? False\n",
      "Document 66 has ( END )? False\n",
      "Document 67 has ( END )? True\n",
      "Document 68 has ( END )? False\n",
      "Document 69 has ( END )? False\n",
      "Document 70 has ( END )? True\n",
      "Document 71 has ( END )? False\n",
      "Document 72 has ( END )? False\n",
      "Document 73 has ( END )? False\n",
      "Document 74 has ( END )? False\n",
      "Document 75 has ( END )? False\n",
      "Document 76 has ( END )? False\n",
      "Document 77 has ( END )? False\n",
      "Document 78 has ( END )? False\n",
      "Document 79 has ( END )? False\n",
      "Document 80 has ( END )? False\n",
      "Document 81 has ( END )? False\n",
      "Document 82 has ( END )? False\n",
      "Document 83 has ( END )? False\n",
      "Document 84 has ( END )? True\n",
      "Document 85 has ( END )? True\n",
      "Document 86 has ( END )? False\n",
      "Document 87 has ( END )? False\n",
      "Document 88 has ( END )? False\n",
      "Document 89 has ( END )? False\n",
      "Document 90 has ( END )? False\n",
      "Document 91 has ( END )? False\n",
      "Document 92 has ( END )? False\n",
      "Document 93 has ( END )? True\n",
      "Document 94 has ( END )? False\n",
      "Document 95 has ( END )? False\n",
      "Document 96 has ( END )? False\n",
      "Document 97 has ( END )? False\n",
      "Document 98 has ( END )? False\n",
      "Document 99 has ( END )? False\n",
      "Document 100 has ( END )? False\n",
      "Document 101 has ( END )? False\n",
      "Document 102 has ( END )? False\n",
      "Document 103 has ( END )? False\n",
      "Document 104 has ( END )? False\n",
      "Document 105 has ( END )? False\n",
      "Document 106 has ( END )? True\n",
      "Document 107 has ( END )? False\n",
      "Document 108 has ( END )? False\n",
      "Document 109 has ( END )? False\n",
      "Document 110 has ( END )? False\n",
      "Document 111 has ( END )? False\n",
      "Document 112 has ( END )? False\n",
      "Document 113 has ( END )? False\n",
      "Document 114 has ( END )? True\n",
      "Document 115 has ( END )? False\n",
      "Document 116 has ( END )? False\n",
      "Document 117 has ( END )? False\n",
      "Document 118 has ( END )? False\n",
      "Document 119 has ( END )? False\n",
      "Document 120 has ( END )? False\n",
      "Document 121 has ( END )? False\n",
      "Document 122 has ( END )? True\n",
      "Document 123 has ( END )? False\n",
      "Document 124 has ( END )? False\n",
      "Document 125 has ( END )? False\n",
      "Document 126 has ( END )? False\n",
      "Document 127 has ( END )? False\n",
      "Document 128 has ( END )? False\n",
      "Document 129 has ( END )? True\n",
      "Document 130 has ( END )? False\n",
      "Document 131 has ( END )? False\n",
      "Document 132 has ( END )? False\n",
      "Document 133 has ( END )? False\n",
      "Document 134 has ( END )? False\n",
      "Document 135 has ( END )? False\n",
      "Document 136 has ( END )? True\n",
      "Document 137 has ( END )? False\n",
      "Document 138 has ( END )? False\n",
      "Document 139 has ( END )? False\n",
      "Document 140 has ( END )? False\n",
      "Document 141 has ( END )? False\n",
      "Document 142 has ( END )? False\n",
      "Document 143 has ( END )? False\n",
      "Document 144 has ( END )? False\n",
      "Document 145 has ( END )? False\n",
      "Document 146 has ( END )? False\n",
      "Document 147 has ( END )? False\n",
      "Document 148 has ( END )? False\n",
      "Document 149 has ( END )? True\n",
      "Document 150 has ( END )? False\n",
      "Document 151 has ( END )? False\n",
      "Document 152 has ( END )? False\n",
      "Document 153 has ( END )? False\n",
      "Document 154 has ( END )? False\n",
      "Document 155 has ( END )? False\n",
      "Document 156 has ( END )? False\n",
      "Document 157 has ( END )? False\n",
      "Document 158 has ( END )? False\n",
      "Document 159 has ( END )? False\n",
      "Document 160 has ( END )? False\n",
      "Document 161 has ( END )? False\n",
      "Document 162 has ( END )? False\n",
      "Document 163 has ( END )? False\n",
      "Document 164 has ( END )? True\n",
      "Document 165 has ( END )? False\n",
      "Document 166 has ( END )? False\n",
      "Document 167 has ( END )? False\n",
      "Document 168 has ( END )? False\n",
      "Document 169 has ( END )? False\n",
      "Document 170 has ( END )? False\n",
      "Document 171 has ( END )? False\n",
      "Document 172 has ( END )? False\n",
      "Document 173 has ( END )? False\n",
      "Document 174 has ( END )? False\n",
      "Document 175 has ( END )? False\n",
      "Document 176 has ( END )? False\n",
      "Document 177 has ( END )? False\n",
      "Document 178 has ( END )? False\n",
      "Document 179 has ( END )? False\n",
      "Document 180 has ( END )? False\n",
      "Document 181 has ( END )? False\n",
      "Document 182 has ( END )? False\n",
      "Document 183 has ( END )? False\n",
      "Document 184 has ( END )? False\n",
      "Document 185 has ( END )? False\n",
      "Document 186 has ( END )? False\n",
      "Document 187 has ( END )? False\n",
      "Document 188 has ( END )? False\n",
      "Document 189 has ( END )? False\n",
      "Document 190 has ( END )? False\n",
      "Document 191 has ( END )? False\n",
      "Document 192 has ( END )? True\n",
      "Document 193 has ( END )? False\n",
      "Document 194 has ( END )? False\n",
      "Document 195 has ( END )? False\n",
      "Document 196 has ( END )? False\n",
      "Document 197 has ( END )? False\n",
      "Document 198 has ( END )? False\n",
      "Document 199 has ( END )? False\n",
      "Document 200 has ( END )? False\n",
      "Document 201 has ( END )? False\n",
      "Document 202 has ( END )? False\n",
      "Document 203 has ( END )? False\n",
      "Document 204 has ( END )? False\n",
      "Document 205 has ( END )? False\n",
      "Document 206 has ( END )? False\n",
      "Document 207 has ( END )? False\n",
      "Document 208 has ( END )? False\n",
      "Document 209 has ( END )? False\n",
      "Document 210 has ( END )? False\n",
      "Document 211 has ( END )? False\n",
      "Document 212 has ( END )? False\n",
      "Document 213 has ( END )? False\n",
      "Document 214 has ( END )? False\n",
      "Document 215 has ( END )? False\n",
      "Document 216 has ( END )? False\n",
      "Document 217 has ( END )? False\n",
      "Document 218 has ( END )? False\n",
      "Document 219 has ( END )? False\n",
      "Document 220 has ( END )? False\n",
      "Document 221 has ( END )? False\n",
      "Document 222 has ( END )? False\n",
      "Document 223 has ( END )? False\n",
      "Document 224 has ( END )? False\n",
      "Document 225 has ( END )? False\n",
      "Document 226 has ( END )? False\n",
      "Document 227 has ( END )? False\n",
      "Document 228 has ( END )? False\n",
      "Document 229 has ( END )? False\n",
      "Document 230 has ( END )? False\n",
      "Document 231 has ( END )? False\n",
      "Document 232 has ( END )? False\n",
      "Document 233 has ( END )? False\n",
      "Document 234 has ( END )? False\n",
      "Document 235 has ( END )? False\n",
      "Document 236 has ( END )? False\n",
      "Document 237 has ( END )? False\n",
      "Document 238 has ( END )? False\n",
      "Document 239 has ( END )? False\n",
      "Document 240 has ( END )? False\n",
      "Document 241 has ( END )? False\n",
      "Document 242 has ( END )? False\n",
      "Document 243 has ( END )? True\n",
      "Document 244 has ( END )? False\n",
      "Document 245 has ( END )? False\n",
      "Document 246 has ( END )? False\n",
      "Document 247 has ( END )? False\n",
      "Document 248 has ( END )? False\n",
      "Document 249 has ( END )? True\n",
      "Document 250 has ( END )? False\n",
      "Document 251 has ( END )? False\n",
      "Document 252 has ( END )? False\n",
      "Document 253 has ( END )? False\n",
      "Document 254 has ( END )? False\n",
      "Document 255 has ( END )? False\n",
      "Document 256 has ( END )? False\n",
      "Document 257 has ( END )? False\n",
      "Document 258 has ( END )? False\n",
      "Document 259 has ( END )? False\n",
      "Document 260 has ( END )? False\n",
      "Document 261 has ( END )? False\n",
      "Document 262 has ( END )? False\n",
      "Document 263 has ( END )? False\n",
      "Document 264 has ( END )? False\n",
      "Document 265 has ( END )? False\n",
      "Document 266 has ( END )? False\n",
      "Document 267 has ( END )? False\n",
      "Document 268 has ( END )? False\n",
      "Document 269 has ( END )? False\n",
      "Document 270 has ( END )? False\n",
      "Document 271 has ( END )? False\n",
      "Document 272 has ( END )? False\n",
      "Document 273 has ( END )? False\n",
      "Document 274 has ( END )? False\n",
      "Document 275 has ( END )? False\n",
      "Document 276 has ( END )? False\n",
      "Document 277 has ( END )? False\n",
      "Document 278 has ( END )? False\n",
      "Document 279 has ( END )? False\n",
      "Document 280 has ( END )? False\n",
      "Document 281 has ( END )? False\n",
      "Document 282 has ( END )? False\n",
      "Document 283 has ( END )? False\n",
      "Document 284 has ( END )? False\n",
      "Document 285 has ( END )? False\n",
      "Document 286 has ( END )? False\n",
      "Document 287 has ( END )? False\n",
      "Document 288 has ( END )? False\n",
      "Document 289 has ( END )? False\n",
      "Document 290 has ( END )? False\n",
      "Document 291 has ( END )? False\n",
      "Document 292 has ( END )? False\n",
      "Document 293 has ( END )? False\n",
      "Document 294 has ( END )? False\n",
      "Document 295 has ( END )? False\n",
      "Document 296 has ( END )? False\n",
      "Document 297 has ( END )? False\n",
      "Document 298 has ( END )? True\n",
      "Document 299 has ( END )? False\n",
      "Document 300 has ( END )? True\n",
      "Document 301 has ( END )? False\n",
      "Document 302 has ( END )? False\n",
      "Document 303 has ( END )? False\n",
      "Document 304 has ( END )? False\n",
      "Document 305 has ( END )? False\n",
      "Document 306 has ( END )? False\n",
      "Document 307 has ( END )? False\n",
      "Document 308 has ( END )? False\n",
      "Document 309 has ( END )? False\n",
      "Document 310 has ( END )? False\n",
      "Document 311 has ( END )? False\n",
      "Document 312 has ( END )? False\n",
      "Document 313 has ( END )? False\n",
      "Document 314 has ( END )? False\n",
      "Document 315 has ( END )? False\n",
      "Document 316 has ( END )? False\n",
      "Document 317 has ( END )? False\n",
      "Document 318 has ( END )? False\n",
      "Document 319 has ( END )? False\n",
      "Document 320 has ( END )? False\n",
      "Document 321 has ( END )? False\n",
      "Document 322 has ( END )? False\n",
      "Document 323 has ( END )? False\n",
      "Document 324 has ( END )? False\n",
      "Document 325 has ( END )? False\n",
      "Document 326 has ( END )? False\n",
      "Document 327 has ( END )? False\n",
      "Document 328 has ( END )? False\n",
      "Document 329 has ( END )? False\n",
      "Document 330 has ( END )? False\n",
      "Document 331 has ( END )? False\n",
      "Document 332 has ( END )? False\n",
      "Document 333 has ( END )? False\n",
      "Document 334 has ( END )? False\n",
      "Document 335 has ( END )? True\n",
      "Document 336 has ( END )? False\n",
      "Document 337 has ( END )? False\n",
      "Document 338 has ( END )? False\n",
      "Document 339 has ( END )? False\n",
      "Document 340 has ( END )? False\n",
      "Document 341 has ( END )? False\n",
      "Document 342 has ( END )? False\n",
      "Document 343 has ( END )? False\n",
      "Document 344 has ( END )? False\n",
      "Document 345 has ( END )? False\n",
      "Document 346 has ( END )? False\n",
      "Document 347 has ( END )? False\n",
      "Document 348 has ( END )? False\n",
      "Document 349 has ( END )? False\n",
      "Document 350 has ( END )? True\n",
      "Document 351 has ( END )? False\n",
      "Document 352 has ( END )? False\n",
      "Document 353 has ( END )? False\n",
      "Document 354 has ( END )? True\n",
      "Document 355 has ( END )? False\n",
      "Document 356 has ( END )? False\n",
      "Document 357 has ( END )? False\n",
      "Document 358 has ( END )? False\n",
      "Document 359 has ( END )? False\n",
      "Document 360 has ( END )? False\n",
      "Document 361 has ( END )? False\n",
      "Document 362 has ( END )? False\n",
      "Document 363 has ( END )? False\n",
      "Document 364 has ( END )? False\n",
      "Document 365 has ( END )? False\n",
      "Document 366 has ( END )? False\n",
      "Document 367 has ( END )? False\n",
      "Document 368 has ( END )? False\n",
      "Document 369 has ( END )? False\n",
      "Document 370 has ( END )? False\n",
      "Document 371 has ( END )? False\n",
      "Document 372 has ( END )? False\n",
      "Document 373 has ( END )? False\n",
      "Document 374 has ( END )? False\n",
      "Document 375 has ( END )? False\n",
      "Document 376 has ( END )? False\n",
      "Document 377 has ( END )? False\n",
      "Document 378 has ( END )? False\n",
      "Document 379 has ( END )? False\n",
      "Document 380 has ( END )? False\n",
      "Document 381 has ( END )? False\n",
      "Document 382 has ( END )? False\n",
      "Document 383 has ( END )? False\n",
      "Document 384 has ( END )? False\n",
      "Document 385 has ( END )? False\n",
      "Document 386 has ( END )? False\n",
      "Document 387 has ( END )? False\n",
      "Document 388 has ( END )? False\n",
      "Document 389 has ( END )? False\n",
      "Document 390 has ( END )? False\n",
      "Document 391 has ( END )? True\n",
      "Document 392 has ( END )? False\n",
      "Document 393 has ( END )? False\n",
      "Document 394 has ( END )? False\n",
      "Document 395 has ( END )? False\n",
      "Document 396 has ( END )? False\n",
      "Document 397 has ( END )? False\n",
      "Document 398 has ( END )? False\n",
      "Document 399 has ( END )? False\n",
      "Document 400 has ( END )? False\n",
      "Document 401 has ( END )? False\n",
      "Document 402 has ( END )? False\n",
      "Document 403 has ( END )? False\n",
      "Document 404 has ( END )? False\n",
      "Document 405 has ( END )? False\n",
      "Document 406 has ( END )? False\n",
      "Document 407 has ( END )? False\n",
      "Document 408 has ( END )? True\n",
      "Document 409 has ( END )? False\n",
      "Document 410 has ( END )? False\n",
      "Document 411 has ( END )? False\n",
      "Document 412 has ( END )? False\n",
      "Document 413 has ( END )? False\n",
      "Document 414 has ( END )? False\n",
      "Document 415 has ( END )? False\n",
      "Document 416 has ( END )? False\n",
      "Document 417 has ( END )? False\n",
      "Document 418 has ( END )? False\n",
      "Document 419 has ( END )? False\n",
      "Document 420 has ( END )? False\n",
      "Document 421 has ( END )? False\n",
      "Document 422 has ( END )? False\n",
      "Document 423 has ( END )? False\n",
      "Document 424 has ( END )? False\n",
      "Document 425 has ( END )? False\n",
      "Document 426 has ( END )? False\n",
      "Document 427 has ( END )? True\n",
      "Document 428 has ( END )? False\n",
      "Document 429 has ( END )? False\n",
      "Document 430 has ( END )? False\n",
      "Document 431 has ( END )? False\n",
      "Document 432 has ( END )? False\n",
      "Document 433 has ( END )? True\n",
      "Document 434 has ( END )? False\n",
      "Document 435 has ( END )? False\n",
      "Document 436 has ( END )? False\n",
      "Document 437 has ( END )? False\n",
      "Document 438 has ( END )? False\n",
      "Document 439 has ( END )? False\n",
      "Document 440 has ( END )? False\n",
      "Document 441 has ( END )? False\n",
      "Document 442 has ( END )? False\n",
      "Document 443 has ( END )? False\n",
      "Document 444 has ( END )? False\n",
      "Document 445 has ( END )? False\n",
      "Document 446 has ( END )? False\n",
      "Document 447 has ( END )? False\n",
      "Document 448 has ( END )? False\n",
      "Document 449 has ( END )? False\n",
      "Document 450 has ( END )? False\n",
      "Document 451 has ( END )? False\n",
      "Document 452 has ( END )? False\n",
      "Document 453 has ( END )? False\n",
      "Document 454 has ( END )? False\n",
      "Document 455 has ( END )? False\n",
      "Document 456 has ( END )? False\n",
      "Document 457 has ( END )? False\n",
      "Document 458 has ( END )? False\n",
      "Document 459 has ( END )? False\n",
      "Document 460 has ( END )? False\n",
      "Document 461 has ( END )? True\n",
      "Document 462 has ( END )? False\n",
      "Document 463 has ( END )? False\n",
      "Document 464 has ( END )? False\n",
      "Document 465 has ( END )? False\n",
      "Document 466 has ( END )? False\n",
      "Document 467 has ( END )? False\n",
      "Document 468 has ( END )? True\n",
      "Document 469 has ( END )? False\n",
      "Document 470 has ( END )? False\n",
      "Document 471 has ( END )? False\n",
      "Document 472 has ( END )? False\n",
      "Document 473 has ( END )? False\n",
      "Document 474 has ( END )? True\n",
      "Document 475 has ( END )? False\n",
      "Document 476 has ( END )? False\n",
      "Document 477 has ( END )? False\n",
      "Document 478 has ( END )? False\n",
      "Document 479 has ( END )? False\n",
      "Document 480 has ( END )? False\n",
      "Document 481 has ( END )? False\n",
      "Document 482 has ( END )? False\n",
      "Document 483 has ( END )? False\n",
      "Document 484 has ( END )? False\n",
      "Document 485 has ( END )? False\n",
      "Document 486 has ( END )? False\n",
      "Document 487 has ( END )? False\n",
      "Document 488 has ( END )? False\n",
      "Document 489 has ( END )? False\n",
      "Document 490 has ( END )? False\n",
      "Document 491 has ( END )? False\n",
      "Document 492 has ( END )? False\n",
      "Document 493 has ( END )? False\n",
      "Document 494 has ( END )? False\n",
      "Document 495 has ( END )? False\n",
      "Document 496 has ( END )? False\n",
      "Document 497 has ( END )? False\n",
      "Document 498 has ( END )? False\n"
     ]
    }
   ],
   "source": [
    "for idx, doc in enumerate(docs):\n",
    "    print('Document', idx, 'has ( END )?', doc.count('( END )') > 0)"
   ]
  },
  {
   "cell_type": "markdown",
   "metadata": {},
   "source": [
    "* ** AH! ** - actually doesn't look like a great candidate for splitting a document in to body and post body sections.\n",
    "* A second look at some sample documents suggests we might be able to use ``LOAD-DATE`` instead."
   ]
  },
  {
   "cell_type": "code",
   "execution_count": 40,
   "metadata": {
    "collapsed": false
   },
   "outputs": [
    {
     "name": "stdout",
     "output_type": "stream",
     "text": [
      "Document 0 has LOAD-DATE? True\n",
      "Document 1 has LOAD-DATE? True\n",
      "Document 2 has LOAD-DATE? True\n",
      "Document 3 has LOAD-DATE? True\n",
      "Document 4 has LOAD-DATE? True\n",
      "Document 5 has LOAD-DATE? True\n",
      "Document 6 has LOAD-DATE? True\n",
      "Document 7 has LOAD-DATE? True\n",
      "Document 8 has LOAD-DATE? True\n",
      "Document 9 has LOAD-DATE? True\n",
      "Document 10 has LOAD-DATE? True\n",
      "Document 11 has LOAD-DATE? True\n",
      "Document 12 has LOAD-DATE? True\n",
      "Document 13 has LOAD-DATE? True\n",
      "Document 14 has LOAD-DATE? True\n",
      "Document 15 has LOAD-DATE? True\n",
      "Document 16 has LOAD-DATE? True\n",
      "Document 17 has LOAD-DATE? True\n",
      "Document 18 has LOAD-DATE? True\n",
      "Document 19 has LOAD-DATE? True\n",
      "Document 20 has LOAD-DATE? True\n",
      "Document 21 has LOAD-DATE? True\n",
      "Document 22 has LOAD-DATE? True\n",
      "Document 23 has LOAD-DATE? True\n",
      "Document 24 has LOAD-DATE? True\n",
      "Document 25 has LOAD-DATE? True\n",
      "Document 26 has LOAD-DATE? True\n",
      "Document 27 has LOAD-DATE? True\n",
      "Document 28 has LOAD-DATE? True\n",
      "Document 29 has LOAD-DATE? True\n",
      "Document 30 has LOAD-DATE? True\n",
      "Document 31 has LOAD-DATE? True\n",
      "Document 32 has LOAD-DATE? True\n",
      "Document 33 has LOAD-DATE? True\n",
      "Document 34 has LOAD-DATE? True\n",
      "Document 35 has LOAD-DATE? True\n",
      "Document 36 has LOAD-DATE? True\n",
      "Document 37 has LOAD-DATE? True\n",
      "Document 38 has LOAD-DATE? True\n",
      "Document 39 has LOAD-DATE? True\n",
      "Document 40 has LOAD-DATE? True\n",
      "Document 41 has LOAD-DATE? True\n",
      "Document 42 has LOAD-DATE? True\n",
      "Document 43 has LOAD-DATE? True\n",
      "Document 44 has LOAD-DATE? True\n",
      "Document 45 has LOAD-DATE? True\n",
      "Document 46 has LOAD-DATE? True\n",
      "Document 47 has LOAD-DATE? True\n",
      "Document 48 has LOAD-DATE? True\n",
      "Document 49 has LOAD-DATE? True\n",
      "Document 50 has LOAD-DATE? True\n",
      "Document 51 has LOAD-DATE? True\n",
      "Document 52 has LOAD-DATE? True\n",
      "Document 53 has LOAD-DATE? True\n",
      "Document 54 has LOAD-DATE? True\n",
      "Document 55 has LOAD-DATE? True\n",
      "Document 56 has LOAD-DATE? True\n",
      "Document 57 has LOAD-DATE? True\n",
      "Document 58 has LOAD-DATE? True\n",
      "Document 59 has LOAD-DATE? True\n",
      "Document 60 has LOAD-DATE? True\n",
      "Document 61 has LOAD-DATE? True\n",
      "Document 62 has LOAD-DATE? True\n",
      "Document 63 has LOAD-DATE? True\n",
      "Document 64 has LOAD-DATE? True\n",
      "Document 65 has LOAD-DATE? True\n",
      "Document 66 has LOAD-DATE? True\n",
      "Document 67 has LOAD-DATE? True\n",
      "Document 68 has LOAD-DATE? True\n",
      "Document 69 has LOAD-DATE? True\n",
      "Document 70 has LOAD-DATE? True\n",
      "Document 71 has LOAD-DATE? True\n",
      "Document 72 has LOAD-DATE? True\n",
      "Document 73 has LOAD-DATE? True\n",
      "Document 74 has LOAD-DATE? True\n",
      "Document 75 has LOAD-DATE? True\n",
      "Document 76 has LOAD-DATE? True\n",
      "Document 77 has LOAD-DATE? True\n",
      "Document 78 has LOAD-DATE? True\n",
      "Document 79 has LOAD-DATE? True\n",
      "Document 80 has LOAD-DATE? True\n",
      "Document 81 has LOAD-DATE? True\n",
      "Document 82 has LOAD-DATE? True\n",
      "Document 83 has LOAD-DATE? True\n",
      "Document 84 has LOAD-DATE? True\n",
      "Document 85 has LOAD-DATE? True\n",
      "Document 86 has LOAD-DATE? True\n",
      "Document 87 has LOAD-DATE? True\n",
      "Document 88 has LOAD-DATE? True\n",
      "Document 89 has LOAD-DATE? True\n",
      "Document 90 has LOAD-DATE? True\n",
      "Document 91 has LOAD-DATE? True\n",
      "Document 92 has LOAD-DATE? True\n",
      "Document 93 has LOAD-DATE? True\n",
      "Document 94 has LOAD-DATE? True\n",
      "Document 95 has LOAD-DATE? True\n",
      "Document 96 has LOAD-DATE? True\n",
      "Document 97 has LOAD-DATE? True\n",
      "Document 98 has LOAD-DATE? True\n",
      "Document 99 has LOAD-DATE? True\n",
      "Document 100 has LOAD-DATE? True\n",
      "Document 101 has LOAD-DATE? True\n",
      "Document 102 has LOAD-DATE? True\n",
      "Document 103 has LOAD-DATE? True\n",
      "Document 104 has LOAD-DATE? True\n",
      "Document 105 has LOAD-DATE? True\n",
      "Document 106 has LOAD-DATE? True\n",
      "Document 107 has LOAD-DATE? True\n",
      "Document 108 has LOAD-DATE? True\n",
      "Document 109 has LOAD-DATE? True\n",
      "Document 110 has LOAD-DATE? True\n",
      "Document 111 has LOAD-DATE? True\n",
      "Document 112 has LOAD-DATE? True\n",
      "Document 113 has LOAD-DATE? True\n",
      "Document 114 has LOAD-DATE? True\n",
      "Document 115 has LOAD-DATE? True\n",
      "Document 116 has LOAD-DATE? True\n",
      "Document 117 has LOAD-DATE? True\n",
      "Document 118 has LOAD-DATE? True\n",
      "Document 119 has LOAD-DATE? True\n",
      "Document 120 has LOAD-DATE? True\n",
      "Document 121 has LOAD-DATE? True\n",
      "Document 122 has LOAD-DATE? True\n",
      "Document 123 has LOAD-DATE? True\n",
      "Document 124 has LOAD-DATE? True\n",
      "Document 125 has LOAD-DATE? True\n",
      "Document 126 has LOAD-DATE? True\n",
      "Document 127 has LOAD-DATE? True\n",
      "Document 128 has LOAD-DATE? True\n",
      "Document 129 has LOAD-DATE? True\n",
      "Document 130 has LOAD-DATE? True\n",
      "Document 131 has LOAD-DATE? True\n",
      "Document 132 has LOAD-DATE? True\n",
      "Document 133 has LOAD-DATE? True\n",
      "Document 134 has LOAD-DATE? True\n",
      "Document 135 has LOAD-DATE? True\n",
      "Document 136 has LOAD-DATE? True\n",
      "Document 137 has LOAD-DATE? True\n",
      "Document 138 has LOAD-DATE? True\n",
      "Document 139 has LOAD-DATE? True\n",
      "Document 140 has LOAD-DATE? True\n",
      "Document 141 has LOAD-DATE? True\n",
      "Document 142 has LOAD-DATE? True\n",
      "Document 143 has LOAD-DATE? True\n",
      "Document 144 has LOAD-DATE? True\n",
      "Document 145 has LOAD-DATE? True\n",
      "Document 146 has LOAD-DATE? True\n",
      "Document 147 has LOAD-DATE? True\n",
      "Document 148 has LOAD-DATE? True\n",
      "Document 149 has LOAD-DATE? True\n",
      "Document 150 has LOAD-DATE? True\n",
      "Document 151 has LOAD-DATE? True\n",
      "Document 152 has LOAD-DATE? True\n",
      "Document 153 has LOAD-DATE? True\n",
      "Document 154 has LOAD-DATE? True\n",
      "Document 155 has LOAD-DATE? True\n",
      "Document 156 has LOAD-DATE? True\n",
      "Document 157 has LOAD-DATE? True\n",
      "Document 158 has LOAD-DATE? True\n",
      "Document 159 has LOAD-DATE? True\n",
      "Document 160 has LOAD-DATE? True\n",
      "Document 161 has LOAD-DATE? True\n",
      "Document 162 has LOAD-DATE? True\n",
      "Document 163 has LOAD-DATE? True\n",
      "Document 164 has LOAD-DATE? True\n",
      "Document 165 has LOAD-DATE? True\n",
      "Document 166 has LOAD-DATE? True\n",
      "Document 167 has LOAD-DATE? True\n",
      "Document 168 has LOAD-DATE? True\n",
      "Document 169 has LOAD-DATE? True\n",
      "Document 170 has LOAD-DATE? True\n",
      "Document 171 has LOAD-DATE? True\n",
      "Document 172 has LOAD-DATE? True\n",
      "Document 173 has LOAD-DATE? True\n",
      "Document 174 has LOAD-DATE? True\n",
      "Document 175 has LOAD-DATE? True\n",
      "Document 176 has LOAD-DATE? True\n",
      "Document 177 has LOAD-DATE? True\n",
      "Document 178 has LOAD-DATE? True\n",
      "Document 179 has LOAD-DATE? True\n",
      "Document 180 has LOAD-DATE? True\n",
      "Document 181 has LOAD-DATE? True\n",
      "Document 182 has LOAD-DATE? True\n",
      "Document 183 has LOAD-DATE? True\n",
      "Document 184 has LOAD-DATE? True\n",
      "Document 185 has LOAD-DATE? True\n",
      "Document 186 has LOAD-DATE? True\n",
      "Document 187 has LOAD-DATE? True\n",
      "Document 188 has LOAD-DATE? True\n",
      "Document 189 has LOAD-DATE? True\n",
      "Document 190 has LOAD-DATE? True\n",
      "Document 191 has LOAD-DATE? True\n",
      "Document 192 has LOAD-DATE? True\n",
      "Document 193 has LOAD-DATE? True\n",
      "Document 194 has LOAD-DATE? True\n",
      "Document 195 has LOAD-DATE? True\n",
      "Document 196 has LOAD-DATE? True\n",
      "Document 197 has LOAD-DATE? True\n",
      "Document 198 has LOAD-DATE? True\n",
      "Document 199 has LOAD-DATE? True\n",
      "Document 200 has LOAD-DATE? True\n",
      "Document 201 has LOAD-DATE? True\n",
      "Document 202 has LOAD-DATE? True\n",
      "Document 203 has LOAD-DATE? True\n",
      "Document 204 has LOAD-DATE? True\n",
      "Document 205 has LOAD-DATE? True\n",
      "Document 206 has LOAD-DATE? True\n",
      "Document 207 has LOAD-DATE? True\n",
      "Document 208 has LOAD-DATE? True\n",
      "Document 209 has LOAD-DATE? True\n",
      "Document 210 has LOAD-DATE? True\n",
      "Document 211 has LOAD-DATE? True\n",
      "Document 212 has LOAD-DATE? True\n",
      "Document 213 has LOAD-DATE? True\n",
      "Document 214 has LOAD-DATE? True\n",
      "Document 215 has LOAD-DATE? True\n",
      "Document 216 has LOAD-DATE? True\n",
      "Document 217 has LOAD-DATE? True\n",
      "Document 218 has LOAD-DATE? True\n",
      "Document 219 has LOAD-DATE? True\n",
      "Document 220 has LOAD-DATE? True\n",
      "Document 221 has LOAD-DATE? True\n",
      "Document 222 has LOAD-DATE? True\n",
      "Document 223 has LOAD-DATE? True\n",
      "Document 224 has LOAD-DATE? True\n",
      "Document 225 has LOAD-DATE? True\n",
      "Document 226 has LOAD-DATE? True\n",
      "Document 227 has LOAD-DATE? True\n",
      "Document 228 has LOAD-DATE? True\n",
      "Document 229 has LOAD-DATE? True\n",
      "Document 230 has LOAD-DATE? True\n",
      "Document 231 has LOAD-DATE? True\n",
      "Document 232 has LOAD-DATE? True\n",
      "Document 233 has LOAD-DATE? True\n",
      "Document 234 has LOAD-DATE? True\n",
      "Document 235 has LOAD-DATE? True\n",
      "Document 236 has LOAD-DATE? True\n",
      "Document 237 has LOAD-DATE? True\n",
      "Document 238 has LOAD-DATE? True\n",
      "Document 239 has LOAD-DATE? True\n",
      "Document 240 has LOAD-DATE? True\n",
      "Document 241 has LOAD-DATE? True\n",
      "Document 242 has LOAD-DATE? True\n",
      "Document 243 has LOAD-DATE? True\n",
      "Document 244 has LOAD-DATE? True\n",
      "Document 245 has LOAD-DATE? True\n",
      "Document 246 has LOAD-DATE? True\n",
      "Document 247 has LOAD-DATE? True\n",
      "Document 248 has LOAD-DATE? True\n",
      "Document 249 has LOAD-DATE? True\n",
      "Document 250 has LOAD-DATE? True\n",
      "Document 251 has LOAD-DATE? True\n",
      "Document 252 has LOAD-DATE? True\n",
      "Document 253 has LOAD-DATE? True\n",
      "Document 254 has LOAD-DATE? True\n",
      "Document 255 has LOAD-DATE? True\n",
      "Document 256 has LOAD-DATE? True\n",
      "Document 257 has LOAD-DATE? True\n",
      "Document 258 has LOAD-DATE? True\n",
      "Document 259 has LOAD-DATE? True\n",
      "Document 260 has LOAD-DATE? True\n",
      "Document 261 has LOAD-DATE? True\n",
      "Document 262 has LOAD-DATE? True\n",
      "Document 263 has LOAD-DATE? True\n",
      "Document 264 has LOAD-DATE? True\n",
      "Document 265 has LOAD-DATE? True\n",
      "Document 266 has LOAD-DATE? True\n",
      "Document 267 has LOAD-DATE? True\n",
      "Document 268 has LOAD-DATE? True\n",
      "Document 269 has LOAD-DATE? True\n",
      "Document 270 has LOAD-DATE? True\n",
      "Document 271 has LOAD-DATE? True\n",
      "Document 272 has LOAD-DATE? True\n",
      "Document 273 has LOAD-DATE? True\n",
      "Document 274 has LOAD-DATE? True\n",
      "Document 275 has LOAD-DATE? True\n",
      "Document 276 has LOAD-DATE? True\n",
      "Document 277 has LOAD-DATE? True\n",
      "Document 278 has LOAD-DATE? True\n",
      "Document 279 has LOAD-DATE? True\n",
      "Document 280 has LOAD-DATE? True\n",
      "Document 281 has LOAD-DATE? True\n",
      "Document 282 has LOAD-DATE? True\n",
      "Document 283 has LOAD-DATE? True\n",
      "Document 284 has LOAD-DATE? True\n",
      "Document 285 has LOAD-DATE? True\n",
      "Document 286 has LOAD-DATE? True\n",
      "Document 287 has LOAD-DATE? True\n",
      "Document 288 has LOAD-DATE? True\n",
      "Document 289 has LOAD-DATE? True\n",
      "Document 290 has LOAD-DATE? True\n",
      "Document 291 has LOAD-DATE? True\n",
      "Document 292 has LOAD-DATE? True\n",
      "Document 293 has LOAD-DATE? True\n",
      "Document 294 has LOAD-DATE? True\n",
      "Document 295 has LOAD-DATE? True\n",
      "Document 296 has LOAD-DATE? True\n",
      "Document 297 has LOAD-DATE? True\n",
      "Document 298 has LOAD-DATE? True\n",
      "Document 299 has LOAD-DATE? True\n",
      "Document 300 has LOAD-DATE? True\n",
      "Document 301 has LOAD-DATE? True\n",
      "Document 302 has LOAD-DATE? True\n",
      "Document 303 has LOAD-DATE? True\n",
      "Document 304 has LOAD-DATE? True\n",
      "Document 305 has LOAD-DATE? True\n",
      "Document 306 has LOAD-DATE? True\n",
      "Document 307 has LOAD-DATE? True\n",
      "Document 308 has LOAD-DATE? True\n",
      "Document 309 has LOAD-DATE? True\n",
      "Document 310 has LOAD-DATE? True\n",
      "Document 311 has LOAD-DATE? True\n",
      "Document 312 has LOAD-DATE? True\n",
      "Document 313 has LOAD-DATE? True\n",
      "Document 314 has LOAD-DATE? True\n",
      "Document 315 has LOAD-DATE? True\n",
      "Document 316 has LOAD-DATE? True\n",
      "Document 317 has LOAD-DATE? True\n",
      "Document 318 has LOAD-DATE? True\n",
      "Document 319 has LOAD-DATE? True\n",
      "Document 320 has LOAD-DATE? True\n",
      "Document 321 has LOAD-DATE? True\n",
      "Document 322 has LOAD-DATE? True\n",
      "Document 323 has LOAD-DATE? True\n",
      "Document 324 has LOAD-DATE? True\n",
      "Document 325 has LOAD-DATE? True\n",
      "Document 326 has LOAD-DATE? True\n",
      "Document 327 has LOAD-DATE? True\n",
      "Document 328 has LOAD-DATE? True\n",
      "Document 329 has LOAD-DATE? True\n",
      "Document 330 has LOAD-DATE? True\n",
      "Document 331 has LOAD-DATE? True\n",
      "Document 332 has LOAD-DATE? True\n",
      "Document 333 has LOAD-DATE? True\n",
      "Document 334 has LOAD-DATE? True\n",
      "Document 335 has LOAD-DATE? True\n",
      "Document 336 has LOAD-DATE? True\n",
      "Document 337 has LOAD-DATE? True\n",
      "Document 338 has LOAD-DATE? True\n",
      "Document 339 has LOAD-DATE? True\n",
      "Document 340 has LOAD-DATE? True\n",
      "Document 341 has LOAD-DATE? True\n",
      "Document 342 has LOAD-DATE? True\n",
      "Document 343 has LOAD-DATE? True\n",
      "Document 344 has LOAD-DATE? True\n",
      "Document 345 has LOAD-DATE? True\n",
      "Document 346 has LOAD-DATE? True\n",
      "Document 347 has LOAD-DATE? True\n",
      "Document 348 has LOAD-DATE? True\n",
      "Document 349 has LOAD-DATE? True\n",
      "Document 350 has LOAD-DATE? True\n",
      "Document 351 has LOAD-DATE? True\n",
      "Document 352 has LOAD-DATE? True\n",
      "Document 353 has LOAD-DATE? True\n",
      "Document 354 has LOAD-DATE? True\n",
      "Document 355 has LOAD-DATE? True\n",
      "Document 356 has LOAD-DATE? True\n",
      "Document 357 has LOAD-DATE? True\n",
      "Document 358 has LOAD-DATE? True\n",
      "Document 359 has LOAD-DATE? True\n",
      "Document 360 has LOAD-DATE? True\n",
      "Document 361 has LOAD-DATE? True\n",
      "Document 362 has LOAD-DATE? True\n",
      "Document 363 has LOAD-DATE? True\n",
      "Document 364 has LOAD-DATE? True\n",
      "Document 365 has LOAD-DATE? True\n",
      "Document 366 has LOAD-DATE? True\n",
      "Document 367 has LOAD-DATE? True\n",
      "Document 368 has LOAD-DATE? True\n",
      "Document 369 has LOAD-DATE? True\n",
      "Document 370 has LOAD-DATE? True\n",
      "Document 371 has LOAD-DATE? True\n",
      "Document 372 has LOAD-DATE? True\n",
      "Document 373 has LOAD-DATE? True\n",
      "Document 374 has LOAD-DATE? True\n",
      "Document 375 has LOAD-DATE? True\n",
      "Document 376 has LOAD-DATE? True\n",
      "Document 377 has LOAD-DATE? True\n",
      "Document 378 has LOAD-DATE? True\n",
      "Document 379 has LOAD-DATE? True\n",
      "Document 380 has LOAD-DATE? True\n",
      "Document 381 has LOAD-DATE? True\n",
      "Document 382 has LOAD-DATE? True\n",
      "Document 383 has LOAD-DATE? True\n",
      "Document 384 has LOAD-DATE? True\n",
      "Document 385 has LOAD-DATE? True\n",
      "Document 386 has LOAD-DATE? True\n",
      "Document 387 has LOAD-DATE? True\n",
      "Document 388 has LOAD-DATE? True\n",
      "Document 389 has LOAD-DATE? True\n",
      "Document 390 has LOAD-DATE? True\n",
      "Document 391 has LOAD-DATE? True\n",
      "Document 392 has LOAD-DATE? True\n",
      "Document 393 has LOAD-DATE? True\n",
      "Document 394 has LOAD-DATE? True\n",
      "Document 395 has LOAD-DATE? True\n",
      "Document 396 has LOAD-DATE? True\n",
      "Document 397 has LOAD-DATE? True\n",
      "Document 398 has LOAD-DATE? True\n",
      "Document 399 has LOAD-DATE? True\n",
      "Document 400 has LOAD-DATE? True\n",
      "Document 401 has LOAD-DATE? True\n",
      "Document 402 has LOAD-DATE? True\n",
      "Document 403 has LOAD-DATE? True\n",
      "Document 404 has LOAD-DATE? True\n",
      "Document 405 has LOAD-DATE? True\n",
      "Document 406 has LOAD-DATE? True\n",
      "Document 407 has LOAD-DATE? True\n",
      "Document 408 has LOAD-DATE? True\n",
      "Document 409 has LOAD-DATE? True\n",
      "Document 410 has LOAD-DATE? True\n",
      "Document 411 has LOAD-DATE? True\n",
      "Document 412 has LOAD-DATE? True\n",
      "Document 413 has LOAD-DATE? True\n",
      "Document 414 has LOAD-DATE? True\n",
      "Document 415 has LOAD-DATE? True\n",
      "Document 416 has LOAD-DATE? True\n",
      "Document 417 has LOAD-DATE? True\n",
      "Document 418 has LOAD-DATE? True\n",
      "Document 419 has LOAD-DATE? True\n",
      "Document 420 has LOAD-DATE? True\n",
      "Document 421 has LOAD-DATE? True\n",
      "Document 422 has LOAD-DATE? True\n",
      "Document 423 has LOAD-DATE? True\n",
      "Document 424 has LOAD-DATE? True\n",
      "Document 425 has LOAD-DATE? True\n",
      "Document 426 has LOAD-DATE? True\n",
      "Document 427 has LOAD-DATE? True\n",
      "Document 428 has LOAD-DATE? True\n",
      "Document 429 has LOAD-DATE? True\n",
      "Document 430 has LOAD-DATE? True\n",
      "Document 431 has LOAD-DATE? True\n",
      "Document 432 has LOAD-DATE? True\n",
      "Document 433 has LOAD-DATE? True\n",
      "Document 434 has LOAD-DATE? True\n",
      "Document 435 has LOAD-DATE? True\n",
      "Document 436 has LOAD-DATE? True\n",
      "Document 437 has LOAD-DATE? True\n",
      "Document 438 has LOAD-DATE? True\n",
      "Document 439 has LOAD-DATE? True\n",
      "Document 440 has LOAD-DATE? True\n",
      "Document 441 has LOAD-DATE? True\n",
      "Document 442 has LOAD-DATE? True\n",
      "Document 443 has LOAD-DATE? True\n",
      "Document 444 has LOAD-DATE? True\n",
      "Document 445 has LOAD-DATE? True\n",
      "Document 446 has LOAD-DATE? True\n",
      "Document 447 has LOAD-DATE? True\n",
      "Document 448 has LOAD-DATE? True\n",
      "Document 449 has LOAD-DATE? True\n",
      "Document 450 has LOAD-DATE? True\n",
      "Document 451 has LOAD-DATE? True\n",
      "Document 452 has LOAD-DATE? True\n",
      "Document 453 has LOAD-DATE? True\n",
      "Document 454 has LOAD-DATE? True\n",
      "Document 455 has LOAD-DATE? True\n",
      "Document 456 has LOAD-DATE? True\n",
      "Document 457 has LOAD-DATE? True\n",
      "Document 458 has LOAD-DATE? True\n",
      "Document 459 has LOAD-DATE? True\n",
      "Document 460 has LOAD-DATE? True\n",
      "Document 461 has LOAD-DATE? True\n",
      "Document 462 has LOAD-DATE? True\n",
      "Document 463 has LOAD-DATE? True\n",
      "Document 464 has LOAD-DATE? True\n",
      "Document 465 has LOAD-DATE? True\n",
      "Document 466 has LOAD-DATE? True\n",
      "Document 467 has LOAD-DATE? True\n",
      "Document 468 has LOAD-DATE? True\n",
      "Document 469 has LOAD-DATE? True\n",
      "Document 470 has LOAD-DATE? True\n",
      "Document 471 has LOAD-DATE? True\n",
      "Document 472 has LOAD-DATE? True\n",
      "Document 473 has LOAD-DATE? True\n",
      "Document 474 has LOAD-DATE? True\n",
      "Document 475 has LOAD-DATE? True\n",
      "Document 476 has LOAD-DATE? True\n",
      "Document 477 has LOAD-DATE? True\n",
      "Document 478 has LOAD-DATE? True\n",
      "Document 479 has LOAD-DATE? True\n",
      "Document 480 has LOAD-DATE? True\n",
      "Document 481 has LOAD-DATE? True\n",
      "Document 482 has LOAD-DATE? True\n",
      "Document 483 has LOAD-DATE? True\n",
      "Document 484 has LOAD-DATE? True\n",
      "Document 485 has LOAD-DATE? True\n",
      "Document 486 has LOAD-DATE? True\n",
      "Document 487 has LOAD-DATE? True\n",
      "Document 488 has LOAD-DATE? True\n",
      "Document 489 has LOAD-DATE? True\n",
      "Document 490 has LOAD-DATE? True\n",
      "Document 491 has LOAD-DATE? True\n",
      "Document 492 has LOAD-DATE? True\n",
      "Document 493 has LOAD-DATE? True\n",
      "Document 494 has LOAD-DATE? True\n",
      "Document 495 has LOAD-DATE? True\n",
      "Document 496 has LOAD-DATE? True\n",
      "Document 497 has LOAD-DATE? True\n",
      "Document 498 has LOAD-DATE? True\n"
     ]
    }
   ],
   "source": [
    "for idx, doc in enumerate(docs):\n",
    "    print('Document', idx, 'has LOAD-DATE?', doc.count('LOAD-DATE:') > 0)"
   ]
  },
  {
   "cell_type": "markdown",
   "metadata": {
    "collapsed": false
   },
   "source": [
    "* We can use list interpolation to get a count of the number of documents that contain a feature"
   ]
  },
  {
   "cell_type": "code",
   "execution_count": 143,
   "metadata": {
    "collapsed": false
   },
   "outputs": [
    {
     "name": "stdout",
     "output_type": "stream",
     "text": [
      "43 documents with ( END ) out of  499 docs\n"
     ]
    }
   ],
   "source": [
    "has_end = sum([doc.count('( END )')>0 for doc in docs])\n",
    "print(has_end, 'documents with ( END ) out of ', len(docs), 'docs')"
   ]
  },
  {
   "cell_type": "code",
   "execution_count": 145,
   "metadata": {
    "collapsed": false
   },
   "outputs": [
    {
     "name": "stdout",
     "output_type": "stream",
     "text": [
      "499 documents with LOAD-DATE out of  499 docs\n"
     ]
    }
   ],
   "source": [
    "has_load_date = sum([doc.count('LOAD-DATE:')>0 for doc in docs])\n",
    "print(has_load_date, 'documents with LOAD-DATE out of ', len(docs), 'docs')"
   ]
  },
  {
   "cell_type": "markdown",
   "metadata": {},
   "source": [
    "#### Now we have a set of string markers and a strategy for splitting documents up:  \n",
    "    \n",
    "    \n",
    "* for each document\n",
    "    1. split into three parts\n",
    "        * prebody = text up to LENGTH xxx words\n",
    "        * body = text from LENGTH to before LOAD-DATE\n",
    "        * postbody = LOAD-DATE to the end"
   ]
  },
  {
   "cell_type": "code",
   "execution_count": 44,
   "metadata": {
    "collapsed": true
   },
   "outputs": [],
   "source": [
    "doc = docs[0]"
   ]
  },
  {
   "cell_type": "code",
   "execution_count": 136,
   "metadata": {
    "collapsed": false
   },
   "outputs": [
    {
     "data": {
      "text/plain": [
       "224"
      ]
     },
     "execution_count": 136,
     "metadata": {},
     "output_type": "execute_result"
    }
   ],
   "source": [
    "doc.index('LENGTH')   # find the character position for the start of string LENGTH"
   ]
  },
  {
   "cell_type": "code",
   "execution_count": 138,
   "metadata": {
    "collapsed": false
   },
   "outputs": [
    {
     "data": {
      "text/plain": [
       "'LENGTH: 442 words\\n\\n\\nResponding to riders complaint'"
      ]
     },
     "execution_count": 138,
     "metadata": {},
     "output_type": "execute_result"
    }
   ],
   "source": [
    "doc[224:274]    # slice the string starting at this point plus 50 characters"
   ]
  },
  {
   "cell_type": "code",
   "execution_count": 140,
   "metadata": {
    "collapsed": false
   },
   "outputs": [
    {
     "data": {
      "text/plain": [
       "241"
      ]
     },
     "execution_count": 140,
     "metadata": {},
     "output_type": "execute_result"
    }
   ],
   "source": [
    "doc.index('\\n',224)  # find the first newline character after the start of LENGTH"
   ]
  },
  {
   "cell_type": "code",
   "execution_count": 142,
   "metadata": {
    "collapsed": false
   },
   "outputs": [
    {
     "data": {
      "text/plain": [
       "'\\n\\n\\nResponding to riders complaints, BAR'"
      ]
     },
     "execution_count": 142,
     "metadata": {},
     "output_type": "execute_result"
    }
   ],
   "source": [
    "doc[241:280]   # slice after this character"
   ]
  },
  {
   "cell_type": "markdown",
   "metadata": {
    "collapsed": true
   },
   "source": [
    "* Now we have that figured out we can set two variables:\n",
    "    1. ``start_pos`` for the beginning of the body (the line after the one beginning with LENGTH)\n",
    "    2. ``end_pos`` the point were LOAD-DATE begins"
   ]
  },
  {
   "cell_type": "code",
   "execution_count": 134,
   "metadata": {
    "collapsed": true
   },
   "outputs": [],
   "source": [
    "start_pos = doc.index('LENGTH')\n",
    "start_pos = doc.index('\\n', start_pos)\n",
    "end_pos = doc.index('LOAD-DATE:')"
   ]
  },
  {
   "cell_type": "markdown",
   "metadata": {},
   "source": [
    "* Then we can get the three parts of the document we want"
   ]
  },
  {
   "cell_type": "code",
   "execution_count": 53,
   "metadata": {
    "collapsed": false
   },
   "outputs": [],
   "source": [
    "pre_body=doc[:start_pos]"
   ]
  },
  {
   "cell_type": "code",
   "execution_count": 54,
   "metadata": {
    "collapsed": true
   },
   "outputs": [],
   "source": [
    "body = doc[start_pos:end_pos]"
   ]
  },
  {
   "cell_type": "code",
   "execution_count": 56,
   "metadata": {
    "collapsed": false
   },
   "outputs": [],
   "source": [
    "post_body = doc[end_pos:]"
   ]
  },
  {
   "cell_type": "markdown",
   "metadata": {},
   "source": [
    "### Python excurcus:  Dictionaries\n",
    "\n",
    "* Alongside lists one of the most useful structures in Python is a **dictionary**. It is an unordered set of key-value pairings.\n",
    "* Data is organized and identified by a unique key using the syntax ``'key' : value``"
   ]
  },
  {
   "cell_type": "code",
   "execution_count": 146,
   "metadata": {
    "collapsed": true
   },
   "outputs": [],
   "source": [
    "exdict = { 'item1': 123, 'item2': 'asdsad', 'item3': [1,2,3,'asd','dada'] }   # define a dictionary"
   ]
  },
  {
   "cell_type": "code",
   "execution_count": 58,
   "metadata": {
    "collapsed": false
   },
   "outputs": [
    {
     "data": {
      "text/plain": [
       "{'item1': 123, 'item2': 'asdsad', 'item3': [1, 2, 3, 'asd', 'dada']}"
      ]
     },
     "execution_count": 58,
     "metadata": {},
     "output_type": "execute_result"
    }
   ],
   "source": [
    "exdict"
   ]
  },
  {
   "cell_type": "code",
   "execution_count": 148,
   "metadata": {
    "collapsed": false
   },
   "outputs": [
    {
     "data": {
      "text/plain": [
       "'asdsad'"
      ]
     },
     "execution_count": 148,
     "metadata": {},
     "output_type": "execute_result"
    }
   ],
   "source": [
    "exdict['item2']   # get the value associated with the key 'item2'"
   ]
  },
  {
   "cell_type": "code",
   "execution_count": 152,
   "metadata": {
    "collapsed": true
   },
   "outputs": [],
   "source": [
    "# add a new value associated with the key 'item4' which is itself a dictionary\n",
    "exdict['item4'] = {'a': 12323, 'b': [1,2,23]} "
   ]
  },
  {
   "cell_type": "code",
   "execution_count": 153,
   "metadata": {
    "collapsed": false
   },
   "outputs": [
    {
     "data": {
      "text/plain": [
       "{'item1': 123,\n",
       " 'item2': 'asdsad',\n",
       " 'item3': [1, 2, 3, 'asd', 'dada'],\n",
       " 'item4': {'a': 12323, 'b': [1, 2, 23]}}"
      ]
     },
     "execution_count": 153,
     "metadata": {},
     "output_type": "execute_result"
    }
   ],
   "source": [
    "exdict"
   ]
  },
  {
   "cell_type": "code",
   "execution_count": 154,
   "metadata": {
    "collapsed": false
   },
   "outputs": [
    {
     "data": {
      "text/plain": [
       "12323"
      ]
     },
     "execution_count": 154,
     "metadata": {},
     "output_type": "execute_result"
    }
   ],
   "source": [
    "exdict['item4']['a']   # address this dictionary of dictionary structure"
   ]
  },
  {
   "cell_type": "code",
   "execution_count": 64,
   "metadata": {
    "collapsed": false
   },
   "outputs": [
    {
     "data": {
      "text/plain": [
       "'asd'"
      ]
     },
     "execution_count": 64,
     "metadata": {},
     "output_type": "execute_result"
    }
   ],
   "source": [
    "exdict['item3'][3]"
   ]
  },
  {
   "cell_type": "markdown",
   "metadata": {},
   "source": [
    "### Back to the LexisNexus task\n",
    "* We are going to use a list of dictionaries approach to store the prebody, body, postbody components for each document"
   ]
  },
  {
   "cell_type": "code",
   "execution_count": 68,
   "metadata": {
    "collapsed": true
   },
   "outputs": [],
   "source": [
    "doc_dict = {'prebody': pre_body, 'body': body, 'postbody': post_body}"
   ]
  },
  {
   "cell_type": "code",
   "execution_count": 69,
   "metadata": {
    "collapsed": false
   },
   "outputs": [
    {
     "data": {
      "text/plain": [
       "'LOAD-DATE: November 1, 2015\\n\\nLANGUAGE: ENGLISH\\n\\nPUBLICATION-TYPE: Newspaper\\n\\n\\n            Copyright 2015 New Straits Times Press (Malaysia) Berhad\\n                              All Rights Reserved\\n\\n\\n                              2 '"
      ]
     },
     "execution_count": 69,
     "metadata": {},
     "output_type": "execute_result"
    }
   ],
   "source": [
    "doc_dict['postbody']"
   ]
  },
  {
   "cell_type": "code",
   "execution_count": 73,
   "metadata": {
    "collapsed": false
   },
   "outputs": [
    {
     "name": "stdout",
     "output_type": "stream",
     "text": [
      "ERROR with doc 13\n",
      "ERROR with doc 66\n",
      "ERROR with doc 83\n",
      "ERROR with doc 142\n",
      "ERROR with doc 145\n",
      "ERROR with doc 146\n",
      "ERROR with doc 159\n",
      "ERROR with doc 169\n",
      "ERROR with doc 174\n",
      "ERROR with doc 179\n",
      "ERROR with doc 211\n",
      "ERROR with doc 219\n",
      "ERROR with doc 227\n",
      "ERROR with doc 237\n",
      "ERROR with doc 238\n",
      "ERROR with doc 259\n",
      "ERROR with doc 261\n",
      "ERROR with doc 269\n",
      "ERROR with doc 272\n",
      "ERROR with doc 286\n",
      "ERROR with doc 302\n",
      "ERROR with doc 346\n",
      "ERROR with doc 352\n",
      "ERROR with doc 356\n",
      "ERROR with doc 375\n",
      "ERROR with doc 380\n",
      "ERROR with doc 388\n",
      "ERROR with doc 399\n",
      "ERROR with doc 401\n",
      "ERROR with doc 414\n",
      "ERROR with doc 425\n",
      "ERROR with doc 452\n",
      "ERROR with doc 457\n",
      "ERROR with doc 460\n",
      "ERROR with doc 467\n"
     ]
    }
   ],
   "source": [
    "rows = []\n",
    "for idx, doc in enumerate(docs):\n",
    "    \n",
    "    try:\n",
    "        start_pos = doc.index('LENGTH')\n",
    "        start_pos = doc.index('\\n', start_pos)\n",
    "        end_pos = doc.index('LOAD-DATE:')\n",
    "    except:\n",
    "        print('ERROR with doc', idx)\n",
    "        continue\n",
    "    \n",
    "    doc_dict = {\n",
    "        'prebody': doc[:start_pos],\n",
    "        'body': doc[start_pos: end_pos],\n",
    "        'postbody': doc[end_pos:]\n",
    "    }\n",
    "    \n",
    "    rows.append(doc_dict)"
   ]
  },
  {
   "cell_type": "code",
   "execution_count": 77,
   "metadata": {
    "collapsed": false
   },
   "outputs": [
    {
     "name": "stdout",
     "output_type": "stream",
     "text": [
      "\n",
      "\n",
      "                      Copyright 2016 Zoom Information Inc.\n",
      "                              All Rights Reserved\n",
      "\n",
      "                            Zoom Company Information\n",
      "\n",
      "                                 February 2016\n",
      "\n",
      "                                     Vaping\n",
      "\n",
      "                                 P.O. Box 72498\n",
      "                             Springfield,  OR 97475\n",
      "                                 United States\n",
      "\n",
      "* * * * * * * * * * COMMUNICATIONS * * * * * * * * * *\n",
      "TELEPHONE: (541) 719-8273\n",
      "URL: www.tobevaping.com\n",
      "\n",
      "* * * * * * * * * * COMPANY INFORMATION * * * * * * * * * *\n",
      "EMPLOYEES: 12\n",
      "\n",
      "* * * * * * * * * * DESCRIPTION * * * * * * * * * *\n",
      "\n",
      "   To Be Vaping is committed to bringing you the best flavors in the vaping\n",
      "industry. That's why we use all natural ingredients. Whether it's a tasty blend\n",
      "of Chamomile and Lavender, or an earthy marriage of Earl Grey and Anise,our\n",
      "flavorsare derived from their original source and bear the herbal properties of\n",
      "their natural state.  To Be Vaping is a small family owned and operated artisan\n",
      "vaping liquid manufacturer based out of Eugene, Oregon. All of our flavors are\n",
      "diacetyl free and produced from natural ingredients and flavorings. Each of our\n",
      "elixirs is handcrafted from its inception, in the foreground of Eugene's\n",
      "beautiful Northwest backdrop. We formed the business with the goal of providing\n",
      "the vaping community with the highest possible quality of craftmanship in the\n",
      "production of vaping liquid available. We use the best possible ingredients,\n",
      "extracted in a process best measured in months, and with an extensive quality\n",
      "checking process to insure that the strictest standards are met. e take great\n",
      "care in extracting our flavors from their natural origin and mixing the\n",
      "constituentsuntil we find the best tasting blend. To be or not to be vaping?\n",
      "That is no longer the question. The question now is... what are you vaping?\n",
      "You'll be asked this frequently once your friends smell you vaping the floral &\n",
      "aromatic flavors of To Be Vaping highest quality nicotine elixirs. We take a\n",
      "page from classic literary heroes and pay tribute to their contributions with\n",
      "each essence we introduc\n",
      "\n",
      "* * * * * * * * * * FINANCIALS * * * * * * * * * *\n",
      "\n",
      "REVENUE: USD 2,400,000\n",
      "\n",
      "LOAD-DATE: February 8, 2016\n",
      "\n",
      "\n",
      "                              15 \n"
     ]
    }
   ],
   "source": [
    "print(docs[13])"
   ]
  },
  {
   "cell_type": "markdown",
   "metadata": {},
   "source": [
    "### Python excursus: The Zen of Python\n",
    "* A little bit of poetry from the creators of Python explaining the design and suggestions for truly Pythonic coding!"
   ]
  },
  {
   "cell_type": "code",
   "execution_count": 74,
   "metadata": {
    "collapsed": false
   },
   "outputs": [
    {
     "name": "stdout",
     "output_type": "stream",
     "text": [
      "The Zen of Python, by Tim Peters\n",
      "\n",
      "Beautiful is better than ugly.\n",
      "Explicit is better than implicit.\n",
      "Simple is better than complex.\n",
      "Complex is better than complicated.\n",
      "Flat is better than nested.\n",
      "Sparse is better than dense.\n",
      "Readability counts.\n",
      "Special cases aren't special enough to break the rules.\n",
      "Although practicality beats purity.\n",
      "Errors should never pass silently.\n",
      "Unless explicitly silenced.\n",
      "In the face of ambiguity, refuse the temptation to guess.\n",
      "There should be one-- and preferably only one --obvious way to do it.\n",
      "Although that way may not be obvious at first unless you're Dutch.\n",
      "Now is better than never.\n",
      "Although never is often better than *right* now.\n",
      "If the implementation is hard to explain, it's a bad idea.\n",
      "If the implementation is easy to explain, it may be a good idea.\n",
      "Namespaces are one honking great idea -- let's do more of those!\n"
     ]
    }
   ],
   "source": [
    "import this"
   ]
  },
  {
   "cell_type": "markdown",
   "metadata": {},
   "source": [
    "### The final parts of the task!\n",
    "\n",
    "* Now we want to write out the documents split into three parts to a CSV file\n",
    "* Then just for fun we construction a frequency list of all the words in the documents"
   ]
  },
  {
   "cell_type": "code",
   "execution_count": 78,
   "metadata": {
    "collapsed": true
   },
   "outputs": [],
   "source": [
    "import csv"
   ]
  },
  {
   "cell_type": "code",
   "execution_count": 79,
   "metadata": {
    "collapsed": true
   },
   "outputs": [],
   "source": [
    "with open('data/articles.csv','w') as out:\n",
    "    csvfile = csv.DictWriter(out, fieldnames=('prebody','body','postbody'))\n",
    "    csvfile.writeheader()\n",
    "    csvfile.writerows(rows)"
   ]
  },
  {
   "cell_type": "code",
   "execution_count": 81,
   "metadata": {
    "collapsed": false
   },
   "outputs": [],
   "source": [
    "docs2 = [r for r in csv.DictReader(open('data/articles.csv','r'))]"
   ]
  },
  {
   "cell_type": "code",
   "execution_count": 82,
   "metadata": {
    "collapsed": false
   },
   "outputs": [
    {
     "data": {
      "text/plain": [
       "464"
      ]
     },
     "execution_count": 82,
     "metadata": {},
     "output_type": "execute_result"
    }
   ],
   "source": [
    "len(docs2)"
   ]
  },
  {
   "cell_type": "code",
   "execution_count": 83,
   "metadata": {
    "collapsed": false
   },
   "outputs": [
    {
     "name": "stdout",
     "output_type": "stream",
     "text": [
      "{'prebody': '\\n\\n\\n                          New Straits Times (Malaysia)\\n\\n                            November 1, 2015 Sunday\\n\\nRegulation for sake of health, safety\\n\\nBYLINE: Koi Kye Lee; Tharanya Arumugam; Rahmat Khairulijal\\n\\nSECTION: Pg. 5\\n\\nLENGTH: 683 words', 'postbody': 'LOAD-DATE: November 1, 2015\\n\\nLANGUAGE: ENGLISH\\n\\nPUBLICATION-TYPE: Newspaper\\n\\n\\n            Copyright 2015 New Straits Times Press (Malaysia) Berhad\\n                              All Rights Reserved\\n\\n\\n                              2 ', 'body': '\\n\\n\\nKUALA LUMPUR: MANUFACTURERS and sellers of vaping devices will be subjected to a\\nmajor shift in the way they market their gadgets and accompanying odds and ends.\\n\\nAs the authorities work together to address concerns related to the\\nrapidly-growing trend of vaping, those in the business are looking at being\\nsubjected to a systematic mechanism that will serve to safeguard public safety\\nand health.\\n\\nThe Domestic Trade, Cooperatives and Consumerism Ministry told the New Sunday\\nTimes that in looking at regulating the industry, those in the business could\\nsoon be allowed to only sell devices that were certified and approved by the\\nDepartment of Standards Malaysia (Sirim-approved).\\n\\nIts secretary-general, Datuk Seri Alias Ahmad, said there was a need to regulate\\nthe prices of vaping devices and e-liquids to protect consumers.\\n\\nHe said the ministry was working with the Health Ministry and would engage\\nstakeholders to ensure that all areas in the regulation of vaping were covered.\\n\\n\"Give us enough time to study the important aspects (concerning vaping),\\nincluding legal and health issues, as well as the impact that the trend has on\\nsociety (before decisions are finalised).\"\\n\\nThe Health Ministry is already looking at tangible measures to be put in place\\nto regulate vaping.\\n\\nVapers in the country, whose numbers rank second only to the United States, may\\nhave to fork out more, as the ministry is looking at extending the sin tax\\nimposed on cigarettes to vaping devices and e-liquids.\\n\\nThe proposed change in the industry is on top of other new regulatory measures\\nlikely to be introduced, including import control.\\n\\nThe spirit behind this, said the ministry, was to discourage the habit.\\n\\nHealth Minister Datuk Seri Dr S. Subramaniam told the New Straits Times on\\nFriday that he was looking at imposing a minimum age requirement for those\\nbuying and using vaping devices.\\n\\nAnother measure would be to make it compulsory for the ingredients in e-liquids\\nto be listed on the labels.\\n\\nAs the rules to govern vaping continue to snowball, he said, the ministry would\\nlikely limit the places where vaping was allowed, similar to the way it had\\nprohibited cigarette smoking in areas gazetted as non-smoking zones.\\n\\nHe said this was important to protect non-vapers from the potential health risks\\nthat vaping could pose.\\n\\nHe said the ministry was worried by the speed with which the vaping trend had\\npicked up in the country.\\n\\n\"The estimate is that there are one million vapers in the country.\\n\\n\"Vaping is now unregulated, (and) we can\\'t allow it. We are coming up with\\nregulations that will control vaping-related activities as soon as possible.\\n\\n\"We\\'ve been studying them (regulations) for some time now, and we will start\\nsoon. We\\'ve got enough power to act.\"\\n\\nDr Subramaniam said he hoped vapers would consider the fact that vaping had not\\nbeen scientifically proven safe, and would cease from the habit until the\\nministry and experts concluded research on the health risks not only to those\\nwho vaped, but also \"passive vapers\".\\n\\nHe said it was important to realise that vaping was a relatively new trend, and\\nalthough there was insufficient evidence to conclusively prove the dangers of\\nvaping devices, experts had warned that the health risks from vaping might\\nmanifest over the long term.\\n\\nHe said while there might be different schools of thought on the matter,\\nincluding one that suggested vaping was a safer option to smoking cigarettes\\nbecause of the lower nicotine content, it could take up to 20 years to gather\\nevidence.\\n\\n\"There\\'s no hard evidence at present (to suggest vaping is safe). We have little\\ninformation on it.\\n\\n\"Why pick up something that may be bad?\\n\\n\"My advice to all smokers, whether cigarettes, shisha, cigars, pipes or\\ne-cigarettes - choose to stay healthy.\"\\n\\nRural and Regional Development Minister Datuk Seri Ismail Sabri Yaakob, who\\nopposes the ban on vaping, said he concurred with the need for regulation, and\\nto ensure that the use of nicotine and other chemicals in e-liquids was safe.\\n\\nHe said the government should also focus on reducing the number of smokers.\\nAdditional reporting by Rahmat Khairulijal\\n\\n( END )\\n\\n'}\n"
     ]
    }
   ],
   "source": [
    "print(docs2[0])"
   ]
  },
  {
   "cell_type": "markdown",
   "metadata": {},
   "source": [
    "## Frequency counts\n",
    "\n",
    "* The <code>Counter</code> function generates a dictionary-like object with words as keys and the number of times they occur in a sequence as values\n",
    "* It is a quick way to generate a word frequency list from a set of **tokenized** documents (i.e., where the text has been turned into a list of words)"
   ]
  },
  {
   "cell_type": "code",
   "execution_count": 84,
   "metadata": {
    "collapsed": true
   },
   "outputs": [],
   "source": [
    "from collections import Counter"
   ]
  },
  {
   "cell_type": "markdown",
   "metadata": {},
   "source": [
    "### Simple example of using <code>Counter</code>\n",
    "<code>Counter</code> works by passing it a list of items, e.g.:"
   ]
  },
  {
   "cell_type": "code",
   "execution_count": 100,
   "metadata": {
    "collapsed": true
   },
   "outputs": [],
   "source": [
    "count = Counter(['a','a','v','c','d','e','a','c'])"
   ]
  },
  {
   "cell_type": "markdown",
   "metadata": {},
   "source": [
    "and it returns a dictionary with a count for the number of times each item occurs:"
   ]
  },
  {
   "cell_type": "code",
   "execution_count": 102,
   "metadata": {
    "collapsed": false
   },
   "outputs": [
    {
     "data": {
      "text/plain": [
       "dict_items([('e', 1), ('d', 1), ('v', 1), ('c', 2), ('a', 3)])"
      ]
     },
     "execution_count": 102,
     "metadata": {},
     "output_type": "execute_result"
    }
   ],
   "source": [
    "count.items()"
   ]
  },
  {
   "cell_type": "markdown",
   "metadata": {
    "collapsed": false
   },
   "source": [
    "Just like a dictionary you can get the frequency for a specific item like this:"
   ]
  },
  {
   "cell_type": "code",
   "execution_count": 103,
   "metadata": {
    "collapsed": false
   },
   "outputs": [
    {
     "data": {
      "text/plain": [
       "3"
      ]
     },
     "execution_count": 103,
     "metadata": {},
     "output_type": "execute_result"
    }
   ],
   "source": [
    "count['a']   # how many times does 'a' occur in the list ['a','a','v','c','d','e','a','c']"
   ]
  },
  {
   "cell_type": "markdown",
   "metadata": {},
   "source": [
    "<code>Counter</code> object has an <code>update</code> method that allows multiple lists to be counted."
   ]
  },
  {
   "cell_type": "code",
   "execution_count": 120,
   "metadata": {
    "collapsed": false
   },
   "outputs": [
    {
     "name": "stdout",
     "output_type": "stream",
     "text": [
      "text1: ['this', 'is', 'a', 'text', 'with', 'some', 'words', 'in', 'it']\n",
      "text2: ['this', 'is', 'another', 'text', 'with', 'more', 'words', 'that', 'the', 'other', 'one', 'has', 'in', 'it']\n"
     ]
    }
   ],
   "source": [
    "text1 = 'This is a text with some words in it'\n",
    "text2 = 'This is another text with more words that the other one has in it'\n",
    "tokens1 = text1.lower().split()\n",
    "tokens2 = text2.lower().split()\n",
    "print('text1:', tokens1)\n",
    "print('text2:', tokens2)"
   ]
  },
  {
   "cell_type": "markdown",
   "metadata": {},
   "source": [
    "* First define a new <code>Counter</code>"
   ]
  },
  {
   "cell_type": "code",
   "execution_count": 111,
   "metadata": {
    "collapsed": true
   },
   "outputs": [],
   "source": [
    "freq = Counter()"
   ]
  },
  {
   "cell_type": "markdown",
   "metadata": {},
   "source": [
    "* Then update it with the words from ``text1``"
   ]
  },
  {
   "cell_type": "code",
   "execution_count": 112,
   "metadata": {
    "collapsed": false
   },
   "outputs": [
    {
     "data": {
      "text/plain": [
       "dict_items([('is', 1), ('this', 1), ('words', 1), ('in', 1), ('it', 1), ('a', 1), ('some', 1), ('text', 1), ('with', 1)])"
      ]
     },
     "execution_count": 112,
     "metadata": {},
     "output_type": "execute_result"
    }
   ],
   "source": [
    "freq.update(tokens1)\n",
    "freq.items()"
   ]
  },
  {
   "cell_type": "markdown",
   "metadata": {},
   "source": [
    "* Then update it again with the words from ``text2``"
   ]
  },
  {
   "cell_type": "code",
   "execution_count": 113,
   "metadata": {
    "collapsed": false
   },
   "outputs": [
    {
     "data": {
      "text/plain": [
       "dict_items([('another', 1), ('is', 2), ('the', 1), ('has', 1), ('other', 1), ('this', 2), ('a', 1), ('text', 2), ('one', 1), ('with', 2), ('that', 1), ('it', 2), ('some', 1), ('more', 1), ('words', 2), ('in', 2)])"
      ]
     },
     "execution_count": 113,
     "metadata": {},
     "output_type": "execute_result"
    }
   ],
   "source": [
    "freq.update(tokens2)\n",
    "freq.items()"
   ]
  },
  {
   "cell_type": "markdown",
   "metadata": {},
   "source": [
    "#### A simple example of looping of some texts and generating a frequency list using ``Counter``"
   ]
  },
  {
   "cell_type": "code",
   "execution_count": 114,
   "metadata": {
    "collapsed": false
   },
   "outputs": [
    {
     "name": "stdout",
     "output_type": "stream",
     "text": [
      "[('words', 6), ('and', 4), ('the', 3), ('this', 3), ('has', 3), ('is', 2), ('text', 2), ('it', 2), ('three', 1), ('second', 1)]\n"
     ]
    }
   ],
   "source": [
    "texts = [\n",
    "    'This is the first text and it has words',\n",
    "    'This is the second text and it has some more words',\n",
    "    'Finally this one has the most words of all three examples words and words and words'\n",
    "]\n",
    "\n",
    "freq2 = Counter()\n",
    "for text in texts:\n",
    "    # turn the text into lower case and split on whitespace\n",
    "    tokens = text.lower().split()\n",
    "    freq2.update(tokens)\n",
    "    \n",
    "# show the top 10 most frequent words\n",
    "print(freq2.most_common(10))"
   ]
  },
  {
   "cell_type": "markdown",
   "metadata": {},
   "source": [
    "Finally lets make the formatting a bit more pretty by looping over the frequency list and producing a tab separated table:"
   ]
  },
  {
   "cell_type": "code",
   "execution_count": 119,
   "metadata": {
    "collapsed": false
   },
   "outputs": [
    {
     "name": "stdout",
     "output_type": "stream",
     "text": [
      "words\t\t6\n",
      "and\t\t4\n",
      "the\t\t3\n",
      "this\t\t3\n",
      "has\t\t3\n",
      "is\t\t2\n",
      "text\t\t2\n"
     ]
    }
   ],
   "source": [
    "for item in freq2.most_common(7):\n",
    "    print(\"{}\\t\\t{}\".format(item[0],item[1]))"
   ]
  },
  {
   "cell_type": "markdown",
   "metadata": {},
   "source": [
    "### Counting words in the LexisNexus documents"
   ]
  },
  {
   "cell_type": "markdown",
   "metadata": {},
   "source": [
    "* For a single LexisNexus document loaded in from the CSV file (the list of dictionaries), we select the document by index and then the body component:"
   ]
  },
  {
   "cell_type": "code",
   "execution_count": null,
   "metadata": {
    "collapsed": true
   },
   "outputs": [],
   "source": [
    "freq_list = Counter(docs2[0]['body'].lower().split())"
   ]
  },
  {
   "cell_type": "code",
   "execution_count": 90,
   "metadata": {
    "collapsed": false
   },
   "outputs": [
    {
     "data": {
      "text/plain": [
       "[('the', 53),\n",
       " ('to', 33),\n",
       " ('and', 18),\n",
       " ('vaping', 15),\n",
       " ('that', 15),\n",
       " ('in', 13),\n",
       " ('was', 12),\n",
       " ('of', 11),\n",
       " ('he', 10),\n",
       " ('on', 10),\n",
       " ('said', 10),\n",
       " ('ministry', 8),\n",
       " ('be', 8),\n",
       " ('as', 8),\n",
       " ('health', 7),\n",
       " ('a', 6),\n",
       " ('at', 6),\n",
       " ('is', 6),\n",
       " ('would', 5),\n",
       " ('looking', 5),\n",
       " ('new', 4),\n",
       " ('devices', 4),\n",
       " ('those', 4),\n",
       " ('there', 4),\n",
       " ('it', 4),\n",
       " ('we', 4),\n",
       " ('up', 4),\n",
       " ('will', 4),\n",
       " ('for', 4),\n",
       " ('had', 4),\n",
       " ('are', 4),\n",
       " ('with', 4),\n",
       " ('only', 3),\n",
       " ('risks', 3),\n",
       " ('important', 3),\n",
       " ('vapers', 3),\n",
       " ('including', 3),\n",
       " ('seri', 3),\n",
       " ('from', 3),\n",
       " ('trend', 3),\n",
       " ('by', 3),\n",
       " ('could', 3),\n",
       " ('e-liquids', 3),\n",
       " ('datuk', 3),\n",
       " ('protect', 2),\n",
       " ('time', 2),\n",
       " ('were', 2),\n",
       " ('likely', 2),\n",
       " ('also', 2),\n",
       " ('enough', 2),\n",
       " ('smoking', 2),\n",
       " ('not', 2),\n",
       " ('dr', 2),\n",
       " ('nicotine', 2),\n",
       " ('minister', 2),\n",
       " ('been', 2),\n",
       " ('it.', 2),\n",
       " ('regulate', 2),\n",
       " ('cigarettes', 2),\n",
       " ('way', 2),\n",
       " ('ensure', 2),\n",
       " ('other', 2),\n",
       " ('all', 2),\n",
       " ('told', 2),\n",
       " ('country.', 2),\n",
       " ('soon', 2),\n",
       " ('subramaniam', 2),\n",
       " ('subjected', 2),\n",
       " ('evidence', 2),\n",
       " ('might', 2),\n",
       " ('may', 2),\n",
       " ('times', 2),\n",
       " ('experts', 2),\n",
       " ('vaping,', 2),\n",
       " ('measures', 2),\n",
       " ('need', 2),\n",
       " ('have', 2),\n",
       " ('who', 2),\n",
       " ('one', 2),\n",
       " ('business', 2),\n",
       " ('areas', 2),\n",
       " ('tax', 1),\n",
       " ('accompanying', 1),\n",
       " ('devices,', 1),\n",
       " ('yaakob,', 1),\n",
       " ('vaped,', 1),\n",
       " ('possible.', 1),\n",
       " ('concerns', 1),\n",
       " ('place', 1),\n",
       " ('\"we\\'ve', 1),\n",
       " ('should', 1),\n",
       " ('cigarette', 1),\n",
       " ('major', 1),\n",
       " ('decisions', 1),\n",
       " ('using', 1),\n",
       " ('rapidly-growing', 1),\n",
       " ('end', 1),\n",
       " ('second', 1),\n",
       " ('import', 1),\n",
       " ('potential', 1),\n",
       " ('proposed', 1),\n",
       " ('power', 1),\n",
       " ('mechanism', 1),\n",
       " ('ingredients', 1),\n",
       " ('little', 1),\n",
       " ('govern', 1),\n",
       " ('\"the', 1),\n",
       " ('health.', 1),\n",
       " ('introduced,', 1),\n",
       " ('already', 1),\n",
       " ('start', 1),\n",
       " ('regulatory', 1),\n",
       " ('said,', 1),\n",
       " ('snowball,', 1),\n",
       " ('rules', 1),\n",
       " ('rank', 1),\n",
       " ('address', 1),\n",
       " ('requirement', 1),\n",
       " ('imposing', 1),\n",
       " ('age', 1),\n",
       " ('ends.', 1),\n",
       " ('kuala', 1),\n",
       " ('cease', 1),\n",
       " ('continue', 1),\n",
       " ('gazetted', 1),\n",
       " ('non-smoking', 1),\n",
       " ('safe.', 1),\n",
       " ('development', 1),\n",
       " ('they', 1),\n",
       " ('present', 1),\n",
       " ('approved', 1),\n",
       " ('industry,', 1),\n",
       " ('\"why', 1),\n",
       " ('public', 1),\n",
       " ('sin', 1),\n",
       " ('warned', 1),\n",
       " ('(concerning', 1),\n",
       " ('act.\"', 1),\n",
       " ('shisha,', 1),\n",
       " ('now,', 1),\n",
       " ('related', 1),\n",
       " ('discourage', 1),\n",
       " ('content,', 1),\n",
       " ('impact', 1),\n",
       " ('odds', 1),\n",
       " ('(regulations)', 1),\n",
       " ('ismail', 1),\n",
       " ('regulations', 1),\n",
       " ('concluded', 1),\n",
       " ('(before', 1),\n",
       " ('united', 1),\n",
       " ('systematic', 1),\n",
       " ('\"there\\'s', 1),\n",
       " ('pipes', 1),\n",
       " ('estimate', 1),\n",
       " ('suggested', 1),\n",
       " ('finalised).\"', 1),\n",
       " ('together', 1),\n",
       " ('long', 1),\n",
       " ('years', 1),\n",
       " ('rural', 1),\n",
       " ('scientifically', 1),\n",
       " ('realise', 1),\n",
       " ('e-cigarettes', 1),\n",
       " ('allowed', 1),\n",
       " ('alias', 1),\n",
       " ('prices', 1),\n",
       " ('(and)', 1),\n",
       " ('vaping),', 1),\n",
       " ('straits', 1),\n",
       " ('devices.', 1),\n",
       " ('tangible', 1),\n",
       " ('consumers.', 1),\n",
       " ('more,', 1),\n",
       " ('imposed', 1),\n",
       " ('domestic', 1),\n",
       " ('labels.', 1),\n",
       " ('sellers', 1),\n",
       " ('research', 1),\n",
       " ('now', 1),\n",
       " ('habit.', 1),\n",
       " ('million', 1),\n",
       " ('relatively', 1),\n",
       " ('soon.', 1),\n",
       " ('friday', 1),\n",
       " ('regulation,', 1),\n",
       " ('smokers,', 1),\n",
       " ('which', 1),\n",
       " ('bad?', 1),\n",
       " ('ban', 1),\n",
       " ('unregulated,', 1),\n",
       " ('aspects', 1),\n",
       " ('got', 1),\n",
       " ('work', 1),\n",
       " ('fact', 1),\n",
       " ('us', 1),\n",
       " (\"we've\", 1),\n",
       " ('make', 1),\n",
       " ('insufficient', 1),\n",
       " ('authorities', 1),\n",
       " ('worried', 1),\n",
       " ('safer', 1),\n",
       " ('some', 1),\n",
       " ('healthy.\"', 1),\n",
       " ('working', 1),\n",
       " ('society', 1),\n",
       " ('study', 1),\n",
       " ('-', 1),\n",
       " ('different', 1),\n",
       " ('picked', 1),\n",
       " ('market', 1),\n",
       " ('sunday', 1),\n",
       " ('khairulijal', 1),\n",
       " ('safe).', 1),\n",
       " ('evidence.', 1),\n",
       " ('opposes', 1),\n",
       " ('while', 1),\n",
       " ('places', 1),\n",
       " ('because', 1),\n",
       " ('focus', 1),\n",
       " ('prove', 1),\n",
       " ('additional', 1),\n",
       " ('allow', 1),\n",
       " ('another', 1),\n",
       " ('(to', 1),\n",
       " ('their', 1),\n",
       " ('safeguard', 1),\n",
       " ('them', 1),\n",
       " ('\"give', 1),\n",
       " ('manufacturers', 1),\n",
       " ('something', 1),\n",
       " ('this,', 1),\n",
       " ('chemicals', 1),\n",
       " ('sabri', 1),\n",
       " ('whose', 1),\n",
       " ('speed', 1),\n",
       " ('spirit', 1),\n",
       " ('regulating', 1),\n",
       " ('advice', 1),\n",
       " ('reducing', 1),\n",
       " ('conclusively', 1),\n",
       " ('ministry,', 1),\n",
       " ('trade,', 1),\n",
       " ('gather', 1),\n",
       " ('until', 1),\n",
       " ('states,', 1),\n",
       " ('vaping.', 1),\n",
       " ('but', 1),\n",
       " ('habit', 1),\n",
       " ('prohibited', 1),\n",
       " ('cooperatives', 1),\n",
       " ('gadgets', 1),\n",
       " ('proven', 1),\n",
       " ('over', 1),\n",
       " ('out', 1),\n",
       " ('consumerism', 1),\n",
       " (')', 1),\n",
       " ('\"my', 1),\n",
       " ('minimum', 1),\n",
       " ('control.', 1),\n",
       " ('\"vaping', 1),\n",
       " ('schools', 1),\n",
       " ('(sirim-approved).', 1),\n",
       " ('top', 1),\n",
       " ('limit', 1),\n",
       " ('regulation', 1),\n",
       " ('studying', 1),\n",
       " ('cigarettes,', 1),\n",
       " ('term.', 1),\n",
       " ('shift', 1),\n",
       " ('numbers', 1),\n",
       " ('safety', 1),\n",
       " ('vapers\".', 1),\n",
       " ('activities', 1),\n",
       " ('ahmad,', 1),\n",
       " ('suggest', 1),\n",
       " ('20', 1),\n",
       " ('standards', 1),\n",
       " ('choose', 1),\n",
       " ('hard', 1),\n",
       " ('measure', 1),\n",
       " ('number', 1),\n",
       " ('non-vapers', 1),\n",
       " ('serve', 1),\n",
       " ('consider', 1),\n",
       " ('put', 1),\n",
       " ('regional', 1),\n",
       " ('\"passive', 1),\n",
       " ('listed', 1),\n",
       " ('thought', 1),\n",
       " ('(', 1),\n",
       " ('buying', 1),\n",
       " ('pick', 1),\n",
       " ('this', 1),\n",
       " ('has', 1),\n",
       " ('fork', 1),\n",
       " ('issues,', 1),\n",
       " ('similar', 1),\n",
       " ('hoped', 1),\n",
       " ('change', 1),\n",
       " ('although', 1),\n",
       " ('secretary-general,', 1),\n",
       " ('vaping-related', 1),\n",
       " ('stay', 1),\n",
       " ('industry', 1),\n",
       " ('its', 1),\n",
       " ('sell', 1),\n",
       " ('lumpur:', 1),\n",
       " ('legal', 1),\n",
       " ('country,', 1),\n",
       " ('department', 1),\n",
       " ('well', 1),\n",
       " ('control', 1),\n",
       " ('compulsory', 1),\n",
       " ('smokers.', 1),\n",
       " ('stakeholders', 1),\n",
       " ('no', 1),\n",
       " ('rahmat', 1),\n",
       " ('extending', 1),\n",
       " ('e-liquids.', 1),\n",
       " ('behind', 1),\n",
       " ('safe,', 1),\n",
       " ('cigars,', 1),\n",
       " ('where', 1),\n",
       " ('manifest', 1),\n",
       " ('information', 1),\n",
       " ('coming', 1),\n",
       " ('government', 1),\n",
       " ('concurred', 1),\n",
       " ('option', 1),\n",
       " ('use', 1),\n",
       " ('lower', 1),\n",
       " ('s.', 1),\n",
       " ('malaysia', 1),\n",
       " ('dangers', 1),\n",
       " ('certified', 1),\n",
       " ('being', 1),\n",
       " ('pose.', 1),\n",
       " ('reporting', 1),\n",
       " ('matter,', 1),\n",
       " (\"can't\", 1),\n",
       " ('allowed,', 1),\n",
       " ('whether', 1),\n",
       " ('covered.', 1),\n",
       " ('zones.', 1),\n",
       " ('engage', 1),\n",
       " ('trend,', 1),\n",
       " ('take', 1),\n",
       " ('or', 1)]"
      ]
     },
     "execution_count": 90,
     "metadata": {},
     "output_type": "execute_result"
    }
   ],
   "source": [
    "freq_list.most_common()"
   ]
  },
  {
   "cell_type": "markdown",
   "metadata": {},
   "source": [
    "* Find the frequency of the word ``vaping``"
   ]
  },
  {
   "cell_type": "code",
   "execution_count": 91,
   "metadata": {
    "collapsed": false
   },
   "outputs": [
    {
     "data": {
      "text/plain": [
       "15"
      ]
     },
     "execution_count": 91,
     "metadata": {},
     "output_type": "execute_result"
    }
   ],
   "source": [
    "freq_list['vaping']"
   ]
  },
  {
   "cell_type": "markdown",
   "metadata": {
    "collapsed": true
   },
   "source": [
    "* Finally we can create a frequency list for all the documents with a loop and using the ``update`` function on the ``Counter`` object."
   ]
  },
  {
   "cell_type": "code",
   "execution_count": 122,
   "metadata": {
    "collapsed": false
   },
   "outputs": [
    {
     "name": "stdout",
     "output_type": "stream",
     "text": [
      "[('the', 13450), ('to', 8009), ('and', 6836), ('of', 6600), ('a', 5864), ('in', 4922), ('is', 3399), ('that', 3273), ('vaping', 2402), ('for', 2297), ('are', 2170), ('on', 1939), ('as', 1907), ('it', 1743), ('be', 1653), ('with', 1448), ('said', 1359), ('from', 1328), ('have', 1322), ('smoking', 1293), ('not', 1266), ('e-cigarettes', 1215), ('or', 1192), ('he', 1171), ('health', 1149), ('at', 1136), ('has', 1130), ('they', 1124), ('but', 1103), ('tobacco', 1008), ('by', 1008), ('who', 983), ('an', 930), ('was', 871), ('i', 866), ('this', 838), ('nicotine', 831), ('their', 806), ('public', 801), ('more', 792), ('will', 787), ('said.', 745), ('than', 738), ('use', 725), ('people', 723), ('about', 712), ('can', 704), ('we', 679), ('which', 673), ('there', 660), ('cigarettes', 645), ('would', 640), ('vape', 608), ('-', 592), ('electronic', 591), ('e-cigarette', 579), ('other', 544), ('no', 539), ('products', 536), ('like', 532), ('some', 525), ('new', 522), ('also', 510), ('you', 500), ('smokers', 497), ('all', 495), ('up', 487), ('ban', 484), ('been', 481), ('one', 480), ('if', 470), ('she', 470), ('into', 469), ('had', 464), ('devices', 453), ('could', 433), ('were', 426), (\"it's\", 422), ('when', 421), ('cigarette', 418), ('so', 410), ('its', 402), ('his', 398), ('because', 393), ('should', 381), ('them', 376), ('many', 374), ('out', 352), ('those', 351), ('smoke', 342), ('quit', 325), ('after', 322), ('what', 318), ('vapor', 317), ('any', 317), ('may', 313), ('just', 311), ('percent', 303), ('do', 302), ('vaping.', 300), ('such', 296), ('city', 291), ('only', 291), ('using', 290), ('now', 288), ('state', 283), ('my', 276), ('these', 276), ('cigarettes,', 275), ('used', 271), ('smoking.', 271), ('among', 270), ('our', 269), ('cigarettes.', 263), ('last', 262), ('while', 257), ('how', 256), ('where', 256), (\"don't\", 254), ('two', 253), ('liquid', 250), ('found', 248), ('study', 248), ('most', 241), ('over', 238), ('--', 233), ('even', 230), ('want', 229), ('get', 228), ('vaping,', 222), ('much', 218), ('still', 216), ('same', 215), ('users', 214), ('way', 213), ('government', 213), ('years', 213), ('make', 213), ('first', 213), ('\"i', 212), ('according', 209), ('know', 207), ('smoking,', 206), ('your', 204), ('\"we', 203), ('business', 202), ('industry', 196), ('traditional', 195), ('research', 194), ('says', 194), ('being', 193), ('county', 190), ('council', 190), ('without', 189), ('including', 188), ('say', 186), ('help', 185), ('since', 185), ('harmful', 184), ('american', 181), ('high', 180), ('vapers', 177), ('e-cigarettes,', 177), ('see', 176), ('need', 175), ('effects', 173), ('time', 173), ('made', 172), ('her', 171), ('young', 169), ('less', 169), ('customers', 169), ('banned', 167), ('local', 165), ('going', 165), ('come', 164), ('around', 162), ('department', 162), ('under', 161), ('shop', 160), ('year', 160), ('chemicals', 159), ('\"the', 159), ('vapour', 157), ('ordinance', 156), ('something', 154), ('places', 152), ('alternative', 150), ('e-cigarettes.', 150), ('per', 149), ('shops', 148), ('already', 146), ('then', 146), ('before', 146), (\"doesn't\", 144), ('take', 143), ('market', 143), ('off', 143), ('law', 143), ('tobacco.', 142), ('regulations', 140), ('safer', 140), ('school', 139), ('become', 139), ('risk', 137), ('drug', 137), ('studies', 137), ('trying', 137), ('against', 136), ('product', 136), ('us', 135), ('both', 135), ('own', 135), ('go', 134), ('whether', 134), ('contain', 134), ('nicotine,', 134), ('might', 133), ('very', 133), ('board', 132), ('think', 131), ('evidence', 131), ('store', 131), ('through', 131), ('known', 130), ('however,', 130), ('another', 130), ('called', 129), ('teens', 129), ('potential', 128), (\"that's\", 128), ('why', 127), ('sales', 127), ('children', 126), ('number', 124), ('report', 123), ('started', 122), ('three', 122), ('does', 122), ('never', 121), ('sale', 121), ('nicotine.', 120), ('national', 120), ('food', 119), ('director', 118), ('control', 118), ('device', 118), ('proposed', 116), ('good', 116), ('day', 116), ('it.', 115), ('part', 115), ('stop', 114), ('try', 114), ('u.s.', 114), ('association', 114), ('within', 114), ('tried', 113), ('between', 112), ('news', 112), ('medical', 112), ('flavors', 112), ('next', 112), ('every', 111), ('me', 110), ('banning', 110), ('few', 110), ('down', 109), ('dr', 109), ('smoke.', 109), ('regulation', 108), ('legislation', 108), ('comes', 108), ('find', 108), ('give', 107), ('lung', 107), ('e-cigs', 107), ('regular', 106), ('researchers', 106), ('adults', 106), ('said,', 106), ('making', 106), ('sell', 105), ('propylene', 105), ('well', 105), ('smoked', 105), ('big', 104), ('bill', 104), ('allow', 103), ('away', 103), ('rules', 103), ('products.', 102), ('open', 102), ('looking', 102), ('include', 102), ('ministry', 102), ('allowed', 101), ('businesses', 101), ('far', 101), ('during', 101), ('youth', 101), ('lot', 101), ('did', 100), ('work', 99), ('recent', 99), ('him', 98), ('look', 98), ('better', 98), ('told', 97), ('dangerous', 96), ('similar', 96), ('back', 96), ('community', 95), ('different', 95), ('yet', 95), ('companies', 94), ('support', 94), ('smoke,', 94), ('content', 94), ('liquids', 94), ('until', 94), ('currently', 94), ('really', 93), ('california', 93), ('year,', 93), ('levels', 93), ('cent', 92), ('harm', 92), ('safety', 92), ('stores', 92), ('likely', 92), ('selling', 92), ('cancer', 91), ('daily', 91), ('area', 90), ('put', 90), ('although', 90), ('risks', 90), ('tobacco,', 89), ('issued', 89), ('million', 89), ('officials', 89), ('long', 89), ('end', 89), ('fda', 88), ('former', 88), ('act', 88), ('several', 88), ('air', 88), ('habit', 87), ('federal', 87), ('\"it\\'s', 87), ('owners', 87), ('show', 87), ('policy', 86), ('marketing', 86), ('cause', 86), ('though', 85), ('\"it', 85), ('least', 85), ('20', 85), ('having', 85), ('said:', 84), ('free', 84), ('10', 84), ('must', 84), ('others', 84), ('little', 83), ('small', 83), ('right', 83), ('article', 83), ('important', 83), ('health,', 83), ('reported', 83), ('often', 82), ('tax', 81), ('cessation', 81), ('long-term', 81), ('believe', 81), ('opened', 81), ('health.', 80), (\"can't\", 80), ('growing', 80), ('advertising', 79), ('rather', 79), ('minister', 79), ('place', 79), ('each', 79), ('recently', 79), ('company', 78), ('sold', 78), ('prohibit', 78), ('someone', 78), ('year.', 78), ('got', 77), ('past', 77), ('case', 77), ('concern', 77), ('set', 77), ('kids', 77), ('uk', 77), ('current', 77), ('four', 77), ('addiction', 76), ('actually', 76), ('inhaling', 76), ('datuk', 76), ('indoor', 76), ('products,', 75), ('e-cig', 75), ('disease', 75), ('keep', 75), ('needs', 75), ('s', 75), ('seen', 74), ('university', 74), ('following', 74), ('concerns', 74), ('here', 74), ('committee', 74), ('data', 73), ('administration', 73), ('despite', 73), ('legal', 73), ('clark', 73), ('able', 73), ('too', 72), ('week', 72), ('e-liquid', 72), ('thing', 72), ('times', 72), (\"they're\", 72), ('fact', 72), ('secondhand', 72), ('students', 72), ('produce', 72), ('smoker', 71), ('concerned', 71), ('took', 70), ('group', 70), ('start', 70), ('regulate', 70), ('across', 70), ('doing', 70), ('getting', 70), ('regarding', 70), ('published', 69), ('introduced', 69), ('taking', 69), ('president', 69), ('conventional', 69), ('saying', 69), ('states', 68), ('age', 68), ('safe', 68), ('word', 68), ('areas', 68), ('professor', 67), ('glycol', 67), ('buy', 67), ('devices.', 67), ('meeting', 67), ('available', 67), ('delivery', 66), ('cost', 66), ('feel', 66), ('months', 66), (\"we're\", 66), ('passed', 66), ('asked', 65), ('that,', 65), ('them.', 65), ('social', 65), ('laws', 65), ('contains', 65), ('vapes', 65), (\"isn't\", 64), ('decision', 64), ('vegetable', 64), ('flavored', 63), ('bans', 63), ('came', 63), ('issue', 63), ('nearly', 63), ('change', 63), ('themselves', 63), ('dateline:', 62), (\"there's\", 62), ('lead', 61), ('chemical', 61), ('month', 61), ('makes', 61), ('vapor.', 60), ('enough', 60), ('outside', 60), ('dr.', 60), ('effect', 60), ('second-hand', 60), (\"didn't\", 60), ('world', 60), ('five', 59), ('am', 59), ('large', 59), ('wants', 59), ('centers', 59), ('journal', 58), ('released', 58), (\"i'm\", 58), ('vapors', 58), ('18', 58), ('results', 58), ('things', 58), ('united', 58), ('increase', 58), ('2014.', 58), ('e-juice', 58), ('experts', 58), ('anything', 58), ('point', 57), ('provide', 57), ('popular', 57), ('almost', 57), ('taken', 57), ('range', 57), ('habit.', 57), ('water', 57), ('2014', 57), ('billion', 57), ('probably', 56), ('manager', 56), ('statement', 56), ('user', 56), ('online', 56), ('related', 56), ('side', 56), ('real', 56), ('years,', 56), ('owner', 56), ('information', 56), ('instead', 56), ('voted', 56), ('services', 56), ('popularity', 56), ('\"vaping', 56), ('members', 56), ('due', 55), ('helped', 55), ('smell', 55), ('compared', 55), ('especially', 55), ('years.', 55), ('reduce', 55), ('bad', 55), ('restrictions', 55), ('helping', 55), ('person', 55), ('once', 55), ('best', 55), ('becoming', 54), ('quitting', 54), ('devices,', 54), ('trend', 54), ('lungs', 54), ('heart', 54), ('variety', 54), ('\"there', 54), ('anyone', 54), ('\"vaping\"', 54), ('addictive', 54), ('it,', 54), ('level', 54), ('visit', 53), ('association,', 53), ('clear', 53), ('gateway', 53), ('care', 53), ('continue', 53), ('approved', 53), ('means', 53), ('benefits', 53), ('inside', 53), ('\"if', 52), ('prohibited', 52), ('malaysia', 52), ('consider', 52), ('inhaled', 52), ('main', 52), ('calls', 52), ('given', 52), ('further', 52), ('starting', 52), ('smokers,', 52), ('switch', 52), ('medicine', 52), ('canada', 51), ('minors', 51), (\"he's\", 51), ('manufacturers', 51), ('goes', 51), ('lives', 51), ('helps', 51), ('places.', 51), ('question', 51), ('now,', 51), ('added', 51), ('juice', 51), ('kind', 51), ('survey', 51), ('kick', 51), ('hit', 50), ('earlier', 50), ('30', 50), ('jan.', 50), ('flavoured', 50), ('southern', 50), ('leventhal', 50), ('\"', 50), ('estimated', 50), ('scientific', 50), ('please', 50), ('restaurants', 50), (\"you're\", 50), ('agency', 50), ('associated', 49), ('cigarette.', 49), ('increased', 49), ('turned', 49), ('retailers', 49), ('impact', 49), ('marijuana', 49), ('protect', 49), ('consumers', 49), ('member', 49), ('cigarette,', 49), ('battery-powered', 49), ('all,', 49), ('second', 49), ('exposed', 49), ('create', 49), ('lounge', 48), ('media', 48), ('action', 48), ('ingredients', 48), ('dangers', 48), ('pack', 48), ('chapman', 48), ('decided', 47), ('increasing', 47), ('country', 47), ('shows', 47), ('regulating', 47), ('solution', 47), ('query', 47), ('norton', 47), ('based', 47), ('force', 47), ('adult', 47), ('flavours', 47), ('higher', 47), ('education', 47), ('thought', 47), ('use.', 47), ('seri', 47), ('reason', 47), ('soon', 47), ('along', 47), ('expected', 47), ('25', 47), ('experience', 46), ('friends', 46), ('england', 46), ('six', 46), ('went', 46), ('heat', 46), ('vote', 46), ('quit.', 46), ('general', 46), ('turn', 46), ('containing', 46), ('form', 46), ('healthier', 46), ('cities', 46), ('save', 45), ('common', 45), ('district', 45), ('longer', 45), ('follow', 45), ('working', 45), ('formaldehyde', 45), ('society', 45), ('days', 45), ('certain', 44), ('rights', 44), ('always', 44), ('nothing', 44), ('significant', 44), ('street', 44), ('6', 44), ('major', 43), ('taxes', 43), ('line', 43), ('low', 43), ('idea', 43), ('showed', 43), (')', 43), ('encourage', 43), ('coming', 43), ('later', 43), ('reduction', 43), ('money', 43), ('house', 43), ('includes', 43), ('amount', 43), ('e-liquids', 43), ('(', 43), ('â', 43), ('simply', 43), ('unregulated', 42), ('2015', 42), ('unlike', 42), ('life', 42), ('great', 42), ('ago,', 42), ('tell', 42), ('affect', 42), ('move', 42), ('smokeless', 42), ('\"a', 42), ('british', 42), ('deliver', 41), ('near', 41), ('\"this', 41), ('distributed', 41), ('2014,', 41), ('highly', 41), ('malaysian', 41), ('toxic', 41), (\"what's\", 41), ('healthy', 41), ('time,', 41), ('flavor', 41), ('seem', 41), ('alcohol', 41), ('contact:', 41), ('industry.', 41), ('cloud', 41), ('___', 40), ('early', 40), ('executive', 40), ('latest', 40), ('sure', 40), ('call', 40), ('lack', 40), ('plans', 40), ('possible', 40), ('european', 40), ('fatwa', 40), ('fully', 40), ('clean', 40), ('trade', 40), ('everything', 40), ('prevention', 39), ('ads', 39), ('effective', 39), ('release:', 39), ('ago.', 39), ('regulated', 39), ('signs', 39), ('cannot', 39), ('system', 39), ('washington', 39), ('ban,', 39), ('says.', 39), ('center', 39), ('regulations.', 39), ('term', 39), ('taste', 38), ('1,', 38), ('adding', 38), ('changes', 38), ('advocates', 38), ('san', 38), ('findings', 38), ('claim', 38), ('july', 38), ('run', 38), ('staff', 38), ('prevent', 38), ('inhale', 38), ('done', 37), ('filled', 37), ('opening', 37), ('subject', 37), ('addicted', 37), ('threat', 37), ('seems', 37), ('transit', 37), ('systems', 37), ('looks', 37), ('practice', 37), ('glycol,', 37), ('campaign', 37), ('middle', 37), ('mean', 37), ('trains', 37), ('choose', 37), ('kuala', 37), ('employees', 37), ('relatively', 37), ('brands', 37), ('hope', 37), ('retail', 37), (\"won't\", 37), ('thousands', 37), ('believes', 36), ('\"they', 36), ('potentially', 36), ('battery-operated', 36), ('says,', 36), ('mr.', 36), ('personal', 36), ('ever', 36), ('exposure', 36), ('directive', 36), ('batchelder', 36), ('june', 36), ('feet', 36), ('treat', 36), ('west', 36), ('vape.', 36), ('eu', 36), ('regulatory', 36), ('attractive', 36), ('commissioner', 36), ('authorities', 36), ('coffee', 35), ('teen', 35), ('problems', 35), ('various', 35), ('schools', 35), ('suggests', 35), ('addicts', 35), ('study,', 35), ('2013', 35), ('proposal', 35), (\"haven't\", 35), ('and,', 35), ('doctors', 35), ('ago', 35), ('wean', 35), ('agency,', 35), ('bring', 35), ('quite', 35), ('saw', 34), ('enjoy', 34), ('\"in', 34), ('parents', 34), ('considering', 34), ('tribune', 34), ('that.', 34), ('enclosed', 34), ('2012', 34), ('use,', 34), ('battery', 34), ('tar', 34), ('standards', 34), ('industry,', 34), ('teens,', 34), ('offer', 34), ('appears', 34), ('smoking,\"', 34), ('greater', 34), ('caused', 34), ('half', 34), ('vapor,', 34), ('week,', 34), ('younger', 34), ('cancer-causing', 34), ('sells', 34), ('gone', 34), ('chief', 34), ('vape,', 33), ('prohibiting', 33), ('problem', 33), ('wanted', 33), ('either', 33), ('flavour', 33), ('agree', 33), ('police', 33), (\"wasn't\", 33), ('step', 33), ('offers', 33), ('robert', 33), ('lounges', 33), ('international', 33), ('march', 33), ('business.', 33), ('fact,', 33), ('prohibited.', 33), ('4', 33), ('bars', 33), ('seniors', 33), ('lower', 32), ('shops,', 32), ('amounts', 32), ('included', 32), ('completely', 32), ('\"but', 32), ('communities', 32), ('substances', 32), ('wednesday', 32), ('positive', 32), ('pose', 32), ('shop.', 32), ('york', 32), ('huge', 32), ('light', 32), ('\"we\\'re', 32), ('packs', 32), ('reached', 32), (\"city's\", 32), ('becomes', 32), ('result', 32), ('usually', 32), ('governments', 32), (\"aren't\", 32), ('reports', 32), ('contact', 32), ('shop,', 32), ('individuals', 31), ('understand', 31), ('feb.', 31), ('tested', 31), ('old', 31), ('looked', 31), ('buying', 31), ('role', 31), ('claimed', 31), ('bar', 31), ('giving', 31), ('institute', 31), ('deaths', 31), ('rate', 31), ('24', 31), ('substance', 31), ('sometimes', 31), ('revenue', 31), ('quality', 31), ('couple', 31), ('left', 31), ('strong', 31), ('white', 31), ('heavy', 31), ('carcinogens', 31), (\"wouldn't\", 31), ('generation', 31), ('15', 31), ('man', 30), ('hard', 30), ('blood', 30), ('head', 30), ('meeting.', 30), ('via', 30), ('brought', 30), ('cases', 30), ('bit', 30), ('tuesday', 30), ('heard', 30), ('60', 30), ('period', 30), ('vapour,', 30), ('face', 30), ('maine', 30), ('declared', 30), ('network', 30), ('americans', 30), ('drugs', 30), ('illegal', 30), ('purchase', 30), ('close', 30), ('out.', 30), ('avoid', 30), ('los', 30), ('groups', 30), ('michael', 30), ('matter', 30), ('history', 30), ('present', 30), ('editorial@plusmediasolutions.com', 30), ('claims', 30), ('bangor', 30), ('monday', 30), ('allowing', 30), ('service', 30), ('bought', 30), ('leading', 30), ('brand', 30), ('smoke-free', 29), ('switching', 29), ('meanwhile,', 29), ('sample', 29), ('advertisements', 29), ('moving', 29), ('5', 29), ('future', 29), ('held', 29), ('terms', 29), ('considered', 29), ('\"i\\'m', 29), ('centre', 29), ('ontario', 29), ('\"people', 29), ('11', 29), ('ban.', 29), ('takes', 29), ('irish', 29), ('downtown', 29), ('.', 29), ('subramaniam', 29), ('business,', 29), ('runs', 29), ('proven', 29), ('1', 29), ('position', 29), ('suggested', 29), ('seeing', 29), ('building', 29), ('urge', 29), ('north', 29), ('adopted', 29), ('price', 29), ('produced', 28), ('malaysia,', 28), ('vapour.', 28), ('received', 28), ('public.', 28), ('hold', 28), ('improve', 28), ('burning', 28), ('difficult', 28), ('replacement', 28), ('shown', 28), ('enthusiasts', 28), ('14', 28), ('law.', 28), ('voltage', 28), ('costs', 28), ('glycerin', 28), ('weeks', 28), ('opportunity', 28), ('starter', 28), ('view', 28), ('\"our', 28), ('john', 28), ('hookah', 28), ('everyone', 28), ('harmful,', 28), ('reducing', 28), ('total', 28), ('home', 28), ('policies', 28), ('18.', 28), ('rates', 28), ('vaped', 28), ('them,', 28), ('smoking.\"', 28), ('announced', 28), ('month.', 28), ('hundreds', 28), ('conducted', 28), ('(the', 28), ('paper', 28), ('full', 28), ('increasingly', 27), ('smokers.', 27), ('p.m.', 27), ('third', 27), ('driven', 27), ('day.', 27), ('spokesman', 27), ('provides', 27), ('is,', 27), ('puffing', 27), ('asking', 27), ('restaurant', 27), ('efforts', 27), ('poison', 27), ('...', 27), ('behind', 27), ('harmless', 27), ('conley,', 27), ('multnomah', 27), ('reach', 27), ('final', 27), ('transportation', 27), ('designed', 27), ('let', 27), ('puff', 27), ('key', 27), ('this,', 27), ('special', 27), ('appear', 27), ('restaurants,', 27), ('enforcement', 27), ('opponents', 27), ('regional', 27), ('particularly', 27), (\"hasn't\", 27), ('serious', 27), ('cross', 27), ('promoting', 27), ('chair', 27), ('95', 27), ('david', 27), ('product.', 27), ('\"as', 27), ('gives', 27), ('advice', 27), ('outdoor', 26), ('apply', 26), ('discussed', 26), ('measure', 26), ('(c)2015', 26), ('argued', 26), ('development', 26), ('switched', 26), ('worried', 26), ('website', 26), ('family', 26), ('plan', 26), ('women', 26), ('traders', 26), ('serve', 26), ('too.', 26), ('formaldehyde,', 26), ('argue', 26), ('technology', 26), ('market.', 26), ('impose', 26), ('meant', 26), ('consumer', 26), ('tv', 26), ('names', 26), ('rise', 26), ('candy', 26), ('association.', 26), ('suggest', 26), ('ensure', 26), ('tripled', 26), ('aerosol', 26), ('17', 26), ('inhaled.', 26), ('commercial', 26), ('majority', 26), ('cut', 26), ('day,', 26), ('comment', 26), ('learn', 26), ('effort', 26), ('month,', 26), ('nor', 26), ('putting', 26), ('needed', 26), ('independent', 26), ('alternatives', 26), ('fire', 25), ('officer', 25), ('oregon', 25), ('taylor', 25), ('became', 25), ('park', 25), ('smoker,', 25), ('johor', 25), ('except', 25), (\"they've\", 25), ('fall', 25), ('address', 25), ('\"my', 25), ('spaces', 25), ('biggest', 25), ('official', 25), ('fine', 25), ('itself', 25), ('s.', 25), ('benefit', 25), ('rule', 25), ('method', 25), ('january', 25), ('agreed', 25), ('amendment', 25), ('scientists', 25), ('involved', 25), ('easy', 25), ('heating', 25), ('mostly', 25), ('inhalation', 25), ('require', 25), ('keeping', 25), ('cigars', 25), ('acceptable', 25), ('far,', 25), ('body', 25), ('facebook', 25), ('reynolds', 25), ('delivering', 25), (',', 25), ('2', 25), ('fewer', 25), ('dozen', 25), ('limit', 25), ('\"no', 25), ('equivalent', 25), ('remains', 25), ('anti-smoking', 25), ('sign', 25), ('review', 24), ('people.', 24), ('test', 24), ('inhalant', 24), ('previous', 24), ('led', 24), ('wide', 24), ('session', 24), ('pens,', 24), ('13', 24), ('largely', 24), ('cartridges', 24), ('generally', 24), ('abuse', 24), ('london', 24), (\"couldn't\", 24), ('feeling', 24), ('&ndash;', 24), ('train', 24), ('exhaled', 24), ('supported', 24), ('offering', 24), ('\"when', 24), ('chronic', 24), ('calling', 24), ('town', 24), ('schools,', 24), ('reasons', 24), ('showing', 24), ('blow', 24), ('areas.', 24), ('kansas', 24), ('inc.', 24), ('launched', 24), ('black', 24), ('causes', 24), ('equipment', 24), ('law,', 24), ('juices', 24), ('places,', 24), ('questions', 24), ('designated', 24), ('t', 24), ('created', 24), ('breathing', 24), ('store.', 24), ('debate', 24), ('$100', 24), ('angeles', 24), ('regulation.', 24), ('read', 24), ('danger', 24), ('hopes', 24), ('human', 24), ('spent', 24), ('normal', 24), ('power', 24), ('testosterone', 23), ('50', 23), ('men', 23), ('push', 23), ('harmful.', 23), ('marketed', 23), ('display', 23), ('fruit', 23), ('hand', 23), ('businesses.', 23), ('night', 23), ('vapes,', 23), ('growth', 23), ('began', 23), ('works', 23), ('quickly', 23), ('letter', 23), ('2016', 23), ('non-smokers', 23), ('appeal', 23), ('version', 23), ('residents', 23), ('then,', 23), ('mark', 23), ('process', 23), (\"i've\", 23), ('grown', 23), ('fears', 23), ('room', 23), ('prohibits', 23), ('program', 23), ('not,', 23), ('wrote', 23), ('way,', 23), ('deputy', 23), ('children.', 23), ('up.', 23), ('llc.', 23), ('millions', 23), ('teenagers', 23), ('james', 23), ('\"you', 23), ('oxford', 23), ('addiction.', 23), ('gave', 23), (\"state's\", 23), ('convenience', 23), ('office', 22), ('today', 22), ('parts', 22), ('types', 22), ('unanimously', 22), ('damage', 22), ('share', 22), ('wednesday,', 22), ('rail', 22), ('size', 22), ('!@copyright=©', 22), ('19', 22), ('country.', 22), ('regulation,', 22), ('supplies', 22), ('stand', 22), ('drinking', 22), ('40', 22), ('caught', 22), ('felt', 22), ('indeed,', 22), ('people,', 22), ('cdc', 22), ('seven', 22), ('mayor', 22), ('reserved.', 22), ('vaporizers', 22), ('welsh', 22), ('so,', 22), ('recommend', 22), ('say,', 22), ('smokes', 22), ('section', 22), ('makers', 22), ('paul', 22), ('whole', 22), ('order', 22), ('&', 22), ('issues', 22), ('cool', 22), ('twice', 22), ('funded', 22), ('planning', 22), ('scott', 22), ('countries', 22), ('milligrams', 22), ('difference', 22), ('businesses,', 22), ('council,', 22), ('fear', 22), ('restrict', 22), ('studied', 22), ('patients', 22), ('vapers,', 22), ('eight', 22), ('raised', 22), ('contained', 22), ('10th-graders', 22), ('together', 22), ('relative', 22), ('spokesperson', 21), ('associate', 21), ('decide', 21), ('county,', 21), ('smoking-related', 21), ('mr', 21), ('effects.', 21), ('stores,', 21), ('spoke', 21), ('err', 21), ('city,', 21), ('described', 21), ('controversial', 21), ('worry', 21), ('add', 21), ('provincial', 21), ('news.', 21), ('editor', 21), ('stations', 21), ('\"and', 21), ('9', 21), ('friend', 21), ('cigarettes,\"', 21), ('virtually', 21), ('added.', 21), ('stay', 21), ('decline', 21), ('drawing', 21), ('private', 21), ('short', 21), ('space', 21), ('policy.', 21), ('plus', 21), ('12', 21), ('team', 21), ('licensed', 21), ('nhs', 21), ('phenomenon', 21), ('added:', 21), ('carry', 21), ('expensive', 21), ('argument', 21), ('throughout', 21), ('minutes', 21), ('again', 21), ('ordinances', 21), ('totally', 21), ('gets', 21), ('100', 21), ('ability', 21), ('sultan', 21), ('existing', 21), ('challenge', 21), ('child', 21), ('vaporizer', 21), ('expect', 21), ('warning', 21), ('encouraged', 21), ('\"vape', 21), ('ecigarettes', 21), ('necessary', 21), ('choice', 21), ('lawmakers', 20), ('goal', 20), ('issue.', 20), ('device.', 20), ('flavors,', 20), ('states.', 20), ('largest', 20), ('city.', 20), ('addition', 20), ('reduced', 20), ('restricted', 20), ('successful', 20), ('raise', 20), ('protecting', 20), ('days.', 20), ('flights', 20), ('chairman', 20), ('aid', 20), ('addictive,', 20), ('permitted', 20), ('culture', 20), ('course', 20), ('quit,', 20), ('usc', 20), ('december', 20), ('typically', 20), ('noted', 20), ('smaller', 20), ('play', 20), ('provision', 20), ('hamilton', 20), ('vaping,\"', 20), (\"i'd\", 20), ('airplane', 20), ('success', 20), ('faa', 20), ('user.', 20), ('batteries', 20), ('example,', 20), ('response', 20), ('passive', 20), ('ways', 20), ('duncan', 20), ('dec.', 20), ('list', 20), ('perception', 20), ('bart', 20), ('figures', 20), ('control.', 20), ('gregory', 20), ('press', 20), ('users.', 20), ('customer', 20), ('join', 20), ('strongly', 20), ('21', 20), ('spread', 20), ('officers', 20), ('highlight:', 20), ('creating', 20), ('actual', 20), ('cancer,', 20), ('definition', 20), ('expert', 20), ('directly', 20), ('youth.', 19), ('co-owner', 19), ('favor', 19), ('fight', 19), ('met', 19), ('physical', 19), ('widely', 19), ('2012,', 19), ('railway', 19), ('carbon', 19), ('sees', 19), ('urged', 19), ('hearing', 19), ('watched', 19), ('vaping\"', 19), ('risks,', 19), ('\"these', 19), ('older', 19), ('consumption', 19), ('convention', 19), ('top', 19), ('worth', 19), ('providing', 19), ('unknown', 19), ('percent.', 19), ('brink', 19), ('changing', 19), ('bill,', 19), ('example', 19), ('target', 19), ('mental', 19), ('outlets', 19), (\"they'll\", 19), ('chance', 19), ('april', 19), ('negative', 19), ('clearly', 19), ('sampling', 19), ('conley', 19), ('locations', 19), ('organisation', 19), ('prices', 19), ('postmedia', 19), ('counties', 19), ('organization', 19), ('research.', 19), ('3', 19), ('mainly', 19), ('supporters', 19), ('canadian', 19), ('dangerous.', 19), ('dramatic', 19), ('portland', 19), ('combustible', 19), ('cabinet', 19), ('representative', 19), ('road', 19), ('firm', 19), ('village', 19), ('minors.', 19), ('activity', 19), ('8', 19), ('additional', 19), ('sweet', 19), ('glycerin,', 19), ('interested', 19), ('bars,', 19), ('opposition', 19), ('firms', 19), ('states,', 19), ('sen.', 19), ('opposed', 19), ('device,', 19), ('doctor', 19), ('also,', 19), ('recreational', 19), ('extended', 19), ('thomas', 18), ('claims,', 18), ('thursday', 18), ('caution', 18), ('laboratory', 18), ('hooked', 18), ('company,', 18), ('club', 18), ('towards', 18), ('imposed', 18), ('matt', 18), ('2013,', 18), ('introduce', 18), ('adopt', 18), ('nuclear', 18), ('continued', 18), ('jan', 18), ('$25', 18), ('television', 18), ('1.', 18), ('seeking', 18), ('eventually', 18), ('professionals', 18), ('individual', 18), ('critics', 18), ('passengers', 18), ('orange', 18), ('22', 18), ('respiratory', 18), ('housing', 18), ('supply', 18), ('feels', 18), ('\"there\\'s', 18), ('domestic', 18), ('allows', 18), ('experience.', 18), ('return', 18), ('determine', 18), ('excise', 18), ('agencies', 18), ('remain', 18), ('limiting', 18), ('monday.', 18), ('aspect', 18), ('approval', 18), ('school,', 18), ('patches', 18), ('cited', 18), ('july,', 18), ('minnesota', 18), ('abdul', 18), ('whose', 18), ('message', 18), ('ones', 18), ('adam', 18), ('bottles', 18), ('driving', 18), ('parks.', 18), ('union', 18), ('youths', 18), ('hands', 18), ('believed', 18), ('gum', 18), ('heated', 18), ('rapid', 18), ('still,', 18), ('depending', 18), ('users,', 18), ('none', 18), ('pushing', 18), ('brain', 18), ('unclear', 18), ('kits', 18), ('habit,', 18), ('established', 18), ('chemicals,', 18), ('bills', 18), ('safe.', 18), ('operators', 18), ('gather', 18), ('shops.', 18), ('consequences', 18), ('uses', 18), ('gas', 18), ('knows', 18), ('items', 18), ('advert', 18), ('financial', 17), ('strategies', 17), ('anywhere', 17), ('not.', 17), ('pregnant', 17), ('talking', 17), ('features', 17), ('dozens', 17), ('experienced', 17), ('kit', 17), ('express', 17), ('stopping', 17), ('dropped', 17), ('lighting', 17), ('2013.', 17), ('below', 17), ('society,', 17), ('35', 17), ('dedicated', 17), ('familiar', 17), ('factors', 17), ('issue,', 17), ('french', 17), ('\"while', 17), ('overall', 17), ('emit', 17), ('diseases', 17), ('live', 17), ('welcome', 17), ('airplanes', 17), (\"council's\", 17), ('ask', 17), ('concentrations', 17), ('numerous', 17), ('promotion', 17), ('concerning', 17), ('knew', 17), ('science', 17), ('heroin', 17), ('e-cigarette,', 17), ('deal', 17), ('candy,', 17), ('are,', 17), ('hazardous', 17), ('parks', 17), ('surrounding', 17), ('consideration', 17), ('product,', 17), ('one.', 17), ('complaints', 17), ('limited', 17), ('russell', 17), ('curb', 17), ('cheaper', 17), ('losing', 17), ('language', 17), ('primary', 17), ('figure', 17), ('all.', 17), ('usage', 17), ('unfortunately,', 17), ('projects', 17), ('october', 17), ('knowing', 17), ('advertise', 17), ('access', 17), ('henley', 17), (\"we'll\", 17), ('drive', 17), ('talk', 17), ('toward', 17), ('adults.', 17), ('meeting,', 17), ('workplace', 17), ('court', 17), ('shopping', 17), ('bewley', 17), ('front', 17), ('location', 17), ('authority', 17), ('thus', 17), ('carcinogenic', 17), ('sir', 17), ('treatment', 17), ('noticed', 17), ('purchased', 17), ('unless', 17), ('array', 17), ('sports', 17), ('ordinance.', 17), ('average', 17), ('primarily', 17), ('kill', 17), ('motion', 17), ('air.', 17), ('twitter', 17), ('wild', 17), ('entrepreneurs', 16), ('tests', 16), ('islamic', 16), ('clouds', 16), ('flavorings', 16), ('developed', 16), ('green', 16), ('comments', 16), ('councilman', 16), (\"'vaping'\", 16), ('cigarettes.\"', 16), ('pass', 16), ('effects,', 16), ('pennsylvania', 16), ('flavoring', 16), ('store,', 16), ('me.', 16), ('caution.', 16), ('st.', 16), ('type', 16), ('time.', 16), ('\"for', 16), ('spend', 16), ('\"at', 16), ('discourage', 16), ('meaning', 16), ('compliance', 16), ('false', 16), ('base', 16), ('pa.)', 16), ('smith', 16), ('rep.', 16), ('market,', 16), ('poisons', 16), ('mall', 16), ('particular', 16), ('die', 16), ('diacetyl', 16), ('late', 16), ('muslims', 16), ('finding', 16), ('initial', 16), ('confusion', 16), ('wait', 16), ('tool', 16), ('hutchinson', 16), ('it.\"', 16), ('mixed', 16), ('registered', 16), ('country,', 16), ('decades', 16), ('65', 16), ('well,', 16), ('premises', 16), ('political', 16), ('steam', 16), ('hospital', 16), ('saving', 16), ('govia', 16), ('universities', 16), ('happy', 16), ('gtr', 16), ('world.', 16), ('\"vape\"', 16), ('worked', 16), ('smoker.', 16), ('washington:', 16), ('harms', 16), ('oct.', 16), ('clift-lands', 16), ('thameslink', 16), ('forward', 16), ('koin', 16), ('possible.', 16), ('approach', 16), ('sunday', 16), ('kafoury', 16), ('vancouver', 16), ('research,', 16), ('college', 16), ('here,', 16), ('licensing', 16), ('2009,', 16), ('supposed', 16), ('minors,', 16), ('posted', 16), ('easily', 16), ('8th-', 16), ('religious', 16), ('direct', 16), ('heats', 16), ('tom', 16), ('emerging', 16), ('funding', 16), ('accepted', 16), ('escalated', 16), ('e-liquid,', 16), ('friday', 16), ('protection', 16), ('\"some', 16), ('gotten', 16), ('study.', 16), ('significantly', 16), ('south', 16), ('lahore', 16), ('darsow', 16), ('life.', 16), ('organic', 16), ('sense', 16), ('cotton', 16), ('stopped', 16), ('noise', 16), ('kik', 16), ('numbers', 16), ('employers', 16), ('gatwick', 16), ('county.', 15), ('grow', 15), ('ordinance,', 15), ('required', 15), ('countries,', 15), ('commissioners', 15), ('rooms', 15), ('ready', 15), ('thinks', 15), ('swedish', 15), ('versus', 15), ('jumped', 15), ('enticing', 15), ('recently,', 15), ('advertising,', 15), ('permit', 15), ('\"what', 15), ('place.', 15), ('project', 15), ('phe', 15), ('bystanders', 15), ('toxins', 15), ('fast', 15), ('vaporizing', 15), ('province', 15), ('reading', 15), ('discovered', 15), ('mccann', 15), ('anti-tobacco', 15), ('mixture', 15), ('johnson', 15), ('planned', 15), ('e-liquids,', 15), ('oklahoma', 15), ('concerns.', 15), ('woman', 15), ('lungs.', 15), ('institutes', 15), ('statement.', 15), ('e', 15), ('prove', 15), ('flavors.', 15), ('increases', 15), ('particles', 15), ('pubs', 15), ('beginning', 15), ('failed', 15), ('story', 15), ('people,\"', 15), ('discuss', 15), ('me,', 15), ('cover', 15), ('ministry,', 15), ('senior', 15), ('2015.', 15), ('history,', 15), ('walk', 15), ('patient', 15), ('4,000', 15), ('standard', 15), ('extra', 15), ('\"one', 15), ('trading', 15), ('airplanes.', 15), ('public-health', 15), ('else', 15), ('2011,', 15), ('healthcare', 15), ('bottle', 15), ('group,', 15), ('fellow', 15), ('hours', 15), ('stuff', 15), ('respect', 15), ('2010', 15), ('state.', 15), ('researcher', 15), ('promote', 15), ('benefits,', 15), ('plastic', 15), ('therefore', 15), ('post', 15), ('name', 15), ('simple', 15), ('to,', 15), ('sex', 15), ('supports', 15), ('markets', 15), ('advisory', 15), ('pharmaceutical', 15), ('16', 15), ('arguments', 15), ('island', 15), ('e-cigarette.', 15), ('vapers.', 15), ('youngsters', 15), ('warnings', 15), ('offered', 15), ('options', 15), ('santa', 15), ('typical', 15), ('vaporize', 15), ('attention', 15), ('a.m.', 15), ('answer', 15), ('signed', 15), ('prominent', 15), ('apparently', 15), ('delivers', 15), ('oil', 15), ('daughter', 15), ('blowing', 15), ('points', 15), ('formaldehyde.', 15), ('keeps', 15), ('requires', 15), ('poses', 15), ('councillors', 15), ('population', 15), ('themselves.', 15), ('period.', 15), ('determined', 15), ('workplaces', 15), ('global', 15), ('sent', 15), ('exist', 15), ('deadly', 15), ('parks,', 14), ('establishments', 14), (\"we've\", 14), ('2012.', 14), ('moment,', 14), ('streets,', 14), ('breath', 14), ('gadgets', 14), ('revealed', 14), ('testing', 14), ('chocolate', 14), ('previously', 14), ('checks', 14), ('quitters', 14), ('therapy', 14), ('pens', 14), ('prof', 14), ('well.', 14), ('banned.', 14), ('larger', 14), ('steady', 14), ('doubled', 14), ('portion', 14), ('\"on', 14), ('viewed', 14), ('miller', 14), ('receive', 14), ('fill', 14), ('owns', 14), ('upon', 14), ('ireland', 14), ('developing', 14), ('implement', 14), ('security', 14), ('report.', 14), ('commission', 14), ('flight', 14), ('premises.', 14), ('attempts', 14), ('bringing', 14), ('beyond', 14), ('bangor,', 14), ('liquid.', 14), ('date', 14), ('station', 14), ('slightly', 14), ('municipalities', 14), ('vaping.\"', 14), ('daily,', 14), ('britain', 14), ('availability', 14), ('scheduled', 14), ('steve', 14), ('in.', 14), ('facts', 14), ('sit', 14), ('system.', 14), ('vapes.', 14), ('23', 14), ('picture', 14), ('internet', 14), ('release', 14), ('thing,', 14), ('harm.', 14), ('immediately', 14), ('hate', 14), ('draft', 14), ('decisions', 14), ('turns', 14), ('expand', 14), ('guidance', 14), ('quick', 14), ('falls', 14), ('cold', 14), ('northern', 14), ('franchise', 14), ('serves', 14), ('discouraging', 14), ('engage', 14), ('recommended', 14), ('llc', 14), ('systems.', 14), ('kills', 14), ('liquids,', 14), ('cars', 14), ('throat', 14), ('difficult.', 14), ('though,', 14), ('design', 14), ('herald', 14), ('hospitals', 14), ('schools.', 14), (\"she's\", 14), ('up,', 14), ('fruity', 14), ('samples', 14), ('costa', 14), ('aware', 14), ('yet.', 14), ('others.', 14), ('raids', 14), ('exactly', 14), ('advantages', 14), ('interest', 14), ('nonsmokers', 14), ('account', 14), ('medications', 14), ('non-smoking', 14), ('wish', 14), ('now.', 14), ('estimates', 14), ('meet', 14), ('worries', 14), ('pay', 14), ('notice', 14), ('email', 14), ('measures', 14), ('nearby', 14), ('flavours,', 14), ('harder', 14), ('watching', 14), ('environment', 14), ('case.', 14), ('trouble', 14), ('players', 14), ('commonly', 14), ('quarter', 14), ('assume', 14), ('\"e-cigarettes', 13), ('cafe', 13), ('simulate', 13), ('department.', 13), ('prevention,', 13), ('\"why', 13), ('provided', 13), ('himself', 13), ('temperature', 13), ('death', 13), ('report,', 13), ('standing', 13), ('date,', 13), ('dollars', 13), ('student', 13), ('calgary', 13), ('exemption', 13), ('willing', 13), ('drop', 13), ('surveyed', 13), ('radio', 13), ('cancer.', 13), ('metal', 13), ('realise', 13), ('appeared', 13), ('coincides', 13), ('model', 13), (\"people's\", 13), ('stores.', 13), ('issuing', 13), ('bat', 13), ('refill', 13), ('threatening', 13), ('placed', 13), ('hand,', 13), ('drawn', 13), ('colleagues', 13), ('possibility', 13), ('conduct', 13), ('addition,', 13), ('wanting', 13), ('door', 13), ('nicotine-laced', 13), ('built', 13), ('opiate', 13), ('puts', 13), ('safe,', 13), ('alsa', 13), (\"vaping's\", 13), ('car', 13), ('ismail', 13), ('conference', 13), ('foreign', 13), ('regulations,', 13), ('located', 13), ('responsible', 13), ('licences', 13), ('lumpur:', 13), ('idaho', 13), ('advocacy', 13), ('st', 13), ('forbidden', 13), ('act,', 13), ('today,', 13), (\"shouldn't\", 13), ('manufacturer', 13), ('specific', 13), ('alone', 13), ('puffs', 13), ('proving', 13), ('somewhat', 13), ('begin', 13), ('wall', 13), ('encouraging', 13), ('damerla', 13), ('changed', 13), ('perhaps', 13), ('well-being', 13), ('blue', 13), ('exhale', 13), ('ventilation', 13), ('mainstream', 13), ('conditions', 13), ('\"from', 13), ('airlines', 13), ('ending', 13), ('needle', 13), ('unable', 13), ('uk.', 13), ('lumpur', 13), ('waldo', 13), ('unknown.', 13), ('stress', 13), ('absolutely', 13), ('creates', 13), ('option', 13), ('thing.', 13), ('therefore,', 13), ('continues', 13), ('thick', 13), ('alternative.', 13), ('cartridge', 13), ('myself', 13), ('quebec', 13), ('others,', 13), ('rules,', 13), ('stringent', 13), ('certainly', 13), ('concentrated', 13), ('whom', 13), ('requiring', 13), ('maximum', 13), ('transport', 13), ('oversight', 13), ('educational', 13), ('eager', 13), ('this.', 13), (\"shop's\", 13), ('phone', 13), ('english', 13), ('mouth', 13), ('obvious', 13), ('regulated.', 13), ('\"vaping,\"', 13), ('planet', 13), ('known,', 13), ('kevin', 13), ('vaper', 13), ('complete', 13), ('boulder', 13), ('bigger', 13), ('200', 13), ('mix', 13), ('warn', 13), ('same.', 13), ('retailer', 13), ('\"big', 13), ('committed', 13), ('popular,', 13), ('parliament', 13), ('attract', 13), ('so-called', 13), ('contents', 13), ('statistics', 13), ('medicines', 13), ('stations.', 13), ('selection', 13), ('strength', 13), ('survey,', 13), ('ibrahim', 13), ('reportedly', 12), ('weeks.', 12), ('resident', 12), ('listed', 12), ('wrong', 12), ('text', 12), ('decision.', 12), ('sensation', 12), ('creek', 12), ('specialty', 12), ('ample', 12), ('advanced', 12), ('treating', 12), ('far.', 12), ('hotel', 12), (\"ministry's\", 12), ('test,', 12), ('element', 12), ('decrease', 12), ('ahead', 12), ('february', 12), ('sellers', 12), ('holmes', 12), ('first,', 12), ('stance', 12), ('energy', 12), ('tobacco.\"', 12), ('suggesting', 12), ('ahmad', 12), ('battery,', 12), ('proof', 12), ('regulated,', 12), ('evidence.', 12), ('karen', 12), ('mp', 12), ('them,\"', 12), ('involvement', 12), ('online.', 12), ('demonstrate', 12), ('surprise', 12), ('vapors,', 12), ('editorial', 12), ('enterprise', 12), ('21,', 12), ('banana', 12), ('aids.', 12), ('e-cigs.', 12), ('unhealthy', 12), ('malaysians', 12), ('hot', 12), ('entrances', 12), ('declining', 12), ('mall,', 12), ('essentially', 12), ('bans,', 12), ('parties', 12), ('regulators', 12), ('true', 12), ('vaporiser', 12), ('decade.', 12), ('yet,', 12), ('restriction', 12), ('anti-vaping', 12), ('active', 12), ('raising', 12), ('months.', 12), ('haram', 12), ('site', 12), ('tobacco-related', 12), ('children,', 12), ('monday,', 12), ('wonder', 12), ('don', 12), ('emitted', 12), ('system,', 12), ('educate', 12), ('fans', 12), ('appealing', 12), ('eleanor', 12), ('basis', 12), ('toxins.', 12), ('writing', 12), ('hear', 12), ('interpreted', 12), ('pre-packaged', 12), ('leader', 12), ('mouth.', 12), ('doubt', 12), ('spaces.', 12), ('prefer', 12), ('legally', 12), ('somebody', 12), ('indoors', 12), ('resolution', 12), ('tank', 12), ('penalties', 12), ('apple', 12), ('orono', 12), ('2011', 12), ('\"tobacco', 12), ('brain.', 12), ('lotus', 12), ('us,', 12), ('amend', 12), ('implemented', 12), ('treated', 12), ('gradually', 12), ('paint', 12), ('violation', 12), ('hair', 12), ('90', 12), ('it,\"', 12), ('peter', 12), ('packaging', 12), ('bus', 12), ('answers', 12), ('sort', 12), ('prohibition', 12), ('400', 12), ('altria', 12), ('studies,', 12), ('enforce', 12), ('booming', 12), ('months,', 12), ('models', 12), ('behavior', 12), ('out,', 12), ('bill.', 12), ('develop', 12), ('employment', 12), ('carries', 12), ('recognized', 12), ('better.', 12), ('dictionaries', 12), ('subjected', 12), ('employee', 12), ('nov.', 12), ('course,', 12), ('improving', 12), ('leaving', 12), ('socially', 12), ('distinction', 12), ('recreation.', 12), ('applies', 12), ('week.', 12), ('worldwide', 12), ('days,', 12), ('spending', 12), ('nationwide', 12), ('natural', 12), ('more:', 12), ('community,', 12), ('companies,', 12), ('effect,', 12), ('convinced', 12), ('mars', 12), ('reports.', 12), ('vaporized', 12), ('on,', 12), ('modified', 12), ('forms', 12), ('cigars,', 12), ('hookahs', 12), ('fighting', 12), ('otherwise', 12), ('but,', 12), ('restricting', 12), ('king', 12), (\"popie's\", 12), ('step,', 12), ('produces', 12), ('chosen', 12), ('substitute', 11), ('powerful', 11), ('confidence', 11), ('shisha', 11), ('yesterday.', 11), ('accounted', 11), ('worldwide.', 11), (\"year's\", 11), ('risk.', 11), ('seemed', 11), ('vapors.', 11), ('easier', 11), ('page', 11), ('heart.', 11), ('lists', 11), ('single', 11), ('re', 11), ('wales,', 11), ('remember', 11), ('submit', 11), ('taxation', 11), ('vaping:', 11), ('$3', 11), ('compounds', 11), ('leads', 11), ('chain', 11), ('prevents', 11), ('poor', 11), ('turning', 11), ('property', 11), ('flavours.', 11), ('supplies.', 11), ('place,', 11), ('mesa', 11), ('eating', 11), ('presented', 11), ('valley', 11), ('happened', 11), ('here.', 11), ('searches', 11), ('activities', 11), ('impacts', 11), ('liquids.', 11), ('originally', 11), ('closed', 11), ('insist', 11), ('license', 11), ('fall.', 11), ('boston', 11), ('expressed', 11), ('fines', 11), ('systems,', 11), ('bystanders.', 11), ('short,', 11), ('so.', 11), ('meaningful', 11), ('harmless.', 11), ('instead,', 11), ('fair', 11), ('before,', 11), ('patches.', 11), ('walker', 11), ('centre,', 11), ('bylaw', 11), ('check', 11), ('pipes', 11), ('(among', 11), ('stated', 11), ('agreement', 11), ('area.', 11), ('physician', 11), ('hilmi', 11), ('drag', 11), ('controls', 11), ('kept', 11), ('mercer', 11), ('community.', 11), ('written', 11), ('pollution', 11), ('farsalinos', 11), ('whereas', 11), ('smoke.\"', 11), ('policy,', 11), ('died', 11), ('involving', 11), ('amended', 11), ('wicked', 11), ('31', 11), ('experts,', 11), ('finally', 11), ('basic', 11), ('menthol', 11), ('ruling', 11), ('granted', 11), ('aspects', 11), ('lounges.', 11), ('emissions', 11), ('\"an', 11), (\"county's\", 11), ('bans.', 11), ('ridiculous', 11), ('inside.', 11), ('checked', 11), ('(or', 11), ('barrett', 11), ('more,', 11), ('products.\"', 11), ('specialist', 11), ('which,', 11), ('tobacco,\"', 11), ('holding', 11), ('vaporizers,', 11), ('declined', 11), ('studied,', 11), ('percentage', 11), ('sponsors', 11), ('additives', 11), ('nicotine,\"', 11), ('walked', 11), ('$40', 11), ('mind', 11), ('addicts,', 11), ('municipal', 11), ('series', 11), ('port', 11), ('emerged', 11), ('claims.', 11), ('careful', 11), ('source', 11), ('spokane', 11), ('twisted', 11), ('environmental', 11), ('strawberry', 11), ('persuade', 11), ('limits', 11), ('adverse', 11), ('behaviour', 11), ('steps', 11), ('premature', 11), ('trend,', 11), ('anything,', 11), ('rapidly', 11), ('vaporization', 11), ('patent', 11), ('worst', 11), ('progress', 11), ('foundation', 11), ('comprehensive', 11), ('\"that\\'s', 11), ('kiosk', 11), ('paso', 11), ('spaces,', 11), ('saved', 11), ('more.', 11), ('misleading', 11), ('tied', 11), ('citing', 11), ('e-liquids.', 11), ('love', 11), ('tobacco\"', 11), ('concern,', 11), ('youtube', 11), ('rings', 11), ('mike', 11), ('picked', 11), ('besides', 11), ('complex', 11), ('leaders', 11), ('vapouriser', 11), ('efficient', 11), ('information,', 11), ('unjustified', 11), ('concept', 11), ('politically', 11), ('arguing', 11), ('selangor', 11), ('slow', 11), ('advised', 11), ('space,', 11), ('yearlong', 11), ('in,', 11), ('maintain', 11), ('bay', 11), ('\"electronic', 11), ('defined', 11), ('balance', 11), ('cultural', 11), ('\"most', 11), ('grade', 11), ('chris', 11), ('jack', 11), ('mohd', 11), ('wales', 11), ('alongside', 11), ('regularly', 11), ('australian', 11), ('brings', 11), ('freedom', 11), ('authors', 11), ('ceo', 10), ('rules.', 10), ('movie', 10), ('vote,', 10), ('later,', 10), ('breathe', 10), ('burn', 10), ('westfield', 10), ('intended', 10), ('available,', 10), ('opinion', 10), ('unit', 10), ('sounds', 10), ('extending', 10), ('desire', 10), ('maybe', 10), ('mrs.', 10), ('\"they\\'re', 10), ('tuesday,', 10), ('joseph', 10), ('commentators', 10), ('asthma', 10), ('shortage', 10), ('*', 10), ('cites', 10), ('scented', 10), ('operate', 10), ('bunch', 10), ('statewide', 10), ('government,', 10), ('nationwide,', 10), ('extremely', 10), ('finds', 10), ('committee,', 10), (\"smokers'\", 10), ('congress', 10), ('brand,', 10), ('words,', 10), ('force.', 10), ('again.', 10), ('fleck', 10), ('operates', 10), ('drugs,', 10), ('again,', 10), ('eye', 10), ('pros', 10), ('pending', 10), ('causing', 10), ('vaporisers', 10), ('voltages.', 10), ('moves', 10), ('partner', 10), ('cigar', 10), ('disproportionate', 10), ('chemicals.', 10), ('help.', 10), ('fix', 10), ('damaging', 10), ('everywhere', 10), ('risks.', 10), ('components', 10), ('you.', 10), ('prevent.', 10), ('build', 10), ('vast', 10), ('society.', 10), ('oppose', 10), ('owned', 10), ('brunswick', 10), ('misinformation', 10), ('offices', 10), ('producing', 10), ('emotion', 10), ('democratic', 10), ('annual', 10), ('gov.', 10), ('dec', 10), ('advertising.', 10), ('mention', 10), ('bluefield', 10), ('survey.', 10), ('e-cigs,', 10), ('smoking;', 10), ('customize', 10), ('presence', 10), ('century', 10), ('equipment.', 10), ('byproducts', 10), ('harm-reduction', 10), ('australia', 10), ('england.', 10), (\"world's\", 10), ('case,', 10), ('premium', 10), (\"industry's\", 10), ('budget', 10), ('philip', 10), ('managed', 10), ('products,\"', 10), ('concentration', 10), ('hitting', 10), ('present.', 10), (\"vaping'\", 10), ('workplaces.', 10), ('goods', 10), ('land', 10), ('brown', 10), ('\"all', 10), ('widespread', 10), ('teens)', 10), ('14-year-olds', 10), ('advocate', 10), ('east', 10), ('november', 10), ('studying', 10), ('bank', 10), ('vaping?', 10), ('snus', 10), ('brief', 10), ('administration,', 10), ('operator', 10), ('night,', 10), ('sacramento.', 10), ('retailers,', 10), ('varying', 10), ('threats', 10), ('excessive', 10), ('counter', 10), ('speaking', 10), ('small-business-killing', 10), ('hypotheses', 10), ('accessories', 10), ('2,530', 10), ('enjoying', 10), ('campaigns', 10), ('bemidji', 10), ('borough', 10), ('failure', 10), ('lose', 10), ('dining', 10), ('fit', 10), ('adults,', 10), ('schoolers', 10), ('gabriel', 10), ('customers.', 10), ('situation', 10), ('95%', 10), ('222', 10), ('keck', 10), ('poisoning', 10), ('clinical', 10), ('pipe', 10), ('tea', 10), ('lorje', 10), ('voiced', 10), ('linked', 10), ('cease', 10), ('chicago', 10), ('dangerous,', 10), ('ecigarette', 10), ('category', 10), ('el', 10), ('\"that', 10), ('brief.', 10), ('substances.', 10), ('answer,', 10), ('warned', 10), ('drink', 10), ('ph.d.', 10), ('california.', 10), ('vary', 10), ('\"we\\'ve', 10), ('safety.', 10), ('standards.', 10), ('explains', 10), ('future.', 10), ('experimentation', 10), ('gear', 10), ('aviation', 10), ('november,', 10), ('rural', 10), ('politicians', 10), ('yesterday', 10), ('1,000', 10), ('ron', 10), ('grasped', 10), ('pulled', 10), ('hall', 10), ('pleasurable,', 10), ('jury', 10), ('words', 10), ('minimum', 10), ('metropolitan', 10), ('unsubstantiated', 10), ('concluded', 10), ('groups,', 10), ('williams', 10), ('boardwalk', 10), ('carrying', 10), ('review,', 10), ('ardent', 10), ('detected', 10), ('online,', 10), ('ms', 10), ('26,', 10), ('johor,', 10), ('levels.', 10), ('workplaces,', 10), ('valleys,', 10), ('sept.', 10), ('smoking-cessation', 10), ('saturday', 10), ('unfair', 10), ('picking', 10), ('leave', 10), ('\"because', 10), ('low-t', 10), ('sales.', 10), ('recommends', 10), ('coun.', 10), ('wife', 10), ('dependence', 10), ('favorite', 10), ('high-tech,', 10), ('fernando', 10), ('enter', 10), ('used,', 10), ('ocean', 10), ('proper', 10), ('roughly', 10), ('organizations', 10), ('events', 10), ('terengganu', 10), ('temporary', 10), ('mixing', 10), ('phase', 10), ('thinking', 10), ('medication', 10), ('cream', 10), ('supporting', 10), ('combination', 10), ('surveyed.', 10), ('carcinogen,', 10), ('easily,', 10), ('now.\"', 10), ('good.', 10), ('propose', 10), ('nature', 10), ('doses', 9), ('wider', 9), ('was,', 9), ('decade,', 9), ('laws.', 9), ('excited', 9), ('gaining', 9), ('malaysia.', 9), ('noting', 9), ('(dot)', 9), ('out,\"', 9), ('manufacturers.', 9), ('cash', 9), ('\"i\\'ve', 9), ('paying', 9), ('allen', 9), ('moved', 9), ('holds', 9), ('professional', 9), ('vaporizers.', 9), ('happen', 9), ('now,\"', 9), ('\"e-juice\"', 9), ('chinese', 9), ('extend', 9), ('discussion', 9), ('doubts', 9), ('legislation,', 9), ('minimal', 9), ('away.', 9), ('schmura', 9), ('ms.', 9), ('however', 9), ('effectively', 9), ('pub', 9), ('(a', 9), ('\"since', 9), ('poorer', 9), ('reasonable', 9), ('banned,', 9), ('lives,\"', 9), ('challenged', 9), ('applications', 9), ('apparent', 9), ('accept', 9), ('world,', 9), ('(about', 9), ('inhalers', 9), ('palm', 9), ('reaction', 9), ('adolescents', 9), ('know.', 9), ('richard', 9), ('father', 9), ('attorney', 9), ('loss', 9), ('guide', 9), (\"government's\", 9), ('muslim', 9), ('there,\"', 9), ('gum,', 9), ('tactics', 9), ('none.', 9), ('equally', 9), ('hurt', 9), ('memorial', 9), ('estimates.', 9), ('editorial@plusme.com', 9), ('grape', 9), ('ingredients.', 9), ('ash', 9), ('boys', 9), ('prepare', 9), ('declare', 9), ('dot', 9), ('prior', 9), ('atomizer', 9), ('handful', 9), ('focus', 9), ('choices', 9), ('piece', 9), ('andrew', 9), ('pick', 9), ('profile', 9), ('jeff', 9), (\"thursday's\", 9), ('amendment.', 9), ('tool.', 9), ('zoning', 9), ('policy.\"', 9), ('updated', 9), ('lifestyle', 9), ('36', 9), ('decade', 9), ('consuming', 9), ('walking', 9), ('smart', 9), ('prevention.', 9), ('state,', 9), ('experiences', 9), ('pointed', 9), ('amendments', 9), ('2006,', 9), ('rose', 9), ('learned', 9), ('monitoring', 9), ('affairs', 9), ('link', 9), ('sabri', 9), ('regardless', 9), ('mill', 9), ('don&rsquo;t', 9), ('requirements', 9), ('christopher', 9), ('double', 9), ('addictive.', 9), ('cells', 9), ('fall,', 9), ('prompting', 9), ('picnic', 9), ('future,', 9), ('deborah', 9), ('dose', 9), ('threshold', 9), ('nicotine-free', 9), ('way.', 9), ('councilor', 9), ('setting', 9), ('profits', 9), ('match', 9), ('fun', 9), ('\"parents', 9), ('german', 9), ('\"after', 9), ('wicked,', 9), ('pleasant', 9), ('hoping', 9), ('distributors', 9), ('person.', 9), ('hlib', 9), ('hardware', 9), ('leaves', 9), ('cough', 9), ('joined', 9), ('distance', 9), ('proponents', 9), ('running', 9), ('batteries,', 9), ('economic', 9), ('cons', 9), ('\"so', 9), ('fairly', 9), ('mimic', 9), ('senate', 9), ('dispensed', 9), ('kure', 9), ('breaks', 9), ('beltrami', 9), ('appreciate', 9), ('topic', 9), ('march,', 9), ('tim', 9), ('imagine', 9), ('solve', 9), ('killing', 9), ('henry', 9), ('reproductive', 9), ('prescription', 9), ('do,', 9), ('drip', 9), ('indoors.', 9), ('substituting', 9), ('telegraph', 9), ('mct', 9), ('delivered', 9), ('channel', 9), ('(which', 9), ('whatever', 9), ('you,', 9), ('september', 9), ('exists', 9), ('conclusion', 9), ('pen', 9), ('aimed', 9), ('shared', 9), ('california,', 9), ('legislative', 9), ('butter', 9), ('charity', 9), ('applied', 9), ('drugs.', 9), ('rechargeable', 9), ('yes,', 9), ('\"however,', 9), ('standards,', 9), ('use.\"', 9), ('coils', 9), ('rule,', 9), ('search', 9), ('segments', 9), ('hunter', 9), ('akin', 9), ('locally', 9), ('immune', 9), ('areas,', 9), ('volumes', 9), ('sits', 9), ('slowly', 9), ('attempt', 9), ('that,\"', 9), ('horowitz', 9), ('available.', 9), ('unique', 9), ('2017.', 9), ('classified', 9), ('harmless,', 9), ('drew', 9), ('dog', 9), ('action.', 9), ('counter.', 9), ('indeed', 9), ('ranging', 9), ('addiction,\"', 9), ('dose.', 9), ('broad', 9), ('road,', 9), ('entrepreneurs.', 9), ('enforcing', 9), ('attracted', 9), ('improved', 9), ('tasked', 9), ('covered', 9), ('aids', 9), ('choice.', 9), ('wolves', 9), ('community,\"', 9), ('replace', 9), ('yesterday,', 9), ('bureau', 9), ('zero', 9), ('million.', 9), ('suffering', 9), ('old-fashioned', 9), ('crime', 9), ('innovation', 9), ('district,', 9), ('photo', 9), ('fort', 9), ('$3.5', 9), ('corner', 9), ('wake', 9), ('workers', 9), ('stick', 9), ('agent', 9), ('value', 9), ('europe', 9), ('pretty', 9), ('husband', 9), ('beer', 9), ('salem', 9), ('subculture', 9), ('estimate', 9), ('bylaws', 9), ('purpose', 8), ('threatened', 8), ('citizens', 8), ('plumes', 8), ('comparable', 8), ('substance,', 8), ('provisions', 8), ('identified', 8), ('chapman,', 8), ('featuring', 8), ('kid', 8), ('virginia', 8), ('fashion', 8), ('mwaa', 8), ('pennsylvania,', 8), ('miss', 8), ('$200', 8), ('exposures', 8), ('perceived', 8), ('france', 8), ('dollars.', 8), ('£', 8), ('reviewing', 8), ('introducing', 8), ('fertility', 8), ('program.', 8), ('above', 8), ('300', 8), ('siegel', 8), ('infrastructure', 8), ('mint', 8), ('oral', 8), ('reporter', 8), ('inhale.', 8), ('council.', 8), ('knowledge', 8), ('programs', 8), (\"norton's\", 8), ('passenger', 8), ('aaron', 8), ('2016.', 8), ('putrajaya', 8), ('baggage,', 8), ('answer:', 8), ('providers', 8), ('own.', 8), (\"health's\", 8), ('companies.', 8), ('refer', 8), ('director-general', 8), ('diego', 8), ('voting', 8), ('nine', 8), ('labels', 8), ('canada,', 8), ('lungs,', 8), ('preventing', 8), ('contract', 8), ('800', 8), ('tanks', 8), ('dublin', 8), ('rock', 8), ('morris', 8), ('chubb', 8), ('sticks', 8), ('disposable', 8), ('unknowns', 8), ('refrain', 8), ('7', 8), ('trace', 8), ('operating', 8), ('wrote.', 8), ('10th', 8), ('studies.', 8), ('campbell', 8), ('consensus', 8), ('patty', 8), ('vision', 8), ('evan', 8), ('devon', 8), ('clockwise', 8), ('do.', 8), ('versions', 8), ('(gtr)', 8), ('fountain', 8), ('refills', 8), ('safe,\"', 8), ('burden', 8), ('newer', 8), ('pfp', 8), ('severe', 8), ('muhammad', 8), ('comply', 8), ('views', 8), ('flavoring,', 8), ('warner', 8), ('facilities.', 8), ('airport', 8), ('rest', 8), ('closely', 8), ('¨', 8), (\"i'll\", 8), ('reviews', 8), ('killian', 8), ('baltimore', 8), ('29', 8), ('e-cigarettes.\"', 8), ('wooder', 8), ('wisconsin', 8), ('credit', 8), ('cuts', 8), ('climate', 8), ('one,', 8), ('inappropriately', 8), ('ingredients,', 8), ('bexhill,', 8), ('30,', 8), ('feedback', 8), ('asks', 8), ('southeastern,', 8), ('strict', 8), ('endorse', 8), ('clinically', 8), ('definitely', 8), ('entirely', 8), ('contrary', 8), ('feature', 8), ('ours', 8), ('ingredient', 8), ('mufti', 8), ('altogether.', 8), ('progress.', 8), ('reformed', 8), ('work.', 8), ('officer,', 8), ('named', 8), ('materials', 8), ('vapours', 8), ('12.', 8), ('metro', 8), ('things.', 8), ('welcomed', 8), ('greg', 8), ('surgeon', 8), ('customers,', 8), ('shoot', 8), ('lost', 8), ('20-year-old', 8), ('principle', 8), ('portable', 8), ('kelantan', 8), ('obviously', 8), ('\"vaping\".', 8), ('car.', 8), ('dioxide', 8), ('expects', 8), ('involves', 8), ('freely', 8), ('issues.', 8), ('personnel', 8), ('consulting', 8), ('rye', 8), ('davis', 8), ('august', 8), ('windows', 8), ('tuesday.', 8), ('readily', 8), ('says:', 8), ('wellness', 8), ('hipster', 8), ('control,', 8), ('lobby', 8), ('announcements', 8), ('detrimental', 8), ('licenses', 8), ('hill', 8), ('approve', 8), ('mods,', 8), ('visiting', 8), ('risen', 8), ('program,', 8), ('entirely,', 8), ('nice', 8), ('21.', 8), ('trends', 8), ('siegel,', 8), ('battle,', 8), ('glycol,\"', 8), ('happening', 8), ('·', 8), ('charge', 8), ('\"to', 8), ('unknown,', 8), ('addict', 8), ('examples', 8), ('5,000', 8), ('cues', 8), ('\"juice\"', 8), ('why,', 8), ('definitive', 8), ('@evanbelanger.', 8), ('goodwin.', 8), ('jamie', 8), ('fda,', 8), ('â[#x20ac]\"', 8), ('injection', 8), ('receives', 8), ('targeting', 8), ('services,', 8), ('phrase', 8), ('club,', 8), (\"you'd\", 8), ('break', 8), ('\"despite', 8), ('paid', 8), ('caponette', 8), ('glass', 8), ('exemptions', 8), ('neither', 8), ('outlawed', 8), ('into.\"', 8), ('combined', 8), ('problem.', 8), ('act.', 8), ('airports', 8), ('directive,', 8), ('used.', 8), ('harming', 8), ('lumpur,', 8), ('round', 8), ('charing', 8), ('statement,', 8), ('needed.', 8), ('continuing', 8), ('misleading.', 8), ('pubs,', 8), ('w.va.)', 8), ('belanger', 8), ('freer', 8), ('university,', 8), ('interests', 8), ('1988,', 8), ('older,', 8), ('eastbourne,', 8), ('flavorings,', 8), ('hardly', 8), ('vaporizes', 8), ('cosmetics', 8), ('inhales', 8), ('relevant', 8), ('withdrawal', 8), ('co', 8), ('grand', 8), ('ads.', 8), ('suffered', 8), ('prolonged', 8), ('australia,', 8), ('refillable', 8), ('closer', 8), ('yalias', 8), ('fda-approved', 8), ('auditing', 8), ('actions', 8), ('tastes', 8), ('object', 8), ('stepping', 8), ('forbid', 8), ('guest', 8), ('\"gtr', 8), ('susan', 8), ('ego', 8), ('\"gateway\"', 8), ('hastings', 8), ('snuff', 8), ('exhaling', 8), ('ran', 8), ('perfect', 8), ('stoney', 8), (\"you've\", 8), ('legislature', 8), ('imposing', 8), ('nick', 8), ('compare', 8), ('practical', 8), ('singapore', 8), ('flow', 8), (\"alsa's\", 8), ('geared', 8), ('2015,', 8), ('table', 8), ('sight', 8), ('strip', 8), ('\"passive', 8), ('code', 8), ('writer', 8), ('smoked.', 8), ('marijuana.', 8), ('patrons', 8), ('repeat', 8), ('agents', 8), ('2010,', 8), ('99', 8), ('fought', 8), ('advertisements,', 8), ('themselves,', 8), ('kedah', 8), ('seemingly', 8), ('liquid,', 8), ('forced', 8), ('harrison', 8), ('(bluefield,', 8), ('currently,', 8), ('restaurants.', 8), ('vaporium', 8), ('multiple', 8), ('drawbaugh', 8), (\"malaysia's\", 8), ('consequences.', 8), ('function', 8), ('\"he', 8), ('keen', 8), ('assembly', 8), ('mice', 8), ('odor', 8), ('steed', 8), ('foo', 8), ('charter', 8), ('tax,', 8), ('notes', 8), ('alone.', 8), ('franchise.', 8), ('\"not', 8), ('testified', 8), ('beach', 8), ('edge', 8), ('5,', 8), ('bad,', 8), ('tend', 8), ('ohio', 8), ('truth', 8), ('ht', 8), ('tar,', 8), ('illegal.', 8), ('lesser', 8), ('temporarily', 8), ('hazards', 8), ('u.s.,', 8), ('later.', 8), ('admits', 8), ('williams,', 8), ('pankow', 8), ('known.', 8), ('guidelines', 8), ('activity,', 8), ('e-juice.', 8), ('\"smoking', 8), ('interesting', 8), ('vip', 8), ('aside', 8), ('forget', 8), ('campaigners', 8), ('deciding', 8), ('confirm', 8), ('birth', 8), ('sb', 8), ('riders', 8), ('believing', 8), ('longtime', 8), ('450,000', 8), ('spring', 8), ('accessing', 8), ('psychologist', 8), ('recommendations', 8), ('no-smoking', 8), (\"he'd\", 8), ('awareness', 8), ('analysis', 8), ('worse', 8), ('water,', 8), ('acting', 8), ('converted', 8), ('hastings,', 8), ('chocolate,', 8), ('royal', 8), ('alarming', 8), ('satisfied', 8), ('wan', 8), ('ireland,', 7), ('crowded', 7), ('infancy', 7), ('manufacturing', 7), ('2003,', 7), ('it&rsquo;s', 7), ('missed', 7), ('samsul', 7), ('additive,', 7), ('statutory', 7), ('19,', 7), ('proposals', 7), ('flavouring', 7), ('jonathan', 7), ('cycling', 7), ('collected', 7), ('protected', 7), ('therapeutic', 7), ('approximately', 7), ('medicines,', 7), ('stronger', 7), ('region,', 7), ('juice,', 7), ('dicaprio', 7), ('back.', 7), ('mall.', 7), ('(and', 7), ('2009', 7), ('patents', 7), ('700,000', 7), ('enjoyed', 7), ('nanny', 7), ('battle', 7), ('duty,', 7), ('him.', 7), ('solution.', 7), ('move.', 7), ('boutique', 7), ('custom', 7), ('puff.', 7), ('comfortable', 7), ('5-0', 7), ('rooms.', 7), ('kids.', 7), ('lokman', 7), ('this?', 7), ('\"even', 7), ('doubled,', 7), ('response,', 7), ('sought', 7), ('england,', 7), ('shapes', 7), ('unregulated,', 7), ('finances', 7), ('ill', 7), ('missouri', 7), ('applicable', 7), ('sitting', 7), ('skyrocketed.', 7), ('properties', 7), ('explained', 7), ('10.', 7), ('debating', 7), ('industry,\"', 7), ('e-vaporisers', 7), ('reminded', 7), ('councillor', 7), ('nobody', 7), ('manufacturers,', 7), ('surely', 7), ('toughest', 7), ('idris', 7), ('new,', 7), ('personally', 7), ('shukor', 7), ('trendy', 7), ('stone', 7), ('simulates', 7), ('original', 7), ('myself,', 7), ('charger', 7), ('forbidding', 7), ('altria,', 7), ('hang', 7), ('eliminating', 7), ('definitions', 7), ('discomfort', 7), ('framework', 7), ('done,', 7), (\"person's\", 7), ('visual', 7), ('lisa', 7), ('enacted', 7), ('celebrities', 7), ('manager,', 7), ('manufacture', 7), ('reasons.', 7), ('dad', 7), ('record', 7), ('proportion', 7), ('warehouse', 7), ('tfl', 7), ('sentence', 7), ('legitimate', 7), ('$10', 7), ('investors', 7), ('requirement', 7), ('balanced', 7), ('change,', 7), ('ordinary', 7), ('moment', 7), ('announcement', 7), ('killed', 7), ('$5', 7), ('28', 7), ('excellent', 7), ('dan', 7), ('rates,', 7), ('syndication', 7), ('emits', 7), ('lithium', 7), ('allowed,', 7), ('offense', 7), ('duty', 7), ('store,\"', 7), ('by,', 7), ('testing,', 7), ('considers', 7), ('generations', 7), ('bear', 7), ('toronto', 7), ('blu,', 7), ('besar', 7), ('intermittent,', 7), ('pride', 7), ('treats', 7), ('properly', 7), ('proposition', 7), ('informed', 7), ('overwhelming', 7), ('thompson', 7), ('distribution', 7), ('sure.', 7), ('nicotine-containing', 7), ('clinton', 7), ('recommendation', 7), ('observed', 7), (';', 7), ('lounge,', 7), ('miller,', 7), ('lake', 7), ('consume', 7), ('cartoon', 7), ('smokefree', 7), ('implications', 7), ('broken', 7), ('vaping)', 7), ('bottom', 7), ('htsyndication@hindustantimes.com', 7), ('requirement,', 7), ('stewart', 7), ('smoking?', 7), ('smells', 7), ('pennsylvania.', 7), ('them?', 7), ('eliminate', 7), ('faculty', 7), ('public,', 7), (\"''i\", 7), ('nuisance', 7), ('entire', 7), ('convince', 7), ('mass', 7), ('jay', 7), ('beard', 7), ('enact', 7), ('remained', 7), ('disease,', 7), ('sticks,', 7), ('insufficient', 7), ('non-smokers,', 7), ('ad', 7), ('indoors,', 7), (\"association's\", 7), ('grove', 7), ('lab', 7), ('us.', 7), ('property.', 7), ('setting.', 7), ('tobacco-control', 7), ('lucachick', 7), ('burned', 7), ('may,', 7), ('$1.5', 7), ('diseases.', 7), ('\"nicotine', 7), ('young.', 7), ('red', 7), ('street,', 7), ('them.\"', 7), ('bob', 7), ('management', 7), ('identify', 7), ('planes', 7), ('carried', 7), ('$500', 7), ('update', 7), ('gasp', 7), ('coordinator', 7), ('short-term', 7), ('improvements', 7), ('shut', 7), ('percent,', 7), ('warns', 7), ('representatives', 7), ('thus,', 7), ('too,', 7), ('plain', 7), ('kits,', 7), ('patches,', 7), ('controversy', 7), ('hopkins', 7), ('evp', 7), ('480,000', 7), ('form.', 7), ('girls', 7), ('bar,', 7), ('stands', 7), ('strengths', 7), ('drinks', 7), ('elsewhere', 7), ('w.', 7), ('reuters', 7), ('clients', 7), ('filling', 7), ('indicate', 7), ('confirmed', 7), ('ice', 7), ('airplanes,', 7), ('participants', 7), ('23,', 7), ('anything,\"', 7), ('pens.', 7), ('menteri', 7), ('maloney', 7), ('april,', 7), ('minor', 7), ('ended', 7), ('hajek', 7), ('speakers', 7), ('cigarette,\"', 7), ('department,', 7), ('represents', 7), (\"tuesday's\", 7), ('responsibility', 7), ('2002', 7), ('question:', 7), ('alliance', 7), ('initially', 7), ('disputed', 7), ('naturally', 7), ('k.', 7), ('advance', 7), ('absence', 7), ('be.', 7), ('$300', 7), ('initiative.', 7), ('permission', 7), ('centre.', 7), ('shed', 7), ('patch.', 7), ('scholar', 7), ('vapehq', 7), ('fields', 7), ('breaking', 7), ('bear,', 7), ('colours', 7), ('judged', 7), ('pvs', 7), ('term.', 7), ('additionally,', 7), ('cutting', 7), ('purchasing', 7), ('adverts', 7), ('thing,\"', 7), ('web', 7), ('development.', 7), ('attack', 7), ('juice.', 7), ('experiment', 7), ('monica', 7), ('rejected', 7), ('vapor.\"', 7), ('pharmacists', 7), ('experimenting', 7), ('scientist', 7), ('contend', 7), ('youth,', 7), ('2011.', 7), ('followed', 7), ('bhd', 7), ('items.', 7), ('change.', 7), ('travel', 7), ('illnesses', 7), ('proved', 7), ('colorful', 7), ('york,', 7), ('fell', 7), ('weekly', 7), ('anyway,', 7), ('misuse', 7), ('argues', 7), ('joining', 7), ('generate', 7), ('craving', 7), ('it?', 7), ('lunch', 7), ('indicated', 7), ('44', 7), ('urges,', 7), ('extract', 7), ('video', 7), ('gummy', 7), ('gene', 7), ('insisted', 7), ('launching', 7), ('risk,', 7), ('recognize', 7), ('tasting', 7), ('enables', 7), ('appropriate', 7), (\"garber's\", 7), ('stadium', 7), ('drama', 7), ('years,\"', 7), ('boost', 7), ('milliliter', 7), ('mouthpiece', 7), ('communities,', 7), ('co-founder', 7), (\"company's\", 7), ('lawsuits', 7), ('indicates', 7), ('rather,', 7), ('toxins,', 7), ('under.', 7), ('night.', 7), ('cancers', 7), ('craze', 7), ('3,000', 7), ('disease.', 7), ('medium-sized', 7), ('joe', 7), ('poured', 7), ('inhalable', 7), ('style', 7), ('accidental', 7), (\"province's\", 7), ('co.', 7), ('&ldquo;gateway&rdquo;', 7), ('say.', 7), ('button', 7), ('useful', 7), ('literature', 7), ('buildings', 7), ('volunteer', 7), ('offensive', 7), ('made.', 7), ('distinguish', 7), ('necessarily', 7), ('erin', 7), ('opinion,', 7), ('faver', 7), ('debated', 7), ('refers', 7), ('safety,', 7), ('referring', 7), ('streets', 7), (\"users'\", 7), ('inhaled,', 7), ('remove', 7), ('30-day', 7), ('glycerin.', 7), ('son', 7), ('merely', 7), ('traffic', 7), ('china,', 7), ('federally,', 7), ('startling', 7), ('nation', 7), ('burnt', 7), ('enable', 7), ('canada.', 7), ('conditions.', 7), ('health.\"', 7), ('separate', 7), ('grey', 7), ('group.', 7), ('designs', 7), ('agreed.', 7), ('import', 6), ('wife,', 6), ('hates', 6), ('jump', 6), ('threat.', 6), ('basically', 6), ('thanks', 6), ('marketplace!', 6), ('innovative', 6), ('offices,', 6), ('cigarettes\"', 6), ('consistent', 6), ('overdose', 6), ('bothered', 6), (\"smoker's\", 6), ('lexington,', 6), ('shark', 6), ('preventive', 6), ('belt', 6), ('day).', 6), ('interview', 6), ('drivers', 6), ('mcgowan', 6), ('1.8', 6), ('full-time', 6), ('grounds', 6), ('damaged', 6), ('glycerine', 6), ('worse.', 6), ('wood', 6), ('solid', 6), ('peyton', 6), ('insists', 6), ('[the', 6), ('deemed', 6), ('asia-pacific', 6), ('adjacent', 6), ('$7.3', 6), ('turner', 6), ('west,', 6), ('amid', 6), ('(fda)', 6), ('girlfriend', 6), ('controlled', 6), ('component', 6), ('dealing', 6), ('effective.', 6), ('transition', 6), ('prices.', 6), ('mg', 6), ('blueberry', 6), ('243.', 6), ('health,\"', 6), ('albans', 6), ('teachers', 6), ('buffalo', 6), ('is.', 6), ('influence', 6), ('webmd.', 6), ('leno', 6), ('block', 6), ('9,', 6), ('ashok', 6), ('orono,', 6), ('office.', 6), ('rising', 6), ('teenagers.', 6), ('inhalator', 6), ('23.', 6), ('smokers;', 6), ('reviled', 6), ('wollf', 6), ('nations', 6), ('exact', 6), ('flavoring.', 6), ('threaten', 6), ('supreme', 6), ('two,', 6), ('violations', 6), ('paints', 6), ('\"with', 6), ('facilities,', 6), (\"'vape'\", 6), ('off.', 6), ('admit', 6), ('slight,', 6), ('halt.', 6), ('hoped', 6), ('cautious', 6), ('she,', 6), ('eighth-graders', 6), ('unnecessary.', 6), ('inconclusive', 6), ('dissuade', 6), (\"e-cigarettes'\", 6), ('researchers.', 6), ('mentioned', 6), ('reviewed', 6), ('hide', 6), ('mouthpiece.', 6), ('nation,', 6), ('hindering', 6), ('pool', 6), ('injury', 6), ('entry', 6), ('(hutchinson,', 6), ('spike', 6), ('somewhere', 6), ('living', 6), ('motives', 6), ('effective,', 6), ('vapur', 6), ('admitted', 6), ('bars.', 6), ('findings,', 6), ('profit-seeking', 6), ('convention/visitors', 6), ('craft', 6), ('packet', 6), ('recommending', 6), ('answering', 6), ('payment', 6), ('ignored.', 6), ('advantage', 6), ('life,', 6), ('mislead', 6), ('countless', 6), ('proposing', 6), ('(bemidji,', 6), ('malls', 6), ('hill.', 6), ('behaviour,', 6), ('montreal', 6), ('business.\"', 6), ('open-air', 6), ('celebrity', 6), ('establishments.', 6), ('\"many', 6), ('upcoming', 6), ('flavor,\"', 6), ('curiosity', 6), ('such,', 6), ('hedden', 6), ('down.', 6), ('activist', 6), ('today.', 6), ('comstock,', 6), ('generated', 6), ('pahang', 6), ('paraphernalia', 6), ('@bt', 6), ('malacca', 6), ('aroma', 6), ('recognised', 6), ('violating', 6), ('opinions', 6), ('nash', 6), ('preferred', 6), ('nov', 6), ('dca', 6), ('formed', 6), ('considerably', 6), ('referred', 6), ('concerned.', 6), ('catch', 6), ('industrial', 6), ('californians', 6), ('grow,', 6), ('urges', 6), ('unconstitutional', 6), ('debate.', 6), ('buildings.', 6), ('70', 6), ('selick', 6), ('pounds', 6), ('popped', 6), ('fresh', 6), ('\"vaping.\"', 6), ('anymore.', 6), ('playgrounds', 6), ('well.\"', 6), ('won', 6), ('area,', 6), ('renovation', 6), (\"board's\", 6), ('sharifuddin', 6), ('alternatives,', 6), ('cry.', 6), ('shop\",', 6), ('talked', 6), ('tiny', 6), ('snohomish', 6), ('questioning', 6), ('ages.', 6), ('destined', 6), ('deep', 6), ('fearmongering', 6), ('legislation.', 6), ('bargain.', 6), ('bloodstream', 6), ('grab', 6), ('convert', 6), ('alchemy', 6), ('found:', 6), ('lots', 6), ('screeching', 6), ('starts', 6), ('nitrosamines,', 6), ('assist', 6), ('habits', 6), ('forward.', 6), ('hip,', 6), ('room.', 6), ('thing?', 6), ('hajek,', 6), ('popping', 6), ('finance', 6), ('gain', 6), ('examine', 6), ('justice', 6), ('under-18s', 6), ('wholesale', 6), ('release.', 6), ('dissipates', 6), ('compete', 6), ('imported', 6), ('kafoury,', 6), ('abstract', 6), ('times,', 6), ('maine,', 6), ('dramatically', 6), ('occurring', 6), ('mckeel,', 6), ('affects', 6), ('news)', 6), ('heels,', 6), ('alcoholic', 6), ('monitor', 6), ('16,', 6), ('kinds', 6), ('ought', 6), ('glycerol,', 6), ('negri', 6), ('again.\"', 6), ('pioneer', 6), ('lives.', 6), ('crack', 6), ('officially', 6), ('ordered', 6), ('propaganda.', 6), ('quickly.', 6), ('victoria', 6), ('republican', 6), ('glamorise', 6), ('gathered', 6), ('panel', 6), ('importance', 6), ('winning', 6), ('millions)', 6), ('benign', 6), ('$1', 6), ('tighten', 6), ('a1', 6), ('annually', 6), ('description', 6), ('detect', 6), ('russell&rsquo;s', 6), ('fischer', 6), ('together.', 6), ('problems,', 6), (\"mwaa's\", 6), ('refinish', 6), ('rob', 6), ('stops', 6), ('operations', 6), ('want,', 6), ('wells', 6), ('unions', 6), ('restrictive', 6), ('equipment,', 6), ('frequently,', 6), ('jaimee', 6), ('accosted', 6), ('batch', 6), ('solely', 6), ('condition', 6), ('glycol.', 6), ('1,200', 6), ('sure,', 6), ('boyd,', 6), ('8-', 6), ('old.', 6), ('g', 6), ('competing', 6), ('courts.', 6), ('\"smoke\"', 6), ('suggestion', 6), ('fake', 6), ('etters', 6), ('herbal', 6), ('barlet', 6), ('tube', 6), ('user,', 6), ('contributed', 6), (\"goodfella's\", 6), ('buy,', 6), ('environment,', 6), ('texas)', 6), ('organisations', 6), ('suitable', 6), ('efforts.', 6), ('changes.', 6), ('surprised', 6), ('commons', 6), ('2.1', 6), ('division', 6), ('avenue,', 6), ('artificial', 6), ('gladden', 6), ('adds', 6), ('well-established', 6), ('$14', 6), ('lawyer', 6), ('sperm', 6), ('sad', 6), ('anybody', 6), ('switch.', 6), ('china', 6), ('konstantinos', 6), ('ecig', 6), ('regard', 6), ('politicos', 6), ('outdoors', 6), ('hopefully,', 6), ('pleasant,', 6), ('scene', 6), ('educator', 6), ('sidestream', 6), ('godshall', 6), ('sue', 6), ('bases', 6), ('prime', 6), ('prefers', 6), ('carcinogen.', 6), ('conflicting', 6), ('atomiser', 6), ('acetaldehyde,', 6), ('lump', 6), ('greatest', 6), ('1952', 6), ('$400.', 6), ('voltage,', 6), ('regulates', 6), ('classify', 6), (\"you'll\", 6), ('weight', 6), ('intention', 6), ('golden', 6), ('eat', 6), ('cater', 6), ('2007,', 6), ('turkey', 6), ('conclude', 6), ('schoolchildren', 6), ('ingest', 6), ('look,', 6), ('harbor', 6), ('highest', 6), ('¨i', 6), ('drug,', 6), ('tout', 6), ('harm-reduction.', 6), ('e-cigarettes:', 6), ('media.', 6), ('waiting', 6), ('quoted', 6), ('revisions', 6), ('(koin', 6), ('parent', 6), ('2015-04-18', 6), ('supervise', 6), ('sector', 6), ('erodes', 6), ('characters,', 6), ('mccabe', 6), ('pipes,', 6), ('exclusively', 6), ('describes', 6), ('venues', 6), ('atmosphere', 6), ('corner:', 6), ('urban', 6), ('crucial', 6), ('advising', 6), ('\"holy', 6), ('precautionary', 6), ('hb', 6), ('sparked', 6), ('declaring', 6), ('miniature', 6), ('puckett', 6), ('(mevta)', 6), ('unborn', 6), ('3.5', 6), ('compiled', 6), ('impossible', 6), ('disagree', 6), ('resolve', 6), ('expanding', 6), ('cardiac', 6), ('vaporised', 6), ('evidence,', 6), ('event', 6), ('universiti', 6), ('stage', 6), ('metals', 6), ('heavily', 6), ('middle-', 6), ('vastly', 6), ('popularity.', 6), ('instituted', 6), ('different.', 6), ('negotiations', 6), ('afraid', 6), ('mouth,', 6), ('pointing', 6), ('ongoing', 6), ('stock', 6), ('forum', 6), ('vuse', 6), ('voter-approved', 6), ('delaware', 6), ('can,', 6), ('high-tech', 6), ('tips', 6), ('jobs', 6), ('assistance', 6), ('fellow-travellers,', 6), ('burke', 6), ('job', 6), ('\"generally', 6), ('insite', 6), (\"area's\", 6), ('worked.', 6), ('differences', 6), ('photograph', 6), ('pictures', 6), ('soon.', 6), ('sufficient', 6), ('smelling', 6), ('karnes', 6), ('tobacco-free', 6), ('penang', 6), ('hobbyist', 6), ('80%', 6), ('women,', 6), ('allah', 6), ('(c)2014', 6), ('george', 6), ('aggressive', 6), ('infused', 6), ('bother', 6), ('revolution,', 6), ('branded', 6), ('onto', 6), ('opioid', 6), ('delighted', 6), ('brisk', 6), ('liquor', 6), ('day,\"', 6), ('members.', 6), ('understood', 6), ('ups', 6), ('no.', 6), ('jim', 6), (\"'i\", 6), ('high-cost', 6), ('canada),', 6), ('evaluated', 6), ('trade,', 6), ('aug.', 6), ('reported.', 6), ('behaviors.', 6), ('immediate', 6), ('q:', 6), ('thursday,', 6), ('confess,', 6), ('patch', 6), ('massive', 6), ('chapter', 6), ('80', 6), ('tech', 6), ('alternative,', 6), ('lumped', 6), ('oct', 6), ('testosterone.', 6), ('2.3', 6), ('500,000', 6), ('service,', 6), ('a:', 6), ('asked.', 6), ('roster', 6), ('unattractive', 6), ('respond', 6), ('labour', 6), ('small-', 6), ('\"is', 6), ('cravings', 6), ('teach', 6), ('joint', 6), ('consumerism', 6), ('juices,', 6), ('intends', 6), ('games', 6), ('carcinogens,', 6), (\"let's\", 6), ('responding', 6), ('arms', 6), ('actor', 6), (\"'vaping,'\", 6), ('vaporiums', 6), ('us!\"', 6), ('cheap', 6), ('councils', 6), ('advise', 6), ('elevated', 6), ('ground.', 6), ('minn.)', 6), ('variable', 6), ('godshall,', 6), ('principal', 6), ('elements', 6), ('trademark', 6), ('tar.', 6), ('profit', 6), ('worse,', 6), ('visits', 6), ('empathetic', 6), ('kan.)', 6), ('infringing', 6), ('correct', 6), ('taxing', 6), ('intent', 6), ('region', 6), ('e.', 6), ('nicotine.\"', 6), ('posters', 6), ('legions', 6), ('customers.\"', 6), ('construction', 6), ('smith.', 6), ('students,', 6), ('29-year-olds,', 6), ('dollar', 6), ('jerry', 6), ('poisonings,', 6), ('creamy', 6), ('exempt', 6), ('conversation', 6), ('lines', 6), ('holiday', 6), ('complicated', 6), ('resemble', 6), ('expenses', 6), ('gathering', 6), ('meets', 6), ('coughing', 6), ('addiction,', 6), ('i&rsquo;m', 6), ('consultant', 6), ('machine', 6), ('ensuring', 6), ('sat', 6), ('bipartisan', 6), ('tens', 6), ('trident', 6), ('\"don\\'t', 6), ('appeal.', 6), ('moratorium', 6), ('managers', 6), ('dipika', 6), ('voters', 6), ('influenced', 6), ('alcohol.', 6), ('kind.', 6), ('successfully', 6), ('demand', 6), ('lorillard', 6), ('collects', 6), ('relating', 6), (\"weren't\", 6), ('defects', 6), ('ecigarettes,', 6), ('n.', 6), ('preparing', 6), ('groups.', 6), ('healthy,\"', 6), ('stocks', 6), ('insite,', 6), ('screen', 6), ('count', 6), ('catering', 6), ('migrated', 6), ('consideration.', 6), ('digital', 6), ('decree', 6), ('popcorn', 6), ('(it', 6), ('founder', 6), ('tampa', 6), ('speed', 6), ('unacceptable', 6), ('significantly.', 6), ('2016,', 6), ('scotland', 6), ('niles', 6), ('berserk.', 6), ('negotiations.', 6), ('outside.', 6), ('undermine', 6), ('29,', 6), ('child.', 6), ('uk,', 6), ('direction', 6), ('taxed', 6), ('sampling.', 6), ('prohibitions', 6), ('apiece,', 6), ('canadians', 6), ('pressure', 6), ('powered', 6), ('nutter', 6), ('advertisement', 6), ('sludge', 6), ('over,', 6), ('electronically', 6), ('dug', 6), ('7.6', 6), ('fast.', 6), ('competition', 6), ('discomfort.', 6), ('aroostook', 6), ('ukip', 6), ('francisco', 6), ('handed', 6), ('other.', 6), ('managing', 6), ('behavioural', 6), ('meetings', 6), ('task', 6), ('[#x2756]', 6), ('bailey,', 6), ('readers', 6), ('marissa', 6), ('ash,', 6), ('\"maybe', 6), ('intentions,', 6), ('central', 6), ('noon', 6), ('exchange', 6), ('portland,', 6), ('malpractice', 6), ('(perhaps', 6), ('teenagers,', 6), ('everybody,', 6), ('150', 6), ('ends', 6), ('2011:', 6), ('laguna', 6), (\"public's\", 6), ('hand.', 6), ('remarkably', 6), ('specifically', 6), ('highlights', 6), ('mandate', 6), ('stood', 5), ('surprising', 5), ('men,', 5), ('cars.', 5), ('involve', 5), ('matter.', 5), ('noe', 5), ('stake', 5), ('fattah', 5), ('route', 5), ('hospitals,', 5), ('any,', 5), ('improvement', 5), ('subjects', 5), ('edict', 5), ('convincing', 5), ('novelty', 5), ('educating', 5), ('stays', 5), ('initiating', 5), ('required.', 5), ('overwhelmingly', 5), ('removed', 5), ('cooperatives', 5), ('ranks', 5), ('reference', 5), ('fossil', 5), ('itaste,', 5), ('decreasing', 5), ('symptoms', 5), ('ramsey', 5), ('vaporizer,', 5), ('manifest', 5), ('chains', 5), ('rationale', 5), ('modern', 5), ('lit', 5), ('surge', 5), ('repeated', 5), ('ali', 5), ('soaring', 5), ('establish', 5), ('unacceptable.', 5), ('yourself', 5), ('assistant', 5), (\"one's\", 5), (\"they'd\", 5), ('mount', 5), ('highly-regulated', 5), ('quitting.', 5), ('assumptions', 5), ('(as', 5), ('that.\"', 5), ('road.', 5), ('manufactured', 5), ('charles', 5), ('symptoms.', 5), ('include,', 5), ('yahaya', 5), ('kc', 5), ('marissa.harshman@columbian.com', 5), ('homes', 5), ('blend', 5), ('asia', 5), ('normally', 5), ('were,', 5), ('flavour.', 5), ('behavioral', 5), ('guidelines.', 5), ('exercise,', 5), ('e-juice,', 5), ('fog', 5), ('edit', 5), ('knowledgeable', 5), ('norm', 5), ('clothes', 5), ('busch', 5), ('deferred.', 5), ('pleasurable', 5), ('receiving', 5), ('job,', 5), ('offspring.', 5), ('vital', 5), ('possible,', 5), ('lasting', 5), ('toke', 5), ('recovery', 5), ('prohibited,', 5), ('viable', 5), ('seized', 5), ('mango', 5), ('doubles', 5), ('driver', 5), ('operation', 5), ('shenzhen', 5), ('whilst', 5), ('america,', 5), ('it:', 5), ('permanent.', 5), ('introduction', 5), ('briefing', 5), ('glycerine,', 5), ('vivid', 5), ('mother', 5), ('playing', 5), ('capacity', 5), ('26', 5), ('scent', 5), ('vaping;', 5), ('wattage', 5), ('fargo', 5), ('relations', 5), ('sometimes,', 5), ('brewers', 5), ('bystanders,', 5), ('fun.', 5), ('coil', 5), ('spite', 5), ('likes', 5), ('maryland', 5), ('activists', 5), ('headline', 5), ('sprouted', 5), ('entirely.', 5), ('conclusive', 5), ('perimeter', 5), ('matter,', 5), ('thanked', 5), ('touch', 5), ('(cap)', 5), ('chargers', 5), ('average,', 5), ('lobbyists', 5), ('7,000', 5), ('malaysians,', 5), ('inside,', 5), ('newest', 5), ('complications,', 5), ('lasts', 5), ('allowed.', 5), ('nancy', 5), ('uae', 5), ('therapy.', 5), ('malay', 5), ('job.', 5), ('vs.', 5), ('tackle', 5), ('mary', 5), ('prevalence', 5), ('wherever', 5), ('substitutes', 5), ('u.k.', 5), ('methods', 5), ('crazy', 5), ('cappella', 5), ('fluid', 5), ('money,', 5), ('application', 5), ('substances,', 5), ('are).', 5), ('crave', 5), ('usual', 5), ('classes', 5), ('regina', 5), ('overman', 5), ('smoking\"', 5), ('table,', 5), ('advocates.', 5), ('administration.', 5), ('vaper\".', 5), ('bruce', 5), ('motivation', 5), ('pocket', 5), ('area,\"', 5), ('instead.', 5), ('mandatory', 5), ('basis.', 5), ('grumpy', 5), ('efficacy', 5), ('faces', 5), ('adjust', 5), ('clear,', 5), ('zach', 5), ('prescriptions', 5), ('attributed', 5), ('a.', 5), ('tired', 5), ('washington,', 5), ('pause', 5), ('level,', 5), ('govern', 5), ('2006', 5), ('support,', 5), ('channel.', 5), ('really,', 5), ('send', 5), ('manager.', 5), ('ams', 5), ('bubble', 5), ('describe', 5), ('uncertainty', 5), ('33', 5), ('containers', 5), ('acetyl', 5), ('aerosol.', 5), ('character', 5), (\"vapes'\", 5), ('accommodate', 5), ('commissioned', 5), ('point,\"', 5), ('stupid', 5), ('those,', 5), ('number,', 5), ('\"almost', 5), ('ccc', 5), ('guess', 5), ('balster,', 5), ('$250', 5), ('jason', 5), ('january,', 5), ('2007.', 5), ('kraft', 5), ('addiction?', 5), ('gained', 5), ('extreme', 5), ('documented', 5), ('qualifies', 5), ('fourth', 5), ('kit,', 5), ('actively', 5), ('outcome', 5), ('overcome', 5), ('fined', 5), ('diverse', 5), ('islam', 5), ('visitors', 5), ('routinely', 5), ('drunk', 5), ('nation.', 5), ('there.', 5), ('rich', 5), ('hobby', 5), ('globally,', 5), ('fields,', 5), ('cheryl', 5), (\"district's\", 5), ('doors', 5), ('dual', 5), ('bbc', 5), ('youth.\"', 5), ('elevate', 5), ('hanover', 5), ('cannabis', 5), ('abdullah', 5), ('endure', 5), ('boca', 5), ('retailers.', 5), ('maximize', 5), ('communication.', 5), ('upper', 5), ('flavor,', 5), ('massé', 5), ('levels,', 5), ('pressures', 5), ('exclusive', 5), ('defeated', 5), ('data,', 5), ('bae', 5), ('host', 5), ('period,', 5), ('inevitable', 5), ('nelson', 5), ('kelantan,', 5), ('(c)2013', 5), ('lenexa,', 5), ('links', 5), ('reflect', 5), ('exposes', 5), ('allotted', 5), ('since.', 5), ('suma', 5), ('another,', 5), ('flavourings', 5), ('subsidiary', 5), ('sorts', 5), ('28,', 5), ('maintenance', 5), ('(other', 5), ('frankly', 5), ('bonds', 5), ('stating', 5), ('garden', 5), ('strictly', 5), ('grace', 5), ('ackerman,', 5), ('incredibly', 5), (\"'haram'\", 5), ('eyes', 5), ('contaminants', 5), ('other,', 5), ('nicotine-filled', 5), ('money.', 5), ('sonier', 5), ('let&rsquo;s', 5), ('wine', 5), ('nervous', 5), ('amends', 5), ('proud', 5), ('college,', 5), ('(not', 5), ('everybody', 5), ('vote.', 5), ('hotels', 5), ('anderson', 5), ('itself,', 5), ('assessment', 5), ('rent', 5), ('invested', 5), ('lifestyle,', 5), ('sembilan', 5), ('rivera', 5), ('seal', 5), ('oz', 5), ('continues,', 5), ('nowhere', 5), ('small,', 5), ('(from', 5), ('austin', 5), ('business,\"', 5), ('illness', 5), ('brands,', 5), ('wary', 5), ('truvape', 5), ('another.', 5), ('maloney,', 5), ('teens.', 5), ('outlet', 5), ('wrong.', 5), ('\"now', 5), ('government.', 5), ('solution,', 5), ('hobby,', 5), ('keech', 5), ('side-effects', 5), ('mclane', 5), ('champion', 5), ('contributing', 5), ('vape-related', 5), ('list.', 5), ('spreading', 5), ('vendors', 5), ('nanograms', 5), ('fifth', 5), ('lobbying', 5), ('split', 5), ('in-store', 5), ('giants', 5), ('unanimous', 5), ('mist', 5), ('work.\"', 5), ('internal', 5), ('saved.', 5), ('combustion.', 5), ('graham', 5), ('annenberg', 5), ('meanwhile', 5), ('hills', 5), ('draw', 5), ('expanded', 5), ('cafes', 5), ('grant', 5), ('leonardo', 5), ('products\"', 5), ('backing', 5), ('involved.', 5), ('entrance', 5), ('arena', 5), ('fired', 5), ('sets', 5), (\"tobacco's\", 5), ('\"liquid', 5), ('billy', 5), ('cast', 5), ('illinois', 5), ('sensible', 5), ('employed', 5), ('hidden', 5), ('resolved', 5), ('relax', 5), ('mist.', 5), ('for.', 5), ('2009.', 5), ('smoked,', 5), ('postpone', 5), ('ics', 5), ('iskandar', 5), ('bodies', 5), ('reduction,', 5), ('anonymous.', 5), ('segment', 5), ('examined', 5), ('jersey', 5), (\"'it's\", 5), ('attitude', 5), ('choices.', 5), ('alexander', 5), ('atomizers,', 5), ('policies.', 5), ('solutions', 5), ('ex-smokers.', 5), ('e-cigarettes,\"', 5), ('allergic', 5), ('two-pack-a-day', 5), ('voltage.', 5), ('satisfaction', 5), ('tracked', 5), ('petrol', 5), ('morris.', 5), ('punishment', 5), ('crewmembers', 5), ('intake', 5), ('crackdown', 5), ('physicians', 5), ('likelihood', 5), ('congresswoman', 5), ('airports.', 5), ('technologies', 5), ('focuses', 5), ('name,', 5), ('need.', 5), ('sizes', 5), ('curious', 5), ('360-735-4546;', 5), ('shot', 5), ('josh', 5), ('illness.', 5), ('cost-effective', 5), ('population.', 5), ('negligible', 5), ('hunters', 5), ('chewing', 5), ('itself.', 5), ('fits', 5), ('backed', 5), ('©', 5), ('antifreeze', 5), ('posed', 5), ('addictiveness', 5), ('moffitt', 5), (\"nation's\", 5), ('launch', 5), ('mobile', 5), ('passion', 5), ('like,', 5), ('42-year-old', 5), ('communication,', 5), ('applying', 5), ('glantz', 5), ('away,', 5), ('depth', 5), ('sharing', 5), ('headlines', 5), ('contends', 5), ('gap', 5), ('weapons', 5), ('death.', 5), ('parker', 5), ('burns', 5), ('city-owned', 5), ('promise', 5), ('lives,', 5), ('whenever', 5), ('second,', 5), ('hike', 5), ('\"you\\'re', 5), ('animal', 5), ('liked', 5), ('hour', 5), ('age.', 5), ('communicate', 5), ('blending', 5), ('altogether', 5), ('thoroughly', 5), ('vaped.', 5), ('note', 5), ('hud', 5), ('comparing', 5), ('exception', 5), ('salon', 5), ('stanford', 5), ('violators', 5), ('dust', 5), ('opposite', 5), ('expands', 5), ('cigarette.\"', 5), ('muslims.', 5), ('sense.', 5), ('honestly', 5), ('ultimately', 5), ('harshman:', 5), ('marlboro', 5), ('departments', 5), ('brave', 5), ('strange', 5), ('pittsburgh', 5), ('august,', 5), ('steadily', 5), ('cappella,', 5), ('lowers', 5), ('king,', 5), ('played', 5), ('abandoning', 5), ('sheriff', 5), ('define', 5), ('electric', 5), ('media,', 5), ('channels', 5), (\"devices'\", 5), ('this:', 5), ('seize', 5), ('philadelphia,', 5), ('pulls', 5), ('gray', 5), ('waste', 5), ('possession', 5), ('together,', 5), ('apart', 5), ('testimony', 5), ('cafés', 5), ('acknowledged', 5), ('alike.', 5), ('thank', 5), ('sin', 5), ('system.\"', 5), ('chuck', 5), ('bar.', 5), ('battery-activated', 5), ('results,', 5), ('gordon,', 5), ('internet.', 5), ('shop,\"', 5), ('talks', 5), ('consumption,', 5), ('mohamad', 5), ('minister,', 5), ('durst', 5), ('personalized', 5), ('pills', 5), ('lure', 5), ('dinner', 5), ('handle', 5), ('thailand', 5), ('litany', 5), ('frank', 5), ('upholding', 5), ('experience,', 5), ('warrington', 5), ('cigarettes?', 5), ('hell', 5), ('aged', 5), ('75', 5), ('(usc-heal)', 5), ('facebook.', 5), ('clinic', 5), ('cessation.', 5), ('$20', 5), ('conclusions', 5), ('historic', 5), ('preparation', 5), ('camera', 5), ('maintained', 5), ('claiming', 5), ('wayne', 5), ('propionyl,', 5), ('advancement', 5), ('instruments', 5), ('inhaler', 5), ('georgetown', 5), ('pleased', 5), ('varied', 5), ('truly', 5), ('e-lixirs', 5), ('1965', 5), ('saskatchewan', 5), ('resembles', 5), ('workplace,', 5), ('sucking', 5), ('right,', 5), ('same.\"', 5), ('etiquette,', 5), ('carcinogens.', 5), ('methadone', 5), ('retaining', 5), ('touched', 5), ('smokers).', 5), ('defines', 5), ('corporate', 5), ('satisfaction.', 5), ('campbell,', 5), ('explained.', 5), ('problems.', 5), ('expensive.', 5), ('owners,', 5), ('inspection', 5), ('studied.', 5), ('respondents', 5), ('mps', 5), ('point.', 5), ('\"cigarettes', 5), ('denis', 5), ('shelves', 5), ('(d-dc),', 5), ('acceptance', 5), ('dependency', 5), ('detectable', 5), ('ext.', 5), ('people.\"', 5), ('jumping', 5), ('crane', 5), ('moderator', 5), ('barra', 5), ('monoxide', 5), ('taxes.', 5), ('times.', 5), ('out.\"', 5), ('would,', 5), ('spot', 5), ('non-vapers', 5), ('aircraft', 5), ('diagnosed', 5), ('acknowledge', 5), ('pop', 5), ('struggle', 5), ('proves', 5), ('girl', 5), ('varieties', 5), ('folks).', 5), ('newspaper', 5), ('expensive,', 5), ('countries.', 5), ('economy', 5), ('rooms,', 5), ('administrators', 5), ('volunteers', 5), ('howard', 5), ('found.', 5), ('prompted', 5), ('issues,', 5), ('share.', 5), ('\"are', 5), (\"who's\", 5), ('appreciation', 5), ('horrible', 5), ('halved', 5), ('philadelphia', 5), ('(360)', 5), ('odd', 5), ('device.\"', 5), ('emergency', 5), ('supplied', 5), ('ken', 5), ('aromatic', 5), ('\"vaping\",', 5), ('school.', 5), ('wooden', 5), ('sir,', 5), ('process.', 5), ('secondary', 5), ('switch,', 5), ('edwards', 5), ('telling', 5), ('cadmium', 5), ('ringgit', 5), ('gretchen', 5), ('irritation,', 5), ('justification', 5), ('psychological', 5), ('opportunities', 5), ('session.', 5), ('tobacco-specific', 5), ('milligrams,', 5), ('shampoo', 5), ('billion-a-year', 5), ('increase.', 5), ('mayo', 5), ('brattleboro', 5), ('techniques', 5), ('kansas.', 5), ('500', 5), ('behalf', 5), ('250', 5), ('vapourizers', 5), ('satisfy', 5), ('loose', 5), ('tran', 5), ('brick-and-mortar', 5), ('cambria', 5), ('demonstrating', 5), ('contraption', 5), ('measure,', 5), ('december.', 5), ('lexicon,', 4), (\"mckeown's\", 4), ('ministry.', 4), ('relies', 4), ('anti-nepotism', 4), ('updates', 4), ('compelling', 4), ('growing,', 4), ('whoever', 4), ('mix-and-match', 4), ('\"once', 4), ('formerly', 4), ('fire.', 4), ('\"we\\'d', 4), ('concedes', 4), (\"quebec's\", 4), ('inhaling.', 4), ('signs,', 4), ('trust', 4), ('steamy', 4), ('flavor.', 4), ('enacted,', 4), ('judy', 4), ('prescribed', 4), ('twitter:', 4), ('select', 4), ('expressing', 4), ('thing.\"', 4), ('tweet', 4), ('rejects', 4), ('pruen,', 4), ('disagreement', 4), ('morgan', 4), ('youngsters,', 4), ('essential', 4), ('production', 4), ('eventual', 4), ('3.9', 4), ('northwest', 4), ('xhale', 4), ('backlash', 4), ('woods', 4), ('blanket', 4), ('mixtures', 4), ('house.', 4), ('high-end', 4), ('pringles', 4), ('amelia', 4), ('welcome.', 4), ('await', 4), ('tougher', 4), ('promotes', 4), ('pam', 4), ('eyeglass', 4), ('air,\"', 4), ('balster', 4), ('proctor,', 4), ('contracting', 4), ('ac', 4), ('eventually.', 4), ('graders', 4), ('workshop', 4), ('falling', 4), ('burst', 4), ('reveal', 4), ('local,', 4), ('dated', 4), (\"uk's\", 4), ('bet', 4), ('library', 4), ('emblematic', 4), ('101', 4), ('bphcs', 4), ('overreaches', 4), ('delicate', 4), ('florida', 4), ('class', 4), ('favour', 4), ('nurse', 4), ('crossover', 4), ('razif', 4), ('pierce', 4), ('10,000', 4), ('tested.', 4), ('rite', 4), ('times-tribune', 4), ('least,', 4), ('decreased', 4), ('consist', 4), ('hashish', 4), ('al', 4), ('boxy', 4), ('first-time', 4), ('2010.', 4), (\"toronto's\", 4), ('marlboros', 4), ('spawning', 4), ('plaza', 4), ('standalone', 4), ('benefits.', 4), ('hiv,', 4), ('[in', 4), ('hand-to-mouth', 4), ('boff', 4), ('tan', 4), ('station,', 4), ('11,', 4), ('things,\"', 4), ('martin,', 4), ('september.', 4), ('hole', 4), ('events.', 4), ('favor,', 4), ('strategic', 4), ('seconds.', 4), ('approach.', 4), ('reno', 4), ('stop,', 4), ('independence', 4), ('latter', 4), ('(to', 4), ('\"safe\".', 4), ('accurate', 4), ('procedures', 4), ('be,', 4), ('starved', 4), ('proposes', 4), ('harmful,\"', 4), ('lacey', 4), ('mechanism', 4), ('pulmonary', 4), ('exploding', 4), ('factor', 4), ('office,', 4), ('walla', 4), ('ringgit,', 4), ('terrasses.', 4), ('focused', 4), ('$150.', 4), ('pressure,', 4), ('hathaway', 4), ('new.', 4), ('consists', 4), ('avenue', 4), ('housing,', 4), ('closure', 4), ('yaakob', 4), (\"london's\", 4), ('trains,\"', 4), ('schoolchildren.', 4), ('urging', 4), ('candi', 4), ('sole', 4), ('barry', 4), ('university.', 4), ('renormalizing', 4), ('statements', 4), ('invented', 4), ('bread', 4), ('tactic', 4), ('not-for-profit', 4), ('of.', 4), ('safer-than-cigarettes', 4), ('chambersburg', 4), ('us.\"', 4), ('saves', 4), ('aim', 4), ('cool.', 4), ('stymie', 4), ('appearing', 4), ('7378.', 4), ('carriers', 4), ('effectiveness', 4), ('michigan', 4), ('richter', 4), ('buildings,', 4), ('cheaper,', 4), ('commitment', 4), ('donaldson', 4), ('plant', 4), (\"oxford's\", 4), ('conservative', 4), ('impressive', 4), ('party', 4), ('transit,', 4), ('services.', 4), ('administered', 4), ('scant', 4), ('cars,', 4), ('helpful', 4), ('family,', 4), ('(e-cigarettes)', 4), ('importantly,', 4), ('\"give', 4), ('develops', 4), ('friday,', 4), ('odourless', 4), ('smoke?', 4), ('medicinal', 4), ('processes.', 4), ('48', 4), ('ashtrays,', 4), ('\"i\\'d', 4), ('\"e-juice,\"', 4), ('feed', 4), ('unfortunately', 4), ('alone,', 4), ('foods', 4), ('life.\"', 4), ('ex-smokers', 4), ('2001', 4), ('living-room-like', 4), ('(who', 4), ('etter', 4), ('ion', 4), ('dripped', 4), ('impressed', 4), (\"eu's\", 4), ('normalise', 4), ('illnesses,', 4), ('cigarettes),', 4), ('contribute', 4), ('nosmoke', 4), ('career', 4), ('sales,', 4), ('noted.', 4), ('gonna', 4), ('rhode', 4), ('process,', 4), ('sites', 4), ('marie', 4), ('computer', 4), ('thompson,', 4), ('md.)', 4), ('boff,', 4), ('mosques', 4), ('mission', 4), ('peterson,', 4), ('tolerance', 4), ('coils,', 4), ('raburn', 4), ('(cleaner)', 4), ('god', 4), ('broader', 4), (\"agency's\", 4), ('cloud.', 4), ('app', 4), ('doctors.', 4), ('debra', 4), ('costly', 4), ('lungs.\"', 4), ('accessories.', 4), ('agency.', 4), ('drops', 4), ('\"inhalant', 4), ('brower,', 4), ('net', 4), ('40,', 4), ('saturated', 4), ('successful,', 4), ('test.', 4), ('d.c.', 4), ('bhatnagar', 4), ('idea?', 4), ('explains:', 4), ('discovering', 4), ('trend.', 4), ('reinforces', 4), ('fsc', 4), ('customs', 4), ('\"april', 4), ('center,', 4), ('13.4', 4), ('lights', 4), ('table.', 4), ('church', 4), ('drinking,', 4), ('dependent', 4), ('conflicting,\"', 4), ('hospitality', 4), ('visible', 4), ('featured', 4), ('press.', 4), ('communication', 4), ('grove,', 4), ('gorman', 4), ('niche', 4), (\"smokin'\", 4), ('sooner', 4), ('escape', 4), ('\"no\"', 4), ('precisely', 4), ('onassis', 4), (\"cigarettes'\", 4), ('predicted', 4), ('mimicking', 4), (\"department's\", 4), ('ivan', 4), ('assumption', 4), ('guidance,\"', 4), ('hazelnut', 4), ('shame', 4), ('\"\"it\\'s', 4), ('clark,', 4), ('air.\"', 4), ('java-free', 4), ('mrs', 4), ('daily.', 4), ('itv,', 4), ('efforts,', 4), ('screen/briefs', 4), ('train,', 4), ('vaporium,', 4), ('less,', 4), ('been,', 4), ('possibly', 4), ('strength.', 4), ('power,', 4), (\"region's\", 4), ('bottle.', 4), ('imperial', 4), ('dodgy', 4), ('roll', 4), ('qualified', 4), ('culinary', 4), ('pat', 4), (\"exeter's\", 4), ('saying,', 4), ('speaking,', 4), ('decades,', 4), ('hat', 4), ('pizzuti', 4), ('yes', 4), ('struck', 4), ('friends.', 4), ('touting', 4), ('ashland.', 4), ('lobbied', 4), ('stat', 4), ('ala', 4), ('pictured,', 4), ('titled', 4), ('peer', 4), ('paths.', 4), ('farsalinos,', 4), ('click', 4), ('sends', 4), ('forcing', 4), ('golf', 4), ('ones,', 4), ('exploded', 4), ('container', 4), ('usa', 4), ('pupils', 4), ('925-943-8267.', 4), ('investment', 4), ('bell', 4), ('volume', 4), ('begins', 4), ('habits,', 4), ('economy.', 4), ('america', 4), ('booming,', 4), ('quality,', 4), ('(that', 4), ('high-quality', 4), ('obtained', 4), ('204', 4), ('okay', 4), ('resulted', 4), ('melissa', 4), ('to.', 4), ('clerks', 4), ('formal', 4), ('normalising', 4), ('facing', 4), ('exhales', 4), ('article,', 4), ('statewide.', 4), ('bandwagon', 4), ('pike', 4), ('leavitt', 4), ('deficiency.', 4), ('six.', 4), ('athletic', 4), ('professors', 4), ('blueberry,', 4), ('prepared', 4), (\"he'll\", 4), ('life-wise', 4), ('stink', 4), ('encourages', 4), ('sabor', 4), ('shanghai', 4), ('authors,', 4), ('classifying', 4), ('reforming', 4), ('america.', 4), ('vulnerable', 4), ('(february', 4), ('rocket', 4), ('wellspring,', 4), ('meantime,', 4), ('40%', 4), ('zone', 4), ('preaches', 4), ('expose', 4), ('complaints,', 4), ('respective', 4), ('2007', 4), ('entered', 4), ('deciliter,', 4), ('kiosks', 4), ('commence', 4), ('concert', 4), ('harpendenâ', 4), ('context', 4), ('ok', 4), ('stops,', 4), ('beauty', 4), ('website.', 4), ('18,', 4), ('narcotics', 4), (\"mister-e's\", 4), ('coca', 4), ('tax.', 4), ('susceptible', 4), ('39,', 4), ('chasing', 4), ('nasty', 4), ('labor', 4), (\"''it\", 4), ('passing', 4), ('skin,', 4), ('hamberg', 4), ('turn,', 4), ('columnist', 4), ('ben', 4), ('\"likely', 4), ('parents,', 4), ('calculate', 4), ('lighter', 4), ('muni', 4), ('lead,', 4), ('exhaled.', 4), ('vape,\"', 4), ('outright', 4), (\"'we\", 4), ('korea', 4), ('straits', 4), ('labs', 4), ('bike', 4), ('underage', 4), ('councilwoman', 4), ('(reading,', 4), ('gallagher', 4), ('sponsors,', 4), ('alarm', 4), ('contrary,', 4), ('\"second-hand', 4), ('hepatitis', 4), ('addicted,', 4), ('krane', 4), ('offices.', 4), ('communal', 4), ('uw', 4), ('compounds.', 4), ('sharp', 4), ('muhamad', 4), ('chroma', 4), ('propelled', 4), ('coolidge', 4), ('fallin', 4), ('ultrafine', 4), ('places,\"', 4), ('aficionados', 4), (\"study's\", 4), ('christian', 4), ('commentator.', 4), ('oakland.', 4), ('vested', 4), ('12,', 4), ('/', 4), ('hundred', 4), ('serving', 4), ('re-normalize', 4), ('cool,', 4), ('justin', 4), ('think?', 4), ('directed', 4), ('42', 4), ('notion', 4), ('labels,', 4), ('welcomes', 4), ('dependence.', 4), ('affected.', 4), ('lounge.', 4), ('offense.', 4), ('300?', 4), ('sold.', 4), ('brits', 4), ('code,', 4), ('tars', 4), ('travis,', 4), ('pariahs', 4), ('detail', 4), ('snoop', 4), ('page,', 4), ('batteries.', 4), ('row', 4), ('kids,', 4), ('bostean', 4), ('struggled', 4), ('suit', 4), ('notices', 4), ('portions', 4), ('cheap.', 4), (\"u.k.'s\", 4), (\"she'll\", 4), ('affecting', 4), ('17.', 4), ('considerable', 4), ('(ashland,', 4), ('shift', 4), ('areas;', 4), ('right.', 4), ('fact.', 4), ('evidence-based', 4), (\"'smoking'\", 4), ('1952,', 4), ('snuffing', 4), ('trains,', 4), ('1990s,', 4), ('care,', 4), ('trip', 4), ('viejo,', 4), ('authorization', 4), ('pharmacist,', 4), ('confiscate', 4), ('landmark,', 4), ('resendes', 4), (\"'aidan\", 4), ('minnesota.', 4), ('dictionary', 4), ('february.', 4), ('\"we\\'ll', 4), ('purported', 4), ('teenager', 4), ('tempe', 4), ('e-liquid.', 4), ('cvs', 4), ('ever.', 4), ('credibility', 4), ('21-year', 4), ('traders,', 4), ('employees,', 4), ('cigarettes.&rdquo;', 4), ('sugar', 4), ('absent', 4), ('true,', 4), ('infants', 4), ('plymouth', 4), ('country,\"', 4), ('sun', 4), ('stench', 4), ('commerce', 4), ('distributor', 4), ('maker', 4), ('eagle', 4), ('cleaner', 4), ('hisham', 4), ('weaker', 4), ('sunday,', 4), ('mist,', 4), ('spends', 4), ('from,', 4), ('cases,', 4), ('first)', 4), ('ayers', 4), ('police,', 4), ('india', 4), ('book', 4), ('luxury', 4), ('mulling', 4), ('hon', 4), ('cleaner,', 4), ('peer-reviewed', 4), ('seniors,', 4), ('spokeswoman', 4), ('jones', 4), ('cynthia', 4), ('foot', 4), ('seriously', 4), ('cuff', 4), ('jaworski,', 4), ('catches', 4), ('effect,\"', 4), ('medicine.', 4), ('justify', 4), ('manage', 4), ('evangelist.', 4), ('directing', 4), ('india,', 4), ('ditullio,', 4), ('rj', 4), ('sizes.', 4), ('understanding', 4), ('yoga', 4), ('do.\"', 4), ('norte', 4), ('lungs,\"', 4), ('(in', 4), ('means.', 4), ('way.\"', 4), ('worrisome', 4), ('leno,', 4), ('smoke:', 4), ('outlining', 4), ('fail', 4), ('appointment', 4), ('accompanying', 4), ('barbara', 4), ('transported', 4), ('organize', 4), ('hearing,', 4), ('offenders.', 4), ('curry', 4), ('boon', 4), ('cosmetics.', 4), ('zealand', 4), ('dave.', 4), ('branding', 4), ('glasgow', 4), ('colors', 4), ('quit,\"', 4), ('party.', 4), ('&ldquo;a', 4), ('harmfulness', 4), ('enthusiastic', 4), ('vanilla,', 4), ('tighter', 4), ('sean', 4), ('tattoo', 4), ('communications', 4), ('cropping', 4), ('occasional', 4), ('sponsor', 4), ('cross,', 4), ('andy', 4), ('copd', 4), ('good,', 4), ('credits', 4), ('capital', 4), ('eichenberger,', 4), ('jobs.', 4), ('many,', 4), ('prepares', 4), ('celebrate', 4), ('achieved', 4), ('kate', 4), ('article.', 4), ('shape', 4), ('godsend', 4), ('and/or', 4), ('dogg', 4), ('phone,', 4), ('orders', 4), (\"hadn't\", 4), ('transparent', 4), ('once.', 4), ('with.', 4), ('acrolein,', 4), ('violated', 4), ('cigarettes;', 4), ('francisco,', 4), ('did.', 4), ('restrictions.', 4), ('institutions', 4), ('hamilton,', 4), ('plaza,', 4), ('grissom', 4), ('hobbyists.', 4), ('exempted', 4), ('everywhere.', 4), ('crowd.', 4), ('guests', 4), ('warm', 4), ('sri', 4), ('cherry', 4), ('london,', 4), ('returning', 4), ('16-year-old', 4), ('impression', 4), ('pain', 4), ('frequent', 4), ('(defined', 4), ('waiver', 4), ('alex', 4), ('deeply', 4), ('chadha', 4), ('consistently', 4), ('goodwin', 4), ('sticking', 4), ('accuse', 4), ('represent', 4), ('cyclists', 4), ('hits', 4), ('bracing', 4), ('allan', 4), ('recall', 4), ('motivation,', 4), ('dad,', 4), ('consumer-driven', 4), ('implementing', 4), ('kingdom,', 4), ('ky.)', 4), ('tough', 4), ('ninth', 4), ('summer.', 4), ('citation', 4), ('sending', 4), ('sleek', 4), ('instantly', 4), ('bowles', 4), ('cline', 4), ('2008', 4), ('producers', 4), ('perspective.', 4), ('inquiries', 4), ('best.', 4), ('entice', 4), ('\"anyone', 4), ('one-year', 4), ('advent', 4), ('freeze', 4), ('frowned', 4), ('douglas', 4), ('wildwood', 4), ('folks', 4), ('riley', 4), ('poison.', 4), ('co-author', 4), ('declining.', 4), ('chad', 4), ('\"given', 4), ('does.', 4), ('one-third', 4), ('madison', 4), ('uncomfortable', 4), ('contacted', 4), ('doorways,', 4), ('chances', 4), ('cough.', 4), ('weighed', 4), ('marked', 4), ('d-san', 4), ('jamnick', 4), ('outlaw', 4), ('thompson.', 4), ('gains', 4), ('immigration', 4), ('yellow', 4), ('affected', 4), ('zero.', 4), ('epidemiological', 4), ('stealth', 4), ('clara', 4), ('issuance', 4), ('foundation,', 4), ('alerting', 4), ('consumption.', 4), ('thriving', 4), ('challenging', 4), ('hakim', 4), ('\"those', 4), ('campaign,', 4), ('returned', 4), ('22%', 4), ('wahid', 4), ('distributing', 4), ('occupational', 4), ('level.', 4), ('throw', 4), ('poisons.\"', 4), ('operated', 4), ('weighs', 4), ('upon.', 4), ('regulations.\"', 4), ('emissions,', 4), ('fraser', 4), ('combustion', 4), ('waterloo', 4), ('biologically', 4), ('alternatives.', 4), ('overheating', 4), ('sponsorship', 4), ('highway', 4), ('charged', 4), ('ring', 4), ('accidentally', 4), ('response.', 4), ('bubble-gum-flavored', 4), ('mechanical', 4), ('time.\"', 4), ('hong', 4), ('restaurant.', 4), ('previously,', 4), ('itâ', 4), ('sick', 4), ('e-cig.', 4), ('11/2', 4), ('clearer', 4), ('lighters,', 4), ('clarification', 4), ('serena', 4), ('cdc&rsquo;s', 4), ('accessories,', 4), ('thought.\"', 4), ('relief,', 4), ('thousand', 4), ('supportive', 4), ('assemble', 4), ('clift-lands,', 4), ('senator', 4), ('click,', 4), (\"isn't.\", 4), ('lily', 4), ('100%', 4), ('reverse', 4), ('brent,', 4), ('(scranton,', 4), ('\"vape\".', 4), ('clubs', 4), ('breeze,', 4), ('twitter.com/deniscuff', 4), ('lancashire', 4), ('diacetyl.', 4), ('sulaiman', 4), ('chest', 4), ('boise', 4), ('dulles', 4), ('lifelong', 4), ('december,', 4), ('buy.', 4), ('dampen', 4), ('diacetyl,', 4), ('analyst', 4), ('exponential', 4), ('injuries', 4), ('glaring', 4), ('disciplinary', 4), (\"country's\", 4), ('atomizers', 4), ('ten', 4), ('\"similar', 4), ('buddies', 4), ('shortlist', 4), ('alternative.\"', 4), ('morning', 4), ('meets,', 4), ('box.', 4), ('classic', 4), ('shifting', 4), ('morning.', 4), ('wrapping', 4), ('ky.', 4), ('upward', 4), ('contain,', 4), ('boom,', 4), ('visibility', 4), ('vendor', 4), ('mooney', 4), ('1.3', 4), ('rm500', 4), ('incidents', 4), ('?', 4), ('ourselves', 4), ('diesel', 4), ('options.', 4), ('grows,', 4), ('vapesolutely!', 4), ('joel', 4), ('stadium.', 4), ('targeted', 4), ('dry', 4), ('particle', 4), ('voluntarily', 4), ('ease', 4), ('airport,', 4), ('(vapers)', 4), ('enormous', 4), ('raises', 4), ('sale,', 4), ('youth,\"', 4), ('signage', 4), ('inspired', 4), ('petition', 4), ('anti-cigarette', 4), ('rating', 4), ('concrete', 4), ('sciences', 4), ('s.c.)', 4), ('(phe),', 4), ('washington.', 4), ('arrive', 4), ('up,\"', 4), ('bowling', 4), ('lessons', 4), ('welcoming', 4), ('stricter', 4), ('adolescent', 4), ('farmer', 4), ('vape?', 4), ('some,', 4), ('mielke', 4), ('experts.', 4), (\"who've\", 4), ('enemy', 4), ('2008.', 4), ('right?', 4), ('styles', 4), ('praise', 4), ('kadar', 4), ('mentally', 4), ('dealers', 4), ('marijuana\"', 4), ('howard,', 4), ('forth', 4), ('hobby.', 4), (\"children's\", 4), ('hiring', 4), ('empty', 4), ('mistake.', 4), ('publisher,', 4), ('taught', 4), ('levi', 4), ('entrances,', 4), ('$50', 4), ('smoke,\"', 4), (\"fda's\", 4), ('giant', 4), ('feelings', 4), ('therapies', 4), ('platforms', 4), ('wearing', 4), ('radcliffe', 4), ('invention', 4), ('listing', 4), ('possess', 4), ('attempting', 4), ('keith', 4), ('tells', 4), ('shock', 4), ('saskatoon', 4), ('two.', 4), ('nhs.', 4), ('from.\"', 4), ('tip', 4), ('purposes', 4), ('0', 4), ('secretary', 4), ('rushing', 4), ('morning,', 4), ('35,', 4), ('disadvantage', 4), ('dustin', 4), ('wise', 4), ('kota', 4), ('ejuice', 4), ('websites', 4), ('below,', 4), ('sandy', 4), ('hard-core', 4), ('dart', 4), ('nonprofit', 4), ('$100.', 4), ('debate,', 4), ('cara', 4), ('vehicles', 4), ('initiative', 4), ('goodwins', 4), ('isolated', 4), ('pieces', 4), ('already,', 4), ('mario', 4), ('skills,', 4), ('nicotine-infused', 4), ('youdocsdaily@sharecare.com', 4), ('jennifer', 4), ('march.', 4), ('plastics,', 4), ('moh', 4), ('trials', 4), ('n', 4), ('davis,', 4), ('inviting', 4), ('inevitably', 4), ('practitioners.', 4), ('microwave', 4), ('ditullio', 4), ('combat', 4), ('depot', 4), ('\"let\\'s', 4), ('governments,', 4), ('shawn', 4), ('tourism', 4), ('lounges,', 4), ('93', 4), ('choosing', 4), ('minn.,', 4), ('\"young', 4), ('movement', 4), ('grew', 4), ('odds', 4), ('matson,', 4), ('deardoff', 4), ('aviva', 4), ('in.\"', 4), ('heather', 4), ('commercial.', 4), ('charlebois', 4), ('fraction', 4), ('18th', 4), ('true.\"', 4), ('odorless', 4), ('units', 4), ('coalition', 4), ('grappling', 4), ('summer,', 4), ('erode', 4), ('opposes', 4), ('enthusiasm.', 4), ('with,', 4), ('degree', 4), ('38a', 4), ('(when', 4), ('contrast,', 4), ('visibly', 4), ('dosage', 4), ('brain,', 4), ('stuck,\"', 4), ('subsequent', 4), ('wolberg,', 4), ('prescription.', 4), ('memory', 4), ('pre-vaping', 4), ('untold', 4), ('material', 4), ('&ldquo;the', 4), ('1970s', 4), ('packaging.', 4), ('prescribed.', 4), ('griffith', 4), ('(october', 4), ('ian', 4), ('opt', 4), ('1986', 4), ('intake,', 4), ('swear', 4), ('club.', 4), (\"''authors\", 4), ('cell', 4), ('two-thirds', 4), ('stations,', 4), ('body,', 4), ('tobacco;', 4), ('uae.', 4), ('enough.', 4), ('game', 4), ('mccann.', 4), ('threatens', 4), ('logic', 4), ('customer.\"', 4), ('going,', 4), ('\"open', 4), ('make-up', 4), ('bright', 4), ('are.', 4), ('relief.', 4), ('metallic', 4), ('worrying', 4), ('vaper.', 4), ('nonsmokers.', 4), ('partnerships.', 4), ('regularly,', 4), ('appeals', 4), ('fags', 4), ('styling', 4), ('del', 4), ('respectively.', 4), ('practices', 4), ('future,\"', 4), ('co-owns', 4), ('dispose', 4), ('equal', 4), ('nose', 4), ('splash', 4), ('(through', 4), ('liberal', 4), ('applaud', 4), ('collins', 4), ('airway', 4), ('smokes.', 4), (\"store's\", 4), ('problem,', 4), ('unlikely', 4), ('fuel', 4), ('passage.', 4), ('veterans', 4), ('n.y.', 4), ('fluid,', 4), (\"pennsylvania's\", 4), ('gum.', 4), ('toxics.\"', 4), ('faster', 4), ('discount', 4), ('pure', 4), ('academic', 4), ('muip', 4), (\"cigarettes,''\", 4), ('coffee,', 4), ('damages', 4), ('riesbeck', 4), ('more.\"', 4), ('taxes,', 4), ('caltrans,', 4), ('much.', 4), ('company.', 4), ('dangers,', 4), ('observations', 4), ('cameras', 4), ('f.,', 4), ('contraband', 4), ('vip®', 4), ('register', 4), ('dabs', 4), ('reasonably', 4), ('walters', 4), ('emphysema.', 4), ('western', 4), ('lowest', 4), (\"man's\", 4), ('frequently', 4), ('atmosphere,', 4), ('reputable', 4), ('harpenden', 4), ('monoxide,', 4), ('bonnie', 4), ('appealed', 4), ('comstock', 4), (\"madison's\", 4), ('voting,', 4), ('ultimate', 4), ('senses', 4), ('kasich', 4), ('establishment.', 4), ('dissenting', 4), ('overseas', 4), ('buys', 4), ('want,\"', 4), ('nicorette®', 4), ('\"how', 4), ('collect', 4), ('boyd', 4), ('surgery', 4), ('observe', 4), ('consistency', 4), ('motivated', 4), ('empire,', 4), ('suppliers', 4), ('systematic', 4), ('immediately.', 4), ('diabetes', 4), ('brother', 4), ('preliminary', 4), ('seek', 4), ('bdtonline.com', 4), ('assuage', 4), ('lakhani', 4), ('cooper', 4), ('163', 4), ('chen,', 4), ('pie', 4), ('rid', 4), ('assess', 4), ('proposal.', 4), ('disrupt', 4), ('44,', 4), ('avoiding', 4), ('robin', 4), (\"mccabe's\", 4), ('otherwise.', 4), ('belong', 4), ('competitive', 4), ('analgesics', 4), (\"members'\", 4), ('vaccine', 4), (\"britain's\", 4), ('chairs', 4), ('sophistication', 4), ('fitzpatrick', 4), ('home-brewed', 4), ('space.', 4), ('town,', 4), ('lauded', 3), ('re:', 3), ('calculated', 3), ('activated', 3), ('surging', 3), ('beside', 3), ('simulation', 3), ('tunbridge', 3), ('suffolk', 3), ('braico', 3), ('everyone.', 3), ('there,', 3), ('shambeau', 3), ('varies', 3), ('\"vapers\"', 3), ('â[#x20ac]¦', 3), ('question.', 3), ('filing', 3), ('nearby.', 3), ('unfamiliar', 3), ('employing', 3), ('hence,', 3), ('mortality', 3), ('dangerous?', 3), ('renew', 3), ('dayton,', 3), ('easier.', 3), ('expert,', 3), ('competitions', 3), ('cycle', 3), ('behaviour.', 3), ('secretary-general', 3), ('&mdash;', 3), ('founded', 3), ('practise', 3), ('\"un-islamic\"', 3), ('composed', 3), ('1800s', 3), ('volatile', 3), ('individuals&rsquo;', 3), ('refilled', 3), ('resources', 3), ('earliest', 3), ('hyperactive', 3), ('clientele', 3), ('touted', 3), ('esa', 3), ('amateur', 3), ('question,', 3), ('flavours\",', 3), ('start-up', 3), ('delaying', 3), ('normalizes', 3), ('until,', 3), ('allergies', 3), ('menthol,', 3), ('dodge', 3), ('notions', 3), ('giannis', 3), ('fanciful', 3), ('\"children', 3), ('albansâ', 3), ('(forbidden).', 3), ('prefilled', 3), ('eireann', 3), ('11-year-old', 3), (\"don't.\", 3), ('ambivalent', 3), ('mod,', 3), ('du', 3), ('approached', 3), ('worcester', 3), ('venting', 3), ('reason.', 3), ('free,', 3), ('firstunion', 3), ('hypersensitivity', 3), ('enforced.', 3), ('portrayed', 3), ('burke.', 3), ('device,&rdquo;', 3), ('flava', 3), ('(ala)', 3), ('glantz,', 3), ('stimulant', 3), ('delayed.', 3), ('legality', 3), ('lines,', 3), ('work,', 3), ('zelikoff', 3), ('noted,', 3), ('reduction.', 3), ('nprm', 3), ('here&rsquo;s', 3), ('arvada', 3), ('20-a-day', 3), ('roberts', 3), ('perceptions', 3), ('utah', 3), ('safer\".', 3), ('\"regulation', 3), ('wal-mart,', 3), ('change.&rdquo;', 3), ('traction', 3), ('stay.', 3), ('acted,', 3), ('unusual', 3), (\"ontario's\", 3), ('ackerman', 3), ('exciting,', 3), ('27-year-old', 3), ('size,', 3), ('sector.', 3), ('researching', 3), ('shocking', 3), ('self-confidence,', 3), (\"'blending\", 3), ('or,', 3), ('doing.', 3), ('anne', 3), ('determines', 3), ('blocking', 3), ('minimize', 3), ('locations,', 3), ('stroke', 3), ('while,', 3), ('closest', 3), ('succeed', 3), ('teen,', 3), ('divided', 3), ('shaky', 3), ('audience.', 3), ('testifying,', 3), ('dna.', 3), ('streatham', 3), ('revenue,', 3), ('voice', 3), ('reilly,', 3), ('www.hutchnews.com', 3), ('candle', 3), ('cents', 3), ('well-informed', 3), ('buyers', 3), ('reilly', 3), ('chat', 3), ('abstaining', 3), ('email.', 3), ('tri-county', 3), ('misguided', 3), (\"suckerz'\", 3), ('sharia', 3), ('heads', 3), ('shoppers', 3), ('mint,', 3), ('removing', 3), ('humphreys,', 3), ('jon', 3), ('steak', 3), ('divorced', 3), ('one!', 3), ('sidewalks', 3), ('research,\"', 3), ('omnibus', 3), ('northland', 3), ('candidates', 3), ('oc', 3), ('else,', 3), ('detractors', 3), ('concern.', 3), ('columbia,', 3), ('suspiciously', 3), ('capture', 3), ('spa', 3), ('pathway', 3), ('licence', 3), ('&ldquo;self-efficacy,&rdquo;', 3), ('advertisements.', 3), ('\"vapes\"', 3), ('0.4%,', 3), ('purposely', 3), ('bloomington', 3), ('challenges', 3), ('tomorrow:', 3), ('\"undermining', 3), ('britain,', 3), ('experience.&rdquo;', 3), ('nicotine)', 3), ('barring', 3), ('real,', 3), ('savings', 3), ('hotly', 3), ('permanent', 3), ('equate', 3), ('strengths;', 3), ('coverage', 3), ('prohibitionists', 3), ('eddie', 3), (\"'there\", 3), ('board.', 3), ('refuses', 3), ('punishable', 3), ('permit,', 3), ('coping', 3), ('sprung', 3), ('by-products', 3), ('regards', 3), ('non-smokes!\",', 3), ('amy', 3), ('de', 3), ('friendly', 3), ('it\".', 3), ('56%,', 3), ('famous', 3), ('anna.', 3), ('pitched', 3), ('¨if', 3), ('lawyers', 3), ('five-year', 3), ('njoy', 3), ('incident', 3), ('loretta', 3), ('sharply,', 3), ('environments', 3), ('hardened', 3), ('extent', 3), ('e-liquid);', 3), ('posting', 3), ('passed.', 3), ('discourages', 3), ('weigh', 3), ('artist', 3), ('humans', 3), ('\"responsible', 3), ('paul,', 3), ('lik,', 3), ('diabetic', 3), ('equated', 3), ('aficionados.', 3), ('anger', 3), ('harmless.\"', 3), ('civil', 3), (\"mall's\", 3), ('grouped', 3), ('punishing', 3), ('counties,', 3), ('button.', 3), ('etc).', 3), ('irvine', 3), ('holbrook,', 3), ('track', 3), ('cigarette\"', 3), ('pushed', 3), ('product.\"', 3), ('kufeldt,', 3), ('abdullah,', 3), ('habit.\"', 3), ('carcinogen', 3), ('rulemaking', 3), ('upper-left', 3), ('nausea', 3), ('circulated', 3), ('generation.', 3), ('ingredients&rsquo;', 3), ('suspicious', 3), ('funky', 3), ('stories', 3), ('igo5', 3), ('recovering', 3), ('infiltration', 3), ('hence', 3), ('4.7', 3), ('outcomes', 3), ('differently', 3), ('busy.', 3), ('ventures', 3), ('lot,\"', 3), ('dictionary,', 3), ('(faa)', 3), ('success,', 3), ('miles,', 3), ('once,', 3), ('foreseeable', 3), ('distilled', 3), ('advertised', 3), ('troy', 3), ('military', 3), ('arnott,', 3), ('ok,', 3), ('own,', 3), ('consequences.\"', 3), ('suffer', 3), ('institution', 3), ('moderate,', 3), ('revolutionary', 3), ('stephen', 3), ('invest', 3), ('non-nicotine', 3), ('allegedly', 3), ('steam,', 3), ('sounded', 3), ('forums', 3), ('sipp', 3), (\"'that\", 3), ('assessing', 3), ('--i', 3), ('globally', 3), ('airlines,', 3), ('expansion', 3), ('le', 3), ('scandal', 3), ('substitution', 3), ('liking', 3), ('vapina', 3), ('mucus', 3), ('ahmed', 3), ('contribution', 3), ('penetrated', 3), ('goins', 3), ('diseased', 3), ('personally,', 3), ('very,', 3), ('arm', 3), ('suite', 3), (\"week's\", 3), (\"hajek's\", 3), (\"bill,''\", 3), ('v-tank', 3), ('preferences', 3), ('law:', 3), ('fluids', 3), ('foxx', 3), ('narrative', 3), (\"kasich's\", 3), ('chest.', 3), ('\"life-saving\"', 3), ('equal.', 3), ('establishment', 3), ('feet.', 3), ('relieved', 3), ('stonybrook,', 3), ('proclaiming', 3), ('analogous', 3), ('employees.', 3), ('pages', 3), ('nlypny@postmedia.com', 3), ('slick', 3), ('donation', 3), ('cigarettes].', 3), ('enacting', 3), ('connotations', 3), ('beach,', 3), ('prevalent', 3), (\"ridley's\", 3), ('gore', 3), ('indirectly', 3), ('lime', 3), ('sound.', 3), ('matches,', 3), ('hughes', 3), (\"charley's\", 3), ('know,', 3), ('2000s,', 3), ('image', 3), ('butt', 3), ('information.', 3), ('f.', 3), ('matched', 3), ('tremendous', 3), ('(they', 3), ('legislatively', 3), ('aerosol,', 3), ('eliminated', 3), ('atmosphere.', 3), ('drink.', 3), ('vape-versery,\"', 3), ('advice,&rdquo;', 3), ('activates', 3), ('present,', 3), ('cuddle', 3), ('attempted', 3), ('inhales.', 3), ('tables', 3), ('relying', 3), ('support.', 3), ('hays', 3), ('ex-smokers,', 3), ('universal', 3), ('m.d.,', 3), ('away.\"', 3), ('feared', 3), ('position,', 3), ('demeio', 3), ('bills,', 3), ('baked', 3), ('emily', 3), ('reprieve', 3), ('revised', 3), ('died.', 3), ('us,\"', 3), ('egg', 3), ('non-governmental', 3), ('bar\"', 3), ('mine', 3), ('sensitive', 3), ('inquiry', 3), ('optimistic.', 3), ('delegates', 3), ('we&rsquo;re', 3), ('worker,', 3), ('sentiment', 3), ('25].', 3), ('investigating', 3), ('sell,', 3), ('spacious', 3), ('slp', 3), ('exist,', 3), ('(smoking', 3), ('(who)', 3), ('chairs,', 3), ('fashionable', 3), (\"it'.\", 3), ('turkey.', 3), ('body.', 3), ('heated,', 3), ('surely,', 3), ('lifetime', 3), ('billions', 3), ('carriage', 3), ('younger.', 3), ('over.', 3), ('mcpherson', 3), ('annoyed', 3), ('\"were', 3), (\"dictionary's\", 3), ('responded', 3), ('whatsoever.', 3), ('gordon', 3), ('stonehill', 3), ('state-level', 3), ('owners.', 3), ('mohamed', 3), ('inhaler.', 3), ('exploding.', 3), ('reshana', 3), ('defense', 3), ('subsequently', 3), ('comprise', 3), ('stadiums,', 3), ('(vaping)', 3), ('non-users', 3), ('colosi', 3), ('neighbourhood', 3), ('speaks', 3), ('this,\"', 3), ('defining', 3), ('sick.', 3), ('supplements.', 3), ('mri', 3), ('equity', 3), ('characterized', 3), ('counter,', 3), ('citywide', 3), ('mollie', 3), (\"newborn's\", 3), ('scrutiny', 3), ('leak', 3), (\"health.''\", 3), ('malls,', 3), ('navigators,', 3), ('look-a-likes', 3), ('exceed', 3), ('cellular', 3), ('measures,', 3), ('altogether,', 3), ('needed,', 3), ('convene', 3), ('displays', 3), ('did,', 3), ('&ldquo;flavored&rdquo;', 3), ('part.', 3), ('attractive,', 3), ('benzene,', 3), ('minors,\"', 3), ('television,', 3), ('breed', 3), ('awards', 3), ('fumes', 3), ('(c)2016', 3), ('employ', 3), ('(aka', 3), ('stigmatize', 3), ('youths.', 3), ('lifesaving', 3), ('info,', 3), ('brothers', 3), ('fatal', 3), ('age,', 3), ('stuart', 3), ('respected', 3), ('nicotine\"', 3), ('informally', 3), ('peak', 3), ('emissions.', 3), ('imman,', 3), ('g.,', 3), ('cards', 3), ('scare', 3), ('advocating', 3), ('bag', 3), ('trader', 3), ('light.', 3), ('reporting', 3), ('buprenorphine', 3), ('park,', 3), ('success.', 3), ('home,', 3), ('tissue', 3), ('caution,', 3), ('formally', 3), ('happens', 3), ('identifying', 3), ('substitute.', 3), ('latter,', 3), ('makeup', 3), ('intentions', 3), ('rader,', 3), ('moral', 3), ('implemented,', 3), ('publication', 3), ('cholesterol,', 3), (\"history''\", 3), ('pull', 3), ('occur', 3), ('complain', 3), ('untapped', 3), ('agenda', 3), ('feeble', 3), ('simulating', 3), ('long-lasting', 3), ('resulting', 3), ('devotees', 3), ('vapes\"', 3), ('aa&rsquo;s', 3), ('triples', 3), ('food-grade', 3), ('billboards', 3), ('l.', 3), ('behaviours.', 3), ('tries', 3), ('huffing', 3), (\"smoking.''\", 3), ('beverage', 3), ('test.)', 3), ('automatically', 3), ('mahmood', 3), ('clegg', 3), ('ultimately,', 3), ('alternative,\"', 3), ('30%', 3), ('plan,', 3), ('failed.', 3), ('inadequate', 3), (\"she'd\", 3), ('henley,', 3), ('comparatively', 3), ('amending', 3), ('guarantees', 3), ('thick,', 3), ('nations,', 3), ('effects.\"', 3), ('blackburn,', 3), ('\"mod\"', 3), ('peabody', 3), ('abusers', 3), ('innocuous', 3), ('me:', 3), ('districts', 3), ('eighth,', 3), ('opens', 3), ('babies,', 3), ('administrator', 3), ('captain', 3), ('inclusion', 3), ('m.', 3), ('childhood', 3), ('allowance', 3), ('nicotine-dependent', 3), ('mountain', 3), ('included,', 3), ('uniform', 3), ('fixation', 3), ('doubled.', 3), ('absorbed', 3), ('raided', 3), ('principle:', 3), ('concerns,', 3), ('honey', 3), ('dick', 3), ('cracked', 3), ('revealing', 3), ('amer', 3), ('vanilla', 3), ('point,', 3), ('jurisdiction', 3), ('rapidly.', 3), ('phil', 3), ('guys', 3), ('stunt', 3), ('clifford', 3), ('anyway.', 3), ('\"just', 3), (\"boutique'\", 3), ('revenue.', 3), ('recovered', 3), ('sophisticated', 3), ('told,\"', 3), ('occurs', 3), ('relationship,', 3), ('specialists', 3), ('under-use', 3), ('standard,', 3), ('malaysia,\"', 3), ('substances.\"', 3), ('battles', 3), ('relinquishing', 3), ('mainstream.', 3), ('rights,', 3), ('atomizer.', 3), (\"we'd\", 3), ('suburbs.', 3), ('television.', 3), ('perspective,', 3), ('packaged', 3), (\"else's\", 3), ('selectboard', 3), ('chairing', 3), ('ad,', 3), ('listed,', 3), ('arrived', 3), ('ships', 3), ('optional.', 3), ('no-one', 3), ('scottish', 3), ('passionate', 3), ('upgrade', 3), ('competition,', 3), ('cbc', 3), ('liver,', 3), ('judith', 3), ('hub', 3), ('disadvantages', 3), ('notes,', 3), ('targets', 3), ('strategies.', 3), ('indiana', 3), ('baking', 3), ('spiritual', 3), ('reinforced', 3), ('vaporisation', 3), ('discussion.', 3), ('sudden', 3), ('views.', 3), ('alan', 3), ('¨the', 3), ('source:', 3), ('risk\"', 3), ('portland.', 3), ('candy-flavored', 3), ('journal,', 3), ('lifestyles', 3), (\"stay,''\", 3), ('(think', 3), ('fcuking', 3), ('virtues', 3), ('saturday,', 3), ('31,', 3), ('is:', 3), ('blew', 3), ('49', 3), ('addiction.\"', 3), (\"2011's\", 3), ('surface', 3), ('cdc.', 3), ('spur', 3), ('what,', 3), ('theatre,', 3), ('ranges', 3), ('dolan', 3), ('bauxite', 3), ('sides', 3), ('hallett,', 3), ('subtly', 3), ('surprisingly,', 3), ('sunday.', 3), ('him,', 3), ('troubling', 3), ('deprived', 3), ('najmuddin', 3), ('noe,', 3), ('pack-a-day', 3), ('tuition', 3), ('recognise', 3), ('delight', 3), ('attended', 3), ('holly', 3), ('therapies.', 3), ('killers', 3), ('center.', 3), ('litigation', 3), ('wilson', 3), ('ryan', 3), ('past.', 3), ('jurisdictions', 3), (\"assembly's\", 3), ('mild', 3), ('charger.', 3), ('embraced', 3), ('aid.', 3), ('misguided.', 3), ('told,', 3), ('violation.', 3), ('pursuing', 3), ('vigilant', 3), ('pollutants', 3), ('racist,', 3), ('crusaders', 3), ('theaters,', 3), ('exceptions', 3), ('ages', 3), ('served', 3), ('\"studies', 3), ('delay', 3), ('hopkins,', 3), ('warning,', 3), ('20.', 3), ('mirrors', 3), ('nurses&rsquo;', 3), ('smoking)', 3), ('length', 3), ('same,\"', 3), ('burning.', 3), ('better\"', 3), ('laura', 3), ('township', 3), ('100,000', 3), (\"vaping,''\", 3), ('soho', 3), ('harm,', 3), ('design.', 3), ('us-based', 3), ('defensive', 3), ('duties', 3), ('\"you\\'d', 3), ('topic,', 3), ('visited', 3), ('molly', 3), ('reduction\"', 3), ('light,', 3), ('closing', 3), ('devastating', 3), ('5.', 3), ('straight', 3), ('selby', 3), ('monumental', 3), ('lottery', 3), ('ingested', 3), ('columbus', 3), ('relapsed', 3), ('sunshine', 3), ('leather', 3), ('horny', 3), ('effective.\"', 3), ('psychiatrist', 3), ('bid', 3), ('eric', 3), ('realize', 3), ('20,000', 3), ('on.', 3), ('bronchitis', 3), ('points.', 3), ('haircut', 3), ('odors', 3), ('lancet,', 3), ('stringently', 3), ('stolen', 3), ('boost,', 3), ('@', 3), ('exist.', 3), ('saturday.', 3), ('extraordinary', 3), ('substandard', 3), (\"products'\", 3), ('perform', 3), ('brent', 3), ('camels', 3), ('51', 3), ('cereal', 3), ('pastime', 3), ('complements', 3), ('pleasures', 3), ('bank.', 3), ('enthusiasm', 3), ('houses', 3), ('overland', 3), ('stagnant', 3), ('unpleasant', 3), ('advances', 3), ('shots', 3), ('thevapetrader.com', 3), ('unclear.', 3), ('--vaping', 3), ('slacktivism', 3), ('teacher,', 3), ('dorff,', 3), ('diane', 3), ('flagship', 3), ('predicts,', 3), ('director,', 3), ('water.', 3), ('harrisburg', 3), ('rebuildable', 3), ('todd,', 3), ('resource.', 3), ('view.', 3), ('rare', 3), ('strawberry,', 3), ('negatively.', 3), ('symptoms,', 3), ('suspensions', 3), ('female', 3), ('evidence\"', 3), ('discreetly', 3), ('has,', 3), ('(r-ca)', 3), ('vogue', 3), ('minds', 3), ('(aim', 3), ('selfie', 3), ('independent,', 3), ('ruby', 3), ('labeling', 3), ('beneficial', 3), ('irwin', 3), ('shall', 3), ('uninitiated', 3), ('alleys', 3), ('frozen', 3), ('poisoning.', 3), ('43', 3), ('theme,', 3), ('methods,', 3), ('&ldquo;second-hand&rdquo;', 3), ('taxation.', 3), ('airline', 3), ('walls', 3), ('exponentially', 3), ('usa.', 3), ('often,', 3), ('nicotine-based', 3), ('397-8000', 3), ('states:', 3), ('industries', 3), ('zx', 3), ('hook', 3), ('million,', 3), ('governing', 3), ('inexpensive', 3), ('exhale,', 3), ('gallagher,', 3), ('method.', 3), ('scholars', 3), (\"foetus's\", 3), ('intakes.', 3), ('situation.', 3), ('michiel', 3), ('blu', 3), ('unsatisfying', 3), ('confidentially', 3), ('economics', 3), ('york.', 3), ('reporters', 3), ('labelled', 3), ('globes', 3), ('balen,', 3), ('prices,', 3), ('b.c.', 3), ('performs', 3), ('pollute', 3), (\"adults.''\", 3), ('handing', 3), ('encountered', 3), ('cumberland,', 3), ('short-', 3), ('flies', 3), ('newport', 3), ('\"no,', 3), ('offence,', 3), ('substance.', 3), ('\"clear', 3), ('carolina', 3), ('enforced', 3), ('speak', 3), ('lends', 3), ('back,', 3), ('pregnancy.\"', 3), ('malacca,', 3), ('performance', 3), ('smoke\",', 3), (\"sheriff's\", 3), (\"'non-combustible'\", 3), ('stressed', 3), ('unsupported', 3), ('cleveland', 3), ('art', 3), ('vilifying', 3), ('in,\"', 3), ('suspect', 3), ('vaper-smoker', 3), ('community.\"', 3), ('opposite:', 3), ('kendall', 3), ('regulate.', 3), ('camaraderie', 3), ('measured', 3), ('chamber', 3), ('subtle', 3), (\"'\", 3), ('personal-care', 3), ('produce,', 3), ('technology,\"', 3), ('burgeoning', 3), ('skipper', 3), ('farrer', 3), ('objective', 3), ('plays', 3), ('poisonous', 3), ('thomas,', 3), ('offer.', 3), ('milliliters', 3), ('buddy', 3), ('inconclusive,', 3), ('ideal', 3), ('hall,', 3), ('employment.', 3), ('spirit', 3), ('spin', 3), ('completing', 3), ('hooked,', 3), (\"''it's\", 3), ('exits,', 3), ('plethora', 3), ('&ldquo;do', 3), ('duty.', 3), ('tv.', 3), ('trapped', 3), ('on-site', 3), ('valid', 3), ('doing,', 3), ('conceded', 3), (\"nonsmokers'\", 3), ('mckeel.', 3), ('greatly', 3), (\"minnesota's\", 3), ('flavorings.', 3), ('38', 3), ('bureau.', 3), ('guardian', 3), ('decreases', 3), ('1980s', 3), ('prince', 3), ('strongest', 3), ('refused', 3), ('felberbaum,', 3), ('7,300', 3), ('otherwise,', 3), ('million)', 3), ('¨mr', 3), ('reduce,', 3), ('this.\"', 3), ('clerk', 3), ('platform', 3), ('nonsmoker', 3), ('code.', 3), ('kilgore', 3), ('learning,', 3), ('gibson', 3), ('entity', 3), ('produce.', 3), ('edition', 3), ('vuze', 3), ('garber', 3), ('slowly.', 3), ('irritants', 3), ('seizure', 3), ('stated.', 3), ('anti-jobs', 3), ('foods,', 3), ('gleeson,', 3), ('airlines.', 3), ('clause', 3), ('2003.', 3), ('caffeine', 3), ('34', 3), ('spring,', 3), ('falsely', 3), ('completely.', 3), ('big,', 3), ('stop.', 3), ('portray', 3), (\"who'd\", 3), ('sponsored', 3), ('spurs', 3), ('rush', 3), ('wound', 3), ('identification', 3), ('boy', 3), ('legitimate,', 3), ('signage.', 3), ('quarters', 3), ('antismoking', 3), ('3,500', 3), ('medication.', 3), ('think.', 3), ('learnt', 3), ('advocated', 3), ('chemical,', 3), ('uniformly', 3), ('stomach', 3), ('tobacconists', 3), ('differing', 3), ('cabins', 3), ('non-smokers.', 3), ('being,', 3), ('atefyekta', 3), ('motivational', 3), ('antonio', 3), ('troutdale,', 3), ('reluctant', 3), ('slide', 3), ('mitch', 3), ('matters', 3), ('well-marked', 3), ('negatively', 3), ('muslim-majority', 3), ('lacking', 3), ('neither.', 3), ('counseling.', 3), ('billion,', 3), ('sexual', 3), ('subdivision', 3), ('2.5', 3), ('presents', 3), ('rough', 3), ('decision,', 3), ('content,', 3), ('thresholds', 3), ('mcgowan,', 3), ('update,', 3), ('prescribe', 3), ('kamal', 3), ('passengers.', 3), ('children.\"', 3), ('contradicting', 3), ('zeitgeist.', 3), ('software', 3), ('pets', 3), ('modifications', 3), ('toxicants', 3), ('ministry¿s', 3), ('minority', 3), ('earlier,', 3), ('razak', 3), ('danger.', 3), ('minuscule', 3), ('t.)', 3), ('halles', 3), ('(best', 3), ('federation', 3), ('utility', 3), ('over-reach', 3), ('merchandise', 3), ('funny', 3), ('organizations.', 3), ('multi-use', 3), ('discreet', 3), ('proliferation', 3), ('fin', 3), ('peddling', 3), ('big.\"', 3), ('charlotte', 3), ('method,', 3), ('liquid-nicotine', 3), ('&ldquo;to', 3), ('speakers,', 3), ('heroin.', 3), ('commercials', 3), ('forecast', 3), ('challenge,', 3), ('flip', 3), ('renken', 3), ('debates,', 3), ('kafoury.', 3), ('tsawwassen', 3), ('difference,', 3), ('mevta', 3), ('cosmetic', 3), ('u.s.c.', 3), ('deals', 3), ('eye.', 3), ('guard', 3), ('25-year-old', 3), ('emission-free,', 3), ('he.', 3), ('withdrawn', 3), ('etc', 3), ('forces', 3), ('upstream', 3), ('something.', 3), ('pulling', 3), ('corners', 3), ('intoxicants,', 3), ('&ldquo;don&rsquo;t', 3), ('wasted', 3), ('daroyah', 3), ('companies.\"', 3), ('destroying', 3), ('education.', 3), ('shisha,', 3), ('june.', 3), ('unbearable.', 3), ('reports,', 3), ('dictionary.', 3), ('nida', 3), ('release,', 3), ('delta', 3), ('lumps', 3), ('questions,', 3), ('lenders', 3), ('expelled', 3), ('instruction', 3), ('dave', 3), ('learning', 3), ('(some', 3), ('www.clark.wa.gov/public-health/concern.html', 3), ('additive', 3), ('normalises', 3), ('aimran', 3), ('scare-mongering', 3), ('laws,', 3), ('hall.', 3), ('resembling', 3), ('destination', 3), ('kingdom', 3), ('lengthy', 3), ('board,', 3), ('try.', 3), ('wafts', 3), ('carolina.', 3), ('jeffrey', 3), ('berks', 3), ('corporations', 3), ('outside.\"', 3), (\"empire's\", 3), ('sanderson', 3), ('theresa', 3), ('true.', 3), ('invited', 3), ('emergence', 3), ('accordingly.', 3), ('vogtman', 3), ('staff,', 3), ('overseas,', 3), ('slated', 3), ('maker.', 3), ('status', 3), ('pour', 3), ('insights', 3), ('bridging', 3), ('assessed', 3), ('\"misperception\"', 3), ('heater', 3), ('vapours.', 3), ('myself.', 3), ('14,', 3), ('feet,', 3), ('ways,', 3), ('submitted', 3), ('safe?', 3), ('below.', 3), (\"''a\", 3), ('look.', 3), ('\"instead', 3), ('ground-breaking', 3), ('neutral', 3), ('opportunity.&rdquo;', 3), ('changes,', 3), ('dense', 3), ('dividend', 3), ('rights.', 3), ('safely', 3), ('horse', 3), ('website,', 3), ('1960s', 3), ('momentum', 3), ('civic-minded', 3), ('obliterans', 3), ('describing', 3), ('enjoys', 3), (\"community's\", 3), ('poll,', 3), ('bilateral', 3), ('obama', 3), ('klang', 3), ('contracts,', 3), ('45,000', 3), ('turkish', 3), ('ignore', 3), ('nonpermanent,', 3), ('gary', 3), ('2.4', 3), ('safe.\"', 3), ('noda', 3), ('\"about', 3), ('bogus', 3), ('feasible', 3), ('servings', 3), ('&ldquo;what', 3), (\"today's\", 3), ('accurately', 3), ('maximal', 3), ('quickly,', 3), ('40,000', 3), ('paths', 3), ('generated,', 3), ('court.', 3), ('asia,', 3), ('vegetable-based', 3), ('asri', 3), ('westminster', 3), ('ex-smoker', 3), ('30.', 3), ('diet', 3), ('synthetic', 3), ('(revised', 3), ('skype', 3), ('sterile', 3), ('raspberry', 3), ('brands.', 3), ('perlis', 3), ('posts', 3), ('red!', 3), ('saskatoon,', 3), ('young,', 3), ('rational', 3), ('doctor,', 3), ('steep', 3), ('risky', 3), ('location.', 3), ('nutshell,', 3), ('data.', 3), ('\"each', 3), ('spring.', 3), (\"tri-county's\", 3), ('longterm', 3), ('adoption', 3), ('quitting,', 3), ('outlawing', 3), ('ranking', 3), ('pattern', 3), ('displayed', 3), ('deserve', 3), ('grocery', 3), ('supply.', 3), ('\"until', 3), ('flavourings.', 3), ('smell.', 3), ('foundations', 3), ('\"what\\'s', 3), ('broke', 3), ('[e-cigarettes]', 3), ('custard', 3), ('emeritus', 3), ('medication?', 3), ('mornson', 3), ('republican,', 3), ('england-commissioned', 3), ('&lsquo;active', 3), ('scheme', 3), ('4,', 3), ('fda.', 3), ('3,', 3), ('pearl', 3), ('fairview,', 3), ('meets\"', 3), ('requirements,', 3), ('st.,', 3), ('moffitt,', 3), ('c,', 3), ('aggressively', 3), ('pen,', 3), ('likened', 3), ('clear.', 3), ('nut', 3), ('non-users.', 3), ('ecig,', 3), ('rolling', 3), ('displaying', 3), ('products;', 3), ('sometime', 3), ('popular.', 3), ('&ldquo;ask', 3), ('annoying', 3), ('represented', 3), ('westminster,', 3), (\"live.''\", 3), ('questioned', 3), ('star/ann)', 3), ('president,', 3), ('half-dozen', 3), ('densest', 3), ('novel', 3), ('childproof', 3), ('packaging,', 3), ('scratch', 3), ('shariah', 3), ('\"normal\"', 3), ('husband,', 3), ('fortunately,', 3), ('(717)', 3), ('assortment', 3), ('historical', 3), ('governance', 3), ('huddled', 3), ('converts', 3), ('employer', 3), ('kids.\"', 3), ('wooder,', 3), ('57', 3), ('chiefs', 3), ('synonymous', 3), ('individuals.', 3), ('ensures', 3), ('illustrated', 3), ('hurting', 3), ('metered', 3), ('smokers.\"', 3), ('diy', 3), ('stairs,', 3), ('encouragement.', 3), ('inappropriate', 3), ('one-tenth', 3), ('8.', 3), (\"addicts,''\", 3), ('losses', 3), ('logical', 3), ('smartphone', 3), (\"cabinet's\", 3), ('rib', 3), ('expat', 3), ('to,\"', 3), ('millilitre.', 3), ('recap:', 3), ('scathing', 3), ('projected', 3), ('stresses', 3), ('worker', 3), ('knoblauch', 3), ('glamorous', 3), ('vaporisers,', 3), ('co-ordination', 3), ('wells,', 3), ('\"juice,\"', 3), ('haram.', 3), ('say,\"', 3), ('e-cigarettes?&rdquo;', 3), ('services&rsquo;', 3), ('imply', 3), ('grouping', 3), ('pharmacist', 3), ('food,', 3), ('outpaced', 3), ('dissipate', 3), ('idaho,', 3), ('about.', 3), ('e-juices,', 3), ('credited', 3), ('ldl', 3), ('course.', 3), ('staff.', 3), ('entrepreneurial', 3), ('400,000', 3), ('expensive.\"', 3), ('acts', 3), ('recognizes', 3), ('patrons.', 3), ('answered', 3), ('dismiss', 3), ('venue', 3), ('41706', 3), ('necessary.', 3), ('pharmacies', 3), ('gruesome', 3), ('proliferated', 3), ('dursts', 3), ('penalty', 3), ('&ldquo;vaping', 3), ('administrative', 3), ('health-related', 3), ('range.', 3), ('called.', 3), ('damage.', 3), ('bust', 3), ('twitter.com/marissaharshman', 3), ('knock', 3), (\"monday's\", 3), ('jacobs', 3), ('flask', 3), ('adjusted', 3), ('beat', 3), ('escaped', 3), ('a23', 3), ('barely', 3), ('gender', 3), ('(try', 3), ('dialogue', 3), ('brick,', 3), ('self-help', 3), ('parties.', 3), ('suit.', 3), ('ego-t', 3), (\"'the\", 3), ('illustrating', 3), ('device\"', 3), ('oklahoma,', 3), ('favours', 3), ('ammonia,', 3), ('august.', 3), ('result:', 3), ('apparently,', 3), ('ministers', 3), ('sly', 3), ('adolescents,', 3), ('pneumonia', 3), ('dirty', 3), ('ruled', 3), ('healthy.', 3), ('derived', 3), ('chip', 3), ('drawbaugh,', 3), ('insisting', 3), ('colosi,', 3), ('direction.', 3), ('lane,', 3), ('2025,', 3), ('warming', 3), ('kratom', 3), ('happens,', 3), ('sway', 3), ('theater.', 3), ('announcing', 3), ('anxieties', 3), ('exempts', 3), ('old-school', 3), ('[that]', 3), ('westall', 3), ('foggy', 3), ('remaining', 3), ('adopted,', 3), ('staying', 3), ('cigar,', 3), ('cystic', 3), ('tubes', 3), ('related:', 3), ('cheaper.', 3), ('holds,', 3), ('anonymous', 3), ('2005,', 3), ('younger,', 3), ('unified', 3), ('coenan', 3), ('explain', 3), ('thieves', 3), ('behind.', 3), ('$60,000', 3), ('undoubtedly', 3), ('kalivas', 3), ('r.j.', 3), ('benefit,', 3), ('energy,', 3), ('costs,', 3), ('settle', 3), ('parents.', 3), ('sheds', 3), ('fud', 3), ('dictator', 3), ('samples,', 3), ('\"wall', 3), ('cropper,', 3), ('hospital,', 3), ('basis,\"', 3), ('alcoholics', 3), ('albeit', 3), ('referendum', 3), ('smolder.', 3), ('peace', 3), ('smallest', 3), ('releasing', 3), ('(if', 3), ('controlling', 3), ('ridiculous.', 3), ('status:', 3), ('laurie', 3), ('fad', 3), ('year-on-year', 3), ('kentucky', 3), ('fast-growing', 3), ('non-smoker,', 3), ('nonsmokers,', 3), ('ways.', 3), ('publicly', 3), ('ronge', 3), ('investigate', 3), ('christmas.', 3), ('treatments', 3), ('nationally.', 3), ('leong', 3), ('violate', 3), ('sources', 3), ('zones.', 3), ('commended', 3), ('pleasure', 3), ('iv', 3), ('checking', 3), ('short.', 3), ('depictions', 3), ('weeks,', 3), ('story.', 3), ('senators', 3), ('47,', 3), ('era', 3), ('evangelidis', 3), ('fledgling', 3), ('hospital.', 3), ('passed,', 3), ('crush', 3), ('vapourises', 3), ('completely,\"', 3), ('pragmatic', 3), ('asai', 3), ('demonstrates', 3), ('amount.', 3), ('islands', 3), ('venture', 3), (\"authority's\", 3), ('swap', 3), ('europe,', 3), ('bauld', 3), ('average.', 3), ('brains', 3), ('paper,', 3), ('jordan', 3), ('criticized', 3), ('hustler', 3), ('customer,', 3), ('respects', 3), ('requests', 3), ('establishing', 3), ('ross', 3), ('mods', 3), ('understands', 3), ('reflects', 3), ('oku', 3), ('sections', 3), ('\"juice', 3), ('cancer,\"', 3), ('toxicity', 3), ('euphoric', 3), ('e-juices', 3), ('buzz.', 3), ('go.\"', 3), ('vape.\"', 3), ('watch', 3), ('cigawatt.', 3), ('forever', 3), ('8,000', 3), ('mdurkin@yorkdispatch.com', 3), ('reflecting', 3), ('catching', 3), ('relieve', 3), ('cambridge', 3), ('\"...', 3), ('centers,', 3), (\"products,''\", 3), ('smokes,', 3), ('detailed', 3), ('taper', 3), ('inflammatory', 3), ('lizard', 3), ('cent.', 3), ('document', 3), ('mink', 3), ('savage', 3), ('part-time', 3), ('limitations', 3), ('occasions', 3), (\"products.''\", 3), ('obesity', 3), ('unusually', 3), ('co-owners', 3), ('explanation', 3), ('juices.', 3), ('publish', 3), ('22).', 3), ('spotted', 3), ('repairs', 3), ('generation\"', 3), ('option.', 3), ('tony', 3), ('bulk', 3), ('pot', 3), ('vices', 3), (\"vip's\", 3), ('confined', 3), ('ridzuan', 3), ('google', 3), ('configuration', 3), ('premier.', 3), ('italy,', 3), ('mom-and-pop', 3), ('cared', 3), ('cinnamon', 3), ('cessation.\"', 3), ('nicole', 3), ('inflammation', 3), ('vat', 3), ('e-cig?', 3), ('recruited', 3), ('debated,', 3), ('scope', 3), ('wastage', 3), (\"merchants'\", 3), ('boosting', 3), ('(e.g.', 3), ('accumulated', 3), ('martin', 3), ('tiffany', 3), ('answer.', 3), ('underscore', 3), ('replaced', 3), ('disarmament', 3), ('shah', 3), ('vague', 3), ('undetectable', 3), ('common)', 3), ('landscape,', 3), ('low.', 3), ('begun', 3), ('obsession', 3), ('cook', 3), ('house.\"', 3), ('column', 3), ('ave.', 3), ('drags', 3), ('greeted', 3), ('reduction,\"', 3), ('resident,', 3), ('(for', 3), ('location:', 3), ('evaluations,', 3), ('princeton,', 3), ('owning', 3), ('attracting', 3), ('saunders', 3), ('fumes,', 3), ('sponsor&rdquo;', 3), ('inform', 3), ('features.', 3), ('drafting', 3), ('enforced,', 3), ('taste.', 3), ('explaining', 3), ('manchester', 3), ('devices.\"', 3), ('resorting', 3), ('elkhart', 3), ('associations', 3), ('underneath', 3), ('order.', 3), ('overseas.', 3), ('maybe.', 3), ('luxembourg', 3), ('expense', 3), ('30-year', 3), ('\"first', 3), ('child-resistant', 3), ('sympathise', 3), ('kadar,', 3), ('bingo', 3), ('40.', 3), ('brains.', 3), ('academy', 3), ('absent.', 3), ('bell,', 3), ('cheah', 3), ('supply,', 3), ('inhalers,', 3), ('act)', 3), ('ministries', 3), ('cellar', 3), ('2.6', 3), ('futile', 3), ('ultralight', 3), ('vaporise', 3), ('start,', 3), ('bad?', 3), ('seat', 3), ('incentive', 3), (\"nicotine,''\", 3), ('celebration', 3), ('interactive', 3), ('sponsors?', 3), ('debunked.', 3), ('delonti', 3), ('suzanne', 3), ('ridley', 3), ('may.', 3), ('angeles.', 3), ('\"e-cig\"', 3), ('inhalation,', 3), ('vacant', 3), ('exists,', 3), ('proprietary', 3), ('loyalty', 3), ('react', 3), ('fund', 3), ('1,500', 3), ('hospital:', 3), ('38,', 3), ('confounding', 3), ('clarity', 3), ('(below', 3), ('fibrosis', 3), ('independent.', 3), ('presence.', 3), ('doubling', 3), ('remind', 3), ('blocks', 3), ('protection,', 3), ('vaper,', 3), ('late,', 3), ('advisors', 3), ('catania', 3), ('(nprm)', 3), ('hoskins', 3), ('intrusive', 3), ('gresham.', 3), ('cig-a-like', 3), ('barriers', 3), ('mel', 3), ('tobacco-like', 3), ('\"cloud', 3), ('machines', 3), ('antibiotics', 3), ('ignored', 3), ('amm', 3), ('fruit,', 3), ('$50,', 3), ('underground,', 3), ('cake', 3), ('mixes', 3), ('force,', 3), ('\"besides', 3), ('power:', 3), ('hangout', 3), ('organ', 3), ('scan', 3), ('nomination', 3), ('measure.', 3), ('heightens', 3), ('vape-free', 3), ('newswires.', 3), ('functions.', 3), ('relaxed', 3), ('facilities', 3), ('cemeteries', 3), ('husin,', 3), ('liberty', 3), ('mail', 3), ('interest.', 3), ('devoted', 3), ('signs.', 3), ('bodies,', 3), ('compulsory', 3), ('deter', 3), ('certified', 3), ('2004', 3), ('cautiously', 3), ('outweigh', 3), ('addresses', 3), ('rizzo,', 3), ('overall,', 3), ('temperatures', 3), ('diseases,', 3), ('banks', 3), ('durkin', 3), ('pair', 3), ('rahman', 3), (\"'vaping'.\", 3), ('anymore', 3), ('\"clean', 3), ('\"light\"', 3), ('sizeable', 3), ('operations.', 3), ('mice,', 3), ('questions:', 3), ('cardiovascular', 3), ('confirms', 3), ('reformer:', 3), ('grant.', 3), ('cornwall', 3), ('fact:', 3), ('apples', 3), ('assets:', 3), ('baru,', 3), ('\"legitimate\"', 3), ('stocks.', 3), ('treasury', 3), ('overtake', 3), ('exceedingly', 3), ('constituents', 3), ('sharply', 3), ('ecigs', 3), ('high-dose', 3), ('hats', 3), ('need,\"', 3), ('dismiss,', 3), ('purchased.', 3), ('after-school', 3), ('www.bemidjipioneer.com', 3), ('vice', 3), ('source.', 3), ('geographic', 3), ('consumers.', 3), ('\"whether', 3), ('agencies,', 3), ('conspicuous', 3), ('teresa', 3), ('noor', 3), ('situated', 3), ('lee', 3), ('up)', 3), ('weekend.', 3), ('rebecca', 3), ('started,\"', 3), ('stipulate', 3), ('reactions', 3), ('questions.', 3), ('whole.', 3), ('unicorn', 3), ('increase,', 3), ('thing:', 3), ('1983.', 3), ('river', 2), ('chester,', 2), ('bystander', 2), ('obligation', 2), ('1920s', 2), (\"e-cigarette's\", 2), ('page11)', 2), ('aired', 2), ('trust.', 2), ('reason:', 2), ('dividends', 2), ('joseph,', 2), ('pizzuti,', 2), ('indent;', 2), ('controller', 2), ('buy,\"', 2), ('ismk', 2), ('lorrilard', 2), ('haven,', 2), ('\"vapologist.\"', 2), ('uw-madison', 2), ('cannibalised', 2), ('21-year-old', 2), ('plus,\"', 2), (\"'juices'\", 2), ('¨last', 2), ('contests', 2), ('cartridges,', 2), ('ritter', 2), ('sioutas.', 2), (\"king's\", 2), ('nitric', 2), ('indoor,', 2), ('publishes', 2), ('daman', 2), ('lures.', 2), ('assertions', 2), ('environment\"', 2), ('express-star', 2), ('relationship', 2), ('cohorts', 2), ('nbc.com.', 2), ('eckroat', 2), ('disclosure', 2), ('(ig)', 2), ('pertains', 2), ('phase,', 2), ('co-authors', 2), ('aussievapers', 2), ('@susannahbutter', 2), ('specified', 2), ('norm.', 2), ('leinster', 2), ('fares', 2), ('room,', 2), ('bewildering', 2), ('800,000', 2), (\"'it\", 2), ('criminals', 2), ('triangle,', 2), ('vaporized,', 2), ('married', 2), ('craze.', 2), ('qualify', 2), ('gent', 2), ('seremban,', 2), ('supposedly', 2), ('lustig', 2), ('instilling', 2), ('booze', 2), ('need?', 2), ('yaakob,', 2), ('introduced,', 2), ('pen-style', 2), ('pulmonologist', 2), ('twitter.com/wordpuddle', 2), ('altrincham', 2), ('hose,', 2), ('belleville,', 2), ('witnessing', 2), ('peyton,', 2), ('riverside', 2), ('uneasy', 2), ('ups,', 2), ('catch-22', 2), ('ng/ml,', 2), ('dragged', 2), ('alive.\"', 2), ('lull', 2), ('revitalization', 2), ('\"she', 2), ('stirring', 2), ('lumping', 2), ('2012\"', 2), ('merchants', 2), ('camarillo', 2), ('levelled', 2), ('permanently', 2), ('great-grandmother', 2), ('officials.', 2), ('poisonings', 2), ('nguyen,', 2), ('customization', 2), ('clearomizers,', 2), ('oxforddictionaries.com', 2), ('activities,', 2), ('unnoticed.', 2), ('nickel', 2), ('merchandise,', 2), ('basis.\"', 2), ('school-age', 2), ('intended,', 2), ('usher', 2), ('packets', 2), ('envisions', 2), ('uniformity', 2), ('significance\".', 2), ('killer', 2), ('reauthorize', 2), ('heidi,', 2), ('events;', 2), ('comply,', 2), ('vietnam', 2), ('johnston.', 2), ('concede', 2), ('census', 2), ('ridiculousness', 2), ('basement', 2), ('ground', 2), ('equality', 2), ('beginners', 2), ('behind.\"', 2), ('nationally,', 2), ('booming.', 2), ('bids.', 2), ('coalition\"', 2), ('(morris,', 2), ('youthful', 2), (\"day.'\", 2), ('japan', 2), ('see,', 2), ('hydrocarbons', 2), ('ddt.', 2), ('seated', 2), ('bitter', 2), ('(spartanburg,', 2), ('side-effects,', 2), ('oceanfront', 2), ('there.\"', 2), ('investments.', 2), ('jdino@standardspeaker.com', 2), ('\"underground\"', 2), ('sildenafil', 2), ('normal.', 2), ('done.', 2), (\"ag's\", 2), ('outline', 2), ('increasingly,', 2), ('attaching', 2), ('interview.', 2), ('paris', 2), ('candice', 2), ('documents', 2), ('ongoing,', 2), ('unavailable,', 2), ('\"cool\"', 2), ('spoof', 2), ('safeguarding', 2), ('doctor,\"', 2), ('revealed.', 2), ('peterson', 2), ('succeeded', 2), ('willpower,', 2), ('charleston,', 2), ('whey', 2), ('gap,', 2), ('usage.', 2), ('boot', 2), ('concentrate', 2), ('therapies,', 2), ('deepened', 2), (\"mullery's\", 2), ('packing', 2), ('proudly', 2), ('attendants,', 2), ('lip', 2), ('\"ocean', 2), ('players,', 2), ('included.', 2), ('pasco', 2), ('kecil', 2), ('billion-dollar', 2), ('progressively', 2), ('missing', 2), ('over-18s', 2), ('¨so', 2), ('nonsmoking', 2), ('52,', 2), ('nauseating.\"', 2), (\"cvs'\", 2), ('expecting.\"', 2), ('health-risk', 2), ('arrives', 2), ('ride', 2), ('excludes', 2), ('canister', 2), ('assumed', 2), ('halliwell', 2), ('ground,', 2), ('newsday', 2), ('difficult,\"', 2), ('estimate.', 2), ('squeezed', 2), ('down,', 2), ('stupid.', 2), ('ingredients)', 2), ('desserts', 2), ('milwaukee', 2), ('conclusions,', 2), ('testimonials', 2), ('impressive.', 2), ('malacca:', 2), ('skulls', 2), ('odour', 2), ('guildhall', 2), ('bongs.', 2), ('smell,\"', 2), ('history.', 2), ('itch', 2), ('gasoline', 2), ('candidate', 2), (\"kleefisch's\", 2), ('astro-med,', 2), ('documents.', 2), ('(bat)', 2), ('des', 2), ('opposing', 2), ('nights,', 2), ('spiral', 2), ('wildwood,', 2), ('pharmacies.', 2), ('open.', 2), ('consumption,\"', 2), ('coil/wick', 2), ('gains.', 2), ('elderly', 2), ('exciting', 2), ('fightins', 2), ('madtown', 2), ('thursday;', 2), ('patch,', 2), ('markten.', 2), ('attend', 2), (\"ashland's\", 2), ('quotes', 2), ('rows', 2), ('ltd.', 2), ('---', 2), ('\"throat', 2), ('margin', 2), (\"'even\", 2), ('\"saw', 2), ('blumenthal,', 2), ('lost.\"', 2), ('premature.', 2), (\"'hold'\", 2), ('importers', 2), ('capable', 2), ('theaters', 2), ('big-growth', 2), ('neat', 2), ('50,', 2), ('boys.', 2), ('hernandez,', 2), ('yalias,', 2), ('abatement', 2), ('\"customers', 2), ('lecturer,', 2), ('tech.', 2), ('adams', 2), ('dollop', 2), ('almighty', 2), ('billion)', 2), ('generations.', 2), ('strand', 2), ('danny', 2), ('kills.', 2), (\"wicked's\", 2), ('notice.', 2), ('schneider', 2), ('turkey\"', 2), ('deionised', 2), ('[much]', 2), ('echoes', 2), ('indyref', 2), ('inhale,', 2), ('devised', 2), ('\"protect', 2), ('write', 2), ('11th', 2), ('objects', 2), ('problem\".', 2), ('airways', 2), ('fragmented.', 2), ('girly', 2), ('4.6', 2), (\"friday's\", 2), ('rest.', 2), ('muslims,', 2), ('timer.', 2), ('fontem', 2), ('complaints.', 2), ('relaxing.', 2), ('second-', 2), ('if,', 2), ('\"intermittent,\"', 2), (\"harmful'\", 2), ('1997.', 2), ('bursting', 2), ('mods,\"', 2), ('surrounded', 2), ('6.5', 2), ('chimed', 2), ('standard-speaker', 2), ('2,', 2), ('mitigation', 2), ('upheld', 2), ('apex', 2), ('vaporization.', 2), ('riocarmine.', 2), ('cope', 2), ('sharks', 2), ('moorthy', 2), ('mini', 2), (\"ostiguy's\", 2), ('acs', 2), ('exchanges', 2), ('award', 2), ('obsolete.', 2), ('disabled', 2), ('lives.\"', 2), ('null', 2), ('cigars.', 2), ('mo.)', 2), ('unloved', 2), ('check,', 2), ('routes', 2), ('1310', 2), ('nutz.', 2), ('patio-seating', 2), ('nasally.', 2), ('nhs,', 2), ('wasteful,\"', 2), ('move,', 2), ('dg', 2), ('dried', 2), ('composite', 2), ('\"youtube', 2), ('moms.', 2), ('foothold', 2), ('mercury', 2), ('\"nicotine-free\"', 2), ('gresk', 2), ('ethical', 2), ('boxes', 2), ('bothers', 2), ('marang,', 2), ('sellers.', 2), ('parent,', 2), ('rolled', 2), ('clearomizer', 2), ('biased', 2), ('60s.', 2), ('worsen', 2), ('initiate', 2), ('foul', 2), ('$50,000,', 2), ('deleterious', 2), ('flammable', 2), ('crux', 2), ('fameflynet.uk.com', 2), ('acceptable.', 2), ('marlboro.', 2), ('downward', 2), ('published,', 2), ('cva', 2), ('colour', 2), ('transient', 2), ('meyer,', 2), ('(tests', 2), ('picture,', 2), ('[e-cigarette', 2), ('tongue.', 2), ('obeying', 2), ('shortsighted.', 2), ('airfield', 2), ('fallen', 2), ('downturn', 2), ('\"neuroplastic\"', 2), ('(vaping).', 2), ('montgomery', 2), ('tank.', 2), ('98', 2), ('impressionable', 2), ('instructed', 2), ('prop', 2), ('scientists.', 2), ('sigh', 2), ('appreciated', 2), ('parks,\"', 2), ('(pottsville,', 2), ('lipoid', 2), ('vaporising', 2), ('emails', 2), ('gibran', 2), ('cabinet,', 2), ('$700', 2), ('dark', 2), ('effectiveness.', 2), ('traits', 2), ('marine', 2), ('(of', 2), ('fedder,', 2), ('worn', 2), ('grave', 2), ('soluble,', 2), ('arsenal', 2), ('sixties,', 2), ('lounge\"', 2), ('vapourising', 2), ('july.', 2), ('microbes', 2), ('milligram', 2), ('warm,', 2), ('requesting', 2), ('loved', 2), ('non-tobacco', 2), ('\"generally,', 2), ('baru:', 2), ('belongs', 2), ('cross-border', 2), ('brink,', 2), ('zeal', 2), ('gone.', 2), ('issue.\"', 2), ('scranton,', 2), ('motorist', 2), ('height', 2), ('supplier', 2), ('regret', 2), ('newports.', 2), ('michaud', 2), ('innovapetions', 2), ('30ml', 2), ('could,', 2), ('mid-1990', 2), ('brad', 2), ('\"smoke', 2), ('theoretically,', 2), ('opponents,', 2), ('ethics', 2), ('applejack,', 2), ('morales,', 2), ('secondhand.', 2), ('bovvered,', 2), ('e-cigarette/vape', 2), ('cassette', 2), ('anniversary', 2), ('fatwas', 2), ('confiscating', 2), ('ashtray', 2), ('god-knows-what,', 2), ('fl2.0%,', 2), ('lit,', 2), ('stakeholders', 2), ('long,', 2), ('wave', 2), ('£4', 2), ('regan', 2), ('continuously', 2), ('implied', 2), ('history-of-science', 2), ('ramli,', 2), ('recalled.', 2), ('ventilated', 2), ('removal', 2), ('lightest', 2), ('parker,', 2), ('up).', 2), ('pungent', 2), ('habit?', 2), ('insouciantly.', 2), ('honorable', 2), ('quebec.', 2), ('concerns,\"', 2), ('walesonline', 2), ('phils', 2), ('budtender,', 2), (\"formaldehyde,''\", 2), ('arrival', 2), ('label,\"', 2), ('psychiatric', 2), ('rate:', 2), ('cardiff?', 2), ('us;', 2), ('wolf', 2), ('paths,', 2), ('taste,', 2), ('highlighted', 2), ('halle', 2), ('aiding', 2), ('fulani', 2), ('stratford', 2), ('heralded', 2), ('strategy.', 2), ('discussion,', 2), ('babies.', 2), ('hodapp', 2), ('facebook,', 2), ('called,', 2), ('reshoot', 2), ('saying.', 2), ('odour.', 2), ('québécoise', 2), ('fug.\"', 2), (\"altrincham's\", 2), ('janice', 2), ('admits.', 2), ('hardest', 2), ('vanguard', 2), ('thousands.', 2), ('flavorant', 2), ('comment.', 2), ('0.6,', 2), ('evod', 2), ('mma', 2), ('nine,', 2), ('three,', 2), ('moretto', 2), ('sellers,', 2), ('simples', 2), ('sentinel', 2), ('great.', 2), ('sartorial', 2), ('azmin', 2), ('school-', 2), ('irritating', 2), ('full-strength', 2), ('undo', 2), ('notification', 2), ('medication,', 2), ('sundays.', 2), ('daman,', 2), ('disgusting.', 2), ('drones', 2), ('girlfriends', 2), ('hearts', 2), ('answers,', 2), ('cite', 2), ('stylish', 2), ('absolute', 2), (\"smoking''\", 2), ('slp,', 2), (\"''\", 2), ('shot.', 2), ('engines,', 2), ('hashtag', 2), (\"aberdeen's\", 2), ('management.', 2), ('legal,', 2), ('connecticut', 2), ('attention;', 2), ('filters', 2), ('developments.', 2), ('six-month,', 2), ('inoffensive', 2), ('curve', 2), ('manufacturers]', 2), ('nods', 2), ('sop', 2), ('endorsements.', 2), ('boris', 2), ('8.7%', 2), ('overdoses.', 2), ('n.c.)', 2), ('assuming', 2), ('accounts', 2), ('studio', 2), ('firmly', 2), ('revolution', 2), ('\"event\".', 2), ('considered.', 2), ('16.', 2), ('berwick', 2), ('forces,', 2), ('protest', 2), ('oem/odm', 2), ('sale-priced', 2), ('william', 2), ('practitioners', 2), ('farmer,', 2), ('denied', 2), ('856-779-3838', 2), ('forum.', 2), ('square', 2), ('resplendent', 2), ('accomplish', 2), ('carveout', 2), ('attempts,', 2), ('regularly.', 2), ('additionally', 2), ('differentiate', 2), ('durgin', 2), ('$300,000', 2), ('n.c.', 2), ('billed', 2), ('proprietors', 2), ('when,', 2), ('c', 2), ('bathroom', 2), ('economist', 2), ('bidders,', 2), ('corp.', 2), ('32-year-old', 2), ('healthy,', 2), ('venue.', 2), ('podcast.', 2), ('deserves', 2), ('smells,', 2), ('barrington', 2), ('using.', 2), ('ministers.', 2), ('ohio,', 2), ('attracts', 2), ('concerning.\"', 2), ('funding,', 2), ('vice-president', 2), ('addiction;', 2), ('around.', 2), ('navarro', 2), ('conducting', 2), ('600', 2), ('warnings,', 2), ('council:', 2), ('wine,', 2), ('greek', 2), ('alarmism', 2), ('546-6249.', 2), ('ed', 2), ('district.', 2), ('across.', 2), ('beef', 2), ('thumbs', 2), ('product,\"', 2), ('device)', 2), ('purchases', 2), ('timing:', 2), ('territory', 2), ('deaths.', 2), ('unless,', 2), ('mainstream,', 2), ('inskeep', 2), ('filed', 2), (\"liquid,''\", 2), ('damage.&rdquo;', 2), ('warmest', 2), ('contributions', 2), ('outside,', 2), (\"stanford's\", 2), ('\"vaping\"?', 2), ('detachable', 2), ('congratulate', 2), (\"'significantly\", 2), ('morningstar.', 2), ('instantly.', 2), ('sensory', 2), ('die,\"', 2), ('astonishing', 2), ('jails', 2), ('slacktivism,', 2), ('color', 2), ('\"know', 2), ('perception.', 2), ('much-replicated', 2), ('contestants', 2), ('authorised', 2), ('(el', 2), ('brown,', 2), ('both.', 2), ('use,\"', 2), ('harvest', 2), ('dominated', 2), ('grateful', 2), ('jefferson', 2), ('way:', 2), ('kevan', 2), ('epidemiologists', 2), ('membership,', 2), ('baseline', 2), ('june,', 2), ('teamed', 2), ('offerings', 2), ('circuit', 2), ('ahrens', 2), ('austria,', 2), ('baffled', 2), ('accelerate', 2), ('vaping\".', 2), ('mg/ml', 2), ('llewellyn', 2), ('ceremonies.', 2), ('cravings,', 2), ('hard-won', 2), ('guide.', 2), ('generalised', 2), ('push-back', 2), ('grow.', 2), ('safety.\"', 2), ('capacity.', 2), ('mysterious', 2), ('$90,000', 2), ('spun', 2), ('herbs', 2), ('attitudes', 2), ('owner,', 2), ('enough,', 2), ('messages', 2), ('onlooker', 2), ('nod', 2), ('jamnick,', 2), ('determined,', 2), ('fiona', 2), ('endearment', 2), ('\"bat', 2), ('150m', 2), ('facts,', 2), ('kangar:', 2), ('uninitiated,', 2), ('flash', 2), ('kufeldt', 2), ('california-based', 2), ('elements.', 2), ('selby,', 2), ('2.0%).', 2), ('include:', 2), ('needs.', 2), ('reach.', 2), ('(muip)', 2), ('maier', 2), ('confirmation', 2), ('hair,', 2), ('smokers?', 2), ('15.2%', 2), ('delayed', 2), ('carbon-neutral.', 2), ('was,\"', 2), ('tiger', 2), ('accurate,', 2), ('libraries', 2), ('fears.', 2), ('mcgill', 2), ('1,000.', 2), ('prestigious', 2), ('dispensary', 2), ('achieve', 2), ('indications', 2), ('see.\"', 2), ('proprietor,', 2), ('wished', 2), ('craine', 2), ('cells,', 2), ('(grand', 2), ('1990s', 2), ('devices,\"', 2), ('nutrition', 2), ('forum,', 2), ('recently-enacted', 2), ('sex,', 2), ('politics', 2), ('leap', 2), (\"evidence.''\", 2), ('overburden', 2), ('frightens', 2), ('collingswood,', 2), ('\"troop\"', 2), ('impossible,\"', 2), ('(606)', 2), ('jerip', 2), ('psu', 2), ('mass.)', 2), ('pearsall.', 2), ('vancouver,', 2), ('wondered', 2), (\"''e-cigarettes\", 2), (\"west'\", 2), ('old,', 2), ('cancerous', 2), ('births.', 2), ('behaviour?', 2), ('editorial.', 2), ('kiosk.', 2), ('fightin', 2), ('debunked', 2), ('epitome', 2), ('adhere', 2), ('painless', 2), ('toxic,', 2), ('guarantee', 2), (\"''before\", 2), ('southard', 2), ('clogged.', 2), ('safeguard', 2), ('commendable,', 2), (\"freer's\", 2), ('movies,\"', 2), ('&ldquo;renormalization.&rdquo;', 2), ('phillippe,', 2), ('landscape.', 2), ('snow', 2), ('$25,000', 2), ('moore,', 2), ('gram', 2), ('(once', 2), ('mischaracterized.', 2), ('shoulders', 2), ('rejected,', 2), ('tulsa', 2), ('million-dollar', 2), ('randomized,', 2), ('ld', 2), ('civic', 2), ('carefully.', 2), ('left.', 2), ('615-4018', 2), ('lake,', 2), ('battery-charged', 2), ('crunch,', 2), ('response.\"', 2), ('chocolate.', 2), ('tissue.', 2), ('enthusiastically.', 2), ('freight', 2), ('heat-stable', 2), ('carefully', 2), ('jake', 2), ('price,', 2), ('oversized', 2), ('texts', 2), ('formation', 2), ('25,', 2), ('(teenagers)', 2), ('seminar', 2), ('handling', 2), ('blue,', 2), ('postgraduate', 2), ('trained,', 2), ('acted', 2), ('hit,\"', 2), ('consent', 2), ('fairfax', 2), ('chose', 2), ('12th', 2), ('\"vapor', 2), ('cartridge.', 2), ('cole', 2), ('flavorants,\"', 2), ('creamer', 2), ('fanned', 2), ('bongs', 2), ('billboard', 2), ('theory', 2), ('brews,', 2), ('duty,\"', 2), ('statistics,', 2), ('resume', 2), ('binge', 2), ('technician', 2), ('evil.', 2), ('abbey', 2), ('form,', 2), ('(tns)', 2), ('dunworth,', 2), ('remember,', 2), ('bursts', 2), ('hendy', 2), ('rule.', 2), ('reconstruction', 2), ('express.', 2), ('jail', 2), ('supplements', 2), ('half-century', 2), ('phases,', 2), ('discussions', 2), ('carcinogenetic;', 2), ('compromise', 2), ('sterling', 2), ('tempted', 2), ('blood.\"', 2), ('vacuum', 2), ('newcomers', 2), ('rod,', 2), ('415:', 2), ('blue!);', 2), ('under-18', 2), ('machines.', 2), ('nsw', 2), ('$500.', 2), ('warned.', 2), ('\"probably', 2), ('joints', 2), ('carvalho', 2), ('suspects', 2), ('\"originated', 2), ('30s.', 2), ('hypodermic', 2), ('dismissed', 2), ('advisable', 2), ('attuned', 2), ('saturday;', 2), ('reuse', 2), ('polycyclic', 2), ('writer.', 2), ('bed.', 2), ('switching.', 2), ('resources,', 2), ('entities', 2), ('delevingne,', 2), ('platforms.', 2), ('e-devices.', 2), ('proportionate', 2), ('harmful.\"', 2), ('dog,\"', 2), ('smeared', 2), ('marketing,', 2), ('specializing', 2), ('$100,000', 2), ('win', 2), ('almost-forgotten', 2), ('technological', 2), (\"parliament's\", 2), ('meet.', 2), ('vermont', 2), ('harm?', 2), ('dawn', 2), ('accused', 2), ('ustaz', 2), ('argument,', 2), ('\"getting', 2), ('kicking', 2), ('ulmerton', 2), ('teacher', 2), ('baseball', 2), ('arose', 2), ('genteel', 2), ('backups.', 2), ('enterprise.', 2), ('collections', 2), ('marlboro,', 2), ('psyched', 2), ('exchange,', 2), ('vapeplace', 2), ('fever', 2), ('bath', 2), ('wills', 2), ('two.\"', 2), ('like:', 2), ('\"normalise\"', 2), ('measurements', 2), ('genetically', 2), ('emergency.', 2), ('tentatively', 2), ('edds', 2), ('ipod', 2), ('along,', 2), ('apples-to-apples,', 2), ('\"tobacco\"', 2), ('palmer,', 2), ('trends.', 2), ('customers,\"', 2), ('target,', 2), ('pedro', 2), ('uptick', 2), ('do-it-yourself', 2), ('griffiths,', 2), ('\"pro-vapers\"', 2), ('years.\"', 2), ('purview', 2), ('high,', 2), ('hardy.', 2), ('providence.', 2), ('entering', 2), ('mikhail,', 2), ('eighteen', 2), ('operable', 2), ('six-month', 2), ('tate', 2), ('bend', 2), ('prize', 2), ('voluntary', 2), ('perspective', 2), ('proctor', 2), ('record,', 2), ('proof.', 2), ('s:', 2), ('welfare', 2), (\"china's\", 2), ('strengthening', 2), ('lotus.', 2), ('trait', 2), ('draconian', 2), ('margaret', 2), ('prohibitionist', 2), ('napkin', 2), ('use)', 2), ('reinstating', 2), ('sophomores', 2), ('spirited', 2), ('nice,', 2), ('\"smoking.\"', 2), ('packed', 2), ('cross-contamination.', 2), ('corpus', 2), ('walla,', 2), ('preoccupations', 2), ('visually', 2), ('dial', 2), ('unit,', 2), ('cowboy', 2), ('vape:', 2), ('soccer', 2), ('vortex', 2), ('adopts', 2), ('self-serving', 2), ('reward', 2), ('soniers', 2), ('painted', 2), ('edward', 2), ('american,', 2), (\"''can\", 2), ('bang', 2), (\"e-cigs'\", 2), ('nadzim', 2), ('merchandise.', 2), ('existed', 2), ('emphysema', 2), (\"patient's\", 2), ('$650', 2), ('2615', 2), (\"''rather\", 2), ('scale', 2), ('stacy,', 2), ('carr-slauenwhite,', 2), ('alone,\"', 2), ('snuff.', 2), ('exeter,', 2), ('establishment,\"', 2), ('46', 2), ('lethal', 2), ('ald.', 2), ('temperatures.', 2), ('something,\"', 2), ('chav,', 2), ('proponent', 2), ('dramatically,', 2), ('concludes', 2), ('morningstar', 2), ('hollywood', 2), ('approved.', 2), ('alien,', 2), ('they,', 2), ('2074:', 2), ('ny', 2), ('directors', 2), ('read.', 2), ('circulates', 2), ('okla.)', 2), ('further.', 2), ('bylaw,', 2), ('resent', 2), ('wrong,', 2), ('shy', 2), ('e-hardware', 2), ('neighbors,', 2), ('wash.)', 2), ('inspector', 2), (\"shanghai's\", 2), ('hiring.', 2), ('kibosh', 2), ('normalization', 2), ('metroplex', 2), ('afterwards.', 2), ('flatwoods', 2), ('manufacture,', 2), ('bumping', 2), ('technologies,', 2), ('vary.', 2), ('stormy', 2), ('westshore', 2), ('range.\"', 2), ('wilmington', 2), ('goshen.', 2), ('33,', 2), ('multi-point', 2), ('cousin', 2), ('methadone.', 2), ('foley', 2), ('tune', 2), ('charles.', 2), ('star', 2), ('lyons,', 2), ('13.', 2), ('waycross', 2), ('ibd', 2), ('scourge:', 2), ('returns', 2), ('woman,', 2), ('debauch', 2), ('hospitalised', 2), ('union-bulletin', 2), ('movement.', 2), ('quantities', 2), ('packaging,\"', 2), ('doubtless', 2), ('jordal', 2), ('nigeria,', 2), ('blends.', 2), ('partners.', 2), ('hydrogen', 2), ('tobacco?', 2), ('challenge.', 2), ('et', 2), ('listening,', 2), ('forming', 2), ('deliberate', 2), ('palatable', 2), (\"reynold's\", 2), ('earnings', 2), ('common.', 2), ('summit', 2), ('ticket', 2), ('moment.', 2), ('bonfire', 2), ('\"nanny', 2), ('secret', 2), ('me,\"', 2), ('expire', 2), ('all,\"', 2), ('id)', 2), ('unicorns.', 2), ('eps', 2), ('like.', 2), ('counteract', 2), ('bust.', 2), ('ridiculous,', 2), ('vaporub', 2), ('basing', 2), ('avoided', 2), ('silver', 2), ('neuro-receptors', 2), ('median', 2), ('infrastructure.', 2), ('.3', 2), ('shampoo,', 2), ('anecdotal', 2), ('capsules', 2), ('2-part', 2), ('psychology', 2), ('eu.', 2), ('won.', 2), ('\"renormalise\"', 2), ('non-smokes!\"', 2), ('clinic,', 2), ('game.', 2), ('understand,\"', 2), ('bailey', 2), ('narcan,', 2), ('obsessed', 2), ('banoun', 2), ('shohn', 2), ('entry-level', 2), ('tx', 2), ('patterson', 2), ('crisis,', 2), ('chromium', 2), ('nextgen', 2), ('hometown', 2), ('promotional', 2), ('request', 2), ('plucked', 2), ('whatsoever', 2), ('inc.,', 2), ('interviews', 2), ('vicinity', 2), ('sidewalks.', 2), (\"people.''\", 2), ('investigator', 2), ('$3-billion-a-year', 2), ('drank', 2), ('creme', 2), ('linger,', 2), ('derogatory', 2), ('courtyards', 2), ('ditch', 2), ('rallying', 2), ('unfriend,', 2), ('gran', 2), ('ontario,', 2), ('potential,', 2), ('(dca),', 2), ('feeding', 2), ('recent,', 2), ('varies,', 2), ('evidence-driven', 2), ('gestures', 2), ('abc', 2), ('(st.', 2), ('teeth', 2), ('lifted', 2), ('unlimited', 2), ('advocates,', 2), ('ring,', 2), (\"transportation's\", 2), ('downloaded', 2), ('bradley,', 2), ('\"yuck.', 2), ('lung.', 2), ('fondly', 2), ('arsenic,', 2), ('1-7', 2), ('gazetted', 2), ('administer', 2), ('adopting', 2), ('lohan', 2), ('(cdc).', 2), ('pet', 2), ('cabbie', 2), ('deen', 2), ('hiv.', 2), ('believe,', 2), ('(r-ca),', 2), ('dalilah', 2), ('duluth,', 2), ('georgetown.', 2), ('minneapolis,', 2), ('hattiesburg,', 2), ('flocked', 2), (\"creek's\", 2), ('approach,', 2), ('roizen', 2), ('inroads', 2), ('dispatch,', 2), ('jakobowska', 2), ('scores', 2), ('lisa,', 2), ('small-town', 2), ('pipe,', 2), ('underground.', 2), ('\"everything', 2), ('clubs,', 2), ('mint.', 2), ('exempting', 2), ('219', 2), ('negara', 2), ('t-boosters', 2), ('barred.', 2), ('131', 2), ('\"inhale', 2), ('act).', 2), ('wirelessly', 2), ('gross', 2), ('vests,', 2), ('stage,', 2), ('smoke-', 2), (\"altria's\", 2), ('before.', 2), ('demographic', 2), ('risked', 2), ('n.d.)', 2), ('mood', 2), ('50.\"', 2), ('grants', 2), ('outlaws', 2), ('nonsmoker,', 2), ('issues,\"', 2), ('tone', 2), ('morris,', 2), ('cargo', 2), ('epidemic,&rdquo;', 2), ('playgrounds,', 2), ('cc.', 2), ('friends,', 2), ('capita', 2), ('decommissioning', 2), ('firms.', 2), ('educate,', 2), (\"oklahoma's\", 2), ('opened.', 2), ('chapters', 2), ('pens).', 2), ('(mwaa).', 2), ('byob.', 2), ('perfumes,', 2), ('zayach', 2), ('black,', 2), ('atomizer,', 2), ('(620)', 2), ('dynamic.', 2), ('easier,', 2), ('false.', 2), ('beer,', 2), (\"lungs'\", 2), ('enveloped', 2), ('denholtz', 2), ('creation', 2), ('rule.\"', 2), ('type.', 2), ('positioning', 2), ('one&rsquo;s', 2), ('sumner', 2), ('mediaguardian', 2), ('rcp', 2), ('youngsters.', 2), ('not.â', 2), ('something,', 2), ('kuwait', 2), ('altogether.\"', 2), ('\"sampling', 2), ('constantly.', 2), ('jollye', 2), ('jaworski', 2), ('sell\".', 2), ('museums', 2), ('concentrations,', 2), ('haggerston,', 2), ('entirely,\"', 2), ('migrate', 2), ('health-care', 2), ('shady', 2), ('coalition,', 2), ('ploys', 2), ('demonstrated', 2), ('slippery', 2), ('favor.', 2), ('impacted', 2), ('reduction;', 2), ('baldacci,', 2), (\"quitter's\", 2), ('15-year-olds', 2), ('pumping', 2), ('legalise', 2), ('matter,\"', 2), ('overboard', 2), ('podcast,', 2), ('(victoria,', 2), ('wu', 2), ('culmination', 2), ('non-existent', 2), ('rod', 2), ('site,', 2), ('912', 2), ('jessica', 2), ('fad.', 2), ('toothpaste,', 2), ('luggage', 2), ('denormalising', 2), ('planes,', 2), ('teeth,', 2), ('45,', 2), ('forbes', 2), ('five-fold', 2), ('methamphetamine', 2), ('criticism', 2), ('johnny', 2), ('kingstown.', 2), ('craze,', 2), ('nevertheless', 2), ('public.\"', 2), ('authorized', 2), ('authority.', 2), ('cartridges.', 2), ('miss.', 2), ('underlined', 2), ('true;', 2), ('cleaning', 2), ('e-smokers', 2), ('2.8', 2), ('sense.\"', 2), ('\"relating', 2), ('be?', 2), ('week)', 2), ('photon', 2), ('\"vancouver', 2), ('captions:', 2), ('unfashionable', 2), ('l', 2), ('\"toolkits\"', 2), ('cautious.', 2), ('mile', 2), ('decision,\"', 2), ('manilow', 2), ('stephanie', 2), ('virtual', 2), ('£5,000', 2), ('e-cig,', 2), ('revamped', 2), ('mood,', 2), ('reality,\"', 2), ('2.', 2), ('booth', 2), ('clinics', 2), ('maple', 2), ('vu,', 2), ('if\"', 2), ('abstinence', 2), ('sienkiewicz', 2), ('trio', 2), ('seen,\"', 2), ('frankly,', 2), ('\"breathe', 2), ('contamination', 2), ('ave.,', 2), ('\"action\"', 2), ('strive', 2), ('215', 2), ('tightened', 2), ('vein', 2), ('1859,', 2), ('parks;', 2), ('smokers,\"', 2), ('affairs,', 2), ('\"propylene', 2), ('healthful', 2), ('cameron', 2), ('16,000', 2), ('mallon', 2), ('liberals', 2), ('roads,', 2), ('benchmark', 2), ('grades', 2), ('tanks,', 2), ('fence', 2), ('contemporary', 2), ('bouquet', 2), ('squire', 2), ('pipes.', 2), ('pear,', 2), ('plain-package', 2), ('undertaken', 2), ('coinages', 2), ('fag,', 2), ('tables.', 2), ('commission.', 2), ('contracted', 2), ('feels,', 2), ('\"normalising\"', 2), ('scrolling', 2), ('store.\"', 2), ('includes,', 2), ('lane', 2), ('politics,', 2), ('ventolin', 2), ('subgroups', 2), ('predict', 2), (\"doctor's\", 2), ('vuze,', 2), ('endurance.', 2), ('wheezy', 2), ('eisenberg,', 2), (\"here's\", 2), ('acres', 2), ('alarming,\"', 2), ('gloucester', 2), ('watermelon', 2), ('weakened', 2), ('social,', 2), ('creme.\"', 2), ('buses,', 2), ('obsessives.', 2), ('newcastle', 2), ('rated', 2), ('chrome.', 2), ('24,', 2), ('opponent', 2), ('\"e-cigarette', 2), ('aerosol,\"', 2), ('rewiring', 2), ('clearomizers', 2), ('1.1', 2), ('resilience', 2), ('practically', 2), ('statue', 2), ('motley', 2), ('connections', 2), ('sharon', 2), ('eisenberg.', 2), ('elijah', 2), ('transporting', 2), ('non-smoker', 2), ('bleeding', 2), ('damned', 2), ('substantially-enclosed', 2), ('sociability.', 2), (\"subramaniam's\", 2), ('act.\"', 2), ('(kilgore,', 2), ('updates:', 2), ('non-cigarette', 2), ('discussions,', 2), ('police-fire', 2), ('\"forget', 2), ('gazetted.', 2), ('$30', 2), ('kid-pleasing', 2), ('pedestrians', 2), ('scenes', 2), ('(at', 2), ('notable,', 2), ('rethink?', 2), ('tobacco-filled', 2), ('boardwalk.', 2), ('mich.', 2), ('altria.', 2), ('diminished', 2), ('dissertation', 2), ('nightmares', 2), ('providers.', 2), ('plots', 2), (\"vaping.'\", 2), ('suttie', 2), ('matching', 2), ('reasoning', 2), ('\"jumped', 2), ('twitter.com/strembath', 2), ('technical', 2), ('newness', 2), ('habit;', 2), ('consumers,', 2), ('non-smokers,\"', 2), ('\"rainbow', 2), ('ahmad,', 2), ('boudreau', 2), ('rodu', 2), ('meet-ups', 2), ('healthier,\"', 2), ('recruitment', 2), ('topic.', 2), ('ballpark.', 2), ('(wilkes-barre,', 2), ('high,\"', 2), ('classed', 2), ('chargers,', 2), ('available,\"', 2), ('workers.', 2), ('mimics', 2), ('convened', 2), ('1983', 2), ('pass,', 2), ('yeah,', 2), ('katrina', 2), (\"painting's\", 2), ('heartened', 2), ('20--ashland', 2), ('brass', 2), ('e-vapor', 2), ('wheezing', 2), ('louisville.', 2), ('debuted', 2), ('gambling', 2), ('37', 2), ('argument,\"', 2), ('democrat', 2), ('dewan', 2), ('elimination', 2), ('e-vape.', 2), ('everyone,', 2), ('\"by', 2), ('lindsay', 2), ('grazes', 2), ('together)', 2), ('cosocial', 2), ('captured', 2), ('spawned', 2), ('hit.', 2), ('rebellious,', 2), ('(evp)', 2), ('crap', 2), ('overblown,', 2), ('kure.', 2), ('gazette.', 2), ('township.', 2), ('partners', 2), ('gas-station', 2), ('preclude', 2), ('experience,\"', 2), ('drunken', 2), ('hilary', 2), ('$80,', 2), ('ordinances,', 2), ('cylindrical', 2), ('jade', 2), ('clove', 2), ('\\'smoking\\',\"', 2), ('causing,', 2), ('#3:', 2), ('writes', 2), ('literature,', 2), ('fag', 2), ('term,', 2), (\"minister's\", 2), ('oft-heard', 2), ('struggle,\"', 2), ('cig', 2), ('vape-cloud', 2), ('outsmart', 2), ('policies,', 2), ('colorado', 2), ('health-conscious', 2), ('exco', 2), ('minute', 2), ('promoters', 2), ('20-foot', 2), ('precedents', 2), (\"''there\", 2), ('(walla', 2), ('smoked,\"', 2), ('presenting', 2), ('lindenwold,', 2), ('associations,', 2), ('shellbrook', 2), ('rescued', 2), ('nightclubs,', 2), ('unresolved', 2), ('variations', 2), ('lady', 2), ('(brunswick,', 2), ('felons', 2), (\"hendy's\", 2), ('september,', 2), ('covering', 2), ('critic', 2), ('italian', 2), ('tri-rail', 2), ('post-bulletin', 2), ('fifty', 2), ('miasma', 2), ('synthetic.', 2), ('cut,', 2), ('cnbc.', 2), ('afternoon', 2), (\"mcgrath's\", 2), ('free\".', 2), ('trial.', 2), ('deploying', 2), ('gurus,', 2), ('cautioned', 2), ('$27,178', 2), ('spell', 2), ('promoted', 2), ('consultation', 2), ('ill.)', 2), ('jeremy', 2), ('ordinarily', 2), ('solahudin', 2), ('subjecting', 2), ('mid-june.', 2), ('blown', 2), ('tool,', 2), ('powers', 2), ('third,', 2), ('fairbairn', 2), ('vogtman,', 2), ('emma', 2), ('comprised', 2), ('soldner', 2), ('manner', 2), ('exemption.', 2), ('33-26', 2), ('snack', 2), ('castmates', 2), ('350', 2), ('ahill@thestarphoenix.com', 2), ('distinct', 2), ('fly', 2), ('rubyv', 2), ('toxicology', 2), ('2003', 2), ('established,', 2), ('campaign.', 2), ('vigorous', 2), ('rahmat', 2), ('no,', 2), ('halverson', 2), ('carcinogenic,\"', 2), ('aromas', 2), ('stationary', 2), ('rethink', 2), ('danielle', 2), ('ruling.', 2), ('another.\"', 2), ('marlton.', 2), ('russia,', 2), ('ends,', 2), (\"university's\", 2), ('evidenced', 2), ('melatonin.', 2), ('mix,', 2), ('lease', 2), ('consultative', 2), ('analogy', 2), ('tightening', 2), ('clothing.', 2), ('statistics.', 2), ('crew', 2), ('10th-graders)', 2), ('fetuses.', 2), ('fastest-growing', 2), ('diethylene', 2), ('phd', 2), ('cessation,', 2), ('advertisement),', 2), ('apprentice', 2), ('lows,', 2), ('\"me', 2), ('dictionaries,', 2), ('want.', 2), ('smoke-filled', 2), ('brigel', 2), ('\"negligible\".', 2), ('cdc,', 2), ('(ash),', 2), ('searching', 2), ('swirling', 2), ('adjusting', 2), ('32', 2), ('tina', 2), ('beijing', 2), (\"malcolm's\", 2), ('stifled.', 2), ('trigger', 2), ('ticket.', 2), ('achievement', 2), ('scanning', 2), ('geoff', 2), ('barista', 2), ('behaviours\".', 2), ('style.', 2), ('daughters.', 2), ('scaring', 2), ('twice,', 2), ('silent', 2), ('political.', 2), ('neighborhood', 2), ('distribution,', 2), ('particulate', 2), ('situation,', 2), ('income.', 2), ('line.', 2), ('md', 2), ('shakes', 2), ('endorses', 2), ('misled', 2), ('counters', 2), ('emitting', 2), ('94,', 2), ('we,', 2), ('crisis', 2), ('pinpoint', 2), ('alias', 2), ('death;', 2), ('\"make', 2), ('eliminated.', 2), ('comply:', 2), ('millilitres,', 2), ('paige', 2), ('arizona', 2), ('(r-va)', 2), ('(forbidden)', 2), ('videos', 2), ('export', 2), ('christina', 2), ('rm2,000', 2), ('regulars.', 2), ('solving', 2), ('africa:', 2), ('statement\".', 2), ('rtm', 2), ('outlines', 2), ('providence', 2), ('station.', 2), ('kelly', 2), ('b.', 2), ('citizens.\"', 2), ('satiating', 2), ('\"yesterday', 2), ('\"former\"', 2), ('fate', 2), ('adjustment', 2), ('praised', 2), ('prospects', 2), ('use?', 2), ('\"under', 2), ('valley.', 2), ('patrick', 2), ('britons', 2), ('regulated,\"', 2), ('1,250', 2), ('two-thirds,', 2), ('discontinuation', 2), ('announced.', 2), ('jaya,', 2), ('restrictions,', 2), ('$4', 2), ('mike,', 2), ('had,', 2), ('vitamins.', 2), ('accredited', 2), ('him)', 2), ('conversion', 2), ('train-operating', 2), ('setup', 2), ('abandoned', 2), ('restricts', 2), ('lingered', 2), ('2005.', 2), ('hard-raging', 2), ('nsaids,', 2), (\"hopkins'\", 2), ('cafes.', 2), ('heartthrob', 2), ('privately', 2), ('ireland.', 2), ('anthony', 2), ('windows.', 2), ('happen.', 2), (\"time.'\", 2), (\"avoided,''\", 2), ('nbc', 2), ('maxim', 2), ('pressure.', 2), ('\"of', 2), ('guilt-free.\"', 2), ('stained', 2), ('forgiveness', 2), ('pun', 2), ('med', 2), ('jeopardises', 2), ('unnatural', 2), ('larger,', 2), ('inc', 2), ('grandfathered', 2), ('reminding', 2), ('island.', 2), ('ago,\"', 2), ('welfare,', 2), ('lay', 2), ('violators.', 2), ('heddens', 2), ('first,\"', 2), ('reverses', 2), ('mail-order', 2), ('merit', 2), ('chemicals,\"', 2), (\"sanderson's\", 2), ('activities.', 2), (\"e-cigs,''\", 2), ('administering', 2), ('adjustments', 2), ('\"should', 2), ('own:', 2), ('agents,', 2), ('american.', 2), ('\"rich', 2), (\"''chemical\", 2), ('alter', 2), ('opium,', 2), ('unreflective', 2), ('pal,', 2), ('monopropylene', 2), ('smoky', 2), ('strembath@thestarphoenix.com', 2), ('revenues.', 2), ('skull', 2), ('only.\"', 2), ('capitalising', 2), ('expecting', 2), ('know:', 2), ('poles', 2), ('potent', 2), ('motorists', 2), ('irreparably', 2), ('ratio', 2), ('\"shifting', 2), ('thousand\"', 2), ('12/31/2015', 2), ('drinking.', 2), ('usahawan', 2), ('southwest', 2), ('loads', 2), ('desperate,', 2), (\"councilor's\", 2), ('purchase,', 2), ('drive,', 2), ('audio', 2), ('painful', 2), ('trivia', 2), ('inclined', 2), ('aid\".', 2), ('cooper,', 2), ('shaped', 2), ('does,', 2), ('rd.,', 2), ('result.', 2), ('township,', 2), ('bracamontes', 2), ('satisfies', 2), ('intermediate', 2), ('yet.)', 2), ('wheaton.', 2), ('hands,', 2), ('gettysburg.', 2), ('igniter', 2), ('normcore,', 2), ('fearful', 2), ('rigorous', 2), (\"'90\", 2), ('toxicity.', 2), ('drove', 2), ('class/es:', 2), ('report:', 2), ('time,\"', 2), ('air,', 2), ('kan.', 2), ('white,', 2), ('draws', 2), ('reversal', 2), ('prevented', 2), ('letters', 2), ('painting.', 2), ('\"interested', 2), ('stores.\"', 2), ('helen', 2), ('association:', 2), ('shifts', 2), ('pin', 2), ('(m)', 2), ('classroom', 2), ('maintain.', 2), ('of,', 2), ('nonsmoking.', 2), ('plasma', 2), ('cultivate', 2), ('buch', 2), ('january.', 2), ('e-smoking', 2), ('commit', 2), ('girlfriend,', 2), ('owners:', 2), ('acquired', 2), ('hutch', 2), ('merchant', 2), ('motshudi.', 2), ('hooked.', 2), ('technology.', 2), ('pity', 2), ('slowly,', 2), ('hookah.', 2), ('ios', 2), ('aerial.', 2), ('formaldehyde!', 2), ('glimpse', 2), ('reminds', 2), ('destructive', 2), ('bags,', 2), ('evils', 2), ('cautioning', 2), ('0.14', 2), ('call.', 2), ('carroll', 2), ('secrets', 2), ('necessities', 2), ('disadvantage.', 2), ('rarity,', 2), ('drugstore', 2), ('justifications', 2), ('dna', 2), ('develop.', 2), ('fast-developing', 2), ('subsidised', 2), (\"shops'\", 2), ('instagram', 2), ('horowitz.', 2), (\"rocket's\", 2), ('flavored.', 2), ('seriously,', 2), ('$150', 2), ('quit).', 2), ('campaigns,', 2), ('garrick', 2), ('restaurants,\"', 2), ('intensify', 2), ('boredom', 2), ('headquartered', 2), ('flat', 2), ('recalled,', 2), ('extracted', 2), ('\"non-smokable', 2), ('overkill.', 2), ('headaches', 2), ('ella', 2), ('paso,', 2), ('laced', 2), ('insight', 2), ('endorsed', 2), ('up.\"', 2), ('dwindling', 2), ('harm\"', 2), ('formaldehyde-releasing', 2), ('(rodu),', 2), ('monsees', 2), ('r&b', 2), ('fond', 2), ('references', 2), ('briefings', 2), ('stilling', 2), ('brewers,', 2), ('melissa,', 2), ('donations', 2), ('masters', 2), ('boutique,', 2), ('roll.', 2), ('varieties,', 2), ('defence', 2), ('lounge,\"', 2), ('$20.', 2), ('australia.', 2), ('regarded', 2), ('methodically', 2), ('indicating', 2), ('(beverly,', 2), ('alexander,', 2), (\"general's\", 2), ('year.\"', 2), ('e-juice.\"', 2), ('defensible', 2), ('vaping-related', 2), ('pain,', 2), ('vapourizes', 2), (\"turner's\", 2), ('ind).', 2), ('crying', 2), ('emitted.', 2), ('grades.', 2), ('vaporetti', 2), ('hallett', 2), ('counterintuitive', 2), ('dayton', 2), ('(rcp)', 2), ('factually', 2), ('prescribing', 2), ('wal-mart', 2), ('provider', 2), ('safe?\"', 2), ('villians', 2), ('e-vapes', 2), ('flatwoods,', 2), ('incorporates', 2), ('prevailed', 2), ('earn', 2), ('muftis', 2), ('suspecting', 2), ('disabilities', 2), ('vaping).', 2), ('reputation', 2), ('ventures,', 2), ('sidled', 2), ('evidence,\"', 2), ('advertisers', 2), ('mooney.', 2), ('experiencing', 2), ('lecture', 2), ('run.', 2), ('that?', 2), ('nonetheless,', 2), ('10-a-day', 2), ('pike,', 2), ('customise', 2), ('lozenge,', 2), ('jusoh', 2), ('ottawa', 2), ('\"comfortably', 2), ('dechant', 2), ('continues.', 2), ('15-millilitre', 2), ('busy', 2), ('broadly', 2), ('vapers,\"', 2), ('speeding.', 2), ('non-parenteral', 2), ('visuals', 2), ('ill,', 2), ('misinformed', 2), ('ape\"', 2), ('addressing', 2), ('(mctc)', 2), ('1930s', 2), ('\"well-informed\"', 2), (\"communities'\", 2), ('stefano', 2), ('sampling,', 2), ('apartment', 2), ('1.96', 2), (\"opinion.''\", 2), ('tourism-related', 2), ('here).', 2), ('sustainable,', 2), ('dies,', 2), ('lone', 2), ('correction;', 2), ('bboyer@phillynews.com', 2), ('wire', 2), ('irrationally', 2), (\"miller's\", 2), ('scalzo', 2), ('upstart', 2), ('pledges', 2), ('combating', 2), ('represents.', 2), ('anyone,', 2), ('\"perhaps', 2), ('evolved', 2), ('he,', 2), ('reality,', 2), ('a.m.:', 2), ('culture,', 2), ('glycols.', 2), ('bouts', 2), ('doing?\\'\"', 2), ('thetimes-tribune.com', 2), ('reality.', 2), ('clini', 2), ('fog.', 2), ('clouds?', 2), ('(formerly', 2), ('literally', 2), ('\"analog,\"', 2), ('toffee', 2), ('billowing', 2), ('herself', 2), ('household', 2), ('disgusting', 2), ('tolerance.', 2), ('elements,\"', 2), ('acute', 2), ('humans,', 2), ('kraig', 2), ('designer', 2), ('drescher', 2), ('terengganu:', 2), ('bronchiolitis', 2), ('well-earned', 2), ('door.', 2), ('educator.', 2), ('53', 2), ('kedah,', 2), ('stinking', 2), ('marina', 2), ('desserts.', 2), ('contenders', 2), ('experimented', 2), ('napping.', 2), ('preach', 2), ('splitting', 2), ('giveaways', 2), ('baba,', 2), ('insulin', 2), ('delivery.', 2), ('dispute', 2), ('beach-based', 2), ('annually.', 2), ('hurts', 2), ('niles.', 2), ('misrepresenting', 2), ('petite', 2), ('free.', 2), ('mankato', 2), ('academics', 2), ('applications.\"', 2), ('institutions.', 2), ('bridgeport,', 2), ('roads', 2), ('trillium', 2), ('deadline', 2), ('[legislation]', 2), ('plan.', 2), ('seagars', 2), ('mistook', 2), ('advises', 2), ('slap', 2), ('nationwide.', 2), ('5,000,', 2), ('siobhán', 2), ('importing', 2), ('licensing,', 2), ('unregulated.', 2), ('(viagra),', 2), ('(he', 2), ('excluded', 2), ('jean', 2), ('thurlow', 2), ('tangible', 2), ('vanilla.', 2), ('2005', 2), ('permits', 2), ('enrolled', 2), ('burlington', 2), ('engaging', 2), ('payment\",', 2), (\"'so\", 2), ('$12', 2), ('decline.', 2), ('intimate', 2), ('moment\"', 2), ('concern.\"', 2), ('cigarettes.)', 2), ('atlantic', 2), ('2.0%', 2), ('second-largest', 2), ('overly', 2), ('settlement', 2), ('resource', 2), ('choppy', 2), ('mind,', 2), ('beards', 2), ('flags', 2), ('colorfully', 2), ('\"smokeless\"', 2), ('impediments', 2), ('cantrell', 2), ('conversation.', 2), ('habits.', 2), ('18s,', 2), ('tobacco-company', 2), ('christie,', 2), ('elderflower', 2), ('quantifiable', 2), ('11).â', 2), ('fleck,', 2), ('preparations', 2), ('jacket', 2), ('intake.', 2), ('reckless', 2), ('narrow', 2), ('in-store,', 2), ('scar', 2), ('slight', 2), ('approval.', 2), ('duped', 2), ('robbins,', 2), ('buffer', 2), (\"italy's\", 2), ('(union,', 2), ('ignores', 2), ('lyons', 2), ('waft', 2), ('regulators,', 2), ('waitress', 2), ('exchange.', 2), ('eichenberger', 2), ('winners', 2), ('release.\"', 2), ('alexandria', 2), ('third-party', 2), ('souped-up', 2), ('everywhere,', 2), ('(westminster,', 2), ('verdict.', 2), ('twenty20', 2), ('competition.', 2), ('crisis.', 2), ('20s', 2), ('(0%,', 2), ('priority', 2), ('15,000', 2), ('lychee', 2), ('154', 2), ('nomenclature', 2), ('\"juice.\"', 2), ('low-risk', 2), ('disappointed', 2), ('communities.', 2), ('first-class', 2), ('shoppe.', 2), ('reservation', 2), ('legal.', 2), ('ie,', 2), ('\"especially', 2), ('hit,', 2), ('unnecessary', 2), ('postponed', 2), ('20%', 2), ('frank,', 2), ('infringes', 2), ('amazing', 2), (\"cigarettes?''\", 2), ('bargain', 2), ('venerable', 2), ('colorless,', 2), ('louisville,', 2), ('sweanor', 2), ('lucie', 2), ('constitutionality', 2), ('\"pursuing', 2), ('oliver', 2), ('late.', 2), ('kong', 2), ('csu', 2), ('atomisers', 2), ('clarinet', 2), ('anaheim,', 2), ('headaches.', 2), (\"'vaping',\", 2), ('hygiene', 2), ('steamed.', 2), ('why?', 2), ('medicine,', 2), ('logos,', 2), ('marks', 2), ('nevada', 2), ('expected.', 2), ('anti', 2), ('chubb,', 2), ('riding', 2), ('variation', 2), ('aka', 2), ('offence', 2), ('nights', 2), ('pauline', 2), ('psychoactive', 2), ('imaginary', 2), ('dressed', 2), ('decorated', 2), ('aussie', 2), ('2546:', 2), ('service-disabled', 2), ('aqueous', 2), ('long-haul', 2), ('traveling', 2), ('memorandum', 2), ('widest', 2), ('ends.', 2), ('laudanum', 2), ('unduly', 2), ('bean', 2), ('sensibly', 2), ('double-edged', 2), ('nick,', 2), ('gastonia', 2), ('members,', 2), ('atrium', 2), ('accurate&rdquo;', 2), ('&ldquo;[we', 2), ('up\"', 2), ('&ldquo;threat.&rdquo;', 2), ('vaping.)\"', 2), ('fitness.', 2), ('reversing.', 2), ('1108,', 2), ('fortify', 2), ('integral', 2), ('safe;', 2), ('lgbt', 2), ('better,\"', 2), ('attendants', 2), ('guideline', 2), ('enthusiasts,', 2), ('fleck.', 2), ('30-odd', 2), ('embarrassed,\"', 2), ('industry.\"', 2), ('sociology', 2), ('peaches', 2), ('lavaca', 2), ('worthy', 2), ('athens,', 2), ('brian', 2), ('desire.', 2), ('associates,', 2), ('ignorance', 2), ('warwick,', 2), ('\"last', 2), ('input', 2), ('offenses,', 2), ('employment;', 2), ('$80', 2), ('subramaniam,', 2), (\"chubb's\", 2), ('expanding,\"', 2), ('stop?\"', 2), ('seriously.', 2), ('endurance', 2), ('consultancy', 2), ('@aoifeban', 2), ('andre', 2), ('raygoza', 2), ('ineffective', 2), (\"manager's\", 2), ('marsh', 2), ('jps', 2), ('pink', 2), ('director.', 2), ('dinunzio,', 2), ('certificate', 2), ('selecting', 2), ('unveiling', 2), ('shipped', 2), ('harsh', 2), ('rettman', 2), ('safest', 2), ('background,', 2), ('cult', 2), ('benefiting', 2), ('factor:', 2), ('joins', 2), ('doom,\"', 2), ('proposed,', 2), ('heartburn', 2), ('sondra', 2), ('though:', 2), ('habitual', 2), ('vessels,', 2), ('professional,', 2), ('vince', 2), ('banish', 2), ('rm2', 2), ('lyrics', 2), ('vg', 2), ('bumped', 2), ('stiff', 2), ('darsow.', 2), ('\"pre-market', 2), ('rewarding', 2), ('241', 2), ('pub.', 2), ('evolving', 2), ('pronounced', 2), ('prompt', 2), (\"europe's\", 2), ('artisan', 2), ('wilkie,', 2), ('earned', 2), ('chic', 2), ('vicks', 2), ('lexicon,\"', 2), ('comstock.', 2), ('awarding', 2), ('mock', 2), ('horrified.', 2), ('presentation', 2), ('exile', 2), ('national,', 2), ('depicts', 2), ('whiteboard', 2), ('pawtucket,', 2), ('shrugs.', 2), ('while.\"', 2), ('piros', 2), ('bonding', 2), ('lounging', 2), ('zone.', 2), ('ce9', 2), ('(see', 2), ('120.', 2), (\"vaper's\", 2), ('step.', 2), ('noxious', 2), ('excess', 2), ('fight.', 2), ('tempe,', 2), ('concentrates,', 2), ('minorities,', 2), ('dakota', 2), ('halls,', 2), ('id', 2), ('(electronic', 2), ('glynn,', 2), ('cinemas,', 2), ('short-lived', 2), ('$66.', 2), ('guild', 2), ('twitter.com/msandreahill', 2), ('\"kids', 2), ('regulator', 2), ('(strip)', 2), ('etter,', 2), ('lobbyists,', 2), ('crutch', 2), ('compound', 2), ('craine,', 2), ('mean,', 2), ('high-street', 2), ('angeles,', 2), ('do,\"', 2), ('29th', 2), ('417:', 2), ('decades.', 2), ('janina', 2), ('vaporization,', 2), ('convention.', 2), ('interviewed.', 2), (\"bemidji's\", 2), ('breath,\"', 2), (\"publisher's\", 2), ('universities,', 2), (\"spacey's\", 2), ('4000', 2), ('jesse', 2), ('medium', 2), ('involvement\",', 2), ('vaccinate', 2), ('cheesecake', 2), ('www.dailyindependent.com', 2), ('verdict', 2), ('sederhana', 2), ('particular.', 2), ('accessories.\"', 2), ('raton', 2), ('confusion.', 2), ('sacramento', 2), ('have.', 2), ('&ldquo;perceptions', 2), ('jamaluddin', 2), ('cheesy', 2), ('2-1', 2), ('superior', 2), ('acrolein', 2), ('lakewood', 2), ('depp,', 2), ('linda', 2), ('buck', 2), ('tsna', 2), ('knudsen,', 2), ('bennett,', 2), ('ltd', 2), ('hanging', 2), ('branched', 2), ('exceptions,', 2), ('indian', 2), ('dogs', 2), ('words.', 2), ('sundry', 2), ('bulletin', 2), ('poking', 2), ('lodged', 2), ('researchers,', 2), ('houseshoe', 2), ('zones,\"', 2), ('ignoring', 2), ('cracking', 2), ('pete', 2), ('workplace.', 2), ('leaf', 2), ('stalls', 2), ('procedures,', 2), ('quadrupled', 2), ('ban,\"', 2), ('suburbs', 2), ('aims', 2), ('supplement', 2), ('goals', 2), ('3%', 2), ('whole,\"', 2), ('vaped,', 2), (\"ecig's\", 2), ('curtis', 2), ('analysts', 2), (\"''that\", 2), ('zones', 2), ('thurlow,', 2), ('2017,', 2), ('man,', 2), ('poll', 2), ('\"cancer-causing\"', 2), ('vial', 2), ('october,', 2), ('russian', 2), ('ike', 2), ('backs', 2), ('outweighed', 2), ('reauthorization', 2), ('74', 2), ('morgan,', 2), ('museums,', 2), ('trash', 2), (\"bewley's\", 2), ('alike,', 2), ('webpage', 2), ('next,', 2), ('aggravated', 2), ('dca.', 2), ('aadkins@dailyindependent.com', 2), ('aide', 2), ('thousands.\"', 2), ('seats', 2), ('christine', 2), ('emphasize', 2), ('anywhere.', 2), ('sensible,', 2), ('unrelated', 2), ('bled', 2), ('substantial,', 2), (\"wouldn't.\", 2), ('outlined', 2), ('emphasised', 2), ('250-729-4235', 2), ('intensive', 2), ('forbidden,', 2), ('skin', 2), ('rotatori', 2), ('fiancé', 2), ('\"new', 2), ('offerings.', 2), ('female.', 2), ('intakes', 2), ('cigs', 2), ('camp', 2), ('friendly,', 2), ('objected', 2), ('gates', 2), ('acceptance,', 2), ('lend', 2), ('$10,000,', 2), ('severely', 2), ('instruments,', 2), ('packages', 2), ('eventually,\"', 2), ('laying', 2), ('addressed', 2), ('reagan', 2), ('(phe)', 2), ('signatures', 2), ('photobomb.', 2), ('outlets.', 2), ('injections.', 2), ('(chickasha,', 2), ('stereotype', 2), ('gases.', 2), ('minutes,', 2), ('employers,', 2), ('whitson', 2), ('overshare', 2), ('state,\"', 2), ('juice\"', 2), ('producer', 2), ('film', 2), ('riley,', 2), ('nitroglycerin,', 2), ('florida,', 2), ('vapesolutely!,', 2), ('game:', 2), ('third-degree', 2), ('50-year', 2), ('liquid-based', 2), ('neville', 2), ('adhered', 2), ('allin', 2), ('particulates', 2), ('catalyst', 2), ('cornish', 2), ('incorrectly', 2), ('60,', 2), ('observation', 2), ('additives,', 2), ('assent,', 2), ('benign.', 2), ('exclusivity', 2), ('associating', 2), ('latest.\"', 2), ('spartanburg', 2), ('earth', 2), ('curren,', 2), ('khairy', 2), ('finalised', 2), ('gardens,\"', 2), ('colney', 2), ('continuous', 2), ('deal.', 2), ('llc,', 2), ('acid,', 2), ('3rd', 2), ('eclipse', 2), ('obtain', 2), ('poised', 2), ('machine.', 2), ('after,', 2), ('scrambled', 2), ('kingman,', 2), ('marketers', 2), ('halal', 2), ('smooth', 2), ('priorities', 2), ('governmentâ', 2), ('la', 2), ('interfere', 2), ('compromised', 2), ('vaping],', 2), ('kaptin', 2), ('network,', 2), ('buddy,', 2), ('addictions', 2), ('packs.', 2), ('eases', 2), ('inhale;', 2), ('idea.', 2), ('befitting', 2), ('details', 2), ('shoots', 2), ('municipalities,', 2), ('rum', 2), ('pre-', 2), ('building.', 2), ('device),', 2), ('african', 2), ('sembilan,', 2), ('rode', 2), ('airways,', 2), ('$30.', 2), ('exposure,', 2), ('recalls', 2), ('centered', 2), ('fougere', 2), ('ago;', 2), ('doubtful', 2), ('(pg)', 2), ('commissioners,', 2), ('blogger', 2), ('\"mike', 2), ('staggering', 2), ('borths@usd308.com', 2), ('popcorn,', 2), ('principle.', 2), ('wasteful', 2), ('non-vaping', 2), (\"thomas'\", 2), ('sara', 2), ('\".', 2), ('monona', 2), ('giveaways.', 2), ('collision', 2), ('secretary,', 2), ('rings,', 2), ('steps.', 2), ('ciggies.', 2), ('finally,', 2), ('\"smoke,\"', 2), ('culture.', 2), ('dynamic', 2), ('delevingne', 2), ('stadium,', 2), ('style-conscious', 2), ('psycho-behavioural', 2), ('stages', 2), ('@bbboyer', 2), ('colleges', 2), ('islamabad', 2), ('vernon', 2), ('properties.', 2), ('client', 2), ('addict.\"', 2), (\"peyton's\", 2), ('works,', 2), ('(carcinogenic)', 2), ('\"without', 2), ('sky', 2), ('dvd', 2), ('teams', 2), ('==============================', 2), ('weaned', 2), ('31.', 2), ('bylaw.', 2), ('bucks', 2), ('darsow,', 2), ('crown', 2), ('dwarf', 2), ('margie', 2), ('#ecigdebate', 2), ('reasons:', 2), ('clinic.', 2), ('co,', 2), ('(8-15', 2), ('stigma', 2), ('37.3', 2), ('conducts', 2), ('10:30', 2), ('strengths,', 2), ('sheets,', 2), ('glued', 2), ('observers', 2), ('selfie.', 2), ('\"will', 2), ('hughes,', 2), ('ridden', 2), ('resolution,', 2), ('horrible.\"', 2), ('low-cost', 2), ('gaston', 2), ('beautiful', 2), ('what?\"', 2), ('julie', 2), ('extent,', 2), ('pass\"', 2), ('reserve', 2), ('outcome.', 2), ('imperative', 2), ('year;', 2), ('bus,', 2), ('1790s', 2), ('wafting', 2), ('\"aerosol', 2), ('continuum', 2), ('ammon', 2), ('training', 2), ('greene', 2), ('strengths.', 2), ('¨as', 2), ('necessity,', 2), ('\"although', 2), ('wheaton,', 2), ('curious.', 2), ('evps', 2), ('millions.', 2), ('efficacy.', 2), ('degrees', 2), ('increasing,\"', 2), ('hendsbee', 2), ('roizen,', 2), ('decline,', 2), ('broadcast', 2), ('listen', 2), ('tolerated', 2), ('70-odd', 2), ('attest', 2), ('starters,', 2), ('(particularly', 2), ('consequences\".', 2), ('mining', 2), ('libraries,', 2), ('guided', 2), ('bylaws.', 2), ('independence.', 2), ('older.', 2), ('retreat', 2), ('tobacco-use', 2), ('aes', 2), ('caponette,', 2), ('sensorial', 2), ('beju', 2), ('130,000', 2), ('\"bootleggers\"', 2), ('apple,', 2), ('20,', 2), ('yours', 2), ('martyn', 2), ('savvy', 2), ('destroy', 2), (\"boyd's\", 2), ('aback.', 2), ('rituals', 2), ('converting', 2), ('scouting', 2), ('shutting', 2), ('non', 2), ('south-east.', 2), ('getting,\"', 2), ('foetuses', 2), ('rivals', 2), ('sufficiently', 2), ('outlooks', 2), ('heisenberg.', 2), ('life-saver.', 2), ('infraction', 2), ('mixologist,', 2), ('harry', 2), ('appalled', 2), ('campus', 2), ('dates', 2), ('hurt.\"', 2), ('vapordelphia', 2), ('malays.', 2), ('endorsing', 2), ('week,\"', 2), ('concerts', 2), (\"america's\", 2), ('stinks.', 2), ('salvador', 2), ('stranger', 2), ('2008,', 2), ('pumped', 2), (\"safer,'\", 2), ('parlors.', 2), ('upwards', 2), ('beach.', 2), ('smoking.\"\"', 2), ('alberta', 2), ('headlines:', 2), ('clothing', 2), ('articles', 2), (\"guy's\", 2), ('foolish', 2), ('promised', 2), ('pro-vapors', 2), ('families', 2), ('fitzpatrick,', 2), ('beverly', 2), ('\"try', 2), ('eat,', 2), ('baldacci', 2), ('easing', 2), ('buchanan,', 2), ('antipyretic', 2), ('kitchen,', 2), ('reasoned.', 2), ('sanderson,', 2), ('tsnas', 2), ('cc', 2), ('selangor.', 2), ('clothes,', 2), ('\"smokers', 2), ('rain.', 2), ('\"actions', 2), ('go.', 2), ('organized', 2), ('mitigate', 2), ('period.\"', 2), ('liquid.\"', 2), ('neighbouring', 2), ('answers.', 2), (\"mcdonald's\", 2), ('combust', 2), ('imports', 2), ('chew', 2), ('souls', 2), ('tail', 2), ('governments.', 2), ('entity,', 2), ('best,', 2), ('card,', 2), ('terry', 2), (\"walker's\", 2), ('2134:', 2), ('wi-fi', 2), ('goodness', 2), (\"vapers'\", 2), ('41,', 2), ('kicked', 2), ('refocus', 2), ('matt,', 2), (\"2013's\", 2), ('$2', 2), ('cravings.', 2), ('loops', 2), ('affordable', 2), ('blog.', 2), ('fine-tune', 2), ('irresponsible', 2), ('normalize', 2), ('\"\\'vaping\\'', 2), ('similarity', 2), ('hand-held', 2), ('writers', 2), ('supporters,', 2), ('discrimination', 2), ('withdrew', 2), ('timely', 2), ('4am', 2), ('premises,', 2), ('ikatan', 2), ('aboriginal', 2), ('seventy', 2), ('aficionado', 2), ('distribute', 2), ('fool.', 2), ('calif.)', 2), ('once.\"', 2), ('facial', 2), ('\"quit', 2), ('zakaria', 2), ('photographer', 2), ('paulson', 2), ('episode', 2), ('tattoos,', 2), ('sirim', 2), ('augusta,', 2), ('\"alternative', 2), ('charging', 2), ('potency.', 2), ('metals,', 2), ('offers.', 2), ('elementary', 2), ('\"vegas-style', 2), ('sites.', 2), ('buildings;', 2), ('robust.', 2), ('ostiguy', 2), ('kingman.', 2), ('practitioner.', 2), ('fervour', 2), ('smokingrelated', 2), ('army', 2), ('service.', 2), ('event.', 2), ('forefront.', 2), ('drug-free', 2), ('talent', 2), ('explosion', 2), ('mainstreet', 2), ('use:', 2), ('germain', 2), ('drags,', 2), ('doctoral', 2), ('flannel', 2), ('mint-strawberry', 2), ('159', 2), ('malaysians.', 2), ('patios', 2), ('cooperative', 2), ('montano,', 2), ('surf', 2), ('1983,', 2), ('craving.', 2), ('standard.', 2), ('iri.', 2), ('desire,', 2), ('25%', 2), ('careful,', 2), ('essentially,', 2), ('cures', 2), (\"oregon's\", 2), ('news-item', 2), ('viewers', 2), ('constantinos', 2), ('intact', 2), ('left:', 2), ('nicotine-free.', 2), ('cool,\"', 2), ('hobart,', 2), ('ebola,', 2), ('banana,', 2), ('&gt;&gt;', 2), ('luring', 2), ('furtive', 2), ('plumped', 2), ('ethos,', 2), ('millilitres', 2), ('normalised', 2), ('min)', 2), ('poldark', 2), ('alternate', 2), (\"regina's\", 2), ('shaffer', 2), ('stepped', 2), ('high.', 2), ('group,\"', 2), ('darius', 2), ('proclamations', 2), ('thereâ', 2), ('partakes,', 2), ('zones,', 2), ('inc,', 2), ('glad', 2), ('hint', 2), ('functioning.', 2), ('forks', 2), ('millennials', 2), ('ulcers', 2), ('corridors', 2), ('children?\"', 2), ('lib-dem', 2), ('performed', 2), ('smelly', 2), ('blaze', 2), ('wampanoag', 2), ('197', 2), ('normalizing', 2), ('usenet', 2), ('pass,\"', 2), ('thirteen', 2), ('nino', 2), ('league', 2), ('irritation', 2), ('31-year-old,', 2), ('apt', 2), ('drakeford', 2), ('laurenceau,', 2), ('pumps', 2), ('cvs,', 2), ('veterans,', 2), ('owner.', 2), ('businesses.\"', 2), ('reciprocating', 2), ('\"cig-a-likes,\"', 2), ('richly', 2), ('discover', 2), ('dancers', 2), ('mark.', 2), ('unflavoured', 2), ('kelantan.', 2), ('distasteful', 2), ('population,', 2), ('frost', 2), ('florida.', 2), ('close,', 2), ('instructive.', 2), ('farmers', 2), ('rightly', 2), ('critically,', 2), ('compares', 2), ('hip-hop', 2), ('elderflower,', 2), ('[their]', 2), ('bucket', 2), ('explains.', 2), ('stake.', 2), ('statistically', 2), ('pointless', 2), ('international,', 2), ('phone.', 2), ('$37,000', 2), ('thirties', 2), ('lord,\"', 2), ('(shamokin,', 2), ('tiniest', 2), ('outrageous', 2), ('equipped', 2), ('sympathized', 2), ('peanut', 2), ('enjoyable,\"', 2), (\"illegal?'\", 2), ('theater', 2), ('live.', 2), ('wards', 2), ('shipping', 2), ('believer.', 2), ('accuracy', 2), ('\"every', 2), ('statute,\"', 2), ('stated:', 2), ('criticised', 2), (\"'fact'\", 2), (\"teen's\", 2), ('red-and-white', 2), (\"'this\", 2), (\"baldacci's\", 2), ('started.\"', 2), ('fashion.', 2), ('crash', 2), ('shatter', 2), ('marc', 2), ('annoyance', 2), ('smoke-free.', 2), ('goodbye', 2), ('opinion;i', 2), ('dollars;', 2), ('simon', 2), ('asthma.', 2), ('residents,', 2), ('resumption', 2), ('huffle', 2), ('bound', 2), ('randomised', 2), ('engineering', 2), ('placing', 2), ('connoisseur', 2), ('where,', 2), ('vendor).', 2), ('issue,\"', 2), ('\"vapeurs\"', 2), ('costs.', 2), ('kilgore,', 2), ('power.', 2), ('emotional', 2), ('vapourize', 2), ('better?\"', 2), ('him.\"', 2), ('\"any', 2), ('voltages', 2), ('somehow,', 2), ('supplying', 2), ('inhalation.', 2), ('labs.', 2), ('slug.', 2), ('womanhood.', 2), ('herald-journal', 2), ('approaching', 2), ('\"grazing\"', 2), ('that&rsquo;s', 2), ('africa', 2), ('scene.', 2), ('stairs', 2), ('organization,', 2), ('movies,', 2), ('tanvir', 2), ('#1:', 2), ('bar,\"', 2), ('eating,', 2), ('capacity,', 2), ('(china', 2), ('torrance', 2), ('researched', 2), ('winner,', 2), ('lunchtime', 2), ('sidewalk', 2), ('motor', 2), ('non-opioid', 2), ('cheeseman,', 2), ('price.', 2), ('packets.', 2), ('native', 2), ('mobile,', 2), ('mosque,', 2), ('unrealistic', 2), ('skowhegan,', 2), ('homeless', 2), ('stifles', 2), ('push.', 2), ('mercifully,', 2), ('real.', 2), ('kopczick', 2), ('\"juice\",', 2), ('perimeter.', 2), ('forgoing', 2), ('inconvenient', 2), ('$1,000.', 2), ('educators', 2), ('trends,', 2), ('golden,', 2), ('mice.', 2), ('pro-vaping', 2), ('handheld', 2), ('odor.', 2), ('e-vaporiser', 2), ('ingersoll', 2), ('diplomatic', 2), ('acknowledges', 2), ('dulles,', 2), ('limit,', 2), ('offenses', 2), ('tgi', 2), ('badly', 2), ('sdn', 2), ('components,\"', 2), ('limitations,', 2), ('population,\"', 2), ('practice.', 2), ('vapours,\"', 2), ('file', 2), ('shaikh', 2), ('metals.', 2), ('precious', 2), ('disrupted', 2), ('airports,', 2), ('super', 2), ('arena.', 2), ('unit.', 2), ('\"\"', 2), ('pages.', 2), ('residence', 2), ('born-again', 2), ('asa', 2), ('freedom.\"', 2), ('reds\\',\"', 2), ('battery.', 2), ('wand', 2), ('go,', 2), ('seizures', 2), (\"''we\", 2), ('020', 2), ('\"depending', 2), ('consolidation,', 2), ('espresso', 2), ('realized', 2), ('near-universal', 2), ('white.', 2), ('raised.', 2), ('review.', 2), ('dca;', 2), ('passengers,', 2), ('cape', 2), ('gums,', 2), ('\"water\"', 2), ('parliamentary', 2), ('midweek', 2), ('adkins/the', 2), ('18,\"', 2), ('resort', 2), ('norm,\"', 2), ('pvs.', 2), ('succulent', 2), ('prefer.', 2), ('mod', 2), ('do?', 2), ('homes,', 2), ('amtrak', 2), ('flavouring,', 2), ('phenomenon.', 2), ('unfair,', 2), ('tight-knit', 2), ('offray', 2), ('american-made', 2), ('arnott', 2), ('happily', 2), ('mayer,', 2), ('note,', 2), ('identical', 2), ('remembered', 2), (\"#124it's\", 2), ('ic', 2), ('instances', 2), ('sections.', 2), ('writer:', 2), ('breathing.\"', 2), ('metroplexes.', 2), ('off,', 2), ('(victorville,', 2), ('selections', 2), ('rabi', 2), ('northeast', 2), ('nsaids', 2), ('toxicological', 2), ('critical', 2), ('anti-freeze,', 2), ('sorry', 2), ('virginia,', 2), ('sprays', 2), ('pre-filled', 2), ('musician,', 2), ('hasselback,', 2), ('handsomely', 2), ('\"they\\'d', 2), ('controlled,', 2), ('screaming', 2), ('afp', 2), ('cities,', 2), ('foundation.', 2), ('surpass', 2), ('ago?', 2), ('pertubuhan', 2), ('2.6m', 2), ('13,', 2), ('car,\"', 2), ('3353', 2), ('tobaccos', 2), ('70s', 2), ('lynsey', 2), ('quran', 2), ('christie', 2), ('rebellious', 2), ('stop-smoking', 2), ('az,', 2), ('ingenuity', 2), ('fire,', 2), ('youtube,', 2), ('entrepreneur', 2), ('indyref,', 2), ('lib-dems', 2), ('mcgrath,', 2), ('norman', 2), ('340:', 2), ('hazel', 2), ('half-a-dozen', 2), ('foresterhill,', 2), ('forty', 2), ('charge.', 2), ('t-shirts', 2), ('hotels,', 2), ('unthinkable', 2), ('pupil', 2), ('ingredients:', 2), ('10ml', 2), ('honey.', 2), ('subjective', 2), ('airflow.', 2), ('distributing,', 2), ('trades', 2), ('russia', 2), ('results.', 2), ('centres', 2), (\"village's\", 2), ('window', 2), ('suv', 2), ('84', 2), ('surprise.', 2), ('blotch', 2), ('wax', 2), ('overnight.', 2), ('chicago,', 2), ('lorillard.', 2), ('\"based', 2), ('va', 2), ('filming', 2), ('growth,', 2), ('civiello,', 2), ('v', 2), ('maloney.', 2), ('google,', 2), ('2018.', 2), ('printed', 2), ('counterparts.', 2), ('conveys', 2), ('exploded.', 2), ('35-plus', 2), ('miner,', 2), ('sioutas', 2), ('expenditure', 2), (\"brink's\", 2), ('wide-scale', 2), ('general,', 2), ('square.', 2), ('ultra-fine', 2), ('nurses', 2), ('#bringbackourgirls', 2), ('representatives,', 2), ('positions', 2), ('spit-less', 2), ('(kinston,', 2), ('smell,', 2), ('lutman', 2), ('smoking\".', 2), ('system\"', 2), ('markten', 2), ('interviewed', 2), ('credible', 2), ('vaping-smoking', 2), ('hutchinson.', 2), (\"''this\", 2), ('(short', 2), ('minimum.', 2), ('pen.', 2), ('partnership', 2), ('martinez', 2), ('regulars', 2), ('unrealized', 2), (\"'in\", 2), ('announce', 2), ('bubblegum', 2), ('no-brainer,\"', 2), ('cluster', 2), ('rebuild', 2), ('rarely', 2), ('drafted', 2), ('elizabeth', 2), ('occurrence', 2), ('indirectly,', 2), (\"clift-lands's\", 2), ('jam', 2), ('origins', 2), ('alters', 2), ('emailed', 2), ('ordinary,', 2), ('irritants.\"', 2), ('figure,', 2), ('enhance', 2), ('sat.', 2), ('sword', 2), ('caribbean', 2), ('shelters,', 2), ('vapourisers.', 2), ('rooney', 2), ('unaware', 2), ('hopper', 2), ('hospice', 2), ('vaperz', 2), (\"tweet,''\", 2), ('(meridian,', 2), ('casinos', 2), ('renamed', 2), ('shifted', 2), ('$6', 2), ('set.', 2), ('leyton', 2), ('view,', 2), ('gore,', 2), ('lettering.', 2), ('patina', 2), ('(elkhart,', 2), ('claimed.', 2), ('800-member', 2), ('material,', 2), ('myth', 2), ('hearingsand', 2), ('vehicle', 2), (\"controversy's\", 2), ('patio,', 2), ('anymore,', 2), ('steering', 2), ('pike.', 2), ('ingesting', 2), ('obtaining', 2), ('stopping.\"', 2), ('promises', 2), ('indulgence,', 2), ('coaxed', 2), ('buds', 2), ('rio', 2), ('implemented.', 2), ('self-esteem', 2), ('lately.', 2), ('q2,', 2), ('province,', 2), ('fordham', 2), ('airplanes,\"', 2), ('enright', 2), ('markup', 2), ('underscores', 2), ('kyra', 2), ('hse', 2), ('supervision', 2), ('jules', 2), ('overblown', 2), ('inflammation;', 2), ('desperate', 2), ('colleague,', 2), ('terengganu,', 2), ('397-2550', 2), ('talia', 2), ('inshare', 2), ('article.)', 2), ('\"dragon\\'s', 2), ('province,\"', 2), ('suburban', 2), ('perfectly', 2), ('drugs,\"', 2), ('blanchette,', 2), ('flu.', 2), ('petaling', 2), ('(satel)', 2), ('blame', 2), ('11-', 2), ('randomised,', 2), ('transaction', 2), ('sydney', 2), ('harm.\"', 2), ('healthier.\"', 2), ('regulated.\"', 2), ('plants,', 2), ('fringe', 2), ('97.', 2), ('hunter,', 2), ('claire', 2), ('echoing', 2), ('expansion.', 2), ('positives', 2), (\"dictionaries'\", 2), ('terminal', 2), ('bed', 2), ('followers', 2), ('junctions', 2), ('suppose', 2), ('informational', 2), ('stoned', 2), ('polluted', 2), ('registration', 2), ('crusade', 2), ('hands.', 2), ('enter.', 2), ('increase,\"', 2), ('frustrating', 2), ('class-action', 2), ('selective', 2), ('\"e-cigs', 2), ('lead.', 2), ('vapery,', 2), ('endless,', 2), ('music\".', 2), ('ironically,', 2), ('michigan.', 2), ('budget.', 2), ('!', 2), ('wooder.', 2), ('\"bootlegger/baptist', 2), ('covers', 2), ('well-drafted', 2), ('cocktail.', 2), ('don¿t', 2), ('mucolytics', 2), ('apply.', 2), ('audit.', 2), ('lexicographers,', 2), ('fat,', 2), ('reality', 2), ('candy.', 2), ('show,\"', 2), ('thrown', 2), ('genuine', 2), ('400,690', 2), ('warranted.', 2), ('vaporizer.', 2), (\"(it's\", 2), ('perimeter,', 2), ('withdraw', 2), ('temperatures,', 2), ('johor.', 2), ('centred', 2), ('vending', 2), ('tzuker,', 2), ('investigation', 2), ('copy', 2), (\"e-cigarettes,''\", 2), ('fuels,', 2), ('thursday.', 2), ('underwater', 2), ('patterns', 2), ('authority,', 2), ('courts', 2), ('contactless,', 2), (\"washington's\", 2), ('vapefests', 2), ('\"vapist\"', 2), ('conditional', 2), ('scaled', 2), ('4.', 2), ('development,', 2), ('s.s.', 2), ('#2:', 2), ('printing', 2), ('hopper,', 2), ('taxpayer', 2), ('(nextgen)', 2), (\"town's\", 2), ('guidance.', 2), ('quote', 2), ('emitted;', 2), ('riesbeck,', 2), ('id,', 2), ('misrepresented', 2), ('weir,', 2), ('vip,', 2), ('e-vaporizers', 2), ('mcquade@gmail.com.', 2), ('doors,', 2), ('proof,', 2), ('additives.', 2), ('unanswered', 2), ('meditation,', 2), ('patch,\"', 2), ('smokeless.', 2), ('existence', 2), ('aidan', 2), ('partnerships', 2), ('come.', 2), ('hassan', 2), ('parliament,', 2), ('sixth', 2), ('attached', 2), ('brunei,', 2), ('vintage', 2), ('4-1', 2), ('2014)', 2), ('e-cigarettes?', 2), ('columbia', 2), ('star,', 2), ('afternoon,', 2), ('asthma,', 2), ('regime', 2), ('http://ash.org.uk/', 2), ('saint', 2), ('be?\"', 2), ('dubai', 2), ('dreamsicle.', 2), ('gavin', 2), ('approves', 2), ('china.', 2), ('portfolio', 2), ('terrasses', 2), ('(active', 2), ('chhem,', 2), ('lost,', 2), ('iskandar,', 2), ('bestseller.', 2), ('unsafe,\"', 2), ('fancy', 2), ('right.\"', 2), ('utterly', 2), ('tends', 2), ('project\"', 2), ('\"mathematically,', 2), ('blog,', 2), ('hampshire', 2), ('much,', 2), (\"rehearsals.'\", 2), ('aldehyde,', 2), ('editors', 2), ('laurel.', 2), ('enforcers', 2), ('proximity', 2), ('natcen', 2), ('92', 2), ('objectively', 2), ('abstain', 2), (\"teens'\", 2), ('respect,', 2), ('vigiliant', 2), ('archetypal', 2), ('finest', 2), ('peers', 2), ('wine:', 2), ('objections', 2), ('declaration', 2), (\"uw's\", 2), ('different,', 2), ('on-hand', 2), ('reacted', 2), ('syrups.', 2), ('\"great', 2), ('curbs', 2), ('effort,', 2), ('quit?', 2), ('junction', 2), ('heisen', 2), ('ig', 2), ('workplace.\"', 2), ('accelerated', 2), ('facility,\"', 2), ('pack.', 2), ('comfort', 2), ('top-selling', 2), ('stole', 2), ('piercing', 2), ('ashtray,', 2), ('familiar,', 2), ('overreact', 2), ('plug', 2), ('simple.\"', 2), ('van', 2), ('extends', 2), ('kingman', 2), ('daveline', 2), ('morphine', 2), ('benjamin', 2), ('dance.', 2), ('that;', 2), ('miles', 2), (\"mesa's\", 2), ('sixth,', 2), ('victims', 2), ('demand,', 2), ('retirees', 2), ('victory', 2), ('fix.', 2), (\"faa's\", 2), ('invite', 2), ('same,', 2), ('(cc;', 2), ('glamorous,', 2), ('profitable', 2), ('ukraine,', 2), ('elegant,', 2), ('1996;', 2), ('cnd', 2), ('maintaining', 2), ('naughty', 2), ('buzz,', 2), ('taxed.', 2), ('obstructive', 2), ('27', 2), ('child-proof', 2), ('particles,\"', 2), ('nephew', 2), ('corridor.', 2), ('\"far', 2), ('monoxide.', 2), ('africa,', 2), ('differently.', 2), ('adkins', 2), ('sheesha', 2), ('campus.', 2), ('preserve', 2), ('stop.\"', 2), ('campuses,', 2), (\"australia's,\", 2), ('ambiguity', 2), ('burden.\"', 2), ('todd', 2), ('putin', 2), ('£10.', 2), ('research.\"', 2), ('alps.', 2), ('carey', 2), (\"'he's\", 2), ('happening.', 2), ('cyndie', 2), ('stimson', 2), ('wheezing,', 2), ('will,', 2), ('confident', 2), ('bizarre', 2), ('evaporating.', 2), ('second-time', 2), ('4%,', 2), ('bodies.', 2), ('plaguing', 2), ('kamaruddin,', 2), ('ballpark', 2), ('drug.', 2), ('u.s', 2), ('41', 2), ('vaporiums,', 2), ('las', 2), ('haul.', 2), ('326-2651', 2), ('interaction', 2), ('ibd.', 2), ('chambers', 2), ('lads', 2), ('enough,\"', 2), ('completed', 2), ('diners', 2), ('evident', 2), ('marta', 2), ('employee,', 2), ('juicy', 2), (\"'you\", 2), ('\"serious', 2), ('phoney', 2), ('women.', 2), ('valued', 2), ('bumper', 2), ('vapeway,', 2), (\"clinton's\", 2), ('madigan', 2), ('argument.', 2), ('conflicting,', 2), ('nanaimo', 2), ('expanding,', 2), ('glamorises', 2), ('breeches,', 2), ('tribe', 2), ('readingeagle.com', 2), ('purchased\".', 2), ('signing', 2), ('water-based', 2), ('methodist', 2), ('fish,', 2), ('noise,', 2), (\"inshare's\", 2), ('frontier.', 2), ('temptation', 2), ('playground', 2), ('9%', 2), ('hopefully', 2), ('\"game', 2), ('opiates.', 2), ('guy', 2), ('starbucks.\"', 2), ('rat', 2), ('lemle', 2), ('topple', 2), ('fruits,', 2), ('(businesses).\"', 2), ('americorps', 2), ('prussia,', 2), ('misconception.', 2), ('planner', 2), ('stink,', 2), ('sewer', 2), ('pacific', 2), ('monsters', 2), ('rebuilding', 2), ('technically', 2), ('price.\"', 2), ('only.', 2), ('print,', 2), ('aboard.', 2), ('army.', 2), (\"it'll\", 2), ('oscars', 2), ('testify', 2), ('consent.\"', 2), ('copied', 2), ('less.', 2), ('rasfan', 2), ('hypothetical', 2), ('factory', 2), ('overreaction.', 2), ('honeysuckle', 2), ('medicial', 2), ('grande.', 2), ('attacked', 2), ('storage', 2), ('\"only', 2), ('\"seven', 2), ('donaldson,', 2), ('pleaded', 2), ('kill.', 2), ('paperwork', 2), ('ridiculous.\"', 2), ('98%', 2), ('cooler.', 2), ('stands,', 2), ('booze.', 2), ('diffusion', 2), ('190:', 2), ('house,', 2), ('&ldquo;e-smoking', 2), ('\"smoking\"', 2), ('chasers', 2), ('dislike', 2), ('denial', 2), ('follows', 2), ('non-muslims', 2), ('http://thevapetrader.com', 2), ('components:', 2), ('walgreens', 2), ('vue,', 2), ('agreement.', 2), ('(hazleton,', 2), ('acquire', 2), ('kingdom.', 2), ('wholly-owned', 2), ('raffles', 2), ('balls', 2), ('rates.', 2), ('indent;as', 2), ('understood,', 2), ('pvt.', 2), ('pills,', 2), ('problems?', 2), ('total,', 2), ('mclane.', 2), (\"'oh,\", 2), ('gorilla', 2), ('berkshire', 2), ('mushroomed', 2), (\"user's\", 2), ('demonstration.', 2), ('engines', 2), ('o2', 2), ('settings', 2), ('councillors.', 2), ('$7.1', 2), ('locations.', 2), ('\"newbies', 2), ('\"unintended', 2), ('crap,', 2), ('activists.', 2), ('nst', 2), ('discriminated', 2), ('playgrounds.', 2), ('four\"', 2), ('zachariah', 2), ('blanchette.', 2), ('foo,', 2), ('puke', 2), ('sponsor.', 2), ('usa,', 2), ('brink.', 2), ('ram', 2), ('hearings', 2), ('detriment.', 2), ('hold.', 2), ('frieden', 2), ('innovapetions.', 2), ('example.', 2), ('polish', 2), ('proprietor', 2), ('respectively).', 2), ('original.', 2), ('poldark.', 2), ('conflicts', 2), ('zanetti', 2), ('three-pack-a-day', 2), ('ted', 2), ('dying', 2), ('demo', 2), ('hostile', 2), ('loveline\"', 2), ('(columbia,', 2), ('salt', 2), ('allotments', 2), ('indulge', 2), ('smolders', 2), ('(suma)', 2), ('regard,\"', 2), ('gasoline.\"', 2), ('gloucestershire', 2), ('syakila', 2), ('also?', 2), ('ont.', 2), ('vapour.\"', 2), ('rooke', 2), ('completed.', 2), ('cheek.', 2), ('dealers,', 2), ('harrisburg,', 2), ('investing', 2), ('medicines.', 2), (\"bostean's\", 2), ('courtesy.', 2), ('consolidating.', 2), ('summer', 2), ('¿as', 2), ('delivered.', 2), ('\"continuum', 2), ('mum', 2), ('\"vanity', 2), ('author', 2), ('batch-tested', 2), ('survey.the', 2), (\"others'\", 2), ('high-profile', 2), ('contradiction', 2), ('doing,\"', 2), ('devises', 2), ('turner,', 2), ('rachel', 2), ('downright', 2), ('forks,', 2), ('\"more', 2), ('are]', 2), ('largest,', 2), ('supplies,', 2), ('difficulty', 2), ('robust', 2), ('heavy-handed', 2), ('2031,', 2), ('science,', 2), ('minty.', 2), ('each,', 2), (\"harrison's\", 2), ('double-digit', 2), ('73,000', 2), ('clive', 2), ('deserving', 2), ('counterpart', 2), ('cancercausing.', 2), ('seeming', 2), ('is,\"', 2), ('manages', 2), ('swept', 2), ('wollf,', 2), ('cline,', 2), ('endowed', 2), ('phrases', 2), ('tabling', 2), ('hormel', 2), ('taken,\"', 2), ('income', 2), ('alert', 2), ('saints', 2), ('province.', 2), ('hiv', 2), ('ga.)', 2), (\"owners'\", 2), ('some.', 2), ('3mg.', 2), ('trucks', 2), ('rest,', 2), ('news-press', 2), ('substantial', 2), ('disruptions', 2), ('coleman', 2), ('1991.', 2), ('music', 2), (\"'e-juices',\", 2), ('compulsion', 2), ('bills.health', 2), ('comedy', 2), (\"2004's\", 2), ('durango', 2), ('shore,', 2), ('overman,', 2), ('ashland', 2), ('fitch', 2), ('namely', 2), ('accordance', 2), ('street.', 2), ('consultation.', 2), ('interfaith', 2), ('technology,', 2), ('enters', 2), ('firefighter', 2), ('soon,', 2), ('screening', 2), ('deny', 2), ('coined', 2), (\"florida's\", 2), ('swelling', 2), ('aberdeen', 2), ('(r-mi),', 2), ('remembering', 2), ('flowers.', 2), ('quit;', 2), ('pvd', 2), ('gleeson', 2), ('mcintosh,', 2), ('contrôle', 2), ('bloodstream,', 2), ('cost,', 2), ('gangs', 2), ('changer\"', 2), ('peach', 2), ('retired', 2), ('down.\"', 2), ('receipts', 2), ('use;', 2), ('strictest', 2), ('bongs,', 2), ('reveals', 2), ('tricks', 2), ('unfounded', 2), ('lists.', 2), ('obscure', 2), ('husin', 2), ('coordinator.', 2), ('competitions.', 2), ('intensity', 2), ('blog', 2), ('henze', 2), ('message.', 2), ('\"exposure', 2), ('&ldquo;heroin', 2), ('sea', 2), ('doubt.', 2), ('accident', 2), ('delicious.', 2), ('bravo', 2), ('relation', 2), ('guerrero', 2), (\"tempe's\", 2), ('monkey', 2), ('long-time', 2), ('stems', 2), ('transmission', 2), ('hesitant', 2), ('excluding', 2), ('$1,500', 2), ('destination.', 2), ('member,', 2), ('movements', 2), ('inhaling,', 2), ('tengku', 2), ('electrician', 2), ('by-laws', 2), ('\"nobody', 2), ('no-brainer', 2), ('cyanide,', 2), ('greece.', 2), (\"brand,'\", 2), ('crafting', 2), ('fatally', 2), ('copying', 2), ('degrees.', 2), ('ballot', 2), ('mushrooming', 2), ('tinkering', 2), ('fielding', 2), ('defeat', 2), ('effects,\"', 2), ('marginalised,', 2), ('traders.', 2), ('putnam', 2), ('cure', 2), ('\"daily,\"', 2), ('are,\"', 2), ('relief', 2), ('unfairly', 2), (\"o'donnell\", 2), ('(hlib)', 2), ('diminish', 2), ('folks,', 2), ('allowed,\"', 2), ('fuels', 2), ('governed', 2), ('disinfect', 2), (\"commission's\", 2), ('\"beer', 2), (\"manhattan's\", 2), ('anymore.\"', 2), ('dollars,', 2), ('understandable', 2), ('6pm.', 2), ('vocabulary', 2), ('niguel', 2), ('identification,\"', 2), ('unconcerned', 2), ('infections.', 2), ('player', 2), ('autumn,', 2), ('stuff.\"', 2), ('thc', 2), ('wishes', 2), ('2.6million', 2), ('clinics.', 2), ('seating', 2), ('locally,', 2), ('mashael', 2), ('lynne', 2), ('waterford', 2), ('negatives', 2), ('priority,', 2), ('irked', 2), ('her.', 2), ('pink,', 2), ('alwi', 2), ('properly.', 2), ('non-invasive', 2), ('gut', 2), ('respectful', 2), ('knoblauch,', 2), ('variety.', 2), ('52', 2), ('reinstate', 2), (\"'he\", 2), ('changed.', 2), ('contravention', 2), ('collis,', 2), ('julia', 2), ('penalize', 2), ('0.9%,', 2), ('photon.', 2), ('cemented', 2), ('wiesman', 2), ('knows?', 2), ('securities', 2), ('5124:', 2), ('wildwood.\"', 2), ('disadvantaged', 2), ('disabilities.', 2), ('advantage\"of', 2), ('illogical.', 2), ('raffle', 2), ('edgy).', 2), ('campuses.', 2), ('flavourings,', 2), ('endless', 2), ('intensive.', 2), ('publicized', 2), ('laurel', 2), ('spade', 2), ('avenue.', 2), ('pneumonitis', 2), ('sun,', 2), ('viral', 2), ('par', 2), ('alarmed', 2), ('linguistic', 2), ('=====', 2), ('masquerading', 2), ('hud,', 2), ('discarded', 2), ('nora', 2), (\"kingdom's\", 2), ('accompanied', 2), ('reversed', 2), ('columns', 2), ('whipped', 2), ('divisions', 2), ('treasure', 2), ('portfolios', 2), ('furious', 2), ('overstuffed', 2), ('drink,', 2), ('twitter.com/col_health', 2), ('motshudi', 2), ('mirrored', 2), ('seventh', 2), ('patricia', 2), ('reader,', 2), ('(70', 2), ('oversight.', 2), (\"'00\", 2), ('half-pack-a-day', 2), ('(there', 2), ('trick', 2), ('railways.', 1), ('france.', 1), ('sweet-smelling', 1), ('deem', 1), ('policed', 1), ('$900.', 1), ('psychologically,\"', 1), ('vapour]', 1), ('experience.\"', 1), ('1-800-quit-now', 1), ('alerts', 1), ('anti-', 1), ('audience:', 1), ('@winstarcross', 1), ('nienow,', 1), ('coloured', 1), ('ply', 1), ('cooler,', 1), ('customizable,\"', 1), ('seeking.', 1), ('risks;', 1), ('mélanie', 1), ('motel', 1), ('breadth', 1), ('centralisation', 1), ('lunatic', 1), ('intending', 1), ('unscrupulous', 1), ('£5,000,', 1), ('collectibles?', 1), ('monday;', 1), ('fines.', 1), ('wedding', 1), (\"site's\", 1), ('things:', 1), ('attractive.\"', 1), ('clements', 1), ('keywords', 1), ('anglia', 1), ('url:', 1), ('tanner', 1), ('other.\"', 1), ('sexuality', 1), ('\"relieve', 1), ('licenses.', 1), ('liquid;', 1), ('jamieson', 1), ('injury.', 1), ('craigslist', 1), ('lockley', 1), ('deal,', 1), ('county-owned', 1), ('rory', 1), ('philips', 1), ('goods.', 1), ('rm898.1', 1), ('workshop,', 1), ('justfiies', 1), ('209', 1), ('time\"', 1), ('erring', 1), ('charlie', 1), ('grade.', 1), ('absurdity,', 1), ('regret,', 1), ('elect', 1), ('1940s,', 1), ('intellect,', 1), ('£400m', 1), ('drank,', 1), ('\"e-cig.\"', 1), ('codify', 1), ('nielsen', 1), ('abstract,\"', 1), ('coupons', 1), ('sensed', 1), ('sessions,', 1), (\"measure's\", 1), ('vapouriz', 1), ('sonier.', 1), ('labeling.\"', 1), ('report)', 1), (\"ducky's\", 1), ('pollution\",', 1), ('breakfast,', 1), ('problem\",', 1), ('revision', 1), ('e-cigarettes.in', 1), ('part]', 1), ('(whey)', 1), (\"practitioners'\", 1), ('clouds,\"', 1), ('vocs,', 1), ('followed.', 1), ('estate?', 1), ('point,â', 1), ('kirsten', 1), ('cole,', 1), ('vaping,\\'?\"', 1), ('medications,', 1), ('participating', 1), (\"o'donnell,\", 1), ('trade.', 1), ('draw,', 1), ('ash.', 1), ('hazelnut.', 1), ('(on', 1), ('tokyo,', 1), (\"ucl's\", 1), (\"good,'\", 1), ('ucl', 1), ('cut-off', 1), ('willpower', 1), ('singapore,', 1), ('acetaldehyde', 1), ('stifle', 1), ('pta', 1), ('issued,', 1), ('arteries,', 1), ('flyers', 1), ('vapour-vs-flavour', 1), ('tackle,\"', 1), ('\"mods,', 1), ('phlegm', 1), ('[vaping]', 1), ('amsterdam', 1), ('driffield:', 1), ('ready,\"', 1), ('fend', 1), ('jamia', 1), ('(narrated', 1), ('repulsive.', 1), ('strict.\"', 1), ('store/tobacco', 1), ('disappointment', 1), ('entering.', 1), ('column,', 1), ('cloud-chasers', 1), ('emerging,', 1), ('arisen', 1), ('\"\"that', 1), ('hand-mouth', 1), ('directorate', 1), (\"mirror's\", 1), ('steakhouse', 1), ('typical.', 1), ('literacy', 1), ('solidarity', 1), ('comprehend', 1), ('students,\"', 1), ('henreid', 1), ('co-founder.', 1), ('coolfire', 1), ('fuming\".', 1), ('lung,', 1), ('many.', 1), ('health.i', 1), ('georgiana', 1), ('glamorising', 1), ('flavourful', 1), ('consisting', 1), ('us$1', 1), ('(rm25.2', 1), ('250,000', 1), ('newly-developed', 1), ('assembly,', 1), ('45', 1), ('banks,', 1), ('\"nonsense\".', 1), ('clumsy', 1), ('enabled', 1), ('remarks', 1), ('tabac,', 1), ('r-enid,', 1), ('friendlies', 1), ('thin', 1), ('obviously,', 1), (\"breath',\", 1), ('compatible', 1), ('cleary,', 1), ('pr', 1), ('raging', 1), ('stabbed', 1), ('teachings', 1), ('imaging', 1), ('job,â', 1), ('berlaymont.', 1), ('them,â', 1), ('homes.', 1), ('abstinence-only', 1), ('ideally,', 1), ('family.\"', 1), ('mention.', 1), ('connector', 1), (\"searchers'\", 1), ('mar-ket,', 1), ('unbelievable.', 1), ('nasties,', 1), ('durian,', 1), (\"macalester's\", 1), ('10.0', 1), ('psychologies', 1), ('glycerine.', 1), ('rm100.\"', 1), ('exemplified', 1), ('successful.\"', 1), ('10],', 1), ('[£60]', 1), ('26.1', 1), ('exploratory', 1), ('afterward.', 1), ('person,', 1), ('mayors', 1), ('community!', 1), ('castelluccio', 1), ('03--austin', 1), ('3.6,', 1), ('2017', 1), ('siskey', 1), ('\"within', 1), ('non-flavoured', 1), ('reassuring', 1), ('35,000', 1), (\"brand's\", 1), ('vice\").', 1), ('saturdays', 1), ('2030', 1), ('louis,', 1), ('blocked', 1), ('48c', 1), ('massey', 1), ('dinner.', 1), ('consciously', 1), (\"doing.it's\", 1), ('glamorize', 1), (\"smoking'\", 1), ('coasts', 1), ('vaporizing,', 1), ('www.morrisdailyherald.com', 1), ('www.newsitem.com', 1), ('share),', 1), ('3.6', 1), ('(marlboro)', 1), ('solved', 1), ('hustler.', 1), ('shoreditch', 1), ('huddle', 1), ('[they]', 1), ('70,', 1), ('polosa', 1), ('loathing', 1), ('durst,', 1), ('\"both', 1), ('escaping', 1), ('vapo,', 1), ('emerge', 1), ('francisco-based', 1), ('proportionality', 1), ('selfish.', 1), ('rosemary', 1), ('edd.', 1), ('field,', 1), (\"canada's\", 1), ('symptom', 1), ('these,', 1), ('ralph', 1), ('23--many', 1), ('\"two-fold', 1), ('kolste', 1), (\"alzheimer's,\", 1), ('non-fruit', 1), ('constantly', 1), ('daft', 1), ('muttalif', 1), ('industry)', 1), ('$39', 1), ('offends', 1), ('willpower?', 1), ('com', 1), (\"son's\", 1), ('break.', 1), ('g.,stonybrook,', 1), ('believable,', 1), ('plasticity:', 1), ('iceberg,', 1), ('worksop', 1), ('looked.', 1), ('wick', 1), ('laurent', 1), ('considered,', 1), (\"'billions'\", 1), ('sample.', 1), ('wellington', 1), ('training,', 1), ('listened', 1), ('falls,\"\"', 1), ('news@dailymail.ie', 1), ('\"[e-cigarettes]', 1), ('transplants', 1), ('cause.', 1), ('landfills', 1), ('\"vaporized\"', 1), ('erdahl,', 1), ('quality-control', 1), ('(bar', 1), ('gang', 1), ('banned]', 1), ('pincer', 1), ('ecigs,', 1), ('slept', 1), ('term;', 1), ('(\"the', 1), ('co-workers.', 1), ('covered.', 1), ('individual,', 1), ('mess:', 1), ('¨similarly', 1), ('vegas', 1), ('biskinis,', 1), ('\"o', 1), ('kedah.', 1), ('on!', 1), ('6-1', 1), ('licence\".', 1), ('volkswagen', 1), ('pedantic', 1), ('alastair', 1), ('community-wide', 1), ('negativity', 1), ('native,', 1), ('outlawed,', 1), ('mosaic', 1), ('&education', 1), ('rm65.54.', 1), (\"wednesday's\", 1), ('rises.', 1), ('survey\"', 1), ('airline,', 1), ('flows', 1), ('beware', 1), ('leaps', 1), ('hair-care', 1), ('prospect', 1), ('hallowed', 1), ('acetalehyde,', 1), ('awry', 1), ('advertiser,', 1), ('punch,', 1), ('antismokers', 1), ('alike', 1), ('better.\"', 1), ('regulation.\"', 1), ('his,', 1), ('illegitimate.', 1), ('footbridge.â', 1), ('rationales', 1), ('blast,', 1), ('manolas,', 1), ('continuously.', 1), ('cost-saving', 1), ('satisfying', 1), ('wares', 1), ('vapidly', 1), ('settings,', 1), ('beng', 1), ('inspections', 1), ('refills,', 1), ('counterparts', 1), ('clients.', 1), ('senator.', 1), ('bahrain,', 1), ('(a-d).', 1), ('noses.', 1), ('instructions.', 1), ('adds.', 1), ('worrisome.', 1), ('priorities:', 1), ('toxic.', 1), ('consumed', 1), ('janina.', 1), ('term,\"', 1), ('chooses', 1), ('\"oil,\"', 1), ('cortex,', 1), ('choices,', 1), ('geneviève', 1), ('daughter,', 1), ('\"include', 1), ('pool,', 1), (\"tampa's\", 1), ('regulators.\"', 1), ('aware,', 1), ('proposition.', 1), ('enticement', 1), ('glamorous.', 1), ('nevertheless,', 1), ('http://imgs.syndigate.info/498/1493/98/145153838961.jpg', 1), ('lancet', 1), ('union-bulletin.com', 1), ('chorus', 1), (\"2014's\", 1), ('brewed', 1), ('eligible', 1), ('reassuring.', 1), ('electrification', 1), ('¨however,', 1), ('(pk)', 1), ('contacting', 1), ('khairulijal', 1), ('yesteryear', 1), ('dire', 1), ('owners)', 1), ('ozan', 1), ('executives)', 1), ('did,\"', 1), ('sceptics', 1), (\"adults.'\", 1), ('stages.', 1), ('robots', 1), ('effects:', 1), ('honor', 1), ('insulation', 1), ('greene,', 1), ('\"compared', 1), ('lucrative.', 1), ('brisbane', 1), ('carcinogenic.', 1), ('aldridge', 1), ('typically,', 1), ('worm.', 1), ('jointly', 1), ('\"smokers,\"', 1), ('falsehood', 1), ('metano', 1), ('slapping', 1), ('fad,', 1), ('\"looking', 1), ('steam.', 1), ('citizens).', 1), ('tongue,', 1), ('remodel', 1), ('slope', 1), ('boiling', 1), ('labored', 1), ('renewables.', 1), ('25,000', 1), ('creators', 1), ('unsafe', 1), ('verge', 1), ('unrestrained', 1), ('big-name', 1), ('patchwork,\"', 1), ('8m', 1), ('heartfelt', 1), ('stalls.', 1), ('laid-back', 1), ('have.\"', 1), ('mukherjee', 1), ('life-saving', 1), ('legislators.', 1), ('thameslink.', 1), ('better!\"', 1), ('ins', 1), ('see.', 1), ('flag', 1), ('children-oriented', 1), ('innovapetionsllc@gmail.com', 1), ('progress,', 1), ('impending', 1), ('taxpayers.', 1), ('\"cigarette\"', 1), ('2.4,', 1), ('mondays.', 1), ('oranges.\"', 1), ('guardian,', 1), ('mossback', 1), ('2015-0418', 1), ('non-refillable', 1), (\"'e-juice')\", 1), ('\"licensing', 1), ('precinct,', 1), ('concern.â', 1), ('*foolish*', 1), ('non-smoking.', 1), ('re-start,', 1), ('034.', 1), ('authoritative', 1), ('partner,', 1), ('lakefront', 1), ('boost.', 1), ('sum', 1), ('legit', 1), ('opposed.', 1), ('manager:', 1), ('goal.', 1), ('04--offering', 1), ('driffield,', 1), ('transition,', 1), ('2304', 1), ('compounds,', 1), ('burgeoned', 1), ('irrational.', 1), ('sk', 1), ('network,\"', 1), ('shoals,', 1), ('widely.', 1), ('helioslough', 1), ('proven.', 1), ('tin,', 1), ('coffee.\"', 1), ('leave.\"', 1), ('words.rupa', 1), ('somebody.', 1), ('multi', 1), ('advancing', 1), ('janesville', 1), ('rhetorical', 1), ('freedom.', 1), ('synthesis,', 1), ('findings;', 1), ('approvals', 1), ('non-serious', 1), ('cone', 1), ('150-year', 1), ('\"smoke-free', 1), ('streams', 1), ('taco.', 1), ('prevail.', 1), ('ng/ml', 1), ('fostered.', 1), ('meddling', 1), ('one-of-a-kind', 1), ('omit', 1), ('corbyn.â', 1), ('injected', 1), ('clever,', 1), ('modification)', 1), ('verse,', 1), ('spaces:', 1), ('against,', 1), ('wood-burning', 1), (\"cigarette.llewellyn's\", 1), ('vice-chancellor', 1), ('shaffer,', 1), ('bacteria', 1), ('surprised\"', 1), ('unapproved', 1), ('hardship', 1), ('(drug)', 1), ('revamp', 1), ('lethal.', 1), ('hypothesis.', 1), ('selling,', 1), ('chills', 1), ('quantity', 1), ('environment.', 1), ('committees,', 1), ('states\"', 1), ('wang', 1), ('incorrect', 1), ('smoke-free,', 1), ('tacked', 1), ('portraying', 1), ('betterdesigned', 1), ('buntingâ', 1), ('bureaucracy', 1), ('naval', 1), ('neighboring', 1), ('red-listed', 1), ('$1.665', 1), ('evoke', 1), ('enjoyable', 1), ('bellone', 1), ('climatic', 1), ('processes', 1), ('been,\"', 1), (\"'just\", 1), ('appease', 1), ('\"third', 1), ('oriented,', 1), ('stefan,', 1), ('trails', 1), ('economist\"', 1), ('86-46', 1), ('sound', 1), ('sticky', 1), ('churchill,', 1), ('dressing', 1), (\"santayana's\", 1), ('been.', 1), (\"it,'\", 1), ('coral', 1), ('warrant.', 1), ('draughty,', 1), ('failings,', 1), ('warner,', 1), ('lifetimes,\"', 1), (\"it'd\", 1), ('prohibitions.', 1), ('discord,', 1), ('25th', 1), ('wright.', 1), ('939', 1), ('\"vaporium\"', 1), ('purpose.', 1), ('percent,\"', 1), ('(free', 1), ('\"sugar', 1), ('indiscriminately', 1), ('mister-e-liquid.com', 1), ('commits', 1), ('october)', 1), ('0%', 1), ('kleefisch,', 1), ('e-cig.\"', 1), ('\"santa\\'s', 1), ('without,', 1), ('businesses,\"', 1), ('dismal,', 1), ('unneeded', 1), ('raw', 1), ('fcc', 1), ('mixture,', 1), ('harrisburg.', 1), ('overcharge', 1), ('unveiled', 1), ('predators', 1), ('exit', 1), ('limes,\"', 1), ('front,', 1), ('pimp', 1), ('error\".', 1), ('(trans', 1), ('layers', 1), ('raiding', 1), ('(bill]', 1), ('ifag?', 1), ('getting.', 1), ('liedel', 1), (\"village'\", 1), ('devil-may-care', 1), ('stiff-arm', 1), ('invalid.', 1), ('drug-smuggling,', 1), ('controllable', 1), ('austin,', 1), ('sivakumar', 1), ('lollipop\".)', 1), ('care.', 1), ('siddiq,', 1), ('concourse', 1), ('flattering', 1), ('flip,', 1), ('out\"', 1), ('fearing', 1), ('offof', 1), ('averil', 1), ('\"quitting', 1), ('stunning', 1), ('dust,', 1), (\"mclane's\", 1), ('enforce.\"', 1), ('heaven', 1), ('circle,', 1), ('noor.', 1), ('smurffette,', 1), ('crafted', 1), ('go-ahead,', 1), ('\"three', 1), ('\"his', 1), ('conflates', 1), ('borth,', 1), ('devoid', 1), ('view)', 1), ('300,', 1), ('bour,', 1), ('life.using', 1), ('dollars,\"', 1), ('events,\"', 1), ('cocktails', 1), ('grantchester.', 1), ('baba', 1), ('smiling', 1), ('cigarettes)', 1), ('regulatory,', 1), ('no.1096.', 1), ('restaurant,', 1), ('t.,', 1), ('headline:', 1), ('stabbing:', 1), ('subscription', 1), ('queensland', 1), ('havant', 1), ('responsibly.', 1), ('confines', 1), ('closed-off', 1), ('demographics', 1), ('rebukes', 1), ('sultry', 1), ('self-selecting', 1), ('\"vape\"--as', 1), ('vaping.)', 1), ('eating,\"', 1), ('assured.', 1), ('winston', 1), ('taxes?', 1), ('advertiser', 1), ('nazis', 1), ('0013729e4abe17eec72e3f.jpg', 1), ('provide.', 1), (\"russia's\", 1), ('896-7768.', 1), ('oxford.', 1), ('innovation,', 1), ('patently', 1), ('risks:', 1), ('malaysia¿s', 1), ('fiercely', 1), ('fact)', 1), ('stir', 1), ('empire', 1), ('hugely', 1), ('amelia,', 1), ('home.', 1), ('enticed', 1), ('grew,', 1), ('fins', 1), ('rabbit', 1), ('12:30', 1), ('(are)', 1), ('crossrail', 1), ('conflict', 1), ('[letters,', 1), ('intrusive,\"', 1), ('affair.', 1), ('acceptance.', 1), ('seen.', 1), ('predates', 1), ('kelly,', 1), ('interment', 1), ('enterprising', 1), ('drs.', 1), ('found,\"', 1), ('starbuckish-like,', 1), ('smokers&rsquo;', 1), ('\"cigarette', 1), ('bse,', 1), ('have,', 1), ('4.6%', 1), ('usefulness', 1), ('overview', 1), ('life\".', 1), ('destruction', 1), ('bankable,', 1), ('ambitious', 1), ('tastes,', 1), ('r-edmond,', 1), ('honestly,', 1), (\"representatives'\", 1), ('wares.', 1), ('graciously', 1), (\"'normalise'\", 1), ('copd.', 1), ('nightlife', 1), (\"england's\", 1), ('flood', 1), ('arts', 1), ('11pm.', 1), ('minute.', 1), ('quit:', 1), ('droplets.', 1), ('crane.', 1), ('fantastic', 1), ('welcome,', 1), ('.html', 1), ('\"statistics', 1), ('\"knee-jerk', 1), ('\"opinions', 1), ('ludgate', 1), ('molina', 1), ('classrooms.', 1), ('proceed', 1), ('bloomington.', 1), ('carolina,', 1), ('roundabout', 1), ('endeavors', 1), ('natural,', 1), ('bureaucratic', 1), ('tackled.', 1), ('closed-door', 1), ('three-foot', 1), ('surreptitiously.', 1), ('louise.', 1), ('mclain,', 1), ('post,\"', 1), ('target.', 1), ('cars)', 1), ('\"battle', 1), ('\"child', 1), ('[news,', 1), (\"gloom'\", 1), ('pg/vg', 1), ('(sirim-approved).', 1), ('barking', 1), ('assuring', 1), ('resents', 1), ('initiated', 1), ('prizes.', 1), ('ask,', 1), ('us$50', 1), ('enigmatic', 1), ('disclosed', 1), ('effect.', 1), ('(grounds)', 1), ('health).', 1), ('hemanta', 1), ('sw', 1), ('perpetuated,', 1), ('quarters,', 1), ('illinois.', 1), ('\"possible\"', 1), ('wetherspoon', 1), ('volcanoes)', 1), ('injurious', 1), ('knifing', 1), ('developments', 1), ('20g', 1), ('are:', 1), ('gradual', 1), ('maligned', 1), (\"nida's\", 1), ('banff,', 1), ('lowering', 1), ('casaa', 1), ('historian', 1), ('carmakers', 1), ('anti-ethnic', 1), ('29-year-old', 1), ('tobaccofree', 1), ('subd.', 1), ('silvester,', 1), ('avenue/u.s.', 1), ('allies', 1), ('crops.', 1), ('droppings', 1), ('\"where', 1), ('lame', 1), ('jack.', 1), ('tenanciers', 1), ('camel', 1), ('edina,', 1), ('referencing', 1), ('bergen', 1), ('reed-savory', 1), ('na,', 1), ('rate-payers', 1), (\"restaurant's\", 1), ('jollye,', 1), ('oddity', 1), ('dehydrating', 1), ('maguire.', 1), ('compelling.', 1), ('hherman@readingeagle.com', 1), ('rages', 1), ('675', 1), ('divided.', 1), ('marvel\"', 1), ('choice,\"', 1), ('£340m', 1), ('swapped', 1), ('disturbing,\"', 1), ('\"regulation\"', 1), ('kibbe', 1), ('majority.', 1), ('546-6151.', 1), ('behaviors,', 1), ('years!', 1), ('hardline', 1), ('twitter.com/jacob_denobel', 1), ('legislating', 1), ('differentiation', 1), ('terrible', 1), ('close-knit', 1), ('http://www.libn.com/be-the-first-to-know/', 1), ('(action', 1), ('implementation', 1), ('boston,', 1), ('(nor', 1), ('\"(however)', 1), ('poison\",', 1), ('second-year', 1), ('keno', 1), ('reviews.', 1), ('implications,', 1), ('poundland', 1), ('16.8', 1), ('doubt,', 1), ('take.', 1), ('adherence', 1), ('rm4.8', 1), ('noncancer', 1), ('commodities', 1), ('over-18s.', 1), ('spokane,', 1), ('show-cause', 1), ('jolly', 1), ('islamabad,', 1), (\"ciccio's\", 1), ('efficiency', 1), ('ambition,', 1), ('tsnas,', 1), ('conscience,', 1), (\"yesteryear's\", 1), ('anti-smoking-and-vaping', 1), ('access.', 1), ('hunt,', 1), ('consumer,', 1), ('chaired', 1), ('digest', 1), ('stores,\"', 1), ('opportunity.', 1), ('gums', 1), ('macon', 1), ('done:', 1), ('nicotine-delivering', 1), ('tragedies.', 1), ('growth,\"', 1), ('non-carcinogenic,', 1), (\"âeur[#x2dc]to'\", 1), ('move?', 1), ('loaded', 1), ('burying', 1), (\"tri-rail's\", 1), ('(said)', 1), ('2014-15', 1), ('abatement,', 1), (\"commissioner's\", 1), ('gong,', 1), ('reviewed.', 1), ('stock;', 1), ('blaine', 1), ('whiff', 1), ('2004.', 1), ('yap', 1), ('flights.', 1), ('divergence', 1), (\"baltimore's\", 1), ('oliogopolistic', 1), ('complicate', 1), ('mere', 1), ('park,\"', 1), ('crafty', 1), ('producers,', 1), ('£2.', 1), ('buck,', 1), ('exaggerating', 1), ('toffee-and-hazelnut', 1), ('then-representative', 1), ('16;', 1), ('complexes', 1), ('nicotinelaced,', 1), ('cure,', 1), ('incorporate', 1), ('lofty', 1), ('envisaged', 1), ('figures,', 1), ('tear', 1), ('rig', 1), ('latter.there', 1), ('absurd', 1), ('\"labels', 1), ('line,', 1), (\"zones'.\", 1), ('westfield,', 1), ('lawmaker', 1), ('fide', 1), ('nation:', 1), ('goals.\"', 1), ('it&ndash;', 1), ('name.)', 1), ('mara', 1), ('(inhaling', 1), ('existence.', 1), ('declares,', 1), ('\"addicted\"', 1), ('2011,\"', 1), ('exquisite', 1), ('levels.improve', 1), ('addicts\"', 1), ('child&rsquo;s', 1), ('undergoing', 1), (\"there'll\", 1), ('impossible.', 1), ('leafy', 1), ('ubiquitous', 1), ('17--the', 1), ('ybor', 1), ('undergoes', 1), ('douglasville', 1), ('pardon?', 1), ('sub-culture,', 1), ('victoria.', 1), ('exhibitions.\"', 1), ('traumatic', 1), ('dust-free', 1), ('¨well,', 1), ('calypso', 1), ('boards', 1), ('transcript', 1), ('\"union', 1), ('stolen,', 1), ('(www.bis.gov.uk)', 1), ('blended', 1), ('column.', 1), ('retiree', 1), ('heroin,', 1), ('non-eu', 1), ('ukraine', 1), ('kills;', 1), ('unexpectedly', 1), ('schwab', 1), ('terrasse,', 1), ('madness.', 1), ('makers.', 1), ('stash', 1), ('undeveloped', 1), ('pets.', 1), ('abd', 1), ('alor', 1), ('too,â', 1), ('19,500', 1), ('304-345-8989', 1), ('modeling', 1), ('mobility', 1), ('meme', 1), ('mother,', 1), ('advocate.', 1), ('ayers,', 1), ('facts;', 1), ('oxygen.', 1), ('timmy,', 1), ('traceability\"', 1), ('\"or', 1), ('utilises', 1), ('approved,', 1), ('twyman', 1), ('futsal', 1), ('bypasses', 1), ('aerosol)', 1), ('2011)', 1), ('agencies.', 1), ('proactive.', 1), ('underaged', 1), ('demise', 1), ('justifies', 1), ('35-year-old', 1), ('cases:', 1), ('trident.â', 1), ('dismay', 1), ('premarket', 1), ('extensive', 1), ('lunches', 1), ('christopher,', 1), ('cookies', 1), ('engineer,', 1), ('hepatitis.', 1), ('passion,\"', 1), ('plus,', 1), (\"nhs'.\", 1), ('analysis.', 1), ('business?\"', 1), ('dyson', 1), ('cannabis,', 1), ('graduate', 1), ('cafes,', 1), ('09--green', 1), ('meh.\\'\"', 1), ('dakota.', 1), ('lovers', 1), ('extension,', 1), ('primed', 1), ('super-off-peak', 1), ('seasonals', 1), ('milder', 1), ('\"blatantly', 1), ('steps,\"', 1), ('thereof,', 1), ('good;', 1), ('platform.', 1), ('dfl-mankato,', 1), ('[and', 1), ('&ldquo;e-liquid&rdquo;', 1), ('role.\"', 1), ('reply', 1), ('terminology', 1), ('upside-down', 1), ('\"whatever', 1), ('lexicon.', 1), ('$250,', 1), ('euromonitor', 1), ('faced', 1), ('atomisers].', 1), ('own.--john', 1), (\"hunters'\", 1), ('oblige', 1), ('(whose', 1), ('lounge)', 1), ('creaminess', 1), ('instances,', 1), ('one-pack-a-day', 1), ('sweet-treat', 1), (\"moncton's\", 1), ('changed:', 1), ('susil', 1), ('quota', 1), ('cap', 1), ('ellis', 1), ('ismk,', 1), ('adept', 1), ('cuddington,', 1), ('campus,', 1), ('shirley', 1), ('\"shock', 1), ('railfuture:', 1), ('isbn', 1), ('associated,', 1), ('refusing', 1), ('puffs.', 1), ('unknowns.\"', 1), ('lori.kersey@wvgazettemail.com,', 1), ('choice,', 1), ('expressions', 1), ('stamps', 1), ('samples.', 1), ('mg.', 1), ('hammer,', 1), ('possibilities', 1), ('\"undetermined\"', 1), ('jacks', 1), ('(mafsadah)', 1), ('habit,\"', 1), ('causes,', 1), ('wife.', 1), ('make.', 1), ('dimly', 1), ('intend', 1), ('menaces', 1), ('created,\"', 1), ('drinkers,', 1), ('20-second', 1), ('relabeled', 1), ('\"bankrupt\"', 1), ('result,', 1), ('bacon', 1), ('angeles-area', 1), ('security\",', 1), ('encounter', 1), ('vape\"?', 1), ('bacterial', 1), ('20;', 1), ('smoking!', 1), ('absorbing', 1), ('microphone', 1), ('hotter,', 1), ('washington.that', 1), ('midtown', 1), ('delay,', 1), ('credentials', 1), ('documentation', 1), ('baron', 1), ('maryland-based', 1), ('ashlee', 1), ('replacements', 1), ('society),', 1), ('blake', 1), ('combustible.', 1), ('breathing!\"', 1), ('smyth', 1), ('precedence', 1), ('greenwood,', 1), ('firstunion,', 1), ('passe', 1), ('wales.', 1), ('automatic', 1), ('flagrantly', 1), ('autumn', 1), ('acknowledgement', 1), (\"'why\", 1), ('purpose.anna', 1), ('shatter.', 1), ('taxable.\"', 1), ('\"let', 1), ('appreciation.', 1), ('card', 1), ('neck', 1), ('nail,', 1), ('aa', 1), ('essentials', 1), ('mecca.', 1), ('celebrated', 1), ('849-5463', 1), ('benign\"', 1), ('criticism,', 1), ('praising', 1), ('leo', 1), ('www.blackflagvapors.com.', 1), ('confirmed.', 1), ('gospel', 1), ('salespeople', 1), ('intrusion', 1), ('$80-billion,', 1), ('island,', 1), ('cigarettes\".', 1), ('of--an', 1), (\"executive's\", 1), ('restroom', 1), ('jg@saintbeat.com;', 1), ('dragging', 1), ('tashfiq', 1), ('ballot.', 1), ('mass.,', 1), ('slave', 1), ('vinegar', 1), ('café?\"', 1), ('www.kinston.com', 1), ('\"northern', 1), ('regulator,\"', 1), ('years-plus', 1), (\"charlebois's\", 1), ('1320', 1), ('deryng,', 1), ('(ridzuan)', 1), ('mg)', 1), ('sarah,', 1), ('âeur[#x2dc]fresh', 1), ('channels,\"', 1), ('gaggle', 1), ('\"different', 1), ('mhaprov@vvdailypress.com', 1), ('scheme,', 1), ('¿juices¿', 1), ('licences,\"', 1), ('good:', 1), ('people;', 1), ('stanton', 1), ('overturn', 1), ('ridge', 1), ('truck', 1), ('harder.', 1), ('argues:', 1), (\"doctors'\", 1), ('peterborough', 1), ('convention,', 1), ('co2?\"', 1), ('holo', 1), ('watch\"', 1), ('telegraph-journal', 1), ('negeri', 1), ('incorrect,', 1), ('committing', 1), ('(based', 1), ('stance,', 1), ('tucked', 1), ('bonus,', 1), ('crusader.', 1), ('gadd,', 1), ('chickasha.', 1), ('vape-business', 1), ('hitler', 1), ('beasts.', 1), ('opportunity.\"\"', 1), ('frustrating.', 1), ('apposite.', 1), ('survive', 1), ('commented,', 1), ('embarrassed,', 1), ('february,', 1), ('retail,', 1), ('risk-free,', 1), ('purity', 1), ('martensville', 1), ('downloading', 1), ('donations.', 1), ('\"through', 1), ('feature.', 1), ('resolution.', 1), ('resolving', 1), ('002', 1), (\"walgreen's\", 1), ('digest.', 1), ('aide.', 1), ('anti-vapers', 1), ('prowess', 1), ('tobacco:', 1), ('modeled', 1), ('citizens,', 1), ('\"ready-fire-aim\"', 1), ('proposed.', 1), ('lizzie', 1), ('laryngeal', 1), ('carter', 1), ('handsome', 1), ('(again)', 1), ('lobbyist,', 1), ('vandalia', 1), ('unpurified', 1), ('smoko', 1), ('sblumberg@yorkdispatch.com', 1), ('kratom.', 1), ('altogether?', 1), ('leinenkugel', 1), ('12-month', 1), ('limited,', 1), ('defined,', 1), ('accustomed', 1), ('rmullins@tampatrib.com', 1), ('brewing', 1), ('epitaph.', 1), ('saliva', 1), ('residents,\"', 1), ('state-imposed', 1), ('morbidity,', 1), ('confuse', 1), ('willy', 1), ('unwelcome', 1), ('vapourizers,', 1), ('kynnersley', 1), ('\"currently', 1), ('cleared', 1), ('hazards.', 1), (\"abfly's\", 1), ('kicker', 1), ('walele,', 1), ('breathing,', 1), ('15--vaping', 1), ('agrees', 1), ('kettering', 1), ('autonomy.', 1), ('hagen', 1), ('laughing', 1), ('listed.', 1), ('\"users', 1), ('market,\"', 1), ('withdrawal,', 1), ('singles', 1), ('hennepin,', 1), ('toxicology.', 1), ('(pg).', 1), ('contract,\"', 1), ('debut', 1), ('arrest', 1), ('worthless', 1), ('\"but,', 1), ('renovate', 1), ('arguments,', 1), ('¨once', 1), ('couples', 1), ('psychology,', 1), ('out-there', 1), ('da/ap', 1), ('tea?', 1), ('1,500-foot', 1), ('\"enforcement', 1), ('influential', 1), ('frantically', 1), ('vapes;', 1), ('lowest-emitting', 1), ('youngster', 1), ('employment,', 1), ('broadly,', 1), ('diversionary', 1), ('want,\\'\"', 1), ('licensed.', 1), ('wine,\"', 1), ('specifically,', 1), ('equitably', 1), ('tickets', 1), (\"it'\", 1), ('stroke,', 1), ('aha.', 1), ('contention', 1), ('nicotene,\"', 1), ('volunteers.', 1), ('\"toxic\"', 1), ('cyclist', 1), ('steers', 1), (\"'deducted'\", 1), ('tar.\"', 1), ('6,924', 1), ('brunei', 1), ('decal', 1), ('shouldn\\'t.\"', 1), ('610-371-5029', 1), ('enjoy,\"', 1), ('kris', 1), ('vapory,', 1), ('bostick', 1), ('equip', 1), ('blow.', 1), ('honest.\"', 1), ('traffic-calming', 1), ('prolonged.', 1), ('bear,\"', 1), ('staffwere', 1), ('joyous', 1), ('massages.', 1), ('power.\"', 1), ('simultaneously.', 1), ('remarkable', 1), ('stripped', 1), ('valley,', 1), ('belk', 1), ('mpp', 1), ('immediately.\"', 1), ('tobacco-based', 1), ('story,', 1), ('invitation&rdquo;', 1), ('awfully', 1), ('concerted', 1), ('frightening.', 1), ('competent,', 1), (\"putin's\", 1), ('favors,\"', 1), ('age!', 1), ('view,\"', 1), ('preoccupation', 1), ('learn,', 1), (\"ukraine's\", 1), ('googled', 1), ('springettsbury', 1), ('kong,', 1), ('glamourise', 1), ('brattleboro.', 1), ('above,', 1), ('records.', 1), ('facility', 1), ('hybrid', 1), ('venera', 1), ('yakob', 1), ('heritage', 1), ('ecigology', 1), ('\"specialize[s]', 1), ('$16.', 1), ('counselling', 1), ('endeavours.', 1), ('blizzard', 1), ('hinges', 1), ('cigarettes--a', 1), ('horde', 1), ('opposite.like', 1), ('endorsers,', 1), ('belt),', 1), ('road.â', 1), ('aap', 1), ('eliminates', 1), (\"al-shari'ah).\", 1), ('hannon,', 1), ('play.', 1), ('thundered', 1), ('biscuits,', 1), ('vary,', 1), ('self-conscious', 1), ('searchers', 1), ('hlib.', 1), ('jenny', 1), ('signatory,', 1), (\"peter's\", 1), ('wagener,', 1), ('scoop', 1), ('economics,', 1), ('mehmet', 1), ('carries.', 1), ('long.\"', 1), ('clashing', 1), ('craved', 1), ('stakeholder', 1), ('submarines', 1), ('aim:', 1), ('sustainable', 1), ('fla.,', 1), ('ndp', 1), ('well-researched', 1), ('vans', 1), ('beaches,', 1), ('15,', 1), ('tolerating', 1), ('everywhere,\"', 1), ('unimaginatively', 1), ('respected.', 1), ('vendors.', 1), ('40p', 1), ('rm5', 1), ('scrutiny.', 1), ('anti-social.', 1), ('arranged,', 1), ('\"subspecies\"', 1), ('devising', 1), ('sweeping', 1), ('samuel', 1), ('caller', 1), ('knuckleheads', 1), ('occupants', 1), ('creative', 1), ('correct;', 1), ('madness', 1), ('government,\"', 1), ('ibrisim', 1), ('tap\",', 1), ('ands', 1), ('transfer', 1), ('patented', 1), ('18--as', 1), ('tailoring', 1), ('2)', 1), ('undeniable.', 1), ('next.', 1), ('anton', 1), ('register\"', 1), (\"''we're\", 1), ('chantal', 1), ('sousa', 1), ('unknowns,', 1), ('detoxing', 1), ('protectors', 1), ('idiot', 1), ('graves,', 1), ('progressed', 1), ('cards.â', 1), ('gums.', 1), ('ingests', 1), ('arsenal.', 1), ('vaporlicious', 1), ('principle,', 1), ('processing.', 1), ('separately,', 1), ('continues...', 1), ('inflexible', 1), ('hays,', 1), ('\"restrictions', 1), ('18--electronic', 1), ('avuncular', 1), ('reputation.', 1), ('watermelon?\"', 1), ('sponsorship,', 1), ('undetermined', 1), ('28),', 1), ('aficionados,', 1), ('woodbury,', 1), (\"giannis'\", 1), ('fetched?', 1), ('volume.', 1), ('adapt', 1), ('[own]', 1), ('coincided', 1), ('forward:', 1), ('stroke.', 1), ('--shaw', 1), ('draft,', 1), ('watching.', 1), ('reefer', 1), ('dwellings', 1), ('sued', 1), ('upfront', 1), ('cigalike.', 1), ('¨fairmead', 1), ('23.8%', 1), ('shortly', 1), ('knows,', 1), ('euro-regulation.', 1), ('properties,', 1), ('foresees', 1), ('stereo', 1), (\"'no\", 1), ('snook', 1), ('concerned,', 1), ('shannon', 1), ('waters.tobacco', 1), ('sceptical.', 1), ('bennett', 1), ('transition.', 1), ('available),', 1), ('armand,', 1), ('claus', 1), ('(presumably', 1), ('minors;', 1), ('factor,', 1), ('seanad.', 1), ('kilogram', 1), ('8,', 1), ('jclay@losangelesregister.com', 1), ('twentieth', 1), ('opinion?', 1), ('scantrack', 1), ('\"holds', 1), ('ideas', 1), ('pernicious.', 1), ('32,', 1), ('lauren', 1), ('siasat', 1), ('even,', 1), ('minakhmetova,', 1), ('milk,\"', 1), ('score', 1), ('proceeding', 1), ('fiore', 1), ('lmassey@thekmgroup.co.uk', 1), ('mid-vape).', 1), ('¨wroxham', 1), ('vaping.some', 1), ('malaya', 1), ('smokers:', 1), ('standardise', 1), ('heathrow', 1), ('key.', 1), ('germany,', 1), ('habitual.', 1), ('welfare.', 1), ('goldsmith', 1), ('donna', 1), ('counter-advertising.', 1), ('\"uncomfortable', 1), ('hearing.', 1), ('niles;', 1), ('lucrativeness,', 1), ('submitting', 1), ('balked', 1), ('silt', 1), ('(fl)', 1), ('expectations', 1), ('not-so-good', 1), ('one-sided,', 1), ('dates.', 1), ('apple-scented', 1), ('adamant', 1), ('bates,', 1), ('systems;', 1), ('facts.', 1), ('slid', 1), ('capitalizing', 1), ('banned,\"', 1), ('\"sharing', 1), ('petitions.', 1), ('proximity,', 1), ('-ts---l', 1), ('times).', 1), ('priced', 1), ('recording', 1), ('seasons.', 1), ('half-billion', 1), ('variously', 1), ('shooting', 1), ('afscme', 1), ('ne', 1), ('dole', 1), ('uncool.', 1), ('process.\"', 1), ('sponsoring', 1), ('filter', 1), ('15--chad', 1), ('ct', 1), ('mypalmbeachpost.com', 1), ('meet,\"', 1), ('spare', 1), ('form;', 1), ('ottawa.', 1), ('115', 1), ('discounting', 1), ('glasgow,', 1), ('colleagues,', 1), ('predictable', 1), ('\"he\\'s', 1), ('adding,', 1), ('misdemeanour', 1), ('block;', 1), ('stigmatise', 1), ('prod', 1), ('q&a', 1), ('manipal', 1), ('lincoln,', 1), ('sabri,', 1), ('legalized', 1), ('motive', 1), ('woleslagle,', 1), ('\"teenagers', 1), ('helped,', 1), ('plural', 1), ('\"flood', 1), ('thing)', 1), ('manufactured.', 1), ('spectators', 1), ('participate.', 1), ('share,', 1), ('(mafsadah),', 1), ('gerry', 1), ('after-sale', 1), ('radical', 1), ('dino', 1), ('trots', 1), ('aided', 1), ('commentary,', 1), ('elsewhere.', 1), ('bussiness', 1), ('anywhere,', 1), ('(adult)', 1), ('example.\"', 1), ('(727)201-9922;', 1), ('pains', 1), ('sons,', 1), ('$1,000', 1), ('$3.5-billion', 1), ('briandet,', 1), ('parking', 1), ('pharmacokinetic', 1), ('governed,', 1), ('beards.', 1), ('onalaska,', 1), ('lisp', 1), ('burnsville', 1), ('bystanders\".', 1), (\"kolste's\", 1), ('sanity', 1), ('cool\"?', 1), ('cigarette?', 1), ('e-liquid,\"', 1), ('\"unicorn', 1), ('hookahlike', 1), ('legally.\"', 1), ('exist,\"', 1), ('balk', 1), ('nutritional', 1), ('dee', 1), (\"death'\", 1), ('month,\"', 1), ('\"transform', 1), ('10-second', 1), ('professors,', 1), ('mckee,', 1), ('layered', 1), ('benzene', 1), ('jazz', 1), ('deadly.', 1), ('traveled', 1), ('decisively', 1), ('window.', 1), ('library@timesdispatch.com', 1), ('winter', 1), ('berry.', 1), ('storm,', 1), ('1978,', 1), ('sealed', 1), ('halloween', 1), ('unenforceable.', 1), ('needles,', 1), ('d.', 1), ('muster?', 1), ('weinstein', 1), ('exhales,', 1), ('break,', 1), ('tracking', 1), ('frontal', 1), ('fordham,', 1), ('santa-like.', 1), ('gargling', 1), ('hacks', 1), ('tutorials', 1), ('cognitive', 1), ('clips', 1), ('spokesman.', 1), ('nelson,', 1), ('£193million', 1), ('industry).', 1), ('fruit-and', 1), ('lacked', 1), ('arrangement.', 1), ('junkies', 1), ('part,', 1), ('vape\"', 1), ('slovenia', 1), ('collates', 1), (\"richard's\", 1), ('constantin', 1), ('pros:', 1), ('smoking-like', 1), ('stewart.', 1), ('pinch', 1), ('android', 1), ('manifestos', 1), ('recharge', 1), ('oncology.', 1), ('suicides', 1), ('doses.', 1), ('equation.', 1), ('northumberland', 1), ('cartoonish,', 1), ('hunted', 1), ('implementation.', 1), ('kuantan:', 1), ('kamaruzaman', 1), ('dolby', 1), ('cancer.\"', 1), ('holyrood', 1), ('malaysia.\"', 1), ('absurd.', 1), ('polosa,', 1), ('shuttleworthâ', 1), ('syarak', 1), ('heat,', 1), ('kit:', 1), ('inconsistencies', 1), ('caring', 1), ('vaperz,', 1), ('\"discouraging', 1), ('exhaling!\"', 1), ('(vaporizer)', 1), ('festivals', 1), ('caretakers', 1), ('mid-2000s,', 1), ('awful,', 1), ('\\'boss\\'\"\"', 1), ('assignee:', 1), ('self-image', 1), ('perfume', 1), ('afoot', 1), ('priority.\"', 1), ('amsden', 1), ('eldridge,', 1), ('here,\"', 1), ('recalling', 1), ('ten-year-old', 1), ('rm150', 1), ('1/100th', 1), ('planners', 1), ('reliability,', 1), ('elsewhere,\"', 1), ('voke', 1), ('natural.', 1), ('sin\".', 1), ('philosophy', 1), ('limited.', 1), (\"wolves'\", 1), ('beautifully', 1), ('luggage,', 1), ('recall,', 1), ('mints', 1), ('researched,', 1), ('alive', 1), ('league.', 1), ('prescriptions.', 1), ('brainstorming', 1), ('fast,', 1), ('mlalonde@', 1), (\"read's\", 1), ('saskatchewan.', 1), ('greens', 1), ('element.\"', 1), ('vu.', 1), ('\"manufacturers', 1), ('involved,\"', 1), ('elites', 1), ('verified', 1), ('berlin', 1), ('ominous', 1), ('(mevta),', 1), (\"vogue's\", 1), ('business--its', 1), (\"foundation's\", 1), ('kid-friendly', 1), ('vendetta', 1), ('outcomes,', 1), ('communications,', 1), ('unsuccessfully', 1), ('well,\"', 1), (\"'never'\", 1), ('disappeared.\"', 1), ('\"bus', 1), ('bypass,', 1), ('self-image,', 1), ('vaping-device', 1), ('unconvinced', 1), ('booze,', 1), ('instance,', 1), ('loud.', 1), ('---eddie', 1), ('self-murder', 1), ('devices;', 1), ('homicide,', 1), ('bartlet', 1), ('coalfields', 1), ('\"retro', 1), ('ridge,', 1), ('terengganu.', 1), ('malfunction.', 1), ('interestingly,', 1), ('mirrors.', 1), ('likens', 1), ('ploom', 1), ('male', 1), ('health.rob', 1), ('constructing', 1), ('nicoventures,', 1), ('@snjcastelluccio.', 1), ('desperados', 1), ('long-', 1), ('well.christopher', 1), ('deceptive', 1), ('taxpayer,', 1), ('denominator', 1), ('gory', 1), ('phillip', 1), ('strengthening,', 1), ('patronising', 1), ('(see?!)', 1), ('swamenathan,', 1), ('revolutionary,', 1), ('(s$650)', 1), ('muqaddamun', 1), ('\"pax\"', 1), ('knots.', 1), ('deliciousness', 1), ('no-through', 1), ('wont', 1), ('findings.)', 1), ('band.', 1), ('god-send.', 1), ('irritation.', 1), ('d-acton,', 1), ('\"very', 1), ('factors,', 1), ('narrated', 1), ('co-director', 1), (\"'minister\", 1), (\"video')\", 1), ('pop.', 1), ('(resulting', 1), ('escaped,', 1), ('stats,', 1), ('fingers', 1), ('irritant,', 1), ('brews', 1), ('custard.', 1), ('claydon,', 1), ('(woty', 1), ('all-encompassing', 1), ('(hud', 1), ('adherents', 1), (\"technology's\", 1), ('shisha,\"', 1), ('britain¿s', 1), ('phenomenon;', 1), ('nicotine-replacement', 1), ('adkison', 1), ('tamper-proof.', 1), ('pollutant', 1), ('meeting;', 1), ('idea.\"', 1), ('breached', 1), ('bandied', 1), ('\"selfie\",', 1), ('gp', 1), ('samsung', 1), ('gartner', 1), ('(alcohol,', 1), ('guava', 1), ('non-thermal', 1), ('ned,', 1), ('howstuffworks.com,', 1), (\"isn't,\", 1), ('shortfall', 1), ('relapse,', 1), ('leper', 1), ('£100', 1), ('co.,', 1), ('sniff', 1), ('vapourised', 1), ('sentiments,', 1), ('color.', 1), ('\"numbers', 1), ('times\"', 1), ('at.', 1), ('feeling,', 1), ('hobbyists', 1), ('want.\"', 1), ('888488.', 1), ('perry', 1), ('prize-winner', 1), ('renewal,', 1), ('£3.99', 1), ('abflyâ', 1), ('rules:', 1), ('unequivocal', 1), ('bird', 1), ('montreal-based', 1), ('puff,', 1), ('cool-ometers', 1), ('salleh', 1), ('empathic', 1), ('freer,', 1), ('fanaticism', 1), ('34.3', 1), ('vaprotocol?', 1), ('e-cigs:', 1), ('legislation?', 1), ('importantly', 1), ('phone,\"', 1), ('atypical', 1), ('(used', 1), (\"eisenberg's\", 1), ('\"wouldn\\'t', 1), ('¿rogues¿', 1), ('inflight', 1), ('sad.', 1), ('i.d.', 1), ('older!', 1), ('brower', 1), ('nasir,', 1), ('setups', 1), ('attacks', 1), ('voter', 1), ('durbin', 1), ('orientations', 1), ('existed.', 1), ('types,', 1), ('resistant', 1), ('comprehension.', 1), ('alphabetically', 1), ('uncertain', 1), ('choked', 1), ('restricted,', 1), ('3.', 1), ('silken', 1), ('d.c.,\"', 1), ('vamps\"', 1), ('\"category', 1), ('ltd.,', 1), ('cylinder', 1), ('2015\",', 1), ('multinational', 1), ('failure.', 1), ('grip', 1), ('\"cig-alikes.\"', 1), ('juice)', 1), ('loudly', 1), ('successful.', 1), ('bonus', 1), ('60-day', 1), ('artigiano', 1), ('kill,', 1), ('\"definitely', 1), ('lowriders', 1), ('\"selfie\"', 1), ('ever-growing', 1), ('synonymous.', 1), ('misconception', 1), ('driveway,\"', 1), ('isolation', 1), ('enjoyable,', 1), ('butane', 1), (\"life.'\", 1), ('pirated', 1), ('wolfe.', 1), ('edging', 1), ('stand-still', 1), (\"'yucky\", 1), ('alleys,', 1), ('prostitution.', 1), ('cohen', 1), ('booze:', 1), ('porn\"', 1), ('(visit', 1), ('(many', 1), ('81%', 1), ('\"local', 1), ('pictorial', 1), ('amass', 1), ('entries', 1), ('curtain', 1), ('(syndigate.info).', 1), ('¿there', 1), ('ludicrously', 1), ('worse:', 1), ('q&a@ajc.com', 1), ('009', 1), ('(813)', 1), (\"'what\", 1), ('happens,\"', 1), ('well?', 1), ('pre-market', 1), ('190', 1), (\"alternative'\", 1), ('2per', 1), ('allowable', 1), ('animosity', 1), ('brittney', 1), ('ln2', 1), ('thrilled', 1), ('fluids.', 1), ('self-replicate,', 1), ('inhale)', 1), ('citizens;', 1), ('$186,500', 1), ('infection,', 1), ('veiled', 1), ('convenience/petroleum', 1), ('integrating', 1), ('initiation', 1), ('knee', 1), ('medication?-', 1), ('ce6', 1), ('instructions', 1), (\"committee's\", 1), ('bankruptcy,', 1), ('version.', 1), ('family\",', 1), ('captive', 1), ('concentration.', 1), ('intense', 1), ('jose', 1), ('injured.', 1), ('rejoiced', 1), ('\"we\",', 1), ('beers', 1), ('solicited', 1), ('christian.mccashin', 1), ('similarly,', 1), ('remembers', 1), ('21,\"', 1), ('moldy', 1), ('demanded', 1), ('number,\"', 1), ('technician.', 1), ('bacall', 1), ('rubberized', 1), ('reasonably,', 1), ('\"(they)', 1), ('patience', 1), ('liquori', 1), ('contradicts', 1), ('molasses', 1), ('street?', 1), ('fug', 1), ('2011-2012', 1), ('pomatia.â', 1), ('compulsive', 1), ('trump', 1), ('forecasts', 1), ('session,', 1), ('caramelised', 1), ('anonymous,', 1), (\"competitor's\", 1), ('\"nine', 1), ('solidarity.', 1), ('brunswick.', 1), ('governor', 1), ('requires.', 1), ('36,000', 1), ('neurochemical', 1), ('paternalistic', 1), ('osu', 1), ('school.\"', 1), ('warwickshire,', 1), ('\"safe,\"', 1), ('like-minded', 1), ('harmreduction', 1), ('e-cigarette-related', 1), ('inhabited', 1), ('moderate.\"', 1), ('¨membership', 1), ('mine.some', 1), ('fiercely.', 1), ('compromise.', 1), ('$10billion', 1), ('smoke)', 1), ('second-biggest', 1), ('chautauqua,', 1), ('culture-a', 1), ('says.health', 1), ('phones', 1), ('duke,', 1), ('dangers:', 1), ('applauding', 1), ('gazette-mail', 1), ('millennials.', 1), ('openly', 1), ('04--the', 1), ('agendas', 1), ('concerts.', 1), ('(placebo)', 1), ('rapt', 1), ('scolded', 1), ('relief\"', 1), ('middlesbrough', 1), ('436', 1), ('seizures,', 1), ('ammon-based,', 1), ('herts', 1), ('leigh', 1), ('shockingly', 1), ('tap,', 1), ('metre', 1), ('18-and-older', 1), ('non-vapour', 1), ('organisations.', 1), ('consignments', 1), ('pharmacology', 1), ('blessed', 1), ('brazil,', 1), (\"students'\", 1), ('populations,', 1), ('rip', 1), ('q.my', 1), ('advocator', 1), ('retains', 1), ('offence.', 1), ('up-tothe-minute', 1), ('grain)', 1), ('expos.', 1), ('m.d.', 1), ('www.railfuture.org.uk/article1545-paving-over-tracks.', 1), ('enthusiasts.', 1), ('involved,', 1), ('yusof', 1), ('unsure', 1), ('saturation', 1), ('hemsleyâ', 1), ('(lab)', 1), ('accent.', 1), ('strong,', 1), ('way?', 1), ('cursed', 1), ('worksites.', 1), ('for;', 1), ('\"sporadic\"', 1), ('$31.03', 1), ('acquainted', 1), ('unenforceable,\"', 1), ('selfish', 1), ('\"reasons\"', 1), ('disclose', 1), ('markers', 1), ('ranked', 1), ('beastro', 1), ('affairs.', 1), ('discounts', 1), ('replacements.', 1), ('standby', 1), ('overnight,\"', 1), ('jackson,', 1), ('persinger', 1), ('seems,', 1), ('electrically', 1), ('gazette,', 1), ('1645,', 1), ('reacts', 1), ('14-year-old', 1), ('spa.', 1), ('fire\"', 1), ('department.\"', 1), ('statute', 1), ('alarmist.', 1), ('publication,', 1), ('seconds', 1), ('findings:', 1), ('logo-and', 1), ('saskpower', 1), ('plants', 1), ('(fredericton)', 1), ('\"absolute', 1), ('(\"how', 1), ('romantic', 1), ('trevor', 1), ('products.&rdquo;', 1), ('available\".', 1), ('\"tobacco,\"', 1), ('generation,', 1), ('freed', 1), (\"'no,\", 1), ('bodegas', 1), ('dependent-forming.', 1), ('muscle.', 1), ('officers.', 1), ('lessen', 1), ('(iais),', 1), ('halve', 1), ('ahrens,', 1), ('grain', 1), ('blunt,', 1), ('unwanted', 1), ('extinguish', 1), ('rm200,', 1), ('crowd', 1), ('derik', 1), ('easy?nick', 1), ('jamini', 1), ('exploitation', 1), ('garnering', 1), ('fills', 1), ('contradictory', 1), ('alyson', 1), ('unassisted', 1), ('curren', 1), ('flexible', 1), (\"cdc's\", 1), ('concurs.', 1), ('essence', 1), ('2pm.', 1), ('input,', 1), ('barrage', 1), ('mp,', 1), ('amused', 1), ('¨there', 1), ('healthier,', 1), ('effects),', 1), ('eighth', 1), ('atlanta', 1), (\"''let's\", 1), ('ahead?', 1), ('purview.', 1), (\"regulation.'\", 1), ('murphy', 1), ('easy.', 1), ('sembilan)', 1), ('free.\"', 1), (\"leicester's\", 1), ('hapless', 1), ('in-flight', 1), ('euro', 1), ('education,', 1), ('gigatons', 1), ('kiwi', 1), ('kennedy', 1), ('salesman', 1), ('\"have', 1), ('\"sometimes', 1), ('stream,', 1), ('barlet,', 1), ('density', 1), ('load', 1), ('constitutes', 1), ('narrowly', 1), ('probable', 1), ('multicultural', 1), ('pit\"', 1), ('grounds.\"', 1), ('angrily', 1), ('first-degree', 1), (\"still's\", 1), ('haron', 1), ('sheran,', 1), ('\"wick,', 1), ('family.', 1), ('springs,', 1), ('misused', 1), ('kuwait,', 1), ('thinking.â', 1), ('-go', 1), ('interrelationship', 1), ('watch,\"', 1), ('jams,', 1), ('channelled', 1), ('ridding', 1), ('paula', 1), ('condense', 1), ('roasters', 1), ('industryâ', 1), ('alleviated', 1), (\"'by\", 1), ('wildlife', 1), (\"believe.'\", 1), ('standardising', 1), ('(hence', 1), ('flavourless', 1), ('commercials,', 1), ('(um,', 1), ('appointment.', 1), ('liquids).', 1), ('\"five', 1), (\"nhs's\", 1), ('tart.', 1), ('audiences', 1), ('sticks\".', 1), ('¨abbey', 1), ('\"contraband\".', 1), ('karyn', 1), ('droplets', 1), ('circus', 1), ('started,', 1), ('esoteric', 1), ('behalf.', 1), ('(otcbb:ecig),', 1), ('a23.councellor', 1), ('voter-initiated', 1), ('property-tax', 1), ('opinion\"', 1), ('needed,\"', 1), ('officers,', 1), ('eminently', 1), ('joburg', 1), ('pocket,\"', 1), ('new-found', 1), ('mods.', 1), ('mckeen,', 1), ('2000.', 1), ('should.', 1), ('quadrant.', 1), ('scofflaws', 1), ('jd', 1), ('replacement\"', 1), ('aeroplanes', 1), ('sixfold', 1), ('reads', 1), ('us?â', 1), ('from?â', 1), ('chewed', 1), ('phenomenal.\"', 1), ('stings', 1), ('use).', 1), ('inhalator,', 1), ('$149.95.', 1), ('\"star', 1), ('beard?', 1), ('conditions,', 1), (\"'doctors\", 1), ('toledo', 1), ('soldiers', 1), ('flat-screen', 1), ('travellers', 1), ('\"cautious', 1), ('culprit', 1), ('hoodwinked', 1), ('suspended,', 1), (\"devils'.\", 1), ('greenways', 1), ('them:', 1), ('obnoxious', 1), ('twin', 1), ('mashael,', 1), ('ky.a:', 1), ('mantras', 1), ('east,', 1), ('(e', 1), ('@lexdisptachsm', 1), ('stakeholders,', 1), ('gadgets.', 1), ('watermelon-flavored', 1), ('gadd', 1), ('bottle,', 1), ('epidemiology', 1), ('uncle', 1), ('\"bricks', 1), ('extent.', 1), ('(peace', 1), ('failing.', 1), ('brewers.', 1), (\"men's\", 1), ('whiteâ', 1), ('\"re-normalise\"', 1), ('possessing', 1), ('$230,000', 1), ('discerning', 1), ('abstract:', 1), ('1989).', 1), ('redoubling', 1), ('vip.', 1), ('spectrum', 1), ('legitimacy', 1), ('government&rsquo;s', 1), ('borders', 1), ('critiques', 1), ('toronto,', 1), ('illicit', 1), ('ventilator,', 1), ('legislate.', 1), ('they?', 1), ('deposited', 1), ('woty.', 1), ('atty.', 1), ('pavilions.', 1), ('opinion.', 1), ('jacob.denobel@carrollcountytimes.com', 1), ('milligrams,\"', 1), ('f.d.a.,', 1), ('perfumed', 1), ('duplication', 1), ('split.', 1), ('poster', 1), ('pass.', 1), ('pneumonia.', 1), ('considering,', 1), ('class.', 1), ('hailed', 1), ('lights\",', 1), (\"montreal's\", 1), ('£17.99', 1), ('interstate', 1), ('(labour,', 1), ('\"smoked\"', 1), ('continued.', 1), ('madd', 1), ('story:', 1), ('(dg)', 1), ('preservatives', 1), ('grounds.', 1), ('offa', 1), ('violation,', 1), ('laid', 1), ('2000s.', 1), ('cereal,', 1), (\"student's\", 1), ('end,\"', 1), ('jersey-based', 1), ('shaven', 1), ('evods.', 1), ('542-6757.', 1), ('challenged,', 1), ('cheswick', 1), ('grammar', 1), ('articulated', 1), ('recorded', 1), ('ahead.', 1), ('rebutted', 1), ('drexel', 1), ('kilgore.', 1), ('wine.', 1), ('rank', 1), ('payments', 1), ('\"additionally,', 1), ('waters', 1), ('juniors', 1), ('brother-in-law', 1), ('maryland.', 1), ('advertising.\"', 1), ('autonomy', 1), ('(dual', 1), ('(healthy', 1), ('jerantut:', 1), (\"''all\", 1), ('superhighways', 1), ('glycerine)', 1), ('disarmament,', 1), ('removes', 1), ('yoong', 1), ('mockery', 1), ('\"sort', 1), (\"mclain's\", 1), ('retribution,', 1), ('11%', 1), ('infant', 1), ('228', 1), ('service\"', 1), ('buchanan;', 1), ('eat.', 1), ('vcs', 1), ('sweet-tasting', 1), ('located.', 1), ('minds,\"', 1), ('ceased', 1), ('disarmer', 1), ('glazing', 1), ('merchandiser', 1), ('november.', 1), ('waterside', 1), ('lead?', 1), ('listicle:', 1), ('projections', 1), ('\"standstill\"', 1), ('oft-cited', 1), ('galaxy?', 1), ('vapementors,', 1), ('reason,', 1), ('arguments.', 1), ('lawrenceville', 1), ('&ldquo;offerman', 1), ('roads.', 1), ('australia]', 1), ('relapse', 1), ('problems:', 1), ('quebec,', 1), ('kelley', 1), ('wilkerson', 1), ('&ldquo;lit', 1), ('sweet-flavored', 1), ('away,\"', 1), ('if.\"', 1), ('fda-regulated', 1), ('flavor).', 1), ('enfolding', 1), ('(10.1%).', 1), ('pleasure,', 1), ('ipoh,', 1), ('victorian', 1), ('thoughtful', 1), ('borders.', 1), ('classes,\"', 1), ('donation.', 1), ('decided,', 1), ('higgins', 1), ('fad?', 1), ('(aes),', 1), ('nicotinated', 1), ('0.6', 1), ('pack.\"', 1), ('desktop', 1), ('opined.', 1), ('cleanest', 1), ('significant,', 1), (\"cnd's\", 1), ('predicts', 1), ('already.', 1), ('inspire', 1), ('utilities.', 1), ('(moncton)', 1), ('announces.', 1), ('dance', 1), ('allard,', 1), ('shanghai.', 1), ('vapourizing', 1), (\"not?''\", 1), ('language,', 1), ('europeans', 1), ('debauched', 1), ('replaced.', 1), ('restored,', 1), ('reanette', 1), ('inherently', 1), ('environments.\"', 1), ('petitions', 1), ('pen-shaped', 1), (\"control's\", 1), ('switch?', 1), ('\"oh,', 1), ('340', 1), ('talk.', 1), ('\"\"there', 1), ('singapore.', 1), ('innuendos.', 1), ('check.', 1), ('admit,', 1), ('cafe.', 1), ('holder', 1), ('locale', 1), ('clearly-defined', 1), ('griffiths', 1), ('aspirin', 1), ('\"health', 1), ('lenoir', 1), ('\"number', 1), ('lavelle', 1), ('kilkenny', 1), (\"'e-liquid'.\", 1), ('trevor,', 1), ('radios', 1), ('scourge', 1), ('cigarette.you', 1), ('ayr.', 1), (\"may's\", 1), ('mg).', 1), ('amended,', 1), ('causeway', 1), ('minneapolis', 1), ('khalid', 1), ('said.and', 1), ('malls.', 1), ('\"currently,', 1), ('www.thebrunswicknews.com', 1), ('three-piece', 1), ('\"they\\'ve', 1), ('educates', 1), ('chasing\"', 1), ('(us$114.37', 1), ('trippers,', 1), ('wang-rodrique,', 1), ('non-insurance', 1), ('prisons', 1), ('derzic', 1), ('afford', 1), ('¨rail', 1), ('italy.', 1), ('rates]', 1), ('\"peer', 1), ('example?', 1), ('presidential', 1), ('d.j.', 1), ('360-397-2550', 1), ('littered', 1), ('x-rays', 1), ('attention.also,', 1), ('evening,', 1), ('greenlee,', 1), ('fingers.', 1), ('pre-term', 1), ('clean-air', 1), ('consistency.', 1), ('news?', 1), ('vanilla-and-rhubarb-scented', 1), ('activist.', 1), ('agree.', 1), ('related.', 1), ('(atomiser),', 1), ('real.\"', 1), ('possibility.', 1), ('480k', 1), ('230', 1), ('cheshire,', 1), ('colourful', 1), ('autopsy.\"', 1), ('broad.', 1), ('(3.0', 1), ('www.theccf.ca).', 1), ('catered', 1), ('puffed', 1), ('jedi', 1), ('categorising', 1), ('sense.j', 1), ('foodborne', 1), ('moment.â', 1), ('perak', 1), ('(preventing', 1), ('coffers', 1), ('embark', 1), ('power-hungry', 1), ('tami', 1), ('sells.', 1), ('wisbech,', 1), ('caps,', 1), ('armed', 1), ('nicolas', 1), ('\"pen-like\",', 1), ('\"spinners\"', 1), (\"walgreens'\", 1), ('mistakes', 1), ('overwhelming,', 1), ('perseverance,', 1), ('tapping', 1), ('seals', 1), ('dogs,', 1), ('cartridge\".', 1), (\"outward,''\", 1), ('springs', 1), ('\"e-cigarettes\"', 1), ('swathes', 1), ('friendships', 1), ('maturity', 1), ('change.\"', 1), ('flights,', 1), ('ingested,', 1), ('1?', 1), ('adventure', 1), ('huq,', 1), ('engineer', 1), ('box', 1), ('syarafi', 1), ('head.', 1), ('back:', 1), ('obvious.', 1), ('depended', 1), ('arthur,', 1), ('retana,', 1), ('dyed-in-the-wool', 1), ('transitionary.', 1), ('gravitate', 1), ('poof,', 1), ('bullet-resistant', 1), ('surveying', 1), ('[teenagers]', 1), ('22--schuylkill', 1), ('disgrace.\"', 1), ('toting', 1), ('(uf)', 1), ('prone', 1), ('proxy.', 1), ('pronouncements', 1), ('h.', 1), ('selby.', 1), ('vaping/smoking', 1), ('19.', 1), ('(euro)1.2bn', 1), ('20-to-30-year-old', 1), ('kerbsides.', 1), ('self-righteous', 1), ('hesitance', 1), ('tourists,', 1), ('acquaintances', 1), ('exectuive', 1), ('chadia', 1), ('relapses', 1), ('montano', 1), ('persekutuan,', 1), ('51-50,', 1), ('llewellyn,', 1), ('asleep', 1), (\"fool's\", 1), ('moves.', 1), ('tvs,\"', 1), ('ladkison@thebrunswicknews.com', 1), (\"mill's\", 1), (\"'moo\", 1), ('upgrades', 1), ('(silk', 1), ('¨no', 1), ('hathaway,', 1), ('conclude:', 1), ('anti-smokers', 1), ('(ics),', 1), ('voudris,', 1), ('biased.', 1), ('solace', 1), ('shopped', 1), ('hookahs.', 1), ('hirsch', 1), ('252-686-5014.', 1), ('wikipedia,', 1), ('slim.', 1), ('hallways.', 1), ('oscar', 1), ('outraged', 1), ('cocheran', 1), ('token', 1), ('small-time', 1), ('canberra,', 1), ('mod-rebuilding', 1), ('convenor', 1), ('\"congratulations', 1), ('lengthy,', 1), ('(vaporise)', 1), ('\"anxious', 1), ('treatment,', 1), ('mixed,', 1), ('gray,', 1), ('garrick,', 1), ('overheating.', 1), ('lorillard,', 1), ('\"rushed\",', 1), ('petty', 1), ('$4-billion,', 1), ('finalized.', 1), ('recall\"', 1), ('ecigarettedir-ect,', 1), ('weetabix', 1), ('sustained', 1), ('one-half', 1), ('pumps?', 1), ('us$1.6', 1), ('e-cigarettes;', 1), ('playbook.\"', 1), ('counselling.', 1), ('mid-november.', 1), ('throat-hitting', 1), ('limit.', 1), ('disregard', 1), ('clash', 1), ('desirable', 1), ('legislator', 1), ('\"social', 1), ('customerservice@mister-e-liquid.com', 1), ('talented', 1), ('schools;', 1), ('infringe', 1), ('commonplace.', 1), ('reynolds.', 1), ('flavorless', 1), ('element,', 1), ('6,000', 1), ('services,\"', 1), ('(formaldehyde)', 1), ('face,\"', 1), ('that!', 1), ('amounts.', 1), ('percentages.', 1), ('brahmanbaria,', 1), ('diary,', 1), ('atmosphere.\"', 1), ('cashed', 1), ('non-cancer', 1), ('taps', 1), ('viruses', 1), ('irks', 1), ('lick', 1), ('advertising,\"', 1), ('put,', 1), ('skeptically', 1), ('rm380,000', 1), ('zone\"', 1), ('video,', 1), ('purposefully', 1), ('daniel', 1), ('versions.', 1), ('overground', 1), ('expect,', 1), ('slo-mo', 1), ('hours,', 1), ('unwelcomed,', 1), ('grade).', 1), ('gimmicky', 1), ('ludicrous', 1), ('(mhra)', 1), ('cabin', 1), ('into,\"', 1), ('materials.', 1), ('else.', 1), ('sacha', 1), ('webster,', 1), ('strategy,\"', 1), ('2013-14', 1), (\"scott's\", 1), ('status,', 1), ('cigarette-addicted', 1), ('furniture', 1), ('moore', 1), ('cave', 1), ('province.\"', 1), ('affair', 1), ('household,', 1), ('op-ed.', 1), ('virgin', 1), ('house-bound', 1), ('customised', 1), ('regs', 1), ('vapefest.com', 1), ('vessels', 1), ('infinitely', 1), (\"taxpayer's\", 1), ('friendly\"', 1), ('\"discharge', 1), ('announcement.', 1), ('swoop', 1), ('nonsmokes!\",', 1), ('gold', 1), ('abounded,', 1), ('wear', 1), ('butt-strewn', 1), ('afforded', 1), ('dietary', 1), ('reading.', 1), ('true,\"', 1), ('culture\".', 1), ('family-based', 1), ('encountering', 1), ('requirements.', 1), ('tasty', 1), ('movements,', 1), ('convenient', 1), ('bears', 1), ('maier,', 1), ('retro,', 1), ('weaning,', 1), ('suggestions', 1), ('al-daraquni).', 1), ('invaded', 1), ('shopkeeper', 1), ('process?', 1), ('$1.60-per-pack', 1), ('superlative', 1), ('walmart,', 1), ('straw', 1), ('markings', 1), ('sales.\"', 1), ('norman.', 1), ('furniture.', 1), ('035.', 1), ('racism', 1), ('roasting', 1), ('brightly', 1), ('thor', 1), ('persuasive', 1), ('cozy,', 1), ('sungai', 1), ('fracking!)', 1), ('either,\"', 1), ('scale\"', 1), ('tipping', 1), ('recognises', 1), ('cap,\"', 1), ('micheal', 1), ('\"step', 1), ('wheezing,\"', 1), (\"williams'\", 1), ('sugar,', 1), ('courteous', 1), ('awareness.', 1), ('blooms', 1), ('chinese-produced', 1), ('best,\"', 1), ('packaging--some', 1), ('licensing,\"', 1), ('emphasizing', 1), ('magazine', 1), ('garman,', 1), ('specializes', 1), ('cautions.', 1), ('realised', 1), ('chabot', 1), ('er', 1), ('happier.', 1), (\"dibben's\", 1), ('buyers,', 1), ('register.', 1), ('172).', 1), ('gorman.', 1), ('unsafe.', 1), ('butts,', 1), ('contents,', 1), ('286,000', 1), ('expression.', 1), ('emily.â', 1), ('instance', 1), ('welcome.\"', 1), ('server', 1), ('$2.25', 1), ('llp.', 1), ('mouths', 1), ('www.clark.wa.gov', 1), ('(california),', 1), ('requested', 1), ('(liquid', 1), ('run-out.', 1), ('considerate.', 1), (\"''if\", 1), ('pure,\"', 1), ('11.25', 1), ('furious.', 1), ('switchel.', 1), ('carol', 1), ('person,\"', 1), ('sipping', 1), ('junkies\"', 1), ('vocal', 1), ('tract', 1), ('onslaught', 1), ('manmade', 1), ('testosterone.more', 1), ('unwelcomed', 1), ('options,', 1), ('streamlined', 1), ('nearby,', 1), ('precautions', 1), (\"normalised'\", 1), ('gun', 1), ('sake.', 1), ('\"negative', 1), ('lutman,', 1), ('china-made', 1), ('melancholy', 1), ('raul', 1), ('greet', 1), ('cloud,', 1), ('artisan.', 1), ('optimistic', 1), ('6th', 1), ('honorable.', 1), ('blighted', 1), ('07--chickasha', 1), ('smooth,', 1), ('morality.', 1), ('strand,', 1), ('sober.', 1), (\"administration's\", 1), ('stemming', 1), ('busier.', 1), ('¿thank', 1), ('cambra', 1), ('realised,', 1), ('matters,', 1), ('peppermint', 1), ('fragrant', 1), ('modsâ', 1), ('children?', 1), ('halverson,', 1), ('settlements,', 1), ('embalming', 1), ('whiskey', 1), ('\"safer\"', 1), ('down?\"', 1), ('r&d', 1), (\"further?'\", 1), ('17.6', 1), ('concourse,', 1), ('protections', 1), ('.40-caliber', 1), ('cornea,', 1), (\"2011.'\", 1), ('crashed.\"', 1), ('hardcore,', 1), ('k-12', 1), ('steam-punk-style', 1), ('change,\"', 1), ('incidence', 1), ('tacitus:', 1), ('history.james', 1), ('funner', 1), ('(\"kure\")', 1), (\"texas'\", 1), ('endless.\"', 1), ('executives', 1), ('¨with', 1), ('surface,', 1), ('traced', 1), ('1995', 1), ('subvert', 1), ('flavour,', 1), ('holidays,', 1), ('it/transportation.', 1), ('alejandro', 1), ('frames', 1), ('hair.', 1), ('world\".', 1), ('promotion,', 1), ('city),', 1), ('disobeying', 1), ('page.', 1), (\"north's\", 1), ('post-2017', 1), ('-a', 1), ('ce9,', 1), ('weakness', 1), ('babe)', 1), ('it¿ll', 1), ('hears', 1), ('swapping', 1), ('shop!', 1), ('michael;', 1), ('questionnaires,', 1), ('unproven', 1), ('deaf', 1), ('gopal', 1), ('state\"', 1), ('florence', 1), ('evict', 1), ('marshaled', 1), ('missiles,', 1), ('armand', 1), ('cop6)', 1), ('lancashire,', 1), ('markabley@sympatico.ca', 1), ('dilworth', 1), ('napsbury', 1), ('bloodstream.', 1), ('66-year-old', 1), ('\"lycra', 1), ('iphone', 1), ('aderfel@montrealgazette.com', 1), ('illnesses.', 1), ('prelude', 1), ('phones,\"', 1), ('zeros', 1), ('9pm', 1), ('constituent', 1), ('transgressions.', 1), ('pumpkin', 1), ('experiments.', 1), ('2019', 1), ('calgarians', 1), ('prather', 1), ('60-ml', 1), ('aylesbury', 1), ('personified', 1), ('signals', 1), ('burn,', 1), ('huge,', 1), ('emulate', 1), ('pose.', 1), ('jcastelluccio@salemnews.com', 1), ('debated.', 1), ('istana', 1), ('remark,', 1), ('gil', 1), ('thrive:', 1), ('likely,', 1), ('parton', 1), ('vehicle,', 1), ('ruinous', 1), ('plans.', 1), ('r-cambridge.', 1), ('mandates', 1), ('society.dr', 1), ('igo', 1), ('15--we', 1), ('architects', 1), ('2012.\"it', 1), ('www.elkharttruth.com', 1), ('defends', 1), ('delightful', 1), ('lik', 1), ('co-sponsors', 1), ('zainuddin,', 1), ('with]', 1), (\"hq's\", 1), ('tenth', 1), ('twentysomethings', 1), ('pathetic.peter', 1), ('304-343-2049.', 1), ('robbing', 1), ('monopoly', 1), ('blackrock,', 1), ('between.\"', 1), ('nordin.', 1), ('incident,', 1), (\"sph's\", 1), ('hotline', 1), ('dahaven', 1), ('rhetoric', 1), ('\"open,\"', 1), ('ratnawati', 1), ('westin', 1), ('treaty', 1), ('lc', 1), ('\"mild\"', 1), ('opportunities\"', 1), ('matches', 1), ('\"don', 1), ('pediatrics', 1), ('initials', 1), ('crane,', 1), ('long-awaited', 1), ('mistake', 1), ('parenting,', 1), ('simeon', 1), ('favourite:', 1), ('please.\"', 1), ('stars', 1), ('bandy', 1), ('congressional', 1), ('body.â', 1), ('ever,', 1), ('pre-emption', 1), ('smarty-pants', 1), ('2001,', 1), ('clouds,', 1), ('shift.\"', 1), ('\"cloud\"', 1), ('lived,', 1), ('nationally', 1), (\"pahang's\", 1), ('spot.', 1), ('\"consistency', 1), ('crunch', 1), ('pales', 1), ('sharon.myers@the-dispatch.com', 1), ('xavier', 1), ('lob', 1), ('eisenberg', 1), ('double-dose', 1), ('victory\".', 1), ('to),', 1), ('1.1million', 1), ('newsroom', 1), ('marvin', 1), ('shoppe', 1), (\"couldn't.\", 1), ('re-open', 1), ('purplebox,', 1), ('limbo', 1), ('suggest\"', 1), ('layer', 1), ('dangers.', 1), ('zanetti.', 1), ('kirsty', 1), ('cream.', 1), ('$6;', 1), ('skeptical,\"', 1), ('muhd', 1), ('public-health/community/tobaccofree/', 1), ('bar/restaurant', 1), ('champagne-popping', 1), ('creative.\"', 1), ('walgreens,\"', 1), ('@journalizzie', 1), ('ringing', 1), ('blacklaw,', 1), ('cinnamon\"', 1), ('purify', 1), ('eighty', 1), ('nicotineinfused', 1), ('florentzidis', 1), ('busway', 1), ('help.q:', 1), ('caffeine.', 1), ('bewilderingly', 1), ('cadging', 1), ('haven', 1), ('eluded', 1), ('syringe,', 1), ('tablet', 1), ('se16', 1), ('perspectives', 1), ('odourless,', 1), ('\"ontario\\'s', 1), ('disease-producing', 1), ('worcester,', 1), ('discipline,', 1), ('smuggling', 1), ('rubbish', 1), ('i-medik', 1), ('engaged.', 1), ('feeds', 1), ('germany.', 1), ('\"regulating', 1), ('footsteps', 1), ('react.', 1), ('\"friendliest', 1), ('quran.', 1), ('hard.', 1), ('understand.', 1), ('purbrook', 1), ('erosion', 1), ('declarations', 1), ('ext,', 1), ('worksites,', 1), ('campaigning', 1), ('kool', 1), ('regain', 1), ('day),', 1), ('behavioural,', 1), ('24,000', 1), ('superbugs,', 1), ('citizens.', 1), ('uncertain,', 1), ('ap', 1), ('setup:', 1), ('exemplary', 1), ('workers,', 1), ('271', 1), ('leshure', 1), ('herbert', 1), ('lobbying,', 1), ('barrier', 1), ('afternoon.', 1), ('bent', 1), ('dundalk', 1), ('neurological', 1), ('\"advising', 1), ('efficiency.', 1), ('\"hustler,\"', 1), ('shandy.', 1), ('categories;', 1), ('wrap', 1), ('october.', 1), ('n.y.a:', 1), ('connections.', 1), ('teaches', 1), ('impaired', 1), ('alcohol,', 1), ('$5.50', 1), ('firm,', 1), ('meaning,', 1), ('figueroa,', 1), ('stocked', 1), ('holguin', 1), ('hyper', 1), ('left,', 1), ('(\"e-juice\",', 1), (\"group's\", 1), ('(most', 1), ('(given', 1), ('cigalike,', 1), ('\"regulation.\"', 1), ('1989),', 1), ('embarrassing', 1), ('medical-grade', 1), ('adults.but', 1), ('troubled\"', 1), ('ce', 1), ('booster', 1), ('vapourproducing', 1), ('vaporhaus', 1), ('dominate', 1), ('re-normalise', 1), ('27th', 1), ('\"dar\\'ul', 1), ('¨then', 1), ('legislated),', 1), ('acetone,', 1), ('saves,', 1), ('quarters.', 1), ('[tobacco]', 1), ('desks', 1), ('decisions.', 1), ('george.', 1), ('charlebois,', 1), ('moss,', 1), ('cigalikes.', 1), ('harm?\"', 1), ('linguistics.', 1), ('gonzález', 1), ('(here)\"', 1), ('asks.', 1), ('flatirons', 1), ('sweaty', 1), ('agreed,', 1), ('rules.\"', 1), (\"'wow,\", 1), ('offices,\"', 1), ('nicotene', 1), (\"there'\", 1), ('20150080053', 1), ('peace-at-any-price', 1), ('drying', 1), ('huge.\"', 1), ('sand', 1), ('narratives', 1), ('sanctioned', 1), ('lately', 1), ('irene', 1), ('www.safetyreporting.hhs.gov/', 1), ('samsul,', 1), ('low-concentration', 1), ('mojo', 1), ('folk', 1), ('sweet,', 1), ('administrator.', 1), ('304-348-1232', 1), ('longer-lasting', 1), ('young?', 1), ('service.â', 1), ('3.3', 1), ('#7.3million', 1), ('etiquette', 1), ('easy-to-access', 1), ('characteristics', 1), ('wisely', 1), ('said.finally,', 1), ('rein', 1), ('dispensers', 1), ('3-to-2', 1), ('20mg.', 1), ('quicker', 1), ('punitive', 1), ('lighters', 1), (\"e-go's,\", 1), ('1.3million', 1), ('tinkering.', 1), ('thread', 1), ('quit-smoking', 1), ('notified', 1), ('ringgit.', 1), ('minnesota,\"', 1), ('11per', 1), ('crossing,', 1), ('www.vvdailypress.com', 1), ('decidedly', 1), ('healthy.\"', 1), ('hazard', 1), ('yussof', 1), ('pm.', 1), ('tv,', 1), ('expanding:', 1), ('naim', 1), ('pregnant,', 1), ('jimmy', 1), ('corbyn', 1), (\"iñárritu's\", 1), ('bombs', 1), ('agreements', 1), ('feb', 1), ('http://imgs.syndigate.info/28/44/28/145120640324.jpg', 1), ('goshen', 1), ('rubyv.', 1), ('cabinets.', 1), (\"former's\", 1), ('clinton,', 1), ('30--leanna', 1), ('whatever,', 1), ('centric', 1), ('nonsmokers,\"', 1), ('unforeseen', 1), ('0%,', 1), ('limits.', 1), ('pall', 1), ('susan.p.kadar@wv.gov', 1), ('jacks.', 1), ('\"yeah,', 1), ('mainstreet.', 1), ('phone\".', 1), ('25--as', 1), ('pill', 1), ('shasta', 1), ('randy', 1), ('in-flight.', 1), ('usb-charged', 1), ('themselves.\"', 1), ('creep', 1), ('gloves', 1), ('earning', 1), ('radio,', 1), ('\"nhs', 1), ('e-cigaette', 1), ('7-eleven', 1), ('dinner,\"', 1), ('stuff,', 1), ('window&rdquo;', 1), ('719', 1), ('convinced?', 1), ('inhale.the', 1), ('seizure.', 1), ('housing?', 1), ('blue!).', 1), ('overdoses', 1), ('monster', 1), ('mangrove', 1), ('jama', 1), ('science-based', 1), ('wars', 1), ('transit;', 1), ('radioactive', 1), ('demonstrated,', 1), ('lecturers', 1), ('ciccarello;', 1), ('\"healthy\"', 1), ('sarah', 1), ('downtown,', 1), (\"case'\", 1), ('4)', 1), ('mercury.', 1), ('(npis).', 1), ('¨to', 1), ('shocked', 1), ('variable-wattage', 1), ('2029,', 1), ('lawmaker.', 1), ('yelp', 1), ('majah', 1), ('(ends),', 1), ('forbidden.', 1), ('240', 1), ('oft-uttered', 1), ('henning,', 1), ('enemies,', 1), ('caustic', 1), ('carolan', 1), ('villain', 1), ('malfunction', 1), ('delphine', 1), ('recognize,', 1), ('justified.', 1), ('enlightened', 1), ('illness,', 1), ('hiding', 1), ('@margaretfishr.', 1), ('analyst,', 1), ('\"5-tar\"', 1), ('parent-teacher', 1), ('stylized', 1), ('safer,', 1), ('parts:', 1), ('build-up', 1), ('johoreans', 1), ('workloads', 1), ('06--mirroring', 1), ('republic', 1), ('clearest', 1), ('miracle', 1), ('shedding', 1), ('names,', 1), ('young,\"', 1), ('organisation-led', 1), ('advertised.', 1), ('considered,\"', 1), ('not?', 1), ('coil.', 1), (\"''oklahoma\", 1), ('flames.', 1), ('verify', 1), ('marshall', 1), ('head.\"', 1), ('pregnancy,', 1), ('functionable.', 1), ('-dr.', 1), ('kathy', 1), ('pahs,', 1), ('succeed.', 1), ('admissions).', 1), ('georgetown,', 1), (\"scientist's\", 1), ('deducted', 1), ('davidson', 1), ('permeating', 1), (\"itv's\", 1), ('\"e-cigarettes,', 1), ('baltimoreans', 1), (\"jack's\", 1), ('abbott', 1), ('fenton,', 1), ('nail', 1), ('249,000', 1), ('collisions', 1), ('ludicrous,\"', 1), ('mornings,', 1), ('edevices', 1), ('raids.', 1), ('untrue', 1), ('ford.', 1), ('on.\"', 1), ('consume.', 1), ('figure.', 1), ('evil?\"', 1), ('\"mods,\"', 1), ('wrongdoing.', 1), ('http://imgs.syndigate.info/498/1493/35/145153839112.jpg', 1), ('lucrative', 1), ('pecuniary', 1), ('war', 1), ('\"bear', 1), ('lam', 1), (\"organization's\", 1), (\"god,''\", 1), ('fluid.', 1), ('derives', 1), ('will:', 1), ('\"710\"', 1), ('specialising', 1), ('schools?', 1), ('accustomed.', 1), ('\"twerking\"', 1), ('please,', 1), ('returned.', 1), ('url', 1), ('nnn', 1), ('williamson,', 1), ('04--bemidji', 1), ('mesa-based', 1), ('obstacles', 1), ('proceed.\"', 1), ('circumstances\".', 1), ('slowdown', 1), ('lax', 1), ('saudi', 1), ('media@theguardian.com', 1), ('wines,', 1), ('lauder', 1), ('making.', 1), ('bournemouth', 1), ('bylaw,\"', 1), ('motion.', 1), ('crops', 1), ('playgrounds;', 1), ('britain\".', 1), ('oriented', 1), (\"author's\", 1), ('defects,', 1), ('child-', 1), ('abandonment', 1), ('\"deeming\"', 1), ('¿don¿t', 1), ('441-6076', 1), ('enterprises,', 1), ('made,\"', 1), ('attachments.', 1), ('vomiting,', 1), ('aside,', 1), ('fair?', 1), ('(leaving', 1), ('laughed.', 1), (\"cafe's\", 1), ('drive.', 1), ('shouted', 1), ('sunnah,', 1), ('stewardship', 1), ('lorry', 1), ('dither?andrew', 1), ('pneumonia,', 1), ('souping', 1), ('nw', 1), ('vapour-producing', 1), ('self-sufficiency.', 1), ('passages', 1), ('taxed,', 1), ('terrific', 1), ('miraculously', 1), ('nowhere,', 1), ('accommodations', 1), ('burstyn', 1), ('usm', 1), ('high-risk', 1), ('rexburg', 1), ('relaxing', 1), ('prohibited;', 1), ('corporation,', 1), ('sector.\"', 1), ('stew,', 1), ('arnold', 1), (\"measure'\", 1), ('henley.', 1), ('there?', 1), ('destination,', 1), ('journal.', 1), ('far\",', 1), ('reputedly', 1), ('somehow', 1), ('die,', 1), ('relaxation.', 1), ('s.k.', 1), ('delonti,', 1), ('plympton', 1), ('seattle', 1), ('84.6%', 1), ('angry', 1), ('cloud;', 1), ('facto,', 1), ('goals.', 1), ('demolished.', 1), ('ahmedshaaban@khaleejtimes.com', 1), ('circle', 1), ('optimism', 1), ('¿funny', 1), ('438,000', 1), ('future.\"', 1), ('doctor.', 1), ('brochure', 1), ('distinction.', 1), ('nero', 1), ('higher,', 1), ('sciences,', 1), ('gadgets,', 1), ('blend.', 1), ('tastes.\"', 1), (\"employees'\", 1), ('purposes.', 1), ('vaped?', 1), ('lori', 1), ('eastenders', 1), ('iskandar.', 1), ('public\".', 1), ('atmomixani,', 1), ('gamucci', 1), ('poisoning.\"', 1), ('vendor.', 1), ('tenet', 1), (\"law's\", 1), ('hey,', 1), ('payments.', 1), ('championships', 1), ('shower.', 1), ('vaping.i', 1), ('weight\"', 1), ('160', 1), ('$95', 1), (\"men.'\", 1), ('gleaner', 1), ('(ash)', 1), ('skid', 1), ('mortified', 1), ('@cosbo4', 1), ('48-17', 1), ('coolometer.', 1), ('\"[saying]', 1), ('32%', 1), ('penalties,', 1), ('120,000', 1), ('lasted', 1), ('children,\"', 1), ('(concerning', 1), ('elevation', 1), ('carolina.\"', 1), ('008', 1), ('individual,\"', 1), ('grayson', 1), ('lingers', 1), ('lounges,\"', 1), ('\"sixty', 1), ('6,000.', 1), ('progressive', 1), ('lie', 1), ('container.', 1), ('theatrical', 1), (\"inslee's\", 1), ('level,\"', 1), ('yusuf', 1), ('wighton', 1), ('needless', 1), (\"carl's\", 1), ('bootleggers', 1), (\"'vapid',\", 1), ('seattle-king', 1), ('pointer.', 1), ('coal', 1), ('identification.', 1), ('msps', 1), ('seeks', 1), ('cramped,', 1), ('reduces', 1), ('far?', 1), ('accessible.', 1), (\"'based\", 1), ('bombshell', 1), ('mixtures,', 1), ('wilkes-barre', 1), ('bolster', 1), ('ronnie', 1), ('knife', 1), ('today.\"', 1), ('\"cellular', 1), ('biennium.', 1), ('hobby,\"', 1), ('long-standing', 1), ('bubbling', 1), ('flavors:', 1), ('mid-20s', 1), (\"'90s,\", 1), ('firm.', 1), ('\"malacca', 1), ('you;', 1), ('lead,\"', 1), ('ultra-controversial', 1), ('containers,', 1), ('imran', 1), ('stools', 1), ('atomises', 1), ('$.65', 1), ('drag,\"', 1), ('chairman,', 1), ('\"cig-alike\"', 1), ('2777', 1), ('\"emerging', 1), ('http://thevapetrader.com.', 1), ('half.', 1), ('propagated', 1), ('klinedinst,', 1), ('\"fragmented\"', 1), ('banners,', 1), ('work:', 1), ('weekly.', 1), ('sharkie', 1), ('821', 1), ('paired', 1), ('to\"?', 1), ('assures', 1), ('lake.', 1), ('narrative,', 1), ('enabling', 1), ('offerman&rsquo;s', 1), ('npis', 1), ('assessment.', 1), ('e-liquids.\"', 1), ('jurisdictions,', 1), ('representations', 1), ('appraising', 1), ('vapehq.', 1), ('gaseous', 1), ('airplane.', 1), ('credit.', 1), ('cigarette-style', 1), ('stages,', 1), ('6).', 1), ('derek', 1), ('\"mainstream', 1), ('perplexed', 1), ('scarring', 1), ('clouds.', 1), ('(or,', 1), ('appointments,', 1), ('scenario,', 1), ('smelly,', 1), ('population.\"', 1), ('review.\"', 1), ('upstarts', 1), ('cardiologist,', 1), ('ceremonies', 1), ('justifiable', 1), ('modern,', 1), ('non-controversial,\"', 1), ('at:last', 1), ('\"leading', 1), ('1997', 1), ('persecuted,', 1), ('scientists,', 1), ('2.4%', 1), ('self-satisfied,', 1), ('stilts', 1), ('need,', 1), ('smoldering', 1), ('e-hookahs.', 1), ('re-normalizing', 1), ('habit:', 1), (\"coalition's\", 1), ('see,\"', 1), ('mobile-phone', 1), ('carcinogenetic', 1), ('firefighters', 1), ('arman', 1), ('entertainment,', 1), ('read:', 1), ('loss.', 1), ('(jaim)', 1), ('\"improve', 1), ('outlawed.', 1), ('scattered', 1), ('11--bluefield', 1), ('river.', 1), ('937', 1), ('attractively', 1), ('altogether,\"', 1), ('graves.', 1), ('\"remember', 1), ('popularity,', 1), ('flakka', 1), ('\"app\".', 1), ('www.baltimoresun.com/explore/howard/publications/howard-times', 1), ('fair-born', 1), ('dodge,', 1), ('gun\"', 1), ('coil,', 1), ('family-and', 1), ('shahid', 1), ('would-be', 1), ('crowd,', 1), ('interestingly', 1), ('exchequer', 1), ('regressive', 1), ('20130401.', 1), ('compound.', 1), ('\"patches', 1), ('road;', 1), ('1602', 1), (\"mp's\", 1), ('departure', 1), ('own,\"', 1), ('\"best', 1), ('polling', 1), ('filament', 1), ('closed-cartridge', 1), ('dubious', 1), ('governor,', 1), ('revert', 1), (\"''tobacco\", 1), ('shelves,', 1), ('reporter,', 1), ('4ja', 1), ('descriptions', 1), ('derive', 1), ('1.25', 1), ('securities.', 1), (\"inc.'s\", 1), ('19per', 1), ('herding', 1), ('equivalents', 1), ('fee', 1), ('disrepute.', 1), ('enemy,', 1), ('characterised', 1), ('tap-dancing', 1), ('£200m.', 1), ('plan]', 1), ('oven', 1), ('tease', 1), ('weather', 1), ('evil,', 1), ('rm300', 1), ('h', 1), ('residences', 1), ('hamid,', 1), ('topics.', 1), (\"'40s,\", 1), ('café,', 1), ('min;', 1), ('(15.4%).', 1), ('haste', 1), ('self-regulate.', 1), ('izers', 1), ('snapped', 1), ('roundabouts', 1), ('unpredictable', 1), ('(less', 1), ('bottles,', 1), ('health-crisis', 1), ('460', 1), ('theprovince.com', 1), ('aerosols,\"', 1), ('qualities,', 1), ('leaded', 1), ('prohibited.\"', 1), ('clumsily', 1), ('seizure,', 1), ('tulsa,', 1), ('flames', 1), ('antagonism', 1), ('30).', 1), ('cribben,', 1), ('130', 1), ('loves', 1), ('respect,\"', 1), ('binding', 1), ('snuffor', 1), ('discussion.\"', 1), ('flavouring.', 1), ('sergakis', 1), ('238', 1), ('present;', 1), ('flourishing', 1), ('permitted,\"', 1), ('sinful.', 1), ('adviser', 1), ('prevail', 1), ('honest', 1), ('cambs', 1), ('scarred', 1), ('smoking.&rdquo;', 1), ('montreal,', 1), ('curbing', 1), ('attachment.', 1), ('utah.', 1), ('brick', 1), ('belk.com/heart', 1), ('time-consuming,', 1), ('readers.â', 1), ('mouthpiece-shaped', 1), ('lethality', 1), (\"'you've\", 1), ('developed,', 1), ('nor,', 1), ('colleagues.', 1), ('smoking-restricted', 1), ('(letters,', 1), ('redding,', 1), ('analyses', 1), ('elsewhere,', 1), (\"smoking's\", 1), ('carlton', 1), (\"hathaway's\", 1), ('17--port', 1), ('irresponsibility', 1), ('707-2346,', 1), ('arnold.', 1), ('nominate', 1), ('traces', 1), ('drip.', 1), ('profile\"', 1), ('janet', 1), ('g#233;linas', 1), ('stamina,', 1), ('mentions', 1), ('controlâ', 1), ('rafael', 1), ('asserting', 1), ('absorb', 1), ('gambling,', 1), ('courtney', 1), ('f.d.a.', 1), ('friends.·', 1), ('ex-addict', 1), ('good?', 1), ('brandishing', 1), ('permitted.', 1), ('\"bringing', 1), ('estolte@edmontonjournal.com', 1), ('leash', 1), ('wade', 1), ('reside', 1), ('(syabu)', 1), ('avid', 1), ('karakehian,', 1), ('modernisation', 1), ('scotch', 1), ('roman', 1), ('unpalatable', 1), ('capsules.', 1), ('perpetual', 1), (\"mcparland's\", 1), ('records', 1), ('worryingly', 1), ('(tobacco', 1), ('restraints', 1), ('embargo', 1), ('anaheim', 1), ('clocked', 1), ('likewise', 1), ('disagreements', 1), ('friend/relative/wife/husband', 1), ('fighter', 1), ('cherry-flavoured', 1), ('concern,\"', 1), ('memorably', 1), ('ealing', 1), ('up-front', 1), ('hertfordshire', 1), ('tronic', 1), ('globes,', 1), ('canberra', 1), ('\"going', 1), ('appreciated\")', 1), ('settlements', 1), ('assured', 1), ('¿deep', 1), ('passersby.', 1), ('models.', 1), ('revival.\"', 1), ('clarify', 1), ('either.', 1), ('goes,', 1), ('hindsight,', 1), ('confronted', 1), ('cleaner.', 1), ('advisor,', 1), ('charleston.', 1), ('prince,', 1), ('approving', 1), ('unaccountable.', 1), ('reconsider', 1), ('wowzers.', 1), ('prejudge.\"', 1), ('immediately,', 1), ('murthapavalar', 1), ('observes', 1), ('19--union', 1), ('health.professor', 1), ('bosnian', 1), ('margins', 1), ('margin.', 1), ('2019,', 1), ('buildup', 1), ('standardspeaker.com', 1), ('oh', 1), ('doorways.', 1), ('outnumber', 1), ('media\"', 1), ('replay', 1), ('saturdays.', 1), ('smirting', 1), ('265-8320', 1), ('limbo.', 1), ('veppo', 1), (\"can't,\", 1), ('overwhelming.', 1), ('sorties', 1), ('\"morbidity', 1), (',who', 1), ('chairs.', 1), ('honour,', 1), ('wag', 1), ('¨ukraine', 1), ('geeky', 1), ('formula', 1), ('library,', 1), ('\"analogue', 1), ('branch.', 1), ('inaccurate', 1), ('cigarette-looking', 1), ('e-cigarillo,', 1), ('minot', 1), ('alexandria,', 1), ('realm', 1), ('\"together', 1), ('chandler', 1), ('\"cures\"?', 1), ('drifted', 1), ('molly,', 1), ('\"ever', 1), ('otherwise:', 1), ('dodging', 1), ('georgia,', 1), ('dépanneurs,', 1), ('excellent.', 1), ('rented', 1), ('(found', 1), ('\"e-juice\",', 1), ('ban?', 1), ('most,', 1), ('flirting),', 1), ('\"ten', 1), ('2015).', 1), ('hijacked', 1), ('109', 1), ('iggy', 1), ('supermarket', 1), ('hobby.\"', 1), ('preach.', 1), ('signs.the', 1), ('lips?', 1), ('word-of-mouth', 1), ('disallow', 1), ('\"hobbyists,\"', 1), ('mellowing', 1), ('trusted', 1), ('up--while', 1), ('vascular', 1), ('flat-screens', 1), ('humour', 1), ('kelly:', 1), ('goh', 1), ('commissions', 1), ('minnesota?\"', 1), ('\"reglamorising\"', 1), ('ebb', 1), ('remarks,', 1), ('detest', 1), ('79', 1), ('delays', 1), ('workmate', 1), ('irwin,', 1), ('hamburg,', 1), ('well;', 1), ('as:', 1), ('weir', 1), ('insistence', 1), ('lived', 1), ('lieu', 1), ('flurry', 1), ('r-oconomowoc,', 1), ('freeze,', 1), ('politeness.\"', 1), ('adler', 1), ('on-the-spot', 1), ('\"renormalised\",', 1), ('victoria,', 1), ('legalising', 1), ('blumberg', 1), ('syringes,\"', 1), ('web:for', 1), (\"co.'s\", 1), ('councilors,', 1), ('extended.', 1), ('comforting', 1), ('rescind', 1), ('polarizing', 1), ('cigarette.in', 1), ('disgusting.a', 1), ('should;', 1), ('psychiatry', 1), ('veto', 1), ('ashwaubenon', 1), ('tvs.', 1), ('yuengling,', 1), ('ourselves.', 1), ('mode', 1), ('produces.\"', 1), ('koester', 1), ('defended', 1), ('170', 1), ('[c]omplete', 1), ('lavaca.', 1), ('officials:', 1), ('dunkin', 1), ('consequence', 1), ('vaporcode.com', 1), ('agony', 1), ('rotates', 1), ('regulations,\"', 1), ('6pm', 1), ('patent.', 1), ('phrases.', 1), ('booth,', 1), ('counting,\"', 1), ('bela', 1), ('\"varies\"', 1), ('chimes', 1), ('cells.\"', 1), ('edinburgh', 1), ('features,', 1), ('encompassing', 1), ('year\"', 1), ('1ml', 1), ('budgetary', 1), ('passes', 1), ('traceable', 1), ('1999', 1), ('dorky.', 1), ('untaxed,', 1), ('sharecare.com/health/quit-smoking.', 1), ('punish', 1), ('851-5857', 1), ('disaster,', 1), (\"'ken\", 1), ('bhatnagar,', 1), (\"clacton's\", 1), ('piece.', 1), (\"e-cigs.''\", 1), ('to.\"', 1), ('utilize', 1), ('\"cultural', 1), ('accommodated.\"', 1), ('galling', 1), ('overshadow', 1), ('bags', 1), ('staffer,', 1), ('ontario.', 1), ('d.c.,', 1), ('schalow', 1), ('@juliacmaybe', 1), ('exeter', 1), ('\"twenty', 1), ('47th', 1), ('teenager,', 1), ('1.0,', 1), ('study?', 1), ('agreeable', 1), ('skill', 1), ('chef', 1), ('lobbies', 1), ('chuckles', 1), ('protected.', 1), ('task,', 1), ('pick,', 1), ('stepney', 1), ('lexicographers', 1), ('failure),', 1), ('360-397-8000', 1), ('address.', 1), ('retained.', 1), ('geeks.', 1), ('exclusions.', 1), ('nonsmokers-minnesota', 1), ('cereal-inspired', 1), ('topics', 1), ('smoking-to-switching', 1), ('leniency', 1), ('cheer', 1), ('adults:', 1), ('lead.&rdquo;', 1), ('cloud-blowing', 1), ('flooding.', 1), ('louise', 1), ('okemos', 1), ('2020,', 1), ('glowing-tipped', 1), ('became?', 1), ('blackstock', 1), ('hysteria', 1), ('reuleaux', 1), ('adapted', 1), ('disorders', 1), ('medics', 1), ('convenience.', 1), ('presently.', 1), ('1,200-', 1), ('syeikh', 1), ('3am', 1), ('(reducing', 1), ('wears', 1), ('deck.', 1), ('evaluating', 1), ('[where', 1), ('costumers', 1), ('tobacco.the', 1), ('undermined', 1), ('67.2', 1), ('checks.', 1), ('disappointed,', 1), ('diversifying', 1), ('deterred', 1), ('tip\",', 1), ('first.', 1), ('cock', 1), ('\"kpdnkk', 1), ('wilful', 1), ('quit\"', 1), ('bow', 1), ('adherents,', 1), ('\"was', 1), ('commerce:', 1), ('quitting)', 1), ('blueberry.', 1), ('life\"', 1), (\"firefighters'\", 1), ('though.', 1), ('healthland', 1), ('panera', 1), ('charm', 1), ('sahli', 1), ('upping', 1), ('behind)', 1), ('(regulations)', 1), ('merce', 1), ('stands.', 1), ('beer?', 1), ('morphed', 1), ('$600,000,', 1), ('republished', 1), ('75,000', 1), ('assembly.', 1), ('exported', 1), ('abcarian,', 1), ('half-opened', 1), ('restraining', 1), ('building.\"', 1), ('grasshopper,', 1), ('mini-soldering', 1), ('cord', 1), ('100,', 1), ('quran:', 1), ('homemaking', 1), ('herpes', 1), ('81per', 1), ('politicised.', 1), ('ruining', 1), ('malaysia¿', 1), ('champagne,', 1), ('stipulated', 1), ('-cigarettes', 1), ('\"vapreneurs.\"', 1), ('www.kilgorenewsherald.com', 1), ('hendersonville,', 1), ('syed', 1), ('concerned:', 1), ('sublime,', 1), ('instead,\"', 1), ('sure,\"', 1), ('term.i', 1), ('exemption,', 1), ('mbes,', 1), ('\"popcorn', 1), ('(\"growing', 1), ('health-wise,', 1), ('speakers.', 1), ('parting', 1), ('stunned', 1), ('neurologist,', 1), ('buses.', 1), ('others?', 1), ('monkey,', 1), ('2012:', 1), (\"smoking'.\", 1), ('touraine', 1), ('21.4', 1), ('(13.0', 1), ('millilitre', 1), ('aftershave', 1), ('empowered', 1), ('moronic', 1), ('flatlined.', 1), ('screw', 1), ('slay', 1), ('companies)', 1), ('supermarkets', 1), ('\"cautious\"', 1), ('daunting', 1), ('chimneys', 1), (\"smoking.'\", 1), ('brunswick)', 1), ('(mostly', 1), ('disorientation', 1), ('way;', 1), ('wildfires', 1), ('meth', 1), ('20121113.', 1), ('(sept', 1), ('not,\"', 1), ('dredger', 1), (\"'rewarded'\", 1), ('&ldquo;we', 1), ('marvel', 1), ('stonehill.', 1), ('offensive.\"', 1), ('roundwood', 1), ('trust,', 1), ('trend,\"', 1), ('acupuncture', 1), ('\"breathing!\"', 1), ('drag.', 1), ('haraam', 1), ('lab,', 1), ('skaets', 1), ('\"mod,\"', 1), ('\"wipe', 1), ('medicaid', 1), ('places.\"', 1), ('combustibles,', 1), ('black-market', 1), ('strangulating', 1), ('rule:', 1), ('course.\"', 1), ('democracy,', 1), ('declines', 1), ('of,\"', 1), ('dominique,', 1), ('rapidly-growing', 1), ('realage.com', 1), ('physiological', 1), ('benefits\"', 1), (\"debbie's\", 1), ('siddiq', 1), ('instituting', 1), ('(20%),', 1), ('consumed,\"', 1), ('freakishly', 1), ('richter,', 1), ('lights,', 1), ('neologisms', 1), ('invisible,', 1), ('abide', 1), ('job\",', 1), ('presume', 1), ('café\"', 1), ('resorts', 1), (\"job,''\", 1), ('gowan,', 1), ('shafie', 1), ('automotive', 1), ('gps', 1), ('ipso', 1), (\"areas'.\", 1), ('magnitude', 1), ('near-equal', 1), ('flourished,', 1), ('rejection', 1), ('80s,', 1), ('3477', 1), ('incomplete', 1), ('cancer.net,', 1), ('challenging.', 1), ('self-lock', 1), ('days)', 1), ('cooperation', 1), ('promulgate', 1), ('kalia,', 1), ('dimension', 1), ('7percent', 1), ('hutchinson,', 1), ('harboring', 1), ('newly-added', 1), ('path', 1), ('complicated,', 1), ('bipolar', 1), ('accessory', 1), ('mister', 1), ('counterpart,', 1), ('weed,\"', 1), (\"vape's\", 1), ('chant', 1), ('operation.', 1), (\"'doom\", 1), ('dust\",', 1), ('(\"an', 1), ('formulated.', 1), ('living.', 1), ('registration:', 1), ('beats', 1), (\"crazy,''\", 1), ('\"public', 1), ('dominance', 1), ('windsor', 1), ('vegas,', 1), ('\"watered', 1), ('sensations', 1), ('disinfected?', 1), ('tourists.', 1), ('lying', 1), ('strong.', 1), ('critiqued', 1), ('non-vapers,', 1), ('melodie', 1), ('innovative,', 1), ('sidelines,', 1), ('down,teen', 1), ('powers-that-be,', 1), ('theatres', 1), ('stand-alone', 1), ('\"smoke\".', 1), ('driving,', 1), ('(they)', 1), ('cane.', 1), ('republicans', 1), ('blind', 1), ('deliberated', 1), ('jakarta,', 1), ('\"australian', 1), ('headded', 1), ('lexington', 1), ('weighing', 1), ('facemasks', 1), ('patronize', 1), ('organisers', 1), ('disease.so,', 1), ('kit.', 1), ('thc,', 1), ('awareness,', 1), ('youths?\"', 1), ('display,', 1), ('p.o.e.t.,', 1), ('taproom', 1), ('cementing', 1), ('refrigerator', 1), ('\"licensed', 1), ('agreeing.', 1), ('vermont)', 1), ('fruit.', 1), ('borth', 1), ('entrepreneurs,', 1), ('upsurge', 1), ('hallways', 1), ('cow', 1), ('businesses.\"the', 1), ('cocoon', 1), ('cup', 1), ('emphasized,', 1), ('doesnâ', 1), ('circumstances', 1), ('\"bans', 1), ('option:', 1), ('\"nearly', 1), ('language:', 1), ('lays', 1), ('17,', 1), ('hi-tech', 1), ('ce4', 1), ('cooler', 1), ('vape:\"', 1), ('edwards,', 1), ('you!', 1), ('lab.', 1), ('yahaya,', 1), ('string', 1), ('adri', 1), ('(sirim)', 1), ('stake.\"', 1), ('beltrami,', 1), ('plastic,', 1), ('6,200', 1), ('\"cheating', 1), ('draw.', 1), ('(2015)', 1), ('think,', 1), ('harsh-flavored', 1), ('tar-filled', 1), ('119-hectare', 1), ('unappealing,', 1), ('ismael', 1), ('\"expanded', 1), ('gerald', 1), ('thevapetrader.com.', 1), ('influence.', 1), ('(vcs)', 1), ('smokeless,', 1), ('snake', 1), ('salvation,', 1), ('kpdnkk', 1), ('appraisal', 1), ('listening', 1), ('point:', 1), ('dkelly@readingeagle.com', 1), ('reads.', 1), ('fund,\"', 1), ('lingering', 1), ('ongoing.', 1), ('spa,', 1), ('flavouring)', 1), ('volts', 1), ('themes,', 1), ('cycleways', 1), ('decide,\"', 1), ('inundated', 1), ('render', 1), ('molina,', 1), ('pursuit.', 1), ('adilypour', 1), ('opportunities.', 1), ('vicki', 1), ('authorities,', 1), ('07--vaping', 1), ('5500-strong', 1), ('dumb', 1), ('including,', 1), ('overflowed:', 1), ('\"accidents\"', 1), ('21.2', 1), ('nicotine-addicted,\"', 1), ('buzzfeed.', 1), ('truer', 1), ('quantity,', 1), ('slim', 1), ('amenable', 1), ('cheah,', 1), ('www.today.tv', 1), ('0.6mg)', 1), ('split\"', 1), ('barrett.', 1), ('toolkit', 1), ('patriotic', 1), ('barman,', 1), ('10-month-old', 1), ('11--an', 1), ('reputable,', 1), ('thraldom.', 1), ('endorsement', 1), ('samadon', 1), ('room\"', 1), ('purchase.', 1), ('montrealgazette.com', 1), ('melbourne', 1), ('tapped', 1), ('stress.', 1), ('(195:', 1), ('un-hip', 1), ('bitterness.', 1), ('exceeded', 1), ('yet,\"', 1), ('bounds.\"', 1), ('peace.', 1), ('ray', 1), ('rechargeable,', 1), ('despite--or', 1), ('zero,', 1), ('tally', 1), ('de-normalising', 1), ('9&ndash;450', 1), ('vaping..what', 1), ('obsession,', 1), ('few,', 1), ('outdoors.', 1), ('syndicate', 1), ('\"none', 1), ('prohibitively', 1), ('954,', 1), ('lavaca,', 1), ('\"reason\"', 1), ('five,', 1), ('$15,', 1), ('sweets', 1), ('worldwide,', 1), ('busier', 1), ('roadmap', 1), ('landlord', 1), ('collectable.', 1), ('c.', 1), ('unbelievable', 1), ('downgrading', 1), ('languished', 1), ('lindsey', 1), ('lifestyle,\"\"', 1), ('riccardo', 1), ('promptly', 1), ('ana', 1), ('man\"', 1), ('yardstick,', 1), ('ifs,', 1), ('k', 1), ('pleasures.', 1), ('(including', 1), ('parameters,', 1), ('disinformation.', 1), ('kombucha.', 1), ('inebriation,', 1), ('realises', 1), ('broccoli', 1), ('sneaking', 1), ('disruptive', 1), ('uncontrolled', 1), ('incentives', 1), ('six-eight', 1), ('ill-effects.', 1), ('counselors.', 1), ('muddled,', 1), ('products...', 1), ('\"bike', 1), ('devi,', 1), ('settlement,', 1), ('same;', 1), ('pineapple', 1), ('arsenic', 1), ('oblivious', 1), ('wilts', 1), ('boulder.', 1), ('panic', 1), ('devices],', 1), ('(2015),', 1), ('pourle', 1), ('expertise', 1), ('140', 1), ('ultralight:', 1), ('housed', 1), ('anticipate', 1), ('0013729e4abe17eec73740.jpg', 1), (\"'vapour'\", 1), ('fails', 1), ('creditfree', 1), ('shrinking', 1), ('teaching', 1), ('(mma)', 1), (\"tool,''\", 1), ('shook', 1), ('marginally', 1), ('\"too', 1), ('uncertainty,', 1), ('natalia', 1), ('1950s', 1), ('seeing,', 1), ('caper', 1), ('kindergarten', 1), ('federal,', 1), ('havelots', 1), ('warman', 1), ('accessorise', 1), ('besides,', 1), ('destiny', 1), ('arenas,', 1), ('sites,', 1), ('meara', 1), ('consult', 1), ('slazaruk@theprovince.com', 1), ('improved;', 1), ('hardware,', 1), ('clockwork', 1), ('entities,', 1), ('mckeown', 1), ('awaken', 1), ('\"substances', 1), ('juice;', 1), ('matthew', 1), ('hookah,', 1), ('shoppes', 1), (\"gehlau's\", 1), ('disapproves,', 1), ('equality,', 1), ('hendry,', 1), ('lady,', 1), ('repeats', 1), ('patios,', 1), ('historians', 1), (\"charley's.\", 1), ('intervene', 1), ('busch,', 1), ('anything.\"', 1), ('\"cool\".', 1), ('self-locks', 1), ('g.', 1), ('(public', 1), ('perera,', 1), ('blinding', 1), ('incredulous', 1), ('shortsighted', 1), ('(while)', 1), ('formed,', 1), ('relocated', 1), ('remedies:', 1), ('alam:', 1), ('laboratory.', 1), ('necrosis,', 1), ('pace', 1), ('7th', 1), ('his.', 1), ('health;', 1), ('f.,lexington,', 1), ('uf2.0%,', 1), (\"residents'\", 1), ('true-life', 1), ('unregulated:', 1), ('air\".', 1), ('suggest,', 1), ('maldinar,', 1), ('improve.', 1), ('clubs.', 1), ('\"disingenuous\"', 1), ('10,', 1), ('inventory,', 1), ('wrecking', 1), ('$45.', 1), ('controls,', 1), ('undermines', 1), ('\"cig-a-likes,', 1), ('beginner', 1), ('ford', 1), ('shortness', 1), ('bulbous', 1), ('also:', 1), ('rm80,000', 1), ('milligrams.', 1), ('stain', 1), ('decisions?the', 1), ('varied.', 1), ('pipe-like', 1), ('tip.', 1), ('fun-loving,', 1), ('take,\"', 1), ('certain:', 1), ('image,', 1), ('portmanteaus', 1), ('\"differentiation', 1), ('ruin', 1), ('vapists?', 1), ('47.5', 1), ('tank\",', 1), (\"percent,'\", 1), ('black.', 1), ('negotiate.', 1), ('journeys', 1), ('sides.', 1), ('breathlessness.', 1), ('(online,', 1), ('arenas', 1), ('vitally', 1), ('achieved.â', 1), ('provoke', 1), ('desks.', 1), (\"cigarettes.'\", 1), ('scheme.', 1), ('£200', 1), ('protect.', 1), ('dengue,', 1), ('jr.,', 1), ('players.', 1), ('\"right', 1), ('imposed.\"', 1), ('emphatically.', 1), ('offered,', 1), ('safer:', 1), ('walters,', 1), ('technologically', 1), ('carefully-crafted', 1), ('\"youth', 1), ('rm200,000', 1), ('forward.\"', 1), ('dfl-owatonna.', 1), ('ebola', 1), ('fuelled', 1), (\"blu's\", 1), ('product\"', 1), ('fougere.', 1), ('disappears', 1), ('suffice', 1), ('dhirar\",', 1), ('zone,\"', 1), ('mapleton', 1), ('idea.i', 1), ('river,', 1), ('paediatric', 1), ('\"war', 1), ('damiano', 1), ('enticing,', 1), ('latte,', 1), ('lamented', 1), ('laws,\"', 1), ('www.capture.be', 1), ('clemente,', 1), ('paternalism', 1), ('contending', 1), ('merchandises', 1), ('ghool', 1), ('weapon', 1), ('zero.\"', 1), ('cabinets', 1), ('witnessed', 1), ('beginning,', 1), ('(propylene', 1), ('articulation', 1), ('four.', 1), ('partly,', 1), ('function.', 1), (\"'cigarette.'\", 1), ('strawberry.\"', 1), ('\"losing', 1), ('curtail', 1), ('fulfilled', 1), ('bags.', 1), ('me.)', 1), ('relocating', 1), ('professional.', 1), ('non-conventional', 1), ('2012-2013', 1), ('total.â', 1), ('flourish,\"', 1), ('abandoned.', 1), ('$30,000', 1), ('waffle.', 1), ('davises', 1), ('highconcentration', 1), ('optimistic,', 1), ('polite.\"', 1), ('schoolyards', 1), ('(bat),', 1), ('\"no.\"', 1), ('6],', 1), ('presentation,', 1), ('dfl-eagan,', 1), ('43,', 1), ('dreaded', 1), ('father-of-two.', 1), ('benign,', 1), ('99p!!!', 1), ('johan', 1), ('primrose', 1), ('guise', 1), ('accepted,', 1), ('70%', 1), ('\"physiologically,', 1), ('bridge', 1), ('undesirable', 1), ('released.', 1), ('decreed', 1), ('alternative:', 1), ('selvaraj', 1), (\"month's\", 1), ('cents,', 1), ('dvanderford@civitasmedia.com', 1), ('shares', 1), ('what?', 1), ('electronics', 1), ('talked,', 1), ('1.2%', 1), ('organisms', 1), ('needing', 1), ('97', 1), ('smarter', 1), ('profile.\"', 1), ('(manufacturers)', 1), ('marzens', 1), ('brigade', 1), ('concoctions', 1), ('only?', 1), ('bad-for-business', 1), ('salmon,', 1), ('ventures.\"', 1), ('can.', 1), ('twitter.', 1), ('genuine.', 1), ('floating', 1), ('tobacco,\"\"', 1), ('gorman,', 1), ('donuts', 1), ('wrongdoing\",', 1), ('prizes,', 1), ('disposable,', 1), ('venues,', 1), ('concoction', 1), ('co-own', 1), ('sights.', 1), ('evacuations', 1), ('input.', 1), ('menace.', 1), ('telegraph.', 1), ('no-risk', 1), ('fleets.', 1), ('attend,', 1), ('luckily', 1), ('emulated', 1), ('physical,', 1), ('tragic', 1), ('hay,', 1), ('retrace', 1), ('preview', 1), ('grocery,', 1), ('halted', 1), ('pneumonitis:', 1), ('fog)', 1), ('flavoring.\"', 1), ('stating:', 1), ('george,', 1), ('divorce', 1), ('(4)', 1), ('vilified,\"', 1), ('leaders,', 1), ('imposes', 1), ('application,', 1), ('cent,', 1), ('doors.\"', 1), ('ceo,', 1), ('rush-hour', 1), ('relentless', 1), ('used:', 1), ('father.', 1), ('3899', 1), (\"everybody's\", 1), ('pediatrics,', 1), ('persuading', 1), ('inhale.\"', 1), ('¨coldharbour', 1), (\"nanaimo's\", 1), ('strawberries,', 1), ('again,\"', 1), ('judson', 1), ('combes', 1), ('jeannine', 1), ('supertaxâ', 1), ('lifts)', 1), ('break?', 1), ('betsi', 1), ('reads,', 1), ('northtown', 1), ('j.', 1), ('demonstrable', 1), ('donning', 1), ('abu', 1), ('ashley', 1), ('turnaround,', 1), ('legacy', 1), ('ace', 1), ('valid.', 1), ('cousins.', 1), ('appointments', 1), ('harsher', 1), ('storrs,', 1), ('shouting', 1), ('igor', 1), ('syrup.', 1), ('89', 1), ('things,', 1), ('events,', 1), ('teenager.\"', 1), ('takeaway.', 1), ('sud-ouest', 1), ('¨after', 1), ('pádraig', 1), ('metabolic', 1), ('464', 1), ('cashinâ', 1), ('casualty', 1), ('residual', 1), ('predicted,', 1), ('colourfully', 1), ('crotty', 1), ('chandelier', 1), ('aeroplane.', 1), ('junk', 1), ('finger', 1), ('51,', 1), ('evoking', 1), ('selfie,\"', 1), ('savannah', 1), ('\"before', 1), ('journalists', 1), ('[#x200e]smokers', 1), ('attending', 1), ('lundin,', 1), ('rules,¿', 1), ('glycol),', 1), ('opacity', 1), ('calm', 1), ('bosnia.&rdquo;', 1), ('patios.', 1), ('pie,', 1), ('sporting', 1), ('£2,', 1), ('serviced', 1), ('bangladesh', 1), ('gum?\"\"', 1), ('journals', 1), ('remarks.', 1), ('themes', 1), ('hamzah', 1), ('gmp', 1), ('minus', 1), ('functioning', 1), ('supplemental', 1), ('saufi', 1), ('cows', 1), ('phelan,', 1), ('launchers', 1), ('(journal', 1), ('utter', 1), ('police.', 1), ('invisible', 1), ('football', 1), ('fabricated', 1), ('\"recovering', 1), ('yeager', 1), ('girl,', 1), ('lining', 1), ('ikhbal', 1), ('www.goupstate.com', 1), ('http://www.idahobusinessreview.com/be-the-first-to-know/', 1), ('secretary-general,', 1), ('sweepstakes:', 1), ('(smokeless', 1), (\"âeur[#x2dc]from'\", 1), ('vaporizers?', 1), ('byproduct.', 1), ('¨co-founder', 1), ('pursues', 1), ('animals,', 1), ('problem.\"', 1), ('traction.', 1), ('deceased', 1), ('entirely...', 1), ('fulfils', 1), ('molecular', 1), ('mortar\"', 1), ('opportunity,\"', 1), ('zoo,', 1), ('ifs\"', 1), ('travelling', 1), (\"garrick's\", 1), ('abused.', 1), ('succesfully', 1), ('indians', 1), ('poses.', 1), ('controversial)', 1), ('\"carry', 1), ('nc3', 1), ('wording', 1), ('brussels,', 1), ('www.carrollcountytimes.com', 1), ('28.7', 1), ('\"prone', 1), ('9.40-11.40pm.', 1), ('countryside', 1), ('mackinnon', 1), ('creamer,', 1), ('wouldnâ', 1), ('pompey,', 1), (\"go.'\", 1), ('reported,', 1), ('churches', 1), ('flatly', 1), ('expedite', 1), ('teachers,', 1), ('marketed,', 1), ('repair', 1), ('mylifecheck.org.', 1), (\"'negligible'\", 1), ('lips', 1), ('medicine\\',\"', 1), ('acrid', 1), ('lower-risk', 1), ('18-years-old', 1), ('ever-present,', 1), ('nicvape,', 1), ('product,â', 1), ('real-world', 1), ('explore', 1), ('\"\"basically,', 1), (\"reading's\", 1), ('offensive.', 1), ('objectives', 1), ('simultaneous', 1), ('battery-powered,', 1), ('iron', 1), ('slogan', 1), ('01-04-2013', 1), ('streaming', 1), ('personalise', 1), ('selfdestruction,', 1), ('pack,', 1), ('moralistic', 1), ('bias,', 1), ('2023.', 1), ('openly.', 1), ('paulsen', 1), ('last.', 1), ('colleague', 1), ('trendy.\"', 1), ('>>', 1), ('optimist', 1), ('quarter-mile', 1), ('husbands', 1), ('£160', 1), ('preposterous.', 1), ('neighbourhoods', 1), ('sheer', 1), ('report.\"', 1), ('engineering,', 1), ('adabi,', 1), (\"senate's\", 1), ('b:', 1), ('withheld,', 1), ('two-part', 1), ('e-cigarettes\",', 1), ('queues', 1), ('negotiations,\"', 1), ('spoken', 1), ('administrator,', 1), ('hundreds.â', 1), ('snowball,', 1), ('under-18s...', 1), ('vaporhaus,', 1), ('appearance', 1), ('cruder,', 1), ('welcomed.', 1), ('carton', 1), ('landfill,', 1), ('mctc', 1), ('arrange', 1), ('lawrence,', 1), ('nicely.', 1), ('alarmist', 1), ('profession', 1), ('18.â', 1), ('first-hand', 1), ('13:', 1), ('nanny-state', 1), ('racist.if', 1), ('(edict).', 1), ('overdosing', 1), ('sexualise', 1), ('ripped', 1), ('surveillance', 1), ('trans-fats.', 1), ('looks.', 1), ('omg.', 1), ('dickson,', 1), ('inhales;', 1), ('\"shop', 1), ('\"68', 1), ('reap', 1), ('hazard?', 1), ('literally,', 1), ('cheesecake-flavored', 1), ('advice,', 1), ('pesticides', 1), ('satisfy,', 1), ('serious.', 1), ('denholtz.', 1), ('downwards', 1), ('1952?', 1), ('benefited', 1), ('discusses', 1), ('awful.', 1), ('864-762-4128', 1), ('garford', 1), ('smoke!', 1), ('peanut,', 1), ('premature,', 1), ('mid-2000s.', 1), ('backrooms', 1), ('destroys', 1), ('southeastern', 1), ('cabrera,', 1), ('drew,', 1), ('proclaimed,', 1), ('carrie', 1), ('37,', 1), ('inserted', 1), ('wolfson', 1), ('md.,', 1), ('gaping', 1), ('organisation.', 1), ('7-eleven,', 1), ('accessible', 1), ('anna', 1), ('140th', 1), ('handgun', 1), ('believed,', 1), ('important:', 1), ('union-curtailing', 1), ('pie.', 1), (\"side's\", 1), ('outside?\"', 1), ('34,', 1), ('milica', 1), ('80-year-old', 1), ('sun.', 1), ('predators,', 1), ('reversed,', 1), ('vice-chairman,', 1), (\"tfl's\", 1), ('money;', 1), ('hire.', 1), ('yelp.', 1), ('pondered', 1), ('confidence.', 1), ('tools,', 1), ('term:', 1), ('scarcella,', 1), ('away\"', 1), ('sponsor,', 1), ('rm20.', 1), ('accolades', 1), ('visitidahovape.com.', 1), ('fraternal', 1), ('publishers', 1), ('(mani-pedi)', 1), ('justice.', 1), ('useful,', 1), ('cats', 1), ('alley.', 1), ('snowing', 1), (\"'live'\", 1), ('ok.\"', 1), ('blasted', 1), ('addresses,', 1), ('perilous', 1), (\"vapor's\", 1), ('ballpark,', 1), ('microparticles', 1), ('risk:', 1), ('cable', 1), ('combine', 1), ('disproved', 1), ('undeniable', 1), ('biochemistry,', 1), ('guyana,', 1), ('bans;', 1), ('muzakarah,', 1), ('biology,', 1), ('awaited', 1), ('running.', 1), ('exceeds', 1), (\"'lovely\", 1), ('dowden', 1), ('boxes\"', 1), ('persons', 1), ('(bollywood', 1), ('alive,\"', 1), ('favouring', 1), ('selective.', 1), ('sombre', 1), ('aim,', 1), ('start-ups', 1), ('vape250', 1), ('omits', 1), ('vanished', 1), ('ourselves,', 1), ('reduction)', 1), ('uninhabitable.', 1), ('mart', 1), ('10--princeton', 1), ('ultra-premium,', 1), ('allergens.', 1), ('\"significantly', 1), ('then?\"', 1), (\"that'll\", 1), ('cocktail', 1), ('different,\"', 1), ('huge.', 1), ('dead.', 1), ('nassau', 1), ('actors', 1), ('ecigarettes.', 1), ('epidemiologists,', 1), ('substance;', 1), ('lanes', 1), (\"years.''\", 1), ('liverpool', 1), ('amount,', 1), ('not-at-all-lame', 1), ('suspended', 1), ('barred', 1), (\"'should\", 1), ('order,', 1), ('forbids', 1), ('esthetic', 1), ('progressing', 1), ('provincewide.', 1), ('1,100-square-foot', 1), ('http://leaderpub.com/category/news/niles/', 1), ('hypothesis,', 1), ('irresponsible,', 1), ('chemicals.\"', 1), ('sell.', 1), ('grass-roots,', 1), ('opened,', 1), ('overdue', 1), ('by-passing', 1), ('co-host', 1), ('rising.', 1), ('viewpoints.', 1), ('reception', 1), ('decision).', 1), ('smokeout,', 1), ('ching', 1), ('voted,', 1), ('against.', 1), ('penang,', 1), ('dependency.', 1), ('varies.', 1), ('web.', 1), ('planned,', 1), ('counseling', 1), ('support.\"', 1), ('ginger,', 1), ('£40', 1), ('$125m.', 1), ('reused,', 1), ('newspaper,', 1), ('replaceable', 1), ('nectar', 1), ('extension\"', 1), ('situation.\"', 1), ('commonwealth', 1), ('language,\"', 1), (\"ambiguity'\", 1), ('preschool', 1), ('flashbacks', 1), ('policymakers', 1), ('partnership,', 1), ('deems', 1), ('day).that', 1), ('ministry,\"', 1), ('generation,\"', 1), ('watermelon,', 1), (\"can't.'\", 1), ('armstrong,', 1), ('shock.', 1), ('originally,', 1), ('\"pittsburgh', 1), ('exclude', 1), (\"thing'\", 1), ('jersey,', 1), ('millionaires,', 1), ('derzic.', 1), ('hazy', 1), ('controversial,', 1), ('thorough', 1), (\"queen's\", 1), ('60s', 1), ('16--harrisburg', 1), ('tmz.', 1), ('(with', 1), ('funding.', 1), ('jeremy,', 1), ('(\"my', 1), ('pace,\"', 1), ('injecting', 1), ('intensifies', 1), ('society\"', 1), ('posting.', 1), ('resolution!', 1), ('done.\"', 1), ('repealed,\"', 1), ('relevant,', 1), ('200mms', 1), ('walkie-talkie', 1), ('jacobs.', 1), (\"'hey,\", 1), ('enrolling', 1), ('\"looked', 1), ('waukesha.', 1), ('\"proponents', 1), ('roll-out.', 1), ('module,', 1), ('suppoting', 1), ('amm,', 1), ('antifreeze.', 1), ('enquiry', 1), ('cousins', 1), ('e-cigarette-makers', 1), ('loungesuch', 1), ('rectangular', 1), ('ambulances', 1), ('mackinnon,', 1), ('correlation', 1), ('messy', 1), ('multi-billion', 1), ('\"who', 1), ('(mpn-usm),', 1), ('nicotine-free,', 1), ('egos,', 1), ('colds', 1), ('arise,', 1), ('campuses', 1), ('hired', 1), ('both.\"', 1), ('tax-exempt', 1), ('ignition', 1), ('studier,', 1), ('mantle', 1), ('www.portugal.no', 1), ('mouth.\"', 1), ('criticising', 1), ('complete.', 1), ('dipping', 1), ('amendments.', 1), ('analogues', 1), (\"kelantan's\", 1), ('customarily', 1), ('margaret.fisher@kinston.com', 1), ('nerds', 1), ('clunky', 1), ('chasers,', 1), ('competitor.', 1), ('us$6', 1), ('root', 1), ('suggest.â', 1), (\"nicotine''.\", 1), ('nipped', 1), ('dbs', 1), ('parcels', 1), ('curbed.', 1), ('pathways', 1), ('(causal)', 1), ('quit?:', 1), (\"generation's\", 1), ('martial', 1), ('discard', 1), ('sample,', 1), ('panama', 1), ('--initial', 1), ('fatwa).', 1), ('charm)', 1), ('experiments,', 1), ('\"so,', 1), ('uncertainty.)', 1), (\"'e'\", 1), ('one-sided', 1), ('telephone', 1), ('word-nerd', 1), ('inherent', 1), ('jets', 1), ('repaired', 1), ('£1', 1), (\"capital's\", 1), ('hoke', 1), ('impossible,', 1), ('borrowing', 1), ('death,\"', 1), ('composition.', 1), ('battles.', 1), ('complaining', 1), ('uae,', 1), ('burns,', 1), ('unpick', 1), ('malito', 1), ('1939.', 1), ('stringent.', 1), ('facts?', 1), ('candy-flavored.', 1), ('balances', 1), ('bahrain.', 1), ('membership.â', 1), ('encourage?james', 1), ('q', 1), ('downside:', 1), ('suicide.', 1), ('wildfires.', 1), (\"belk's\", 1), ('scenarios', 1), ('stress,', 1), (\"cover'.\", 1), ('vaping.although', 1), ('squad', 1), ('photo:', 1), ('halvorson', 1), ('clarksburg;', 1), ('chuckled', 1), (\"'hustler'\", 1), (\"o.c.'s\", 1), ('firstenergy', 1), ('strengthen', 1), ('ec', 1), ('\"really', 1), ('month).', 1), ('1963,', 1), ('cloud?', 1), ('insurance,', 1), ('hotels?', 1), (\"safe'\", 1), ('529-vape', 1), ('rainham', 1), ('(happily)', 1), ('30-year-old', 1), ('analytical', 1), ('£8m', 1), ('westin,', 1), ('6,', 1), ('8.5', 1), ('\"great\"', 1), ('myths', 1), ('sales).', 1), (\"'caravela'\", 1), ('breathed', 1), ('watchdog', 1), ('locked', 1), ('$us2billion', 1), ('shift,', 1), ('reveal.', 1), ('dump', 1), ('similar,', 1), ('michigan,', 1), ('germans', 1), ('\"targeting', 1), ('vapshot', 1), ('unachievable', 1), ('capp', 1), ('heath', 1), ('gael', 1), ('bobby', 1), ('tolerant', 1), ('(move),', 1), ('\"courage', 1), (\"editor's\", 1), ('19--bemidji', 1), ('\"prophet', 1), ('vividly', 1), ('rahim,', 1), ('oklahoma.', 1), ('budapest', 1), ('cmax', 1), ('electronic-cigarette', 1), ('exmouth', 1), ('timmy', 1), ('tightly', 1), ('drastically', 1), ('originated', 1), ('hotel,', 1), ('third.\"', 1), ('ecs.', 1), ('bad.\"', 1), ('cider', 1), ('blacklisted', 1), ('age-restricted', 1), ('nespresso)', 1), ('determining', 1), ('cthomas@cnpapers.com', 1), ('\"thirty-one', 1), ('spectacularly', 1), ('kamal.', 1), ('$10bn', 1), ('trains.\"', 1), ('grown.', 1), (\"mcgill's\", 1), ('unexpected.', 1), ('612-673-4804', 1), ('budget,', 1), ('storm', 1), ('\"lancashire', 1), ('coveted', 1), ('$3.', 1), ('enforcement.', 1), ('brakes', 1), ('overnight', 1), ('odorless.', 1), ('fda?', 1), ('overdue.', 1), ('attitudes.', 1), ('impediment,\"', 1), ('outs', 1), ('specified.', 1), ('ramirez', 1), ('exposing', 1), ('loops-like', 1), ('luke', 1), ('3857.', 1), ('couches', 1), ('obeys', 1), ('easy-going', 1), ('innovators', 1), ('boat,', 1), ('backward', 1), ('headlines,', 1), ('lightly', 1), ('15mg).', 1), ('reform', 1), ('£500', 1), ('\"e-cigarette\"', 1), ('sympathetic', 1), ('fund,', 1), ('pleasure.', 1), ('oxycontin', 1), ('ploom,', 1), ('canibalisation', 1), (\"(i've\", 1), ('struggling', 1), ('drastic,', 1), ('don\\'t.\"', 1), ('enormously', 1), ('17--howard', 1), ('borrow', 1), ('awe', 1), ('(everyday', 1), ('darul', 1), ('sale;', 1), ('precautions,', 1), ('participate', 1), ('campus,\"', 1), ('sections,', 1), ('view.\"', 1), ('common:', 1), ('trickles', 1), ('douglass.', 1), ('stadium,\"', 1), ('tight,', 1), ('turks\",', 1), ('14.8%', 1), ('bewley,', 1), ('undermining', 1), ('gardens,', 1), ('clearish', 1), ('nicotine?', 1), (\"''you\", 1), ('low-', 1), ('64', 1), (\"vapors'\", 1), ('charges', 1), ('succeed,', 1), ('atomized', 1), ('vienna,', 1), ('positions.', 1), (\"xhale's\", 1), ('mixer,', 1), ('neglected', 1), ('deep-pocketed', 1), ('relationship.', 1), ('properly,', 1), ('hobbyist.', 1), ('vap', 1), ('decent', 1), ('patterson,', 1), ('lites,', 1), ('costeffective', 1), ('nervously', 1), ('start.', 1), ('paraphernalia.', 1), ('1952.', 1), ('from?', 1), ('$9)', 1), ('inconsistent', 1), ('overtaken', 1), ('pharmacology,', 1), ('foodâ', 1), ('barone', 1), ('hit-and-run', 1), ('perpective,', 1), ('boast', 1), ('@dailymail.ie', 1), ('microchip', 1), ('starving', 1), ('magnanimously', 1), ('aliso', 1), ('impact,', 1), ('star:', 1), ('player.', 1), ('dominates', 1), ('expediency', 1), (\"dublin's\", 1), ('hasty', 1), ('eyeball', 1), ('2019,\"', 1), ('better,', 1), ('apartments;', 1), ('mods.\"', 1), ('projecting', 1), ('aspect,', 1), ('thurairajasingam,', 1), ('yeah,\"', 1), ('steadfast', 1), ('reinan', 1), ('utara', 1), ('tomorrow', 1), ('rotary', 1), ('cig-alikes', 1), ('online,\"', 1), ('whitson,', 1), ('unsuspecting', 1), ('profile.', 1), ('drescher,', 1), ('nostrils,', 1), ('chamber,', 1), (\"'ala\", 1), ('contest', 1), ('notably', 1), ('asian', 1), ('armaments?', 1), ('standard.\"', 1), ('spices', 1), ('half-done', 1), ('enough?', 1), ('impression.', 1), ('corporation', 1), ('spot:', 1), ('depend', 1), ('dependence.\"', 1), ('osborn', 1), (\"register's\", 1), ('1886,', 1), ('writes).', 1), ('consolation.', 1), ('format?', 1), ('carpets,', 1), ('disagreed', 1), ('70per', 1), ('standard,\"', 1), ('vanderford', 1), ('junctions,', 1), ('=', 1), (\"halle's\", 1), ('airliner', 1), ('looks,', 1), ('verb', 1), ('wants.', 1), ('protection.', 1), ('item,\"', 1), ('alleviating', 1), ('treading', 1), ('opinions.', 1), ('commerce,', 1), ('\"vapreneurs\"', 1), (\"industry,''\", 1), ('lanterns,', 1), ('woty', 1), ('weaning', 1), ('dailey', 1), ('clampdowns.', 1), ('accent', 1), ('void', 1), ('figures,\"', 1), ('lectern', 1), ('myth.', 1), ('nosmoking', 1), ('times-picayune.', 1), ('r.', 1), ('linguists,', 1), ('treatable', 1), ('(euro)7.3m.', 1), ('milligram,', 1), ('dreadful', 1), ('money,\"', 1), ('location?', 1), ('wala', 1), ('ill-advised', 1), ('undertook', 1), ('alternatives\"', 1), ('dishes.', 1), ('pills.', 1), ('stall,', 1), ('output,', 1), ('2-3m', 1), ('fags.', 1), ('refuse', 1), ('stainless-steel', 1), ('(cigarette)', 1), ('innovapetions,', 1), ('harder,', 1), ('e-smoking,', 1), ('reckon', 1), ('burning,', 1), ('allen,', 1), ('july1.\"', 1), ('elsewhere.â', 1), ('quit.\"', 1), ('cosmic', 1), ('trend-setting', 1), ('\"dangerous\"', 1), ('professionals,', 1), ('sms', 1), ('superintendent,', 1), ('life,\"', 1), ('brusque', 1), ('fleetingly', 1), ('italy', 1), ('relevance,', 1), ('bette', 1), ('shun', 1), ('like?â', 1), ('photographed', 1), (\"taxpayers'\", 1), ('engaged', 1), ('¨reynards', 1), ('playground.', 1), ('drug.the', 1), ('smithereens.', 1), ('revol,', 1), ('tagging', 1), ('objective,', 1), (\"stay'\", 1), ('laser', 1), ('throwing', 1), ('intensity.', 1), ('orange,', 1), ('bludgeoned', 1), ('gutterways.', 1), ('likening', 1), ('double-checking', 1), ('craigslist.', 1), (\"chapman's\", 1), ('gehlau.', 1), ('comparison', 1), ('uniting', 1), ('chocolate-flavoured', 1), ('collaborative', 1), ('greece,', 1), ('lets', 1), ('vomit,', 1), ('passers', 1), ('maryland,', 1), ('establishments,', 1), ('damages.', 1), ('unclaimed', 1), ('vaping_agency', 1), ('consciousness-raising', 1), ('everything.', 1), ('60-year-old', 1), ('differ-ent', 1), ('reaction:', 1), ('resistance,', 1), (\"q.i'm\", 1), ('pressed', 1), ('puffing.', 1), ('(ends)', 1), ('identical.', 1), ('raked', 1), ('males', 1), ('tremendously', 1), ('nicotine-delivery', 1), ('produced.', 1), ('alam', 1), ('scratch.', 1), ('oddly,', 1), ('yield', 1), ('cotton,', 1), ('low-risk,', 1), ('shore', 1), ('erdahl', 1), ('father-of-two', 1), ('university/maryland', 1), ('garner', 1), ('quedgeley,', 1), ('myers', 1), ('flip-phone', 1), ('fischer,', 1), ('trends\".', 1), ('equivalency', 1), ('shopkeepers.', 1), ('vapor,\"', 1), ('doers', 1), ('addictively', 1), (\"stork'.\", 1), ('glen', 1), ('pace.', 1), ('lamps', 1), ('drafted,', 1), ('[e-cigarette]', 1), ('tariffs', 1), ('&ldquo;encourages', 1), ('tag', 1), ('pizza', 1), ('hyatt,', 1), ('size.', 1), ('taverns', 1), ('partake', 1), ('mahmud', 1), ('tallian', 1), ('¨perhaps', 1), ('illegally', 1), ('aid,', 1), ('tar-', 1), ('steven', 1), ('38a,', 1), ('funeral,', 1), ('engages', 1), ('jarratt,', 1), ('ate', 1), ('sides,\"', 1), ('study.\"', 1), ('a;', 1), ('(notably,', 1), ('colette', 1), ('something;', 1), ('whiled', 1), ('gastonia,', 1), ('highlighting', 1), ('malls,\"', 1), ('capturing', 1), (\"'cloud\", 1), ('commentary', 1), ('air?', 1), ('vibe:', 1), ('officials,', 1), ('images,', 1), ('\"\"the', 1), ('(prohibited)', 1), ('\"psychological', 1), ('meal', 1), ('genetic', 1), ('\"\"it', 1), ('guild,', 1), ('circumstances.', 1), ('wendell', 1), ('nottingham', 1), ('chill', 1), ('hansen,', 1), ('lord', 1), ('connection', 1), ('offtobacco.', 1), ('9-1', 1), ('crushed', 1), ('interim', 1), ('furnish', 1), ('unspoken', 1), ('was;', 1), ('abandon', 1), ('about?', 1), ('accountable', 1), ('routes.', 1), (\"'i'm\", 1), ('ss', 1), ('mankind.', 1), ('mp3', 1), ('alluring,', 1), ('motorcycle', 1), ('reins', 1), ('nada.', 1), ('institutional', 1), ('651-925-5043', 1), ('\"juices', 1), ('judicious', 1), ('fridays', 1), ('29.1', 1), ('read,', 1), ('bogart', 1), ('spikes:', 1), ('showcase', 1), ('adhering', 1), ('id.', 1), ('quoted.', 1), ('baderudin', 1), ('etiquette\".', 1), ('countries\",', 1), ('week.\"', 1), ('audited.', 1), ('clever', 1), ('february?', 1), ('cruickshank,', 1), ('guys,\"\"', 1), ('date:', 1), (\"sector's\", 1), ('j.r.', 1), (\"juice'\", 1), ('dfraser@leaderpost.com', 1), ('deputies', 1), ('horrible,', 1), ('temple', 1), ('flavouring,\"', 1), ('authorities.', 1), ('neighborhood,', 1), ('benelux', 1), ('[electronic', 1), ('exacerbation', 1), ('corrupt', 1), ('employee.', 1), ('risk,\"', 1), (\"bern's\", 1), ('gold-and-diamond', 1), ('intimidation', 1), (\"b.c.'s\", 1), ('£20', 1), ('rapport', 1), ('destinee', 1), ('sources,\"', 1), ('thailand,', 1), ('smugglers', 1), ('exposure.', 1), ('dupuis', 1), ('mansor', 1), ('[devices]', 1), ('victim.', 1), ('supportive.', 1), ('poorly', 1), ('bottled', 1), ('loggerheads', 1), ('films', 1), ('disagree.', 1), ('mckee', 1), ('death,', 1), ('routine', 1), ('industry/consumers.', 1), ('exception.', 1), ('10ml.', 1), ('tobacco-loot', 1), ('principals', 1), ('colourings.', 1), ('e-cigarette\"', 1), ('adults.\"', 1), ('11)', 1), ('rotating', 1), ('fortune', 1), ('$225', 1), ('morita', 1), ('non-committal', 1), ('lib', 1), ('hours:', 1), ('airing', 1), ('\"carts\"', 1), ('antifreeze...', 1), ('rti', 1), ('fueled', 1), ('(\"threat', 1), ('dang', 1), ('appointed,', 1), (\"age.'\", 1), ('circumvent', 1), ('blogs,', 1), ('komtar', 1), ('www.timesleader.com', 1), ('summit,', 1), ('¿we', 1), ('interview,', 1), ('pen-like', 1), ('yet\"', 1), ('infuriating.', 1), ('bernard', 1), ('garber,', 1), ('legislature.', 1), ('evenhanded', 1), ('06--shamokin', 1), ('drinkers', 1), ('657', 1), ('merchants.', 1), ('meaningful.', 1), ('because:', 1), ('spencer', 1), (\"stores'\", 1), ('needham', 1), ('@lorikerseywv', 1), ('attractive,\"', 1), ('unnerving,', 1), ('www.postbulletin.com', 1), ('\"vaporizing.\"', 1), ('hart,', 1), ('£2,300', 1), ('friendly.', 1), ('kind,', 1), ('beakers,', 1), ('\"lately,', 1), ('cartridge,', 1), ('\"harm-reduction\"', 1), ('follow-up', 1), ('hopelessly', 1), ('machines\"', 1), ('fast-emerging', 1), ('smk', 1), ('bureaucrat', 1), ('engagement', 1), ('(possibly', 1), ('off-ramp', 1), ('(wag)', 1), ('80s.', 1), ('ethically', 1), ('yazuan', 1), ('cadwaladr', 1), ('vermont.', 1), (\"e's\", 1), ('shaari', 1), ('unproven.', 1), ('choices\"', 1), ('robot', 1), ('\"waste', 1), ('nobel', 1), ('caters', 1), ('starting.\"', 1), ('vapourized', 1), ('dell,', 1), ('europe.', 1), ('barack', 1), ('[rule]', 1), ('tradesman', 1), ('state-of-the-art', 1), ('construction.', 1), ('\"blu', 1), ('1)', 1), ('ice-making', 1), ('e-bar', 1), ('problems.\"', 1), ('shield.', 1), ('follow.', 1), ('luis', 1), ('committing.', 1), ('karen,', 1), ('kain', 1), ('2014?', 1), ('purebacco', 1), ('deja', 1), ('serbia', 1), ('deadly,\"', 1), ('(co),', 1), ('2p', 1), (\"'an\", 1), ('20th', 1), ('\"crippling', 1), ('vladimir', 1), ('smoking&rdquo;', 1), ('transpose', 1), ('fifer', 1), ('permission.', 1), ('sundays', 1), ('exploited,', 1), ('buckner,', 1), ('bandi', 1), ('visas', 1), ('america.\"', 1), ('76', 1), ('replacement,', 1), ('quantities.', 1), ('were.', 1), ('dwindled', 1), ('35%', 1), ('foodgrade', 1), ('1994', 1), ('none,', 1), ('inspectors.â', 1), ('jeans', 1), ('certain,', 1), (\"'unfair'\", 1), ('announced.\"', 1), ('carriage\".', 1), ('modâ', 1), ('manual', 1), ('homegrown', 1), (\"nst's\", 1), ('oolong', 1), ('holub.', 1), ('matters.', 1), ('cinema?', 1), ('explosion,', 1), ('hooman', 1), ('themselves.nick', 1), ('island]', 1), ('maryland;', 1), ('end.', 1), ('departments,', 1), (\"mooney's\", 1), ('lgbt,', 1), ('one?\"', 1), ('2006.', 1), ('navy.', 1), ('embedded', 1), ('ubm', 1), ('frontrunner,', 1), ('collectibles,', 1), ('pharm,\"', 1), ('premier', 1), ('praying', 1), ('connoisseurship', 1), ('toan', 1), ('$450', 1), ('stalled', 1), ('toluene', 1), ('defeating', 1), ('mistaken', 1), ('rosalee', 1), ('pa.\"', 1), (\"duncan's\", 1), ('leave.', 1), ('brews.', 1), ('\"best-in-class\"', 1), ('33.7%,â', 1), ('us$23.4', 1), ('\"sensible', 1), ('defied', 1), ('indonesia', 1), ('skipper,', 1), ('promoting,', 1), ('salem,', 1), ('gritty', 1), ('1980s.', 1), ('(edd).', 1), ('(against)', 1), ('calculations', 1), (\"alberta's\", 1), ('salad', 1), ('metres,\"', 1), ('bahardin', 1), ('dilution', 1), ('starbucks', 1), ('\"absolutely.', 1), ('boundaries', 1), ('¨until', 1), ('outdated', 1), ('bolton', 1), ('\"slacktivism\"', 1), ('clip,', 1), ('menthe', 1), ('counts,', 1), ('cola', 1), ('artery-hardening', 1), ('194', 1), ('upsets', 1), ('ecigintelligence,a', 1), ('levelling', 1), ('legislate,', 1), ('right,\"', 1), ('tight-lipped', 1), ('permissible', 1), ('translate:', 1), ('ph.d.,', 1), ('kringle.', 1), ('\"\"you\\'re', 1), ('kerry', 1), ('distractions.', 1), ('toxicologists,', 1), ('recreation', 1), ('ayub.', 1), ('stampede', 1), ('vaporiser.', 1), ('flame,', 1), ('professed', 1), ('@mattwridley', 1), ('weaken', 1), ('sources,', 1), ('pun-packed', 1), ('contain.', 1), ('whimper.', 1), ('chelsey', 1), ('assault,', 1), ('discouraged', 1), ('anymore.i', 1), ('craggy', 1), ('silly', 1), ('putman', 1), ('acceptable,', 1), ('glowing', 1), ('growers', 1), ('stuck', 1), ('self-regulated', 1), ('astonishing.\"', 1), ('jams', 1), (\"publishers'\", 1), (\"santa's\", 1), ('jar', 1), ('m3', 1), ('impediment', 1), ('carbonyls,', 1), ('camaraderie.', 1), ('warped', 1), ('emphasized', 1), ('harmful?\"', 1), ('underground', 1), ('pools', 1), ('contributes', 1), ('ams.', 1), ('mirren:', 1), ('winds.', 1), ('capone.', 1), ('\"already', 1), ('flavours,\"', 1), ('\"atty\"', 1), ('society?', 1), ('leaves,', 1), ('discredited,', 1), ('\"(w)hen', 1), ('td', 1), ('erected', 1), ('resources.', 1), ('bs', 1), ('boice,', 1), ('oak', 1), ('disassembled', 1), ('preventable', 1), ('(£6bn)', 1), ('(4643333)', 1), ('spouted', 1), ('admission,', 1), (\"vaping'),\", 1), ('coast', 1), ('will.\"', 1), ('gratification,', 1), ('glossary', 1), ('ridzuan.', 1), ('atty\".', 1), ('laugh', 1), ('carcinogenic)', 1), ('harmless,\"', 1), ('hunting', 1), ('action,', 1), ('felons\"', 1), ('yaakob.', 1), ('20mph', 1), ('hadith,', 1), ('108', 1), ('cruel', 1), ('motivating', 1), ('surround', 1), ('lifestyle.', 1), ('\"finally,', 1), ('facilities;', 1), ('parenting.', 1), ('ton', 1), (\"harding's\", 1), ('balance,', 1), ('attached.', 1), ('pharmacies,', 1), ('step-down', 1), ('stiffens', 1), ('changes,\"', 1), ('batteryoperated', 1), ('smoked?', 1), ('overdoses...', 1), ('judgment', 1), ('function,', 1), ('category.', 1), ('practicing', 1), ('khairulfaizi', 1), ('pre-season', 1), ('01392', 1), ('chance.', 1), ('hoke,', 1), ('killers,\"', 1), ('legendary', 1), ('denounced', 1), ('drops,\"', 1), ('visit:', 1), ('\"word', 1), ('seller', 1), ('(negri', 1), ('55', 1), ('bernama', 1), ('sleazy', 1), ('earnings,', 1), ('(fomca)', 1), ('learning.', 1), ('flowing', 1), ('¨although', 1), ('e,', 1), ('reaction,', 1), ('rinella', 1), ('nowadays', 1), ('cupcake.', 1), ('loucks', 1), ('guelph', 1), ('far..', 1), ('\"saving', 1), ('condition,', 1), ('hamilton.', 1), ('steel', 1), ('village?', 1), ('drinking?', 1), ('ones.', 1), ('licences,', 1), ('been!â', 1), ('moose', 1), ('shapes,', 1), ('onslaught?', 1), ('1.5', 1), ('most-intricate', 1), ('dfalchek@timesshamrock.com', 1), (\"harm',\", 1), ('inward', 1), ('thicker', 1), ('excessively', 1), ('17--on', 1), ('shoe.', 1), ('lotus,', 1), ('competitiveness\"', 1), ('alienation,', 1), ('everett,', 1), ('navigate', 1), ('longer,', 1), ('letting', 1), ('anecdote', 1), ('appointment,', 1), ('walele.', 1), ('coins', 1), ('posturing', 1), ('patio', 1), ('counter-', 1), ('jonrowe', 1), ('favours.', 1), ('idea,', 1), ('stadiums', 1), ('editorial@plusmediasolution.com', 1), ('toxic.\"', 1), ('plus.', 1), ('pricey.', 1), ('ironic', 1), ('trending', 1), ('evidenced-based', 1), ('vaping.]\"', 1), ('attendees', 1), ('lewis,', 1), ('perils', 1), ('1960s.', 1), ('transport,', 1), ('($650', 1), ('e-hookahs,', 1), ('cigarettes.i', 1), ('\"traditional\"', 1), ('networking', 1), ('cinnamon.', 1), ('stagger', 1), ('lab\"', 1), ('fda-approved-clean', 1), ('mowing', 1), (\"'spendthrift\", 1), ('personality', 1), ('15.7', 1), ('legally,â', 1), ('nibbles', 1), ('approaching,', 1), ('back.\"', 1), ('38c', 1), ('underlying', 1), ('guests,', 1), ('re-allocated.â', 1), ('(\"we', 1), ('fda-1088', 1), ('drop,', 1), ('stages,\"', 1), ('weaving', 1), ('tips,', 1), ('e-cigarettes.\\'\"', 1), ('1965.', 1), ('eye-opening.', 1), ('era-defining', 1), ('jest', 1), ('vials).', 1), ('\"putting', 1), ('£25', 1), ('harmfulness.', 1), ('skyrocketed', 1), ('mixed.', 1), ('amped-up', 1), ('suppress', 1), ('easy-to-use', 1), ('cost-effective,', 1), ('7:30', 1), ('fatty', 1), ('multi-purpose', 1), ('positive,', 1), ('(nicorette®;', 1), ('\"lighting', 1), ('untaxed', 1), ('dirtier', 1), ('spots,', 1), ('josh,', 1), ('tuesdays', 1), ('36p', 1), ('4.5', 1), ('butts', 1), ('simatech', 1), ('meals,', 1), ('jackson', 1), ('\"re-normalizing\"', 1), ('selves', 1), ('capped', 1), ('adventurism', 1), ('prevented)', 1), ('jury,', 1), ('herald,', 1), ('\"light', 1), (\"on'\", 1), (\"jakobowska's\", 1), ('polonium', 1), ('gunn', 1), ('sleep', 1), ('conversion,', 1), ('pollard,', 1), ('china).', 1), ('fuction,', 1), ('grounds,', 1), ('law.\"', 1), ('mc-cann', 1), ('\"clamouring\"', 1), ('(d-il)', 1), ('city).', 1), ('shou', 1), ('hospitals.', 1), ('cigalikes,', 1), ('teenagers?', 1), ('expo', 1), ('fctc', 1), ('\"mine', 1), ('co-led', 1), ('good.\"', 1), (\"mouth'\", 1), ('www.grandforksherald.com', 1), ('(ppim)', 1), ('\"buy', 1), ('communicable', 1), ('e-cigarettes.house', 1), ('mounting', 1), ('emanuel', 1), ('factories.', 1), ('spanning', 1), ('doctorsnotes@thestar.ca', 1), ('lauria,', 1), ('escape.', 1), ('ronkonkoma-based', 1), ('sought-out', 1), ('packs,', 1), ('lying.', 1), ('not.\"', 1), ('resendes,', 1), ('sunk', 1), ('scuttling', 1), ('service,\"', 1), (\"'well,\", 1), ('murray', 1), ('nicotine-', 1), ('toxicity,', 1), ('(herts', 1), ('posterity', 1), ('activity.', 1), ('constricts', 1), ('self-respect', 1), ('travis', 1), ('printed:', 1), ('screen.', 1), ('enraptured', 1), ('unapologetic', 1), ('recoup', 1), ('debate:', 1), ('\"do', 1), ('mo.,', 1), ('type:', 1), ('brooklyn).', 1), ('years;', 1), ('amsterdam,', 1), ('boulder)', 1), ('evening', 1), ('charger,', 1), ('patterns.', 1), ('exhaling.', 1), ('protocol', 1), ('rife,', 1), ('devotion', 1), ('melnick,', 1), ('london.', 1), ('coconut', 1), ('worrying.', 1), ('gilbert', 1), ('wee', 1), ('30--some', 1), ('yahya', 1), ('worms', 1), ('invariably', 1), ('loose-leaf', 1), ('continuous\"', 1), ('szweifler@philly.com', 1), ('item.', 1), ('mistruths', 1), ('kersey', 1), ('breathable', 1), ('affix', 1), ('applies:', 1), ('bill.&rdquo;ms.', 1), ('flavour)', 1), ('deterrent.', 1), ('24mg.', 1), ('2015-17', 1), ('michaeline', 1), ('experiment.', 1), ('body,\"', 1), (\"''the\", 1), ('strengthened', 1), ('possession,', 1), ('devices),', 1), ('mirror', 1), ('assistance.', 1), ('tube.', 1), ('$200,000', 1), ('kuching', 1), ('falmouth,', 1), ('collection', 1), ('£12m', 1), ('e-cigs,\"', 1), ('refusal', 1), ('knew.\"', 1), ('itching', 1), ('by.', 1), ('simplicity.\"', 1), (\"'vaping\", 1), ('whatsoever,\"', 1), ('campbell.', 1), (\"marsh,'\", 1), ('@thevapetrader.', 1), ('colonies', 1), (\"fin's\", 1), ('authorization\"', 1), ('kendall,', 1), (\"mansberger's\", 1), ('depend.', 1), ('fleenor,', 1), ('others),', 1), ('recognising', 1), ('bullets?', 1), ('options.\"', 1), ('production:', 1), ('owing', 1), ('similarly', 1), ('mall,\"', 1), ('8000', 1), ('lawsuit', 1), ('\"students', 1), ('bold-print', 1), ('$12.', 1), ('riverfront', 1), ('useless', 1), ('sack', 1), ('be,\"', 1), (\"there'd\", 1), ('reached.', 1), ('realage', 1), ('allergy', 1), ('tilson', 1), ('quarter.', 1), ('gender-equality', 1), ('rivera,', 1), ('age-related', 1), ('drafted.', 1), ('committing.\"', 1), ('russell,', 1), ('number-one', 1), ('proactive', 1), ('upstate...', 1), (\"australia's\", 1), ('syringes,', 1), ('woman.', 1), ('jerk\"', 1), ('lexington.', 1), ('world-especially', 1), ('irrelevant.', 1), ('physically', 1), ('year-on-year.', 1), ('referenced', 1), ('depositing', 1), ('sugar.', 1), ('flush', 1), ('pooler', 1), ('\"surprised\"', 1), ('behaviour.\"', 1), ('shoals.', 1), ('garnered', 1), ('lau,', 1), ('disinformation', 1), ('ritter,', 1), ('$2.5', 1), ('halt', 1), ('teachers)', 1), ('blank', 1), ('dharar', 1), ('cfo', 1), ('2016.\"', 1), ('importers,', 1), ('beliefs,', 1), ('\"unique', 1), ('brunswickers,', 1), ('con:', 1), ('@dailydeadline', 1), ('coincidentally', 1), ('bystander,', 1), ('doused', 1), ('starter.\"', 1), (\"hon's\", 1), ('waited', 1), ('raton,', 1), ('direction,\"', 1), ('tie,', 1), ('contrast', 1), ('\"hypocrisy\"', 1), ('industry?', 1), ('surprise\"', 1), ('nadzmi', 1), ('pleasing', 1), ('boomed.', 1), ('organise', 1), ('student.', 1), ('ciga', 1), ('distinctive', 1), ('burn.', 1), ('covered,', 1), ('weird,\"', 1), ('nostrils', 1), ('modify', 1), ('bostick,', 1), ('commuters', 1), ('cares,', 1), ('water).if', 1), ('teknologi', 1), ('free-for-all.', 1), ('delicatessen.', 1), ('hand-tomouth', 1), ('measuring', 1), ('springs.', 1), ('out.now', 1), ('quotes)', 1), ('little.', 1), ('ludicrous.', 1), ('novice.', 1), ('trapper', 1), ('you,\"', 1), ('heads.\"', 1), ('reveals.', 1), ('representing', 1), ('themselves,\"', 1), ('underreported', 1), ('globe', 1), ('conjunction', 1), ('upgraded', 1), ('minnesota,', 1), ('joys', 1), ('ashtrays', 1), ('stirling', 1), ('cough,', 1), ('north-south', 1), ('intractable.â', 1), ('rinella,', 1), ('spares.', 1), ('irony', 1), ('flame.', 1), ('kitty', 1), ('(before', 1), ('slovakian', 1), ('marijuana.\"we\\'ve', 1), ('pamela', 1), ('downstairs', 1), ('report.in', 1), ('mid-thirties.', 1), ('\"gateway', 1), ('zawertailo', 1), ('accommodation', 1), ('tattooed', 1), ('$150,', 1), ('stand.', 1), ('na', 1), ('\"i\\'ll', 1), ('universityand', 1), ('2016;', 1), ('protects', 1), ('ceremony,', 1), ('temple,', 1), ('disappointing', 1), ('(chris', 1), ('crazy,\"', 1), ('paulson,', 1), ('teeth.', 1), ('diamond', 1), ('amplifies', 1), ('http://www.philly.com/philly/wires/ap/news/nation/20140424_ap_0a7bcdf790ab463ca6', 1), ('retford', 1), ('mouth,\"', 1), ('(64%)', 1), (\"society's,\", 1), ('threat,', 1), ('(1995)', 1), ('investigated.', 1), ('endless.', 1), ('blueberry-flavoured', 1), ('guests.', 1), ('irritate', 1), ('hypocritical', 1), ('content.', 1), ('stevens,', 1), ('2).', 1), ('lightly.', 1), ('\"unrestricted', 1), ('courtesy', 1), ('carper,', 1), ('petri', 1), ('knives', 1), ('halves.', 1), ('vaping),', 1), ('shoals/charleston', 1), ('thursday.in', 1), ('berry,', 1), ('expeditious', 1), ('stimulation).', 1), ('philosophy.', 1), ('everyday', 1), ('inspections,\"', 1), ('openings', 1), ('harlem', 1), ('bottling', 1), ('sun.\"', 1), ('vice-chancellors.', 1), ('9781627060547.', 1), ('horner', 1), ('ipas', 1), ('unchallenged', 1), ('dickson', 1), ('voyager?', 1), ('sains', 1), ('go?', 1), ('6mg.\"', 1), ('24mg,', 1), ('researcher,', 1), ('lungfuls', 1), ('boils', 1), ('hairs', 1), ('2014).the', 1), ('dribbled', 1), ('handley', 1), ('cassandra', 1), ('marshall,', 1), ('tons', 1), ('boise,', 1), ('oz,', 1), ('depressed.', 1), ('moderately', 1), ('attend,\"', 1), ('convenient.', 1), ('locations,\"', 1), ('(those', 1), ('co-organiser', 1), ('interjected', 1), ('refund', 1), ('\"mod\",', 1), ('trips.', 1), ('heeding', 1), ('nightmare.', 1), ('stefan', 1), ('carolgate', 1), ('evaluate', 1), ('spartanburg.', 1), ('levy', 1), ('mcloughlin,', 1), ('\"cig-a-like\"', 1), ('paragraph', 1), ('caption,', 1), ('(24%)', 1), ('rm400,', 1), ('1.8,', 1), ('inexplicably', 1), ('henderson,', 1), ('\"strongly', 1), ('markets,\"', 1), ('loathe', 1), ('circular', 1), ('¨riverside', 1), ('13,\"', 1), ('cleaners', 1), ('warning?', 1), ('www.facebook.com/thevapecafe912.', 1), ('functional', 1), ('$2,000-$3,000', 1), ('money\".', 1), ('tools.', 1), ('output', 1), ('fabulous', 1), ('g-cigarette', 1), ('110-a', 1), ('caramel', 1), ('focal', 1), ('uncommon', 1), ('@kenrogan', 1), ('weight.', 1), ('weinstein,', 1), ('easy,', 1), ('cashier', 1), ('parties:', 1), ('necessity', 1), ('me.\"', 1), ('mafasid', 1), ('ishmael', 1), ('knowhow,', 1), ('juice:', 1), ('rubbished', 1), ('reductive', 1), ('mothballs.\"', 1), ('reasonable.', 1), ('exorbitantly),', 1), ('\"\"we\\'ve', 1), ('spearmint,', 1), ('narrators', 1), ('tastes.', 1), ('definitely,', 1), ('understandably', 1), ('floor', 1), ('die\".', 1), ('slow-suicide,', 1), ('ortega', 1), ('lives?', 1), ('grahams', 1), ('activity,\"', 1), ('alta.', 1), ('ceramic', 1), ('anxieties.', 1), ('confess', 1), ('fcerabino@pbpost.com', 1), ('felberbaum', 1), ('\"alarmist\"', 1), ('rusted', 1), ('liggett,', 1), ('unexposed', 1), ('shooting,', 1), ('buck-passing', 1), ('outsiders,', 1), ('commentator', 1), ('sneak', 1), ('tabled', 1), ('ground.\"', 1), ('obligatory.', 1), ('\"second', 1), ('9.4', 1), ('stimulate', 1), ('holy', 1), ('comparisons.', 1), ('twist', 1), ('similarities', 1), ('\"sickness', 1), ('boring.', 1), ('eradication', 1), ('them;', 1), ('accounts.', 1), ('evils.', 1), ('collectibles,\"', 1), ('chase', 1), ('barnet', 1), ('athens', 1), ('forever.', 1), ('smokers.considering', 1), ('tracey', 1), ('entrepreneur.', 1), ('strawberry.', 1), ('self-', 1), ('droves', 1), ('(irrational,', 1), ('anytime,', 1), ('transposing', 1), ('\"real\"', 1), ('crucial,\"', 1), ('three-and', 1), ('simatech.', 1), ('2ml.', 1), ('therein,', 1), ('jenna', 1), ('category,', 1), ('bearing', 1), ('going?', 1), ('final-year', 1), ('2020', 1), ('maplewood', 1), ('heavy-chested', 1), ('158', 1), ('self-regulated.', 1), ('marriott', 1), ('vests?', 1), ('nice\",', 1), ('operational', 1), (\"patients'\", 1), ('walls.', 1), ('sultry-looking', 1), ('care)', 1), (\"vaping.''\", 1), ('minds.', 1), ('deviances', 1), ('102.', 1), (\"lotus's\", 1), ('elegantly,', 1), ('co-opted', 1), ('rooftops', 1), ('tombstone', 1), ('questionnaire,', 1), ('arabia', 1), (\"device's\", 1), ('child?\"', 1), ('cakes,', 1), ('cake.what', 1), ('collection.', 1), ('calhoun', 1), ('snus.', 1), ('44.', 1), ('\"drip', 1), ('payers', 1), ('herman:', 1), ('relates', 1), ('electrical', 1), ('\"listicle\"', 1), ('mori', 1), ('resist', 1), ('basically,', 1), ('but.', 1), ('(nicotine', 1), ('54', 1), ('derision', 1), ('flawed', 1), ('abby', 1), ('knuckleheads.', 1), ('dylan', 1), ('stock.', 1), ('breaks.', 1), ('doug', 1), ('permeates', 1), ('toenails,\"', 1), ('dictators', 1), ('endgame', 1), ('catherine', 1), ('annum.', 1), ('cough.\"', 1), ('journalistic', 1), ('giveaways,', 1), ('promised,', 1), ('unlicensed,\"', 1), ('sufferers', 1), ('parameters', 1), ('nonsense,\"', 1), ('brainwashing', 1), ('\"directly', 1), ('rainbow', 1), (\"vintners'\", 1), ('judgments,', 1), ('belleville.', 1), ('nuetralising', 1), ('dhuder', 1), ('(jakim)', 1), ('appelbaum', 1), ('condoning', 1), ('remains,\"', 1), ('(nickel', 1), ('404-222-2002', 1), ('kopczick.', 1), ('elude', 1), ('respiration', 1), ('flooded', 1), (\"victoria's\", 1), ('principle\"', 1), ('tax\"', 1), ('cause!', 1), ('traded', 1), ('flipping', 1), ('(has', 1), ('anodyne', 1), ('tell.', 1), ('swamenathan.', 1), ('zakaria.', 1), ('\"unless', 1), ('okc', 1), ('rachael', 1), ('magazine.', 1), ('revelation', 1), (\"frank's\", 1), ('07,', 1), ('2039,', 1), ('concurred', 1), ('website:', 1), ('library\"', 1), ('allowed?', 1), ('orwellian', 1), ('on!\"', 1), ('away.my', 1), (\"nutter's\", 1), ('punch', 1), ('shake\"', 1), ('heimerman,', 1), (\"society's\", 1), ('cool-ometer,', 1), ('31-year-old', 1), ('bio-accumulate', 1), ('them.barry', 1), ('easter', 1), ('tice', 1), ('mohammed', 1), ('nino/la', 1), ('6:30', 1), ('everything.\"', 1), (\"crop,''\", 1), ('be)', 1), ('(2)', 1), ('nature,', 1), ('interconnected', 1), ('heroic.', 1), ('burning,\"', 1), ('24-year-old', 1), ('under-25s,', 1), ('thereafter.', 1), ('\"non-toxic\".', 1), ('questionable', 1), ('reins.', 1), ('house,\"', 1), ('$7', 1), ('vaporizers.the', 1), ('symbolization', 1), ('mevta,', 1), ('vapouriser,', 1), ('adamantly', 1), ('\"happy', 1), ('tuah', 1), ('(53%)', 1), ('deepavali', 1), ('$900,000.', 1), ('[my]', 1), ('graves', 1), ('vice-chancellors', 1), ('non-toxic', 1), ('racists', 1), ('dickinson,', 1), ('barra,', 1), ('tools:', 1), ('rod.\"', 1), ('cocaine.', 1), ('(2013)', 1), ('seremban:', 1), ('co-sponsoring', 1), ('grapple', 1), ('levin,', 1), ('counselling,', 1), ('faster.', 1), ('self-styled', 1), ('underground,\"', 1), ('$500,000', 1), ('patel', 1), ('behavior,', 1), ('richmond', 1), ('lakeland.', 1), ('(now', 1), ('gamble', 1), ('pigtown', 1), (\"not'\", 1), ('fundamental', 1), ('complained', 1), ('fractured', 1), ('glycol;', 1), ('angie', 1), ('when...', 1), ('lovely', 1), ('core', 1), ('shorter', 1), ('suicidal', 1), ('jaclyn', 1), ('tiramisu', 1), ('us?\\'\"', 1), ('customizable', 1), ('standards,\"', 1), ('r-c-i-garden', 1), ('non-existent.', 1), ('perpetuates', 1), ('stay.\"', 1), ('wall.', 1), ('consider,', 1), ('minefield,', 1), ('lionel', 1), ('w3', 1), ('city.\"', 1), ('(e-cigs)', 1), ('guilty', 1), ('of.\"', 1), ('behaving', 1), ('complains', 1), ('health:', 1), ('knowledge,', 1), ('sipp@srhd.org', 1), ('17-year-olds', 1), ('glide', 1), ('18),', 1), ('health?', 1), (\"'prevent\", 1), (\"warming'\", 1), ('iceberg.', 1), ('immeasurably', 1), ('lips,', 1), ('holywell', 1), ('thornberry', 1), ('download', 1), ('ciggies', 1), ('vigorously', 1), ('addiction:', 1), ('worried.', 1), ('2%', 1), ('min.', 1), ('kevin,', 1), ('research:', 1), ('co-sponsored', 1), ('mufti,', 1), ('reina?),', 1), ('1971,', 1), ('speech', 1), ('sight.', 1), ('/frank', 1), ('\"spewing', 1), ('vaping?electronic', 1), ('clothes.\"', 1), ('jogging', 1), ('radar', 1), ('candy,\"', 1), ('200-plus', 1), ('phased', 1), ('searches,', 1), ('banks.', 1), ('systems)', 1), ('threat\"', 1), ('@nanaimodailynews.com', 1), ('made,', 1), ('inhabit,', 1), ('counters.', 1), (\"[she's]\", 1), ('roane', 1), ('compiling', 1), ('switch:', 1), ('clicks', 1), ('2,000', 1), ('handcart.', 1), ('heavier', 1), ('definition.', 1), ('hole.', 1), ('62-percent.', 1), ('model,\"', 1), ('hopeful', 1), ('iq', 1), ('one-50th', 1), ('taken.', 1), ('stevens', 1), ('30-ml', 1), ('voyage', 1), ('insignificance', 1), ('tobacco)', 1), ('follows:', 1), ('matchday', 1), ('south)', 1), ('urgent', 1), ('standpoint', 1), ('refugee', 1), ('amazon-like', 1), (\"friends'\", 1), ('100k', 1), ('e-cigs).', 1), ('surefire', 1), ('lumbersexual', 1), ('lawyers.', 1), ('shots.', 1), ('kenpeak@gmail.comâ', 1), ('essence,', 1), (\"sun's\", 1), (\"'examination'\", 1), ('nails.', 1), ('(maqasid', 1), ('elaborate', 1), ('pro-smoking', 1), ('&ldquo;complete', 1), ('call,\"', 1), ('attorneys', 1), (\"weekend's\", 1), ('textbook', 1), ('agenda,', 1), ('3.2', 1), ('inserting', 1), ('opted', 1), ('\"[vaping]', 1), ('first.\"', 1), ('119', 1), ('cardiologist.', 1), ('wash', 1), ('customising', 1), ('vasiljevic,', 1), ('albans,', 1), (\"sticks,''\", 1), ('car.\"', 1), ('flanagan,', 1), ('toolkit.', 1), ('houston', 1), ('stopped.', 1), ('www.the-dispatch.com', 1), ('\"doing', 1), ('product.&rdquo;', 1), ('strives', 1), ('resolutions.', 1), ('cologne,', 1), ('bergland,', 1), ('978-338-2527,', 1), ('vype,', 1), ('whip', 1), ('craving,\"', 1), ('180', 1), ('refraining].', 1), ('cindy', 1), ('zealous', 1), ('lethal,\"', 1), ('yet-to-be', 1), ('outcry', 1), ('walsh,', 1), ('rebuffed', 1), ('dubious.', 1), ('self-serve', 1), ('positioned', 1), ('duluth', 1), ('dreamed', 1), ('oily', 1), ('tone\".', 1), ('nitrogen', 1), ('policies,\"', 1), ('caught.', 1), ('purchasing,', 1), ('5-year-old.', 1), ('map.', 1), ('you?', 1), ('over,\"', 1), ('belonging', 1), ('truvape,', 1), ('staffieri,', 1), ('walnut', 1), ('canada.\"', 1), ('mom', 1), ('tesco', 1), ('those.', 1), ('failed,', 1), ('setup,', 1), ('uncle,', 1), ('presently', 1), ('muslims,\"', 1), ('speaker,', 1), (\"operators'\", 1), ('practice.\"', 1), ('difference.', 1), ('fruits', 1), ('kick.', 1), ('processed', 1), ('evidence-based,', 1), ('bag,', 1), ('49-year-old', 1), ('transitions', 1), ('thornberry,', 1), ('showdown', 1), ('tavernise.', 1), ('front-page', 1), ('pharmacies,\"', 1), ('school,\"', 1), ('items,\"', 1), ('tea.', 1), ('lending', 1), ('sub-zero', 1), ('sefcik', 1), ('burials', 1), ('ordering', 1), ('zulkifli', 1), ('policies.&rdquo;', 1), ('couillard', 1), ('conundrums', 1), ('[\"schools', 1), ('try-before-you-buy', 1), ('\"juices\"', 1), ('whites', 1), ('ceremony', 1), ('effects\"', 1), ('replacing', 1), ('moar', 1), ('zealots,', 1), ('mutate', 1), ('coughs', 1), ('manufactured,', 1), ('bauld,', 1), ('encounters', 1), ('moratorium.', 1), ('sucked', 1), ('coughed', 1), ('1990,', 1), ('syndigate', 1), ('cardiff', 1), ('accords', 1), ('year.as', 1), ('unchecked', 1), ('cheers.', 1), ('guess.', 1), ('engulfed', 1), ('\"downtown', 1), (\"vaperz's\", 1), ('\"s***\"', 1), ('\"watering', 1), ('nv', 1), ('1989,', 1), ('1/20th)', 1), ('impede', 1), ('jensen,', 1), ('released,', 1), ('door,', 1), ('(784-8669)', 1), ('wholesaler', 1), ('disruption.â', 1), ('sean,', 1), ('patel,', 1), ('brigel.', 1), ('weapons,', 1), ('well-communicated', 1), ('shameful.', 1), ('still.â', 1), ('foodservice', 1), ('met;', 1), ('intensified', 1), ('selfie,', 1), ('coots', 1), ('fargo,', 1), ('sourced', 1), ('1101', 1), ('polarising', 1), ('spiteful', 1), ('¨allowing', 1), ('skyrocketing', 1), ('race', 1), ('independently.', 1), (\"al-zari'ah)\", 1), ('anxiety', 1), ('toenails', 1), ('extinguished', 1), ('niguel,', 1), ('profiteers', 1), ('$700,', 1), ('firmly,', 1), ('restriction,', 1), ('(4768837)', 1), ('120', 1), ('namechecking', 1), ('melaka', 1), ('paper-rolled,', 1), ('newcomer', 1), ('\"disappeared\"', 1), ('disaster.â', 1), ('locally-made', 1), (\"westall's\", 1), ('dispensing', 1), ('2001),', 1), ('blu.', 1), ('diffused', 1), ('(later', 1), ('e-cigars.', 1), (\"'vapers,'\", 1), ('overregulation', 1), ('\"shatter;\"', 1), ('bacteria,', 1), ('tattoos', 1), ('drug;', 1), ('site.', 1), ('playstation,', 1), ('parasites', 1), ('¿more', 1), ('anti-smoking,', 1), ('stiffen', 1), ('\"necessarily', 1), ('does,\"', 1), ('ceremonial', 1), ('analysis\"', 1), ('(note:', 1), ('finalised).\"', 1), ('grows', 1), ('sister-in-law,', 1), ('vape-and-beer', 1), ('buses', 1), ('\"immigrants', 1), ('hud&rsquo;s', 1), ('always,', 1), ('toking', 1), ('anybody¿s', 1), ('plc', 1), (\"'they\", 1), ('sidebars:', 1), (\"aha's\", 1), ('chillies', 1), ('650,000', 1), ('&;', 1), ('staffwas', 1), ('fruit-scented', 1), ('cofounder', 1), ('countercultural', 1), ('/crime', 1), ('observation,', 1), ('buried', 1), ('economical.', 1), ('lang.', 1), ('ipods', 1), ('ventilator', 1), ('shops\"', 1), ('spinelli', 1), ('precious.', 1), ('unchanged', 1), ('generations,', 1), ('demerits', 1), ('post.', 1), ('afif', 1), ('eating-out', 1), ('caffeinated', 1), ('greece:', 1), ('judge', 1), ('converse', 1), ('diagnosis.', 1), ('rises,', 1), ('moments', 1), ('board,\"', 1), ('concocted', 1), ('unexpected', 1), ('empathy', 1), ('with),\"', 1), ('reliable', 1), ('\"vapehq', 1), ('technology-based', 1), (\"kure's\", 1), ('teeming', 1), ('clearomizers.', 1), (\"'out\", 1), ('shops,\"', 1), ('publicsmoking.html', 1), ('atlantic.', 1), ('labelling', 1), ('orleans', 1), ('thereby', 1), ('dennis', 1), ('gratitude', 1), ('itv', 1), ('hands-on', 1), ('law,\"', 1), ('untroubled', 1), ('rm140', 1), ('johnson,', 1), ('by-election', 1), ('cling', 1), ('obesity\"', 1), ('insane', 1), ('co-workers', 1), ('breathtaking', 1), ('cleanliness', 1), ('fedder', 1), ('radio-canada', 1), ('understanding,\"', 1), ('gum!', 1), ('britain.', 1), ('faith,', 1), ('ibm', 1), ('tobacco?\"', 1), ('cigarillos,', 1), ('self-righteousness,', 1), ('fruit-flavored', 1), ('williams.', 1), ('chabot.', 1), ('regionally,', 1), ('filed,', 1), ('does.\"', 1), ('stains', 1), (\"volkswagen's\", 1), (\"system's\", 1), ('cigs?:', 1), ('tmz', 1), ('cogent', 1), ('(21.8', 1), ('sensitivity', 1), ('indulging', 1), ('bought,', 1), ('explaining.\"', 1), ('averts', 1), ('win-win', 1), ('certainty', 1), ('(under', 1), ('people:', 1), ('development?â', 1), ('failure,', 1), ('smartphones.', 1), ('honesty', 1), ('raindrops', 1), ('hartner,', 1), ('exhaling,\"', 1), ('characteristics,', 1), ('forbes,', 1), ('wangi', 1), (\"e-juice's\", 1), ('theatre', 1), ('lorien', 1), ('christopher.', 1), ('replicas', 1), ('adviser.', 1), ('berry', 1), ('minnetonka', 1), ('safety:', 1), (\"vulnerable'\", 1), ('\"assist', 1), ('brandon', 1), ('\"conversable', 1), ('buena', 1), ('northside', 1), ('abuse,', 1), ('¨he', 1), ('booths.', 1), ('fun,', 1), (\"e-lixirs'\", 1), ('shave', 1), ('product:', 1), ('proposals.', 1), ('yours\"', 1), ('lokman,', 1), ('zero-tolerance', 1), ('pollard.', 1), ('demonstrations.', 1), ('surveys', 1), ('tennis', 1), ('safer.', 1), ('clients,', 1), ('cost.', 1), ('http://thevapetrader.com,', 1), ('wherein', 1), ('coupled', 1), ('thanking', 1), ('tar,\"', 1), ('gr', 1), ('t.)even', 1), ('best-known', 1), ('box-mod', 1), ('penetrate', 1), ('denial.', 1), ('aha', 1), (\"'quota',\", 1), ('extrapolated', 1), ('rely', 1), ('fans,', 1), ('2-year-old', 1), ('nash,', 1), ('excluded,', 1), ('misleading,', 1), ('spewed', 1), ('paradise,', 1), ('doubt\"', 1), ('stoked', 1), ('knapsbury', 1), ('mallet,', 1), ('triangle.\"', 1), ('renewal', 1), ('areas).', 1), ('restaurants;', 1), ('goh,', 1), ('star/asia', 1), ('cause,', 1), ('cases,\"', 1), ('keys,', 1), ('mansberger', 1), ('rotate', 1), ('atmospheric', 1), ('christine.lavelle@thesun.co.uk', 1), ('\"mods\"', 1), ('benefit).', 1), ('festivities', 1), ('vape-friendly', 1), ('conclusively', 1), ('driving.nearly', 1), (\"mayor's\", 1), ('muttalif,', 1), ('imitate', 1), ('hian', 1), ('risks.\"', 1), ('lake.â', 1), ('fillmer', 1), (\"foo's\", 1), ('arrayed', 1), ('rewire', 1), ('kasim,', 1), ('required,', 1), ('testosterone.so', 1), ('airways.\"', 1), ('edge.', 1), ('meantime', 1), ('switchel', 1), ('automobiles,', 1), ('mona', 1), ('malay-dominated', 1), ('hartner.', 1), ('syamil', 1), ('1.9', 1), ('cartomizer.', 1), ('hygienic', 1), ('2001.', 1), ('charitable', 1), ('imitation', 1), ('awon)', 1), ('squirted', 1), ('definite', 1), ('afford.', 1), ('inconclusive.', 1), ('otto', 1), ('belgian', 1), ('validity', 1), ('factions', 1), ('bedroom.', 1), ('tions', 1), ('occasionally', 1), (\"nicotine's\", 1), ('everlasting', 1), ('calibrated', 1), ('prohibition,', 1), ('role.', 1), ('guitarist', 1), ('&ldquo;lead-based', 1), ('opening,', 1), ('bois', 1), ('imagery-free', 1), ('bathed', 1), ('illegal,\"', 1), ('empowers', 1), ('germany', 1), ('\"minister:', 1), ('that]', 1), ('sanction', 1), ('reintroduces', 1), ('tissue,', 1), ('origin', 1), ('working.\"', 1), (\"[londoner's\", 1), ('reeks', 1), ('are.\"', 1), ('kolste,', 1), ('meeting!\\'.\"', 1), ('things.\"', 1), ('06--bemidji', 1), ('convey', 1), (\"how's\", 1), ('collecting', 1), ('\"debate\"', 1), ('latif', 1), ('symbolizing', 1), ('(fl2.0%)', 1), ('(coining', 1), ('only,', 1), ('warmer.', 1), ('love,', 1), ('scepticism', 1), ('either!),', 1), ('roiled', 1), ('2014.\"', 1), ('vapers?', 1), ('¨on', 1), ('knocking', 1), ('vuse,', 1), ('models,\"', 1), ('(yet)', 1), ('rechargable', 1), ('arises', 1), ('isolates', 1), ('repetition', 1), (\"'nearly\", 1), ('hyatt', 1), ('dramatically.', 1), ('subjects.', 1), ('stiehm', 1), ('1.4', 1), ('\"farmers\\'', 1), ('\"such', 1), ('18\";', 1), ('cfp', 1), ('hypermint,', 1), ('hear,\"', 1), ('genes', 1), ('procedure)', 1), ('residue', 1), ('adrenalin', 1), ('\"ok,', 1), ('post-regulation,', 1), ('amuse', 1), ('clinicians.', 1), ('signmakers', 1), ('boice', 1), ('connotation', 1), ('duty-bound', 1), ('property,', 1), ('education)', 1), ('e-cigerettes', 1), ('welcomed,', 1), ('mep', 1), ('carper', 1), ('democracy', 1), ('exceptional', 1), ('milieu', 1), ('horrific', 1), ('beverages.', 1), ('achieve,', 1), ('counting', 1), ('brookline.', 1), ('@szweifler', 1), ('lowell', 1), (\"companies'\", 1), ('broncholitis', 1), ('christensen', 1), ('intentionally', 1), ('mechanism.', 1), ('known.earlier', 1), ('sluice', 1), ('stand,', 1), ('damage,\"', 1), ('vape-liquid', 1), ('handkerchief', 1), ('cartons', 1), ('fans,\"', 1), ('treatments.', 1), ('architect', 1), ('steer', 1), ('asai,', 1), ('locker', 1), ('pressures\".', 1), ('---jackie', 1), ('activate', 1), ('intervention', 1), ('\"closed\"', 1), ('brookline', 1), ('360°', 1), ('arguably', 1), ('droves.', 1), ('hgv', 1), ('whiplash', 1), ('treated,\"', 1), ('digit', 1), ('nina,', 1), ('advantages.', 1), ('golfing', 1), ('gullible', 1), ('cards\"', 1), ('evaporate.', 1), ('535', 1), ('fashionable.', 1), ('\"modified', 1), ('£2', 1), ('spate', 1), ('eliminating,\"', 1), ('transformation', 1), ('410-857-7890', 1), ('bulldog', 1), ('campaigner', 1), ('31--vapers,', 1), ('resides.', 1), ('clearwater;', 1), ('aluminum,', 1), ('patronage.', 1), ('9.0', 1), ('schoolers,', 1), ('malaysiaâ', 1), ('well-made.', 1), ('entering,', 1), ('(fleeting)', 1), ('well-known', 1), ('regulate).', 1), ('saturdays;', 1), ('chasers\",', 1), ('land.', 1), ('cottonmill', 1), ('(uf2.0%,', 1), (\"that.''\", 1), ('\"apart', 1), (\"chasers'\", 1), ('lately,', 1), ('(original', 1), ('operators.', 1), ('(ikhlas)', 1), ('revenant', 1), ('emailing', 1), ('happiness,', 1), ('effectsâ', 1), ('be.stephen', 1), (\"'mad\", 1), ('registration.', 1), ('small-business', 1), ('myth-ridden', 1), ('infest', 1), ('18pc.', 1), ('brands--designed', 1), ('sheran', 1), ('charlotte.', 1), ('scents', 1), ('criminal', 1), ('tobbaco.', 1), ('riverhead,', 1), ('confusingly', 1), ('briefing,', 1), ('duplicates', 1), ('private,', 1), ('misplaced,', 1), ('vaping.she', 1), ('awaiting', 1), ('\"before,', 1), ('redolent', 1), ('unwilling', 1), ('\"being', 1), ('rests', 1), ('persuaded', 1), ('97-page', 1), ('yesuiah,', 1), ('(hence,', 1), ('249-3981,', 1), ('2.5million', 1), ('medicinal.', 1), ('is.\"', 1), ('territorial', 1), ('indicators', 1), ('lloyd', 1), ('aerosols', 1), ('terrorism', 1), ('rizzo', 1), ('10-mililliter', 1), ('evidence.\"', 1), (\"liquid's\", 1), ('climb', 1), ('news?\"', 1), ('life-long', 1), ('reject', 1), ('whisky,', 1), ('flouting', 1), ('\"neknominations\"', 1), ('estimates,', 1), ('cramer,', 1), ('harvard', 1), ('withdrawal.', 1), ('noun', 1), ('shark.\"', 1), ('burglary', 1), ('promises:', 1), ('pronouncement.', 1), ('consequences.for', 1), ('green-apple-flavored', 1), ('counselors', 1), ('pharmacokinetics\"', 1), ('egged', 1), ('upheld,', 1), ('recruit', 1), ('usually,', 1), ('problematic.', 1), ('ungovernable.', 1), ('varting?', 1), ('props,', 1), ('shirt', 1), (\"universities'\", 1), ('water.\"', 1), ('vitro', 1), ('gorgeous', 1), ('glance', 1), ('relatives', 1), ('silence', 1), (\"'e-liquids'\", 1), ('speed.', 1), ('dunhill', 1), ('no-nonsense', 1), ('ratted', 1), ('modifying', 1), ('mantra', 1), ('stinging', 1), ('airlifted', 1), ('braico.', 1), ('dangerous,\"', 1), ('around,', 1), ('hcea', 1), ('assesses', 1), ('seizures.', 1), ('savers.', 1), ('winner', 1), ('fulfill', 1), (\"arena's\", 1), ('guarantee:', 1), ('designed.', 1), ('sporadically', 1), ('circles.', 1), ('acknowledging', 1), ('permission.\"', 1), ('chemists', 1), ('waste,', 1), ('tarala,', 1), ('storefront.', 1), ('6.', 1), ('practicality', 1), ('saying:', 1), ('park.', 1), ('circuit,', 1), ('rationalize', 1), ('twiddle', 1), ('high-handed', 1), ('case,\"', 1), ('centres.', 1), ('implementation,\"', 1), ('hampers', 1), ('boutiques', 1), ('mixtures.', 1), ('accessory,', 1), ('$400,000', 1), ('cent).', 1), ('najib', 1), ('homeless,', 1), ('elegantly', 1), ('comfy', 1), ('bottom-up', 1), ('experiment,', 1), ('¿the', 1), ('(3)', 1), ('www.elpasotimes.com', 1), ('insecticide.', 1), ('(800)', 1), ('\"red', 1), ('elected', 1), ('proclaimed.', 1), ('acton', 1), ('vapor),', 1), ('venture,', 1), ('increases,', 1), (\"burstyn's\", 1), ('lloyd,', 1), ('launching,', 1), ('depression,', 1), ('calgary.', 1), ('oscars.', 1), ('shove', 1), ('uptake', 1), (\"'what's\", 1), ('cat', 1), ('fever.', 1), ('haranguing', 1), ('jaw.', 1), ('equivalent,', 1), ('ketchel', 1), ('spokane.', 1), ('game-changer.', 1), ('biteful', 1), ('hq', 1), ('schedules.', 1), ('negotiate', 1), ('did?', 1), ('clouding', 1), ('primer', 1), ('(move).\"', 1), ('a.m.-8', 1), ('brother,', 1), (\"home,'''\", 1), ('kemp', 1), ('pdf', 1), ('dignity,', 1), ('name),', 1), ('vape-versery,', 1), ('drink-drive', 1), ('fraser.', 1), ('manufactures', 1), ('contested', 1), ('vaporlicious,', 1), ('abounding', 1), ('rain', 1), ('wilson,', 1), ('\"dabs,\"', 1), ('slammed', 1), ('scour', 1), ('hillâ', 1), ('followers,', 1), ('95pc', 1), ('1965,', 1), ('fast-paced', 1), ('\"good', 1), ('attentions', 1), ('reality\"', 1), ('even-handed', 1), ('vape-only', 1), ('hard-headed', 1), ('shop\"', 1), ('misdemeanor,', 1), ('simple.', 1), ('touches', 1), ('turkey,', 1), ('incurring', 1), ('burke,', 1), (\"express-star's\", 1), (\"johan's\", 1), ('vacuous', 1), ('(id),', 1), ('motels', 1), ('landfills.', 1), ('burly', 1), ('restriction.', 1), ('amendments\"', 1), ('cabinet.\"', 1), ('depressed', 1), ('rodeo', 1), ('compact', 1), ('www.salemnews.com', 1), ('bedraggled', 1), ('falsehoods', 1), ('chatrooms.', 1), ('one-time', 1), ('air-conditioned', 1), ('ingredients--propylene', 1), ('boasted', 1), ('si', 1), ('moar.', 1), ('saunders,', 1), ('concentrate,', 1), ('intrigued', 1), ('chemically', 1), ('helix', 1), ('smokable', 1), ('de-link', 1), ('liable', 1), (\"'man,\", 1), ('stadium.\"', 1), ('11th-graders', 1), ('¨â', 1), (\"traders'\", 1), ('marketing.', 1), ('protein-rich', 1), ('razzleberry,', 1), ('johns', 1), ('revolution,\"', 1), ('heathkits,', 1), ('partially', 1), ('immunology', 1), ('samsu.', 1), ('me.\"\"', 1), ('¨yet', 1), ('whisky', 1), ('precise', 1), ('nurse,', 1), ('post,', 1), ('terms.', 1), ('\"healthier\"', 1), ('guardian.\"', 1), ('parked', 1), ('(against', 1), ('narcotics,', 1), (\"look,'\", 1), ('lorje,', 1), ('decree,', 1), ('high:', 1), ('website)', 1), ('ingestion', 1), ('inshare.', 1), ('perfume.\"', 1), ('diacetyl-free', 1), ('pardon', 1), ('gee,', 1), (\"pennsylvanian's\", 1), ('inflate', 1), ('flourish', 1), ('miami', 1), ('\"normalizes\"', 1), ('billows', 1), ('disallowed', 1), ('1.3m', 1), ('technofogger', 1), ('free-for-all', 1), ('1940s', 1), ('\"denormalize', 1), ('joke,', 1), ('arrested.', 1), ('longitudinal', 1), ('indefensible', 1), ('financing', 1), ('1986,', 1), ('priority.', 1), ('teddy', 1), ('opportunity.\"', 1), ('tribunes', 1), ('revoke', 1), ('\"they\\'ll', 1), ('authored', 1), ('sickened', 1), ('curry,', 1), ('principles', 1), ('batch.', 1), ('estimate,', 1), ('disastrous', 1), ('parallel', 1), ('seizing', 1), ('hirsch,', 1), ('backup', 1), ('clothes.', 1), ('son.', 1), ('develop,\"', 1), ('non-representative', 1), ('shuler', 1), ('champagne', 1), ('lozenges', 1), ('attendance', 1), ('uncool,', 1), ('wholesalers,', 1), ('skewed', 1), ('commenting', 1), ('remake', 1), ('tip\"', 1), ('sidebar:', 1), ('off?', 1), ('vapehq?', 1), ('settling', 1), ('inventive', 1), ('346.', 1), ('free-market', 1), ('pot.', 1), ('prudent', 1), ('scared', 1), ('understood.', 1), ('wholly', 1), ('umbrella', 1), ('trucks.', 1), ('matson', 1), ('high-strength', 1), ('dopamine', 1), ('dancefloor', 1), ('cbec04aeb4e0a5.html', 1), ('mattek', 1), ('bumps', 1), ('kpdnkk,', 1), ('care?', 1), ('ape', 1), ('example)', 1), ('profiles', 1), ('suicides.\"', 1), ('republicanherald.com', 1), ('smoker.\"', 1), ('(include', 1), ('maier.', 1), ('ned', 1), ('chan,', 1), ('fit.', 1), ('myers,', 1), ('waning.', 1), ('prepared,', 1), ('sahli,', 1), ('trickle', 1), ('pioneers', 1), ('sale.', 1), ('oxides', 1), ('infancy,', 1), ('inshare,', 1), ('word,', 1), ('widening', 1), ('addictions.\"', 1), ('thankfully', 1), ('theory.', 1), ('addicting', 1), ('â?¦\"oklahoma', 1), ('cheque', 1), ('habit?likewise', 1), ('faulty', 1), ('reaction,\"', 1), ('offences', 1), ('penchant', 1), ('trendy.', 1), ('(patch,', 1), ('rancher', 1), ('critical.', 1), ('neighbours', 1), ('cuckoo', 1), ('sham,', 1), ('tinged', 1), ('return,', 1), ('disincentives', 1), (\"death.'\", 1), ('hard-to-achieve-intention', 1), ('marti', 1), ('cnare', 1), ('anxious', 1), ('patronizing', 1), ('westall,', 1), ('5863', 1), (\"forum'\", 1), ('478', 1), ('eventually,', 1), ('lollipop.', 1), ('harland', 1), ('restoration', 1), ('(picture)', 1), ('scenario', 1), ('characterizes', 1), ('banished', 1), ('direction:', 1), ('yong', 1), ('pharmaceutical-grade', 1), ('cnare,', 1), ('\"february', 1), ('easyjet', 1), ('doug.tice@startribune.com', 1), ('sirim,', 1), ('speeds', 1), ('rm40,', 1), ('curbed', 1), ('\"e', 1), ('vehicles,', 1), ('offend.', 1), ('generally.', 1), ('nicorette®,', 1), ('wildfire,', 1), ('deploys', 1), ('grid', 1), ('nuttall,', 1), ('longstanding', 1), ('choice.\"', 1), ('hawaiian', 1), ('kettle', 1), ('considerately.', 1), ('(leading', 1), ('nectar\"', 1), ('receiver', 1), ('135,000', 1), ('threefold', 1), ('\"sure,', 1), ('discourse.', 1), ('businessmen', 1), ('minuscule,', 1), ('252-559-1082', 1), ('\"50', 1), ('schwandt,', 1), ('vaporama', 1), ('food.\"', 1), ('(a1', 1), ('coffee.', 1), ('realistic.', 1), ('advantageous', 1), ('nausea.', 1), ('piggy-back', 1), ('warned,&rdquo;', 1), ('$9', 1), ('crown,', 1), ('cig,', 1), ('¨those', 1), ('southeast', 1), ('downshift', 1), ('arrifin,', 1), ('classify,', 1), ('driving.', 1), ('bakar', 1), ('clogging', 1), ('buttery', 1), ('$250,000', 1), ('century,', 1), ('polyethylene', 1), ('visitors,', 1), ('gigantic', 1), ('inappropriate\".', 1), ('wealthy', 1), ('regulations?', 1), ('sacrificed', 1), ('adverts.', 1), ('\"mevta', 1), ('11).', 1), ('\"malaysia', 1), ('nhs;', 1), ('jacksonville', 1), ('(slp)', 1), ('al-masoleh\"', 1), ('regained', 1), ('simplest', 1), ('weakness,', 1), ('villages', 1), ('\"vaper\"', 1), ('\"ash', 1), ('lurk', 1), ('cancer-causing.', 1), ('yours.so', 1), ('revisiting', 1), ('allergen.', 1), ('leaving,', 1), ('jeopardized', 1), ('revive', 1), ('pennsylvania,\"', 1), ('flames,', 1), ('nearly-impossible', 1), ('duncan,', 1), ('acid)', 1), ('clacton', 1), ('baru', 1), ('connect', 1), ('reusable', 1), ('overnight,', 1), ('most.', 1), ('indication', 1), ('does?', 1), ('wakie', 1), ('cobb', 1), ('highs', 1), ('advertisements:', 1), ('textbooks', 1), ('regime\".', 1), ('spaces,\"', 1), ('paged', 1), ('cheapest', 1), ('go,\"', 1), ('allergens,', 1), ('\"vaping.\"theresa', 1), ('\"la', 1), ('anybody,\"', 1), ('jewellery.', 1), ('stories,\"', 1), ('conductivity', 1), ('criteria', 1), ('2030,', 1), ('childcare', 1), ('£300,000', 1), ('transport.', 1), (\"'innocent'.\", 1), ('conflicted', 1), ('avoiding,', 1), (\"kittleman's\", 1), ('expense.', 1), ('islam,', 1), ('lower,', 1), ('package', 1), ('cities.\"', 1), ('[strategic', 1), ('clini,', 1), ('syariah', 1), ('internet-connected', 1), ('nitrosamine', 1), ('annexed', 1), ('scientifically', 1), ('laughs', 1), ('madison,', 1), ('success:', 1), ('--e-vapes', 1), ('fork', 1), (\"green's\", 1), ('examines', 1), ('bypass', 1), ('disproportionately', 1), ('[of', 1), ('tracks', 1), ('close.', 1), ('focus,', 1), ('legislatures', 1), ('distraction', 1), ('listings,', 1), ('53,', 1), ('winding', 1), ('correspondent', 1), ('e-cigarette-free', 1), ('1964,', 1), ('vapour),', 1), ('blaine.', 1), ('cried', 1), ('swampscott', 1), ('cynics', 1), ('childproofed,', 1), ('improperly', 1), ('important,', 1), ('institute.', 1), ('chad,', 1), ('moreâeur¦.clearly', 1), ('478%', 1), ('p.m.!', 1), ('difference?\"', 1), ('grasp', 1), ('environment:', 1), ('www.facebook.com/southernsugarvapes.', 1), ('replicate', 1), ('cigarette--as', 1), ('pressing', 1), ('lookalikes.', 1), ('udang', 1), ('stipulates', 1), ('60%', 1), ('\"pro-democracy', 1), ('adversely', 1), ('headquarters', 1), ('unite', 1), ('\"road', 1), ('disagreed,', 1), ('fold', 1), ('down,\"', 1), ('power\"', 1), ('pondering', 1), ('defenders', 1), ('midland', 1), ('(duncan)', 1), ('\"peak', 1), ('there!', 1), ('widespread.', 1), ('happy,', 1), ('characterize', 1), ('pilot/flying', 1), ('sag', 1), ('mad.', 1), ('ong,', 1), ('you...', 1), ('$991', 1), (\"'king\", 1), ('exhaust', 1), ('liberating.', 1), ('medically', 1), ('mainstreet,', 1), ('because,', 1), ('four:', 1), ('34-year-old', 1), ('labels.', 1), ('gym', 1), ('comes,\"', 1), ('outer', 1), ('definitely,\"', 1), ('midweek@archant.co.uk', 1), ('behest', 1), ('\"\\'vaping,\\'', 1), ('charming', 1), ('peeve', 1), ('sign,', 1), ('eateries.', 1), ('hygienists', 1), ('veering', 1), ('pm', 1), ('veteran', 1), ('actions.', 1), ('café\".there', 1), ('stratospheric', 1), ('deprive', 1), ('enhancing', 1), ('outdoors,\"', 1), ('landscape', 1), ('inches', 1), ('\"still', 1), ('adjustment.', 1), ('speculation', 1), ('grouped,\"', 1), ('parts,', 1), ('\"disappointed\"', 1), ('rm250', 1), ('downtown.', 1), ('confiscated', 1), ('450', 1), ('bpe', 1), (\"boise's\", 1), (\"motshudi's\", 1), ('prompts', 1), ('subcommittee,', 1), ('circulating', 1), ('milk)', 1), ('coworkers', 1), ('limits.\"', 1), ('(22.8', 1), ('uk\",', 1), ('[nicotine]', 1), ('55-year-old', 1), ('vip®,', 1), ('norms', 1), ('gradually,', 1), ('dumped', 1), ('(ikhlas),', 1), ('eat.â', 1), ('concourse.', 1), ('contrived,', 1), ('works,\"', 1), ('yatim,', 1), ('cut),', 1), ('twitter.com/hornsarah', 1), ('136', 1), ('63', 1), ('rubbish.', 1), (\"everyone's\", 1), ('tools', 1), ('offenders', 1), ('dangerous/harmful\"', 1), ('frost,', 1), ('malta,', 1), ('systems\"', 1), ('consumer-run', 1), ('harmful?', 1), ('khair', 1), ('honey.mehmet', 1), ('slushies,', 1), ('holes', 1), ('floss.', 1), ('cones,', 1), ('agent,', 1), ('decades-', 1), ('portugal', 1), ('nappanee.', 1), ('audrey', 1), ('midst', 1), ('\"taxing', 1), ('curtailed', 1), ('neuro-degeneration', 1), ('created.', 1), ('spurious', 1), ('kure,', 1), (\"nothing's\", 1), ('lbc', 1), ('conduction:', 1), ('boating', 1), ('w/22', 1), ('interest,', 1), ('\"e-fluids\",', 1), ('students.', 1), ('too.\"', 1), (\"term's\", 1), ('trafficks', 1), ('trail\"', 1), ('dateline', 1), ('spiels', 1), ('youth-related', 1), ('perceive', 1), ('quarter-million', 1), ('lab-based', 1), ('spinelli,', 1), (\"''who's\", 1), ('chips', 1), ('incorrect.\"', 1), ('randomised.', 1), ('blamed', 1), ('maddcatt', 1), ('ecigs\"', 1), ('bois,', 1), ('shaharuddin,', 1), ('byproducts,', 1), ('peaked.', 1), ('said..', 1), ('$15', 1), ('locally.', 1), ('votes.', 1), ('mclaughlin', 1), ('shane', 1), ('boylston', 1), ('edds.', 1), ('chums', 1), ('charlotte,', 1), ('sharifah', 1), ('asia.', 1), ('whole.\"', 1), ('clamshell,', 1), ('disperses', 1), ('e-cigarettes?\"', 1), ('rahm', 1), ('zac', 1), ('shares.', 1), ('searched', 1), ('rubber', 1), ('granted,', 1), ('vapists', 1), ('meps,', 1), ('anoka', 1), ('trengganu', 1), ('reintroduce', 1), ('candid', 1), ('mystery', 1), ('scene,', 1), ('(standard', 1), ('feeling,\\'\"', 1), ('envelope,', 1), ('intransigence', 1), ('option!', 1), ('hard-to-find', 1), ('juice,\"', 1), ('debunking', 1), ('03-24', 1), ('progression', 1), ('recounting', 1), ('verulamium', 1), ('false,\"', 1), ('allard', 1), ('exponentially.\"', 1), ('e-juices.', 1), ('businesses;', 1), ('solicitors', 1), ('patience.sue', 1), ('methodological', 1), ('twelfth', 1), ('rental', 1), ('explosive', 1), ('insurance,\"', 1), ('staffers', 1), ('questions?', 1), ('aide,', 1), ('651-228-5539.', 1), ('canisters', 1), ('adaptive', 1), ('good,\"', 1), ('generating', 1), ('lies', 1), ('e-cigarettes.\"it\\'s', 1), ('veins', 1), ('cheat', 1), ('copyright', 1), ('on.â', 1), ('lexington.\"', 1), ('\"disgusting\"', 1), ('shanghai,', 1), ('founding', 1), ('20-cigarette', 1), ('1st', 1), ('enticing\",', 1), ('sports,', 1), ('(nst,', 1), ('\"then', 1), ('untested', 1), ('price:', 1), ('equating', 1), ('non-nicotine.', 1), ('cigarettes?\"', 1), ('amir', 1), ('multimillion', 1), ('pvs,', 1), ('one.the', 1), ('seth', 1), ('gino', 1), ('routes,', 1), ('amherstburg', 1), ('crises,', 1), ('(sad', 1), ('offerman,', 1), ('engraver', 1), ('compounded.', 1), ('twitter.com/aaron_derfel', 1), ('provider,', 1), ('760-951-6236', 1), (\"seen,'\", 1), ('jostling', 1), ('[customers]', 1), ('banking', 1), ('raids,', 1), ('jagale', 1), ('depends.', 1), ('airliners,', 1), ('@wordswithjg.', 1), ('extolling', 1), ('fence.', 1), ('critiques,', 1), ('nais,', 1), ('caffeine,', 1), ('1993', 1), ('month.\"', 1), ('recognition', 1), ('advocate:', 1), ('towers', 1), ('smile.', 1), ('goh.', 1), ('credit,', 1), ('tampa,', 1), ('aligns', 1), ('reflected', 1), ('rapidly,', 1), ('(e-liquid)', 1), ('\"inhaling', 1), ('memoranda', 1), ('two-piece', 1), ('omb,', 1), ('drastic', 1), ('(which)', 1), ('gathering.\"', 1), ('(yet),', 1), (\"''they're\", 1), ('\"i.\"', 1), (\"ucsf's\", 1), ('apothecaries?\"', 1), ('heavy-duty', 1), ('heard,', 1), ('loving', 1), ('£12.1billion', 1), ('driveway', 1), ('troubles', 1), ('dangers.\"', 1), ('tavern', 1), ('irritated', 1), ('trip.', 1), ('lawmakers,', 1), ('circulatory', 1), ('dubai:', 1), ('vaping.king', 1), ('disorders,', 1), ('(conservative).', 1), ('managers,', 1), ('obstacle,\"', 1), ('spira', 1), ('parties,', 1), ('tunes?', 1), ('cars,\"', 1), ('hedgesâ', 1), ('hamburg.', 1), ('ready,', 1), ('record.', 1), ('hartland-based', 1), ('burned.', 1), ('transparency', 1), ('3104,', 1), ('blast', 1), ('tug', 1), ('aspects,', 1), ('plass', 1), ('mother-in-law,', 1), ('19th-century', 1), (\"'life\", 1), ('trigger?', 1), ('marriage-ending,', 1), ('\"unfortunately,', 1), ('rewards.', 1), ('(from)', 1), ('texas', 1), ('(dbkl)', 1), ('parental', 1), ('omitted', 1), ('www.gloucestercitizen.co.uk', 1), ('bengali', 1), ('francisco.', 1), ('epidemic', 1), ('from.', 1), ('desk.', 1), ('twitter.com/estolte', 1), ('phrase,', 1), ('corporations:', 1), ('lea', 1), ('teenage', 1), ('pizza,', 1), ('\"like', 1), ('huffman', 1), ('nuisance;', 1), ('excess.', 1), ('specialist,', 1), ('2010-2012.', 1), ('lab,\"', 1), ('go-to', 1), ('steps,', 1), ('choose,', 1), ('\"fear,', 1), ('3d', 1), ('chris.aldridge@bpe.co.uk', 1), ('proceeds', 1), ('ronkonkoma,', 1), ('\"marty\",', 1), ('yearly', 1), ('half-smoked', 1), ('agents)', 1), ('uninsured', 1), ('oncology', 1), ('memes', 1), ('prepacked', 1), ('popcorn-processing', 1), ('shuler,', 1), ('import,', 1), (\"doin'\", 1), (\"dave's\", 1), ('mahdzir', 1), ('fruition,\"', 1), ('spaces?', 1), ('guns', 1), ('added,', 1), ('wallet.', 1), ('worship\"', 1), ('partnership.', 1), ('exploiting', 1), ('capone,', 1), ('-call', 1), (\"day,'\", 1), ('18--morris', 1), ('detaining', 1), ('condensed', 1), ('\"sliding', 1), ('divide', 1), ('down\",', 1), ('bins,', 1), ('[indeed]', 1), ('children:', 1), ('survey.in', 1), ('quits', 1), ('leaflets', 1), ('sting.', 1), ('group¿s', 1), ('ibn', 1), ('immune,', 1), ('objectively,', 1), ('reader', 1), ('bangladesh,', 1), ('sweet.', 1), ('\"statistically', 1), ('through.', 1), ('mouths)', 1), ('launched,', 1), ('congestion', 1), ('mad', 1), ('pro:', 1), ('asean', 1), ('nominal', 1), ('main,', 1), ('29.3%', 1), ('offered.', 1), ('harm:', 1), ('handpicked', 1), ('rx', 1), ('9].', 1), ('e-cig,\"', 1), ('deviation', 1), ('confrontations', 1), ('robot\"', 1), ('hard-drugs', 1), ('position.', 1), ('froot', 1), ('\"unfair.\"', 1), ('economicsat', 1), ('gst', 1), ('revolving', 1), ('ears,', 1), ('sahol', 1), ('bane', 1), ('toys,', 1), ('concordia', 1), ('sociology,', 1), ('install', 1), ('(why', 1), ('suffocating,', 1), ('rm100,000', 1), ('skyleen', 1), ('positively', 1), ('airport.', 1), ('happen?', 1), ('hesitant.', 1), ('cafés.', 1), ('blame.', 1), ('comments,', 1), ('hunger', 1), ('bryan', 1), ('cigarette.i', 1), ('boulder!', 1), ('pretentious', 1), ('smoke;', 1), ('salina', 1), ('slinks', 1), ('low-tar', 1), ('needs,', 1), ('mentality', 1), ('ulterior', 1), ('\"schools', 1), ('\"vaping\")', 1), ('unelected', 1), ('1922', 1), ('cream,', 1), ('protests', 1), ('imitations', 1), ('index.', 1), ('supposedly,', 1), ('tragically,', 1), ('lewis', 1), ('on-trend', 1), ('degray', 1), ('22,', 1), ('formulate', 1), ('educator,', 1), ('[by', 1), ('fail,\"', 1), ('cons:', 1), ('23.3', 1), ('on,\"', 1), ('type\"', 1), ('moan', 1), ('chip.\"', 1), ('claiming,', 1), ('outlets,', 1), ('warning:', 1), ('usda', 1), ('www.newspressnow.com/index.html', 1), ('peters', 1), ('lerato', 1), ('30mph', 1), ('terrible.', 1), ('die.', 1), ('smokelike', 1), ('zeller,', 1), ('minimal,\"', 1), (\"argument.'\", 1), ('\"wolves\\'', 1), ('restaurant.\"if', 1), ('un-cool', 1), ('cry', 1), ('grounding', 1), ('naive.', 1), ('prize,', 1), ('¨juniper', 1), ('ayub', 1), ('device,\"', 1), ('lot.', 1), ('fume.', 1), ('suspect.', 1), ('budgeted', 1), ('d-janesville,', 1), ('azmi', 1), ('connoisseurs', 1), ('potency', 1), ('demonstrations,', 1), ('pre-industrial', 1), ('discriminate', 1), ('colors,', 1), ('marisol', 1), ('while.', 1), ('woke', 1), ('refillings.', 1), ('000', 1), ('that.â', 1), ('dancing', 1), ('goodies', 1), ('matter?\"', 1), ('8%', 1), ('restricted.', 1), ('now.the', 1), ('whatever.', 1), ('opened,\"\"', 1), (\"'have\", 1), ('merchant.', 1), ('cabs', 1), ('rampant', 1), ('carcinogens;', 1), ('santa.', 1), ('suppliers,', 1), ('wayne,', 1), ('quoting', 1), ('unilateral', 1), ('tracts.', 1), ('france,', 1), ('affirmative', 1), ('resistance', 1), ('1,384', 1), ('\"renormalize\"', 1), ('stouts,', 1), ('bomb', 1), ('(and)', 1), ('swings', 1), ('\"cloudchasing\"', 1), ('20-100', 1), ('modelling,', 1), ('mg,', 1), ('wreckers', 1), ('dublin,', 1), ('weston', 1), ('vape),\"', 1), ('declaration,', 1), ('inertia', 1), ('menus.', 1), ('ava', 1), ('lawbreakers.', 1), ('others;', 1), ('(i', 1), (\"market,''\", 1), ('comparatively,', 1), ('rewrite', 1), ('dissenters', 1), ('arsenic-containing', 1), ('hs2', 1), ('measures)', 1), ('017.', 1), ('outrageous,', 1), ('cathie', 1), ('careering', 1), ('rewriting', 1), ('davisâ', 1), ('counterfactual.com', 1), ('sony', 1), ('outing', 1), ('gobsmackingly,', 1), ('watershed', 1), (\"ban's\", 1), ('athens.', 1), ('19,441', 1), ('immunity.', 1), ('nipping', 1), ('fracking.', 1), ('kanger', 1), ('progress\"', 1), ('musical', 1), ('exercise', 1), ('accommodating', 1), ('oroville,', 1), ('armor', 1), ('breach', 1), ('$24.95.', 1), ('clapham', 1), ('¨village', 1), ('1989)', 1), ('declined.', 1), ('us$500', 1), ('¨conflict', 1), ('fleenor', 1), ('supermarkets,', 1), ('vaporland', 1), ('stats\"', 1), ('rm3.5', 1), ('products]', 1), ('malik,', 1), ('socks', 1), ('cellar,', 1), ('determined.', 1), ('sham', 1), ('atomizers.electronic', 1), (\"constantly'\", 1), ('topical', 1), ('haunted,', 1), ('sophisticated,', 1), ('customized', 1), ('scare,', 1), ('alicia', 1), ('cigaretiquette', 1), ('indoctrinated', 1), ('malacca.', 1), ('atkins,', 1), ('360', 1), ('users,\"', 1), ('harpenden?', 1), ('[toxic]', 1), ('multitude', 1), (\"bhd's\", 1), ('hole,', 1), ('bypass?', 1), ('ban.steve', 1), (\"'earth's\", 1), ('vapory', 1), ('weapons.â', 1), ('windsor,', 1), ('intersection', 1), ('nestled', 1), ('smurf.', 1), ('completely.\"\"', 1), ('yes.', 1), ('thermometer.', 1), ('langtree', 1), ('dorm.', 1), ('tackling', 1), ('timothy', 1), ('estimable', 1), ('nickname', 1), ('pier,', 1), ('impractical', 1), ('part:', 1), ('internationally', 1), ('solution,\"', 1), ('all-inclusive', 1), (\"aylesbury's\", 1), ('apartment.', 1), ('holders?', 1), ('al-baqarah).', 1), ('threw', 1), ('teens?', 1), ('redken', 1), ('company-owned', 1), ('ultra-racists.', 1), ('educationists', 1), ('viewpoints', 1), ('259-7919', 1), ('slogans.', 1), (\"station,'\", 1), ('key,\"', 1), ('levels\"', 1), ('debbie', 1), ('enjoying.\"', 1), ('rival', 1), ('months,\"', 1), ('understanding,', 1), ('opioids', 1), ('luck', 1), ('\"vapologists\"', 1), ('citizen', 1), ('tycoon', 1), ('hit\".', 1), ('conscious,', 1), ('veda', 1), ('maswood@hotmail.com', 1), ('silicon', 1), ('sister', 1), ('leery', 1), ('particular)', 1), ('candy-and', 1), ('backyard', 1), ('concept.', 1), ('2.5,', 1), ('1.4million', 1), ('okon', 1), ('sensitive,', 1), ('everyone.katja', 1), ('\"vip', 1), ('crowding', 1), ('fifty-five', 1), ('fairfield.', 1), ('misty', 1), ('much\",', 1), ('¨of', 1), ('revolves', 1), ('afield', 1), ('offshoot', 1), ('1894,', 1), ('top.', 1), ('homework', 1), ('\"stronger\"', 1), ('\"bae\"', 1), ('addiction\"', 1), ('focusing', 1), ('spokesmen', 1), ('@dcfraser', 1), ('over-regulation,', 1), ('smuggling,', 1), ('(rm6.78', 1), ('abidin', 1), ('for,', 1), ('tuberculosis', 1), ('virginia.', 1), ('injured', 1), ('additions,', 1), ('election.sam', 1), ('hacks,', 1), ('on-line', 1), ('scientist.', 1), ('grabbing', 1), ('secondhand-smoke', 1), ('single-malt', 1), ('unhappy', 1), ('publication\".', 1), ('person.\"', 1), ('flying,', 1), ('modulated', 1), ('\"employers', 1), ('p3)', 1), ('funds', 1), ('perfume.', 1), ('unjustifiable', 1), ('eoin', 1), ('lou', 1), ('tearful', 1), ('lacey,', 1), ('superintendent', 1), ('21).', 1), ('exclusions', 1), ('industries,', 1), ('renormalize', 1), ('avoided.', 1), ('\"six', 1), ('\"overtly', 1), ('delonti.', 1), ('production,', 1), ('(conclusions)', 1), ('libertarian,', 1), ('syrups', 1), ('news,', 1), ('auto', 1), ('\"analysis', 1), ('nanshim,', 1), ('indeed.', 1), ('opiates', 1), ('classrooms', 1), ('811', 1), ('thursdays,', 1), ('facts\"', 1), ('harford', 1), ('hamid', 1), ('delhi,', 1), ('bit,\"', 1), ('interpretation', 1), ('leyendecker,', 1), ('masterful', 1), ('cleaned', 1), ('yusof.', 1), ('allotment', 1), ('lac', 1), ('son.\"', 1), ('1954', 1), ('bricket', 1), ('motorcyclist', 1), ('405', 1), ('videosee', 1), ('guaranteed.', 1), ('manchester,', 1), ('ingredients\".', 1), ('replete', 1), (\"sabri's\", 1), ('refilling', 1), ('laughed', 1), ('mom,', 1), ('there\"', 1), ('infections,', 1), ('cylinders', 1), ('origin.', 1), ('taxpayer-funded', 1), ('seventh-graders', 1), ('debilitating', 1), ('zeller', 1), ('specifies', 1), ('www.abfly.org.uk/sendtheflyerhigher', 1), ('--friends', 1), ('gob', 1), ('selectboard,', 1), ('rare.', 1), ('vapourtap.com', 1), ('oz\"', 1), ('28%.', 1), ('supporter', 1), ('appeared,', 1), ('boosters', 1), ('schools.\"', 1), ('arlington,', 1), ('relevantministries.', 1), ('kleefisch.', 1), ('arise', 1), ('massively', 1), ('krishnasamy', 1), ('continued,', 1), ('\"civilising\"', 1), ('informing', 1), ('completion', 1), ('newfound', 1), ('accomplishment', 1), ('teaming', 1), ('well-aired', 1), ('¨when', 1), ('dead,', 1), ('fl.', 1), ('&ldquo;sajama,', 1), ('pavement', 1), ('iveson.', 1), ('hip.', 1), ('compelled', 1), ('(ngos),', 1), ('into.', 1), ('broward', 1), ('(spurred', 1), ('jeanne-mance,', 1), ('lethal,', 1), ('belief,', 1), ('disorganised', 1), ('304-348-1240', 1), ('stewart,', 1), ('capability,', 1), ('\"vapour\"', 1), ('apologised.', 1), ('slang', 1), ('shells?', 1), ('\"making', 1), ('(tmax)', 1), ('\"ridiculous,\"', 1), ('hullabaloo', 1), ('crazily', 1), ('fomented', 1), ('gateways', 1), ('(getty)', 1), ('sensationalize', 1), ('turns.', 1), ('clay', 1), ('wellbeing', 1), ('started.', 1), ('auxiliary', 1), ('icing.', 1), ('salkilan,', 1), ('representative,', 1), ('classics,', 1), ('dropping', 1), ('leshure,', 1), ('moscow,', 1), ('hodgepodge', 1), ('strictly.', 1), ('percocet', 1), ('odour,', 1), ('necessary?', 1), (\"mevta's\", 1), ('vaping-rights', 1), ('undisclosed', 1), ('fuller', 1), ('appreciating', 1), ('(cmax)', 1), ('prophet', 1), ('mcanaugh', 1), ('airborne', 1), ('presence,', 1), ('aspect\"', 1), ('pulmonologist,', 1), ('schoolbags,', 1), ('marsol', 1), ('flavourfulvapour', 1), ('5-year-old,\"', 1), ('converge', 1), ('isis', 1), ('disagrees', 1), ('correction.', 1), ('\"tropical', 1), ('profiting', 1), ('zainul', 1), ('jensen', 1), ('friday.', 1), ('thinking.', 1), ('stupidly,', 1), ('truth:', 1), ('licence.', 1), ('(1)', 1), ('(otcqb:', 1), ('inhaler,', 1), ('dyckhoff', 1), ('comparison,', 1), ('oldest', 1), ('so.)', 1), ('two-minute', 1), ('munching', 1), ('procurement,', 1), ('1970s,', 1), ('\"inflammatory\"', 1), ('legislation\".', 1), ('fungus', 1), ('wealth.', 1), ('big.', 1), ('fog-the', 1), ('listless', 1), ('03--the', 1), ('ruling,', 1), ('belatedly', 1), ('\"smoking,\"', 1), ('1%', 1), ('breathing.', 1), ('jellyfish', 1), ('shelf', 1), ('safe).', 1), ('0.3', 1), ('blogs', 1), ('announces', 1), ('complaint,', 1), ('onerous', 1), ('belgium,', 1), ('pens.\"', 1), ('confused', 1), ('plume', 1), ('stamp', 1), ('imitators,', 1), ('russia.', 1), ('dist.', 1), ('perspective,the', 1), ('repel', 1), ('devious', 1), ('lansdown', 1), ('elements,', 1), ('renters', 1), ('refinish,', 1), ('\"sucking', 1), ('whiskies', 1), ('settled', 1), ('crooks', 1), ('dekalb', 1), ('neighbour,', 1), ('dale', 1), ('1.2,', 1), ('discharging', 1), ('khaleej', 1), ('sandwiches,', 1), ('improvement.', 1), ('two-', 1), ('enthusiast', 1), ('friends,\"', 1), ('vibrant', 1), ('glow', 1), ('boredom?', 1), ('vaper?', 1), ('wiped', 1), ('wellspan', 1), ('québec,', 1), ('two-hour', 1), ('east-west', 1), ('accusing', 1), ('knew.', 1), (\"vitro'\", 1), ('69', 1), ('proven,', 1), ('schoolgirls.\"', 1), ('doctors?', 1), ('proclaims', 1), ('jin', 1), ('haron,', 1), ('unintended', 1), ('democrats', 1), ('item', 1), ('ethylene', 1), ('$1.25,', 1), ('begin.', 1), ('flack.', 1), ('¨green', 1), ('regime.', 1), ('favour,', 1), ('jete', 1), ('hobbyists,', 1), ('remembered.', 1), ('comment\"', 1), ('winter.', 1), ('darrell.bellaart', 1), ('unharmed,', 1), ('artists', 1), ('long.', 1), ('instrumental', 1), ('pretending', 1), ('proceedings.', 1), ('mcleod,', 1), ('pub,', 1), ('difficulties,', 1), ('upstate', 1), ('programmes', 1), ('switchboard', 1), ('atomiser.', 1), ('midway', 1), ('\"we\"', 1), ('suggests,', 1), ('24-month', 1), ('\"places', 1), ('demeio,', 1), ('year,\"', 1), ('self-stated', 1), ('whatever)', 1), ('described,', 1), ('gown', 1), ('wright', 1), ('synergy', 1), ('aligned', 1), ('discipline', 1), ('\"five-point', 1), ('shandies.', 1), ('paychecks', 1), ('louder', 1), ('situations.\"', 1), ('verboten', 1), ('girls.', 1), ('19-year-old', 1), ('storefront', 1), ('paradise', 1), ('seanad,', 1), ('cantrell,', 1), ('division.', 1), ('classmates.', 1), ('strolling', 1), ('scant.', 1), ('equivalent\"', 1), ('www.facebook.com/vapingagency', 1), ('inventors:', 1), ('dripping', 1), ('relevance', 1), ('death)', 1), ('toilets', 1), ('hampered', 1), ('olmstead,', 1), ('(£449).', 1), ('thye,', 1), ('lyndi', 1), ('taxicabs,', 1), ('moreover,', 1), ('tell-tale', 1), ('hypocrisy.', 1), ('butane,', 1), ('scotland.', 1), ('opting', 1), ('doctored', 1), (\"'green\", 1), ('enterprises', 1), ('educated', 1), ('boulevard', 1), ('studio,', 1), ('progress.\"', 1), ('argued.', 1), ('aboutaka,', 1), (\"enough,''\", 1), ('vapour;', 1), ('others)', 1), ('composition', 1), ('cent)', 1), ('inhalator.', 1), ('conversation,\"', 1), ('$5.99.', 1), ('864)', 1), ('assumptions:', 1), ('\"vaporiums\"', 1), ('lookalikes', 1), ('wasli,', 1), ('khairi', 1), ('lips.', 1), ('touraine,', 1), ('(minnesota),', 1), ('anyone)', 1), ('fisher', 1), ('weed', 1), ('tutti-frutti-cotton-candy', 1), ('day.once', 1), ('smokers\").', 1), ('suggested?', 1), ('busway.', 1), ('\"early', 1), ('promotion.', 1), ('investment.\"', 1), ('humans.', 1), ('ominously,', 1), ('while.)', 1), ('said.brent', 1), ('24/7', 1), ('bronchitis.', 1), ('saskatchewan,', 1), ('edmonton.', 1), ('a.m.-6', 1), ('recruited:', 1), ('bud', 1), ('spores', 1), ('victor', 1), ('insofar', 1), ('512-246-0040.', 1), ('bemidji.', 1), ('tellingly,', 1), ('created,', 1), ('needham,', 1), ('breaths', 1), ('unfortunate', 1), ('\"adolescence', 1), (\"'customers'\", 1), ('sinuses', 1), ('end,', 1), ('\"hence,', 1), ('carcinogens,\"', 1), ('tran,', 1), ('librarian.', 1), ('patent,', 1), ('max', 1), ('#1.2billion', 1), ('legality.', 1), ('vaporium.', 1), ('stimson,', 1), ('(tpd)', 1), ('root,', 1), ('unturned', 1), ('still.', 1), ('smiled', 1), ('productive', 1), (\"burke's\", 1), ('foretold', 1), ('4th', 1), ('mighty', 1), ('entrepreneurship', 1), ('beginning.', 1), ('beaches', 1), ('commented', 1), ('kendall.', 1), ('written,', 1), ('haram,', 1), ('continually', 1), ('\"(e)-cigarettes', 1), ('demonstrate....', 1), ('shopping.\"', 1), ('cartel', 1), ('launchers:how', 1), ('aemsa,', 1), ('navy', 1), ('clarinet,', 1), ('mizen', 1), ('figuratively', 1), ('adjustable', 1), ('glamorised', 1), ('politics.', 1), ('unstudied.', 1), (\"burke's.\", 1), ('time:', 1), ('kershaw,', 1), (\"grandma's\", 1), ('mover', 1), ('gloucestershire.', 1), ('philosophical', 1), ('(new', 1), ('somewhat,', 1), ('outstanding', 1), ('me?\"', 1), ('dividing', 1), ('satnav.', 1), ('futuristic', 1), ('5%', 1), ('$60', 1), ('elections....', 1), ('four-syllable', 1), (\"academy's\", 1), ('club,\"', 1), ('media-relations', 1), ('remained.', 1), ('runaway', 1), ('loophole\"', 1), ('education:', 1), (\"far',\", 1), ('$150,000', 1), ('invermay', 1), ('www.victoriaadvocate.com', 1), ('pulmonologists', 1), ('lab-esque,\"', 1), ('nicotine.â', 1), ('(mg)', 1), ('burdensome', 1), ('simons', 1), ('baggage', 1), ('sign.', 1), ('boom.', 1), ('peaches-andcream', 1), ('deserve,\"', 1), ('publix', 1), ('hefty', 1), ('candidate,', 1), (\"scene's\", 1), (\"'craigslist'\", 1), ('\"closed-minded\"', 1), ('bakery,\"', 1), ('network.', 1), ('\"raises', 1), ('self-portrait', 1), ('tabac', 1), ('ah,', 1), ('(religious', 1), ('perk', 1), ('treatments,', 1), ('maqasid,', 1), ('saufi,', 1), ('http://www.philly.com/philly/living/20140424_ap_0a7bcdf790ab463ca6cbec04aeb4e0a5', 1), ('¿i', 1), ('republic,', 1), ('\"kid', 1), ('\"authoritative\"', 1), ('caucus', 1), ('gulf', 1), ('wonâ', 1), ('values', 1), ('reacting', 1), ('doris', 1), ('rietz,', 1), ('act,\"', 1), ('overwhelmed', 1), ('¨ridgewood', 1), ('reinforce', 1), ('president.', 1), ('oxygen', 1), ('woo!', 1), ('exclusion.', 1), ('admitting', 1), ('expounded', 1), ('contracts', 1), ('fears,', 1), ('smoke),', 1), ('renowned', 1), ('comes,', 1), ('shamokin.', 1), ('?pringles', 1), ('good\"', 1), ('scorn?', 1), ('cue', 1), ('imbibing.', 1), ('motshudi,', 1), ('magazines.', 1), ('bump', 1), ('feminist', 1), ('petersburg', 1), ('grade,', 1), ('\"flavour', 1), ('ploy', 1), ('newly', 1), ('\"kneejerk\"', 1), ('f', 1), ('tendency', 1), ('chap', 1), ('wildly', 1), ('phials', 1), ('\"cartos\"', 1), ('applies,', 1), ('others.s', 1), ('ridiculously', 1), ('whole,', 1), ('open,\"', 1), ('19%', 1), ('nutter,', 1), ('program,\"', 1), ('judges', 1), ('disappear.', 1), ('northshore', 1), ('tied.', 1), ('(haraam)', 1), ('safety,&rdquo;', 1), ('\"high', 1), ('demands.', 1), ('executing', 1), ('al-bakri,', 1), ('condone,', 1), ('permissible)', 1), ('hoag', 1), ('accurate.', 1), ('theodore', 1), ('19--each', 1), ('£5.', 1), ('down\"', 1), ('pharmacy', 1), ('$600,000', 1), ('(itself', 1), ('month-to-month', 1), ('\"deeply', 1), ('bids', 1), ('around,\"', 1), ('dim', 1), ('features:', 1), ('window.for', 1), ('distract', 1), ('minister.', 1), ('vogue?', 1), ('issue\"', 1), ('mctc,', 1), ('prioritized', 1), ('1960s,', 1), ('households', 1), ('veppo,', 1), ('marseilles', 1), ('commission,', 1), ('business?', 1), ('20-percent-off', 1), ('sampling:', 1), ('smoke\"', 1), ('2000,', 1), ('obsolescent', 1), ('wipe', 1), ('¨it', 1), ('dbellaart@nanaimodailynews.com', 1), ('pringles,', 1), ('older.\"', 1), (\"trend.''\", 1), ('i,', 1), ('salesperson', 1), ('uniondailytimes.com', 1), ('smoker;', 1), ('conversely,', 1), ('hip', 1), ('endangers', 1), ('bordering', 1), ('booster,', 1), ('01--two', 1), ('treatment.at', 1), ('\"strong', 1), (\"'wild\", 1), ('sex;', 1), ('café', 1), ('greece', 1), ('done,\"', 1), ('gateway-drug', 1), ('attack.', 1), ('really?', 1), ('broadcaster', 1), ('revert.', 1), ('wardrobe', 1), ('aspirations', 1), ('liquids:', 1), ('0.9%', 1), ('lean', 1), ('concurrent', 1), ('herzog,', 1), ('embodiments', 1), ('10-acre', 1), (\"priests'\", 1), ('(al-baqarah:', 1), ('dubois,', 1), ('ruined', 1), ('waiting.', 1), ('pegasus', 1), ('canâ', 1), ('wetherspoons', 1), ('cycle,', 1), ('permissibility', 1), ('imagining', 1), ('involvement,', 1), (\"gore's\", 1), ('early?', 1), ('births', 1), ('soaring.', 1), ('dj', 1), ('vg,', 1), ('bumiputera', 1), ('dizziness', 1), ('berkey,', 1), ('straightforward', 1), ('insured.', 1), ('e-liquids\"', 1), ('72%', 1), ('too?', 1), ('inflammation.', 1), ('windsor-essex', 1), ('explained,', 1), ('overload,', 1), ('vijaindren', 1), ('wilayah', 1), ('\"take', 1), ('cig-alike', 1), ('advisable,', 1), ('impeccable', 1), ('industry&rsquo;s', 1), ('biocides.', 1), ('schools.â', 1), ('meaninglessness', 1), ('shrink', 1), ('irk', 1), ('custard,', 1), ('overreaching.', 1), ('computers.', 1), ('decomposing', 1), ('lanza,', 1), ('migrating', 1), ('evod,', 1), ('nanoparticles', 1), ('payday', 1), ('specialty:', 1), ('\"short', 1), ('shaad', 1), ('paratransit.', 1), ('rity', 1), ('freelance', 1), ('schizophrenia,', 1), ('siding', 1), (\"'normal'\", 1), ('responses', 1), ('\"aggressive', 1), ('1mg', 1), ('meted', 1), ('elec', 1), ('\"plan', 1), ('wi-fi.', 1), ('stale', 1), ('25--pottsville', 1), ('capability.â', 1), ('rifle', 1), ('conclusion.', 1), ('fattah,', 1), ('headed', 1), ('impression.\"they\\'re', 1), ('rm150.', 1), ('snapshots', 1), ('tastes\"', 1), ('meditative', 1), ('concentrating', 1), ('olympics', 1), (\"years'\", 1), ('excuse', 1), ('rm20', 1), ('pope', 1), ('image-conscious', 1), ('karissa', 1), ('johnston', 1), ('riduan', 1), ('minutes.', 1), ('flavoured,', 1), ('antidote', 1), ('£193billion', 1), ('bryan,', 1), ('tenovus', 1), ('twilight', 1), ('irons', 1), ('27.9', 1), ('paprika-flavoured', 1), ('ban\"', 1), ('limits,', 1), ('(tpa,', 1), ('\"obviously', 1), ('presbyterian', 1), ('milk\".', 1), ('relationships,', 1), ('wondering', 1), ('bubblegum,', 1), ('competitions,', 1), ('ducking', 1), ('06--peabody', 1), ('professionals.', 1), ('deceiving', 1), ('base.\"', 1), ('aunt', 1), ('ronkonkoma', 1), ('microprocessor', 1), ('dems.', 1), ('latin', 1), ('\"old', 1), ('jordan,', 1), ('normal,', 1), ('conscious', 1), ('cycling,', 1), ('site.â', 1), ('thirds', 1), ('bhanson@ocregister.com', 1), ('nbn', 1), ('weird', 1), ('purpose.\"', 1), ('far,\"', 1), ('ordinary?', 1), ('jurisdiction.', 1), ('spark', 1), ('jalbi', 1), ('pathway.', 1), ('one-fifth', 1), ('vapables', 1), ('mackey', 1), ('sheree', 1), ('subscriber', 1), ('entitled', 1), ('cool.\"', 1), ('ellisâ', 1), ('villa', 1), ('tune?', 1), ('worry.', 1), ('\"banning', 1), ('25-foot', 1), ('fins,', 1), (\"well,''\", 1), ('preferences.', 1), ('bukit', 1), ('belonged', 1), ('abstinence.\"', 1), (\"'selfie'\", 1), ('&ldquo;virtual', 1), ('proposals,', 1), ('210,', 1), ('lookalike', 1), ('9.40-11.40pm', 1), ('constrained', 1), ('rooted', 1), ('crow,', 1), ('thinly', 1), ('latest.', 1), ('exporters,', 1), ('re-asserting', 1), (\"virginia's\", 1), ('fensome', 1), ('standpoint,', 1), ('barraged', 1), ('fervently', 1), ('6000', 1), ('unpicking', 1), ('facsimiles', 1), (\"awards'\", 1), ('twitter.com/susanlazaruk', 1), ('ask.', 1), ('8720', 1), ('\"low', 1), ('tap', 1), ('date.\"', 1), ('money!', 1), ('plug-in', 1), ('large-scale', 1), ('their,', 1), ('x-1,', 1), ('\"percs\"', 1), ('division,', 1), ('clients.\"', 1), ('starwood', 1), ('\"others', 1), ('oceans', 1), ('uid', 1), ('casinos;', 1), ('impolite', 1), ('committee.', 1), ('dimitris', 1), (\"'how\", 1), ('(smoking)', 1), ('rawang', 1), ('means,', 1), ('hemiacetals', 1), ('successful,\"', 1), ('rekindle', 1), ('$29.', 1), ('kiwi,', 1), ('judo.', 1), ('benefits?', 1), ('\"disproportionate', 1), ('608', 1), ('electricity', 1), ('fence;', 1), ('\"hurrah\"', 1), ('four-way', 1), ('enslaved.', 1), ('continual', 1), ('alkaloid', 1), ('chunk', 1), (\"madigan's\", 1), ('\"cash', 1), ('ashmawy', 1), ('ewing,', 1), ('agents.', 1), ('instead.\"', 1), ('\"independence,', 1), ('marketplace,\"', 1), ('rm560', 1), ('nothing\"', 1), ('cookies,', 1), ('halepaska.', 1), ('min).', 1), ('selected', 1), ('adv', 1), ('stomping', 1), ('fairborn', 1), ('generally,', 1), ('trouble.', 1), ('schoolchildren.\"', 1), ('commemorate', 1), ('murphy.', 1), ('99p', 1), ('norton.', 1), ('tidy', 1), ('ontarian', 1), ('twitter.com/worpuddle', 1), ('fan', 1), ('withhold', 1), ('vene.', 1), ('[yourselves]', 1), ('nichols.', 1), ('ukraine.', 1), ('barrett,', 1), ('http://www.mddailyrecord.com/be-the-first-to-know/', 1), ('tennessee', 1), ('scoffs', 1), ('sergakis,', 1), ('ecigarettedirect.co.uk.', 1), ('disapproval', 1), ('cpl.', 1), ('perla', 1), ('mccarthy,', 1), ('herculean', 1), ('corner.', 1), ('e-cigarettes.the', 1), ('participation', 1), ('availability,â', 1), ('reviews,', 1), ('products)', 1), ('kan.,', 1), ('reall', 1), ('banoun,', 1), ('attached,', 1), ('cropped', 1), ('carolina-based', 1), ('willy-nilly', 1), ('asthma-related', 1), ('regulation?', 1), ('smoke.recently', 1), ('10%', 1), ('playfully', 1), ('diseaseâ', 1), ('wand,', 1), ('23.4', 1), ('flavourings;', 1), ('there¿s', 1), ('criticizing', 1), ('industry\"', 1), ('warns,', 1), ('unenforceable', 1), ('families,', 1), ('-rettes\"', 1), ('bait-and-switch', 1), ('what&rsquo;s', 1), ('self-regulation', 1), ('oil-based,', 1), (\"'hard'\", 1), ('1.8%', 1), ('inviting,', 1), ('usual.', 1), ('($7).', 1), ('entertained.', 1), ('trusted.', 1), ('idea?-', 1), (\"'you'll\", 1), ('addressed.', 1), ('3.7%', 1), ('specifications', 1), ('(breakfast', 1), ('conform', 1), ('glynn', 1), ('\"precautionary', 1), ('prescription.first,', 1), (\"workin'\", 1), ('o', 1), ('lungs\"', 1), ('hits,\"', 1), ('pertaining', 1), ('(dharuriyyat).', 1), ('alliance,', 1), ('syringe', 1), ('subculture.', 1), ('vengeful', 1), ('dusty', 1), ('fun.\"', 1), ('samsu', 1), ('combusted', 1), ('expulsion', 1), ('latching', 1), ('vaping-inhaling', 1), ('piece.\"', 1), ('swallowing', 1), ('syariah,', 1), ('nicorette®.', 1), ('certainly,\"', 1), ('workload,', 1), ('(could', 1), ('switching,', 1), ('assistan', 1), ('struggles', 1), ('firms,', 1), ('depressed.\"', 1), ('\"disclosed', 1), ('mid-atlantic.', 1), ('(your', 1), ('offense,', 1), ('uc', 1), ('people)', 1), ('e-mail', 1), ('acosta', 1), ('usb', 1), ('alarms', 1), ('impulsiveness,', 1), ('excited,', 1), ('few.', 1), (\"johor's\", 1), ('spartanburg,', 1), ('skeptics', 1), ('rajak', 1), ('cameras,', 1), ('handed,', 1), ('causal,', 1), ('hawkins', 1), ('stanley', 1), ('\"cure\"', 1), ('workplace?),', 1), ('influences.', 1), ('headquarters,\"', 1), ('inability', 1), ('quarterly', 1), ('craves', 1), ('close-up', 1), ('avrum', 1), ('pg,', 1), ('users).', 1), ('\"research\"', 1), ('allure', 1), ('usi', 1), ('\"e-juice', 1), ('nocera,', 1), ('alaysia,', 1), ('ignore.', 1), ('declared,', 1), ('this?!', 1), ('brevity', 1), ('seen,', 1), ('concoctions¿', 1), ('perhaps,', 1), ('coventry', 1), (\"organisation's\", 1), ('capital,', 1), ('dangerous.\"', 1), ('gombak,', 1), ('child-friendly', 1), ('complementing', 1), ('unproductive', 1), ('jalil', 1), ('reminders', 1), ('insinuates', 1), ('mullery,', 1), ('reflections.', 1), ('convinced:', 1), ('cheesecake.', 1), (\"anomalous,''\", 1), ('&ldquo;broken', 1), ('denver', 1), ('matter.\"', 1), ('upset,\"', 1), ('nonsense', 1), ('singing', 1), ('between.', 1), ('congestive', 1), ('study!).', 1), ('chemistry.', 1), ('215-854-2619', 1), ('desk', 1), ('lined', 1), ('peg', 1), ('anyplace', 1), ('(vaping),\"', 1), ('¿even', 1), ('kindness,', 1), ('therin', 1), (\"tissue,'\", 1), ('accompanies', 1), ('plans.â', 1), ('overzealous', 1), ('situations', 1), ('freedom,', 1), ('competitors.', 1), ('urgently', 1), ('low-weight', 1), ('woodâ', 1), ('invalid', 1), (\"them.''\", 1), ('overdoses!', 1), ('more,â', 1), ('¨email:', 1), ('liberation', 1), ('260', 1), ('610-371-5040', 1), ('\"manipulative.\"', 1), ('j,', 1), ('inventions', 1), ('greene.', 1), ('www.ugly.no', 1), ('products?', 1), ('www.troymedia.com', 1), ('asking:', 1), ('iowa', 1), ('pills.\"', 1), ('notoriously', 1), ('declined.the', 1), ('cambra,', 1), ('cessation,\"', 1), ('portrayal', 1), ('ansell', 1), ('tom.lyons@heraldtribune.com', 1), ('nothing,', 1), ('chico', 1), ('open,', 1), ('neighbors:', 1), ('maily', 1), ('\"anyway,', 1), ('\"killer', 1), ('nutshell', 1), ('[vaping', 1), ('undoing', 1), ('intricacy.', 1), ('802quits.org', 1), ('j.d.,', 1), ('penlike', 1), ('\"greedy\"', 1), ('misnomer.', 1), ('conditioned', 1), ('anti-freeze', 1), ('kebangsaan', 1), ('ultra', 1), ('meme,', 1), ('tailor', 1), ('individuals,', 1), ('lifting', 1), ('hamburg-area', 1), ('exhalations.', 1), ('raffles,', 1), ('sev-eral', 1), ('significant\"', 1), ('advert.', 1), ('surroundings,', 1), ('oxygen,', 1), ('lanyard', 1), ('workplace!\"', 1), ('smoking),', 1), ('rm40.', 1), ('leader.', 1), ('color;', 1), ('broader,', 1), ('magic.', 1), ('stable,', 1), ('eloquent', 1), ('lajey', 1), ('however.', 1), ('approved:', 1), ('growing.', 1), ('316-7894', 1), ('joked', 1), ('1997-1998', 1), ('fans\"', 1), ('legislators', 1), ('positions,', 1), ('possible,\"', 1), ('unpleasant,', 1), ('gadgety', 1), ('theater,', 1), ('lawrence', 1), ('night-time', 1), ('prizes.\"', 1), ('expense,', 1), ('culture\"?', 1), ('d-newport', 1), ('azure', 1), ('all\".', 1), ('said.\"in', 1), ('virulence,', 1), ('seep', 1), ('unknown,\"', 1), ('\"private', 1), ('shortages', 1), ('stamper,', 1), ('calories', 1), ('subramaniam.', 1), (\"ridzuan's\", 1), ('recess', 1), ('\"banana', 1), ('puffing,\"', 1), ('disease.\"', 1), ('www.askhys.net', 1), ('agents.\"', 1), ('free?', 1), ('haprov', 1), ('sharkie,', 1), ('okay.', 1), ('recipients', 1), ('views,', 1), ('grogan,', 1), ('cooling.â', 1), ('qatar', 1), ('arrived.©', 1), ('assets.', 1), ('east.', 1), ('azlan', 1), ('mattick,', 1), ('wintour', 1), ('styles.', 1), ('cons.', 1), ('&ldquo;no', 1), ('theory,', 1), ('cloud-chaser', 1), ('\"unlike', 1), ('detailing', 1), ('hunsicker,', 1), ('aimran.', 1), ('said.\"it', 1), ('mark,', 1), ('trying,', 1), ('re-introduction', 1), ('forget,', 1), ('strict,', 1), ('reminder', 1), ('finish', 1), ('slogan:', 1), ('general.', 1), ('half-mile', 1), ('night.\"', 1), ('favourite', 1), ('structure,\"', 1), ('heavily,\"', 1), ('sessions', 1), ('arouse', 1), ('skeptical', 1), ('38a,\"', 1), ('utter,', 1), ('reasons.for', 1), ('smelled', 1), ('searches.', 1), ('rocky', 1), ('nuisance?', 1), ('steed,', 1), ('here?', 1), ('\"war\"', 1), ('staking', 1), ('discretion', 1), (\"'soldier\", 1), ('inc.)', 1), ('$4-billion', 1), ('americans,', 1), ('receivers,', 1), ('peakâ', 1), ('stuff\"', 1), ('harpenden,', 1), ('napkin,', 1), ('cowles', 1), ('replaceable,', 1), ('committees', 1), ('bevilacqua,', 1), ('hinders', 1), (\"'s5'\", 1), ('health)', 1), ('magazine,', 1), ('electronic,', 1), ('reaction.', 1), ('readymade', 1), ('entrance.', 1), ('comparisons', 1), ('¿standards', 1), ('officer.', 1), ('exhalation,', 1), ('26%', 1), ('\"trying', 1), ('bands', 1), ('softer', 1), ('book,', 1), ('not)', 1), ('\"ah,', 1), ('reinvent', 1), (\"bill's\", 1), ('donuts,', 1), ('frequently.', 1), ('chickashanews.com', 1), ('tobacco-industry', 1), ('twisting', 1), (\"jing'an\", 1), ('purely', 1), ('mg/m3.', 1), ('bonding,', 1), ('salter,', 1), ('15.', 1), ('reserve.', 1), ('traditional,', 1), ('14th', 1), ('21--justin', 1), ('akaki,', 1), ('pessimism.', 1), ('pomegranate-flavored', 1), ('magazines,', 1), ('cognoscenti).', 1), ('no-vaping', 1), ('running,\"', 1), ('handphones', 1), ('letters,', 1), ('break-in,', 1), ('times-dispatch', 1), ('encourage?', 1), ('idiocy', 1), ('verbiage', 1), ('terminals', 1), ('(uf2.0%)', 1), ('\"flavour\"', 1), ('carr,', 1), ('chatham', 1), ('structure', 1), ('allanâ', 1), ('vorapharuek,', 1), ('burstyn,', 1), (\"âeur[#x2dc]exhaling'\", 1), ('monday-friday', 1), ('e-news', 1), (\"steed's\", 1), ('discussing', 1), ('ann', 1), ('groundless.', 1), ('(others)', 1), ('\"cigalikes,\"', 1), ('\"analogue\")', 1), ('odor-free.', 1), ('japan,', 1), ('peers.', 1), ('demanding', 1), ('sponsor:', 1), ('obliged', 1), ('disturbing', 1), ('menace', 1), ('undergraduates,', 1), ('sledgehammer', 1), ('office:', 1), ('smashed', 1), ('constitution', 1), (\"people,''\", 1), ('conservatives', 1), ('popula-', 1), ('$40,000', 1), ('outright.', 1), ('worked,', 1), ('copy-and-paste', 1), ('nicotine-replacement-therapy', 1), (\"mississauga's\", 1), ('gasoline.', 1), ('crapulous', 1), ('lithuania', 1), ('simultaneously,', 1), ('fix,', 1), ('prototype', 1), ('freedoms.', 1), ('oranges', 1), ('in-car', 1), ('boards.', 1), ('\"poor', 1), ('suspected', 1), ('www.thedigitalsmoker.ca.', 1), (\"media's\", 1), ('(vg),', 1), ('guards', 1), ('unlawful.', 1), ('15.1', 1), ('legislation,\"', 1), ('eco-consciousness', 1), ('partly', 1), (\"'mixologists'.\", 1), ('bicycle', 1), ('explanations', 1), ('nightclub,', 1), ('components,', 1), ('taxation,', 1), ('slashed', 1), ('photograph.', 1), ('$50,000.', 1), ('attributing', 1), ('snowflakes,', 1), ('inventory', 1), ('slow-suicide.', 1), ('edible', 1), ('4%', 1), ('safe.brian', 1), ('superiority', 1), ('uob', 1), ('montcoutie,', 1), ('hypnosis', 1), ('giving:', 1), ('lifestyle!', 1), ('embrace,\"', 1), ('deliberately', 1), ('\"youngsters', 1), ('entrances.', 1), ('boxes.', 1), ('612-673-7402', 1), ('vapers\".', 1), ('sheet', 1), ('china-based', 1), ('reasons,', 1), ('blacklaw', 1), ('socorro', 1), ('(usually)', 1), ('take-up', 1), (\"'50s.\", 1), ('ronge,', 1), (\"'listen,\", 1), ('planes.', 1), ('10m', 1), ('phobia', 1), ('superstore,', 1), ('101,', 1), ('strategy.\"', 1), ('jenkins,', 1), ('countered', 1), ('precision', 1), ('kind,\"', 1), ('brett', 1), ('promptly,\"', 1), (\"it-i've\", 1), ('moss', 1), ('breathalyzer', 1), ('(secondhand', 1), ('logistics', 1), ('astonishingly,', 1), ('shadow', 1), ('ranged', 1), ('summary', 1), ('roll-your-own', 1), ('wheel,\"', 1), ('residences,', 1), ('editor,', 1), ('larsen;', 1), ('predetermined', 1), ('mower', 1), ('sofa,', 1), ('rhythm', 1), ('idea,\"', 1), ('cobourg', 1), ('\"show', 1), ('directives', 1), ('common,', 1), ('rail.', 1), ('tom,', 1), ('consequently,', 1), ('simple,', 1), ('milliliter.', 1), ('e-cigarettes.russell', 1), ('illegal.\"', 1), ('patchwork', 1), ('junid,', 1), ('grinders.', 1), ('admittedly', 1), ('\"music', 1), ('\"sales', 1), ('piously', 1), ('disparities.', 1), ('\"pretty', 1), ('gebb', 1), ('\"gorilla.\"', 1), ('neck:', 1), ('$12.50,', 1), ('$135-million.', 1), ('release:a', 1), ('missionary', 1), ('permitted;', 1), ('asserted', 1), ('reading!', 1), ('`adolescent', 1), ('nate', 1), ('enamored', 1), ('be.\"', 1), ('vaping.com.', 1), ('plurality', 1), ('(vg)', 1), ('bragging', 1), ('clearwater', 1), ('\\'vaping,\\'\"', 1), ('assurances', 1), ('nascent', 1), ('earphones', 1), ('impact,\"', 1), ('collaborators', 1), ('reneging', 1), ('collarini,', 1), ('e-vape', 1), ('\"municipalities', 1), ('12.9', 1), ('carriage,', 1), ('co-president', 1), ('dubois', 1), ('vaporize,', 1), ('happen,', 1), ('unscientific', 1), ('nannies', 1), ('enjoy.', 1), ('(nicorette®,', 1), ('offerman', 1), ('versions,', 1), ('ghooley', 1), (\"phe's\", 1), ('control\"', 1), ('impossibly', 1), ('\"province', 1), ('dogmatism', 1), ('up.â', 1), ('quiet,\"', 1), ('hit.\"', 1), ('[\"dalston', 1), ('kay', 1), ('extraordinarily', 1), ('reserved', 1), ('$35', 1), ('19th', 1), ('world-weary', 1), ('re-started', 1), ('quench', 1), ('stoptober', 1), ('billion\".', 1), ('case.\"they', 1), ('jurisdiction,', 1), ('setup.', 1), ('change?', 1), ('11-18', 1), ('chugging', 1), ('type-appears', 1), ('weed.', 1), ('argue,', 1), ('inferior', 1), ('summarised', 1), ('nicotine).', 1), ('touts', 1), ('dubai,', 1), ('builds', 1), ('1,800', 1), ('nato', 1), ('businessmen.', 1), ('58', 1), ('investments', 1), ('ducks', 1), ('unassisted,', 1), ('enticement.', 1), ('tread', 1), (\"idea'\", 1), ('whisper', 1), ('54,000', 1), ('(have', 1), ('(s$162.7', 1), ('\"hit\"', 1), ('triangle,\"', 1), ('submarines.', 1), ('renege', 1), ('devotes', 1), ('patra,', 1), ('ignites', 1), ('(maslahah)', 1), ('failing', 1), ('pro-vapers', 1), ('begins,', 1), ('(by', 1), ('volumes)', 1), ('cafe,', 1), ('organisation,', 1), ('garman', 1), ('iona', 1), ('dabbling', 1), (\"legislature's\", 1), ('seatbelt', 1), ('nasal', 1), ('couple,', 1), ('forest', 1), ('somewhat-fresher', 1), ('inhalers.', 1), ('home\".', 1), ('unsold', 1), ('more,\"', 1), ('ended?).', 1), ('dynamics', 1), ('spice', 1), ('ale', 1), ('emerged.', 1), ('desirable,', 1), ('pleased\"', 1), ('fixation.\"', 1), ('e-cigs.\"', 1), ('beforehand', 1), ('addicts.', 1), ('(mevta).', 1), ('1,400-square-foot', 1), ('discussed,', 1), ('proposal,', 1), ('conference.', 1), ('marathon', 1), ('swell', 1), ('hasan.', 1), ('irritates', 1), ('hotter', 1), ('cambodia,', 1), ('socio-demographic', 1), ('reservations,', 1), ('member,\"', 1), ('placard.', 1), ('parts.', 1), ('jones?', 1), ('long-term,', 1), ('ego?', 1), ('brand.¿', 1), (\"keech's\", 1), ('gazette', 1), ('counties:', 1), ('bcross@windsorstar.com', 1), ('juncture,â', 1), ('24.7', 1), ('emollient', 1), ('coaching', 1), ('pathetic,', 1), ('collated', 1), ('islam.', 1), ('presumed', 1), ('courageous', 1), ('telescope.', 1), ('\"non-cancer', 1), ('answer.\"', 1), ('midlands', 1), ('anything.', 1), ('countered,', 1), ('inviting.', 1), ('up-to-the-minute', 1), ('hamburg', 1), ('(pv).', 1), ('marketplace,', 1), ('[june', 1), ('(kpdnkk)', 1), ('greenfield,', 1), ('test.)also,', 1), ('katie', 1), ('hypocrisy', 1), ('50,000', 1), ('\"open\"', 1), ('15).', 1), ('news:', 1), ('exotic', 1), ('beleaguered', 1), ('co-worker', 1), ('constable,', 1), ('make-up,', 1), ('warrant', 1), ('formaldehyde-containing', 1), ('tippers', 1), ('trani,', 1), ('optional', 1), ('propducts', 1), ('ostensibly', 1), ('sw1)', 1), ('nettmix', 1), ('kathleen', 1), ('plenty', 1), ('relax,', 1), ('$96', 1), (\"generations'\", 1), ('grossly', 1), ('scholars,', 1), ('patrolling', 1), ('vapor-producing', 1), ('match-day', 1), ('sequitur.', 1), ('spain,', 1), ('amounting', 1), ('offending', 1), ('vermont,', 1), ('tfl/london', 1), ('competition,\"', 1), ('dexterity', 1), ('md,', 1), ('2014).', 1), (\"vaporising'\", 1), ('trucker', 1), ('continue.', 1), ('pattinson', 1), ('isub', 1), ('cigarette?\"', 1), ('900', 1), ('¨now', 1), ('nachos,', 1), ('jazeera:', 1), ('bystanders!&rdquo;', 1), (\"manufacturer's\", 1), ('train.', 1), ('admiration', 1), ('\"thanks', 1), ('by-product', 1), ('sabrina', 1), ('0.33p', 1), ('survey_j03', 1), ('non-partisan', 1), ('debates', 1), ('2049.', 1), ('penitence,', 1), ('triggered', 1), ('century...', 1), ('bma', 1), ('bona', 1), ('weekend', 1), ('face?', 1), ('kim.ring@telegram.com', 1), ('\"please', 1), ('london\",', 1), ('strongent', 1), ('grandfather', 1), ('\"strawberry\"', 1), ('non-permanent,', 1), ('atul', 1), ('pump', 1), ('breath,', 1), ('eyedrop', 1), ('padlocked', 1), ('triggers', 1), ('solicitor', 1), ('democrat,', 1)]\n"
     ]
    }
   ],
   "source": [
    "freq_list_all = Counter()\n",
    "for doc in docs2:\n",
    "    body_text = doc['body']\n",
    "    tokens = body_text.lower().split()\n",
    "    freq_list_all.update(tokens)\n",
    "\n",
    "    \n",
    "print(freq_list_all.most_common())"
   ]
  }
 ],
 "metadata": {
  "kernelspec": {
   "display_name": "Python 3",
   "language": "python",
   "name": "python3"
  },
  "language_info": {
   "codemirror_mode": {
    "name": "ipython",
    "version": 3
   },
   "file_extension": ".py",
   "mimetype": "text/x-python",
   "name": "python",
   "nbconvert_exporter": "python",
   "pygments_lexer": "ipython3",
   "version": "3.4.4"
  }
 },
 "nbformat": 4,
 "nbformat_minor": 0
}
