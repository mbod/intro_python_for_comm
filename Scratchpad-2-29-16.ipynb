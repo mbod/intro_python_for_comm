{
 "cells": [
  {
   "cell_type": "code",
   "execution_count": 86,
   "metadata": {
    "collapsed": true
   },
   "outputs": [],
   "source": [
    "import requests\n",
    "from bs4 import BeautifulSoup"
   ]
  },
  {
   "cell_type": "code",
   "execution_count": 87,
   "metadata": {
    "collapsed": true
   },
   "outputs": [],
   "source": [
    "url = 'https://philadelphia.craigslist.org/search/pet'"
   ]
  },
  {
   "cell_type": "code",
   "execution_count": 88,
   "metadata": {
    "collapsed": true
   },
   "outputs": [],
   "source": [
    "params = {'s': 1, \n",
    "          'query': 'dogs', \n",
    "          'hasPic': 1}"
   ]
  },
  {
   "cell_type": "code",
   "execution_count": 89,
   "metadata": {
    "collapsed": false
   },
   "outputs": [],
   "source": [
    "resp = requests.get(url, params=params)"
   ]
  },
  {
   "cell_type": "code",
   "execution_count": null,
   "metadata": {
    "collapsed": false
   },
   "outputs": [],
   "source": []
  },
  {
   "cell_type": "code",
   "execution_count": 90,
   "metadata": {
    "collapsed": false
   },
   "outputs": [],
   "source": [
    "html = BeautifulSoup(resp.text, 'html.parser')"
   ]
  },
  {
   "cell_type": "code",
   "execution_count": 91,
   "metadata": {
    "collapsed": false
   },
   "outputs": [
    {
     "data": {
      "text/plain": [
       "1413"
      ]
     },
     "execution_count": 91,
     "metadata": {},
     "output_type": "execute_result"
    }
   ],
   "source": [
    "len(html.findAll('span'))"
   ]
  },
  {
   "cell_type": "code",
   "execution_count": 92,
   "metadata": {
    "collapsed": false
   },
   "outputs": [
    {
     "data": {
      "text/plain": [
       "100"
      ]
     },
     "execution_count": 92,
     "metadata": {},
     "output_type": "execute_result"
    }
   ],
   "source": [
    "p_row=html.findAll('p', attrs={'class': 'row'})\n",
    "len(p_row)"
   ]
  },
  {
   "cell_type": "code",
   "execution_count": 93,
   "metadata": {
    "collapsed": false
   },
   "outputs": [
    {
     "data": {
      "text/plain": [
       "<p class=\"row\" data-pid=\"5470375979\" data-repost-of=\"5324271024\"> <a class=\"i\" data-ids=\"0:01313_ar6V3F54bHh\" href=\"/pet/5470375979.html\"></a> <span class=\"txt\"> <span class=\"star\"></span> <span class=\"pl\"> <time datetime=\"2016-02-29 16:03\" title=\"Mon 29 Feb 04:03:28 PM\">Feb 29</time> <a class=\"hdrlnk\" data-id=\"5470375979\" href=\"/pet/5470375979.html\"><span id=\"titletextonly\">Off Lead All Breeds Commands Guaranteed</span></a> </span> <span class=\"l2\"> <span class=\"pnr\"> <span class=\"px\"> <span class=\"p\"> pic <span class=\"maptag\" data-pid=\"5470375979\">map</span></span></span> </span> </span> <span class=\"js-only banish-unbanish\"> <span class=\"banish\" title=\"hide\"><span class=\"trash\"></span></span> <span class=\"unbanish\" title=\"restore\"><span class=\"trash red\"></span></span></span> </span> </p>"
      ]
     },
     "execution_count": 93,
     "metadata": {},
     "output_type": "execute_result"
    }
   ],
   "source": [
    "p_row[2]"
   ]
  },
  {
   "cell_type": "code",
   "execution_count": 98,
   "metadata": {
    "collapsed": false
   },
   "outputs": [
    {
     "data": {
      "text/plain": [
       "'Dogs like fine wines just get better with age....'"
      ]
     },
     "execution_count": 98,
     "metadata": {},
     "output_type": "execute_result"
    }
   ],
   "source": [
    "p_row[0].find('span',attrs={'id': 'titletextonly'}).text"
   ]
  },
  {
   "cell_type": "code",
   "execution_count": null,
   "metadata": {
    "collapsed": false
   },
   "outputs": [],
   "source": []
  },
  {
   "cell_type": "code",
   "execution_count": 103,
   "metadata": {
    "collapsed": false
   },
   "outputs": [],
   "source": [
    "for idx, item in enumerate(p_row):\n",
    "    try:\n",
    "        link_text = item.find('span',attrs={'id': 'titletextonly'})\n",
    "        link_href = item.find('a', attrs={'class': 'hdrlnk'})\n",
    "        link_href.text\n",
    "        #print(idx, link_text.text, link_href.attrs['href'] )\n",
    "    except:\n",
    "        print('ERROR with item', idx, item.prettify())"
   ]
  },
  {
   "cell_type": "code",
   "execution_count": 34,
   "metadata": {
    "collapsed": false
   },
   "outputs": [
    {
     "name": "stdout",
     "output_type": "stream",
     "text": [
      "0    Feb 26 Dogs like fine wines just get better with age....     (Dog Town Rescue, Montgomery County)   pic map      \n",
      "1    Feb 9 The Big Dipper (\"TBD\") likes with both dogs and cats - adopt him!     (Pet Supplies Plus, Phoenixville)   pic map      \n",
      "2    Feb 29 Jäger - 8 month old mixed breed     (Warrington)   pic map      \n",
      "3    Feb 29 Blue Heeler mix! (Rehoming)     (Warrington)   pic map      \n",
      "4    Feb 29 Young Female Great Dane      pic      \n",
      "5    Feb 29 CAN YOU HELP BILLY? Happy, sweet, mature pitty mx needs a home      pic map      \n",
      "6    Feb 29 Hunk alert! This handsome guy will keep you laughing all day long!     (COEL Foster Care)   pic      \n",
      "7    Feb 29 Happy go-lucky senior-ish pittie looking for true love!     (COEL Foster Care)   pic      \n",
      "8    Feb 29 This adorable dog LOVES kids! She can't wait to land her dream family!     (COEL Foster Care)   pic      \n",
      "9    Feb 29 Beautiful friendly Pit mix with free training lessons!      pic      \n",
      "10    Feb 28 Looking for a home: Lilly the Dachshund      pic      \n",
      "11    Feb 28 Dog Adoption     (Upper Darby)   pic map      \n",
      "12    Feb 28 Dog Groomer School     (Philadelphia)   pic map      \n",
      "13    Feb 28 40% OFF DOG GROOMING-BATH & HAIRCUT     (Northern Liberties-Fishtown)   pic map      \n",
      "14    Feb 28 !!! PET SITTING !!!     (Upper Darby)   pic map      \n",
      "15    Feb 28 SWEET & LOVING CARA, IS LOOKING FOR HER FOREVER HOME!     (Application/ Home Visit/ Adoption Fee)   pic map      \n",
      "16    Feb 27 Dog Walking Upper Darby Affordable     (Upper Darby)   pic map      \n",
      "17    Feb 27 Pro Training All Personalities Welcome And Skiddish Aggressive      pic map      \n",
      "18    Feb 26 LOOKING FOR A LOVEBUG WHO LOVES TO SNUGGLE?     (Manayunk/Roxborough)   pic      \n",
      "19    Feb 26 Duck, duck, duck....ADOPT!     (Dog Town Rescue, Montgomery County)   pic map      \n",
      "20    Feb 26 adorably squishy blockhead dog for adoption     (Dog Town Rescue, Montgomery County)   pic map      \n",
      "21    Feb 26 Small dog only PECO metal dog cage and dog carrier     (university city, philly)   pic map      \n",
      "22    Feb 25 medium sized dog     (philadelphia)   pic map      \n",
      "23    Feb 25 Papa is waiting for his new family!     (ACCT Philly)   pic      \n",
      "24    Feb 24 Pierre the perfect gentleman      pic map      \n",
      "25    Feb 24 KIMBO - Calm, Love Affection, Dog Social     (ACCT Philly)   pic map      \n",
      "26    Feb 24 BIG POPPA - Playful, Friendly, LOVE Fetch!     (ACCT Philly)   pic map      \n",
      "27    Feb 24 PORTER - Well Mannered, Dog Friendly, Happy Guy!     (ACCT Philly)   pic map      \n",
      "28    Feb 24 LIONEL - Would like an active family!     (ACCT Philly)   pic map      \n",
      "29    Feb 23 Need a good home for a found pit bull     (South Phila)   pic map      \n",
      "30    Feb 23 Boston Terrier & Pitbull Mix, Super Soft, Looks like a little Cow!     (PHILADELPHIA)   pic map      \n",
      "31    Feb 23 ****The ILLUSTRATED ENCYCLOPEDIA OF DOG BREEDS ---$9.     (Central Bucks County)   pic map      \n",
      "32    Feb 23 Clove and Lilly Are Looking For A Forever Home Together!     (Petsmart Plymouth Meeting EAC)   pic map      \n",
      "33    Feb 23 *DECLAWED!* Gorgeous LILY Would Love A Forever Home!     (Petsmart Plymouth Meeting EAC)   pic map      \n",
      "34    Feb 23 The BELLE Of The Ball Needs Someone To Rub Her Belly!     (Petsmart Plymouth Meeting EAC)   pic map      \n",
      "35    Feb 23 The Cutest POSSUM You'll Ever See!     (Petsmart Plymouth Meeting EAC)   pic map      \n",
      "36    Feb 23 Count The Wrinkle's On CURTIS' Head!     (Petsmart Plymouth Meeting EAC)   pic map      \n",
      "37    Feb 23 Need A Jogging Partner? COPPER Is Your Guy!     (Petsmart Plymouth Meeting EAC)   pic map      \n",
      "38    Feb 4 Remodeling home means the dogs must go!!!     (Philadelphia)   pic      \n",
      "39    Feb 23 Adorable friendly puppy Zeus needs a new home!     (West Chester)   pic map      \n",
      "40    Feb 23 Golden Retriever Pup     (Trainer)   pic map      \n",
      "41    Feb 22 Mary Puppins Is Sweeter Than A Spoonful Of Sugar!     (ACCT Philly)   pic      \n",
      "42    Feb 22 BUTCH - Gentle, Sweet, and Handsome Male Pup!     (ACCT Philly)   pic map      \n",
      "43    Feb 22 LINDA - Dog Friendly, Sweet and Loving!     (ACCT Philly)   pic map      \n",
      "44    Feb 21 Pure Bred Cuddle Buddy- Tyler wants an adventurous family!     (Chester)   pic      \n",
      "45    Feb 20 HE NEEDS A GREAT HOME     (Philadelphia)   pic map      \n",
      "46    Feb 19 ❤ Dog Aggression/Fear Seminar w/Visiting Author Grisha Stewart (BAT)     (Bryn Mawr College)   pic map      \n",
      "47    Feb 16 iso puppy!      pic map      \n",
      "48    Feb 16 Meet Our MONDO Lovebug!     (Petsmart Plymouth Meeting EAC)   pic map      \n",
      "49    Feb 16 You'll Fall Head Over Heels For BARON!     (Petsmart Plymouth Meeting EAC)   pic map      \n",
      "50    Feb 16 Dog walker, exerciser wanted     (Chalfont)   pic map      \n",
      "51    Feb 15 Billy Boy, loving, sweet pit mx, mature, good natured, seeks home      pic map      \n",
      "52    Feb 11 Find Your Valentine at National Adoption Weekend!     (Petsmart Plymouth Meeting EAC)   pic map      \n",
      "53    Feb 10 40% OFF DOG GROOMING-BATH & HAIRCUT     (Northern Liberties-Fishtown)   pic map      \n",
      "54    Feb 9 This handsome dog is dog, cat and kid-friendly. And YOU can adopt him!     (COEL Foster Care)   pic      \n",
      "55    Feb 9 Sadie Sausage is dreaming of her forever home - could it be yours?     (COEL Foster Care)   pic      \n",
      "56    Feb 9 Oh-so-handsome Keymo is on the hunt for his forever family. Adopt him!     (COEL Foster Care)   pic      \n",
      "57    Feb 9 Snuggly, cat+dog friendly, FIV+ kitty for adoption!     (TPK Rescue ♥ Hatfield)   pic      \n",
      "58    Feb 9 Pocket Bully looking for Permanent Home      pic map      \n",
      "59    Feb 9 Janet Planet MUST LEAVE ACCT by 2/10/16 8pm!     (Philadelphia)   pic      \n",
      "60    Feb 7 2 Male American Bullies 3 years     (Philadelphia Suburbs)   pic map      \n",
      "61    Feb 29 Loving adult male grey tabby cat for adoption     (Philadelphia)   pic      \n",
      "62    Feb 29 ADOPT A CLOUD (VIDEO)     (ACCT Foster)   pic      \n",
      "63    Feb 29 Maltese Puppy     (Philly)   pic map      \n",
      "64    Feb 29 Brown Spotted Bengal Kittens Available now      pic map      \n",
      "65    Feb 29 3 night stay at pet resort      pic map      \n",
      "66    Feb 29 dog training all breed control      pic map      \n",
      "67    Feb 29 Pet Mate X Large Dog Kennel     (Tacony ne phila)   pic map      \n",
      "68    Feb 29 Stunning long-haired senior cat looking for a home as special as her!     (COEL Foster Care)   pic      \n",
      "69    Feb 29 RYAN! House/Crate Trained, Dog Friendly     (Phila)   pic      \n",
      "70    Feb 29 Hilarious little cat is looking to add personality to your home!     (Pet Supplies Plus, Phoenixville)   pic map      \n",
      "71    Feb 29 Teeny, tiny, super affectionate NATE is looking for his forever home!     (Pet Supplies Plus, Phoenixville)   pic map      \n",
      "72    Feb 29 Tiger's personality matches his good looks - adopt this wonderful cat!     (Pet Supplies Plus, Phoenixville)   pic map      \n",
      "73    Feb 29 Need Help Feeding Your Pets? We Can Help! (Sat. 3/5)     (Frankford, Philadelphia)   pic map      \n",
      "74    Feb 29 Adorable white kitty for adoption      pic      \n",
      "75    Feb 28 Looking for a home: CeeCee the Pit Bull Terrier mix      pic      \n",
      "76    Feb 28 Looking for a home: Winnie the Boston Terrier mix      pic      \n",
      "77    Feb 28 Looking for a home: Charlotte the Staffordshire Bull Terrier mix      pic      \n",
      "78    Feb 28 GIRL DREAMS OF A FAMILY Kute Kompact KIARA needs foster or adopter     (501C3 RESCUE)   pic map      \n",
      "79    Feb 28 Looking for a home: King the Boxer/American Staffordshire Terrier mix      pic map      \n",
      "80    Feb 28 Eddie Bauer Puffer Vest Medium Dog     (Erdenheim)   pic      \n",
      "81    Feb 28 Male-American Bull Lap Dog     (Lansdowne)   pic map      \n",
      "82    Feb 28 Check Out Saul!      pic map      \n",
      "83    Feb 28 5 year old pitbull for adoption      pic map      \n",
      "84    Feb 28 dog training obedience control      pic map      \n",
      "85    Feb 28 Pet Training Big Or Small      pic map      \n",
      "86    Feb 28 ZORRO--They Changed His NAME!     (Bridesburg Pa)   pic      \n",
      "87    Feb 28 CAGELESS UNDER 2-HOUR DOG GROOMING     (Yardley)   pic map      \n",
      "88    Feb 6 BOSTON TERRIER/PITBULL MIX     (Philadelphia)   pic map      \n",
      "89    Feb 28 Lucy is a loving 3 yr old girl, looking for her forever family!     (Application/ Home Visit/ Adoption Fee)   pic map      \n",
      "90    Feb 27 Louie is URGENT     (ACCT Philly)   pic      \n",
      "91    Feb 27 Dog Crate ($40) 36 L x 23 W x 25 H     (PHILADELPHIA)   pic map      \n",
      "92    Feb 27 Pierre lab/ boxer mix      pic map      \n",
      "93    Feb 27 CHUNKY, BIG HEADED, ADORABULLY SEEKS LOVING HOME      pic map      \n",
      "94    Feb 27 Ship tzu     (Summerdale)   pic map      \n",
      "95    Feb 27 New Eddie Bauer Puffer Vest Dog Size Medium     (Erdenheim)   pic      \n",
      "96    Feb 27 Snowshoe Siamese female     (West Grove)   pic map      \n",
      "97    Feb 27 blue nose pit bull puppy     (Pottstown)   pic map      \n",
      "98    Feb 26 Medium size dog crate with divider     (Collingswood)   pic      \n",
      "99    Feb 26 Adorable chihuahua alert!     (Dog Town Rescue, Montgomery County)   pic map      \n"
     ]
    }
   ],
   "source": [
    "for idx, item in enumerate(p_row):\n",
    "    try:\n",
    "        print(idx, item.find('span',attrs={'class': 'txt'}).text)\n",
    "    except:\n",
    "        print('ERROR with item', idx, ' - no <span id=\"txt\">')"
   ]
  },
  {
   "cell_type": "code",
   "execution_count": 35,
   "metadata": {
    "collapsed": false
   },
   "outputs": [
    {
     "data": {
      "text/plain": [
       "[<p class=\"row\" data-pid=\"5443792006\"> <a class=\"i\" data-ids=\"0:00O0O_Wyzw6sgSbg,0:00x0x_drhCXGySRfW\" href=\"/pet/5443792006.html\"></a> <span class=\"txt\"> <span class=\"star\"></span> <span class=\"pl\"> <time datetime=\"2016-02-26 16:25\" title=\"Fri 26 Feb 04:25:40 PM\">Feb 26</time> <a class=\"hdrlnk\" data-id=\"5443792006\" href=\"/pet/5443792006.html\"><span id=\"titletextonly\">Dogs like fine wines just get better with age....</span></a> </span> <span class=\"l2\"> <span class=\"pnr\"> <small> (Dog Town Rescue, Montgomery County)</small> <span class=\"px\"> <span class=\"p\"> pic <span class=\"maptag\" data-pid=\"5443792006\">map</span></span></span> </span> </span> <span class=\"js-only banish-unbanish\"> <span class=\"banish\" title=\"hide\"><span class=\"trash\"></span></span> <span class=\"unbanish\" title=\"restore\"><span class=\"trash red\"></span></span></span> </span> </p>,\n",
       " <p class=\"row\" data-pid=\"5399849471\"> <a class=\"i\" data-ids=\"0:01717_ldaF3BGSW8P,0:00s0s_ca3kzc1KRcb,0:00g0g_BNpkSNGtrn,0:00v0v_buEqRY4Nr3Q,0:00d0d_b6qgsx44ZmB\" href=\"/pet/5399849471.html\"></a> <span class=\"txt\"> <span class=\"star\"></span> <span class=\"pl\"> <time datetime=\"2016-02-09 15:45\" title=\"Tue 09 Feb 03:45:01 PM\">Feb 9</time> <a class=\"hdrlnk\" data-id=\"5399849471\" href=\"/pet/5399849471.html\">The Big Dipper (\"TBD\") likes with both dogs and cats - adopt him!</a> </span> <span class=\"l2\"> <span class=\"pnr\"> <small> (Pet Supplies Plus, Phoenixville)</small> <span class=\"px\"> <span class=\"p\"> pic <span class=\"maptag\" data-pid=\"5399849471\">map</span></span></span> </span> </span> <span class=\"js-only banish-unbanish\"> <span class=\"banish\" title=\"hide\"><span class=\"trash\"></span></span> <span class=\"unbanish\" title=\"restore\"><span class=\"trash red\"></span></span></span> </span> </p>,\n",
       " <p class=\"row\" data-pid=\"5470278007\"> <a class=\"i\" data-ids=\"0:00r0r_55Ai5n3opsM,0:00b0b_6PDCLAfHvSz,0:00q0q_kR9OfZWhSAS,0:00t0t_bSog90hmsl5,0:00T0T_6uBTAm2Op51,0:00o0o_3m5jhE6hmWf,0:00c0c_fRblLm5SeBu,0:00u0u_alEO36KHn5r,0:00g0g_e68WyHkQWt,0:00z0z_inUG50RXAHE,0:00k0k_zPV4Q5mtGX,0:00x0x_l4AUe41EP0d,0:00t0t_381idtIY9AC,0:00k0k_3AJToVvnJ1Y,0:00Z0Z_2xdcaNBCWPQ,0:00p0p_ffTW73y9SXv,0:00B0B_belaYIGljjL\" href=\"/pet/5470278007.html\"></a> <span class=\"txt\"> <span class=\"star\"></span> <span class=\"pl\"> <time datetime=\"2016-02-29 15:01\" title=\"Mon 29 Feb 03:01:17 PM\">Feb 29</time> <a class=\"hdrlnk\" data-id=\"5470278007\" href=\"/pet/5470278007.html\"><span id=\"titletextonly\">Jäger - 8 month old mixed breed</span></a> </span> <span class=\"l2\"> <span class=\"pnr\"> <small> (Warrington)</small> <span class=\"px\"> <span class=\"p\"> pic <span class=\"maptag\" data-pid=\"5470278007\">map</span></span></span> </span> </span> <span class=\"js-only banish-unbanish\"> <span class=\"banish\" title=\"hide\"><span class=\"trash\"></span></span> <span class=\"unbanish\" title=\"restore\"><span class=\"trash red\"></span></span></span> </span> </p>,\n",
       " <p class=\"row\" data-pid=\"5470158174\"> <a class=\"i\" data-ids=\"0:00G0G_ecxX0WVTkLc,0:00X0X_hSSChNzZcgE,0:00a0a_4t8A9d7ZZcz,0:00Q0Q_bLPfv0wd3RL,0:01616_gSC35HFbm9K,0:00j0j_3CNLGsBySJm,0:01212_h4VxqBCMq7X,0:00X0X_lkQD6FOCOqR,0:00G0G_haxpekm7fj5,0:00Y0Y_l9GoKW7H78E,0:00000_clPs6iAOeCs\" href=\"/pet/5470158174.html\"></a> <span class=\"txt\"> <span class=\"star\"></span> <span class=\"pl\"> <time datetime=\"2016-02-29 13:57\" title=\"Mon 29 Feb 01:57:11 PM\">Feb 29</time> <a class=\"hdrlnk\" data-id=\"5470158174\" href=\"/pet/5470158174.html\"><span id=\"titletextonly\">Blue Heeler mix! (Rehoming)</span></a> </span> <span class=\"l2\"> <span class=\"pnr\"> <small> (Warrington)</small> <span class=\"px\"> <span class=\"p\"> pic <span class=\"maptag\" data-pid=\"5470158174\">map</span></span></span> </span> </span> <span class=\"js-only banish-unbanish\"> <span class=\"banish\" title=\"hide\"><span class=\"trash\"></span></span> <span class=\"unbanish\" title=\"restore\"><span class=\"trash red\"></span></span></span> </span> </p>,\n",
       " <p class=\"row\" data-pid=\"5470000940\"> <a class=\"i\" data-ids=\"0:00J0J_9fVjJLH1uZl\" href=\"/pet/5470000940.html\"></a> <span class=\"txt\"> <span class=\"star\"></span> <span class=\"pl\"> <time datetime=\"2016-02-29 12:35\" title=\"Mon 29 Feb 12:35:42 PM\">Feb 29</time> <a class=\"hdrlnk\" data-id=\"5470000940\" href=\"/pet/5470000940.html\"><span id=\"titletextonly\">Young Female Great Dane</span></a> </span> <span class=\"l2\"> <span class=\"pnr\"> <span class=\"px\"> <span class=\"p\"> pic</span></span> </span> </span> <span class=\"js-only banish-unbanish\"> <span class=\"banish\" title=\"hide\"><span class=\"trash\"></span></span> <span class=\"unbanish\" title=\"restore\"><span class=\"trash red\"></span></span></span> </span> </p>,\n",
       " <p class=\"row\" data-pid=\"5469739973\"> <a class=\"i\" data-ids=\"0:00k0k_195xlHrvQoA,0:00L0L_bThsUS9nSfg,0:00K0K_7buxDBR9MQo,0:00N0N_g0sdMyYpW0v,0:00o0o_cw03QWCH4rl,0:00Z0Z_1musIlnuiZm\" href=\"/pet/5469739973.html\"></a> <span class=\"txt\"> <span class=\"star\"></span> <span class=\"pl\"> <time datetime=\"2016-02-29 10:12\" title=\"Mon 29 Feb 10:12:12 AM\">Feb 29</time> <a class=\"hdrlnk\" data-id=\"5469739973\" href=\"/pet/5469739973.html\"><span id=\"titletextonly\">CAN YOU HELP BILLY? Happy, sweet, mature pitty mx needs a home</span></a> </span> <span class=\"l2\"> <span class=\"pnr\"> <span class=\"px\"> <span class=\"p\"> pic <span class=\"maptag\" data-pid=\"5469739973\">map</span></span></span> </span> </span> <span class=\"js-only banish-unbanish\"> <span class=\"banish\" title=\"hide\"><span class=\"trash\"></span></span> <span class=\"unbanish\" title=\"restore\"><span class=\"trash red\"></span></span></span> </span> </p>,\n",
       " <p class=\"row\" data-pid=\"5462888727\"> <a class=\"i\" data-ids=\"0:00N0N_chjsEpYFdNX,0:00P0P_xFnszId7k5,0:01010_ixnnIKN420B,0:00t0t_iw2DAW1CjIz,0:00707_b6UUtxQbU5F\" href=\"/pet/5462888727.html\"></a> <span class=\"txt\"> <span class=\"star\"></span> <span class=\"pl\"> <time datetime=\"2016-02-29 09:46\" title=\"Mon 29 Feb 09:46:18 AM\">Feb 29</time> <a class=\"hdrlnk\" data-id=\"5462888727\" href=\"/pet/5462888727.html\"><span id=\"titletextonly\">Hunk alert! This handsome guy will keep you laughing all day long!</span></a> </span> <span class=\"l2\"> <span class=\"pnr\"> <small> (COEL Foster Care)</small> <span class=\"px\"> <span class=\"p\"> pic</span></span> </span> </span> <span class=\"js-only banish-unbanish\"> <span class=\"banish\" title=\"hide\"><span class=\"trash\"></span></span> <span class=\"unbanish\" title=\"restore\"><span class=\"trash red\"></span></span></span> </span> </p>,\n",
       " <p class=\"row\" data-pid=\"5462895348\"> <a class=\"i\" data-ids=\"0:00S0S_gOu7SiYeO96,0:00t0t_fpvC7NeZ9vO,0:00B0B_lV3S7F87sUu,0:00s0s_k79lSPyUFlR,0:00i0i_bMrKMCBjddR,0:00808_QZofxg0SM2\" href=\"/pet/5462895348.html\"></a> <span class=\"txt\"> <span class=\"star\"></span> <span class=\"pl\"> <time datetime=\"2016-02-29 09:46\" title=\"Mon 29 Feb 09:46:03 AM\">Feb 29</time> <a class=\"hdrlnk\" data-id=\"5462895348\" href=\"/pet/5462895348.html\"><span id=\"titletextonly\">Happy go-lucky senior-ish pittie looking for true love!</span></a> </span> <span class=\"l2\"> <span class=\"pnr\"> <small> (COEL Foster Care)</small> <span class=\"px\"> <span class=\"p\"> pic</span></span> </span> </span> <span class=\"js-only banish-unbanish\"> <span class=\"banish\" title=\"hide\"><span class=\"trash\"></span></span> <span class=\"unbanish\" title=\"restore\"><span class=\"trash red\"></span></span></span> </span> </p>,\n",
       " <p class=\"row\" data-pid=\"5462902048\"> <a class=\"i\" data-ids=\"0:00707_kQMzkjquEh6,0:00r0r_jmykLIgATlq,0:01616_6K882IQyHZB,0:00T0T_hwlZWh2mZyw,0:00M0M_ddl5z37ecEN,0:01313_5JDeCCHztyK,0:00X0X_6Kn7XwUCcdB,0:00Y0Y_gJL1XEB7GYF,0:00J0J_o4oJqYSQU0,0:00F0F_1xzQAQrT4dL,0:00000_9zq5vt83k2R,0:00f0f_icyYwYIsRlN,0:00o0o_d6yyLn77OZZ,0:01212_a1KIz7CSYRe,0:01515_iQheGGLnf2B,0:00F0F_7A0H84KA9zO,0:01212_4LNiv8JWQda\" href=\"/pet/5462902048.html\"></a> <span class=\"txt\"> <span class=\"star\"></span> <span class=\"pl\"> <time datetime=\"2016-02-29 09:46\" title=\"Mon 29 Feb 09:46:09 AM\">Feb 29</time> <a class=\"hdrlnk\" data-id=\"5462902048\" href=\"/pet/5462902048.html\"><span id=\"titletextonly\">This adorable dog LOVES kids! She can't wait to land her dream family!</span></a> </span> <span class=\"l2\"> <span class=\"pnr\"> <small> (COEL Foster Care)</small> <span class=\"px\"> <span class=\"p\"> pic</span></span> </span> </span> <span class=\"js-only banish-unbanish\"> <span class=\"banish\" title=\"hide\"><span class=\"trash\"></span></span> <span class=\"unbanish\" title=\"restore\"><span class=\"trash red\"></span></span></span> </span> </p>,\n",
       " <p class=\"row\" data-pid=\"5469418710\"> <a class=\"i\" data-ids=\"0:00M0M_2wmZ1Hgv4WI,0:01010_8iSLVo9bGFr,0:00C0C_9AZbHQvfKqj\" href=\"/pet/5469418710.html\"></a> <span class=\"txt\"> <span class=\"star\"></span> <span class=\"pl\"> <time datetime=\"2016-02-29 00:18\" title=\"Mon 29 Feb 12:18:44 AM\">Feb 29</time> <a class=\"hdrlnk\" data-id=\"5469418710\" href=\"/pet/5469418710.html\"><span id=\"titletextonly\">Beautiful friendly Pit mix with free training lessons!</span></a> </span> <span class=\"l2\"> <span class=\"pnr\"> <span class=\"px\"> <span class=\"p\"> pic</span></span> </span> </span> <span class=\"js-only banish-unbanish\"> <span class=\"banish\" title=\"hide\"><span class=\"trash\"></span></span> <span class=\"unbanish\" title=\"restore\"><span class=\"trash red\"></span></span></span> </span> </p>,\n",
       " <p class=\"row\" data-pid=\"5469261204\"> <a class=\"i\" data-ids=\"0:00909_atEi1SNTeB,0:00P0P_kyHZtx3FMR9\" href=\"/pet/5469261204.html\"></a> <span class=\"txt\"> <span class=\"star\"></span> <span class=\"pl\"> <time datetime=\"2016-02-28 21:08\" title=\"Sun 28 Feb 09:08:32 PM\">Feb 28</time> <a class=\"hdrlnk\" data-id=\"5469261204\" href=\"/pet/5469261204.html\"><span id=\"titletextonly\">Looking for a home: Lilly the Dachshund</span></a> </span> <span class=\"l2\"> <span class=\"pnr\"> <span class=\"px\"> <span class=\"p\"> pic</span></span> </span> </span> <span class=\"js-only banish-unbanish\"> <span class=\"banish\" title=\"hide\"><span class=\"trash\"></span></span> <span class=\"unbanish\" title=\"restore\"><span class=\"trash red\"></span></span></span> </span> </p>,\n",
       " <p class=\"row\" data-pid=\"5468365704\"> <a class=\"i\" data-ids=\"0:00V0V_6Zi280TUc3j,0:00r0r_g64tD8uyxeK\" href=\"/pet/5468365704.html\"></a> <span class=\"txt\"> <span class=\"star\"></span> <span class=\"pl\"> <time datetime=\"2016-02-28 10:16\" title=\"Sun 28 Feb 10:16:14 AM\">Feb 28</time> <a class=\"hdrlnk\" data-id=\"5468365704\" href=\"/pet/5468365704.html\"><span id=\"titletextonly\">Dog Adoption</span></a> </span> <span class=\"l2\"> <span class=\"pnr\"> <small> (Upper Darby)</small> <span class=\"px\"> <span class=\"p\"> pic <span class=\"maptag\" data-pid=\"5468365704\">map</span></span></span> </span> </span> <span class=\"js-only banish-unbanish\"> <span class=\"banish\" title=\"hide\"><span class=\"trash\"></span></span> <span class=\"unbanish\" title=\"restore\"><span class=\"trash red\"></span></span></span> </span> </p>,\n",
       " <p class=\"row\" data-pid=\"5428705679\"> <a class=\"i\" data-ids=\"0:00000_aO65FcLscR,0:00R0R_wSKrcDyZZO,0:00606_cdQdd4xEa8K,0:01010_7AWraiovvSA,0:00p0p_jytquj0WJs4,0:00T0T_77WiObRmi73,0:00b0b_5q7U9dNjVPv,0:00404_615sD1ObzUc,0:00404_1NqVxvUxzCv,0:01010_cbj4R71oWnW,0:00r0r_6FG4UYYLo8Q\" href=\"/pet/5428705679.html\"></a> <span class=\"txt\"> <span class=\"star\"></span> <span class=\"pl\"> <time datetime=\"2016-02-28 09:22\" title=\"Sun 28 Feb 09:22:54 AM\">Feb 28</time> <a class=\"hdrlnk\" data-id=\"5428705679\" href=\"/pet/5428705679.html\"><span id=\"titletextonly\">Dog Groomer School</span></a> </span> <span class=\"l2\"> <span class=\"pnr\"> <small> (Philadelphia)</small> <span class=\"px\"> <span class=\"p\"> pic <span class=\"maptag\" data-pid=\"5428705679\">map</span></span></span> </span> </span> <span class=\"js-only banish-unbanish\"> <span class=\"banish\" title=\"hide\"><span class=\"trash\"></span></span> <span class=\"unbanish\" title=\"restore\"><span class=\"trash red\"></span></span></span> </span> </p>,\n",
       " <p class=\"row\" data-pid=\"5448590308\" data-repost-of=\"5257972575\"> <a class=\"i\" data-ids=\"0:00J0J_lvbEMXh00jP,0:00707_eT2lh2s086C,0:00H0H_EAXaHdnPLJ,0:00j0j_edHoki1IfhN,0:00R0R_wSKrcDyZZO,0:00606_cdQdd4xEa8K,0:00R0R_ix4GrtFxaCB,0:00T0T_77WiObRmi73,0:00p0p_jytquj0WJs4,0:00D0D_437bCOhRrZJ,0:00404_615sD1ObzUc,0:01010_cbj4R71oWnW,0:00404_1NqVxvUxzCv,0:00L0L_69rFHVda7V4,0:00b0b_5q7U9dNjVPv\" href=\"/pet/5448590308.html\"></a> <span class=\"txt\"> <span class=\"star\"></span> <span class=\"pl\"> <time datetime=\"2016-02-28 09:18\" title=\"Sun 28 Feb 09:18:42 AM\">Feb 28</time> <a class=\"hdrlnk\" data-id=\"5448590308\" href=\"/pet/5448590308.html\"><span id=\"titletextonly\">40% OFF DOG GROOMING-BATH &amp; HAIRCUT</span></a> </span> <span class=\"l2\"> <span class=\"pnr\"> <small> (Northern Liberties-Fishtown)</small> <span class=\"px\"> <span class=\"p\"> pic <span class=\"maptag\" data-pid=\"5448590308\">map</span></span></span> </span> </span> <span class=\"js-only banish-unbanish\"> <span class=\"banish\" title=\"hide\"><span class=\"trash\"></span></span> <span class=\"unbanish\" title=\"restore\"><span class=\"trash red\"></span></span></span> </span> </p>,\n",
       " <p class=\"row\" data-pid=\"5462273476\" data-repost-of=\"5186725587\"> <a class=\"i\" data-ids=\"0:00909_aaSS4ppkux2,0:00808_615I8sBXXtR,0:00s0s_kl4HEEU2bnH,0:00i0i_43yzm5KlBve,0:00202_7V19LoS3kIy,0:00v0v_cfX6lXwcS4B,0:00404_hRMsHOfHiIM,0:00z0z_cTSkmJfhdo5,0:00H0H_jc0lA2yWdzI,0:00s0s_1mr7Wv0Oaww,0:00202_9VLW4c58IVD,0:00v0v_5wmhON07k09,0:00r0r_ajG2ct87Rhz,0:00B0B_fXFvhNUUC4o\" href=\"/pet/5462273476.html\"></a> <span class=\"txt\"> <span class=\"star\"></span> <span class=\"pl\"> <time datetime=\"2016-02-28 09:01\" title=\"Sun 28 Feb 09:01:15 AM\">Feb 28</time> <a class=\"hdrlnk\" data-id=\"5462273476\" href=\"/pet/5462273476.html\"><span id=\"titletextonly\">!!! PET SITTING !!!</span></a> </span> <span class=\"l2\"> <span class=\"pnr\"> <small> (Upper Darby)</small> <span class=\"px\"> <span class=\"p\"> pic <span class=\"maptag\" data-pid=\"5462273476\">map</span></span></span> </span> </span> <span class=\"js-only banish-unbanish\"> <span class=\"banish\" title=\"hide\"><span class=\"trash\"></span></span> <span class=\"unbanish\" title=\"restore\"><span class=\"trash red\"></span></span></span> </span> </p>,\n",
       " <p class=\"row\" data-pid=\"5452516019\" data-repost-of=\"5314538660\"> <a class=\"i\" data-ids=\"0:00j0j_afAivQHTR5Q,0:01515_kJUBcou2zfn,0:00p0p_9kxQH040CAV,0:00q0q_1tnw0gVDQex,0:00c0c_kUKptxpvUxk,0:00F0F_8EnC0m1PlS0,0:00909_fP1y0HNzum3,0:00Z0Z_d1DdW68wsA7,0:00n0n_2BC2JHGEUIb,0:00Z0Z_7gpNeVM7Syf\" href=\"/pet/5452516019.html\"></a> <span class=\"txt\"> <span class=\"star\"></span> <span class=\"pl\"> <time datetime=\"2016-02-28 01:32\" title=\"Sun 28 Feb 01:32:11 AM\">Feb 28</time> <a class=\"hdrlnk\" data-id=\"5452516019\" href=\"/pet/5452516019.html\"><span id=\"titletextonly\">SWEET &amp; LOVING CARA, IS LOOKING FOR HER FOREVER HOME!</span></a> </span> <span class=\"l2\"> <span class=\"pnr\"> <small> (Application/ Home Visit/ Adoption Fee)</small> <span class=\"px\"> <span class=\"p\"> pic <span class=\"maptag\" data-pid=\"5452516019\">map</span></span></span> </span> </span> <span class=\"js-only banish-unbanish\"> <span class=\"banish\" title=\"hide\"><span class=\"trash\"></span></span> <span class=\"unbanish\" title=\"restore\"><span class=\"trash red\"></span></span></span> </span> </p>,\n",
       " <p class=\"row\" data-pid=\"5454185775\" data-repost-of=\"5185482324\"> <a class=\"i\" data-ids=\"0:00x0x_blHYLDNkMNN,0:00B0B_fXFvhNUUC4o,0:00808_dVVLd9DkYrB,0:00e0e_hRuBgtYntq6,0:00t0t_9xR4JdbJs2U,0:00505_ftn8y0PWHoD,0:00909_3WOqINIQduo,0:00t0t_ad9t05qByhf,0:00q0q_7vNzbV2Kfc5,0:00W0W_5yA28Skip60\" href=\"/pet/5454185775.html\"></a> <span class=\"txt\"> <span class=\"star\"></span> <span class=\"pl\"> <time datetime=\"2016-02-27 13:48\" title=\"Sat 27 Feb 01:48:27 PM\">Feb 27</time> <a class=\"hdrlnk\" data-id=\"5454185775\" href=\"/pet/5454185775.html\"><span id=\"titletextonly\">Dog Walking Upper Darby Affordable</span></a> </span> <span class=\"l2\"> <span class=\"pnr\"> <small> (Upper Darby)</small> <span class=\"px\"> <span class=\"p\"> pic <span class=\"maptag\" data-pid=\"5454185775\">map</span></span></span> </span> </span> <span class=\"js-only banish-unbanish\"> <span class=\"banish\" title=\"hide\"><span class=\"trash\"></span></span> <span class=\"unbanish\" title=\"restore\"><span class=\"trash red\"></span></span></span> </span> </p>,\n",
       " <p class=\"row\" data-pid=\"5467076760\"> <a class=\"i\" data-ids=\"0:00707_dbwpgX4NFX8\" href=\"/pet/5467076760.html\"></a> <span class=\"txt\"> <span class=\"star\"></span> <span class=\"pl\"> <time datetime=\"2016-02-27 11:48\" title=\"Sat 27 Feb 11:48:58 AM\">Feb 27</time> <a class=\"hdrlnk\" data-id=\"5467076760\" href=\"/pet/5467076760.html\"><span id=\"titletextonly\">Pro Training All Personalities Welcome And Skiddish Aggressive</span></a> </span> <span class=\"l2\"> <span class=\"pnr\"> <span class=\"px\"> <span class=\"p\"> pic <span class=\"maptag\" data-pid=\"5467076760\">map</span></span></span> </span> </span> <span class=\"js-only banish-unbanish\"> <span class=\"banish\" title=\"hide\"><span class=\"trash\"></span></span> <span class=\"unbanish\" title=\"restore\"><span class=\"trash red\"></span></span></span> </span> </p>,\n",
       " <p class=\"row\" data-pid=\"5466536650\"> <a class=\"i\" data-ids=\"0:00D0D_5ygFELFY0FG,0:00k0k_4FgsaMGeiVO,0:00H0H_6H8DifHOfiw,0:00t0t_cI6Bafpd9Xl,0:00z0z_3bW18J5IMjJ,0:00V0V_izcH4IQeAcu,0:00I0I_17Hg7Gim7ql,0:00g0g_fMI8pZxj2jZ,0:00d0d_5UTcUwKcQGz\" href=\"/pet/5466536650.html\"></a> <span class=\"txt\"> <span class=\"star\"></span> <span class=\"pl\"> <time datetime=\"2016-02-26 22:08\" title=\"Fri 26 Feb 10:08:18 PM\">Feb 26</time> <a class=\"hdrlnk\" data-id=\"5466536650\" href=\"/pet/5466536650.html\"><span id=\"titletextonly\">LOOKING FOR A LOVEBUG WHO LOVES TO SNUGGLE?</span></a> </span> <span class=\"l2\"> <span class=\"pnr\"> <small> (Manayunk/Roxborough)</small> <span class=\"px\"> <span class=\"p\"> pic</span></span> </span> </span> <span class=\"js-only banish-unbanish\"> <span class=\"banish\" title=\"hide\"><span class=\"trash\"></span></span> <span class=\"unbanish\" title=\"restore\"><span class=\"trash red\"></span></span></span> </span> </p>,\n",
       " <p class=\"row\" data-pid=\"5439291194\"> <a class=\"i\" data-ids=\"0:01313_g8RtmSBrJFp,0:00808_7aSR5MjN2Mi\" href=\"/pet/5439291194.html\"></a> <span class=\"txt\"> <span class=\"star\"></span> <span class=\"pl\"> <time datetime=\"2016-02-26 16:25\" title=\"Fri 26 Feb 04:25:22 PM\">Feb 26</time> <a class=\"hdrlnk\" data-id=\"5439291194\" href=\"/pet/5439291194.html\"><span id=\"titletextonly\">Duck, duck, duck....ADOPT!</span></a> </span> <span class=\"l2\"> <span class=\"pnr\"> <small> (Dog Town Rescue, Montgomery County)</small> <span class=\"px\"> <span class=\"p\"> pic <span class=\"maptag\" data-pid=\"5439291194\">map</span></span></span> </span> </span> <span class=\"js-only banish-unbanish\"> <span class=\"banish\" title=\"hide\"><span class=\"trash\"></span></span> <span class=\"unbanish\" title=\"restore\"><span class=\"trash red\"></span></span></span> </span> </p>,\n",
       " <p class=\"row\" data-pid=\"5439345366\"> <a class=\"i\" data-ids=\"0:00C0C_gHWyGkFsqM,0:00101_7atbzKkPvCE\" href=\"/pet/5439345366.html\"></a> <span class=\"txt\"> <span class=\"star\"></span> <span class=\"pl\"> <time datetime=\"2016-02-26 16:25\" title=\"Fri 26 Feb 04:25:48 PM\">Feb 26</time> <a class=\"hdrlnk\" data-id=\"5439345366\" href=\"/pet/5439345366.html\"><span id=\"titletextonly\">adorably squishy blockhead dog for adoption</span></a> </span> <span class=\"l2\"> <span class=\"pnr\"> <small> (Dog Town Rescue, Montgomery County)</small> <span class=\"px\"> <span class=\"p\"> pic <span class=\"maptag\" data-pid=\"5439345366\">map</span></span></span> </span> </span> <span class=\"js-only banish-unbanish\"> <span class=\"banish\" title=\"hide\"><span class=\"trash\"></span></span> <span class=\"unbanish\" title=\"restore\"><span class=\"trash red\"></span></span></span> </span> </p>,\n",
       " <p class=\"row\" data-pid=\"5465916580\"> <a class=\"i\" data-ids=\"0:00h0h_IdCPQ1G8fK\" href=\"/pet/5465916580.html\"></a> <span class=\"txt\"> <span class=\"star\"></span> <span class=\"pl\"> <time datetime=\"2016-02-26 14:40\" title=\"Fri 26 Feb 02:40:06 PM\">Feb 26</time> <a class=\"hdrlnk\" data-id=\"5465916580\" href=\"/pet/5465916580.html\"><span id=\"titletextonly\">Small dog only PECO metal dog cage and dog carrier</span></a> </span> <span class=\"l2\"> <span class=\"pnr\"> <small> (university city, philly)</small> <span class=\"px\"> <span class=\"p\"> pic <span class=\"maptag\" data-pid=\"5465916580\">map</span></span></span> </span> </span> <span class=\"js-only banish-unbanish\"> <span class=\"banish\" title=\"hide\"><span class=\"trash\"></span></span> <span class=\"unbanish\" title=\"restore\"><span class=\"trash red\"></span></span></span> </span> </p>,\n",
       " <p class=\"row\" data-pid=\"5465074985\" data-repost-of=\"5289509897\"> <a class=\"i\" data-ids=\"0:00V0V_9QfkwYiQpGU\" href=\"/pet/5465074985.html\"></a> <span class=\"txt\"> <span class=\"star\"></span> <span class=\"pl\"> <time datetime=\"2016-02-25 23:15\" title=\"Thu 25 Feb 11:15:40 PM\">Feb 25</time> <a class=\"hdrlnk\" data-id=\"5465074985\" href=\"/pet/5465074985.html\"><span id=\"titletextonly\">medium sized dog</span></a> </span> <span class=\"l2\"> <span class=\"pnr\"> <small> (philadelphia)</small> <span class=\"px\"> <span class=\"p\"> pic <span class=\"maptag\" data-pid=\"5465074985\">map</span></span></span> </span> </span> <span class=\"js-only banish-unbanish\"> <span class=\"banish\" title=\"hide\"><span class=\"trash\"></span></span> <span class=\"unbanish\" title=\"restore\"><span class=\"trash red\"></span></span></span> </span> </p>,\n",
       " <p class=\"row\" data-pid=\"5464955109\"> <a class=\"i\" data-ids=\"0:00r0r_8O0EZyJaJRB,0:00B0B_hvdqsl2SuKM,0:00q0q_2VEKJ2Og7SN\" href=\"/pet/5464955109.html\"></a> <span class=\"txt\"> <span class=\"star\"></span> <span class=\"pl\"> <time datetime=\"2016-02-25 21:01\" title=\"Thu 25 Feb 09:01:16 PM\">Feb 25</time> <a class=\"hdrlnk\" data-id=\"5464955109\" href=\"/pet/5464955109.html\"><span id=\"titletextonly\">Papa is waiting for his new family!</span></a> </span> <span class=\"l2\"> <span class=\"pnr\"> <small> (ACCT Philly)</small> <span class=\"px\"> <span class=\"p\"> pic</span></span> </span> </span> <span class=\"js-only banish-unbanish\"> <span class=\"banish\" title=\"hide\"><span class=\"trash\"></span></span> <span class=\"unbanish\" title=\"restore\"><span class=\"trash red\"></span></span></span> </span> </p>,\n",
       " <p class=\"row\" data-pid=\"5463459272\"> <a class=\"i\" data-ids=\"0:00t0t_deBXoeuhHIw,0:01717_3KwGLntb7rn,0:00x0x_eaI6UArBxsV\" href=\"/pet/5463459272.html\"></a> <span class=\"txt\"> <span class=\"star\"></span> <span class=\"pl\"> <time datetime=\"2016-02-24 21:10\" title=\"Wed 24 Feb 09:10:25 PM\">Feb 24</time> <a class=\"hdrlnk\" data-id=\"5463459272\" href=\"/pet/5463459272.html\"><span id=\"titletextonly\">Pierre the perfect gentleman</span></a> </span> <span class=\"l2\"> <span class=\"pnr\"> <span class=\"px\"> <span class=\"p\"> pic <span class=\"maptag\" data-pid=\"5463459272\">map</span></span></span> </span> </span> <span class=\"js-only banish-unbanish\"> <span class=\"banish\" title=\"hide\"><span class=\"trash\"></span></span> <span class=\"unbanish\" title=\"restore\"><span class=\"trash red\"></span></span></span> </span> </p>,\n",
       " <p class=\"row\" data-pid=\"5463345867\"> <a class=\"i\" data-ids=\"0:00N0N_dssFX9wBVF6,0:00o0o_gvh4Ayjv81i\" href=\"/pet/5463345867.html\"></a> <span class=\"txt\"> <span class=\"star\"></span> <span class=\"pl\"> <time datetime=\"2016-02-24 19:40\" title=\"Wed 24 Feb 07:40:45 PM\">Feb 24</time> <a class=\"hdrlnk\" data-id=\"5463345867\" href=\"/pet/5463345867.html\"><span id=\"titletextonly\">KIMBO - Calm, Love Affection, Dog Social</span></a> </span> <span class=\"l2\"> <span class=\"pnr\"> <small> (ACCT Philly)</small> <span class=\"px\"> <span class=\"p\"> pic <span class=\"maptag\" data-pid=\"5463345867\">map</span></span></span> </span> </span> <span class=\"js-only banish-unbanish\"> <span class=\"banish\" title=\"hide\"><span class=\"trash\"></span></span> <span class=\"unbanish\" title=\"restore\"><span class=\"trash red\"></span></span></span> </span> </p>,\n",
       " <p class=\"row\" data-pid=\"5463349137\"> <a class=\"i\" data-ids=\"0:00l0l_6PVjJeK2Dns,0:00J0J_ezmvp8yXmDJ,0:00X0X_fVsRzzHB4hH,0:00Y0Y_e0dCfPxOxON\" href=\"/pet/5463349137.html\"></a> <span class=\"txt\"> <span class=\"star\"></span> <span class=\"pl\"> <time datetime=\"2016-02-24 19:36\" title=\"Wed 24 Feb 07:36:23 PM\">Feb 24</time> <a class=\"hdrlnk\" data-id=\"5463349137\" href=\"/pet/5463349137.html\"><span id=\"titletextonly\">BIG POPPA - Playful, Friendly, LOVE Fetch!</span></a> </span> <span class=\"l2\"> <span class=\"pnr\"> <small> (ACCT Philly)</small> <span class=\"px\"> <span class=\"p\"> pic <span class=\"maptag\" data-pid=\"5463349137\">map</span></span></span> </span> </span> <span class=\"js-only banish-unbanish\"> <span class=\"banish\" title=\"hide\"><span class=\"trash\"></span></span> <span class=\"unbanish\" title=\"restore\"><span class=\"trash red\"></span></span></span> </span> </p>,\n",
       " <p class=\"row\" data-pid=\"5463342225\"> <a class=\"i\" data-ids=\"0:00K0K_6gsQh1ma3j2,0:00W0W_8dBq4innhTs\" href=\"/pet/5463342225.html\"></a> <span class=\"txt\"> <span class=\"star\"></span> <span class=\"pl\"> <time datetime=\"2016-02-24 19:31\" title=\"Wed 24 Feb 07:31:04 PM\">Feb 24</time> <a class=\"hdrlnk\" data-id=\"5463342225\" href=\"/pet/5463342225.html\"><span id=\"titletextonly\">PORTER - Well Mannered, Dog Friendly, Happy Guy!</span></a> </span> <span class=\"l2\"> <span class=\"pnr\"> <small> (ACCT Philly)</small> <span class=\"px\"> <span class=\"p\"> pic <span class=\"maptag\" data-pid=\"5463342225\">map</span></span></span> </span> </span> <span class=\"js-only banish-unbanish\"> <span class=\"banish\" title=\"hide\"><span class=\"trash\"></span></span> <span class=\"unbanish\" title=\"restore\"><span class=\"trash red\"></span></span></span> </span> </p>,\n",
       " <p class=\"row\" data-pid=\"5463338162\"> <a class=\"i\" data-ids=\"0:00r0r_c4sMQCHpSxn\" href=\"/pet/5463338162.html\"></a> <span class=\"txt\"> <span class=\"star\"></span> <span class=\"pl\"> <time datetime=\"2016-02-24 19:27\" title=\"Wed 24 Feb 07:27:55 PM\">Feb 24</time> <a class=\"hdrlnk\" data-id=\"5463338162\" href=\"/pet/5463338162.html\"><span id=\"titletextonly\">LIONEL - Would like an active family!</span></a> </span> <span class=\"l2\"> <span class=\"pnr\"> <small> (ACCT Philly)</small> <span class=\"px\"> <span class=\"p\"> pic <span class=\"maptag\" data-pid=\"5463338162\">map</span></span></span> </span> </span> <span class=\"js-only banish-unbanish\"> <span class=\"banish\" title=\"hide\"><span class=\"trash\"></span></span> <span class=\"unbanish\" title=\"restore\"><span class=\"trash red\"></span></span></span> </span> </p>,\n",
       " <p class=\"row\" data-pid=\"5425972951\"> <a class=\"i\" data-ids=\"0:00I0I_8UXUYM1fTMa,0:00n0n_lep9FfEeQLL\" href=\"/pet/5425972951.html\"></a> <span class=\"txt\"> <span class=\"star\"></span> <span class=\"pl\"> <time datetime=\"2016-02-23 23:31\" title=\"Tue 23 Feb 11:31:21 PM\">Feb 23</time> <a class=\"hdrlnk\" data-id=\"5425972951\" href=\"/pet/5425972951.html\"><span id=\"titletextonly\">Need a good home for a found pit bull</span></a> </span> <span class=\"l2\"> <span class=\"pnr\"> <small> (South Phila)</small> <span class=\"px\"> <span class=\"p\"> pic <span class=\"maptag\" data-pid=\"5425972951\">map</span></span></span> </span> </span> <span class=\"js-only banish-unbanish\"> <span class=\"banish\" title=\"hide\"><span class=\"trash\"></span></span> <span class=\"unbanish\" title=\"restore\"><span class=\"trash red\"></span></span></span> </span> </p>,\n",
       " <p class=\"row\" data-pid=\"5461614534\"> <a class=\"i\" data-ids=\"0:00E0E_1usUCptOjTU,0:01515_y4JSj3pKNW,0:00i0i_cuTudNs2vKK\" href=\"/pet/5461614534.html\"></a> <span class=\"txt\"> <span class=\"star\"></span> <span class=\"pl\"> <time datetime=\"2016-02-23 17:30\" title=\"Tue 23 Feb 05:30:08 PM\">Feb 23</time> <a class=\"hdrlnk\" data-id=\"5461614534\" href=\"/pet/5461614534.html\">Boston Terrier &amp; Pitbull Mix, Super Soft, Looks like a little Cow!</a> </span> <span class=\"l2\"> <span class=\"pnr\"> <small> (PHILADELPHIA)</small> <span class=\"px\"> <span class=\"p\"> pic <span class=\"maptag\" data-pid=\"5461614534\">map</span></span></span> </span> </span> <span class=\"js-only banish-unbanish\"> <span class=\"banish\" title=\"hide\"><span class=\"trash\"></span></span> <span class=\"unbanish\" title=\"restore\"><span class=\"trash red\"></span></span></span> </span> </p>,\n",
       " <p class=\"row\" data-pid=\"5455531544\" data-repost-of=\"5359021786\"> <a class=\"i\" data-ids=\"0:00000_3VSVMBi4Fjj\" href=\"/pet/5455531544.html\"></a> <span class=\"txt\"> <span class=\"star\"></span> <span class=\"pl\"> <time datetime=\"2016-02-23 17:11\" title=\"Tue 23 Feb 05:11:49 PM\">Feb 23</time> <a class=\"hdrlnk\" data-id=\"5455531544\" href=\"/pet/5455531544.html\">****The ILLUSTRATED ENCYCLOPEDIA OF DOG BREEDS ---$9.</a> </span> <span class=\"l2\"> <span class=\"pnr\"> <small> (Central Bucks County)</small> <span class=\"px\"> <span class=\"p\"> pic <span class=\"maptag\" data-pid=\"5455531544\">map</span></span></span> </span> </span> <span class=\"js-only banish-unbanish\"> <span class=\"banish\" title=\"hide\"><span class=\"trash\"></span></span> <span class=\"unbanish\" title=\"restore\"><span class=\"trash red\"></span></span></span> </span> </p>,\n",
       " <p class=\"row\" data-pid=\"5423642245\"> <a class=\"i\" data-ids=\"0:00R0R_jjygA1s4XG7,0:00w0w_8t8cL60yvFf,0:00O0O_bJzvbMvhEyR,0:00404_cZ79YdgS9uO,0:00l0l_3P5IlLT20uU,0:00303_5lxhu6X7acd\" href=\"/pet/5423642245.html\"></a> <span class=\"txt\"> <span class=\"star\"></span> <span class=\"pl\"> <time datetime=\"2016-02-23 17:02\" title=\"Tue 23 Feb 05:02:02 PM\">Feb 23</time> <a class=\"hdrlnk\" data-id=\"5423642245\" href=\"/pet/5423642245.html\">Clove and Lilly Are Looking For A Forever Home Together!</a> </span> <span class=\"l2\"> <span class=\"pnr\"> <small> (Petsmart Plymouth Meeting EAC)</small> <span class=\"px\"> <span class=\"p\"> pic <span class=\"maptag\" data-pid=\"5423642245\">map</span></span></span> </span> </span> <span class=\"js-only banish-unbanish\"> <span class=\"banish\" title=\"hide\"><span class=\"trash\"></span></span> <span class=\"unbanish\" title=\"restore\"><span class=\"trash red\"></span></span></span> </span> </p>,\n",
       " <p class=\"row\" data-pid=\"5450756688\"> <a class=\"i\" data-ids=\"0:00A0A_kW68tONwfMf,0:00G0G_LdRC08CsZ8,0:00f0f_eHuUHVFZOXs\" href=\"/pet/5450756688.html\"></a> <span class=\"txt\"> <span class=\"star\"></span> <span class=\"pl\"> <time datetime=\"2016-02-23 17:02\" title=\"Tue 23 Feb 05:02:25 PM\">Feb 23</time> <a class=\"hdrlnk\" data-id=\"5450756688\" href=\"/pet/5450756688.html\">*DECLAWED!* Gorgeous LILY Would Love A Forever Home!</a> </span> <span class=\"l2\"> <span class=\"pnr\"> <small> (Petsmart Plymouth Meeting EAC)</small> <span class=\"px\"> <span class=\"p\"> pic <span class=\"maptag\" data-pid=\"5450756688\">map</span></span></span> </span> </span> <span class=\"js-only banish-unbanish\"> <span class=\"banish\" title=\"hide\"><span class=\"trash\"></span></span> <span class=\"unbanish\" title=\"restore\"><span class=\"trash red\"></span></span></span> </span> </p>,\n",
       " <p class=\"row\" data-pid=\"5450768226\"> <a class=\"i\" data-ids=\"0:00a0a_fXiTROOW9d0,0:00t0t_8TeeU5oobZJ\" href=\"/pet/5450768226.html\"></a> <span class=\"txt\"> <span class=\"star\"></span> <span class=\"pl\"> <time datetime=\"2016-02-23 17:02\" title=\"Tue 23 Feb 05:02:16 PM\">Feb 23</time> <a class=\"hdrlnk\" data-id=\"5450768226\" href=\"/pet/5450768226.html\">The BELLE Of The Ball Needs Someone To Rub Her Belly!</a> </span> <span class=\"l2\"> <span class=\"pnr\"> <small> (Petsmart Plymouth Meeting EAC)</small> <span class=\"px\"> <span class=\"p\"> pic <span class=\"maptag\" data-pid=\"5450768226\">map</span></span></span> </span> </span> <span class=\"js-only banish-unbanish\"> <span class=\"banish\" title=\"hide\"><span class=\"trash\"></span></span> <span class=\"unbanish\" title=\"restore\"><span class=\"trash red\"></span></span></span> </span> </p>,\n",
       " <p class=\"row\" data-pid=\"5450771782\"> <a class=\"i\" data-ids=\"0:01111_avS1QOOIxYL,0:00c0c_alwCYlc9sam\" href=\"/pet/5450771782.html\"></a> <span class=\"txt\"> <span class=\"star\"></span> <span class=\"pl\"> <time datetime=\"2016-02-23 17:02\" title=\"Tue 23 Feb 05:02:08 PM\">Feb 23</time> <a class=\"hdrlnk\" data-id=\"5450771782\" href=\"/pet/5450771782.html\">The Cutest POSSUM You'll Ever See!</a> </span> <span class=\"l2\"> <span class=\"pnr\"> <small> (Petsmart Plymouth Meeting EAC)</small> <span class=\"px\"> <span class=\"p\"> pic <span class=\"maptag\" data-pid=\"5450771782\">map</span></span></span> </span> </span> <span class=\"js-only banish-unbanish\"> <span class=\"banish\" title=\"hide\"><span class=\"trash\"></span></span> <span class=\"unbanish\" title=\"restore\"><span class=\"trash red\"></span></span></span> </span> </p>,\n",
       " <p class=\"row\" data-pid=\"5450779636\"> <a class=\"i\" data-ids=\"0:00808_2DzpbTS6pDl,0:00C0C_cFzGRaqle1I\" href=\"/pet/5450779636.html\"></a> <span class=\"txt\"> <span class=\"star\"></span> <span class=\"pl\"> <time datetime=\"2016-02-23 17:01\" title=\"Tue 23 Feb 05:01:55 PM\">Feb 23</time> <a class=\"hdrlnk\" data-id=\"5450779636\" href=\"/pet/5450779636.html\">Count The Wrinkle's On CURTIS' Head!</a> </span> <span class=\"l2\"> <span class=\"pnr\"> <small> (Petsmart Plymouth Meeting EAC)</small> <span class=\"px\"> <span class=\"p\"> pic <span class=\"maptag\" data-pid=\"5450779636\">map</span></span></span> </span> </span> <span class=\"js-only banish-unbanish\"> <span class=\"banish\" title=\"hide\"><span class=\"trash\"></span></span> <span class=\"unbanish\" title=\"restore\"><span class=\"trash red\"></span></span></span> </span> </p>,\n",
       " <p class=\"row\" data-pid=\"5450782940\"> <a class=\"i\" data-ids=\"0:00A0A_dgb9YEHpsYQ,0:00Y0Y_gtOaYvNt5S3,0:00d0d_aqbxlIQxHNR\" href=\"/pet/5450782940.html\"></a> <span class=\"txt\"> <span class=\"star\"></span> <span class=\"pl\"> <time datetime=\"2016-02-23 17:01\" title=\"Tue 23 Feb 05:01:47 PM\">Feb 23</time> <a class=\"hdrlnk\" data-id=\"5450782940\" href=\"/pet/5450782940.html\">Need A Jogging Partner? COPPER Is Your Guy!</a> </span> <span class=\"l2\"> <span class=\"pnr\"> <small> (Petsmart Plymouth Meeting EAC)</small> <span class=\"px\"> <span class=\"p\"> pic <span class=\"maptag\" data-pid=\"5450782940\">map</span></span></span> </span> </span> <span class=\"js-only banish-unbanish\"> <span class=\"banish\" title=\"hide\"><span class=\"trash\"></span></span> <span class=\"unbanish\" title=\"restore\"><span class=\"trash red\"></span></span></span> </span> </p>,\n",
       " <p class=\"row\" data-pid=\"5432915279\"> <a class=\"i\" data-ids=\"0:01010_ddkbIkpEROG\" href=\"/pet/5432915279.html\"></a> <span class=\"txt\"> <span class=\"star\"></span> <span class=\"pl\"> <time datetime=\"2016-02-04 04:14\" title=\"Thu 04 Feb 04:14:05 AM\">Feb 4</time> <a class=\"hdrlnk\" data-id=\"5432915279\" href=\"/pet/5432915279.html\">Remodeling home means the dogs must go!!!</a> </span> <span class=\"l2\"> <span class=\"pnr\"> <small> (Philadelphia)</small> <span class=\"px\"> <span class=\"p\"> pic</span></span> </span> </span> <span class=\"js-only banish-unbanish\"> <span class=\"banish\" title=\"hide\"><span class=\"trash\"></span></span> <span class=\"unbanish\" title=\"restore\"><span class=\"trash red\"></span></span></span> </span> </p>,\n",
       " <p class=\"row\" data-pid=\"5460857110\" data-repost-of=\"5443596764\"> <a class=\"i\" data-ids=\"0:00Y0Y_5tL8mKknD01,0:00J0J_5ilXLgtpUqN\" href=\"/pet/5460857110.html\"></a> <span class=\"txt\"> <span class=\"star\"></span> <span class=\"pl\"> <time datetime=\"2016-02-23 10:33\" title=\"Tue 23 Feb 10:33:34 AM\">Feb 23</time> <a class=\"hdrlnk\" data-id=\"5460857110\" href=\"/pet/5460857110.html\">Adorable friendly puppy Zeus needs a new home!</a> </span> <span class=\"l2\"> <span class=\"pnr\"> <small> (West Chester)</small> <span class=\"px\"> <span class=\"p\"> pic <span class=\"maptag\" data-pid=\"5460857110\">map</span></span></span> </span> </span> <span class=\"js-only banish-unbanish\"> <span class=\"banish\" title=\"hide\"><span class=\"trash\"></span></span> <span class=\"unbanish\" title=\"restore\"><span class=\"trash red\"></span></span></span> </span> </p>,\n",
       " <p class=\"row\" data-pid=\"5460810149\"> <a class=\"i\" data-ids=\"0:00f0f_88WQaY1azpS\" href=\"/pet/5460810149.html\"></a> <span class=\"txt\"> <span class=\"star\"></span> <span class=\"pl\"> <time datetime=\"2016-02-23 10:04\" title=\"Tue 23 Feb 10:04:45 AM\">Feb 23</time> <a class=\"hdrlnk\" data-id=\"5460810149\" href=\"/pet/5460810149.html\">Golden Retriever Pup</a> </span> <span class=\"l2\"> <span class=\"pnr\"> <small> (Trainer)</small> <span class=\"px\"> <span class=\"p\"> pic <span class=\"maptag\" data-pid=\"5460810149\">map</span></span></span> </span> </span> <span class=\"js-only banish-unbanish\"> <span class=\"banish\" title=\"hide\"><span class=\"trash\"></span></span> <span class=\"unbanish\" title=\"restore\"><span class=\"trash red\"></span></span></span> </span> </p>,\n",
       " <p class=\"row\" data-pid=\"5460284299\"> <a class=\"i\" data-ids=\"0:00n0n_7nFH9OxVOrW,0:00N0N_2fJp6ctvjeG,0:00F0F_5MycG4kxifq,0:00Y0Y_lf2k5VyaSjA,0:00V0V_djgygZjkRqq,0:00z0z_6gkTrN6sz4U,0:00z0z_hyY9QbwlVJ4,0:00j0j_g4Mz0twXUlq,0:00404_adWHsuiIFia,0:00F0F_1fB3t7ckxEE,0:00H0H_lQJ82mgSWNR\" href=\"/pet/5460284299.html\"></a> <span class=\"txt\"> <span class=\"star\"></span> <span class=\"pl\"> <time datetime=\"2016-02-22 21:13\" title=\"Mon 22 Feb 09:13:26 PM\">Feb 22</time> <a class=\"hdrlnk\" data-id=\"5460284299\" href=\"/pet/5460284299.html\">Mary Puppins Is Sweeter Than A Spoonful Of Sugar!</a> </span> <span class=\"l2\"> <span class=\"pnr\"> <small> (ACCT Philly)</small> <span class=\"px\"> <span class=\"p\"> pic</span></span> </span> </span> <span class=\"js-only banish-unbanish\"> <span class=\"banish\" title=\"hide\"><span class=\"trash\"></span></span> <span class=\"unbanish\" title=\"restore\"><span class=\"trash red\"></span></span></span> </span> </p>,\n",
       " <p class=\"row\" data-pid=\"5418781833\"> <a class=\"i\" data-ids=\"0:01010_j5gyj1tjEUf,0:00D0D_lSP14Qnywkk,0:00q0q_9IpJLFdxp9Q\" href=\"/pet/5418781833.html\"></a> <span class=\"txt\"> <span class=\"star\"></span> <span class=\"pl\"> <time datetime=\"2016-02-22 20:40\" title=\"Mon 22 Feb 08:40:23 PM\">Feb 22</time> <a class=\"hdrlnk\" data-id=\"5418781833\" href=\"/pet/5418781833.html\">BUTCH - Gentle, Sweet, and Handsome Male Pup!</a> </span> <span class=\"l2\"> <span class=\"pnr\"> <small> (ACCT Philly)</small> <span class=\"px\"> <span class=\"p\"> pic <span class=\"maptag\" data-pid=\"5418781833\">map</span></span></span> </span> </span> <span class=\"js-only banish-unbanish\"> <span class=\"banish\" title=\"hide\"><span class=\"trash\"></span></span> <span class=\"unbanish\" title=\"restore\"><span class=\"trash red\"></span></span></span> </span> </p>,\n",
       " <p class=\"row\" data-pid=\"5449751632\"> <a class=\"i\" data-ids=\"0:00H0H_40RZNyLgrP4,0:00A0A_7v0Z6dQtQHZ,0:00N0N_aGn9h71L9XY,0:01313_3uPMwWFqVGk\" href=\"/pet/5449751632.html\"></a> <span class=\"txt\"> <span class=\"star\"></span> <span class=\"pl\"> <time datetime=\"2016-02-22 20:40\" title=\"Mon 22 Feb 08:40:19 PM\">Feb 22</time> <a class=\"hdrlnk\" data-id=\"5449751632\" href=\"/pet/5449751632.html\">LINDA - Dog Friendly, Sweet and Loving!</a> </span> <span class=\"l2\"> <span class=\"pnr\"> <small> (ACCT Philly)</small> <span class=\"px\"> <span class=\"p\"> pic <span class=\"maptag\" data-pid=\"5449751632\">map</span></span></span> </span> </span> <span class=\"js-only banish-unbanish\"> <span class=\"banish\" title=\"hide\"><span class=\"trash\"></span></span> <span class=\"unbanish\" title=\"restore\"><span class=\"trash red\"></span></span></span> </span> </p>,\n",
       " <p class=\"row\" data-pid=\"5458496685\"> <a class=\"i\" data-ids=\"0:01414_6h5ZJQUqjNm,0:00r0r_DkRwsuXmx4,0:00B0B_g1ozESbf69w,0:00T0T_f97Hwy68FHj\" href=\"/pet/5458496685.html\"></a> <span class=\"txt\"> <span class=\"star\"></span> <span class=\"pl\"> <time datetime=\"2016-02-21 18:10\" title=\"Sun 21 Feb 06:10:40 PM\">Feb 21</time> <a class=\"hdrlnk\" data-id=\"5458496685\" href=\"/pet/5458496685.html\">Pure Bred Cuddle Buddy- Tyler wants an adventurous family!</a> </span> <span class=\"l2\"> <span class=\"pnr\"> <small> (Chester)</small> <span class=\"px\"> <span class=\"p\"> pic</span></span> </span> </span> <span class=\"js-only banish-unbanish\"> <span class=\"banish\" title=\"hide\"><span class=\"trash\"></span></span> <span class=\"unbanish\" title=\"restore\"><span class=\"trash red\"></span></span></span> </span> </p>,\n",
       " <p class=\"row\" data-pid=\"5456985616\"> <a class=\"i\" data-ids=\"0:00h0h_gqUYLJzf2kM\" href=\"/pet/5456985616.html\"></a> <span class=\"txt\"> <span class=\"star\"></span> <span class=\"pl\"> <time datetime=\"2016-02-20 15:53\" title=\"Sat 20 Feb 03:53:35 PM\">Feb 20</time> <a class=\"hdrlnk\" data-id=\"5456985616\" href=\"/pet/5456985616.html\">HE NEEDS A GREAT HOME</a> </span> <span class=\"l2\"> <span class=\"pnr\"> <small> (Philadelphia)</small> <span class=\"px\"> <span class=\"p\"> pic <span class=\"maptag\" data-pid=\"5456985616\">map</span></span></span> </span> </span> <span class=\"js-only banish-unbanish\"> <span class=\"banish\" title=\"hide\"><span class=\"trash\"></span></span> <span class=\"unbanish\" title=\"restore\"><span class=\"trash red\"></span></span></span> </span> </p>,\n",
       " <p class=\"row\" data-pid=\"5455676356\"> <a class=\"i\" data-ids=\"0:00g0g_bM3Pl6GFYJt,0:00a0a_hmnDkMxpds7,0:00z0z_fXYzpN01Ola\" href=\"/pet/5455676356.html\"></a> <span class=\"txt\"> <span class=\"star\"></span> <span class=\"pl\"> <time datetime=\"2016-02-19 17:30\" title=\"Fri 19 Feb 05:30:25 PM\">Feb 19</time> <a class=\"hdrlnk\" data-id=\"5455676356\" href=\"/pet/5455676356.html\">❤ Dog Aggression/Fear Seminar w/Visiting Author Grisha Stewart (BAT)</a> </span> <span class=\"l2\"> <span class=\"pnr\"> <small> (Bryn Mawr College)</small> <span class=\"px\"> <span class=\"p\"> pic <span class=\"maptag\" data-pid=\"5455676356\">map</span></span></span> </span> </span> <span class=\"js-only banish-unbanish\"> <span class=\"banish\" title=\"hide\"><span class=\"trash\"></span></span> <span class=\"unbanish\" title=\"restore\"><span class=\"trash red\"></span></span></span> </span> </p>,\n",
       " <p class=\"row\" data-pid=\"5451265454\"> <a class=\"i\" data-ids=\"0:01111_68NSUqWmdHx\" href=\"/pet/5451265454.html\"></a> <span class=\"txt\"> <span class=\"star\"></span> <span class=\"pl\"> <time datetime=\"2016-02-16 19:57\" title=\"Tue 16 Feb 07:57:48 PM\">Feb 16</time> <a class=\"hdrlnk\" data-id=\"5451265454\" href=\"/pet/5451265454.html\">iso puppy!</a> </span> <span class=\"l2\"> <span class=\"pnr\"> <span class=\"px\"> <span class=\"p\"> pic <span class=\"maptag\" data-pid=\"5451265454\">map</span></span></span> </span> </span> <span class=\"js-only banish-unbanish\"> <span class=\"banish\" title=\"hide\"><span class=\"trash\"></span></span> <span class=\"unbanish\" title=\"restore\"><span class=\"trash red\"></span></span></span> </span> </p>,\n",
       " <p class=\"row\" data-pid=\"5450788673\"> <a class=\"i\" data-ids=\"0:00E0E_fLzevSceFBe,0:00v0v_lwIv9eQFkEC\" href=\"/pet/5450788673.html\"></a> <span class=\"txt\"> <span class=\"star\"></span> <span class=\"pl\"> <time datetime=\"2016-02-16 14:48\" title=\"Tue 16 Feb 02:48:35 PM\">Feb 16</time> <a class=\"hdrlnk\" data-id=\"5450788673\" href=\"/pet/5450788673.html\">Meet Our MONDO Lovebug!</a> </span> <span class=\"l2\"> <span class=\"pnr\"> <small> (Petsmart Plymouth Meeting EAC)</small> <span class=\"px\"> <span class=\"p\"> pic <span class=\"maptag\" data-pid=\"5450788673\">map</span></span></span> </span> </span> <span class=\"js-only banish-unbanish\"> <span class=\"banish\" title=\"hide\"><span class=\"trash\"></span></span> <span class=\"unbanish\" title=\"restore\"><span class=\"trash red\"></span></span></span> </span> </p>,\n",
       " <p class=\"row\" data-pid=\"5450776148\"> <a class=\"i\" data-ids=\"0:00101_2GK9IvFAZup,0:00W0W_jqv0CmDkqrl,0:00F0F_k7dB2b3ebkn\" href=\"/pet/5450776148.html\"></a> <span class=\"txt\"> <span class=\"star\"></span> <span class=\"pl\"> <time datetime=\"2016-02-16 14:41\" title=\"Tue 16 Feb 02:41:33 PM\">Feb 16</time> <a class=\"hdrlnk\" data-id=\"5450776148\" href=\"/pet/5450776148.html\">You'll Fall Head Over Heels For BARON!</a> </span> <span class=\"l2\"> <span class=\"pnr\"> <small> (Petsmart Plymouth Meeting EAC)</small> <span class=\"px\"> <span class=\"p\"> pic <span class=\"maptag\" data-pid=\"5450776148\">map</span></span></span> </span> </span> <span class=\"js-only banish-unbanish\"> <span class=\"banish\" title=\"hide\"><span class=\"trash\"></span></span> <span class=\"unbanish\" title=\"restore\"><span class=\"trash red\"></span></span></span> </span> </p>,\n",
       " <p class=\"row\" data-pid=\"5450614517\"> <a class=\"i\" data-ids=\"0:00V0V_j5bFIW9tOdy\" href=\"/pet/5450614517.html\"></a> <span class=\"txt\"> <span class=\"star\"></span> <span class=\"pl\"> <time datetime=\"2016-02-16 13:26\" title=\"Tue 16 Feb 01:26:53 PM\">Feb 16</time> <a class=\"hdrlnk\" data-id=\"5450614517\" href=\"/pet/5450614517.html\">Dog walker, exerciser wanted</a> </span> <span class=\"l2\"> <span class=\"pnr\"> <small> (Chalfont)</small> <span class=\"px\"> <span class=\"p\"> pic <span class=\"maptag\" data-pid=\"5450614517\">map</span></span></span> </span> </span> <span class=\"js-only banish-unbanish\"> <span class=\"banish\" title=\"hide\"><span class=\"trash\"></span></span> <span class=\"unbanish\" title=\"restore\"><span class=\"trash red\"></span></span></span> </span> </p>,\n",
       " <p class=\"row\" data-pid=\"5406731672\"> <a class=\"i\" data-ids=\"0:00k0k_195xlHrvQoA,0:00K0K_7buxDBR9MQo,0:00L0L_bThsUS9nSfg\" href=\"/pet/5406731672.html\"></a> <span class=\"txt\"> <span class=\"star\"></span> <span class=\"pl\"> <time datetime=\"2016-02-15 09:53\" title=\"Mon 15 Feb 09:53:25 AM\">Feb 15</time> <a class=\"hdrlnk\" data-id=\"5406731672\" href=\"/pet/5406731672.html\">Billy Boy, loving, sweet pit mx, mature, good natured, seeks home</a> </span> <span class=\"l2\"> <span class=\"pnr\"> <span class=\"px\"> <span class=\"p\"> pic <span class=\"maptag\" data-pid=\"5406731672\">map</span></span></span> </span> </span> <span class=\"js-only banish-unbanish\"> <span class=\"banish\" title=\"hide\"><span class=\"trash\"></span></span> <span class=\"unbanish\" title=\"restore\"><span class=\"trash red\"></span></span></span> </span> </p>,\n",
       " <p class=\"row\" data-pid=\"5443841553\"> <a class=\"i\" data-ids=\"0:00505_cxh26jBePry\" href=\"/pet/5443841553.html\"></a> <span class=\"txt\"> <span class=\"star\"></span> <span class=\"pl\"> <time datetime=\"2016-02-11 15:55\" title=\"Thu 11 Feb 03:55:01 PM\">Feb 11</time> <a class=\"hdrlnk\" data-id=\"5443841553\" href=\"/pet/5443841553.html\">Find Your Valentine at National Adoption Weekend!</a> </span> <span class=\"l2\"> <span class=\"pnr\"> <small> (Petsmart Plymouth Meeting EAC)</small> <span class=\"px\"> <span class=\"p\"> pic <span class=\"maptag\" data-pid=\"5443841553\">map</span></span></span> </span> </span> <span class=\"js-only banish-unbanish\"> <span class=\"banish\" title=\"hide\"><span class=\"trash\"></span></span> <span class=\"unbanish\" title=\"restore\"><span class=\"trash red\"></span></span></span> </span> </p>,\n",
       " <p class=\"row\" data-pid=\"5403746974\" data-repost-of=\"5257972575\"> <a class=\"i\" data-ids=\"0:01515_jGc06hqig9E,0:00R0R_1f0BMEsNNh1,0:00B0B_dzRQJcqRibd,0:00R0R_wSKrcDyZZO,0:00p0p_jytquj0WJs4,0:00404_615sD1ObzUc,0:00707_eT2lh2s086C,0:00b0b_5q7U9dNjVPv,0:00T0T_77WiObRmi73,0:01010_cbj4R71oWnW,0:00606_cdQdd4xEa8K,0:00L0L_69rFHVda7V4,0:00404_1NqVxvUxzCv\" href=\"/pet/5403746974.html\"></a> <span class=\"txt\"> <span class=\"star\"></span> <span class=\"pl\"> <time datetime=\"2016-02-10 08:17\" title=\"Wed 10 Feb 08:17:32 AM\">Feb 10</time> <a class=\"hdrlnk\" data-id=\"5403746974\" href=\"/pet/5403746974.html\">40% OFF DOG GROOMING-BATH &amp; HAIRCUT</a> </span> <span class=\"l2\"> <span class=\"pnr\"> <small> (Northern Liberties-Fishtown)</small> <span class=\"px\"> <span class=\"p\"> pic <span class=\"maptag\" data-pid=\"5403746974\">map</span></span></span> </span> </span> <span class=\"js-only banish-unbanish\"> <span class=\"banish\" title=\"hide\"><span class=\"trash\"></span></span> <span class=\"unbanish\" title=\"restore\"><span class=\"trash red\"></span></span></span> </span> </p>,\n",
       " <p class=\"row\" data-pid=\"5399866844\"> <a class=\"i\" data-ids=\"0:00g0g_be7QjjFIAXO,0:00k0k_c4mkwhFzYeO,0:00202_aUgTuGYjlRR,0:00E0E_hGBkYJyuE2R,0:00x0x_lwxiWoWlZNy,0:00404_267HroS8Cv1,0:00u0u_d0DfdBr1f5N,0:00606_5sYlAhYDY5n,0:00B0B_g5BlhgAmVny,0:00Y0Y_2rAyaCoBc1l,0:00000_jG6e0pwrjnT,0:00202_lDdddBSHPxj\" href=\"/pet/5399866844.html\"></a> <span class=\"txt\"> <span class=\"star\"></span> <span class=\"pl\"> <time datetime=\"2016-02-09 15:44\" title=\"Tue 09 Feb 03:44:51 PM\">Feb 9</time> <a class=\"hdrlnk\" data-id=\"5399866844\" href=\"/pet/5399866844.html\">This handsome dog is dog, cat and kid-friendly. And YOU can adopt him!</a> </span> <span class=\"l2\"> <span class=\"pnr\"> <small> (COEL Foster Care)</small> <span class=\"px\"> <span class=\"p\"> pic</span></span> </span> </span> <span class=\"js-only banish-unbanish\"> <span class=\"banish\" title=\"hide\"><span class=\"trash\"></span></span> <span class=\"unbanish\" title=\"restore\"><span class=\"trash red\"></span></span></span> </span> </p>,\n",
       " <p class=\"row\" data-pid=\"5399882524\"> <a class=\"i\" data-ids=\"0:01212_4LNiv8JWQda,0:00707_kQMzkjquEh6,0:01616_6K882IQyHZB,0:00M0M_ddl5z37ecEN,0:01313_5JDeCCHztyK,0:00X0X_6Kn7XwUCcdB,0:00Y0Y_gJL1XEB7GYF,0:00F0F_1xzQAQrT4dL,0:00000_9zq5vt83k2R,0:00f0f_icyYwYIsRlN,0:00o0o_d6yyLn77OZZ,0:01212_a1KIz7CSYRe,0:01515_iQheGGLnf2B,0:00F0F_7A0H84KA9zO,0:00J0J_o4oJqYSQU0\" href=\"/pet/5399882524.html\"></a> <span class=\"txt\"> <span class=\"star\"></span> <span class=\"pl\"> <time datetime=\"2016-02-09 15:44\" title=\"Tue 09 Feb 03:44:56 PM\">Feb 9</time> <a class=\"hdrlnk\" data-id=\"5399882524\" href=\"/pet/5399882524.html\">Sadie Sausage is dreaming of her forever home - could it be yours?</a> </span> <span class=\"l2\"> <span class=\"pnr\"> <small> (COEL Foster Care)</small> <span class=\"px\"> <span class=\"p\"> pic</span></span> </span> </span> <span class=\"js-only banish-unbanish\"> <span class=\"banish\" title=\"hide\"><span class=\"trash\"></span></span> <span class=\"unbanish\" title=\"restore\"><span class=\"trash red\"></span></span></span> </span> </p>,\n",
       " <p class=\"row\" data-pid=\"5399885944\"> <a class=\"i\" data-ids=\"0:00s0s_k79lSPyUFlR,0:00B0B_lV3S7F87sUu,0:00i0i_bMrKMCBjddR,0:00808_QZofxg0SM2,0:00S0S_gOu7SiYeO96\" href=\"/pet/5399885944.html\"></a> <span class=\"txt\"> <span class=\"star\"></span> <span class=\"pl\"> <time datetime=\"2016-02-09 15:45\" title=\"Tue 09 Feb 03:45:05 PM\">Feb 9</time> <a class=\"hdrlnk\" data-id=\"5399885944\" href=\"/pet/5399885944.html\">Oh-so-handsome Keymo is on the hunt for his forever family. Adopt him!</a> </span> <span class=\"l2\"> <span class=\"pnr\"> <small> (COEL Foster Care)</small> <span class=\"px\"> <span class=\"p\"> pic</span></span> </span> </span> <span class=\"js-only banish-unbanish\"> <span class=\"banish\" title=\"hide\"><span class=\"trash\"></span></span> <span class=\"unbanish\" title=\"restore\"><span class=\"trash red\"></span></span></span> </span> </p>,\n",
       " <p class=\"row\" data-pid=\"5424632842\"> <a class=\"i\" data-ids=\"0:01010_jWRKislkboO,0:00P0P_i8BXsuCuf7V,0:00C0C_jFbVOoO6rOi,0:00y0y_4mIHgviPNT0\" href=\"/pet/5424632842.html\"></a> <span class=\"txt\"> <span class=\"star\"></span> <span class=\"pl\"> <time datetime=\"2016-02-09 14:09\" title=\"Tue 09 Feb 02:09:06 PM\">Feb 9</time> <a class=\"hdrlnk\" data-id=\"5424632842\" href=\"/pet/5424632842.html\">Snuggly, cat+dog friendly, FIV+ kitty for adoption!</a> </span> <span class=\"l2\"> <span class=\"pnr\"> <small> (TPK Rescue ♥ Hatfield)</small> <span class=\"px\"> <span class=\"p\"> pic</span></span> </span> </span> <span class=\"js-only banish-unbanish\"> <span class=\"banish\" title=\"hide\"><span class=\"trash\"></span></span> <span class=\"unbanish\" title=\"restore\"><span class=\"trash red\"></span></span></span> </span> </p>,\n",
       " <p class=\"row\" data-pid=\"5440546077\"> <a class=\"i\" data-ids=\"0:00H0H_7QvU2gt9wvs\" href=\"/pet/5440546077.html\"></a> <span class=\"txt\"> <span class=\"star\"></span> <span class=\"pl\"> <time datetime=\"2016-02-09 13:08\" title=\"Tue 09 Feb 01:08:15 PM\">Feb 9</time> <a class=\"hdrlnk\" data-id=\"5440546077\" href=\"/pet/5440546077.html\">Pocket Bully looking for Permanent Home</a> </span> <span class=\"l2\"> <span class=\"pnr\"> <span class=\"px\"> <span class=\"p\"> pic <span class=\"maptag\" data-pid=\"5440546077\">map</span></span></span> </span> </span> <span class=\"js-only banish-unbanish\"> <span class=\"banish\" title=\"hide\"><span class=\"trash\"></span></span> <span class=\"unbanish\" title=\"restore\"><span class=\"trash red\"></span></span></span> </span> </p>,\n",
       " <p class=\"row\" data-pid=\"5440329999\"> <a class=\"i\" data-ids=\"0:00o0o_2jW6U1Qv3vL,0:00J0J_96QH05DQAIA,0:00505_hxC99uLsLRu,0:00W0W_V4xiIyZKTl,0:00q0q_8E7GnKv6w7p,0:00L0L_13IIhRcml1d,0:00m0m_5DTzWVqsuhl,0:00x0x_dVAjpVyXjgJ,0:00D0D_1hepAWmcOvq,0:00t0t_bC3Migg9IgJ\" href=\"/pet/5440329999.html\"></a> <span class=\"txt\"> <span class=\"star\"></span> <span class=\"pl\"> <time datetime=\"2016-02-09 11:12\" title=\"Tue 09 Feb 11:12:44 AM\">Feb 9</time> <a class=\"hdrlnk\" data-id=\"5440329999\" href=\"/pet/5440329999.html\">Janet Planet MUST LEAVE ACCT by 2/10/16 8pm!</a> </span> <span class=\"l2\"> <span class=\"pnr\"> <small> (Philadelphia)</small> <span class=\"px\"> <span class=\"p\"> pic</span></span> </span> </span> <span class=\"js-only banish-unbanish\"> <span class=\"banish\" title=\"hide\"><span class=\"trash\"></span></span> <span class=\"unbanish\" title=\"restore\"><span class=\"trash red\"></span></span></span> </span> </p>,\n",
       " <p class=\"row\" data-pid=\"5437638342\"> <a class=\"i\" data-ids=\"0:00o0o_gBADF1fzgdk,0:00303_9yzjohpIlNF,0:00000_jWfa7KKsNkC,0:00Q0Q_5z2sEimzY3r,0:00z0z_1OMVjTn8yp4\" href=\"/pet/5437638342.html\"></a> <span class=\"txt\"> <span class=\"star\"></span> <span class=\"pl\"> <time datetime=\"2016-02-07 12:38\" title=\"Sun 07 Feb 12:38:11 PM\">Feb 7</time> <a class=\"hdrlnk\" data-id=\"5437638342\" href=\"/pet/5437638342.html\">2 Male American Bullies 3 years</a> </span> <span class=\"l2\"> <span class=\"pnr\"> <small> (Philadelphia Suburbs)</small> <span class=\"px\"> <span class=\"p\"> pic <span class=\"maptag\" data-pid=\"5437638342\">map</span></span></span> </span> </span> <span class=\"js-only banish-unbanish\"> <span class=\"banish\" title=\"hide\"><span class=\"trash\"></span></span> <span class=\"unbanish\" title=\"restore\"><span class=\"trash red\"></span></span></span> </span> </p>,\n",
       " <p class=\"row\" data-pid=\"5470262844\"> <a class=\"i\" data-ids=\"0:00d0d_hkidZryz3qX\" href=\"/pet/5470262844.html\"></a> <span class=\"txt\"> <span class=\"star\"></span> <span class=\"pl\"> <time datetime=\"2016-02-29 14:52\" title=\"Mon 29 Feb 02:52:59 PM\">Feb 29</time> <a class=\"hdrlnk\" data-id=\"5470262844\" href=\"/pet/5470262844.html\"><span id=\"titletextonly\">Loving adult male grey tabby cat for adoption</span></a> </span> <span class=\"l2\"> <span class=\"pnr\"> <small> (Philadelphia)</small> <span class=\"px\"> <span class=\"p\"> pic</span></span> </span> </span> <span class=\"js-only banish-unbanish\"> <span class=\"banish\" title=\"hide\"><span class=\"trash\"></span></span> <span class=\"unbanish\" title=\"restore\"><span class=\"trash red\"></span></span></span> </span> </p>,\n",
       " <p class=\"row\" data-pid=\"5457844364\" data-repost-of=\"5413663037\"> <a class=\"i\" data-ids=\"0:00q0q_h0Z7s6pIX4b\" href=\"/pet/5457844364.html\"></a> <span class=\"txt\"> <span class=\"star\"></span> <span class=\"pl\"> <time datetime=\"2016-02-29 14:14\" title=\"Mon 29 Feb 02:14:01 PM\">Feb 29</time> <a class=\"hdrlnk\" data-id=\"5457844364\" href=\"/pet/5457844364.html\"><span id=\"titletextonly\">ADOPT A CLOUD (VIDEO)</span></a> </span> <span class=\"l2\"> <span class=\"pnr\"> <small> (ACCT Foster)</small> <span class=\"px\"> <span class=\"p\"> pic</span></span> </span> </span> <span class=\"js-only banish-unbanish\"> <span class=\"banish\" title=\"hide\"><span class=\"trash\"></span></span> <span class=\"unbanish\" title=\"restore\"><span class=\"trash red\"></span></span></span> </span> </p>,\n",
       " <p class=\"row\" data-pid=\"5470089831\"> <a class=\"i\" data-ids=\"0:00t0t_iApGagjtcr5,0:00606_is9P2ThWah,0:00909_dr0v9dvMMJB,0:00O0O_haORRsDsLaJ\" href=\"/pet/5470089831.html\"></a> <span class=\"txt\"> <span class=\"star\"></span> <span class=\"pl\"> <time datetime=\"2016-02-29 13:36\" title=\"Mon 29 Feb 01:36:06 PM\">Feb 29</time> <a class=\"hdrlnk\" data-id=\"5470089831\" href=\"/pet/5470089831.html\"><span id=\"titletextonly\">Maltese Puppy</span></a> </span> <span class=\"l2\"> <span class=\"pnr\"> <small> (Philly)</small> <span class=\"px\"> <span class=\"p\"> pic <span class=\"maptag\" data-pid=\"5470089831\">map</span></span></span> </span> </span> <span class=\"js-only banish-unbanish\"> <span class=\"banish\" title=\"hide\"><span class=\"trash\"></span></span> <span class=\"unbanish\" title=\"restore\"><span class=\"trash red\"></span></span></span> </span> </p>,\n",
       " <p class=\"row\" data-pid=\"5469945207\"> <a class=\"i\" data-ids=\"0:00J0J_2CBukdukbO0,0:00D0D_9fSIs1PVjxG\" href=\"/pet/5469945207.html\"></a> <span class=\"txt\"> <span class=\"star\"></span> <span class=\"pl\"> <time datetime=\"2016-02-29 12:15\" title=\"Mon 29 Feb 12:15:44 PM\">Feb 29</time> <a class=\"hdrlnk\" data-id=\"5469945207\" href=\"/pet/5469945207.html\"><span id=\"titletextonly\">Brown Spotted Bengal Kittens Available now</span></a> </span> <span class=\"l2\"> <span class=\"pnr\"> <span class=\"px\"> <span class=\"p\"> pic <span class=\"maptag\" data-pid=\"5469945207\">map</span></span></span> </span> </span> <span class=\"js-only banish-unbanish\"> <span class=\"banish\" title=\"hide\"><span class=\"trash\"></span></span> <span class=\"unbanish\" title=\"restore\"><span class=\"trash red\"></span></span></span> </span> </p>,\n",
       " <p class=\"row\" data-pid=\"5469810034\"> <a class=\"i\" data-ids=\"0:00S0S_SzC7j0Dwsg\" href=\"/pet/5469810034.html\"></a> <span class=\"txt\"> <span class=\"star\"></span> <span class=\"pl\"> <time datetime=\"2016-02-29 11:00\" title=\"Mon 29 Feb 11:00:54 AM\">Feb 29</time> <a class=\"hdrlnk\" data-id=\"5469810034\" href=\"/pet/5469810034.html\"><span id=\"titletextonly\">3 night stay at pet resort</span></a> </span> <span class=\"l2\"> <span class=\"pnr\"> <span class=\"px\"> <span class=\"p\"> pic <span class=\"maptag\" data-pid=\"5469810034\">map</span></span></span> </span> </span> <span class=\"js-only banish-unbanish\"> <span class=\"banish\" title=\"hide\"><span class=\"trash\"></span></span> <span class=\"unbanish\" title=\"restore\"><span class=\"trash red\"></span></span></span> </span> </p>,\n",
       " <p class=\"row\" data-pid=\"5469796703\" data-repost-of=\"5242280216\"> <a class=\"i\" data-ids=\"0:01515_idcPupqyaVg\" href=\"/pet/5469796703.html\"></a> <span class=\"txt\"> <span class=\"star\"></span> <span class=\"pl\"> <time datetime=\"2016-02-29 10:55\" title=\"Mon 29 Feb 10:55:06 AM\">Feb 29</time> <a class=\"hdrlnk\" data-id=\"5469796703\" href=\"/pet/5469796703.html\"><span id=\"titletextonly\">dog training all breed control</span></a> </span> <span class=\"l2\"> <span class=\"pnr\"> <span class=\"px\"> <span class=\"p\"> pic <span class=\"maptag\" data-pid=\"5469796703\">map</span></span></span> </span> </span> <span class=\"js-only banish-unbanish\"> <span class=\"banish\" title=\"hide\"><span class=\"trash\"></span></span> <span class=\"unbanish\" title=\"restore\"><span class=\"trash red\"></span></span></span> </span> </p>,\n",
       " <p class=\"row\" data-pid=\"5469736702\" data-repost-of=\"5466079967\"> <a class=\"i\" data-ids=\"0:00F0F_efwrNoFRRww,0:01313_4HDo9e03TFG\" href=\"/pet/5469736702.html\"></a> <span class=\"txt\"> <span class=\"star\"></span> <span class=\"pl\"> <time datetime=\"2016-02-29 10:10\" title=\"Mon 29 Feb 10:10:14 AM\">Feb 29</time> <a class=\"hdrlnk\" data-id=\"5469736702\" href=\"/pet/5469736702.html\"><span id=\"titletextonly\">Pet Mate X Large Dog Kennel</span></a> </span> <span class=\"l2\"> <span class=\"pnr\"> <small> (Tacony ne phila)</small> <span class=\"px\"> <span class=\"p\"> pic <span class=\"maptag\" data-pid=\"5469736702\">map</span></span></span> </span> </span> <span class=\"js-only banish-unbanish\"> <span class=\"banish\" title=\"hide\"><span class=\"trash\"></span></span> <span class=\"unbanish\" title=\"restore\"><span class=\"trash red\"></span></span></span> </span> </p>,\n",
       " <p class=\"row\" data-pid=\"5433453930\"> <a class=\"i\" data-ids=\"0:00D0D_7wbQ45zq9Uu,0:00303_jZqSsbcnnpU,0:00X0X_cm8rTJKecLu,0:00E0E_9xyJqDOKI75,0:00303_8Vxtm0ETF6q,0:00k0k_5vn1Fpdrm4Z,0:00R0R_lmg25HU1YVI\" href=\"/pet/5433453930.html\"></a> <span class=\"txt\"> <span class=\"star\"></span> <span class=\"pl\"> <time datetime=\"2016-02-29 09:46\" title=\"Mon 29 Feb 09:46:31 AM\">Feb 29</time> <a class=\"hdrlnk\" data-id=\"5433453930\" href=\"/pet/5433453930.html\"><span id=\"titletextonly\">Stunning long-haired senior cat looking for a home as special as her!</span></a> </span> <span class=\"l2\"> <span class=\"pnr\"> <small> (COEL Foster Care)</small> <span class=\"px\"> <span class=\"p\"> pic</span></span> </span> </span> <span class=\"js-only banish-unbanish\"> <span class=\"banish\" title=\"hide\"><span class=\"trash\"></span></span> <span class=\"unbanish\" title=\"restore\"><span class=\"trash red\"></span></span></span> </span> </p>,\n",
       " <p class=\"row\" data-pid=\"5453232693\" data-repost-of=\"5438585318\"> <a class=\"i\" data-ids=\"0:00n0n_2c9tiuVx458,0:01414_5RL3j3GnpNP,0:00o0o_84OYSHS5YN6,0:00m0m_87jwGrIEE8d,0:00G0G_hkIYGgYIRln,0:00o0o_9epP5FOz1RW,0:00G0G_5lLGwzp9IFF,0:00C0C_akUksbPokj8\" href=\"/pet/5453232693.html\"></a> <span class=\"txt\"> <span class=\"star\"></span> <span class=\"pl\"> <time datetime=\"2016-02-29 09:46\" title=\"Mon 29 Feb 09:46:49 AM\">Feb 29</time> <a class=\"hdrlnk\" data-id=\"5453232693\" href=\"/pet/5453232693.html\"><span id=\"titletextonly\">RYAN! House/Crate Trained, Dog Friendly</span></a> </span> <span class=\"l2\"> <span class=\"pnr\"> <small> (Phila)</small> <span class=\"px\"> <span class=\"p\"> pic</span></span> </span> </span> <span class=\"js-only banish-unbanish\"> <span class=\"banish\" title=\"hide\"><span class=\"trash\"></span></span> <span class=\"unbanish\" title=\"restore\"><span class=\"trash red\"></span></span></span> </span> </p>,\n",
       " <p class=\"row\" data-pid=\"5433467792\"> <a class=\"i\" data-ids=\"0:00s0s_6pI89GmmO9E,0:00707_hxynoa1g4vo,0:00c0c_cd9DGjf4bRT\" href=\"/pet/5433467792.html\"></a> <span class=\"txt\"> <span class=\"star\"></span> <span class=\"pl\"> <time datetime=\"2016-02-29 09:45\" title=\"Mon 29 Feb 09:45:54 AM\">Feb 29</time> <a class=\"hdrlnk\" data-id=\"5433467792\" href=\"/pet/5433467792.html\"><span id=\"titletextonly\">Hilarious little cat is looking to add personality to your home!</span></a> </span> <span class=\"l2\"> <span class=\"pnr\"> <small> (Pet Supplies Plus, Phoenixville)</small> <span class=\"px\"> <span class=\"p\"> pic <span class=\"maptag\" data-pid=\"5433467792\">map</span></span></span> </span> </span> <span class=\"js-only banish-unbanish\"> <span class=\"banish\" title=\"hide\"><span class=\"trash\"></span></span> <span class=\"unbanish\" title=\"restore\"><span class=\"trash red\"></span></span></span> </span> </p>,\n",
       " <p class=\"row\" data-pid=\"5440833057\"> <a class=\"i\" data-ids=\"0:01313_tZOP1dekJo,0:00707_1B4AGhBfc2H,0:00r0r_5QDlPxsKZMn,0:00Z0Z_hHwZ8fIcbnq\" href=\"/pet/5440833057.html\"></a> <span class=\"txt\"> <span class=\"star\"></span> <span class=\"pl\"> <time datetime=\"2016-02-29 09:45\" title=\"Mon 29 Feb 09:45:42 AM\">Feb 29</time> <a class=\"hdrlnk\" data-id=\"5440833057\" href=\"/pet/5440833057.html\"><span id=\"titletextonly\">Teeny, tiny, super affectionate NATE is looking for his forever home!</span></a> </span> <span class=\"l2\"> <span class=\"pnr\"> <small> (Pet Supplies Plus, Phoenixville)</small> <span class=\"px\"> <span class=\"p\"> pic <span class=\"maptag\" data-pid=\"5440833057\">map</span></span></span> </span> </span> <span class=\"js-only banish-unbanish\"> <span class=\"banish\" title=\"hide\"><span class=\"trash\"></span></span> <span class=\"unbanish\" title=\"restore\"><span class=\"trash red\"></span></span></span> </span> </p>,\n",
       " <p class=\"row\" data-pid=\"5462852346\"> <a class=\"i\" data-ids=\"0:00909_hBE8s0ph7E1,0:00M0M_hq2HwkHX0fl,0:00D0D_lAJ1GC9GpFV,0:00B0B_e4WgpYLasKg\" href=\"/pet/5462852346.html\"></a> <span class=\"txt\"> <span class=\"star\"></span> <span class=\"pl\"> <time datetime=\"2016-02-29 09:44\" title=\"Mon 29 Feb 09:44:09 AM\">Feb 29</time> <a class=\"hdrlnk\" data-id=\"5462852346\" href=\"/pet/5462852346.html\"><span id=\"titletextonly\">Tiger's personality matches his good looks - adopt this wonderful cat!</span></a> </span> <span class=\"l2\"> <span class=\"pnr\"> <small> (Pet Supplies Plus, Phoenixville)</small> <span class=\"px\"> <span class=\"p\"> pic <span class=\"maptag\" data-pid=\"5462852346\">map</span></span></span> </span> </span> <span class=\"js-only banish-unbanish\"> <span class=\"banish\" title=\"hide\"><span class=\"trash\"></span></span> <span class=\"unbanish\" title=\"restore\"><span class=\"trash red\"></span></span></span> </span> </p>,\n",
       " <p class=\"row\" data-pid=\"5443593557\"> <a class=\"i\" data-ids=\"0:00F0F_jfEljMMeY8M\" href=\"/pet/5443593557.html\"></a> <span class=\"txt\"> <span class=\"star\"></span> <span class=\"pl\"> <time datetime=\"2016-02-29 09:41\" title=\"Mon 29 Feb 09:41:56 AM\">Feb 29</time> <a class=\"hdrlnk\" data-id=\"5443593557\" href=\"/pet/5443593557.html\"><span id=\"titletextonly\">Need Help Feeding Your Pets? We Can Help! (Sat. 3/5)</span></a> </span> <span class=\"l2\"> <span class=\"pnr\"> <small> (Frankford, Philadelphia)</small> <span class=\"px\"> <span class=\"p\"> pic <span class=\"maptag\" data-pid=\"5443593557\">map</span></span></span> </span> </span> <span class=\"js-only banish-unbanish\"> <span class=\"banish\" title=\"hide\"><span class=\"trash\"></span></span> <span class=\"unbanish\" title=\"restore\"><span class=\"trash red\"></span></span></span> </span> </p>,\n",
       " <p class=\"row\" data-pid=\"5464772934\"> <a class=\"i\" data-ids=\"0:01414_9IF8QBCuuOs\" href=\"/pet/5464772934.html\"></a> <span class=\"txt\"> <span class=\"star\"></span> <span class=\"pl\"> <time datetime=\"2016-02-29 09:33\" title=\"Mon 29 Feb 09:33:42 AM\">Feb 29</time> <a class=\"hdrlnk\" data-id=\"5464772934\" href=\"/pet/5464772934.html\"><span id=\"titletextonly\">Adorable white kitty for adoption</span></a> </span> <span class=\"l2\"> <span class=\"pnr\"> <span class=\"px\"> <span class=\"p\"> pic</span></span> </span> </span> <span class=\"js-only banish-unbanish\"> <span class=\"banish\" title=\"hide\"><span class=\"trash\"></span></span> <span class=\"unbanish\" title=\"restore\"><span class=\"trash red\"></span></span></span> </span> </p>,\n",
       " <p class=\"row\" data-pid=\"5469224423\"> <a class=\"i\" data-ids=\"0:00z0z_gybFG47r4UQ,0:00o0o_55bWn5YCAvP\" href=\"/pet/5469224423.html\"></a> <span class=\"txt\"> <span class=\"star\"></span> <span class=\"pl\"> <time datetime=\"2016-02-28 21:01\" title=\"Sun 28 Feb 09:01:37 PM\">Feb 28</time> <a class=\"hdrlnk\" data-id=\"5469224423\" href=\"/pet/5469224423.html\"><span id=\"titletextonly\">Looking for a home: CeeCee the Pit Bull Terrier mix</span></a> </span> <span class=\"l2\"> <span class=\"pnr\"> <span class=\"px\"> <span class=\"p\"> pic</span></span> </span> </span> <span class=\"js-only banish-unbanish\"> <span class=\"banish\" title=\"hide\"><span class=\"trash\"></span></span> <span class=\"unbanish\" title=\"restore\"><span class=\"trash red\"></span></span></span> </span> </p>,\n",
       " <p class=\"row\" data-pid=\"5469247981\"> <a class=\"i\" data-ids=\"0:00h0h_hHZw8qRXozm,0:00W0W_g6DgF98tU1h\" href=\"/pet/5469247981.html\"></a> <span class=\"txt\"> <span class=\"star\"></span> <span class=\"pl\"> <time datetime=\"2016-02-28 20:56\" title=\"Sun 28 Feb 08:56:05 PM\">Feb 28</time> <a class=\"hdrlnk\" data-id=\"5469247981\" href=\"/pet/5469247981.html\"><span id=\"titletextonly\">Looking for a home: Winnie the Boston Terrier mix</span></a> </span> <span class=\"l2\"> <span class=\"pnr\"> <span class=\"px\"> <span class=\"p\"> pic</span></span> </span> </span> <span class=\"js-only banish-unbanish\"> <span class=\"banish\" title=\"hide\"><span class=\"trash\"></span></span> <span class=\"unbanish\" title=\"restore\"><span class=\"trash red\"></span></span></span> </span> </p>,\n",
       " <p class=\"row\" data-pid=\"5469218541\"> <a class=\"i\" data-ids=\"0:00V0V_5Hq2CiN1VdA,0:01414_glmW5N10bYQ\" href=\"/pet/5469218541.html\"></a> <span class=\"txt\"> <span class=\"star\"></span> <span class=\"pl\"> <time datetime=\"2016-02-28 20:29\" title=\"Sun 28 Feb 08:29:10 PM\">Feb 28</time> <a class=\"hdrlnk\" data-id=\"5469218541\" href=\"/pet/5469218541.html\"><span id=\"titletextonly\">Looking for a home: Charlotte the Staffordshire Bull Terrier mix</span></a> </span> <span class=\"l2\"> <span class=\"pnr\"> <span class=\"px\"> <span class=\"p\"> pic</span></span> </span> </span> <span class=\"js-only banish-unbanish\"> <span class=\"banish\" title=\"hide\"><span class=\"trash\"></span></span> <span class=\"unbanish\" title=\"restore\"><span class=\"trash red\"></span></span></span> </span> </p>,\n",
       " <p class=\"row\" data-pid=\"5447198017\" data-repost-of=\"5417371705\"> <a class=\"i\" data-ids=\"0:00T0T_liXR76gsqDr,0:00B0B_cCsbhXtt8Gt,0:00T0T_hNXrluT1LuL,0:00z0z_31fLcTcUmI3,0:00G0G_2vynJHGG3IC,0:00K0K_5QZgR68M1vq,0:00909_hIuTaw5ckxi\" href=\"/pet/5447198017.html\"></a> <span class=\"txt\"> <span class=\"star\"></span> <span class=\"pl\"> <time datetime=\"2016-02-28 20:23\" title=\"Sun 28 Feb 08:23:34 PM\">Feb 28</time> <a class=\"hdrlnk\" data-id=\"5447198017\" href=\"/pet/5447198017.html\"><span id=\"titletextonly\">GIRL DREAMS OF A FAMILY Kute Kompact KIARA needs foster or adopter</span></a> </span> <span class=\"l2\"> <span class=\"pnr\"> <small> (501C3 RESCUE)</small> <span class=\"px\"> <span class=\"p\"> pic <span class=\"maptag\" data-pid=\"5447198017\">map</span></span></span> </span> </span> <span class=\"js-only banish-unbanish\"> <span class=\"banish\" title=\"hide\"><span class=\"trash\"></span></span> <span class=\"unbanish\" title=\"restore\"><span class=\"trash red\"></span></span></span> </span> </p>,\n",
       " <p class=\"row\" data-pid=\"5469210861\"> <a class=\"i\" data-ids=\"0:00U0U_hY28cCf2NeH,0:00u0u_d8Lr8nqTmhg\" href=\"/pet/5469210861.html\"></a> <span class=\"txt\"> <span class=\"star\"></span> <span class=\"pl\"> <time datetime=\"2016-02-28 20:22\" title=\"Sun 28 Feb 08:22:29 PM\">Feb 28</time> <a class=\"hdrlnk\" data-id=\"5469210861\" href=\"/pet/5469210861.html\"><span id=\"titletextonly\">Looking for a home: King the Boxer/American Staffordshire Terrier mix</span></a> </span> <span class=\"l2\"> <span class=\"pnr\"> <span class=\"px\"> <span class=\"p\"> pic <span class=\"maptag\" data-pid=\"5469210861\">map</span></span></span> </span> </span> <span class=\"js-only banish-unbanish\"> <span class=\"banish\" title=\"hide\"><span class=\"trash\"></span></span> <span class=\"unbanish\" title=\"restore\"><span class=\"trash red\"></span></span></span> </span> </p>,\n",
       " <p class=\"row\" data-pid=\"5465875509\"> <a class=\"i\" data-ids=\"0:00n0n_fqDNgmX8oH6,0:00707_72eqXJDHiar,0:00c0c_c3uhRLP2cEc,0:00q0q_c6cM2ypVoIW,0:00O0O_hAabdl9HqM3,0:00k0k_ioiIYPjyNwL,0:00G0G_7ZWyL3tKc7f\" href=\"/pet/5465875509.html\"></a> <span class=\"txt\"> <span class=\"star\"></span> <span class=\"pl\"> <time datetime=\"2016-02-28 20:06\" title=\"Sun 28 Feb 08:06:46 PM\">Feb 28</time> <a class=\"hdrlnk\" data-id=\"5465875509\" href=\"/pet/5465875509.html\"><span id=\"titletextonly\">Eddie Bauer Puffer Vest Medium Dog</span></a> </span> <span class=\"l2\"> <span class=\"pnr\"> <small> (Erdenheim)</small> <span class=\"px\"> <span class=\"p\"> pic</span></span> </span> </span> <span class=\"js-only banish-unbanish\"> <span class=\"banish\" title=\"hide\"><span class=\"trash\"></span></span> <span class=\"unbanish\" title=\"restore\"><span class=\"trash red\"></span></span></span> </span> </p>,\n",
       " <p class=\"row\" data-pid=\"5450437458\"> <a class=\"i\" data-ids=\"0:00m0m_kcpZ9SJyygD,0:00k0k_72fA5ab3glz,0:00707_dXImQh3gDbh\" href=\"/pet/5450437458.html\"></a> <span class=\"txt\"> <span class=\"star\"></span> <span class=\"pl\"> <time datetime=\"2016-02-28 18:08\" title=\"Sun 28 Feb 06:08:18 PM\">Feb 28</time> <a class=\"hdrlnk\" data-id=\"5450437458\" href=\"/pet/5450437458.html\"><span id=\"titletextonly\">Male-American Bull Lap Dog</span></a> </span> <span class=\"l2\"> <span class=\"pnr\"> <small> (Lansdowne)</small> <span class=\"px\"> <span class=\"p\"> pic <span class=\"maptag\" data-pid=\"5450437458\">map</span></span></span> </span> </span> <span class=\"js-only banish-unbanish\"> <span class=\"banish\" title=\"hide\"><span class=\"trash\"></span></span> <span class=\"unbanish\" title=\"restore\"><span class=\"trash red\"></span></span></span> </span> </p>,\n",
       " <p class=\"row\" data-pid=\"5468904020\"> <a class=\"i\" data-ids=\"0:00M0M_awiH89W3Z09,0:00v0v_e8fJ6O2pv1U,0:00O0O_a39hbtA3L1T\" href=\"/pet/5468904020.html\"></a> <span class=\"txt\"> <span class=\"star\"></span> <span class=\"pl\"> <time datetime=\"2016-02-28 16:24\" title=\"Sun 28 Feb 04:24:37 PM\">Feb 28</time> <a class=\"hdrlnk\" data-id=\"5468904020\" href=\"/pet/5468904020.html\"><span id=\"titletextonly\">Check Out Saul!</span></a> </span> <span class=\"l2\"> <span class=\"pnr\"> <span class=\"px\"> <span class=\"p\"> pic <span class=\"maptag\" data-pid=\"5468904020\">map</span></span></span> </span> </span> <span class=\"js-only banish-unbanish\"> <span class=\"banish\" title=\"hide\"><span class=\"trash\"></span></span> <span class=\"unbanish\" title=\"restore\"><span class=\"trash red\"></span></span></span> </span> </p>,\n",
       " <p class=\"row\" data-pid=\"5468768585\"> <a class=\"i\" data-ids=\"0:00N0N_3bX4wddWvDn\" href=\"/pet/5468768585.html\"></a> <span class=\"txt\"> <span class=\"star\"></span> <span class=\"pl\"> <time datetime=\"2016-02-28 15:17\" title=\"Sun 28 Feb 03:17:51 PM\">Feb 28</time> <a class=\"hdrlnk\" data-id=\"5468768585\" href=\"/pet/5468768585.html\"><span id=\"titletextonly\">5 year old pitbull for adoption</span></a> </span> <span class=\"l2\"> <span class=\"pnr\"> <span class=\"px\"> <span class=\"p\"> pic <span class=\"maptag\" data-pid=\"5468768585\">map</span></span></span> </span> </span> <span class=\"js-only banish-unbanish\"> <span class=\"banish\" title=\"hide\"><span class=\"trash\"></span></span> <span class=\"unbanish\" title=\"restore\"><span class=\"trash red\"></span></span></span> </span> </p>,\n",
       " <p class=\"row\" data-pid=\"5468772389\" data-repost-of=\"5242280216\"> <a class=\"i\" data-ids=\"0:00r0r_jt4a8NFLAX7\" href=\"/pet/5468772389.html\"></a> <span class=\"txt\"> <span class=\"star\"></span> <span class=\"pl\"> <time datetime=\"2016-02-28 15:14\" title=\"Sun 28 Feb 03:14:24 PM\">Feb 28</time> <a class=\"hdrlnk\" data-id=\"5468772389\" href=\"/pet/5468772389.html\"><span id=\"titletextonly\">dog training obedience control</span></a> </span> <span class=\"l2\"> <span class=\"pnr\"> <span class=\"px\"> <span class=\"p\"> pic <span class=\"maptag\" data-pid=\"5468772389\">map</span></span></span> </span> </span> <span class=\"js-only banish-unbanish\"> <span class=\"banish\" title=\"hide\"><span class=\"trash\"></span></span> <span class=\"unbanish\" title=\"restore\"><span class=\"trash red\"></span></span></span> </span> </p>,\n",
       " <p class=\"row\" data-pid=\"5468750225\" data-repost-of=\"5324271024\"> <a class=\"i\" data-ids=\"0:00r0r_jt4a8NFLAX7\" href=\"/pet/5468750225.html\"></a> <span class=\"txt\"> <span class=\"star\"></span> <span class=\"pl\"> <time datetime=\"2016-02-28 14:53\" title=\"Sun 28 Feb 02:53:56 PM\">Feb 28</time> <a class=\"hdrlnk\" data-id=\"5468750225\" href=\"/pet/5468750225.html\"><span id=\"titletextonly\">Pet Training Big Or Small</span></a> </span> <span class=\"l2\"> <span class=\"pnr\"> <span class=\"px\"> <span class=\"p\"> pic <span class=\"maptag\" data-pid=\"5468750225\">map</span></span></span> </span> </span> <span class=\"js-only banish-unbanish\"> <span class=\"banish\" title=\"hide\"><span class=\"trash\"></span></span> <span class=\"unbanish\" title=\"restore\"><span class=\"trash red\"></span></span></span> </span> </p>,\n",
       " <p class=\"row\" data-pid=\"5446658472\"> <a class=\"i\" data-ids=\"0:00808_7g2NAPD0w0F,0:00404_FeoJjoKSjB\" href=\"/pet/5446658472.html\"></a> <span class=\"txt\"> <span class=\"star\"></span> <span class=\"pl\"> <time datetime=\"2016-02-28 13:07\" title=\"Sun 28 Feb 01:07:33 PM\">Feb 28</time> <a class=\"hdrlnk\" data-id=\"5446658472\" href=\"/pet/5446658472.html\"><span id=\"titletextonly\">ZORRO--They Changed His NAME!</span></a> </span> <span class=\"l2\"> <span class=\"pnr\"> <small> (Bridesburg Pa)</small> <span class=\"px\"> <span class=\"p\"> pic</span></span> </span> </span> <span class=\"js-only banish-unbanish\"> <span class=\"banish\" title=\"hide\"><span class=\"trash\"></span></span> <span class=\"unbanish\" title=\"restore\"><span class=\"trash red\"></span></span></span> </span> </p>,\n",
       " <p class=\"row\" data-pid=\"5461442668\" data-repost-of=\"5263804630\"> <a class=\"i\" data-ids=\"0:00J0J_lvbEMXh00jP,0:01010_7AWraiovvSA,0:00L0L_69rFHVda7V4\" href=\"/pet/5461442668.html\"></a> <span class=\"txt\"> <span class=\"star\"></span> <span class=\"pl\"> <time datetime=\"2016-02-28 09:20\" title=\"Sun 28 Feb 09:20:08 AM\">Feb 28</time> <a class=\"hdrlnk\" data-id=\"5461442668\" href=\"/pet/5461442668.html\"><span id=\"titletextonly\">CAGELESS UNDER 2-HOUR DOG GROOMING</span></a> </span> <span class=\"l2\"> <span class=\"pnr\"> <small> (Yardley)</small> <span class=\"px\"> <span class=\"p\"> pic <span class=\"maptag\" data-pid=\"5461442668\">map</span></span></span> </span> </span> <span class=\"js-only banish-unbanish\"> <span class=\"banish\" title=\"hide\"><span class=\"trash\"></span></span> <span class=\"unbanish\" title=\"restore\"><span class=\"trash red\"></span></span></span> </span> </p>,\n",
       " <p class=\"row\" data-pid=\"5436449436\"> <a class=\"i\" data-ids=\"0:00H0H_34anw3JteJU,0:01212_9mW5o2Gzn26\" href=\"/pet/5436449436.html\"></a> <span class=\"txt\"> <span class=\"star\"></span> <span class=\"pl\"> <time datetime=\"2016-02-06 13:43\" title=\"Sat 06 Feb 01:43:42 PM\">Feb 6</time> <a class=\"hdrlnk\" data-id=\"5436449436\" href=\"/pet/5436449436.html\">BOSTON TERRIER/PITBULL MIX</a> </span> <span class=\"l2\"> <span class=\"pnr\"> <small> (Philadelphia)</small> <span class=\"px\"> <span class=\"p\"> pic <span class=\"maptag\" data-pid=\"5436449436\">map</span></span></span> </span> </span> <span class=\"js-only banish-unbanish\"> <span class=\"banish\" title=\"hide\"><span class=\"trash\"></span></span> <span class=\"unbanish\" title=\"restore\"><span class=\"trash red\"></span></span></span> </span> </p>,\n",
       " <p class=\"row\" data-pid=\"5427631231\" data-repost-of=\"5320473811\"> <a class=\"i\" data-ids=\"0:00l0l_7aXELwR2TMk,0:00U0U_4fqCseO3mGx,0:00D0D_8sAB40pOdrr,0:00j0j_egcNFMtJHgF,0:00k0k_aQmozysmotc,0:00C0C_lStihJXDUkj\" href=\"/pet/5427631231.html\"></a> <span class=\"txt\"> <span class=\"star\"></span> <span class=\"pl\"> <time datetime=\"2016-02-28 01:55\" title=\"Sun 28 Feb 01:55:51 AM\">Feb 28</time> <a class=\"hdrlnk\" data-id=\"5427631231\" href=\"/pet/5427631231.html\"><span id=\"titletextonly\">Lucy is a loving 3 yr old girl, looking for her forever family!</span></a> </span> <span class=\"l2\"> <span class=\"pnr\"> <small> (Application/ Home Visit/ Adoption Fee)</small> <span class=\"px\"> <span class=\"p\"> pic <span class=\"maptag\" data-pid=\"5427631231\">map</span></span></span> </span> </span> <span class=\"js-only banish-unbanish\"> <span class=\"banish\" title=\"hide\"><span class=\"trash\"></span></span> <span class=\"unbanish\" title=\"restore\"><span class=\"trash red\"></span></span></span> </span> </p>,\n",
       " <p class=\"row\" data-pid=\"5467975052\"> <a class=\"i\" data-ids=\"0:00707_lwqnrdMbwLo,0:00O0O_fIXdDZXsfla,0:00J0J_3OGE4ms9Jp5\" href=\"/pet/5467975052.html\"></a> <span class=\"txt\"> <span class=\"star\"></span> <span class=\"pl\"> <time datetime=\"2016-02-27 21:44\" title=\"Sat 27 Feb 09:44:08 PM\">Feb 27</time> <a class=\"hdrlnk\" data-id=\"5467975052\" href=\"/pet/5467975052.html\"><span id=\"titletextonly\">Louie is URGENT</span></a> </span> <span class=\"l2\"> <span class=\"pnr\"> <small> (ACCT Philly)</small> <span class=\"px\"> <span class=\"p\"> pic</span></span> </span> </span> <span class=\"js-only banish-unbanish\"> <span class=\"banish\" title=\"hide\"><span class=\"trash\"></span></span> <span class=\"unbanish\" title=\"restore\"><span class=\"trash red\"></span></span></span> </span> </p>,\n",
       " <p class=\"row\" data-pid=\"5467499624\"> <a class=\"i\" data-ids=\"0:00P0P_bmtI3k8PzDB,0:00000_1KMXdzrvsFv\" href=\"/pet/5467499624.html\"></a> <span class=\"txt\"> <span class=\"star\"></span> <span class=\"pl\"> <time datetime=\"2016-02-27 15:25\" title=\"Sat 27 Feb 03:25:57 PM\">Feb 27</time> <a class=\"hdrlnk\" data-id=\"5467499624\" href=\"/pet/5467499624.html\"><span id=\"titletextonly\">Dog Crate ($40) 36 L x 23 W x 25 H</span></a> </span> <span class=\"l2\"> <span class=\"pnr\"> <small> (PHILADELPHIA)</small> <span class=\"px\"> <span class=\"p\"> pic <span class=\"maptag\" data-pid=\"5467499624\">map</span></span></span> </span> </span> <span class=\"js-only banish-unbanish\"> <span class=\"banish\" title=\"hide\"><span class=\"trash\"></span></span> <span class=\"unbanish\" title=\"restore\"><span class=\"trash red\"></span></span></span> </span> </p>,\n",
       " <p class=\"row\" data-pid=\"5467398725\"> <a class=\"i\" data-ids=\"0:00e0e_jk61Gsf0wDw,0:00K0K_l1kB7ugCMyO,0:00101_9vKw7HY9IEe\" href=\"/pet/5467398725.html\"></a> <span class=\"txt\"> <span class=\"star\"></span> <span class=\"pl\"> <time datetime=\"2016-02-27 14:40\" title=\"Sat 27 Feb 02:40:42 PM\">Feb 27</time> <a class=\"hdrlnk\" data-id=\"5467398725\" href=\"/pet/5467398725.html\"><span id=\"titletextonly\">Pierre lab/ boxer mix</span></a> </span> <span class=\"l2\"> <span class=\"pnr\"> <span class=\"px\"> <span class=\"p\"> pic <span class=\"maptag\" data-pid=\"5467398725\">map</span></span></span> </span> </span> <span class=\"js-only banish-unbanish\"> <span class=\"banish\" title=\"hide\"><span class=\"trash\"></span></span> <span class=\"unbanish\" title=\"restore\"><span class=\"trash red\"></span></span></span> </span> </p>,\n",
       " <p class=\"row\" data-pid=\"5467106213\"> <a class=\"i\" data-ids=\"0:00303_26e8KdkURRR,0:00707_eSyLX0g4klH,0:00W0W_40qhNSGsWED,0:00u0u_jigwtMB3ydj\" href=\"/pet/5467106213.html\"></a> <span class=\"txt\"> <span class=\"star\"></span> <span class=\"pl\"> <time datetime=\"2016-02-27 11:42\" title=\"Sat 27 Feb 11:42:47 AM\">Feb 27</time> <a class=\"hdrlnk\" data-id=\"5467106213\" href=\"/pet/5467106213.html\"><span id=\"titletextonly\">CHUNKY, BIG HEADED, ADORABULLY SEEKS LOVING HOME</span></a> </span> <span class=\"l2\"> <span class=\"pnr\"> <span class=\"px\"> <span class=\"p\"> pic <span class=\"maptag\" data-pid=\"5467106213\">map</span></span></span> </span> </span> <span class=\"js-only banish-unbanish\"> <span class=\"banish\" title=\"hide\"><span class=\"trash\"></span></span> <span class=\"unbanish\" title=\"restore\"><span class=\"trash red\"></span></span></span> </span> </p>,\n",
       " <p class=\"row\" data-pid=\"5463533318\"> <a class=\"i\" data-ids=\"0:00c0c_3kfQFFfiTYg,0:00808_28DicnfswyA,0:00x0x_9fKLBBsxgs6\" href=\"/pet/5463533318.html\"></a> <span class=\"txt\"> <span class=\"star\"></span> <span class=\"pl\"> <time datetime=\"2016-02-27 09:27\" title=\"Sat 27 Feb 09:27:57 AM\">Feb 27</time> <a class=\"hdrlnk\" data-id=\"5463533318\" href=\"/pet/5463533318.html\"><span id=\"titletextonly\">Ship tzu</span></a> </span> <span class=\"l2\"> <span class=\"pnr\"> <small> (Summerdale)</small> <span class=\"px\"> <span class=\"p\"> pic <span class=\"maptag\" data-pid=\"5463533318\">map</span></span></span> </span> </span> <span class=\"js-only banish-unbanish\"> <span class=\"banish\" title=\"hide\"><span class=\"trash\"></span></span> <span class=\"unbanish\" title=\"restore\"><span class=\"trash red\"></span></span></span> </span> </p>,\n",
       " <p class=\"row\" data-pid=\"5431614194\"> <a class=\"i\" data-ids=\"0:00n0n_fqDNgmX8oH6,0:00707_72eqXJDHiar,0:00k0k_ioiIYPjyNwL,0:00O0O_hAabdl9HqM3,0:00c0c_c3uhRLP2cEc,0:00q0q_c6cM2ypVoIW,0:00G0G_7ZWyL3tKc7f\" href=\"/pet/5431614194.html\"></a> <span class=\"txt\"> <span class=\"star\"></span> <span class=\"pl\"> <time datetime=\"2016-02-27 09:18\" title=\"Sat 27 Feb 09:18:59 AM\">Feb 27</time> <a class=\"hdrlnk\" data-id=\"5431614194\" href=\"/pet/5431614194.html\"><span id=\"titletextonly\">New Eddie Bauer Puffer Vest Dog Size Medium</span></a> </span> <span class=\"l2\"> <span class=\"pnr\"> <small> (Erdenheim)</small> <span class=\"px\"> <span class=\"p\"> pic</span></span> </span> </span> <span class=\"js-only banish-unbanish\"> <span class=\"banish\" title=\"hide\"><span class=\"trash\"></span></span> <span class=\"unbanish\" title=\"restore\"><span class=\"trash red\"></span></span></span> </span> </p>,\n",
       " <p class=\"row\" data-pid=\"5448594639\"> <a class=\"i\" data-ids=\"0:00c0c_emo94kJxOEM,0:00B0B_ccBXIg6RXY5,0:00H0H_dmYm6ImGlUS,0:00E0E_3dECJLf8z7k,0:00B0B_4jIwbegnnEN,0:01313_ch48wi799Bt\" href=\"/pet/5448594639.html\"></a> <span class=\"txt\"> <span class=\"star\"></span> <span class=\"pl\"> <time datetime=\"2016-02-27 07:54\" title=\"Sat 27 Feb 07:54:51 AM\">Feb 27</time> <a class=\"hdrlnk\" data-id=\"5448594639\" href=\"/pet/5448594639.html\"><span id=\"titletextonly\">Snowshoe Siamese female</span></a> </span> <span class=\"l2\"> <span class=\"pnr\"> <small> (West Grove)</small> <span class=\"px\"> <span class=\"p\"> pic <span class=\"maptag\" data-pid=\"5448594639\">map</span></span></span> </span> </span> <span class=\"js-only banish-unbanish\"> <span class=\"banish\" title=\"hide\"><span class=\"trash\"></span></span> <span class=\"unbanish\" title=\"restore\"><span class=\"trash red\"></span></span></span> </span> </p>,\n",
       " <p class=\"row\" data-pid=\"5454789579\" data-repost-of=\"5265622070\"> <a class=\"i\" data-ids=\"0:00L0L_eJ9rYCHc9cf,0:00707_lIqarxjpCvU,0:00A0A_c6Y4B8xXfVm\" href=\"/pet/5454789579.html\"></a> <span class=\"txt\"> <span class=\"star\"></span> <span class=\"pl\"> <time datetime=\"2016-02-27 00:58\" title=\"Sat 27 Feb 12:58:53 AM\">Feb 27</time> <a class=\"hdrlnk\" data-id=\"5454789579\" href=\"/pet/5454789579.html\"><span id=\"titletextonly\">blue nose pit bull puppy</span></a> </span> <span class=\"l2\"> <span class=\"pnr\"> <small> (Pottstown)</small> <span class=\"px\"> <span class=\"p\"> pic <span class=\"maptag\" data-pid=\"5454789579\">map</span></span></span> </span> </span> <span class=\"js-only banish-unbanish\"> <span class=\"banish\" title=\"hide\"><span class=\"trash\"></span></span> <span class=\"unbanish\" title=\"restore\"><span class=\"trash red\"></span></span></span> </span> </p>,\n",
       " <p class=\"row\" data-pid=\"5466308830\"> <a class=\"i\" data-ids=\"0:00y0y_cAyk9vs3nB4,0:00x0x_aaMALnBvIrj\" href=\"/pet/5466308830.html\"></a> <span class=\"txt\"> <span class=\"star\"></span> <span class=\"pl\"> <time datetime=\"2016-02-26 18:42\" title=\"Fri 26 Feb 06:42:48 PM\">Feb 26</time> <a class=\"hdrlnk\" data-id=\"5466308830\" href=\"/pet/5466308830.html\"><span id=\"titletextonly\">Medium size dog crate with divider</span></a> </span> <span class=\"l2\"> <span class=\"pnr\"> <small> (Collingswood)</small> <span class=\"px\"> <span class=\"p\"> pic</span></span> </span> </span> <span class=\"js-only banish-unbanish\"> <span class=\"banish\" title=\"hide\"><span class=\"trash\"></span></span> <span class=\"unbanish\" title=\"restore\"><span class=\"trash red\"></span></span></span> </span> </p>,\n",
       " <p class=\"row\" data-pid=\"5443894434\"> <a class=\"i\" data-ids=\"0:00a0a_44r0eQl0628,0:00d0d_6hx1DfuPrSs,0:00Y0Y_guWauxFtJHf\" href=\"/pet/5443894434.html\"></a> <span class=\"txt\"> <span class=\"star\"></span> <span class=\"pl\"> <time datetime=\"2016-02-26 16:52\" title=\"Fri 26 Feb 04:52:24 PM\">Feb 26</time> <a class=\"hdrlnk\" data-id=\"5443894434\" href=\"/pet/5443894434.html\"><span id=\"titletextonly\">Adorable chihuahua alert!</span></a> </span> <span class=\"l2\"> <span class=\"pnr\"> <small> (Dog Town Rescue, Montgomery County)</small> <span class=\"px\"> <span class=\"p\"> pic <span class=\"maptag\" data-pid=\"5443894434\">map</span></span></span> </span> </span> <span class=\"js-only banish-unbanish\"> <span class=\"banish\" title=\"hide\"><span class=\"trash\"></span></span> <span class=\"unbanish\" title=\"restore\"><span class=\"trash red\"></span></span></span> </span> </p>]"
      ]
     },
     "execution_count": 35,
     "metadata": {},
     "output_type": "execute_result"
    }
   ],
   "source": [
    "p_row"
   ]
  },
  {
   "cell_type": "code",
   "execution_count": 42,
   "metadata": {
    "collapsed": true
   },
   "outputs": [],
   "source": [
    "url='http://nytimes.com'\n",
    "resp = requests.get(url)"
   ]
  },
  {
   "cell_type": "code",
   "execution_count": 44,
   "metadata": {
    "collapsed": false
   },
   "outputs": [],
   "source": [
    "html = BeautifulSoup(resp.text, 'html.parser')"
   ]
  },
  {
   "cell_type": "code",
   "execution_count": 47,
   "metadata": {
    "collapsed": false
   },
   "outputs": [
    {
     "data": {
      "text/plain": [
       "113"
      ]
     },
     "execution_count": 47,
     "metadata": {},
     "output_type": "execute_result"
    }
   ],
   "source": [
    "h2_elems=html.findAll('h2', attrs={'class': 'story-heading'})\n",
    "len(h2_elems)"
   ]
  },
  {
   "cell_type": "code",
   "execution_count": 49,
   "metadata": {
    "collapsed": false
   },
   "outputs": [
    {
     "name": "stdout",
     "output_type": "stream",
     "text": [
      "0 A New Libya, With ‘Very Little Time Left’\n",
      "1 Women Tell Justices Why Abortion Was Right for Them\n",
      "2 Clarence Thomas Breaks 10 Years of Silence in Court\n",
      "3  How the Case Could Change Women’s Access to Abortion \n",
      "4 Fixing Problems of 2012, G.O.P. Creates 2016 Path for Trump\n",
      "5 The Upshot: Where Rubio Has the Best Chance to Win \n",
      "6 Sanders Relies on Son as Constant Witness \n",
      "7 Trump Is Never Shy About Voicing Conspiracy Theories\n",
      "8 Trump Elicits Shock and Satire in European Media \n",
      "9 After Declining to Disavow David Duke, Trump Blames CNN Earpiece 11:38 AM ET\n",
      "10 The Host the Oscars Needed This Year\n",
      "11 Mr. Rock’s Oscar Monologue \n",
      "12 The Best and Worst\n",
      "13 Sam Smith, the Only Openly Gay Oscar Winner? Not Really 12:22 PM ET\n",
      "14 ‘Spotlight’ Wins Best Picture in an Upset \n",
      "15 Watch: My Oscar Performance \n",
      "16 List of Winners \n",
      "17 \n",
      "18 An Evening of Squirming\n",
      "19 85% of Nail Salons Inspected Broke Law on Pay Records\n",
      "20 Election Gives Lift to Iranian Moderates and President\n",
      "21 China Eases Reserve Requirement for Banks \n",
      "22 Migrants Riot Along Greece’s Border With Macedonia \n",
      "23 7 Face Charges After Melee at Klan Rally in California \n",
      "24 TV Recaps: ‘The Walking Dead’|‘Vinyl’\n",
      "25 \n",
      "Invasive Species Aren’t Necessarily Invaders\n",
      "\n",
      "26 \n",
      "Continuing King’s Mission\n",
      "\n",
      "27 \n",
      "Fighting the Incredible Shrinking Airline Seat\n",
      "\n",
      "28 Once I Saw Light in Iran. Now It’s Mostly Shadows.\n",
      "29 Clinton, Sanders and the Fight Over Obama’s Legacy\n",
      "30 Blow: ‘I’m Not a Super Predator’ \n",
      "31 Cohen: Trump’s Il Duce Routine \n",
      "32 Krugman: Planet on the Ballot \n",
      "33 Taking Note: Minimum Wage Backlash in Birmingham 1:24 PM ET\n",
      "34 A Conversation With Latinos on Race\n",
      "35 Editorial: A Better, Not Bigger, Military Budget \n",
      "36 Room for Debate: Is the Age of Regime Change Over? 2:14 PM ET\n",
      "37 \n",
      "Capturing the Academy Awards — in Real Time\n",
      "\n",
      "38 \n",
      "1956 | Why Read When You Can Redecorate?\n",
      "\n",
      "39 \n",
      "Capturing the Academy Awards — in Real Time\n",
      "\n",
      "40 \n",
      "Play Today’s Puzzle \n",
      "\n",
      "41 \n",
      "Play Today’s Puzzle \n",
      "\n",
      "42 \n",
      "The Rajah’s Pearls\n",
      "\n",
      "43 Slowly Fulfilling the Promise of Watson\n",
      "44 The Fight Over Obama’s Legacy\n",
      "45 MSNBC Cancels Show After Tension With Host\n",
      "46 Op-Ed: In India, Politics Photoshopped\n",
      "47 For a Natural, Swimming Isn’t Always Easy\n",
      "48 ‘Evicted,’ by Matthew Desmond\n",
      "49 Museum Tours in Arabic Forge Bridge to Refugees\n",
      "50 Op-Ed: The Secret of ‘Top Secret’\n",
      "51 Rangers Fortify Roster, Trading for Eric Staal\n",
      "52 The Stone: ‘Son of Saul,’ Kierkegaard and the Holocaust\n",
      "53 Lens: On a Greek Island, Migrants and Tourists\n",
      "54 ‘The Civil Wars of Julia Ward Howe’\n",
      "55 \n",
      "\n",
      "            Toronto Journal: In Toronto, a Neighborhood in Despair Transforms Into a Model of Inclusion        \n",
      "\n",
      "56 \n",
      "\n",
      "            A Chilean Ex-Soldier Guiltily Recalls His Unit’s Atrocities        \n",
      "\n",
      "57 \n",
      "\n",
      "            Stocks Reverse Course and Give Up Gains        \n",
      "\n",
      "58 \n",
      "\n",
      "            Argentina Reaches Deal With Hedge Funds Over Debt        \n",
      "\n",
      "59 \n",
      "\n",
      "            Editorial: Showdown on Abortion at the Supreme Court        \n",
      "\n",
      "60 \n",
      "\n",
      "            Ross Douthat: From Obama to Trump        \n",
      "\n",
      "61 \n",
      "\n",
      "            As Detroit Starts to Mend, Its Schools Lurch Toward Fiscal Crisis        \n",
      "\n",
      "62 \n",
      "\n",
      "            Seven Face Charges After Melee at Klan Rally in Anaheim        \n",
      "\n",
      "63 \n",
      "\n",
      "            Bits: Start-Up Lessons From the Once-Again Hot Field of A.I.        \n",
      "\n",
      "64 \n",
      "\n",
      "            Why a Push for Online Privacy Is Bogged Down in Washington        \n",
      "\n",
      "65 \n",
      "\n",
      "            The Best and Worst of the Oscars        \n",
      "\n",
      "66 \n",
      "\n",
      "            Review: With Chris Rock, the Oscars Find a Lucky Pairing of Host and Subject        \n",
      "\n",
      "67 \n",
      "\n",
      "            First Draft: Nikki Haley Faults Donald Trump for Not Condemning White Supremacists        \n",
      "\n",
      "68 \n",
      "\n",
      "            First Draft: Hillary Clinton Rallies Large Crowd in Boston Before the Primary        \n",
      "\n",
      "69 \n",
      "\n",
      "            Oscars 2016: Inside the Governors Ball and Vanity Fair Oscar Party        \n",
      "\n",
      "70 \n",
      "\n",
      "            Reviewing the Oscars From Afar        \n",
      "\n",
      "71 \n",
      "\n",
      "            The Best and Worst of the Oscars        \n",
      "\n",
      "72 \n",
      "\n",
      "            Review: With Chris Rock, the Oscars Find a Lucky Pairing of Host and Subject        \n",
      "\n",
      "73 \n",
      "\n",
      "            Much to Save in Harlem, but Historic Preservation Lags, a Critic Says        \n",
      "\n",
      "74 \n",
      "\n",
      "            Woman, 77, Fatally Struck by Livery Cab in Midtown        \n",
      "\n",
      "75 \n",
      "\n",
      "            Keeping Score: Stephen Curry Can’t Be Stopped, by Any Generation        \n",
      "\n",
      "76 \n",
      "\n",
      "            For a Natural, Swimming Isn’t Always Easy        \n",
      "\n",
      "77 \n",
      "\n",
      "            Review: In ‘Hughie,’ With Forest Whitaker, Two Desolate Lost Souls        \n",
      "\n",
      "78 \n",
      "\n",
      "            Hey, Sport! ​Know Your Old New York Slang?        \n",
      "\n",
      "79 \n",
      "\n",
      "            Trilobites: Reading This While You Drive Could Increase Your Risk of Crashing Tenfold        \n",
      "\n",
      "80 \n",
      "\n",
      "            Trilobites: Tracking a Parasite That Turns Bees Into Zombies        \n",
      "\n",
      "81 \n",
      "\n",
      "            Sam Beall, Farm-to-Table Restaurateur Right on His Farm, Dies at 39        \n",
      "\n",
      "82 \n",
      "\n",
      "            Lennie Baker, Singer and Saxophonist With Sha Na Na, Dies at 69        \n",
      "\n",
      "83 \n",
      "\n",
      "            Review: ‘Crouching Tiger, Hidden Dragon: Sword of Destiny,’ a Fight-Ridden Sequel        \n",
      "\n",
      "84 \n",
      "\n",
      "            Critic's Notebook: With Police Brutality Episode, ‘black-ish’ Shows How Sitcoms Can Still Matter        \n",
      "\n",
      "85 \n",
      "\n",
      "            Well: Free the Tampons        \n",
      "\n",
      "86 \n",
      "\n",
      "            Personal Health: Turning Your Pet Into a Therapy Dog        \n",
      "\n",
      "87 \n",
      "\n",
      "            In Transit: Another Trip Cut Short on Anthem of the Seas        \n",
      "\n",
      "88 \n",
      "\n",
      "            In Transit: Cruise and Air News: Barge Trips on Sale, Polar Snorkeling        \n",
      "\n",
      "89 \n",
      "\n",
      "            Book Entry: Review: ‘Dark Territory’ Illuminates Cybersecurity’s Shadows        \n",
      "\n",
      "90 \n",
      "\n",
      "            Close at Hand: Nicole Aragi’s Family History in a Jar        \n",
      "\n",
      "91 \n",
      "\n",
      "            Your Money Adviser: Tax Tips to Make College More Affordable        \n",
      "\n",
      "92 \n",
      "\n",
      "            Trump University’s Checkered Past Haunting Candidate        \n",
      "\n",
      "93 \n",
      "\n",
      "            The Pour: What to Look For in a Wine Store        \n",
      "\n",
      "94 \n",
      "\n",
      "            Close at Hand: Nicole Aragi’s Family History in a Jar        \n",
      "\n",
      "95 \n",
      "\n",
      "            Editorial: Showdown on Abortion at the Supreme Court        \n",
      "\n",
      "96 \n",
      "\n",
      "            Frank Bruni: If Donald Trump Changed Genders        \n",
      "\n",
      "97 \n",
      "\n",
      "            Ask Real Estate: Dropping the Curtain on a Singing Neighbor        \n",
      "\n",
      "98 \n",
      "\n",
      "            Selling High-End Apartments, Fully Furnished        \n",
      "\n",
      "99 \n",
      "\n",
      "            The Most Liberal States        \n",
      "\n",
      "100 \n",
      "\n",
      "            The 2016 Race: Nate Cohn and Justin Wolfers on Donald Trump’s Chances        \n",
      "\n",
      "101 \n",
      "\n",
      "            Social Capital: Strange Candy: On Amy Sedaris’s Instagram        \n",
      "\n",
      "102 \n",
      "\n",
      "            The Thread: The 2.14.16 Issue        \n",
      "\n",
      "103 \n",
      "\n",
      "            Driven: Video Review: Restoring Diesel’s Good Name With a New Range Rover        \n",
      "\n",
      "104 \n",
      "\n",
      "            Wheels: Technology Problems Top a List of Car Complaints        \n",
      "\n",
      "105 \n",
      "\n",
      "            On New York’s Bustling Streets, a Soccer Megastar Roams Freely        \n",
      "\n",
      "106 \n",
      "\n",
      "            Backstage Beauty Report: At Giorgio Armani, the Romantic Side of Fall        \n",
      "\n",
      "107 \n",
      "\n",
      "            Podcast: Will Shortz: Everything You Wanted to Know About Crossword Puzzles        \n",
      "\n",
      "108 \n",
      "\n",
      "            Podcast: “I’m Mad Today...” Andrew Rosenthal on Gitmo and Trump. And the Good News.        \n",
      "\n",
      "109 Paul L. Whalen, Architect, at Home in Greenwich Village\n",
      "110 Search for Homes for Sale or Rent\n",
      "111 Sell Your Home\n",
      "112 Selling High-End Apartments, Fully Furnished\n"
     ]
    }
   ],
   "source": [
    "for idx, item in enumerate(h2_elems):\n",
    "    print(idx, item.text)"
   ]
  },
  {
   "cell_type": "code",
   "execution_count": null,
   "metadata": {
    "collapsed": true
   },
   "outputs": [],
   "source": []
  }
 ],
 "metadata": {
  "kernelspec": {
   "display_name": "Python 3",
   "language": "python",
   "name": "python3"
  },
  "language_info": {
   "codemirror_mode": {
    "name": "ipython",
    "version": 3
   },
   "file_extension": ".py",
   "mimetype": "text/x-python",
   "name": "python",
   "nbconvert_exporter": "python",
   "pygments_lexer": "ipython3",
   "version": "3.4.4"
  }
 },
 "nbformat": 4,
 "nbformat_minor": 0
}
