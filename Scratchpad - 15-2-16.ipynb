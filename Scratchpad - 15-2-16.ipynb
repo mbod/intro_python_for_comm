{
 "cells": [
  {
   "cell_type": "markdown",
   "metadata": {},
   "source": [
    "# Processing LexisNexus results"
   ]
  },
  {
   "cell_type": "code",
   "execution_count": 2,
   "metadata": {
    "collapsed": true
   },
   "outputs": [],
   "source": [
    "# import the modules we need\n",
    "import os\n",
    "import re"
   ]
  },
  {
   "cell_type": "code",
   "execution_count": 4,
   "metadata": {
    "collapsed": false
   },
   "outputs": [
    {
     "data": {
      "text/plain": [
       "['LexisNexis practice.TXT', 'threebears.txt']"
      ]
     },
     "execution_count": 4,
     "metadata": {},
     "output_type": "execute_result"
    }
   ],
   "source": [
    "os.listdir('data')"
   ]
  },
  {
   "cell_type": "code",
   "execution_count": 5,
   "metadata": {
    "collapsed": true
   },
   "outputs": [],
   "source": [
    "data = open('data/LexisNexis practice.TXT').read()"
   ]
  },
  {
   "cell_type": "code",
   "execution_count": 10,
   "metadata": {
    "collapsed": false
   },
   "outputs": [
    {
     "data": {
      "text/plain": [
       "4"
      ]
     },
     "execution_count": 10,
     "metadata": {},
     "output_type": "execute_result"
    }
   ],
   "source": [
    "# 5 of 54 DOCUMENTS\n",
    "data.count('of 54 DOCUMENTS')"
   ]
  },
  {
   "cell_type": "code",
   "execution_count": 17,
   "metadata": {
    "collapsed": false
   },
   "outputs": [
    {
     "data": {
      "text/plain": [
       "['Th', 's ', 's a str', 'ng of words']"
      ]
     },
     "execution_count": 17,
     "metadata": {},
     "output_type": "execute_result"
    }
   ],
   "source": [
    "'This is a string of words'.split('i')"
   ]
  },
  {
   "cell_type": "code",
   "execution_count": 11,
   "metadata": {
    "collapsed": true
   },
   "outputs": [],
   "source": [
    "docs = data.split('of 54 DOCUMENTS')"
   ]
  },
  {
   "cell_type": "code",
   "execution_count": 12,
   "metadata": {
    "collapsed": false
   },
   "outputs": [
    {
     "data": {
      "text/plain": [
       "5"
      ]
     },
     "execution_count": 12,
     "metadata": {},
     "output_type": "execute_result"
    }
   ],
   "source": [
    "len(docs)"
   ]
  },
  {
   "cell_type": "code",
   "execution_count": 24,
   "metadata": {
    "collapsed": false
   },
   "outputs": [
    {
     "name": "stdout",
     "output_type": "stream",
     "text": [
      "This is doc number 1\n",
      "This is doc number 2\n",
      "This is doc number 3\n",
      "This is doc number 4\n"
     ]
    }
   ],
   "source": [
    "for dnum in [1,2,3,4]:\n",
    "    print('This is doc number {}'.format(dnum))"
   ]
  },
  {
   "cell_type": "code",
   "execution_count": 13,
   "metadata": {
    "collapsed": false
   },
   "outputs": [
    {
     "data": {
      "text/plain": [
       "'\\ufeff\\n                           FOCUS - 1 '"
      ]
     },
     "execution_count": 13,
     "metadata": {},
     "output_type": "execute_result"
    }
   ],
   "source": [
    "docs[0]"
   ]
  },
  {
   "cell_type": "code",
   "execution_count": 27,
   "metadata": {
    "collapsed": false
   },
   "outputs": [],
   "source": [
    "data = open('data/LexisNexis practice.TXT').read()\n",
    "\n",
    "docs = data.split('of 54 DOCUMENTS')\n",
    "\n",
    "dnum=1\n",
    "for doc in docs[1:]:\n",
    "    # open a new file\n",
    "    output = open('data/doc{}.txt'.format(dnum), 'w')\n",
    "    # write the document to the file\n",
    "    output.write(doc)\n",
    "    dnum=dnum+1\n"
   ]
  },
  {
   "cell_type": "code",
   "execution_count": 33,
   "metadata": {
    "collapsed": false
   },
   "outputs": [
    {
     "name": "stdout",
     "output_type": "stream",
     "text": [
      "\n",
      "\n",
      "\n",
      "                               The New York Times\n",
      "\n",
      "                             January 5, 2015 Monday\n",
      "                              Late Edition - Final\n",
      "\n",
      "The Central Crisis in New York Education\n",
      "\n",
      "BYLINE: By THE EDITORIAL BOARD\n",
      "\n",
      "SECTION: Section A; Column 0; Editorial Desk; EDITORIAL; Pg. 16\n",
      "\n",
      "LENGTH: 625 words\n",
      "\n",
      "\n",
      "Gov. Andrew Cuomo's forthcoming State of the State address is expected to focus\n",
      "on what can be done to improve public education across the state.\n",
      "\n",
      "If he is serious about the issue, he will have to move beyond peripheral\n",
      "concerns and political score-settling with the state teachers' union, which did\n",
      "not support his re-election, and go to the heart of the matter. And that means\n",
      "confronting and proposing remedies for the racial and economic segregation that\n",
      "has gripped the state's schools, as well as the inequality in school funding\n",
      "that prevents many poor districts from lifting their children up to state\n",
      "standards.\n",
      "\n",
      "These shameful inequities were fully brought to light in 2006, when the state's\n",
      "highest court ruled in Campaign for Fiscal Equity v. State of New York that the\n",
      "state had not met its constitutional responsibility to ensure adequate school\n",
      "funding and in particular had shortchanged New York City.\n",
      "\n",
      "A year later, the Legislature and Gov. Eliot Spitzer adopted a new formula that\n",
      "promised more help for poor districts and eventually $7 billion per year in\n",
      "added funding. That promise evaporated in the recession, spawning two lawsuits\n",
      "aimed at forcing the state to honor it.\n",
      "\n",
      "A lawsuit by a group called New Yorkers for Students' Educational Rights\n",
      "estimates that, despite increases in recent years, the state is still about $5.6\n",
      "billion a year short of its commitment under that formula.\n",
      "\n",
      "A second lawsuit was filed on behalf of students in several small cities in the\n",
      "state, including Jamestown, Port Jervis, Mount Vernon and Newburgh. It says that\n",
      "per pupil funding in the cities, which have an average 72 percent student\n",
      "poverty rate, is $2,500 to $6,300 less than called for in the 2007 formula,\n",
      "making it impossible to provide the instruction other services needed to meet\n",
      "the State Constitution's definition of a ''sound basic education.''\n",
      "\n",
      "These communities and others like them are further disadvantaged by having low\n",
      "property values and by a statewide cap enacted in 2011 that limits what money\n",
      "they are able to raise through property taxes. And last year the New York State\n",
      "United Teachers union said that the cap had been particularly harmful to poorer\n",
      "districts.\n",
      "\n",
      "These inequalities are compounded by the fact that New York State, which regards\n",
      "itself as a bastion of liberalism, has the most racially and economically\n",
      "segregated schools in the nation. A scathing 2014 study of this problem by the\n",
      "Civil Rights Project at the University of California, Los Angeles, charged that\n",
      "New York had essentially given up on this problem. It said, ''The children who\n",
      "most depend on the public schools for any chance in life are concentrated in\n",
      "schools struggling with all the dimensions of family and neighborhood poverty\n",
      "and isolation.''\n",
      "\n",
      "The Cuomo administration seemed not to acknowledge these issues in a letter last\n",
      "month to the chancellor of the New York State Board of Regents and the\n",
      "commissioner of education in which it promised ''an aggressive legislative\n",
      "package'' to improve education in the state. Among the dozen issues it said it\n",
      "wanted to address were strengthening the teacher evaluation system, improving\n",
      "the process for removing low-performing teachers and improving teacher training.\n",
      "\n",
      "The regents agreed that these were legitimate issues needing attention. But they\n",
      "also noted that these reforms were unlikely to improve the schools unless they\n",
      "were paired with new investments along the lines of the $2 billion in extra\n",
      "spending that the regents had recommended earlier. No less pointedly, they urged\n",
      "Mr. Cuomo to address the ''deeply disturbing inequalities in resources'' that\n",
      "exist between poor and wealthy districts, as well as the destructive pattern of\n",
      "segregation. Mr. Cuomo must take on both of these central issues.\n",
      "\n",
      "URL:\n",
      "http://www.nytimes.com/2015/01/05/opinion/the-central-crisis-in-new-york-educati\n",
      "on.html\n",
      "\n",
      "LANGUAGE: ENGLISH\n",
      "\n",
      "DOCUMENT-TYPE: Editorial\n",
      "\n",
      "PUBLICATION-TYPE: Newspaper\n",
      "\n",
      "SUBJECT: SUITS & CLAIMS (90%); EDUCATION FUNDING (90%); LITIGATION (90%);\n",
      "EDUCATION SYSTEMS & INSTITUTIONS (90%); EDITORIALS & OPINIONS (90%); TEACHING &\n",
      "TEACHERS (89%); STUDENTS & STUDENT LIFE (89%); PUBLIC SCHOOLS (89%); US STATE\n",
      "GOVERNMENT (79%); ELECTIONS (78%); LEGISLATIVE BODIES (78%); SCHOOL\n",
      "DESEGREGATION (78%); DISCRIMINATION IN EDUCATION (78%); RIGHT TO EDUCATION\n",
      "(78%); CIVIL RIGHTS (76%); RACE & RACISM (76%); REAL ESTATE (76%); POOR\n",
      "POPULATION (75%); POVERTY & HOMELESSNESS (75%); LIBERALISM (72%); TEACHER UNIONS\n",
      "(72%); DECISIONS & RULINGS (69%); SETTLEMENTS & DECISIONS (69%); SUPREME COURTS\n",
      "(69%); POVERTY RATES (68%); PROPERTY TAX (61%); REAL ESTATE VALUATIONS (61%);\n",
      "APPEALS (54%)\n",
      "\n",
      "PERSON: ANDREW CUOMO (79%); ELIOT SPITZER (59%)\n",
      "\n",
      "CITY: NEW YORK, NY, USA (92%); LOS ANGELES, CA, USA (79%)\n",
      "\n",
      "STATE: NEW YORK, USA (96%); CALIFORNIA, USA (79%)\n",
      "\n",
      "COUNTRY: UNITED STATES (96%)\n",
      "\n",
      "LOAD-DATE: January 5, 2015\n",
      "\n",
      "\n",
      "                   Copyright 2015 The New York Times Company\n",
      "\n",
      "\n",
      "                           FOCUS - 5 \n"
     ]
    }
   ],
   "source": [
    "print(docs[3])"
   ]
  },
  {
   "cell_type": "code",
   "execution_count": 39,
   "metadata": {
    "collapsed": false
   },
   "outputs": [
    {
     "name": "stdout",
     "output_type": "stream",
     "text": [
      "1\n",
      "1\n",
      "1\n",
      "1\n"
     ]
    }
   ],
   "source": [
    "for doc in docs[1:]:\n",
    "    print(doc.count('LANGUAGE:'))"
   ]
  },
  {
   "cell_type": "code",
   "execution_count": 40,
   "metadata": {
    "collapsed": true
   },
   "outputs": [],
   "source": [
    "# body is the text between LENGTH: number and LANGUAGE:"
   ]
  },
  {
   "cell_type": "code",
   "execution_count": 45,
   "metadata": {
    "collapsed": false
   },
   "outputs": [],
   "source": [
    "start = docs[1].find('LENGTH:')\n",
    "end = docs[1].find('LANGUAGE:')\n",
    "\n",
    "body = docs[1][start:end]"
   ]
  },
  {
   "cell_type": "code",
   "execution_count": 52,
   "metadata": {
    "collapsed": false
   },
   "outputs": [],
   "source": [
    "doc_body\n",
    "for doc in docs[1:]:\n",
    "    start = doc.find('LENGTH:')\n",
    "    end = doc.find('LANGUAGE:')\n",
    "    doc_body.append(doc[start:end])"
   ]
  },
  {
   "cell_type": "code",
   "execution_count": 50,
   "metadata": {
    "collapsed": false
   },
   "outputs": [
    {
     "data": {
      "text/plain": [
       "4"
      ]
     },
     "execution_count": 50,
     "metadata": {},
     "output_type": "execute_result"
    }
   ],
   "source": [
    "for doc in docs[1:]:\n",
    "    start = doc.find('LENGTH:')\n",
    "    end = doc.find('LANGUAGE:')\n",
    "    pre_body = doc[:start]\n",
    "    body = doc[start:end]\n",
    "    post_body = doc[end:]"
   ]
  },
  {
   "cell_type": "code",
   "execution_count": 53,
   "metadata": {
    "collapsed": false
   },
   "outputs": [],
   "source": [
    "import csv"
   ]
  },
  {
   "cell_type": "code",
   "execution_count": 55,
   "metadata": {
    "collapsed": true
   },
   "outputs": [],
   "source": [
    "a=[1,2,3,4,'abds','adsds']  # list"
   ]
  },
  {
   "cell_type": "code",
   "execution_count": 56,
   "metadata": {
    "collapsed": false
   },
   "outputs": [
    {
     "data": {
      "text/plain": [
       "1"
      ]
     },
     "execution_count": 56,
     "metadata": {},
     "output_type": "execute_result"
    }
   ],
   "source": [
    "a[0]"
   ]
  },
  {
   "cell_type": "code",
   "execution_count": 57,
   "metadata": {
    "collapsed": false
   },
   "outputs": [
    {
     "data": {
      "text/plain": [
       "'abds'"
      ]
     },
     "execution_count": 57,
     "metadata": {},
     "output_type": "execute_result"
    }
   ],
   "source": [
    "a[4]"
   ]
  },
  {
   "cell_type": "code",
   "execution_count": 58,
   "metadata": {
    "collapsed": false
   },
   "outputs": [
    {
     "data": {
      "text/plain": [
       "[3, 4, 'abds']"
      ]
     },
     "execution_count": 58,
     "metadata": {},
     "output_type": "execute_result"
    }
   ],
   "source": [
    "a[2:5]"
   ]
  },
  {
   "cell_type": "markdown",
   "metadata": {},
   "source": [
    "### Dictionary\n",
    "\n",
    "name : value - pairs\n",
    "\n",
    "key : value - pair\n",
    "\n"
   ]
  },
  {
   "cell_type": "code",
   "execution_count": 61,
   "metadata": {
    "collapsed": true
   },
   "outputs": [],
   "source": [
    "d1 = { 'item1': 'This is item 1', 'item2': 'This is item 2'}"
   ]
  },
  {
   "cell_type": "code",
   "execution_count": 62,
   "metadata": {
    "collapsed": false
   },
   "outputs": [
    {
     "data": {
      "text/plain": [
       "{'item1': 'This is item 1', 'item2': 'This is item 2'}"
      ]
     },
     "execution_count": 62,
     "metadata": {},
     "output_type": "execute_result"
    }
   ],
   "source": [
    "d1"
   ]
  },
  {
   "cell_type": "code",
   "execution_count": 63,
   "metadata": {
    "collapsed": false
   },
   "outputs": [
    {
     "data": {
      "text/plain": [
       "'This is item 2'"
      ]
     },
     "execution_count": 63,
     "metadata": {},
     "output_type": "execute_result"
    }
   ],
   "source": [
    "d1['item2']"
   ]
  },
  {
   "cell_type": "code",
   "execution_count": 64,
   "metadata": {
    "collapsed": false
   },
   "outputs": [
    {
     "data": {
      "text/plain": [
       "'This is item 1'"
      ]
     },
     "execution_count": 64,
     "metadata": {},
     "output_type": "execute_result"
    }
   ],
   "source": [
    "d1['item1']"
   ]
  },
  {
   "cell_type": "code",
   "execution_count": 65,
   "metadata": {
    "collapsed": true
   },
   "outputs": [],
   "source": [
    "d1['item3'] = a"
   ]
  },
  {
   "cell_type": "code",
   "execution_count": 66,
   "metadata": {
    "collapsed": false
   },
   "outputs": [
    {
     "data": {
      "text/plain": [
       "{'item1': 'This is item 1',\n",
       " 'item2': 'This is item 2',\n",
       " 'item3': [1, 2, 3, 4, 'abds', 'adsds']}"
      ]
     },
     "execution_count": 66,
     "metadata": {},
     "output_type": "execute_result"
    }
   ],
   "source": [
    "d1"
   ]
  },
  {
   "cell_type": "code",
   "execution_count": 67,
   "metadata": {
    "collapsed": false
   },
   "outputs": [
    {
     "data": {
      "text/plain": [
       "[1, 2, 3, 4, 'abds', 'adsds']"
      ]
     },
     "execution_count": 67,
     "metadata": {},
     "output_type": "execute_result"
    }
   ],
   "source": [
    "d1['item3']"
   ]
  },
  {
   "cell_type": "code",
   "execution_count": 68,
   "metadata": {
    "collapsed": false
   },
   "outputs": [
    {
     "data": {
      "text/plain": [
       "3"
      ]
     },
     "execution_count": 68,
     "metadata": {},
     "output_type": "execute_result"
    }
   ],
   "source": [
    "d1['item3'][2]"
   ]
  },
  {
   "cell_type": "markdown",
   "metadata": {},
   "source": [
    "### Spreadsheet structure\n",
    "\n",
    "           col1 col2 col3\n",
    "    row1     1   t    2\n",
    "    row2     2   x    5\n",
    "    row3     3   a    5"
   ]
  },
  {
   "cell_type": "code",
   "execution_count": 69,
   "metadata": {
    "collapsed": true
   },
   "outputs": [],
   "source": [
    "data = [\n",
    "   { 'col1': 1, 'col2': 't', 'col3': 2},   \n",
    "    { 'col1': 2, 'col2': 'x', 'col3': 5},\n",
    "    { 'col1': 3, 'col2': 'a', 'col3': 5}\n",
    "]"
   ]
  },
  {
   "cell_type": "code",
   "execution_count": 75,
   "metadata": {
    "collapsed": false
   },
   "outputs": [
    {
     "data": {
      "text/plain": [
       "[{'col1': 1, 'col2': 't', 'col3': 2},\n",
       " {'col1': 2, 'col2': 'x', 'col3': 5},\n",
       " {'col1': 3, 'col2': 'a', 'col3': 5}]"
      ]
     },
     "execution_count": 75,
     "metadata": {},
     "output_type": "execute_result"
    }
   ],
   "source": [
    "data"
   ]
  },
  {
   "cell_type": "code",
   "execution_count": 78,
   "metadata": {
    "collapsed": false
   },
   "outputs": [],
   "source": [
    "with open('data/test.csv', 'w') as outfile:\n",
    "    out = csv.DictWriter(outfile, \n",
    "                         fieldnames=['col1','col2','col3'])\n",
    "    out.writeheader()\n",
    "    out.writerows(data)"
   ]
  },
  {
   "cell_type": "code",
   "execution_count": 74,
   "metadata": {
    "collapsed": false
   },
   "outputs": [
    {
     "data": {
      "text/plain": [
       "<_io.TextIOWrapper name='data/test.txt' mode='w' encoding='UTF-8'>"
      ]
     },
     "execution_count": 74,
     "metadata": {},
     "output_type": "execute_result"
    }
   ],
   "source": [
    "open('data/test.txt','w')"
   ]
  },
  {
   "cell_type": "code",
   "execution_count": 81,
   "metadata": {
    "collapsed": false
   },
   "outputs": [
    {
     "name": "stdout",
     "output_type": "stream",
     "text": [
      "{'col2': 't', 'col3': '2', 'col1': '1'}\n",
      "{'col2': 'x', 'col3': '5', 'col1': '2'}\n",
      "{'col2': 'a', 'col3': '5', 'col1': '3'}\n"
     ]
    }
   ],
   "source": [
    "fh = open('data/test.csv')\n",
    "for row in csv.DictReader(fh):\n",
    "    print(row)"
   ]
  },
  {
   "cell_type": "code",
   "execution_count": 82,
   "metadata": {
    "collapsed": true
   },
   "outputs": [],
   "source": [
    "csv_data = [r for r in csv.DictReader(open('data/test.csv'))]"
   ]
  },
  {
   "cell_type": "code",
   "execution_count": 83,
   "metadata": {
    "collapsed": false
   },
   "outputs": [
    {
     "data": {
      "text/plain": [
       "[{'col1': '1', 'col2': 't', 'col3': '2'},\n",
       " {'col1': '2', 'col2': 'x', 'col3': '5'},\n",
       " {'col1': '3', 'col2': 'a', 'col3': '5'}]"
      ]
     },
     "execution_count": 83,
     "metadata": {},
     "output_type": "execute_result"
    }
   ],
   "source": [
    "csv_data"
   ]
  },
  {
   "cell_type": "code",
   "execution_count": 84,
   "metadata": {
    "collapsed": false
   },
   "outputs": [
    {
     "data": {
      "text/plain": [
       "{'col1': '1', 'col2': 't', 'col3': '2'}"
      ]
     },
     "execution_count": 84,
     "metadata": {},
     "output_type": "execute_result"
    }
   ],
   "source": [
    "csv_data[0]"
   ]
  },
  {
   "cell_type": "code",
   "execution_count": 85,
   "metadata": {
    "collapsed": false
   },
   "outputs": [
    {
     "data": {
      "text/plain": [
       "'x'"
      ]
     },
     "execution_count": 85,
     "metadata": {},
     "output_type": "execute_result"
    }
   ],
   "source": [
    "csv_data[1]['col2']"
   ]
  },
  {
   "cell_type": "code",
   "execution_count": 86,
   "metadata": {
    "collapsed": true
   },
   "outputs": [],
   "source": [
    "doc_data = []\n",
    "\n",
    "for doc in docs[1:]:\n",
    "    start = doc.find('LENGTH:')\n",
    "    end = doc.find('LANGUAGE:')\n",
    "    pre_body = doc[:start]\n",
    "    body = doc[start:end]\n",
    "    post_body = doc[end:]\n",
    "    \n",
    "    row_dict = { 'pre_body': pre_body, \n",
    "                 'body': body,\n",
    "                 'post_body': post_body }\n",
    "    \n",
    "    doc_data.append(row_dict)\n",
    "    "
   ]
  },
  {
   "cell_type": "code",
   "execution_count": 92,
   "metadata": {
    "collapsed": false
   },
   "outputs": [
    {
     "name": "stdout",
     "output_type": "stream",
     "text": [
      "\n",
      "\n",
      "\n",
      "                               The New York Times\n",
      "\n",
      "                             January 5, 2015 Monday\n",
      "                              Late Edition - Final\n",
      "\n",
      "The Central Crisis in New York Education\n",
      "\n",
      "BYLINE: By THE EDITORIAL BOARD\n",
      "\n",
      "SECTION: Section A; Column 0; Editorial Desk; EDITORIAL; Pg. 16\n",
      "\n",
      "\n"
     ]
    }
   ],
   "source": [
    "print(doc_data[2]['pre_body'])"
   ]
  },
  {
   "cell_type": "code",
   "execution_count": 94,
   "metadata": {
    "collapsed": false
   },
   "outputs": [],
   "source": [
    "with open('data/docs.csv', 'w') as outfile:\n",
    "    out = csv.DictWriter(outfile, \n",
    "                         fieldnames=['pre_body','body','post_body'])\n",
    "    out.writeheader()\n",
    "    out.writerows(doc_data)"
   ]
  },
  {
   "cell_type": "markdown",
   "metadata": {},
   "source": [
    "### Some regular expression matching"
   ]
  },
  {
   "cell_type": "code",
   "execution_count": 108,
   "metadata": {
    "collapsed": false
   },
   "outputs": [
    {
     "data": {
      "text/plain": [
       "['BYLINE:',\n",
       " 'SECTION:',\n",
       " 'LENGTH:',\n",
       " 'URL:',\n",
       " 'GRAPHIC:',\n",
       " 'CHART:',\n",
       " 'LANGUAGE:',\n",
       " 'TYPE:',\n",
       " 'TYPE:',\n",
       " 'SUBJECT:',\n",
       " 'COMPANY:',\n",
       " 'ORGANIZATION:',\n",
       " 'STATE:',\n",
       " 'COUNTRY:',\n",
       " 'DATE:']"
      ]
     },
     "execution_count": 108,
     "metadata": {},
     "output_type": "execute_result"
    }
   ],
   "source": [
    "re.findall('[A-Z]+:',doc, re.MULTILINE)"
   ]
  },
  {
   "cell_type": "code",
   "execution_count": 111,
   "metadata": {
    "collapsed": false
   },
   "outputs": [
    {
     "name": "stdout",
     "output_type": "stream",
     "text": [
      "\n",
      "\n",
      "=====\n",
      "\n",
      "\n",
      "                               The New York Times\n",
      "\n",
      "=====\n",
      "\n",
      "                             January 4, 2015 Sunday\n",
      "                              Late Edition - Final\n",
      "\n",
      "=====\n",
      "\n",
      "Is Life Better in America's Red States?\n",
      "\n",
      "=====\n",
      "\n",
      "BYLINE: By RICHARD FLORIDA.\n",
      "\n",
      "=====\n",
      "\n",
      "The director of the Martin Prosperity Institute at the Rotman School of\n",
      "Management, University of Toronto, and a founder of The Atlantic's CityLab.\n",
      "\n",
      "=====\n",
      "\n",
      "SECTION: Section SR; Column 0; Sunday Review Desk; OPINION; Pg. 6\n",
      "\n",
      "=====\n",
      "\n",
      "LENGTH: 1196 words\n",
      "\n",
      "=====\n",
      "\n",
      "\n",
      "THE new Congress that starts work this week is the latest reminder of America's\n",
      "stark political divisions: The parties in Washington are more polarized than\n",
      "they have been in decades, the partisanship gap between rural Republicans and\n",
      "urban Democrats has grown, and the battle for suburban voters keeps\n",
      "intensifying. Much less is said, however, about the equally significant economic\n",
      "division between conservative ''red states'' and liberal ''blue states.''\n",
      "\n",
      "=====\n",
      "\n",
      "Blue states, like California, New York and Illinois, whose economies turn on\n",
      "finance, trade and knowledge, are generally richer than red states. But red\n",
      "states, like Texas, Georgia and Utah, have done a better job over all of\n",
      "offering a higher standard of living relative to housing costs. That basic\n",
      "economic fact not only helps explain why the nation's electoral map got so much\n",
      "redder in the November midterm elections, but also why America's prosperity is\n",
      "in jeopardy.\n",
      "\n",
      "=====\n",
      "\n",
      "Red state economies based on energy extraction, agriculture and suburban sprawl\n",
      "may have lower wages, higher poverty rates and lower levels of education on\n",
      "average than those of blue states -- but their residents also benefit from much\n",
      "lower costs of living. For a middle-class person , the American dream of a big\n",
      "house with a backyard and a couple of cars is much more achievable in low-tax\n",
      "Arizona than in deep-blue Massachusetts. As Jed Kolko, chief economist of\n",
      "Trulia, recently noted, housing costs almost twice as much in deep-blue markets\n",
      "($227 per square foot) than in red markets ($119).\n",
      "\n",
      "=====\n",
      "\n",
      "Driven by oil, the fracking boom and exurban sprawl, many of the red state\n",
      "economies are experiencing a vigorous (if ultimately unsustainable) spurt of\n",
      "growth. Thanks to loose land-use regulations and low labor costs, detached,\n",
      "single-family homes can be churned out quite cheaply, generating more\n",
      "middle-wage, low-skill jobs. And since red states spend less per capita on\n",
      "education, infrastructure and social welfare than their blue state counterparts\n",
      "(and many of them receive more federal dollars than they contribute), their tax\n",
      "burdens are lower, too.\n",
      "\n",
      "=====\n",
      "\n",
      "To the surprise of many, voters in four red states -- Alaska, Nebraska, South\n",
      "Dakota and Arkansas -- supported referendums in November to raise their state\n",
      "minimum wage. And not just by a little. Controlling for the cost of living, they\n",
      "will have wage floors that are higher than those of many blue states. Once\n",
      "Obamacare is factored in, voters in these states ironically benefit from a\n",
      "somewhat strengthened social safety net, even though it is one that their\n",
      "elected politicians mainly oppose and that is heavily subsidized by blue state\n",
      "tax dollars.\n",
      "\n",
      "=====\n",
      "\n",
      "For blue state urbanites who toil in low-paying retail, food preparation and\n",
      "service jobs, for the journeyman tradespeople who once formed the heart of the\n",
      "middle class, for teachers, civil servants, students and young families, the\n",
      "American dream of homeownership -- or even an affordable rental apartment -- is\n",
      "increasingly out of reach. Adding insult to injury, rapid gentrification in\n",
      "these larger knowledge hubs brings the constant threat of displacement of\n",
      "creative workers. For even the much better paid techies, engineers, financiers\n",
      "and managers who are displacing them, the metropolitan version of the American\n",
      "dream is a cramped condo or a small house and a long commute. Many are opting to\n",
      "move to cheaper red states instead, further driving their growth.\n",
      "\n",
      "=====\n",
      "\n",
      "Inequality has grown fastest over the past three decades in larger states with\n",
      "more vibrant knowledge economies, like Massachusetts, New York, New Jersey and\n",
      "Connecticut. In 1979, the most unequal states were poor conservative states --\n",
      "Mississippi, Louisiana, Arkansas, Alabama and Georgia. By 2012, New York,\n",
      "Connecticut, California and Massachusetts joined Mississippi, Louisiana,\n",
      "Florida, Georgia, Texas and Tennessee among the 10 most unequal states.\n",
      "\n",
      "=====\n",
      "\n",
      "Blue state knowledge economies are also extremely expensive to operate. Their\n",
      "innovative edge turns on a high-cost infrastructure of research universities and\n",
      "knowledge institutions -- a portion of which demand public subsidy. Their size\n",
      "and density require expensive subway and transit systems to move people around.\n",
      "Blue state cities like New York and San Francisco are booming, but they are\n",
      "hampered by potholes and crumbling infrastructure, troubled public school\n",
      "systems, growing inequality and housing unaffordability, and entrenched poor\n",
      "populations, all of which mean higher public costs and higher tax burdens.\n",
      "\n",
      "=====\n",
      "\n",
      "And yet for all that, they are pioneering the new economic order that will\n",
      "determine our future -- one that turns on innovation and knowledge rather than\n",
      "the raw production of goods.\n",
      "\n",
      "=====\n",
      "\n",
      "Despite their longstanding divisions, red state and blue state economies depend\n",
      "crucially on one another. Just as Alexander Hamilton's merchant cities ate and\n",
      "exported the harvests of Thomas Jefferson's yeomen farmers, and New England\n",
      "textile mills wove slave-harvested cotton, blue state knowledge economies run on\n",
      "red state energy. Red state energy economies in their turn depend on dense\n",
      "coastal cities and metro areas, not just as markets and sources of migrants, but\n",
      "for the technology and talent they supply.\n",
      "\n",
      "=====\n",
      "\n",
      "Of course, while Massachusetts and Mississippi represent the extremes of\n",
      "America's politico-economic divide, there are many red states like Utah, Arizona\n",
      "and Texas that are growing their tech and knowledge economies, and a number of\n",
      "historically blue states like Pennsylvania that have benefited from the fracking\n",
      "boom. But in our increasingly competitive global economy, long-term prosperity\n",
      "turns on knowledge, education and innovation. The idea that the red states can\n",
      "enjoy the benefits provided by the blue states without helping to pay for them\n",
      "(and while poaching their industries with the promise of low taxes and\n",
      "regulations) is as irresponsible and destructive of our national future as it is\n",
      "hypocritical.\n",
      "\n",
      "=====\n",
      "\n",
      "But that is exactly the mantra of the growing ranks of red state politicos. Gov.\n",
      "Rick Perry of Texas, a likely 2016 G.O.P. presidential candidate, has taken to\n",
      "bragging that his state's low-frills development strategy provides a model for\n",
      "the nation as a whole. But fracking and sprawling your way to growth aren't a\n",
      "sustainable national economic strategy.\n",
      "\n",
      "=====\n",
      "\n",
      "The allure of cheap growth has handed the red states a distinct political\n",
      "advantage. Their economic system may be outmoded and obsolete, but it is strong\n",
      "enough to blight the future. The Democrats may be able to draw on the country's\n",
      "growing demographic diversity and the liberal leanings of younger voters to win\n",
      "the presidency from time to time, but the real power dynamic is red.\n",
      "\n",
      "=====\n",
      "\n",
      "As long as the highly gerrymandered red states can keep on delivering the\n",
      "economic goods to their voters, concerted federal action on transportation,\n",
      "infrastructure, sustainability, education, a rational immigration policy and a\n",
      "strengthened social safety net will remain out of reach. These are investments\n",
      "that the future prosperity of the nation, in red states and blue states alike,\n",
      "requires.\n",
      "\n",
      "=====\n",
      "\n",
      "Heightened partisan rancor is the least of our problems. The red state-blue\n",
      "state divide threatens to kill the real American dream.\n",
      "\n",
      "=====\n",
      "\n",
      "\n",
      "\n",
      "=====\n",
      "\n",
      "\n",
      "URL:\n",
      "http://www.nytimes.com/2015/01/04/opinion/sunday/is-life-better-in-americas-red-\n",
      "states.html\n",
      "\n",
      "=====\n",
      "\n",
      "GRAPHIC: CHART: Where Housing Is Cheapest: Of the most affordable of the 100\n",
      "largest markets, almost all are politically red, or rust-belt cities that are\n",
      "politically blue. (Sources: Jed Kolko, chief economist,Trulia (affordability\n",
      "analysis)\n",
      "  Office of Management  and Budget (metropolitan  divisions))\n",
      "\n",
      "=====\n",
      "\n",
      "LANGUAGE: ENGLISH\n",
      "\n",
      "=====\n",
      "\n",
      "DOCUMENT-TYPE: Op-Ed\n",
      "\n",
      "=====\n",
      "\n",
      "PUBLICATION-TYPE: Newspaper\n",
      "\n",
      "=====\n",
      "\n",
      "SUBJECT: POLITICAL PARTIES (90%); SUBURBS (89%); COST OF LIVING (89%); VOTERS &\n",
      "VOTING (89%); TAXES & TAXATION (88%); WAGES & SALARIES (88%); ELECTIONS (78%);\n",
      "US REPUBLICAN PARTY (78%); CAMPAIGNS & ELECTIONS (78%); CONSERVATISM (78%);\n",
      "MIDTERM ELECTIONS (78%); POLITICS (78%); US DEMOCRATIC PARTY (78%); LIBERALISM\n",
      "(78%); LAND USE PLANNING (77%); POOR POPULATION (77%); LIVING STANDARDS (76%);\n",
      "US STATE GOVERNMENT (75%); SERVICE WORKERS (74%); MINIMUM WAGE (74%);\n",
      "EDUCATIONAL INSTITUTION EMPLOYEES (74%); MIDDLE INCOME PERSONS (72%);\n",
      "REFERENDUMS (72%); ELECTORAL DISTRICTS (72%); HYDRAULIC FRACTURING (72%); REAL\n",
      "PROPERTY LAW (69%); CIVIL SERVICES (67%); OIL EXTRACTION (67%); POVERTY &\n",
      "HOMELESSNESS (67%); TEACHING & TEACHERS (60%); POVERTY RATES (52%)\n",
      "\n",
      "=====\n",
      "\n",
      "COMPANY: TRULIA INC (56%)\n",
      "\n",
      "=====\n",
      "\n",
      "ORGANIZATION: OFFICE OF MANAGEMENT & BUDGET (59%)\n",
      "\n",
      "=====\n",
      "\n",
      "STATE: NEW YORK, USA (79%); TEXAS, USA (79%); CALIFORNIA, USA (79%); ILLINOIS,\n",
      "USA (79%)\n",
      "\n",
      "=====\n",
      "\n",
      "COUNTRY: UNITED STATES (97%)\n",
      "\n",
      "=====\n",
      "\n",
      "LOAD-DATE: February 3, 2015\n",
      "\n",
      "=====\n",
      "\n",
      "\n",
      "                   Copyright 2015 The New York Times Company\n",
      "\n"
     ]
    }
   ],
   "source": [
    "print('\\n\\n=====\\n\\n'.join(doc.split('\\n\\n')))"
   ]
  },
  {
   "cell_type": "code",
   "execution_count": null,
   "metadata": {
    "collapsed": true
   },
   "outputs": [],
   "source": []
  }
 ],
 "metadata": {
  "kernelspec": {
   "display_name": "Python 3",
   "language": "python",
   "name": "python3"
  },
  "language_info": {
   "codemirror_mode": {
    "name": "ipython",
    "version": 3
   },
   "file_extension": ".py",
   "mimetype": "text/x-python",
   "name": "python",
   "nbconvert_exporter": "python",
   "pygments_lexer": "ipython3",
   "version": "3.4.4"
  }
 },
 "nbformat": 4,
 "nbformat_minor": 0
}
