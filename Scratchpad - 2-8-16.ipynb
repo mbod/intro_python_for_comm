{
 "cells": [
  {
   "cell_type": "markdown",
   "metadata": {},
   "source": [
    "# Scratchpad Notebook - 2/8/16\n",
    "\n",
    "* item 1\n",
    "* item 2\n",
    "* item 3"
   ]
  },
  {
   "cell_type": "code",
   "execution_count": 5,
   "metadata": {
    "collapsed": true
   },
   "outputs": [],
   "source": [
    "a = 10"
   ]
  },
  {
   "cell_type": "code",
   "execution_count": 6,
   "metadata": {
    "collapsed": false
   },
   "outputs": [
    {
     "data": {
      "text/plain": [
       "10"
      ]
     },
     "execution_count": 6,
     "metadata": {},
     "output_type": "execute_result"
    }
   ],
   "source": [
    "a"
   ]
  },
  {
   "cell_type": "code",
   "execution_count": 7,
   "metadata": {
    "collapsed": false
   },
   "outputs": [
    {
     "data": {
      "text/plain": [
       "int"
      ]
     },
     "execution_count": 7,
     "metadata": {},
     "output_type": "execute_result"
    }
   ],
   "source": [
    "type(a)"
   ]
  },
  {
   "cell_type": "code",
   "execution_count": 11,
   "metadata": {
    "collapsed": false
   },
   "outputs": [],
   "source": [
    "s='This is a string'"
   ]
  },
  {
   "cell_type": "code",
   "execution_count": 15,
   "metadata": {
    "collapsed": false
   },
   "outputs": [],
   "source": [
    "s=\"This is a string\""
   ]
  },
  {
   "cell_type": "code",
   "execution_count": 16,
   "metadata": {
    "collapsed": false
   },
   "outputs": [
    {
     "data": {
      "text/plain": [
       "str"
      ]
     },
     "execution_count": 16,
     "metadata": {},
     "output_type": "execute_result"
    }
   ],
   "source": [
    "type(s)"
   ]
  },
  {
   "cell_type": "code",
   "execution_count": 17,
   "metadata": {
    "collapsed": false
   },
   "outputs": [
    {
     "data": {
      "text/plain": [
       "['__add__',\n",
       " '__class__',\n",
       " '__contains__',\n",
       " '__delattr__',\n",
       " '__dir__',\n",
       " '__doc__',\n",
       " '__eq__',\n",
       " '__format__',\n",
       " '__ge__',\n",
       " '__getattribute__',\n",
       " '__getitem__',\n",
       " '__getnewargs__',\n",
       " '__gt__',\n",
       " '__hash__',\n",
       " '__init__',\n",
       " '__iter__',\n",
       " '__le__',\n",
       " '__len__',\n",
       " '__lt__',\n",
       " '__mod__',\n",
       " '__mul__',\n",
       " '__ne__',\n",
       " '__new__',\n",
       " '__reduce__',\n",
       " '__reduce_ex__',\n",
       " '__repr__',\n",
       " '__rmod__',\n",
       " '__rmul__',\n",
       " '__setattr__',\n",
       " '__sizeof__',\n",
       " '__str__',\n",
       " '__subclasshook__',\n",
       " 'capitalize',\n",
       " 'casefold',\n",
       " 'center',\n",
       " 'count',\n",
       " 'encode',\n",
       " 'endswith',\n",
       " 'expandtabs',\n",
       " 'find',\n",
       " 'format',\n",
       " 'format_map',\n",
       " 'index',\n",
       " 'isalnum',\n",
       " 'isalpha',\n",
       " 'isdecimal',\n",
       " 'isdigit',\n",
       " 'isidentifier',\n",
       " 'islower',\n",
       " 'isnumeric',\n",
       " 'isprintable',\n",
       " 'isspace',\n",
       " 'istitle',\n",
       " 'isupper',\n",
       " 'join',\n",
       " 'ljust',\n",
       " 'lower',\n",
       " 'lstrip',\n",
       " 'maketrans',\n",
       " 'partition',\n",
       " 'replace',\n",
       " 'rfind',\n",
       " 'rindex',\n",
       " 'rjust',\n",
       " 'rpartition',\n",
       " 'rsplit',\n",
       " 'rstrip',\n",
       " 'split',\n",
       " 'splitlines',\n",
       " 'startswith',\n",
       " 'strip',\n",
       " 'swapcase',\n",
       " 'title',\n",
       " 'translate',\n",
       " 'upper',\n",
       " 'zfill']"
      ]
     },
     "execution_count": 17,
     "metadata": {},
     "output_type": "execute_result"
    }
   ],
   "source": [
    "dir(s)"
   ]
  },
  {
   "cell_type": "code",
   "execution_count": 20,
   "metadata": {
    "collapsed": false
   },
   "outputs": [],
   "source": [
    "supper=s.upper()"
   ]
  },
  {
   "cell_type": "code",
   "execution_count": 22,
   "metadata": {
    "collapsed": false
   },
   "outputs": [
    {
     "data": {
      "text/plain": [
       "'this is a string'"
      ]
     },
     "execution_count": 22,
     "metadata": {},
     "output_type": "execute_result"
    }
   ],
   "source": [
    "supper.lower()"
   ]
  },
  {
   "cell_type": "code",
   "execution_count": 23,
   "metadata": {
    "collapsed": false
   },
   "outputs": [
    {
     "data": {
      "text/plain": [
       "'This Is A String'"
      ]
     },
     "execution_count": 23,
     "metadata": {},
     "output_type": "execute_result"
    }
   ],
   "source": [
    "s.title()"
   ]
  },
  {
   "cell_type": "code",
   "execution_count": 24,
   "metadata": {
    "collapsed": false
   },
   "outputs": [
    {
     "data": {
      "text/plain": [
       "'tHIS IS A STRING'"
      ]
     },
     "execution_count": 24,
     "metadata": {},
     "output_type": "execute_result"
    }
   ],
   "source": [
    "s.swapcase()"
   ]
  },
  {
   "cell_type": "code",
   "execution_count": 25,
   "metadata": {
    "collapsed": false
   },
   "outputs": [
    {
     "data": {
      "text/plain": [
       "'This is a string'"
      ]
     },
     "execution_count": 25,
     "metadata": {},
     "output_type": "execute_result"
    }
   ],
   "source": [
    "s"
   ]
  },
  {
   "cell_type": "code",
   "execution_count": 27,
   "metadata": {
    "collapsed": false
   },
   "outputs": [
    {
     "data": {
      "text/plain": [
       "False"
      ]
     },
     "execution_count": 27,
     "metadata": {},
     "output_type": "execute_result"
    }
   ],
   "source": [
    "s.startswith('t')"
   ]
  },
  {
   "cell_type": "code",
   "execution_count": 28,
   "metadata": {
    "collapsed": false
   },
   "outputs": [
    {
     "data": {
      "text/plain": [
       "True"
      ]
     },
     "execution_count": 28,
     "metadata": {},
     "output_type": "execute_result"
    }
   ],
   "source": [
    "s.startswith('T')"
   ]
  },
  {
   "cell_type": "code",
   "execution_count": 31,
   "metadata": {
    "collapsed": false
   },
   "outputs": [
    {
     "data": {
      "text/plain": [
       "True"
      ]
     },
     "execution_count": 31,
     "metadata": {},
     "output_type": "execute_result"
    }
   ],
   "source": [
    "s.lower().startswith('t')"
   ]
  },
  {
   "cell_type": "code",
   "execution_count": 35,
   "metadata": {
    "collapsed": false
   },
   "outputs": [
    {
     "data": {
      "text/plain": [
       "2"
      ]
     },
     "execution_count": 35,
     "metadata": {},
     "output_type": "execute_result"
    }
   ],
   "source": [
    "s.lower().count('t')"
   ]
  },
  {
   "cell_type": "code",
   "execution_count": 33,
   "metadata": {
    "collapsed": false
   },
   "outputs": [
    {
     "data": {
      "text/plain": [
       "'This is a string'"
      ]
     },
     "execution_count": 33,
     "metadata": {},
     "output_type": "execute_result"
    }
   ],
   "source": [
    "s"
   ]
  },
  {
   "cell_type": "code",
   "execution_count": 34,
   "metadata": {
    "collapsed": false
   },
   "outputs": [
    {
     "data": {
      "text/plain": [
       "3"
      ]
     },
     "execution_count": 34,
     "metadata": {},
     "output_type": "execute_result"
    }
   ],
   "source": [
    "s.count('i')"
   ]
  },
  {
   "cell_type": "code",
   "execution_count": 36,
   "metadata": {
    "collapsed": false
   },
   "outputs": [
    {
     "name": "stdout",
     "output_type": "stream",
     "text": [
      "Help on built-in function count:\n",
      "\n",
      "count(...) method of builtins.str instance\n",
      "    S.count(sub[, start[, end]]) -> int\n",
      "    \n",
      "    Return the number of non-overlapping occurrences of substring sub in\n",
      "    string S[start:end].  Optional arguments start and end are\n",
      "    interpreted as in slice notation.\n",
      "\n"
     ]
    }
   ],
   "source": [
    "help(s.count)"
   ]
  },
  {
   "cell_type": "code",
   "execution_count": 37,
   "metadata": {
    "collapsed": false
   },
   "outputs": [
    {
     "data": {
      "text/plain": [
       "'This is a string'"
      ]
     },
     "execution_count": 37,
     "metadata": {},
     "output_type": "execute_result"
    }
   ],
   "source": [
    "s"
   ]
  },
  {
   "cell_type": "code",
   "execution_count": 39,
   "metadata": {
    "collapsed": false
   },
   "outputs": [
    {
     "data": {
      "text/plain": [
       "'h'"
      ]
     },
     "execution_count": 39,
     "metadata": {},
     "output_type": "execute_result"
    }
   ],
   "source": [
    "s[1]"
   ]
  },
  {
   "cell_type": "code",
   "execution_count": 41,
   "metadata": {
    "collapsed": false
   },
   "outputs": [
    {
     "data": {
      "text/plain": [
       "'n'"
      ]
     },
     "execution_count": 41,
     "metadata": {},
     "output_type": "execute_result"
    }
   ],
   "source": [
    "s[-2]"
   ]
  },
  {
   "cell_type": "code",
   "execution_count": 42,
   "metadata": {
    "collapsed": false
   },
   "outputs": [
    {
     "data": {
      "text/plain": [
       "'Th'"
      ]
     },
     "execution_count": 42,
     "metadata": {},
     "output_type": "execute_result"
    }
   ],
   "source": [
    "s[0:2]"
   ]
  },
  {
   "cell_type": "code",
   "execution_count": 43,
   "metadata": {
    "collapsed": false
   },
   "outputs": [
    {
     "data": {
      "text/plain": [
       "'i'"
      ]
     },
     "execution_count": 43,
     "metadata": {},
     "output_type": "execute_result"
    }
   ],
   "source": [
    "s[2]"
   ]
  },
  {
   "cell_type": "code",
   "execution_count": 44,
   "metadata": {
    "collapsed": false
   },
   "outputs": [
    {
     "data": {
      "text/plain": [
       "'This is a string'"
      ]
     },
     "execution_count": 44,
     "metadata": {},
     "output_type": "execute_result"
    }
   ],
   "source": [
    "s"
   ]
  },
  {
   "cell_type": "code",
   "execution_count": 46,
   "metadata": {
    "collapsed": false
   },
   "outputs": [
    {
     "data": {
      "text/plain": [
       "'This'"
      ]
     },
     "execution_count": 46,
     "metadata": {},
     "output_type": "execute_result"
    }
   ],
   "source": [
    "s[0:4]"
   ]
  },
  {
   "cell_type": "code",
   "execution_count": 47,
   "metadata": {
    "collapsed": false
   },
   "outputs": [
    {
     "data": {
      "text/plain": [
       "'This'"
      ]
     },
     "execution_count": 47,
     "metadata": {},
     "output_type": "execute_result"
    }
   ],
   "source": [
    "s[:4]"
   ]
  },
  {
   "cell_type": "code",
   "execution_count": 48,
   "metadata": {
    "collapsed": false
   },
   "outputs": [
    {
     "data": {
      "text/plain": [
       "'s a string'"
      ]
     },
     "execution_count": 48,
     "metadata": {},
     "output_type": "execute_result"
    }
   ],
   "source": [
    "s[6:]"
   ]
  },
  {
   "cell_type": "code",
   "execution_count": 49,
   "metadata": {
    "collapsed": true
   },
   "outputs": [],
   "source": [
    "s2 = 'This is some longer text example. It has a few sentences in it. Today is Monday. Puppy Bowl is AWESOME!!!!!'"
   ]
  },
  {
   "cell_type": "code",
   "execution_count": 50,
   "metadata": {
    "collapsed": false
   },
   "outputs": [
    {
     "data": {
      "text/plain": [
       "'This is some longer text example. It has a few sentences in it. Today is Monday. Puppy Bowl is AWESOME!!!!!'"
      ]
     },
     "execution_count": 50,
     "metadata": {},
     "output_type": "execute_result"
    }
   ],
   "source": [
    "s2"
   ]
  },
  {
   "cell_type": "code",
   "execution_count": 51,
   "metadata": {
    "collapsed": false
   },
   "outputs": [
    {
     "data": {
      "text/plain": [
       "16"
      ]
     },
     "execution_count": 51,
     "metadata": {},
     "output_type": "execute_result"
    }
   ],
   "source": [
    "len(s)"
   ]
  },
  {
   "cell_type": "code",
   "execution_count": 53,
   "metadata": {
    "collapsed": false
   },
   "outputs": [
    {
     "name": "stdout",
     "output_type": "stream",
     "text": [
      "Help on built-in function split:\n",
      "\n",
      "split(...) method of builtins.str instance\n",
      "    S.split(sep=None, maxsplit=-1) -> list of strings\n",
      "    \n",
      "    Return a list of the words in S, using sep as the\n",
      "    delimiter string.  If maxsplit is given, at most maxsplit\n",
      "    splits are done. If sep is not specified or is None, any\n",
      "    whitespace string is a separator and empty strings are\n",
      "    removed from the result.\n",
      "\n"
     ]
    }
   ],
   "source": [
    "help(s2.split)"
   ]
  },
  {
   "cell_type": "code",
   "execution_count": 91,
   "metadata": {
    "collapsed": false
   },
   "outputs": [
    {
     "data": {
      "text/plain": [
       "['this',\n",
       " 'is',\n",
       " 'some',\n",
       " 'longer',\n",
       " 'text',\n",
       " 'example',\n",
       " 'it',\n",
       " 'has',\n",
       " 'a',\n",
       " 'few',\n",
       " 'sentences',\n",
       " 'in',\n",
       " 'it',\n",
       " 'today',\n",
       " 'is',\n",
       " 'monday',\n",
       " 'puppy',\n",
       " 'bowl',\n",
       " 'is',\n",
       " 'awesome']"
      ]
     },
     "execution_count": 91,
     "metadata": {},
     "output_type": "execute_result"
    }
   ],
   "source": [
    "s2.lower().replace('.','').replace('!','').split()"
   ]
  },
  {
   "cell_type": "code",
   "execution_count": 62,
   "metadata": {
    "collapsed": false
   },
   "outputs": [],
   "source": [
    "words = s2.split()"
   ]
  },
  {
   "cell_type": "code",
   "execution_count": 69,
   "metadata": {
    "collapsed": false
   },
   "outputs": [
    {
     "data": {
      "text/plain": [
       "['sentences',\n",
       " 'in',\n",
       " 'it.',\n",
       " 'Today',\n",
       " 'is',\n",
       " 'Monday.',\n",
       " 'Puppy',\n",
       " 'Bowl',\n",
       " 'is',\n",
       " 'AWESOME!!!!!']"
      ]
     },
     "execution_count": 69,
     "metadata": {},
     "output_type": "execute_result"
    }
   ],
   "source": [
    "words[10:]"
   ]
  },
  {
   "cell_type": "code",
   "execution_count": 70,
   "metadata": {
    "collapsed": false
   },
   "outputs": [
    {
     "data": {
      "text/plain": [
       "['__add__',\n",
       " '__class__',\n",
       " '__contains__',\n",
       " '__delattr__',\n",
       " '__delitem__',\n",
       " '__dir__',\n",
       " '__doc__',\n",
       " '__eq__',\n",
       " '__format__',\n",
       " '__ge__',\n",
       " '__getattribute__',\n",
       " '__getitem__',\n",
       " '__gt__',\n",
       " '__hash__',\n",
       " '__iadd__',\n",
       " '__imul__',\n",
       " '__init__',\n",
       " '__iter__',\n",
       " '__le__',\n",
       " '__len__',\n",
       " '__lt__',\n",
       " '__mul__',\n",
       " '__ne__',\n",
       " '__new__',\n",
       " '__reduce__',\n",
       " '__reduce_ex__',\n",
       " '__repr__',\n",
       " '__reversed__',\n",
       " '__rmul__',\n",
       " '__setattr__',\n",
       " '__setitem__',\n",
       " '__sizeof__',\n",
       " '__str__',\n",
       " '__subclasshook__',\n",
       " 'append',\n",
       " 'clear',\n",
       " 'copy',\n",
       " 'count',\n",
       " 'extend',\n",
       " 'index',\n",
       " 'insert',\n",
       " 'pop',\n",
       " 'remove',\n",
       " 'reverse',\n",
       " 'sort']"
      ]
     },
     "execution_count": 70,
     "metadata": {},
     "output_type": "execute_result"
    }
   ],
   "source": [
    "dir(words)"
   ]
  },
  {
   "cell_type": "code",
   "execution_count": 77,
   "metadata": {
    "collapsed": false
   },
   "outputs": [
    {
     "data": {
      "text/plain": [
       "['this',\n",
       " 'is',\n",
       " 'some',\n",
       " 'longer',\n",
       " 'text',\n",
       " 'example.',\n",
       " 'it',\n",
       " 'has',\n",
       " 'a',\n",
       " 'few',\n",
       " 'sentences',\n",
       " 'in',\n",
       " 'it.',\n",
       " 'today',\n",
       " 'is',\n",
       " 'monday.',\n",
       " 'puppy',\n",
       " 'bowl',\n",
       " 'is',\n",
       " 'awesome!!!!!']"
      ]
     },
     "execution_count": 77,
     "metadata": {},
     "output_type": "execute_result"
    }
   ],
   "source": [
    "words_lc=s2.lower().split()\n",
    "words_lc"
   ]
  },
  {
   "cell_type": "code",
   "execution_count": 78,
   "metadata": {
    "collapsed": false
   },
   "outputs": [
    {
     "data": {
      "text/plain": [
       "3"
      ]
     },
     "execution_count": 78,
     "metadata": {},
     "output_type": "execute_result"
    }
   ],
   "source": [
    "words_lc.count('is')"
   ]
  },
  {
   "cell_type": "code",
   "execution_count": 86,
   "metadata": {
    "collapsed": false
   },
   "outputs": [
    {
     "data": {
      "text/plain": [
       "'Ths s a strng'"
      ]
     },
     "execution_count": 86,
     "metadata": {},
     "output_type": "execute_result"
    }
   ],
   "source": [
    "s.replace('i','')"
   ]
  },
  {
   "cell_type": "code",
   "execution_count": 88,
   "metadata": {
    "collapsed": false
   },
   "outputs": [
    {
     "name": "stdout",
     "output_type": "stream",
     "text": [
      "this\n",
      "is\n",
      "some\n",
      "longer\n",
      "text\n",
      "example\n",
      "it\n",
      "has\n",
      "a\n",
      "few\n",
      "sentences\n",
      "in\n",
      "it\n",
      "today\n",
      "is\n",
      "monday\n",
      "puppy\n",
      "bowl\n",
      "is\n",
      "awesome\n"
     ]
    }
   ],
   "source": [
    "for w in words:\n",
    "    w2 = w.lower().replace('.','').replace('!','')\n",
    "    print(w2)"
   ]
  },
  {
   "cell_type": "code",
   "execution_count": 93,
   "metadata": {
    "collapsed": false
   },
   "outputs": [
    {
     "name": "stdout",
     "output_type": "stream",
     "text": [
      "['this', 'is', 'some', 'longer', 'text', 'example', 'it', 'has', 'a', 'few', 'sentences', 'in', 'it', 'today', 'is', 'monday', 'puppy', 'bowl', 'is', 'awesome']\n"
     ]
    }
   ],
   "source": [
    "words2 = []\n",
    "for w in words:\n",
    "    w2 = w.lower().replace('.','').replace('!','')\n",
    "    words2.append(w2)\n",
    "\n",
    "print(words2)"
   ]
  },
  {
   "cell_type": "code",
   "execution_count": 94,
   "metadata": {
    "collapsed": false
   },
   "outputs": [
    {
     "name": "stdout",
     "output_type": "stream",
     "text": [
      "['this', 'some', 'longer', 'text', 'example', 'has', 'few', 'sentences', 'today', 'monday', 'puppy', 'bowl', 'awesome']\n"
     ]
    }
   ],
   "source": [
    "words2 = []\n",
    "for w in words:\n",
    "    w2 = w.lower().replace('.','').replace('!','')\n",
    "    \n",
    "    if len(w2) > 2:\n",
    "        words2.append(w2)\n",
    "\n",
    "print(words2)"
   ]
  },
  {
   "cell_type": "code",
   "execution_count": 95,
   "metadata": {
    "collapsed": true
   },
   "outputs": [],
   "source": [
    "wordlist = ['is', 'it','some','a']"
   ]
  },
  {
   "cell_type": "code",
   "execution_count": 96,
   "metadata": {
    "collapsed": false
   },
   "outputs": [
    {
     "data": {
      "text/plain": [
       "['is', 'it', 'some', 'a']"
      ]
     },
     "execution_count": 96,
     "metadata": {},
     "output_type": "execute_result"
    }
   ],
   "source": [
    "wordlist"
   ]
  },
  {
   "cell_type": "code",
   "execution_count": 98,
   "metadata": {
    "collapsed": false
   },
   "outputs": [
    {
     "data": {
      "text/plain": [
       "False"
      ]
     },
     "execution_count": 98,
     "metadata": {},
     "output_type": "execute_result"
    }
   ],
   "source": [
    "'ist' in wordlist"
   ]
  },
  {
   "cell_type": "code",
   "execution_count": 99,
   "metadata": {
    "collapsed": false
   },
   "outputs": [
    {
     "name": "stdout",
     "output_type": "stream",
     "text": [
      "['is', 'some', 'it', 'a', 'it', 'is', 'is']\n"
     ]
    }
   ],
   "source": [
    "words3 = []\n",
    "for w in words:\n",
    "    w2 = w.lower().replace('.','').replace('!','')\n",
    "    \n",
    "    if w2 in wordlist:\n",
    "        words3.append(w2)\n",
    "\n",
    "print(words3)"
   ]
  },
  {
   "cell_type": "code",
   "execution_count": 104,
   "metadata": {
    "collapsed": false
   },
   "outputs": [],
   "source": [
    "words_lc = [ item.lower().replace('.','').replace('!','') for item in words ]"
   ]
  },
  {
   "cell_type": "code",
   "execution_count": 105,
   "metadata": {
    "collapsed": false
   },
   "outputs": [
    {
     "data": {
      "text/plain": [
       "['this',\n",
       " 'is',\n",
       " 'some',\n",
       " 'longer',\n",
       " 'text',\n",
       " 'example',\n",
       " 'it',\n",
       " 'has',\n",
       " 'a',\n",
       " 'few',\n",
       " 'sentences',\n",
       " 'in',\n",
       " 'it',\n",
       " 'today',\n",
       " 'is',\n",
       " 'monday',\n",
       " 'puppy',\n",
       " 'bowl',\n",
       " 'is',\n",
       " 'awesome']"
      ]
     },
     "execution_count": 105,
     "metadata": {},
     "output_type": "execute_result"
    }
   ],
   "source": [
    "words_lc"
   ]
  },
  {
   "cell_type": "code",
   "execution_count": 109,
   "metadata": {
    "collapsed": true
   },
   "outputs": [],
   "source": [
    "def transform_word(item):\n",
    "    item = item.lower()\n",
    "    item = item.replace('.','')\n",
    "    item = item.replace('!','')\n",
    "    \n",
    "    return item"
   ]
  },
  {
   "cell_type": "code",
   "execution_count": 110,
   "metadata": {
    "collapsed": false
   },
   "outputs": [
    {
     "data": {
      "text/plain": [
       "'aadsdsjjjfsfhsdfjh'"
      ]
     },
     "execution_count": 110,
     "metadata": {},
     "output_type": "execute_result"
    }
   ],
   "source": [
    "transform_word('...AADSDSjjjfsfhsdfjh!!!..')"
   ]
  },
  {
   "cell_type": "code",
   "execution_count": 111,
   "metadata": {
    "collapsed": false
   },
   "outputs": [],
   "source": [
    "words_in_wordlist = [ transform_word(item) for item in words if item in wordlist]"
   ]
  },
  {
   "cell_type": "code",
   "execution_count": 112,
   "metadata": {
    "collapsed": false
   },
   "outputs": [
    {
     "data": {
      "text/plain": [
       "['is', 'some', 'a', 'is', 'is']"
      ]
     },
     "execution_count": 112,
     "metadata": {},
     "output_type": "execute_result"
    }
   ],
   "source": [
    "words_in_wordlist"
   ]
  },
  {
   "cell_type": "code",
   "execution_count": 113,
   "metadata": {
    "collapsed": true
   },
   "outputs": [],
   "source": [
    "import re"
   ]
  },
  {
   "cell_type": "code",
   "execution_count": 114,
   "metadata": {
    "collapsed": false
   },
   "outputs": [
    {
     "data": {
      "text/plain": [
       "'This is some longer text example. It has a few sentences in it. Today is Monday. Puppy Bowl is AWESOME!!!!!'"
      ]
     },
     "execution_count": 114,
     "metadata": {},
     "output_type": "execute_result"
    }
   ],
   "source": [
    "s2"
   ]
  },
  {
   "cell_type": "code",
   "execution_count": 118,
   "metadata": {
    "collapsed": false
   },
   "outputs": [
    {
     "data": {
      "text/plain": [
       "['is', 'is', 'It', 'it', 'is', 'is']"
      ]
     },
     "execution_count": 118,
     "metadata": {},
     "output_type": "execute_result"
    }
   ],
   "source": [
    "re.findall('i[st]',s2, re.IGNORECASE)"
   ]
  },
  {
   "cell_type": "code",
   "execution_count": 120,
   "metadata": {
    "collapsed": false
   },
   "outputs": [
    {
     "data": {
      "text/plain": [
       "'ThXXX XXX some longer text example. It has a few sentences in it. Today is Monday. Puppy Bowl is AWESOME!!!!!'"
      ]
     },
     "execution_count": 120,
     "metadata": {},
     "output_type": "execute_result"
    }
   ],
   "source": [
    "re.sub('i[st]','XXX',s2, re.IGNORECASE)"
   ]
  },
  {
   "cell_type": "code",
   "execution_count": 122,
   "metadata": {
    "collapsed": false
   },
   "outputs": [
    {
     "data": {
      "text/plain": [
       "'This XXX some longer text example. It has a few sentences in XXX. Today is Monday. Puppy Bowl is AWESOME!!!!!'"
      ]
     },
     "execution_count": 122,
     "metadata": {},
     "output_type": "execute_result"
    }
   ],
   "source": [
    "re.sub('\\\\bi[st]','XXX',s2, re.IGNORECASE)"
   ]
  },
  {
   "cell_type": "code",
   "execution_count": 126,
   "metadata": {
    "collapsed": false
   },
   "outputs": [
    {
     "data": {
      "text/plain": [
       "['this',\n",
       " 'is',\n",
       " 'some',\n",
       " 'longer',\n",
       " 'text',\n",
       " 'example',\n",
       " 'it',\n",
       " 'has',\n",
       " 'a',\n",
       " 'few',\n",
       " 'sentences',\n",
       " 'in',\n",
       " 'it',\n",
       " 'today',\n",
       " 'is',\n",
       " 'monday',\n",
       " 'puppy',\n",
       " 'bowl',\n",
       " 'is',\n",
       " 'awesome']"
      ]
     },
     "execution_count": 126,
     "metadata": {},
     "output_type": "execute_result"
    }
   ],
   "source": [
    "tokens = re.findall('\\\\b\\\\w+\\\\b',s2.lower())\n",
    "tokens"
   ]
  },
  {
   "cell_type": "code",
   "execution_count": 127,
   "metadata": {
    "collapsed": true
   },
   "outputs": [],
   "source": [
    "types = set(tokens)"
   ]
  },
  {
   "cell_type": "code",
   "execution_count": 129,
   "metadata": {
    "collapsed": false
   },
   "outputs": [
    {
     "data": {
      "text/plain": [
       "17"
      ]
     },
     "execution_count": 129,
     "metadata": {},
     "output_type": "execute_result"
    }
   ],
   "source": [
    "len(types)"
   ]
  },
  {
   "cell_type": "code",
   "execution_count": 130,
   "metadata": {
    "collapsed": false
   },
   "outputs": [
    {
     "data": {
      "text/plain": [
       "20"
      ]
     },
     "execution_count": 130,
     "metadata": {},
     "output_type": "execute_result"
    }
   ],
   "source": [
    "len(tokens)"
   ]
  },
  {
   "cell_type": "code",
   "execution_count": 131,
   "metadata": {
    "collapsed": true
   },
   "outputs": [],
   "source": [
    "from collections import Counter"
   ]
  },
  {
   "cell_type": "code",
   "execution_count": 133,
   "metadata": {
    "collapsed": false
   },
   "outputs": [],
   "source": [
    "freqlist=Counter(tokens)"
   ]
  },
  {
   "cell_type": "code",
   "execution_count": 137,
   "metadata": {
    "collapsed": false
   },
   "outputs": [
    {
     "data": {
      "text/plain": [
       "[('is', 3), ('it', 2), ('longer', 1), ('example', 1), ('puppy', 1)]"
      ]
     },
     "execution_count": 137,
     "metadata": {},
     "output_type": "execute_result"
    }
   ],
   "source": [
    "freqlist.most_common(5)"
   ]
  },
  {
   "cell_type": "code",
   "execution_count": 138,
   "metadata": {
    "collapsed": false
   },
   "outputs": [
    {
     "data": {
      "text/plain": [
       "Counter({'a': 1,\n",
       "         'awesome': 1,\n",
       "         'bowl': 1,\n",
       "         'example': 1,\n",
       "         'few': 1,\n",
       "         'has': 1,\n",
       "         'in': 1,\n",
       "         'is': 3,\n",
       "         'it': 2,\n",
       "         'longer': 1,\n",
       "         'monday': 1,\n",
       "         'puppy': 1,\n",
       "         'sentences': 1,\n",
       "         'some': 1,\n",
       "         'text': 1,\n",
       "         'this': 1,\n",
       "         'today': 1})"
      ]
     },
     "execution_count": 138,
     "metadata": {},
     "output_type": "execute_result"
    }
   ],
   "source": [
    "freqlist"
   ]
  },
  {
   "cell_type": "code",
   "execution_count": 139,
   "metadata": {
    "collapsed": false
   },
   "outputs": [
    {
     "data": {
      "text/plain": [
       "3"
      ]
     },
     "execution_count": 139,
     "metadata": {},
     "output_type": "execute_result"
    }
   ],
   "source": [
    "freqlist['is']"
   ]
  },
  {
   "cell_type": "code",
   "execution_count": 140,
   "metadata": {
    "collapsed": true
   },
   "outputs": [],
   "source": [
    "import os"
   ]
  },
  {
   "cell_type": "code",
   "execution_count": 142,
   "metadata": {
    "collapsed": false
   },
   "outputs": [],
   "source": [
    "text = open('intro_python_for_comm/data/threebears.txt').read()"
   ]
  },
  {
   "cell_type": "code",
   "execution_count": 147,
   "metadata": {
    "collapsed": false
   },
   "outputs": [],
   "source": [
    "tokens2 = re.findall('\\\\b\\\\w+\\\\b',text.lower())"
   ]
  },
  {
   "cell_type": "code",
   "execution_count": 149,
   "metadata": {
    "collapsed": false
   },
   "outputs": [],
   "source": [
    "three_bears_list = Counter(tokens2)"
   ]
  },
  {
   "cell_type": "code",
   "execution_count": 150,
   "metadata": {
    "collapsed": false
   },
   "outputs": [
    {
     "data": {
      "text/plain": [
       "[('the', 34),\n",
       " ('she', 31),\n",
       " ('in', 14),\n",
       " ('and', 13),\n",
       " ('porridge', 10),\n",
       " ('chair', 10),\n",
       " ('s', 10),\n",
       " ('my', 9),\n",
       " ('bear', 9),\n",
       " ('someone', 9)]"
      ]
     },
     "execution_count": 150,
     "metadata": {},
     "output_type": "execute_result"
    }
   ],
   "source": [
    "three_bears_list.most_common(10)"
   ]
  },
  {
   "cell_type": "code",
   "execution_count": 151,
   "metadata": {
    "collapsed": false
   },
   "outputs": [
    {
     "data": {
      "text/plain": [
       "9"
      ]
     },
     "execution_count": 151,
     "metadata": {},
     "output_type": "execute_result"
    }
   ],
   "source": [
    "three_bears_list['bear']"
   ]
  },
  {
   "cell_type": "code",
   "execution_count": 152,
   "metadata": {
    "collapsed": true
   },
   "outputs": [],
   "source": [
    "import requests"
   ]
  },
  {
   "cell_type": "code",
   "execution_count": 153,
   "metadata": {
    "collapsed": true
   },
   "outputs": [],
   "source": [
    "resp = requests.get('http://nytimes.com')"
   ]
  },
  {
   "cell_type": "code",
   "execution_count": 155,
   "metadata": {
    "collapsed": false
   },
   "outputs": [],
   "source": [
    "news_text = resp.text"
   ]
  },
  {
   "cell_type": "code",
   "execution_count": 157,
   "metadata": {
    "collapsed": false
   },
   "outputs": [
    {
     "data": {
      "text/plain": [
       "'\\n   \\n  \\n  \\n  \\n\\n    The New York Times - Breaking News, World News & Multimedia\\n        window.NREUM||(NREUM={}),__nr_require=function(t,e,n){function r(n){if(!e[n]){var o=e[n]={exports:{}};t[n][0].call(o.exports,function(e){var o=t[n][1][e];return r(o||e)},o,o.exports)}return e[n].exports}if(\"function\"==typeof __nr_require)return __nr_require;for(var o=0;ou;u++)a[u].apply(i,r);return i}function u(t,e){p[t]=f(t).concat(e)}function f(t){return p[t]||[]}function s(){return r(c)}var p={};return{on:u,emit:c,create:s,listeners:f,context:e,_events:p}}function o(){return new n}var i=\"nr@context\",a=t(\"gos\");e.exports=r()},{gos:\"7eSDFh\"}],ee:[function(t,e){e.exports=t(\"QJf3ax\")},{}],3:[function(t,e){function n(t){return function(){r(t,[(new Date).getTime()].concat(i(arguments)))}}var r=t(\"handle\"),o=t(1),i=t(2);\"undefined\"==typeof window.newrelic&&(newrelic=window.NREUM);var a=[\"setPageViewName\",\"addPageAction\",\"setCustomAttribute\",\"finished\",\"addToTrace\",\"inlineHit\",\"noticeError\"];o(a,function(t,e){window.NREUM[e]=n(\"api-\"+e)}),e.exports=window.NREUM},{1:12,2:13,handle:\"D5DuLP\"}],gos:[function(t,e){e.exports=t(\"7eSDFh\")},{}],\"7eSDFh\":[function(t,e){function n(t,e,n){if(r.call(t,e))return t[e];var o=n();if(Object.defineProperty&&Object.keys)try{return Object.defineProperty(t,e,{value:o,writable:!0,enumerable:!1}),o}catch(i){}return t[e]=o,o}var r=Object.prototype.hasOwnProperty;e.exports=n},{}],D5DuLP:[function(t,e){function n(t,e,n){return r.listeners(t).length?r.emit(t,e,n):void(r.q&&(r.q[t]||(r.q[t]=[]),r.q[t].push(e)))}var r=t(\"ee\").create();e.exports=n,n.ee=r,r.q={}},{ee:\"QJf3ax\"}],handle:[function(t,e){e.exports=t(\"D5DuLP\")},{}],XL7HBI:[function(t,e){function n(t){var e=typeof t;return!t||\"object\"!==e&&\"function\"!==e?-1:t===window?0:i(t,o,function(){return r++})}var r=1,o=\"nr@id\",i=t(\"gos\");e.exports=n},{gos:\"7eSDFh\"}],id:[function(t,e){e.exports=t(\"XL7HBI\")},{}],G9z0Bl:[function(t,e){function n(){if(!v++){var t=l.info=NREUM.info,e=f.getElementsByTagName(\"script\")[0];if(t&&t.licenseKey&&t.applicationID&&e){c(p,function(e,n){t[e]||(t[e]=n)});var n=\"https\"===s.split(\":\")[0]||t.sslForHttp;l.proto=n?\"https://\":\"http://\",a(\"mark\",[\"onload\",i()]);var r=f.createElement(\"script\");r.src=l.proto+t.agent,e.parentNode.insertBefore(r,e)}}}function r(){\"complete\"===f.readyState&&o()}function o(){a(\"mark\",[\"domContent\",i()])}function i(){return(new Date).getTime()}var a=t(\"handle\"),c=t(1),u=window,f=u.document;t(2);var s=(\"\"+location).split(\"?\")[0],p={beacon:\"bam.nr-data.net\",errorBeacon:\"bam.nr-data.net\",agent:\"js-agent.newrelic.com/nr-852.min.js\"},d=window.XMLHttpRequest&&XMLHttpRequest.prototype&&XMLHttpRequest.prototype.addEventListener&&!/CriOS/.test(navigator.userAgent),l=e.exports={offset:i(),origin:s,features:{},xhrWrappable:d};f.addEventListener?(f.addEventListener(\"DOMContentLoaded\",o,!1),u.addEventListener(\"load\",n,!1)):(f.attachEvent(\"onreadystatechange\",r),u.attachEvent(\"onload\",n)),a(\"mark\",[\"firstbyte\",i()]);var v=0},{1:12,2:3,handle:\"D5DuLP\"}],loader:[function(t,e){e.exports=t(\"G9z0Bl\")},{}],12:[function(t,e){function n(t,e){var n=[],o=\"\",i=0;for(o in t)r.call(t,o)&&(n[i]=e(o,t[o]),i+=1);return n}var r=Object.prototype.hasOwnProperty;e.exports=n},{}],13:[function(t,e){function n(t,e,n){e||(e=0),\"undefined\"==typeof n&&(n=t?t.length:0);for(var r=-1,o=n-e||0,i=Array(0>o?0:o);++r\\n\\n\\n\\n\\n\\n\\n\\n\\n\\n\\n\\n\\n\\n\\n\\n\\n\\n\\n\\n\\n\\n\\n\\n\\n\\n\\n\\n\\n\\n\\n\\n\\n\\n\\n\\n\\n    \\n             \\n    \\n\\n\\n    \\n\\n        var googletag=googletag||{};googletag.cmd=googletag.cmd||[],function(){var t=document.createElement(\"script\");t.async=!0,t.type=\"text/javascript\";var e=\"https:\"==document.location.protocol;t.src=(e?\"https:\":\"http:\")+\"//www.googletagservices.com/tag/js/gpt.js\";var o=document.getElementsByTagName(\"script\")[0];o.parentNode.insertBefore(t,o)}();\\n\\ntry{Typekit.load();}catch(e){}\\n\\n\\n\\n[\\n    {\\n        \"testId\": \"0012\",\\n        \"testName\": \"tallWatchingModule\",\\n        \"throttle\": \"1.0\",\\n        \"allocation\": \"0.9\",\\n        \"variants\": \"1\",\\n        \"applications\": [\\n            \"homepage\"\\n        ],\\n        \"isEnabled\": true\\n    },\\n    {\\n        \"testId\": \"0033\",\\n        \"testName\": \"recommendedLabelTest\",\\n        \"throttle\": \"1\",\\n        \"allocation\": \"0.833\",\\n        \"variants\": \"5\",\\n        \"applications\": [\\n            \"article\"\\n        ],\\n        \"isEnabled\": true\\n    },\\n    {\\n        \"testId\": \"0036\",\\n        \"testName\": \"velcroSocialFollow\",\\n        \"throttle\": \"0.1\",\\n        \"allocation\": \"0.5\",\\n        \"variants\": \"1\",\\n        \"applications\": [\\n            \"article\",\\n            \"homepage\"\\n        ],\\n        \"isEnabled\": true\\n    },\\n    {\\n        \"testId\": \"0051\",\\n        \"testName\": \"shuffleRecommendations\",\\n        \"throttle\": \"1.0\",\\n        \"allocation\": \"0.667\",\\n        \"variants\": \"1\",\\n        \"applications\": [\\n            \"article\"\\n        ],\\n        \"isEnabled\": true\\n    },\\n    {\\n        \"testId\": \"0052\",\\n        \"testName\": \"paidPostDriver\",\\n        \"throttle\": \"1.0\",\\n        \"allocation\": \"0.875\",\\n        \"variants\": \"7\",\\n        \"applications\": [\\n            \"article\"\\n        ],\\n        \"isEnabled\": true\\n    },\\n    {\\n        \"testId\": \"0061\",\\n        \"testName\": \"paidPostFivePackMock\",\\n        \"throttle\": \"0\",\\n        \"allocation\": \"0\",\\n        \"variants\": \"1\",\\n        \"applications\": [\\n            \"homepage\"\\n        ],\\n        \"isEnabled\": true\\n    },\\n    {\\n        \"testId\": \"0063\",\\n        \"testName\": \"paidPostFivePack\",\\n        \"throttle\": \"1\",\\n        \"allocation\": \"0.5\",\\n        \"variants\": \"1\",\\n        \"applications\": [\\n            \"homepage\"\\n        ],\\n        \"isEnabled\": true\\n    },\\n    {\\n        \"testId\": \"0064\",\\n        \"testName\": \"realEstateSearch\",\\n        \"throttle\": \"1\",\\n        \"allocation\": \"1\",\\n        \"variants\": \"1\",\\n        \"applications\": [\\n            \"realestate\",\\n            \"article\"\\n        ],\\n        \"isEnabled\": true\\n    },\\n    {\\n        \"testId\": \"0066\",\\n        \"testName\": \"ribbonChartbeatMostEmailed\",\\n        \"throttle\": \"1\",\\n        \"allocation\": \"0.5\",\\n        \"variants\": \"1\",\\n        \"applications\": [\\n            \"article\"\\n        ],\\n        \"isEnabled\": true\\n    },\\n    {\\n        \"testId\": \"0067\",\\n        \"testName\": \"pinnedMasthead\",\\n        \"throttle\": \"0.02\",\\n        \"allocation\": \"0.5\",\\n        \"variants\": \"1\",\\n        \"applications\": [\\n            \"homepage\"\\n        ],\\n        \"isEnabled\": true\\n    },\\n    {\\n        \"testId\": \"0069\",\\n        \"testName\": \"coloredSharetools\",\\n        \"throttle\": \"1\",\\n        \"allocation\": \"0.5\",\\n        \"variants\": \"1\",\\n        \"applications\": [\\n            \"slideshow\"\\n        ],\\n        \"isEnabled\": true\\n    },\\n    {\\n        \"testId\": \"0074\",\\n        \"testName\": \"simpleExtendedByline\",\\n        \"throttle\": \"1\",\\n        \"allocation\": \"0.5\",\\n        \"variants\": \"1\",\\n        \"applications\": [\\n            \"article\"\\n        ],\\n        \"isEnabled\": false\\n    },\\n    {\\n        \"testId\": \"0076\",\\n        \"testName\": \"hpPrototype\",\\n        \"throttle\": \"0.1\",\\n        \"allocation\": \"0.5\",\\n        \"variants\": \"1\",\\n        \"applications\": [\\n            \"homepage\"\\n        ],\\n        \"isEnabled\": false\\n    },\\n    {\\n        \"testId\": \"0079\",\\n        \"testName\": \"showUserSubscriptions\",\\n        \"throttle\": \"0.5\",\\n        \"allocation\": \"0.5\",\\n        \"variants\": \"1\",\\n        \"applications\": [\\n            \"homepage\"\\n        ],\\n        \"isEnabled\": true\\n    },\\n    {\\n        \"testId\": \"0080\",\\n        \"testName\": \"hideWatchingHeader\",\\n        \"throttle\": \"0.5\",\\n        \"allocation\": \"0.5\",\\n        \"variants\": \"1\",\\n        \"applications\": [\\n            \"homepage\"\\n        ],\\n        \"isEnabled\": true\\n    },\\n    {\\n        \"testId\": \"0081\",\\n        \"testName\": \"EOArelated\",\\n        \"throttle\": \"1\",\\n        \"allocation\": \"0.8\",\\n        \"variants\": \"1\",\\n        \"applications\": [\\n            \"article\"\\n        ],\\n        \"isEnabled\": false\\n    },\\n    {\\n        \"testId\": \"0082\",\\n        \"testName\": \"homepageTrending\",\\n        \"throttle\": \"1\",\\n        \"allocation\": \"1\",\\n        \"variants\": \"1\",\\n        \"applications\": [\\n            \"homepage\"\\n        ],\\n        \"isEnabled\": false\\n    }\\n]\\n\\n\\n\\n\\n{ \"meta\": {},\\n  \"data\": {\\n    \"id\": \"0\",\\n    \"name\": \"\",\\n    \"subscription\": [],\\n    \"demographics\": {}\\n  }\\n}\\n\\n\\n\\nvar require = {\\n    baseUrl: \\'http://a1.nyt.com/assets/\\',\\n    waitSeconds: 20,\\n    paths: {\\n        \\'foundation\\': \\'homepage/20160204-153812/js/foundation\\',\\n        \\'shared\\': \\'homepage/20160204-153812/js/shared\\',\\n        \\'homepage\\': \\'homepage/20160204-153812/js/homepage\\',\\n        \\'application\\': \\'homepage/20160204-153812/js/homepage/\\',\\n        \\'videoFactory\\': \\'http://static01.nyt.com/js2/build/video/2.0/videofactoryrequire\\',\\n        \\'videoPlaylist\\': \\'http://static01.nyt.com/js2/build/video/players/extended/2.0/appRequire\\',\\n        \\'auth/mtr\\': \\'http://static01.nyt.com/js/mtr\\',\\n        \\'auth/growl\\': \\'http://static01.nyt.com/js/auth/growl/default\\',\\n        \\'vhs\\': \\'http://static01.nyt.com/video/vhs/build/vhs-2.x.min\\'\\n    }\\n};\\n\\n \\n\\n\\n\\n\\n    require.map = { \\'*\\': { \\'foundation/main\\': \\'foundation/legacy_main\\' } };\\n\\n\\n\\n\\nwindow.magnum.processFlags([\"limitFabrikSave\",\"moreFollowSuggestions\",\"unfollowComments\",\"homepageOpinionKickerCss\",\"followFeature\",\"allTheEmphases\",\"videoVHSCover\",\"videoVHSHomepageCover\",\"videoVHSHomepageNewControls\",\"videoVHSNewControls\",\"additionalOpinionRegions\",\"hpViewability\",\"miniNavCount\",\"newsEventHierarchy\",\"freeTrial\",\"insiderLaunch\",\"showUserSubscriptions\",\"ABConfigToggle\"]);\\n\\n\\n\\n    \\n    \\n    .lt-ie10 .messenger.suggestions {\\n        display: block !important;\\n        height: 50px;\\n    }\\n\\n    .lt-ie10 .messenger.suggestions .message-bed {\\n        background-color: #f8e9d2;\\n        border-bottom: 1px solid #ccc;\\n    }\\n\\n    .lt-ie10 .messenger.suggestions .message-container {\\n        padding: 11px 18px 11px 30px;\\n    }\\n\\n    .lt-ie10 .messenger.suggestions .action-link {\\n        font-family: \"nyt-franklin\", arial, helvetica, sans-serif;\\n        font-size: 10px;\\n        font-weight: bold;\\n        color: #a81817;\\n        text-transform: uppercase;\\n    }\\n\\n    .lt-ie10 .messenger.suggestions .alert-icon {\\n        background: url(\\'http://i1.nyt.com/images/icons/icon-alert-12x12-a81817.png\\') no-repeat;\\n        width: 12px;\\n        height: 12px;\\n        display: inline-block;\\n        margin-top: -2px;\\n        float: none;\\n    }\\n\\n    .lt-ie10 .masthead,\\n    .lt-ie10 .navigation,\\n    .lt-ie10 .comments-panel {\\n        margin-top: 50px !important;\\n    }\\n\\n    .lt-ie10 .ribbon {\\n        margin-top: 97px !important;\\n    }\\n\\n\\n    \\n        \\n            \\n                \\n                    NYTimes.com no longer supports Internet Explorer 9 or earlier. Please upgrade your browser.\\n                    LEARN MORE »\\n                \\n            \\n        \\n    \\n\\n\\n    \\n    \\n\\n    \\n\\n    \\n\\n    \\n\\n        \\n\\n            \\n\\n                \\n                    Sections\\n                \\n                \\n                    Search\\n                \\n                Skip to content\\n                Skip to navigation\\n            \\n\\n            \\n\\n                \\n\\n                \\n                    Subscribe Now\\n                    Log In\\n                    0\\n                    \\n                        Settings\\n                    \\n                \\n\\n            \\n\\n        \\n\\n    \\n\\n    \\n\\n        \\n\\n            \\n                                    U.S.\\n                    International\\n                \\n                中文\\n            \\n\\n        \\n\\n        \\n        \\n\\n        \\n    \\n        \\n    \\n\\n\\n        \\n            Monday, February 8, 2016Today’s PaperVideo\\n        \\n\\n    \\n\\n    \\n    Quick Site Sections Navigation\\n    \\n        \\n            \\n                \\n                Sections\\n            \\n        \\n            \\n                \\n                Search\\n            \\n        \\n            \\n                \\n                    World\\n                \\n\\n            \\n                \\n                    U.S.\\n                \\n\\n            \\n                \\n                    Politics\\n                \\n\\n            \\n                \\n                    N.Y.\\n                \\n\\n            \\n                \\n                    Business\\n                \\n\\n            \\n                \\n                    Business\\n                \\n\\n            \\n                \\n                    Opinion\\n                \\n\\n            \\n                \\n                    Opinion\\n                \\n\\n            \\n                \\n                    Tech\\n                \\n\\n            \\n                \\n                    Science\\n                \\n\\n            \\n                \\n                    Health\\n                \\n\\n            \\n                \\n                    Sports\\n                \\n\\n            \\n                \\n                    Sports\\n                \\n\\n            \\n                \\n                    Arts\\n                \\n\\n            \\n                \\n                    Arts\\n                \\n\\n            \\n                \\n                    Style\\n                \\n\\n            \\n                \\n                    Style\\n                \\n\\n            \\n                \\n                    Food\\n                \\n\\n            \\n                \\n                    Food\\n                \\n\\n            \\n                \\n                    Travel\\n                \\n\\n            \\n                \\n                    Magazine\\n                \\n\\n            \\n                \\n                    T Magazine\\n                \\n\\n            \\n                \\n                    Real Estate\\n                \\n\\n                        all\\n    \\n\\n    \\n    Close search\\n    \\n        \\n            search sponsored by\\n        \\n    \\n    \\n    Site Search Navigation\\n    \\n        \\n            \\n                                Search NYTimes.com\\n                            \\n            \\n                                \\n                \\n                Clear this text input\\n                \\n                    \\n                \\n                Go\\n            \\n        \\n    \\n\\n\\n\\n\\n    \\n\\n\\n\\n                    \\n    Site Navigation\\n\\n\\n\\n    Site Mobile Navigation\\n\\n\\n    \\n    \\n                \\n                                    \\n\\n\\n\\n    \\n        \\n            \\r\\n\\r\\n\\r\\n\\r\\n\\r\\n\\r\\n\\r\\n/* Fix MM icons in kickers */\\r\\n.kicker .icon:before { top: 0px; }\\r\\n.kicker .media.slideshow { margin-bottom: 0px; }\\r\\n\\r\\n\\r\\n\\r\\n/* Hiding Hacks */\\r\\n\\r\\n.nythpHideKickers .kicker, .nythpHideBylines .byline, .nythpHideTimestamps .timestamp {\\r\\n    display: none;\\r\\n}\\r\\n\\r\\n/* banner hed modifications */\\r\\n.span-ab-top-region .story.theme-summary .story-heading {\\r\\n  line-height: 2.1rem;\\r\\n}\\r\\n\\r\\n\\r\\n/* Alterations to the Centered Feature Photo Spot Treatment */\\r\\n\\r\\n.b-column .photo-spot-region .story.theme-feature .story-heading {\\r\\n    font-size: 1.35rem;\\r\\n    line-height: 1.65rem;\\r\\n}\\r\\n\\r\\n.b-column  .photo-spot-region .story.theme-feature .story-heading {\\r\\n    padding: 0 22px; /* for headline wrapping  */\\r\\n}\\r\\n.b-column .photo-spot-region .story.theme-feature .summary {\\r\\n    line-height: 18px;\\r\\n}\\r\\n\\r\\n/* Breaking News/Developing Headers */\\r\\n.nythpBreaking {\\r\\n\\tcolor: #A81817;\\r\\n\\tborder-top: 3px solid #A81817;\\r\\n\\tpadding-top: 2px;\\r\\n\\tpadding-bottom: 3px;\\r\\n        margin-top: 12px;\\r\\n}\\r\\n\\r\\n.nythpBreaking h6 {\\r\\n\\ttext-transform: uppercase;\\r\\n\\tfont-family: \"nyt-franklin\",arial,helvetica,sans-serif;\\r\\n\\tfont-weight: 700;\\r\\n}\\r\\n\\r\\n.nythpDeveloping {\\r\\n\\tcolor: #FD8249;\\r\\n\\tborder-top-color: #FD8249;\\r\\n}\\r\\n\\r\\n.nythpBreaking.nythpNoRule {\\r\\n\\tborder: none;\\r\\n        margin-top: 0px;\\r\\n}\\r\\n\\r\\n.above-banner-region .nythpBreaking {\\r\\nmargin-bottom: 10px;\\r\\n}\\r\\n\\r\\n/* Daypart Styles */\\r\\n\\r\\n.pocket-region .story, .c-column #nythpDaypartRegion .story { margin-bottom: 15px !important; }\\r\\n\\r\\n.pocket-region h4.sectionHeaderHome, .c-column #nythpDaypartRegion h4.sectionHeaderHome {\\r\\n    font-size: 12px;\\r\\n    line-height: 14px;\\r\\n    font-weight: 700;\\r\\n    font-family: \"nyt-cheltenham-sh\",georgia,\"times new roman\",times,serif;\\r\\n    text-transform: uppercase;\\r\\n    margin-bottom: 6px;\\r\\n}\\r\\n\\r\\n.pocket-region h5, .c-column #nythpDaypartRegion h5 {\\r\\n\\tfont-size: 14px;\\r\\n\\tline-height: 16px;\\r\\n\\tfont-weight: 700;\\r\\n\\tfont-family: \"nyt-cheltenham-sh\",georgia,\"times new roman\",times,serif;\\r\\n\\tmargin-bottom: 2px;\\r\\n}\\r\\n\\r\\n.pocket-region .runaroundRight, .c-column #nythpDaypartRegion .runaroundRight {\\r\\n\\tfloat: right;\\r\\n\\tclear: right;\\r\\n\\tmargin: 3px 0px 6px 6px;\\r\\n}\\r\\n\\r\\n.pocket-region .summary, .c-column #nythpDaypartRegion .summary {\\r\\n    font-size: 13px;\\r\\n    line-height: 18px;\\r\\n    font-weight: 400;\\r\\n    font-family: georgia,\"times new roman\",times,serif;\\r\\n    margin-bottom: 0px;\\r\\n}\\r\\n\\r\\n.pocket-region .refer li, .c-column #nythpDaypartRegion .refer li {\\r\\n\\tbackground-image: url(http://css.nyt.com/images/icons/bullet4x4.gif);\\r\\n\\tbackground-repeat: no-repeat;\\r\\n\\tbackground-position: 0 .4em;\\r\\n\\tpadding-left: 8px;\\r\\n\\tfont-size: 12px;\\r\\n\\tline-height: 14px;\\r\\n\\tfont-weight: 700;\\r\\n\\tfont-family: \"nyt-cheltenham-sh\",georgia,\"times new roman\",times,serif;\\r\\n}\\r\\n\\r\\n\\r\\n\\r\\n/* BEGIN .HPHEADER STYLING */\\r\\n\\r\\n.wf-loading .hpHeader h6 {\\r\\n    visibility: hidden;\\r\\n  }\\r\\n\\r\\n.hpHeader {\\r\\n  margin-bottom: 8px;\\r\\n}\\r\\n\\r\\n.hpHeader h6 {\\r\\n  font-family: \"nyt-franklin\",helvetica,arial,sans-serif;\\r\\n  text-transform: uppercase;\\r\\n  font-size: 11px;\\r\\n  font-weight: 700;\\r\\n  letter-spacing: 1px;\\r\\n  padding: 12px 4px 2px 0;\\r\\n  border-bottom: 1px solid #999;\\r\\n  border-top: 1px solid #E2E2E2;\\r\\n}\\r\\n\\r\\n\\r\\n.hpHeader h6 a, \\r\\n.hpHeader h6 a:visited  {\\r\\n  text-decoration: none;\\r\\n  color: #000;\\r\\n}\\r\\n\\r\\n.hpHeader h6:hover, .span-ab-top-region .hpHeader h6 a:hover, .top-news .b-column .hpHeader h6 a:hover, .b-column .split-layout .hpHeader h6:hover,  \\r\\n.hpHeader h6:active, .span-ab-top-region .hpHeader h6 a:active, .top-news .b-column .hpHeader h6 a:active, .b-column .split-layout .hpHeader h6:active {\\r\\n  border-bottom-color: #000;\\r\\n}\\r\\n\\r\\n/* B Column Centered Treatment */\\r\\n.span-ab-top-region .hpHeader h6, .top-news .b-column .hpHeader h6  {\\r\\n  text-align: center;\\r\\n  border-bottom: none;\\r\\n  padding: 0px;\\r\\n}\\r\\n\\r\\n.span-ab-top-region .hpHeader h6 a, .top-news .b-column .hpHeader h6 a  {\\r\\n  display: inline-block;\\r\\n  border-bottom: 1px solid #999;\\r\\n  padding: 12px 4px 2px 4px;\\r\\n}\\r\\n\\r\\n/* Undo B Column Treatment for 3 Column Layouts and Split Code */\\r\\n.b-column .split-layout .hpHeader h6 {\\r\\n  text-align: left;    \\r\\n  border-bottom: 1px solid #999;\\r\\n  padding: 12px 4px 2px 0;\\r\\n}\\r\\n\\r\\n.b-column .split-layout .hpHeader h6 a {\\r\\n  border-bottom: none;\\r\\n  padding: 0;\\r\\n}\\r\\n\\r\\n\\r\\n/* Remove Top Rule When First in Region */\\r\\n.collection:first-child .hpHeader h6, .collection:first-child .hpHeader h6 a {\\r\\n  border-top: none;\\r\\n  padding-top: 0;\\r\\n}\\r\\n\\r\\n/* Lens Header Styles */\\r\\n\\r\\n.hpHeader h6, .span-ab-top-region .hpHeader h6 a, .top-news .b-column .hpHeader h6 a, .b-column .split-layout .hpHeader h6 { border-bottom-width: 2px; }\\r\\n\\r\\n/* END .HPHEADER STYLING */\\r\\n\\r\\n\\r\\n/* Briefing Newsletter */\\r\\n\\r\\n.nythpBriefingNewsletterSignup {\\r\\n\\tfont-family: \\'nyt-franklin\\', Arial, Helvetica, sans-serif;\\r\\n\\tfont-size: 11px;\\r\\n\\tpadding-left: 16px;\\r\\n\\tbackground: url(\\'http://graphics8.nytimes.com/packages/images/homepage/newsletter_icon.png\\') no-repeat;\\r\\n\\tfont-weight: 400;\\r\\n}\\r\\n\\r\\na.nythpBriefingNewsletterSignup, a:link.nythpBriefingNewsletterSignup, a:visited.nythpBriefingNewsletterSignup {\\r\\n\\tcolor: #326891;\\r\\n}\\r\\n\\r\\n\\r\\n\\r\\n\\r\\n.nythpBriefings h3.kicker {\\r\\n    font-family: nyt-franklin,Arial,sans-serif;\\r\\n    font-size: 12px;\\r\\n    font-weight: 700;\\r\\n    background: url(\\'http://graphics8.nytimes.com/packages/images/homepage/briefings/dogear_sm.png\\') no-repeat scroll left top transparent;\\r\\n    padding: 0 0 3px 20px;\\r\\n    border-bottom: 1px solid #000;\\r\\n    display: inline-block;\\r\\n    color: #000;\\r\\n    margin-bottom: 8px;\\r\\nmargin-top: 0px !important;\\r\\n}\\r\\n\\r\\n.nythpBriefings .timestamp {display: none;}\\r\\n\\r\\n/* Gift Guide Promos */\\r\\n\\r\\n.nythpGiftguide h3.kicker {\\r\\n\\r\\n}\\r\\n\\r\\n.nythpGiftguide article .kicker, .nythpGiftguide .byline {\\r\\n\\tdisplay: none;\\r\\n}\\r\\n\\r\\n.b-column .nythpGiftguide .image {\\r\\n\\tmargin-top: -40px;\\r\\n}\\r\\n\\r\\n.nythpGiftguide .theme-news-headlines li:before {\\r\\n\\tbackground: none;\\r\\n\\tborder: none;\\r\\n}\\r\\n\\r\\n.nythpGiftguide .theme-news-headlines li {\\r\\n\\tpadding-left: 0px;\\r\\n}\\r\\n\\r\\n.nythpGiftguide .refer li .refer-heading {\\r\\n\\tfont-family: \"nyt-franklin\",arial,helvetica,sans-serif; \\r\\n\\ttext-transform: uppercase; \\r\\n\\tfont-size: 10px;\\r\\n\\tfont-weight: 400;\\r\\n}\\r\\n\\r\\n.nythpGiftguide .story.theme-summary .story-heading {\\r\\n\\tfont-size: 18px;\\r\\n\\tline-height: 21px;\\r\\n\\tfont-weight: 700;\\r\\n\\tfont-family: \"nyt-cheltenham\",georgia,\"times new roman\",times,serif;\\r\\n}\\r\\n\\r\\n\\r\\n\\r\\n\\r\\nrequire([\\'foundation/main\\'], function () {\\r\\n    require([\\'jquery/nyt\\', \\'foundation/views/page-manager\\'], function ($, pageManager) {\\r\\n        $(document).ready(function () {\\r\\n             \\r\\n              $(\"h3:contains(\\'The Day Ahead\\')\").parent().addClass(\"nythpBriefings\");\\r\\n              $(\"h3:contains(\\'Holiday Gift Guide\\')\").parent().addClass(\"nythpGiftguide\");\\r\\n\\r\\n        });\\r\\n    });\\r\\n});\\r\\n\\r\\n\\n    \\n\\n\\n\\n    \\n\\n        \\n            Top News\\n\\n            \\n                            \\n\\n                    \\n            \\r\\n\\r\\n.nythpElection2016Header {\\r\\n\\r\\n}\\r\\n\\r\\n.nythpElection2016Header h6 {\\r\\n    font-family: \"nyt-franklin\", arial, helvetica, sans-serif;\\r\\n    text-transform: uppercase;\\r\\n    font-size: 13px;\\r\\n    font-weight: 700;\\r\\n    background-image: url(http://graphics8.nytimes.com/newsgraphics/2015/02/25/election-navigation/assets/images/election-2016-logo.png);\\r\\n    background-repeat: no-repeat;\\r\\n    margin-bottom: 6px;\\r\\n    height: 18px;\\r\\n    background-position: left bottom;\\r\\n    margin: 0 auto 6px;\\r\\n    background-size: 18px 18px;\\r\\n    padding: 5px 5px 0 25px;\\r\\n    letter-spacing: 1px;\\r\\n}\\r\\n\\r\\n.nythpElection2016Header h6 a {\\r\\n    text-decoration: none;\\r\\n    color: #000;\\r\\n}\\r\\n\\r\\n .nythpElection2016Header h6:hover,\\r\\n .nythpElection2016Header h6:active {\\r\\n}\\r\\n\\r\\n.nythpElection2016Header h6 a, \\r\\n.nythpElection2016Header h6 a:visited  {\\r\\n    text-decoration: none;\\r\\n    color: #000;\\r\\n}\\r\\n\\r\\n.nythpElection2016Header h6 em {\\r\\n  color: #999;\\r\\n  font-style: normal;\\r\\n}\\r\\n\\r\\n.span-abc-region .nythpElection2016Header, .span-ab-top-region .nythpElection2016Header, .b-column .nythpElection2016Header, .above-banner-region .nythpElection2016Header {\\r\\n    text-align: center;\\r\\n}\\r\\n\\r\\n.span-abc-region .nythpElection2016Header h6, .span-ab-top-region .nythpElection2016Header h6, .b-column .nythpElection2016Header h6, .above-banner-region .nythpElection2016Header h6 {\\r\\n    display: inline-block;\\r\\n\\r\\n}\\r\\n\\r\\n.span-abc-region .nythpElection2016Header h6, .span-ab-top-region .nythpElection2016Header h6, .above-banner-region .nythpElection2016Header h6 {\\r\\n    text-align: center;\\r\\n}\\r\\n\\r\\n\\r\\n\\r\\n\\r\\n  Election 2016\\r\\n\\r\\n\\r\\n\\n\\n                \\n            \\n                            \\n                    \\n\\n                        \\n                            \\n\\n                                \\n            \\n    \\n        New Hampshire Rivals Turn Up the Heat as a Snowstorm Hits\\n\\n            By ALAN RAPPEPORT 2:08 PM ET\\n    \\n    With the storm threatening to derail the final crush of campaign events, the candidates went after one another with gusto. Donald J. Trump wondered how the weather would affect turnout.\\n\\n\\t\\n\\t\\n\\n\\n\\n\\n                More in Politics\\n        \\n                    \\n            \\n        Foreign Policy Questions Push Sanders Out of Comfort Zone 2:39 PM ET\\n\\n            \\n                    \\n            \\n        Gay Voter to Rubio: ‘Why Do You Want to Put Me Back in the Closet?’ 4:43 PM ET\\n\\n            \\n                    \\n            \\n        New Hampshire Is Personal for Clinton. It All Began in 1992. \\n\\n            \\n                    \\n            \\n        Our Man in New Hampshire: Christie Turns Up the Heat \\n\\n            \\n            \\n\\n\\n                            \\n                         \\n\\n                        \\n                            \\n\\n                                \\n            \\n    \\n    \\n        Slide Show\\n    \\n    {\"url\":\"http:\\\\/\\\\/www.nytimes.com\\\\/slideshow\\\\/2016\\\\/02\\\\/08\\\\/us\\\\/campaigning-and-snow-on-eve-of-primaries.html\",\"headline\":\"Campaigning, and Snow, on Eve of Primaries\",\"summary\":\"The candidates squeezed in events in New Hampshire before the presidential primaries on Tuesday.\",\"content_kicker\":\"\",\"section_name\":\"us\",\"subsection_name\":\"\",\"publication_date\":1454907600,\"id\":100000004195290,\"imageslideshow\":{\"intro\":\"\",\"slides\":[{\"data_id\":100000004195368,\"slide_url\":\"20160209CAMPAIGN-hp-slide-USKW\",\"image_type\":\"photo\",\"caption\":{\"full\":\"Donald J. Trump left a campaign event in New Hampshire as snow fell outside the Londonderry Lions Club on Monday.\",\"short\":\"Donald J. Trump left a campaign event in New Hampshire at the Londonderry Lions Club on Monday.\"},\"credit\":\"Damon Winter\\\\/The New York Times\",\"image_crops\":{\"largeHorizontal375\":{\"height\":250,\"width\":375,\"url\":\"http:\\\\/\\\\/static01.nyt.com\\\\/images\\\\/2016\\\\/02\\\\/08\\\\/us\\\\/20160209CAMPAIGN-hp-slide-USKW\\\\/20160209CAMPAIGN-hp-slide-USKW-largeHorizontal375.jpg\"}},\"url\":\"\\\\/slideshow\\\\/2016\\\\/02\\\\/08\\\\/us\\\\/campaigning-and-snow-on-eve-of-primaries\\\\/s\\\\/20160209CAMPAIGN-hp-slide-USKW.html\",\"short_url\":\"http:\\\\/\\\\/nyti.ms\\\\/1nTw9sZ\",\"approved_for_syndication\":true},{\"data_id\":100000004195316,\"slide_url\":\"20160209CAMPAIGN-hp-slide-HP9O\",\"image_type\":\"photo\",\"caption\":{\"full\":\"Senator Bernie Sanders campaigned in Nashua, N.H.\",\"short\":\"Senator Bernie Sanders campaigned in Nashua, N.H.\"},\"credit\":\"Todd Heisler\\\\/The New York Times\",\"image_crops\":{\"largeHorizontal375\":{\"height\":250,\"width\":375,\"url\":\"http:\\\\/\\\\/static01.nyt.com\\\\/images\\\\/2016\\\\/02\\\\/08\\\\/us\\\\/20160209CAMPAIGN-hp-slide-HP9O\\\\/20160209CAMPAIGN-hp-slide-HP9O-largeHorizontal375.jpg\"}},\"url\":\"\\\\/slideshow\\\\/2016\\\\/02\\\\/08\\\\/us\\\\/campaigning-and-snow-on-eve-of-primaries\\\\/s\\\\/20160209CAMPAIGN-hp-slide-HP9O.html\",\"short_url\":\"http:\\\\/\\\\/nyti.ms\\\\/1KBqx0X\",\"approved_for_syndication\":true},{\"data_id\":100000004195312,\"slide_url\":\"20160209CAMPAIGN-hp-slide-O5B9\",\"image_type\":\"photo\",\"caption\":{\"full\":\"James De Filippi, 8, of Swampscott, Mass., listened to Mr. Sanders at the rally.\",\"short\":\"James De Filippi, 8, of Swampscott, Mass., listened to Mr. Sanders at the rally.\"},\"credit\":\"Todd Heisler\\\\/The New York Times\",\"image_crops\":{\"largeHorizontal375\":{\"height\":250,\"width\":375,\"url\":\"http:\\\\/\\\\/static01.nyt.com\\\\/images\\\\/2016\\\\/02\\\\/08\\\\/us\\\\/20160209CAMPAIGN-hp-slide-O5B9\\\\/20160209CAMPAIGN-hp-slide-O5B9-largeHorizontal375.jpg\"}},\"url\":\"\\\\/slideshow\\\\/2016\\\\/02\\\\/08\\\\/us\\\\/campaigning-and-snow-on-eve-of-primaries\\\\/s\\\\/20160209CAMPAIGN-hp-slide-O5B9.html\",\"short_url\":\"http:\\\\/\\\\/nyti.ms\\\\/1SEBBNQ\",\"approved_for_syndication\":true},{\"data_id\":100000004195303,\"slide_url\":\"20160209CAMPAIGN-hp-slide-5K6U\",\"image_type\":\"photo\",\"caption\":{\"full\":\"Hillary and Bill Clinton chatted with customers at the Chez-Vachon restaurant in Manchester, N.H.\",\"short\":\"Hillary and Bill Clinton chatted with customers at the Chez-Vachon restaurant in Manchester, N.H.\"},\"credit\":\"Richard Perry\\\\/The New York Times\",\"image_crops\":{\"largeHorizontal375\":{\"height\":250,\"width\":375,\"url\":\"http:\\\\/\\\\/static01.nyt.com\\\\/images\\\\/2016\\\\/02\\\\/08\\\\/us\\\\/20160209CAMPAIGN-hp-slide-5K6U\\\\/20160209CAMPAIGN-hp-slide-5K6U-largeHorizontal375-v2.jpg\"}},\"url\":\"\\\\/slideshow\\\\/2016\\\\/02\\\\/08\\\\/us\\\\/campaigning-and-snow-on-eve-of-primaries\\\\/s\\\\/20160209CAMPAIGN-hp-slide-5K6U.html\",\"short_url\":\"http:\\\\/\\\\/nyti.ms\\\\/20ko64O\",\"approved_for_syndication\":true},{\"data_id\":100000004195307,\"slide_url\":\"20160209CAMPAIGN-hp-slide-3EZY\",\"image_type\":\"photo\",\"caption\":{\"full\":\"Senator Marco Rubio spoke at a town hall event in Nashua.\",\"short\":\"Senator Marco Rubio spoke at a town hall event in Nashua.\"},\"credit\":\"Hilary Swift for The New York Times\",\"image_crops\":{\"largeHorizontal375\":{\"height\":250,\"width\":375,\"url\":\"http:\\\\/\\\\/static01.nyt.com\\\\/images\\\\/2016\\\\/02\\\\/08\\\\/us\\\\/20160209CAMPAIGN-hp-slide-3EZY\\\\/20160209CAMPAIGN-hp-slide-3EZY-largeHorizontal375.jpg\"}},\"url\":\"\\\\/slideshow\\\\/2016\\\\/02\\\\/08\\\\/us\\\\/campaigning-and-snow-on-eve-of-primaries\\\\/s\\\\/20160209CAMPAIGN-hp-slide-3EZY.html\",\"short_url\":\"http:\\\\/\\\\/nyti.ms\\\\/1KBqx0Z\",\"approved_for_syndication\":true},{\"data_id\":100000004195441,\"slide_url\":\"20160209CAMPAIGN-hp-slide-47DN\",\"image_type\":\"photo\",\"caption\":{\"full\":\"Gov. Chris Christie campaigned in Hampstead.\",\"short\":\"Gov. Chris Christie campaigned in Hampstead.\"},\"credit\":\"Cheryl Senter for The New York Times\",\"image_crops\":{\"largeHorizontal375\":{\"height\":250,\"width\":375,\"url\":\"http:\\\\/\\\\/static01.nyt.com\\\\/images\\\\/2016\\\\/02\\\\/08\\\\/us\\\\/20160209CAMPAIGN-hp-slide-47DN\\\\/20160209CAMPAIGN-hp-slide-47DN-largeHorizontal375.jpg\"}},\"url\":\"\\\\/slideshow\\\\/2016\\\\/02\\\\/08\\\\/us\\\\/campaigning-and-snow-on-eve-of-primaries\\\\/s\\\\/20160209CAMPAIGN-hp-slide-47DN.html\",\"short_url\":\"http:\\\\/\\\\/nyti.ms\\\\/1mo2Uxm\",\"approved_for_syndication\":true},{\"data_id\":100000004195294,\"slide_url\":\"20160209CAMPAIGN-hp-slide-TTMI\",\"image_type\":\"photo\",\"caption\":{\"full\":\"Snow fell in&#160;New Hampshire, threatening to derail the final crush of campaign events before the presidential primaries.\",\"short\":\"Snow fell in New Hampshire, threatening to derail the final crush of campaign events before the presidential primaries.\"},\"credit\":\"Stephen Crowley\\\\/The New York Times\",\"image_crops\":{\"largeHorizontal375\":{\"height\":250,\"width\":375,\"url\":\"http:\\\\/\\\\/static01.nyt.com\\\\/images\\\\/2016\\\\/02\\\\/08\\\\/us\\\\/20160209CAMPAIGN-hp-slide-TTMI\\\\/20160209CAMPAIGN-hp-slide-TTMI-largeHorizontal375-v5.jpg\"}},\"url\":\"\\\\/slideshow\\\\/2016\\\\/02\\\\/08\\\\/us\\\\/campaigning-and-snow-on-eve-of-primaries\\\\/s\\\\/20160209CAMPAIGN-hp-slide-TTMI.html\",\"short_url\":\"http:\\\\/\\\\/nyti.ms\\\\/1nTw88A\",\"approved_for_syndication\":true},{\"data_id\":100000004195297,\"slide_url\":\"20160209CAMPAIGN-hp-slide-2647\",\"image_type\":\"photo\",\"caption\":{\"full\":\"Jeb Bush before delivering remarks at the Nashua Country Club.\",\"short\":\"Jeb Bush before delivering remarks at the Nashua Country Club.\"},\"credit\":\"Stephen Crowley\\\\/The New York Times\",\"image_crops\":{\"largeHorizontal375\":{\"height\":250,\"width\":375,\"url\":\"http:\\\\/\\\\/static01.nyt.com\\\\/images\\\\/2016\\\\/02\\\\/08\\\\/us\\\\/20160209CAMPAIGN-hp-slide-2647\\\\/20160209CAMPAIGN-hp-slide-2647-largeHorizontal375.jpg\"}},\"url\":\"\\\\/slideshow\\\\/2016\\\\/02\\\\/08\\\\/us\\\\/campaigning-and-snow-on-eve-of-primaries\\\\/s\\\\/20160209CAMPAIGN-hp-slide-2647.html\",\"short_url\":\"http:\\\\/\\\\/nyti.ms\\\\/1RjeFlF\",\"approved_for_syndication\":true},{\"data_id\":100000004195299,\"slide_url\":\"20160209CAMPAIGN-hp-slide-33WK\",\"image_type\":\"photo\",\"caption\":{\"full\":\"Senator Ted Cruz arrived at an event in Barrington, N.H.\",\"short\":\"Senator Ted Cruz arrived at an event in Barrington, N.H.\"},\"credit\":\"Ian Thomas Jansen-Lonnquist for The New York Times\",\"image_crops\":{\"largeHorizontal375\":{\"height\":250,\"width\":375,\"url\":\"http:\\\\/\\\\/static01.nyt.com\\\\/images\\\\/2016\\\\/02\\\\/08\\\\/us\\\\/20160209CAMPAIGN-hp-slide-33WK\\\\/20160209CAMPAIGN-hp-slide-33WK-largeHorizontal375.jpg\"}},\"url\":\"\\\\/slideshow\\\\/2016\\\\/02\\\\/08\\\\/us\\\\/campaigning-and-snow-on-eve-of-primaries\\\\/s\\\\/20160209CAMPAIGN-hp-slide-33WK.html\",\"short_url\":\"http:\\\\/\\\\/nyti.ms\\\\/1KBqz99\",\"approved_for_syndication\":true},{\"data_id\":100000004195302,\"slide_url\":\"20160209CAMPAIGN-hp-slide-7STJ\",\"image_type\":\"photo\",\"caption\":{\"full\":\"Snow collected outside the Londonderry Lions Club.\",\"short\":\"Snow collected outside the Londonderry Lions Club.\"},\"credit\":\"Damon Winter\\\\/The New York Times\",\"image_crops\":{\"largeHorizontal375\":{\"height\":250,\"width\":375,\"url\":\"http:\\\\/\\\\/static01.nyt.com\\\\/images\\\\/2016\\\\/02\\\\/08\\\\/us\\\\/20160209CAMPAIGN-hp-slide-7STJ\\\\/20160209CAMPAIGN-hp-slide-7STJ-largeHorizontal375.jpg\"}},\"url\":\"\\\\/slideshow\\\\/2016\\\\/02\\\\/08\\\\/us\\\\/campaigning-and-snow-on-eve-of-primaries\\\\/s\\\\/20160209CAMPAIGN-hp-slide-7STJ.html\",\"short_url\":\"http:\\\\/\\\\/nyti.ms\\\\/1RjeFlH\",\"approved_for_syndication\":true}]},\"related_assets\":[]}    \\n            \\n            Loading...\\n        \\n    \\n\\n        \\n\\n    \\n    \\n\\n    \\n    \\n\\n\\n\\n\\n            \\n    \\n        In Stinging Attack, Bill Clinton Labels Sanders Dishonest\\n\\n            \\n            \\n        \\n    \\n            By JONATHAN MARTIN \\n    \\n    \\n        In New Hampshire, he portrayed his wife’s opponent for the Democratic nomination as hypocritical, dishonest and “hermetically sealed.”    \\n\\n            \\n    &nbsp;Comments\\n\\n    \\n    \\n\\n\\n                            \\n                        \\n                    \\n                \\n\\n                \\n                \\n            \\n            \\n\\n                \\n\\n                    \\n\\n                                                \\n            \\n    \\n        It’s Not Just Flint: City After City Has Unsafe Lead Levels\\n\\n            By MICHAEL WINES and JOHN SCHWARTZ \\n    \\n    Contamination has turned up in scores of communities in recent years, and experts cite holes in the safety net of rules and procedures.\\n\\n\\t\\n\\t\\n\\n\\n\\n            \\n                    \\n                        \\n                    \\n            \\n        What the Science Says About Long-Term Damage From Lead \\n\\n            \\n            \\n\\n\\n            \\n    \\n    \\n    Officer Breaks Down on Stand, Recalling Stairwell Killing\\n\\n            By MARC SANTORA and SARAH MASLIN NIR 12:22 PM ET\\n    \\n            \\n            \\n        \\n    \\n    \\n        The officer, Peter Liang, who is on trial in the shooting death of Akai Gurley in Brooklyn, said he drew his gun because of the foreboding and dangerous environment.    \\n\\n    \\n    \\n\\n\\n\\n            \\n    \\n    \\n    Suffolk Prosecutor Faces Scrutiny Amid U.S. Investigation\\n\\n            By JOSEPH GOLDSTEIN 4:05 PM ET\\n    \\n            \\n            \\n        \\n    \\n    \\n        Over the past two months, the office of Thomas J. Spota, the district attorney of Suffolk County, N.Y., has come under examination by the Justice Department, which is investigating two of his protégés.    \\n\\n    \\n    \\n\\n\\n                                                \\n                    \\n\\n                \\n\\n                \\n\\n                    \\n                    \\n                        \\n\\n                            \\n            function getFlexData() { return {\"data\":{\"options\":{\"width\":355,\"height\":237,\"jsonp\":\"http:\\\\/\\\\/json8.nytimes.com\\\\/slideshow\\\\/2016\\\\/02\\\\/07\\\\/world\\\\/americas\\\\/mexico-hp-photos.slideshow.jsonp\",\"link\":\"http:\\\\/\\\\/www.nytimes.com\"},\"photos\":{\"photo\":{\"url\":\"\",\"credit\":\"\"}},\"advanced\":{\"delay\":5,\"limitjsonp\":0,\"rendition\":\"largeHorizontal375\",\"targetoverride\":\"article[data-story-id=\\\\\"100000004055798\\\\\"] .photo .image\",\"abbreviatecredits\":true}}}; }var NYTD=NYTD || {}; NYTD.FlexTypes = NYTD.FlexTypes || []; NYTD.FlexTypes.push({\"target\":\"FT100000004190951\",\"type\":\"FadingSlideShow\",\"data\":{\"options\":{\"width\":355,\"height\":237,\"jsonp\":\"http:\\\\/\\\\/json8.nytimes.com\\\\/slideshow\\\\/2016\\\\/02\\\\/07\\\\/world\\\\/americas\\\\/mexico-hp-photos.slideshow.jsonp\",\"link\":\"http:\\\\/\\\\/www.nytimes.com\"},\"photos\":{\"photo\":{\"url\":\"\",\"credit\":\"\"}},\"advanced\":{\"delay\":5,\"limitjsonp\":0,\"rendition\":\"largeHorizontal375\",\"targetoverride\":\"article[data-story-id=\\\\\"100000004055798\\\\\"] .photo .image\",\"abbreviatecredits\":true}}});\\r\\n\\r\\n.edition-domestic .span-ab-layout .nytmm_FadingSlideShow .credit, .edition-international .span-ab-layout .nytmm_FadingSlideShow .credit { \\r\\ncolor: #BAB8B3;\\r\\ndisplay: inline-block;\\r\\nfont-family: arial,helvetica,sans-serif;\\r\\nfont-size: 0.5625rem !important;\\r\\nfont-weight: 400;\\r\\nline-height: 0.75rem;\\r\\n}\\r\\n\\n    \\n            \\n    \\n        \\n    \\n\\n    \\n    Step by Step With Migrants on a Desperate Trek Through Mexico\\n\\n    \\n        Our reporter spent two days with 10 men who left Central America bound for the United States, an exhausting journey made riskier by Mexico’s crackdown on migrants.    \\n\\n\\n\\n\\n            \\n                    \\n            Read in Spanish|Leer en español\\r\\n\\r\\n\\r\\n            \\n            \\n\\n\\n            \\r\\n.photo-spot-region .headlines .theme-news-headlines li{\\r\\n      margin-left: auto;\\r\\n    margin-right: auto;\\r\\n    width: 193px;\\r\\n}\\r\\n.language-promo{\\r\\n  width:355px;\\r\\n  margin:0 auto;\\r\\n  display:block;\\r\\n}\\r\\n.language-promo:before{\\r\\n  content:\"\";\\r\\n  display:block;\\r\\n  width:30%;\\r\\n  margin:12px auto;\\r\\n  height:1px;\\r\\n  border-top:1px solid #e2e2e2;\\r\\n}\\r\\n.language-promo p{\\r\\n  font-family:georgia,\"times new roman\",serif;\\r\\n  font-style:italic;\\r\\n  color:#666;\\r\\n  font-weight:400;\\r\\n  width:170px;\\r\\n  float:left;\\r\\n  font-size:11px;\\r\\n  line-height:13px;\\r\\n  text-align:center;\\r\\n}\\r\\n.language-promo p.english{\\r\\n  margin-right:14px;\\r\\n}\\r\\n.language-promo p span{\\r\\n  text-decoration:underline;\\r\\n  color:#326891;\\r\\n  font-weight:700;\\r\\n}\\r\\n.language-promo a p:hover span{\\r\\n  color:#4d4d4d;\\r\\n}\\r\\n\\r\\n\\r\\n\\r\\n \\r\\n  Today we launch The New York Times en Español, a website that offers the best of our journalism for a Spanish-speaking audience.\\r\\n  Hoy inauguramos The New York Times en Español, un sitio que ofrecerá nuestro mejor periodismo a lectores en América Latina y el resto del mundo.\\r\\n\\n\\n            \\r\\n.nytheader{\\r\\n    width:100%;\\r\\n    margin-bottom: 12px;\\r\\n}\\r\\n.nytheader h6{\\r\\n    text-align: center;\\r\\n    text-transform: uppercase;\\r\\n    font-family: \\'nyt-franklin\\', Arial, sans-serif;\\r\\n    color: #000;\\r\\n    font-weight: bold;\\r\\n    font-size: 13px;\\r\\n    line-height: 17px;\\r\\n    letter-spacing: 0.02em;\\r\\n    border-bottom: 2px solid #ccc;\\r\\n    width: 110px;\\r\\n    margin-right: auto;\\r\\n    margin-left: auto;\\r\\n}\\r\\n.nytheader h6:hover,.nytheader h6:active {\\r\\n    border-color: #666;\\r\\n    border-color: rgba(102,102,102,.6);\\r\\n    color: #000;\\r\\n}\\r\\n\\t\\t\\r\\n.nytheader h6 a, .nytheader h6 a:visited  {\\r\\n    text-decoration: none;\\r\\n    border-color: #999;\\r\\n    color: #000;\\r\\n}\\r\\n\\r\\n\\r\\n\\r\\n\\r\\n  Super Bowl 50\\r\\n\\n    \\n            Sports of The Times \\n        A Man of Many Talents Falls Short on Leadership\\n\\n            \\n            \\n        \\n    \\n            By MICHAEL POWELL \\n    \\n    \\n        This Super Bowl was not one for the ages, and after the game Cam Newton, the Carolina Panthers quarterback, appeared petulant.    \\n\\n            \\n    &nbsp;Comments\\n\\n    \\n    \\n\\n\\n            \\n                    \\n                        \\n                    \\n            \\n        Review: At Halftime, It’s Coldplay, Starring Beyoncé \\n\\n            \\n                    \\n            \\n        For Peyton Manning, the Setting Is Perfect for a Curtain Call \\n\\n            \\n                    \\n            \\n        Broncos Stun Panthers to Win, 24-10 \\n\\n            \\n            \\n\\n\\n            \\n    \\n            Basics \\n        The Neurology of How That Song Got in Your Head\\n\\n            \\n            \\n        \\n    \\n            By NATALIE ANGIER 1:30 PM ET\\n    \\n    \\n        M.I.T. researchers have devised a radical approach to brain imaging that reveals what past studies missed about neural responses to music.    \\n\\n    \\n    \\n\\n\\n            \\n    \\n        Builders and Allies Target California’s Coastline Czar\\n\\n            \\n            \\n        \\n    \\n            By ADAM NAGOURNEY 12:23 PM ET\\n    \\n    \\n        The effort to oust the executive director of the California Coastal Commission, one of the most powerful governmental groups in the nation, has created a firestorm.    \\n\\n    \\n    \\n\\n\\n                More News\\n        \\n                    \\n            \\n        Syrians Flock to Border to Escape ‘Extermination’ 1:03 PM ET\\n\\n            \\n                    \\n            \\n        Records for Federal Employees Are Hacked 2:36 PM ET\\n\\n            \\n                    \\n            \\n        Obama to Ask Congress for $1.8 Billion to Fight Zika 2:07 PM ET\\n\\n            \\n                    \\n            \\n        Knicks Fire Coach Derek Fisher 12:57 PM ET\\n\\n            \\n            \\n\\n\\n                        \\n\\n                    \\n                \\n\\n            \\n\\n            \\n                            \\n                    \\n\\n\\n\\n\\n    \\n                \\n                        \\n                    \\n                                    \\n                 \\n        \\n            Sanctions Lifted, Tourists From U.S. Head to Iran\\n        \\n        \\n            Drawing comparisons to interest in Cuba trips, tour operators say that Iran is fast becoming a popular destination for Americans.        \\n    \\n\\n\\n    \\n                \\n                        \\n                    \\n                                    \\n                 \\n        \\n            Book Review: ‘The Good Death’ and More\\n        \\n        \\n            These recent weeks have seen the publication of five books that explore the way we are shaped by our knowledge of mortality, writes Andrew Solomon.        \\n    \\n\\n\\n    \\n                \\n                        \\n                    \\n                                    \\n                 \\n        \\n            What’s Going On in This Picture?\\n        \\n        \\n            This photograph of a moment in black history has been hidden for decades. Let us know who you think is in the photo, when it was taken and what story it is telling. Later, we’ll reveal the answers.        \\n    \\n\\n\\n                \\n            \\n        \\n\\n    \\n\\n    \\n\\n        \\n\\n        \\n\\n            \\n        \\n\\n        \\n\\n            \\n                \\n            \\r\\n  The Opinion Pages\\r\\n  \\r\\n\\n             \\n\\n            \\n\\n                \\n                    \\n                                            \\n            \\n    \\n            Contributing Op-Ed Writer \\n        Ted Cruz, Hometown Anti-Hero\\n\\n            By MIMI SWARTZ \\n    \\n    The Texas senator has few friends in Washington, nor many fans in Houston.\\n\\n\\t\\t    \\n    &nbsp;Comments\\n\\n\\t\\n\\t\\n\\n\\n    \\n            Taking Note \\n        Marco Rubio’s Lighter Side\\n\\n            By ANNA NORTH 12:20 PM ET\\n    \\n    His performance at a Super Bowl party was nothing like that of the most recent debate.\\n\\n\\t\\n\\t\\n\\n\\n                                            \\n            \\n                    \\n            \\n        Editorial: Republicans in New Hampshire, Angry and Afraid \\n\\n            \\n                    \\n            \\n        Letters: Steinem, Albright and Supporting Bernie Sanders 12:38 PM ET\\n\\n            \\n            \\n\\n                    \\n                \\n\\n                \\n                    \\n                                            \\n            \\n    \\n            Room for Debate \\n        Forget Iowa and New Hampshire\\n\\n            \\n            \\n        \\n    \\n    \\n    \\n        Which other states deserve a turn to vote first in the primaries?    \\n\\n    \\n    \\n\\n\\n                                            \\n            \\n                    \\n            \\n        Blow: Hillary Has ‘Half a Dream’ \\n\\n            \\n                    \\n            \\n        Cohen: Syrian Shame \\n\\n            \\n                    \\n            \\n        Krugman: The Time-Loop Party \\n\\n            \\n                    \\n            \\n        Bittner: How Julian Assange Is Destroying WikiLeaks \\n\\n            \\n                    \\n            \\n        The Stone: What Is the Self? It Depends 2:51 PM ET\\n\\n            \\n                    \\n            \\n        Taking Note: An American Football Fan in Paris 2:47 PM ET\\n\\n            \\n            \\n\\n                    \\n                \\n\\n             \\n\\n            \\n                \\n            \\t\\r\\n\\r\\n\\r\\n.c-column.column section.opinion div time.timestamp{\\r\\n\\tdisplay:none;\\r\\n}\\r\\n\\r\\n\\r\\n\\t\\r\\n.c-column.column section.opinion div p.theme-comments{\\r\\n\\tdisplay:none;\\r\\n}\\r\\n\\r\\n\\r\\n\\r\\n\\n             \\n\\n         \\n\\n        \\n\\n            User Subscriptions\\n\\n            \\n  \\n    \\n                              \\n              \\n                \\n                  Notes From the Zika Beat: Heartbreak at the Hospital\\n                \\n              \\n            \\n                      \\n              \\n                \\n                  1972 | ‘More Than a Fringe Candidate’\\n                \\n              \\n            \\n                      \\n  \\n        \\n        \\n            \\n        \\n      \\n    \\n\\n\\n\\n\\n  \\n      \\n        \\n          \\n            \\n              \\n                Times Insider &raquo;\\n              \\n                              \\n                  Notes From the Zika Beat: Heartbreak at the Hospital\\n                \\n                          \\n          \\n        \\n        \\n\\t\\n\\t    \\n\\t    \\t\\n\\t    \\t\\tThe Crossword &raquo;\\n\\t    \\t\\n\\t\\t\\t\\n\\t\\t\\t\\tPlay Today&rsquo;s Puzzle \\n\\t\\t\\t\\n\\t\\t\\t\\n\\t\\t\\t\\t\\n\\t\\t\\t\\t\\t\\n\\t\\t\\t\\t\\n\\t\\t\\t\\n\\t    \\n\\t\\n\\n      \\n    \\n\\n\\n\\n    \\n        \\n            \\n\\t\\n\\t    \\n\\t    \\t\\n\\t    \\t\\tThe Crossword &raquo;\\n\\t    \\t\\n\\t\\t\\t\\n\\t\\t\\t\\tPlay Today&rsquo;s Puzzle \\n\\t\\t\\t\\n\\t\\t\\t\\n\\t\\t\\t\\t\\n\\t\\t\\t\\t\\t\\n\\t\\t\\t\\t\\n\\t\\t\\t\\n\\t    \\n\\t\\n\\n            \\n                \\n                    \\n                        \\n                          Wordplay &raquo;\\n                        \\n                                                  \\n                            The Unexpected Sequence\\n                          \\n                                            \\n                \\n            \\n        \\n    \\n\\n\\n        \\n\\n        \\n\\n        \\n\\n            \\n            \\r\\n\\r\\n\\r\\n/*HIDE WATCHING HEADER*/\\r\\n.portal-container>header { display: none }\\r\\n\\r\\n\\r\\n\\r\\n  \\r\\n    \\r\\n      Watching\\r\\n    \\r\\n    \\r\\n    \\r\\n  \\r\\n\\r\\n\\r\\n\\r\\n\\r\\nrequire([\\'foundation/main\\'], function() {\\r\\n  require([\\'homepage/main\\'], function() {\\r\\n    require([\\'portal/app\\'], function(Portal) {\\r\\n        \\r\\n      var opts = {\\r\\n        env: \\'production_published\\',\\r\\n        matchHeight: {\\r\\n          match: \\'.span-ab-layout.layout > .ab-column\\',\\r\\n          container: \\'.c-column.column\\',\\r\\n          maxHeight: 2000\\r\\n        }\\r\\n      }\\r\\n\\r\\n      var force = window.location.search.indexOf(\\'portal_variant=watchingNoScroll\\') !== -1;\\r\\n      if (force || (NYTABTEST && NYTABTEST.engine &&\\r\\n          NYTABTEST.engine.isUserVariant(\\'watchingNoScroll\\') === \\'1\\')) {\\r\\n        opts.variation = \\'simple\\';\\r\\n        opts.poll = false;\\r\\n        opts.limit = 20;\\r\\n      }\\r\\n\\r\\n      var watching = Portal.create(\\'#nytint-hp-watching\\', opts);\\r\\n    });\\r\\n  });\\r\\n});\\r\\n\\r\\n\\r\\n\\n\\n        \\n\\n        \\n\\n            \\n        \\n\\n        \\n\\n            \\n        \\n\\n    \\n\\n\\n\\n\\n\\nFrom Our Advertisers\\n    \\n        \\n        \\n        \\n        \\n        \\n    \\n\\n\\n\\n\\n    \\n            \\n    Loading...\\n\\n\\n    \\n        timesvideo\\n         explore all videos &raquo;\\n    \\n    \\n        \\n            \\n                Video Player\\n                \\n                \\n                \\n                \\n                \\n                \\n            \\n        \\n    \\n    \\n        \\n            \\n        \\n     \\n\\n\\n\\n\\n\\n    \\n        Inside Nytimes.com\\n        \\n            \\n                \\n                    \\n                    Go to the previous story\\n                    \\n                    \\n                \\n                \\n                    \\n                    Go to the next story\\n                    \\n                    \\n                \\n            \\n            \\n                \\n                    \\n        \\n        N.Y. / Region\\n\\n    \\n        \\n            \\n                \\n            \\n            At Bronx School, Money Can’t Fix Everything\\n        \\n    \\n\\n        \\n    \\n    \\n        \\n        Opinion\\n\\n    \\n        \\n            Will Germany Give Up on Integration?\\n            Berlin’s change of heart about Central Europe may be the final straw of the European Union as we know it.\\n        \\n    \\n\\n        \\n    \\n    \\n        \\n        Asia Pacific\\n\\n    \\n        \\n            \\n                \\n            \\n            Hope in the New Year for Chinese Monkey Trainers\\n        \\n    \\n\\n        \\n    \\n    \\n        \\n        Opinion\\n\\n    \\n        \\n            Campaign Stops: Ted Cruz, Hometown Anti-Hero\\n            The Texas senator has few friends in Washington, nor many fans in Houston.\\n        \\n    \\n\\n        \\n    \\n    \\n        \\n        N.Y. / Region\\n\\n    \\n        \\n            \\n                \\n            \\n            Plan to Flood-Proof Hoboken Runs Into Wall\\n        \\n    \\n\\n        \\n    \\n    \\n        \\n        Media\\n\\n    \\n        \\n            \\n                \\n            \\n            A Market for Art Inspired by the Financial Crisis\\n        \\n    \\n\\n        \\n    \\n\\n    \\n        \\n        Fashion & Style\\n\\n    \\n        \\n            \\n                \\n            \\n            Modern Love Podcast: Clarity at the Hospital\\n        \\n    \\n\\n        \\n    \\n    \\n        \\n        Opinion\\n\\n    \\n        \\n            \\n                \\n            \\n            Op-Ed: The Zika Virus and the Right to Choose\\n        \\n    \\n\\n        \\n    \\n    \\n        \\n        N.Y. / Region\\n\\n    \\n        \\n            \\n                \\n            \\n            Pet City: Speed Dating for Rabbits\\n        \\n    \\n\\n        \\n    \\n    \\n        \\n        Opinion\\n\\n    \\n        \\n            Forget Iowa and New Hampshire\\n            Room for Debate asks which other states should get a turn to vote first in the primaries.\\n        \\n    \\n\\n        \\n    \\n    \\n        \\n        N.Y. / Region\\n\\n    \\n        \\n            \\n                \\n            \\n            Sunday Routine of the C.E.O. of Deutsch NY\\n        \\n    \\n\\n        \\n    \\n    \\n        \\n        N.Y. / Region\\n\\n    \\n        \\n            \\n                \\n            \\n            Builder Who Shaped U.S. Skylines Dies at 90\\n        \\n    \\n\\n        \\n    \\n\\n                \\n            \\n        \\n    \\n\\n\\n\\n\\n\\n\\n    \\n\\n        \\n\\n            \\n    \\n        Sections\\n\\n                \\n            \\n\\n                                \\n                    \\n\\n                        \\n    \\n        World &raquo;\\n    \\n    \\n                    \\n            \\n\\n    \\n\\n                    \\n                \\n            \\n        \\n        \\n        After Taiwan Quake, Rescue Efforts Yield Some Signs of Life        \\n    \\n\\n            \\n                    \\n            \\n    \\n        \\n            Step by Step on a Desperate Trek by Migrants Through Mexico        \\n    \\n\\n            \\n                    \\n            \\n    \\n        \\n            As Syrians Flee Anew, Neighbors’ Altruism Hardens Into Resentment        \\n    \\n\\n            \\n            \\n\\n\\n                     \\n\\n                                \\n                    \\n\\n                        \\n    \\n        Business Day &raquo;\\n    \\n    \\n                    \\n            \\n\\n    \\n\\n                    \\n                \\n            \\n        \\n        \\n        Unsafe Lead Levels in Tap Water Not Limited to Flint        \\n    \\n\\n            \\n                    \\n            \\n    \\n        \\n            Wall St. Ends Day Lower as Oil Prices Fall        \\n    \\n\\n            \\n                    \\n            \\n    \\n        \\n            Facebook Loses a Battle in India Over Its Free Basics Program        \\n    \\n\\n            \\n            \\n\\n\\n                     \\n\\n                                \\n                    \\n\\n                        \\n    \\n        Opinion &raquo;\\n    \\n    \\n                    \\n            \\n\\n    \\n\\n                    \\n                \\n            \\n        \\n        \\n        Op-Ed Contributor: The Zika Virus and Brazilian Women’s Right to Choose        \\n    \\n\\n            \\n                    \\n            \\n    \\n        \\n            Editorial: The Republicans in New Hampshire, Angry and Afraid        \\n    \\n\\n            \\n                    \\n            \\n    \\n        \\n            Charles M. Blow: Hillary Has ‘Half a Dream’        \\n    \\n\\n            \\n            \\n\\n\\n                     \\n\\n                                \\n            \\n\\n        \\n            \\n\\n                                \\n                    \\n\\n                        \\n    \\n        U.S. &raquo;\\n    \\n    \\n                    \\n            \\n\\n    \\n\\n                    \\n                \\n            \\n        \\n        \\n        Hackers Access Employee Records at Justice and Homeland Security Depts.        \\n    \\n\\n            \\n                    \\n            \\n    \\n        \\n            Obama to Propose $11 Billion to Combat Family Homelessness        \\n    \\n\\n            \\n                    \\n            \\n    \\n        \\n            Californians Fight Over Whether Coast Should Be Rugged or Refined        \\n    \\n\\n            \\n            \\n\\n\\n                     \\n\\n                                \\n                    \\n\\n                        \\n    \\n        Technology &raquo;\\n    \\n    \\n                    \\n            \\n\\n    \\n\\n                    \\n                \\n            \\n        \\n        \\n        Facebook Loses a Battle in India Over Its Free Basics Program        \\n    \\n\\n            \\n                    \\n            \\n    \\n        \\n            Net Neutrality Again Puts F.C.C. General Counsel at Center Stage        \\n    \\n\\n            \\n                    \\n            \\n    \\n        \\n            Tech Fix: How to Watch the Super Bowl When You Don’t Have Cable        \\n    \\n\\n            \\n            \\n\\n\\n                     \\n\\n                                \\n                    \\n\\n                        \\n    \\n        Arts &raquo;\\n    \\n    \\n                    \\n            \\n\\n    \\n\\n                    \\n                \\n            \\n        \\n        \\n        Music: Review: It’s Coldplay, Starring Beyoncé, at Super Bowl Halftime Show        \\n    \\n\\n            \\n                    \\n            \\n    \\n        \\n            Beyoncé in ‘Formation’: Entertainer, Activist, Both?        \\n    \\n\\n            \\n                    \\n            \\n    \\n        \\n            When a White Square Is More Than a White Square        \\n    \\n\\n            \\n            \\n\\n\\n                     \\n\\n                                \\n            \\n\\n        \\n            \\n\\n                                \\n                    \\n\\n                        \\n    \\n        Politics &raquo;\\n    \\n    \\n                    \\n            \\n\\n    \\n\\n                    \\n                \\n            \\n        \\n        \\n        First Draft: Gay Voter to Marco Rubio: ‘Why Do You Want to Put Me Back in the Closet?’        \\n    \\n\\n            \\n                    \\n            \\n    \\n        \\n            First Draft: For Chris Christie, Success on Tuesday Is a Moving Target        \\n    \\n\\n            \\n                    \\n            \\n    \\n        \\n            First Draft: Sanders Campaign Determined Not to Get Knocked Off Message by Clinton Attacks        \\n    \\n\\n            \\n            \\n\\n\\n                     \\n\\n                                \\n                    \\n\\n                        \\n    \\n        Fashion & Style &raquo;\\n    \\n    \\n                    \\n            \\n\\n    \\n\\n                    \\n                \\n            \\n        \\n        \\n        On the Runway: Super Bowl 50 Fashion Scorecard: Gucci, Versace and Beyoncé        \\n    \\n\\n            \\n                    \\n            \\n    \\n        \\n            Cultural Studies: Dear Google, Is There a Shrink for That?        \\n    \\n\\n            \\n                    \\n            \\n    \\n        \\n            Stitching Together Lives and Fashion in Liberia        \\n    \\n\\n            \\n            \\n\\n\\n                     \\n\\n                                \\n                    \\n\\n                        \\n    \\n        Movies &raquo;\\n    \\n    \\n                    \\n            \\n\\n    \\n\\n                    \\n                \\n            \\n        \\n        \\n        Bluffer’s Guide to the Oscars: Best Actress        \\n    \\n\\n            \\n                    \\n            \\n    \\n        \\n            A Diverse Pixar Crew Grabs an Oscar Nomination        \\n    \\n\\n            \\n                    \\n            \\n    \\n        \\n            The Carpetbagger: How a Win for ‘The Revenant’ Could Help ‘The Big Short’        \\n    \\n\\n            \\n            \\n\\n\\n                     \\n\\n                                \\n            \\n\\n        \\n            \\n\\n                                \\n                    \\n\\n                        \\n    \\n        New York &raquo;\\n    \\n    \\n                    \\n            \\n\\n    \\n\\n                    \\n                \\n            \\n        \\n        \\n        Scrutiny for Suffolk County’s District Attorney Amid a U.S. Inquiry        \\n    \\n\\n            \\n                    \\n            \\n    \\n        \\n            The Appraisal: Larchmont Takes a Breather From Building        \\n    \\n\\n            \\n                    \\n            \\n    \\n        \\n            Officer Peter Liang, in Emotional Testimony, Describes the Night of a Fatal Shooting        \\n    \\n\\n            \\n            \\n\\n\\n                     \\n\\n                                \\n                    \\n\\n                        \\n    \\n        Sports &raquo;\\n    \\n    \\n                    \\n            \\n\\n    \\n\\n                    \\n                \\n            \\n        \\n        \\n        Knicks Fire Coach Derek Fisher        \\n    \\n\\n            \\n                    \\n            \\n    \\n        \\n            Sports of The Times: Cam Newton, Face of Panthers, Showed Zero Grace in Defeat        \\n    \\n\\n            \\n                    \\n            \\n    \\n        \\n            Broncos 24, Panthers 10: Broncos Win Super Bowl 50 as Defense Swarms Panthers        \\n    \\n\\n            \\n            \\n\\n\\n                     \\n\\n                                \\n                    \\n\\n                        \\n    \\n        Theater &raquo;\\n    \\n    \\n                    \\n            \\n\\n    \\n\\n                    \\n                \\n            \\n        \\n        \\n        Review: ‘The Grand Parade’ Romps Through the 20th Century        \\n    \\n\\n            \\n                    \\n            \\n    \\n        \\n            Gambling on O’Neill: Forest Whitaker Makes His Broadway Debut in ‘Hughie’        \\n    \\n\\n            \\n                    \\n            \\n    \\n        \\n            Sisterhood, Beyond the Script        \\n    \\n\\n            \\n            \\n\\n\\n                     \\n\\n                                \\n            \\n\\n        \\n            \\n\\n                                \\n                    \\n\\n                        \\n    \\n        Science &raquo;\\n    \\n    \\n                    \\n            \\n\\n    \\n\\n                    \\n                \\n            \\n        \\n        \\n        Scientists Investigate How Viruses Like Zika Cause Birth Defects        \\n    \\n\\n            \\n                    \\n            \\n    \\n        \\n            Basics: New Ways Into the Brain’s ‘Music Room’        \\n    \\n\\n            \\n                    \\n            \\n    \\n        \\n            Hoping to Lead Great Lakes Lampreys to Demise by the Nose        \\n    \\n\\n            \\n            \\n\\n\\n                     \\n\\n                                \\n                    \\n\\n                        \\n    \\n        Obituaries &raquo;\\n    \\n    \\n                    \\n            \\n\\n    \\n\\n        \\n        \\n        Gregg Feinstein, 54, Dies; Head of Mergers at Houlihan Lokey        \\n    \\n\\n            \\n                    \\n            \\n    \\n        \\n            Michael Brick, Former Times Reporter, Dies at 41        \\n    \\n\\n            \\n                    \\n            \\n    \\n        \\n            Dan Hicks, of the Hot Licks, Dies at 74; Countered the ’60s Sound        \\n    \\n\\n            \\n            \\n\\n\\n                     \\n\\n                                \\n                    \\n\\n                        \\n    \\n        Television &raquo;\\n    \\n    \\n                    \\n            \\n\\n    \\n\\n                    \\n                \\n            \\n        \\n        \\n        CBS Announces End to ‘The Good Wife’ in Super Bowl Ad        \\n    \\n\\n            \\n                    \\n            \\n    \\n        \\n            Review: In ‘Homegrown,’ the Potential Terrorist Isn’t a World Away        \\n    \\n\\n            \\n                    \\n            \\n    \\n        \\n            A Booming Market for Art That Imitates Life After the Financial Crisis        \\n    \\n\\n            \\n            \\n\\n\\n                     \\n\\n                                \\n            \\n\\n        \\n            \\n\\n                                \\n                    \\n\\n                        \\n    \\n        Health &raquo;\\n    \\n    \\n                    \\n            \\n\\n    \\n\\n                    \\n                \\n            \\n        \\n        \\n        How a Medical Mystery in Brazil Led Doctors to Zika        \\n    \\n\\n            \\n                    \\n            \\n    \\n        \\n            Scientists Investigate How Viruses Like Zika Cause Birth Defects        \\n    \\n\\n            \\n                    \\n            \\n    \\n        \\n            Personal Health: Simple Remedies for Constipation        \\n    \\n\\n            \\n            \\n\\n\\n                     \\n\\n                                \\n                    \\n\\n                        \\n    \\n        Travel &raquo;\\n    \\n    \\n                    \\n            \\n\\n    \\n\\n                    \\n                \\n            \\n        \\n        \\n        In Transit: Sanctions Lifted, American Tourists Head to Iran        \\n    \\n\\n            \\n                    \\n            \\n    \\n        \\n            In Transit: Cruise and Air News: A Historic Ocean Liner Will Sail Again        \\n    \\n\\n            \\n                    \\n            \\n    \\n        \\n            Cultured Traveler: In Tokyo, Brand-Name Stores by Brand-Name Architects        \\n    \\n\\n            \\n            \\n\\n\\n                     \\n\\n                                \\n                    \\n\\n                        \\n    \\n        Books &raquo;\\n    \\n    \\n                    \\n            \\n\\n    \\n\\n                    \\n                \\n            \\n        \\n        \\n        Books of The Times: Review: ‘The Girl in the Red Coat,’ an Abduction Story Told in Two Voices        \\n    \\n\\n            \\n                    \\n            \\n    \\n        \\n            Books of The Times: Review: Jeffrey E. Stern’s ‘The Last Thousand’ Explores the Mission of a Struggling Afghan School        \\n    \\n\\n            \\n                    \\n            \\n    \\n        \\n            Tagore Translation Deemed Racy Is Pulled From Stores in China        \\n    \\n\\n            \\n            \\n\\n\\n                     \\n\\n                                \\n            \\n\\n        \\n            \\n\\n                                \\n                    \\n\\n                        \\n    \\n        Education &raquo;\\n    \\n    \\n                    \\n            \\n\\n    \\n\\n                    \\n                \\n            \\n        \\n        \\n        Hoping, and Waiting, for a Bronx School’s Fresh Start to Pay Off        \\n    \\n\\n            \\n                    \\n            \\n    \\n        \\n            Wheaton College and Professor to ‘Part Ways’ After Her Remarks on Muslims        \\n    \\n\\n            \\n                    \\n            \\n    \\n        \\n            Connecticut Faces Lawsuit Over Ebola Quarantine Policies        \\n    \\n\\n            \\n            \\n\\n\\n                     \\n\\n                                \\n                    \\n\\n                        \\n    \\n        Food &raquo;\\n    \\n    \\n                    \\n            \\n\\n    \\n\\n                    \\n                \\n            \\n        \\n        \\n        4 Manhattan Bars That Set the Mood for Romance        \\n    \\n\\n            \\n                    \\n            \\n    \\n        \\n            What to Cook: Recipes for Happiness and Prosperity        \\n    \\n\\n            \\n                    \\n            \\n    \\n        \\n            Front Burner: Concord Cake Returns to West Side        \\n    \\n\\n            \\n            \\n\\n\\n                     \\n\\n                                \\n                    \\n\\n                        \\n    \\n        Sunday Review &raquo;\\n    \\n    \\n                    \\n            \\n\\n    \\n\\n                    \\n                \\n            \\n        \\n        \\n        Opinion: What You Get When You Mix Chickens, China and Climate Change        \\n    \\n\\n            \\n                    \\n            \\n    \\n        \\n            Editorial: Holding Sentencing Reform Hostage        \\n    \\n\\n            \\n                    \\n            \\n    \\n        \\n            Frank Bruni: Ted Cruz Won’t Be Denied        \\n    \\n\\n            \\n            \\n\\n\\n                     \\n\\n                                \\n            \\n\\n        \\n            \\n\\n                                \\n                    \\n\\n                        \\n    \\n        Real Estate &raquo;\\n    \\n    \\n                    \\n            \\n\\n    \\n\\n                    \\n                \\n            \\n        \\n        \\n        New York’s New High-End Rentals        \\n    \\n\\n            \\n                    \\n            \\n    \\n        \\n            Hamptons Rental Season Starts Early        \\n    \\n\\n            \\n                    \\n            \\n    \\n        \\n            International Real Estate: House Hunting in ... Barbados        \\n    \\n\\n            \\n            \\n\\n\\n                     \\n\\n                                \\n                    \\n\\n                        \\n    \\n        The Upshot &raquo;\\n    \\n    \\n                    \\n            \\n\\n    \\n\\n                    \\n                \\n            \\n        \\n        \\n        Political Science: Bush and Clinton Are Subpar Campaigners. It Could Have Been Predicted.        \\n    \\n\\n            \\n                    \\n            \\n    \\n        \\n            The New Health Care: What the Science Says About Long-Term Damage From Lead        \\n    \\n\\n            \\n                    \\n            \\n    \\n        \\n            The 2016 Race: Part of John Kasich’s Problem: Liberals Like Him        \\n    \\n\\n            \\n            \\n\\n\\n                     \\n\\n                                \\n                    \\n\\n                        \\n    \\n        Magazine &raquo;\\n    \\n    \\n                    \\n            \\n\\n    \\n\\n                    \\n                \\n            \\n        \\n        \\n        Notebook: The Many Frenemies of Ted Cruz        \\n    \\n\\n            \\n                    \\n            \\n    \\n        \\n            Talk: Samantha Bee Likes to Make Things Uncomfortable        \\n    \\n\\n            \\n                    \\n            \\n    \\n        \\n            Social Capital: Bow in the Presence of Greatness: On Kanye West’s Twitter        \\n    \\n\\n            \\n            \\n\\n\\n                     \\n\\n                                \\n            \\n\\n        \\n            \\n\\n                                \\n                    \\n\\n                        \\n    \\n        Automobiles &raquo;\\n    \\n    \\n                    \\n            \\n\\n    \\n\\n                    \\n                \\n            \\n        \\n        \\n        Beyond Volkswagen, Europe’s Diesels Flunked a Pollution Test        \\n    \\n\\n            \\n                    \\n            \\n    \\n        \\n            Driven: Video Review: The BMW X5 xDrive40e, a Hybrid for the Future        \\n    \\n\\n            \\n                    \\n            \\n    \\n        \\n            Lawyer for Plaintiffs Suing G.M. Steps Up Criticism of Another        \\n    \\n\\n            \\n            \\n\\n\\n                     \\n\\n                                \\n                    \\n\\n                        \\n    \\n        T Magazine &raquo;\\n    \\n    \\n                    \\n            \\n\\n    \\n\\n                    \\n                \\n            \\n        \\n        \\n        On the Verge: A Unisex Clothing Line Inspired by the Construction of Buildings        \\n    \\n\\n            \\n                    \\n            \\n    \\n        \\n            A Nature-Inspired Drawing Event — With a Dance Twist        \\n    \\n\\n            \\n                    \\n            \\n    \\n        \\n            East Meets West in a One-of-a-Kind Cartier Pendant        \\n    \\n\\n            \\n            \\n\\n\\n                     \\n\\n                                \\n                    \\n\\n                        \\n    \\n        Times Insider &raquo;\\n    \\n    \\n                    \\n            \\n\\n    \\n\\n                    \\n                \\n            \\n        \\n        \\n        Notes From the Zika Beat: Heartbreak at the Hospital        \\n    \\n\\n            \\n                    \\n            \\n    \\n        \\n            Looking Back: 1972 | ‘More Than a Fringe Candidate’        \\n    \\n\\n            \\n                    \\n            \\n    \\n        \\n            Readers React: After Iowa, Readers Debate Who Won and Who Lost        \\n    \\n\\n            \\n            \\n\\n\\n                     \\n\\n                                \\n            \\n\\n            \\n\\n\\n    \\n\\n    \\n\\n        \\n                    \\n                \\n                    \\n                        \\n\\n                            \\n                \\n            Real Estate &raquo;\\n        \\n        \\n    \\n    \\n    Luxury Condos on Brooklyn’s Fourth Avenue\\n\\n            By KAYA LATERMAN \\n    \\n            \\n            \\n        \\n    \\n    \\n        Sales are about to begin at the Baltic, an 11-story condominium rising on the corner of Baltic Street and Fourth Avenue in Park Slope, Brooklyn.    \\n\\n    \\n    \\n\\n\\n\\n            \\r\\nSearch for Homes for Sale or Rent\\r\\n\\r\\nSell Your Home\\r\\n\\r\\n\\n\\n                        \\n                    \\n                    \\n                        \\n\\n                            \\n            \\n\\n                &nbsp;\\n        \\n    \\n    \\n    Hamptons Rental Season Starts Early\\n\\n            By KAYA LATERMAN \\n    \\n            \\n            \\n        \\n    \\n    \\n        Most people who rent summer homes in the Hamptons start looking around the Presidents&#8217; Day weekend, but this year the search began much earlier.    \\n\\n    \\n    \\n\\n\\n\\n            \\n\\n                            \\n                        \\n                    \\n                \\n            \\n        \\n        \\n        \\n    \\n        \\n            Most EmailedMost ViewedRecommended for you\\n        \\n    \\n    \\n        \\n    \\n    \\n        \\n    \\n    \\n        \\n    \\n    \\n        Loading...\\n    \\n\\n\\n        \\n        \\n\\n                    \\n    \\n    \\n        \\n        \\n\\n    \\n\\n\\n\\n\\n\\n\\n                    \\n            \\n            \\n    \\n        Go to Home Page &raquo;\\n        \\n            Site Index\\n            \\n                The New York Times\\n            \\n        \\n        window.magnum.writeLogo(\\'small\\', \\'http://a1.nyt.com/assets/homepage/20160204-153812/images/foundation/logos/\\', \\'\\', \\'\\', \\'standard\\', \\'site-index-branding-link\\', \\'\\');\\n    \\n\\n    \\n        Site Index Navigation\\n        \\n\\n                                                                                    \\n                    \\n                        News\\n                        \\n\\n                                                                                                                                                                                                                                                \\n                                    \\n                                        World\\n                                    \\n\\n                                                                                            \\n                                    \\n                                        U.S.\\n                                    \\n\\n                                                                                            \\n                                    \\n                                        Politics\\n                                    \\n\\n                                                                                            \\n                                    \\n                                        N.Y.\\n                                    \\n\\n                                                                                            \\n                                    \\n                                        Business\\n                                    \\n\\n                                                                                            \\n                                    \\n                                        Tech\\n                                    \\n\\n                                                                                            \\n                                    \\n                                        Science\\n                                    \\n\\n                                                                                            \\n                                    \\n                                        Health\\n                                    \\n\\n                                                                                            \\n                                    \\n                                        Sports\\n                                    \\n\\n                                                                                            \\n                                    \\n                                        Education\\n                                    \\n\\n                                                                                            \\n                                    \\n                                        Obituaries\\n                                    \\n\\n                                                                                            \\n                                    \\n                                        Today\\'s Paper\\n                                    \\n\\n                                                                                            \\n                                    \\n                                        Corrections\\n                                    \\n\\n                                                            \\n                        \\n                    \\n\\n                                            \\n                    \\n                        Opinion\\n                        \\n\\n                                                            \\n                                    \\n                                        Today\\'s Opinion\\n                                    \\n\\n                                                                                            \\n                                    \\n                                        Op-Ed Columnists\\n                                    \\n\\n                                                                                            \\n                                    \\n                                        Editorials\\n                                    \\n\\n                                                                                            \\n                                    \\n                                        Contributing Writers\\n                                    \\n\\n                                                                                            \\n                                    \\n                                        Op-Ed Contributors\\n                                    \\n\\n                                                                                            \\n                                    \\n                                        Opinionator\\n                                    \\n\\n                                                                                            \\n                                    \\n                                        Letters\\n                                    \\n\\n                                                                                            \\n                                    \\n                                        Sunday Review\\n                                    \\n\\n                                                                                            \\n                                    \\n                                        Taking Note\\n                                    \\n\\n                                                                                            \\n                                    \\n                                        Room for Debate\\n                                    \\n\\n                                                                                            \\n                                    \\n                                        Public Editor\\n                                    \\n\\n                                                                                            \\n                                    \\n                                        Video: Opinion\\n                                    \\n\\n                                                            \\n                        \\n                    \\n\\n                                            \\n                    \\n                        Arts\\n                        \\n\\n                                                            \\n                                    \\n                                        Today\\'s Arts\\n                                    \\n\\n                                                                                            \\n                                    \\n                                        Art & Design\\n                                    \\n\\n                                                                                            \\n                                    \\n                                        ArtsBeat\\n                                    \\n\\n                                                                                            \\n                                    \\n                                        Books\\n                                    \\n\\n                                                                                            \\n                                    \\n                                        Dance\\n                                    \\n\\n                                                                                            \\n                                    \\n                                        Movies\\n                                    \\n\\n                                                                                            \\n                                    \\n                                        Music\\n                                    \\n\\n                                                                                            \\n                                    \\n                                        N.Y.C. Events Guide\\n                                    \\n\\n                                                                                            \\n                                    \\n                                        Television\\n                                    \\n\\n                                                                                            \\n                                    \\n                                        Theater\\n                                    \\n\\n                                                                                            \\n                                    \\n                                        Video Games\\n                                    \\n\\n                                                                                            \\n                                    \\n                                        Video: Arts\\n                                    \\n\\n                                                            \\n                        \\n                    \\n\\n                                            \\n                    \\n                        Living\\n                        \\n\\n                                                            \\n                                    \\n                                        Automobiles\\n                                    \\n\\n                                                                                            \\n                                    \\n                                        Crossword\\n                                    \\n\\n                                                                                            \\n                                    \\n                                        Food\\n                                    \\n\\n                                                                                            \\n                                    \\n                                        Education\\n                                    \\n\\n                                                                                            \\n                                    \\n                                        Fashion & Style\\n                                    \\n\\n                                                                                            \\n                                    \\n                                        Health\\n                                    \\n\\n                                                                                            \\n                                    \\n                                        Jobs\\n                                    \\n\\n                                                                                            \\n                                    \\n                                        Magazine\\n                                    \\n\\n                                                                                            \\n                                    \\n                                        N.Y.C. Events Guide\\n                                    \\n\\n                                                                                            \\n                                    \\n                                        Real Estate\\n                                    \\n\\n                                                                                            \\n                                    \\n                                        T Magazine\\n                                    \\n\\n                                                                                            \\n                                    \\n                                        Travel\\n                                    \\n\\n                                                                                            \\n                                    \\n                                        Weddings & Celebrations\\n                                    \\n\\n                                                            \\n                        \\n                    \\n\\n                                            \\n                    \\n                        Listings & More\\n                        \\n\\n                                                            \\n                                    \\n                                        Classifieds\\n                                    \\n\\n                                                                                            \\n                                    \\n                                        Tools & Services\\n                                    \\n\\n                                                                                            \\n                                    \\n                                        Times Topics\\n                                    \\n\\n                                                                                            \\n                                    \\n                                        Public Editor\\n                                    \\n\\n                                                                                            \\n                                    \\n                                        N.Y.C. Events Guide\\n                                    \\n\\n                                                                                            \\n                                    \\n                                        Blogs\\n                                    \\n\\n                                                                                            \\n                                    \\n                                        Multimedia\\n                                    \\n\\n                                                                                            \\n                                    \\n                                        Photography\\n                                    \\n\\n                                                                                            \\n                                    \\n                                        Video\\n                                    \\n\\n                                                                                            \\n                                    \\n                                        NYT Store\\n                                    \\n\\n                                                                                            \\n                                    \\n                                        Times Journeys\\n                                    \\n\\n                                                                                            \\n                                    \\n                                        Subscribe\\n                                    \\n\\n                                                                                            \\n                                    \\n                                        Manage My Account\\n                                    \\n\\n                                                            \\n                        \\n                    \\n\\n                            \\n            \\n                \\nSubscribe\\n\\n\\n    Subscribe\\n    \\n        \\n        Times Insider\\n    \\n\\n    \\n        \\n                    Home Delivery\\n            \\n    \\n        \\n                    Digital Subscriptions\\n            \\n    \\n        \\n        NYT Opinion\\n    \\n    \\n        \\n        Crossword\\n    \\n\\n\\n\\n\\n\\n    \\n        Email Newsletters\\n    \\n    \\n        Alerts\\n    \\n    \\n                    Gift Subscriptions\\n            \\n    \\n                    Corporate Subscriptions\\n            \\n    \\n                    Education Rate\\n            \\n\\n\\n\\n    \\n        Mobile Applications\\n    \\n    \\n                    Replica Edition\\n            \\n                \\n            International New York Times\\n        \\n    \\n\\n\\n            \\n\\n        \\n\\n    \\n\\n\\n\\n            \\n    \\n        Site Information Navigation\\n         \\n             \\n                \\n                    &copy; 2016 The New York Times Company\\n                \\n            \\n            Contact Us\\n            Work With Us\\n            Advertise\\n            Your Ad Choices\\n            Privacy\\n            Terms of Service\\n            Terms of Sale\\n         \\n    \\n    \\n        Site Information Navigation\\n        \\n            Site Map\\n            Help\\n            Site Feedback\\n            Subscriptions\\n        \\n    \\n\\n    \\n        View Mobile Version\\n    \\n\\n    \\n\\n        \\n    \\n    \\nrequire([\\'foundation/main\\'], function () {\\n    require([\\'homepage/main\\']);\\n    require([\\'jquery/nyt\\', \\'foundation/views/page-manager\\'], function ($, pageManager) {\\n        if (window.location.search.indexOf(\\'disable_tagx\\') > 0) {\\n            return;\\n        }\\n        $(document).ready(function () {\\n            require([\\'http://a1.nyt.com/analytics/tagx-simple.min.js\\'], function () {\\n                pageManager.trackingFireEventQueue();\\n            });\\n        });\\n    });\\n});\\n\\n\\n    \\n\\n\\n\\n\\n\\n\\n\\n\\n\\nwindow.NREUM||(NREUM={});NREUM.info={\"beacon\":\"bam.nr-data.net\",\"licenseKey\":\"b5bcf2eba4\",\"applicationID\":\"4491938\",\"transactionName\":\"YwFXZhRYVhAEVUZcX1pLYEAPFlkTFRhCXUA=\",\"queueTime\":0,\"applicationTime\":739,\"ttGuid\":\"\",\"agentToken\":\"\",\"userAttributes\":\"\",\"errorBeacon\":\"bam.nr-data.net\",\"agent\":\"\"}\\n\\n'"
      ]
     },
     "execution_count": 157,
     "metadata": {},
     "output_type": "execute_result"
    }
   ],
   "source": [
    "re.sub('<[^>]+>','',news_text)"
   ]
  },
  {
   "cell_type": "code",
   "execution_count": 219,
   "metadata": {
    "collapsed": false
   },
   "outputs": [],
   "source": [
    "# delete <script>, <style>, and other html tags\n",
    "# as a rough and ready way to get at the text of a webpage\n",
    "\n",
    "news_text2=re.sub('[\\r\\n]',' ',news_text)\n",
    "news_text2=re.sub('<(?:script|style|link).*?</(?:script|style|link)>','',news_text2)\n",
    "news_text2=re.sub('<!--.*?-->','',news_text2)\n",
    "news_text2=re.sub('<[^>]+>','',news_text2)\n",
    "news_text2=re.sub('\\{\".*\\}', '', news_text2)\n",
    "\n"
   ]
  },
  {
   "cell_type": "code",
   "execution_count": 220,
   "metadata": {
    "collapsed": false
   },
   "outputs": [],
   "source": [
    "news_tokens = re.findall('\\\\b\\\\w+\\\\b',news_text2.lower())"
   ]
  },
  {
   "cell_type": "code",
   "execution_count": 221,
   "metadata": {
    "collapsed": false
   },
   "outputs": [],
   "source": [
    "news_freqlist=Counter(news_tokens)"
   ]
  },
  {
   "cell_type": "code",
   "execution_count": 222,
   "metadata": {
    "collapsed": false
   },
   "outputs": [
    {
     "data": {
      "text/plain": [
       "[('the', 112),\n",
       " ('in', 52),\n",
       " ('a', 44),\n",
       " ('to', 42),\n",
       " ('of', 41),\n",
       " ('raquo', 34),\n",
       " ('s', 34),\n",
       " ('for', 31),\n",
       " ('and', 28),\n",
       " ('by', 24),\n",
       " ('new', 20),\n",
       " ('on', 16),\n",
       " ('times', 16),\n",
       " ('et', 15),\n",
       " ('pm', 15),\n",
       " ('at', 15),\n",
       " ('is', 13),\n",
       " ('opinion', 13),\n",
       " ('y', 12),\n",
       " ('n', 11),\n",
       " ('review', 10),\n",
       " ('site', 10),\n",
       " ('from', 9),\n",
       " ('it', 9),\n",
       " ('has', 9),\n",
       " ('zika', 9),\n",
       " ('that', 9),\n",
       " ('bowl', 8),\n",
       " ('how', 8),\n",
       " ('york', 8),\n",
       " ('hampshire', 8),\n",
       " ('navigation', 8),\n",
       " ('search', 8),\n",
       " ('u', 8),\n",
       " ('more', 8),\n",
       " ('what', 8),\n",
       " ('super', 8),\n",
       " ('t', 8),\n",
       " ('after', 7),\n",
       " ('who', 7),\n",
       " ('you', 7),\n",
       " ('health', 6),\n",
       " ('magazine', 6),\n",
       " ('science', 6),\n",
       " ('with', 6),\n",
       " ('sports', 6),\n",
       " ('today', 6),\n",
       " ('c', 6),\n",
       " ('video', 6),\n",
       " ('as', 6)]"
      ]
     },
     "execution_count": 222,
     "metadata": {},
     "output_type": "execute_result"
    }
   ],
   "source": [
    "news_freqlist.most_common(50)"
   ]
  },
  {
   "cell_type": "code",
   "execution_count": null,
   "metadata": {
    "collapsed": true
   },
   "outputs": [],
   "source": []
  }
 ],
 "metadata": {
  "kernelspec": {
   "display_name": "Python 3",
   "language": "python",
   "name": "python3"
  },
  "language_info": {
   "codemirror_mode": {
    "name": "ipython",
    "version": 3
   },
   "file_extension": ".py",
   "mimetype": "text/x-python",
   "name": "python",
   "nbconvert_exporter": "python",
   "pygments_lexer": "ipython3",
   "version": "3.4.4"
  }
 },
 "nbformat": 4,
 "nbformat_minor": 0
}
