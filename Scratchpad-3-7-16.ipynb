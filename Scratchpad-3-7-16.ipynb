{
 "cells": [
  {
   "cell_type": "code",
   "execution_count": 1,
   "metadata": {
    "collapsed": true
   },
   "outputs": [],
   "source": [
    "import requests\n",
    "from bs4 import BeautifulSoup\n",
    "import time\n",
    "import random"
   ]
  },
  {
   "cell_type": "code",
   "execution_count": 2,
   "metadata": {
    "collapsed": true
   },
   "outputs": [],
   "source": [
    "time.sleep(3.1)"
   ]
  },
  {
   "cell_type": "code",
   "execution_count": 3,
   "metadata": {
    "collapsed": false
   },
   "outputs": [
    {
     "data": {
      "text/plain": [
       "2"
      ]
     },
     "execution_count": 3,
     "metadata": {},
     "output_type": "execute_result"
    }
   ],
   "source": [
    "random.randint(1,5)"
   ]
  },
  {
   "cell_type": "code",
   "execution_count": 4,
   "metadata": {
    "collapsed": false
   },
   "outputs": [],
   "source": [
    "for item in range(10):\n",
    "    # get page here\n",
    "    \n",
    "    # get url for next page\n",
    "    \n",
    "    # wait a bit\n",
    "    time.sleep(random.randint(1,5))"
   ]
  },
  {
   "cell_type": "code",
   "execution_count": 4,
   "metadata": {
    "collapsed": true
   },
   "outputs": [],
   "source": [
    "url='http://vaping.info/read-testimonials'"
   ]
  },
  {
   "cell_type": "code",
   "execution_count": 5,
   "metadata": {
    "collapsed": true
   },
   "outputs": [],
   "source": [
    "resp = requests.get(url)"
   ]
  },
  {
   "cell_type": "code",
   "execution_count": 6,
   "metadata": {
    "collapsed": false
   },
   "outputs": [
    {
     "data": {
      "text/plain": [
       "200"
      ]
     },
     "execution_count": 6,
     "metadata": {},
     "output_type": "execute_result"
    }
   ],
   "source": [
    "resp.status_code"
   ]
  },
  {
   "cell_type": "code",
   "execution_count": 7,
   "metadata": {
    "collapsed": false
   },
   "outputs": [],
   "source": [
    "html = BeautifulSoup(resp.text, 'html.parser')"
   ]
  },
  {
   "cell_type": "code",
   "execution_count": 8,
   "metadata": {
    "collapsed": false
   },
   "outputs": [],
   "source": [
    "stories=html.findAll('div', {'class': 'pfpItem'})"
   ]
  },
  {
   "cell_type": "code",
   "execution_count": 9,
   "metadata": {
    "collapsed": false
   },
   "outputs": [
    {
     "data": {
      "text/plain": [
       "25"
      ]
     },
     "execution_count": 9,
     "metadata": {},
     "output_type": "execute_result"
    }
   ],
   "source": [
    "len(stories)"
   ]
  },
  {
   "cell_type": "code",
   "execution_count": 10,
   "metadata": {
    "collapsed": false
   },
   "outputs": [
    {
     "data": {
      "text/plain": [
       "<div class=\"pfpItem entry-content\"><h2 class=\"entry-title\"><a href=\"http://vaping.info/news/2015/finally-smoke-free-thanks-vaping\">Finally Smoke Free thanks to VAPING</a></h2>25 years smoking, being diagnosed with COPD and a friend turned me onto Vaping. 18 days without a need or want for a cig! To me that’s a huge win!<a class=\"pfpReadMore\" href=\"http://vaping.info/news/2015/finally-smoke-free-thanks-vaping\">Read More »</a><div class=\"clear\"></div><hr/></div>"
      ]
     },
     "execution_count": 10,
     "metadata": {},
     "output_type": "execute_result"
    }
   ],
   "source": [
    "stories[2]"
   ]
  },
  {
   "cell_type": "code",
   "execution_count": 11,
   "metadata": {
    "collapsed": false
   },
   "outputs": [
    {
     "data": {
      "text/plain": [
       "'http://vaping.info/news/2015/20-yr-smoker-now-ex-smoker-since-2008-quit-vaping'"
      ]
     },
     "execution_count": 11,
     "metadata": {},
     "output_type": "execute_result"
    }
   ],
   "source": [
    "stories[0].find('a', {'class': 'pfpReadMore'}).attrs['href']"
   ]
  },
  {
   "cell_type": "code",
   "execution_count": 12,
   "metadata": {
    "collapsed": true
   },
   "outputs": [],
   "source": [
    "story_urls = []\n",
    "for story in stories:\n",
    "    story_urls.append(story.find('a', {'class': 'pfpReadMore'}).attrs['href'])"
   ]
  },
  {
   "cell_type": "code",
   "execution_count": 13,
   "metadata": {
    "collapsed": false
   },
   "outputs": [
    {
     "data": {
      "text/plain": [
       "['http://vaping.info/news/2015/20-yr-smoker-now-ex-smoker-since-2008-quit-vaping',\n",
       " 'http://vaping.info/news/2015/42-year-smoker-3-week-vaper',\n",
       " 'http://vaping.info/news/2015/finally-smoke-free-thanks-vaping',\n",
       " 'http://vaping.info/news/2015/vaping-saved-life-turned-saved-4',\n",
       " 'http://vaping.info/news/2015/smoker-27-years-made-many-attempts-quit-time',\n",
       " 'http://vaping.info/news/2015/brilliant-alternative-cigarette-smoking',\n",
       " 'http://vaping.info/news/2015/4-years-vaping',\n",
       " 'http://vaping.info/news/2015/thank-son',\n",
       " 'http://vaping.info/news/2015/el-vapeo-si-funciona',\n",
       " 'http://vaping.info/news/2015/dipping',\n",
       " 'http://vaping.info/news/2015/hardest-thing-ive-ever-done',\n",
       " 'http://vaping.info/news/2015/30-years-smoking-ended-2-months-ago',\n",
       " 'http://vaping.info/news/2015/amazing-thats-can-say',\n",
       " 'http://vaping.info/news/2015/smoked-16-years',\n",
       " 'http://vaping.info/news/2015/done-1201-new-year-day-2015',\n",
       " 'http://vaping.info/news/2015/story',\n",
       " 'http://vaping.info/news/2015/whats-smell',\n",
       " 'http://vaping.info/news/2015/mrs',\n",
       " 'http://vaping.info/news/2015/helped-quit-even-didnt-want',\n",
       " 'http://vaping.info/news/2015/vaping-saved-life',\n",
       " 'http://vaping.info/news/2015/success',\n",
       " 'http://vaping.info/news/2015/people-vape-industry',\n",
       " 'http://vaping.info/news/2015/ms',\n",
       " 'http://vaping.info/news/2015/life-forever-changed-better',\n",
       " 'http://vaping.info/news/2015/vaping-helped-quit']"
      ]
     },
     "execution_count": 13,
     "metadata": {},
     "output_type": "execute_result"
    }
   ],
   "source": [
    "story_urls"
   ]
  },
  {
   "cell_type": "code",
   "execution_count": 15,
   "metadata": {
    "collapsed": true
   },
   "outputs": [],
   "source": [
    "#story_urls = [story.find('a', {'class': 'pfpReadMore'}).attrs['href']\n",
    "#                   for story in stories]"
   ]
  },
  {
   "cell_type": "code",
   "execution_count": 14,
   "metadata": {
    "collapsed": false
   },
   "outputs": [
    {
     "data": {
      "text/plain": [
       "'http://vaping.info/read-testimonials/page/2'"
      ]
     },
     "execution_count": 14,
     "metadata": {},
     "output_type": "execute_result"
    }
   ],
   "source": [
    "html.find('span', {'class': 'pfpNav'}).find('a', text='Older Entries » ').attrs['href']"
   ]
  },
  {
   "cell_type": "code",
   "execution_count": 15,
   "metadata": {
    "collapsed": false
   },
   "outputs": [
    {
     "data": {
      "text/plain": [
       "'Older Entries » '"
      ]
     },
     "execution_count": 15,
     "metadata": {},
     "output_type": "execute_result"
    }
   ],
   "source": [
    "html.find('span', {'class': 'pfpNav'}).find('a').text"
   ]
  },
  {
   "cell_type": "code",
   "execution_count": 16,
   "metadata": {
    "collapsed": true
   },
   "outputs": [],
   "source": [
    "def addNums(n1, n2):\n",
    "    answer = n1+n2\n",
    "    return answer\n",
    "\n",
    "def subNums(n1, n2):\n",
    "    return n1 - n2\n",
    "\n",
    "def pwrNum(num, n=2):\n",
    "    return num**n"
   ]
  },
  {
   "cell_type": "code",
   "execution_count": null,
   "metadata": {
    "collapsed": false
   },
   "outputs": [],
   "source": []
  },
  {
   "cell_type": "code",
   "execution_count": 17,
   "metadata": {
    "collapsed": false
   },
   "outputs": [],
   "source": [
    "def get_link_page(url):\n",
    "    '''\n",
    "    This is a function to get web page from supplied url\n",
    "    then test it exists and parse it with BeautifulSoup\n",
    "    \n",
    "    expects a url\n",
    "    returns a list of links and url of next page\n",
    "    \n",
    "    '''\n",
    "    \n",
    "    try:\n",
    "        resp = requests.get(url)\n",
    "        assert(resp.status_code==200)\n",
    "    except:\n",
    "        return None, None\n",
    "    \n",
    "    html = BeautifulSoup(resp.text, 'html.parser')\n",
    "    \n",
    "    # 1. find stories on page\n",
    "    stories=html.findAll('div', {'class': 'pfpItem'})\n",
    "    \n",
    "    # 2. extract urls to each story\n",
    "    story_urls = []\n",
    "    for story in stories:\n",
    "        story_urls.append(story.find('a', {'class': 'pfpReadMore'}).attrs['href'])\n",
    "    \n",
    "    # 3. find link to Older Entries if it exists\n",
    "    \n",
    "    nav_links = html.findAll('span', {'class': 'pfpNav'})\n",
    "    \n",
    "    try:\n",
    "        olink=nav_links[-1].find('a')\n",
    "        older_link=olink.attrs['href']\n",
    "        assert(olink.text.startswith('Older'))\n",
    "    except:\n",
    "        older_link=None\n",
    "        \n",
    "    return story_urls, older_link"
   ]
  },
  {
   "cell_type": "code",
   "execution_count": 18,
   "metadata": {
    "collapsed": false
   },
   "outputs": [
    {
     "data": {
      "text/plain": [
       "(['http://vaping.info/news/2013/maciej-testimony',\n",
       "  'http://vaping.info/news/2013/my-testimonial-2',\n",
       "  'http://vaping.info/news/2013/my-story-3',\n",
       "  'http://vaping.info/news/2013/stopped-smoking-after-a-two-days',\n",
       "  'http://vaping.info/news/2013/smoke-free-after-35-years-without-effort',\n",
       "  'http://vaping.info/news/2013/miracle',\n",
       "  'http://vaping.info/news/2013/my-struggle-with-tobacco-and-chrones-disease',\n",
       "  'http://vaping.info/news/2013/easy',\n",
       "  'http://vaping.info/news/2013/accidentally-quit-smoking-finally',\n",
       "  'http://vaping.info/news/2013/johns-story',\n",
       "  'http://vaping.info/news/2013/how-i-quit-smoking',\n",
       "  'http://vaping.info/news/2013/i-quit-smoking',\n",
       "  'http://vaping.info/news/2013/keiths-story',\n",
       "  'http://vaping.info/news/2013/humanpersonworth-listening-to',\n",
       "  'http://vaping.info/news/2013/free-at-last',\n",
       "  'http://vaping.info/news/2013/tommy-2coils-story',\n",
       "  'http://vaping.info/news/2013/3-and-a-half-years-cigarette-free',\n",
       "  'http://vaping.info/news/2013/vaping-saved-my-family',\n",
       "  'http://vaping.info/news/2013/mr-4',\n",
       "  'http://vaping.info/news/2013/vaping-best-way-out-of-cigarettes',\n",
       "  'http://vaping.info/news/2013/mr-3',\n",
       "  'http://vaping.info/news/2013/mr-2',\n",
       "  'http://vaping.info/news/2013/electronic-cigarettes',\n",
       "  'http://vaping.info/news/2013/best-thing-i-ever-did',\n",
       "  'http://vaping.info/news/2013/vaping-saved-me-from-cigarettes'],\n",
       " 'http://vaping.info/read-testimonials/page/12')"
      ]
     },
     "execution_count": 18,
     "metadata": {},
     "output_type": "execute_result"
    }
   ],
   "source": [
    "get_link_page('http://vaping.info/read-testimonials/page/11')"
   ]
  },
  {
   "cell_type": "code",
   "execution_count": 19,
   "metadata": {
    "collapsed": false
   },
   "outputs": [
    {
     "name": "stdout",
     "output_type": "stream",
     "text": [
      "Processing http://vaping.info/read-testimonials\n",
      "finished - next url http://vaping.info/read-testimonials/page/2\n",
      "Processing http://vaping.info/read-testimonials/page/2\n",
      "finished - next url http://vaping.info/read-testimonials/page/3\n",
      "Processing http://vaping.info/read-testimonials/page/3\n",
      "finished - next url http://vaping.info/read-testimonials/page/4\n",
      "Processing http://vaping.info/read-testimonials/page/4\n",
      "finished - next url http://vaping.info/read-testimonials/page/5\n",
      "Processing http://vaping.info/read-testimonials/page/5\n",
      "finished - next url http://vaping.info/read-testimonials/page/6\n",
      "Processing http://vaping.info/read-testimonials/page/6\n",
      "finished - next url http://vaping.info/read-testimonials/page/7\n",
      "Processing http://vaping.info/read-testimonials/page/7\n",
      "finished - next url http://vaping.info/read-testimonials/page/8\n",
      "Processing http://vaping.info/read-testimonials/page/8\n",
      "finished - next url http://vaping.info/read-testimonials/page/9\n",
      "Processing http://vaping.info/read-testimonials/page/9\n",
      "finished - next url http://vaping.info/read-testimonials/page/10\n",
      "Processing http://vaping.info/read-testimonials/page/10\n",
      "finished - next url http://vaping.info/read-testimonials/page/11\n",
      "Processing http://vaping.info/read-testimonials/page/11\n",
      "finished - next url http://vaping.info/read-testimonials/page/12\n",
      "Processing http://vaping.info/read-testimonials/page/12\n",
      "finished - next url None\n"
     ]
    }
   ],
   "source": [
    "url='http://vaping.info/read-testimonials'\n",
    "\n",
    "links = []\n",
    "\n",
    "while url is not None:\n",
    "    print('Processing', url)\n",
    "    story_links, url = get_link_page(url)\n",
    "    print('finished - next url', url)\n",
    "    links.extend(story_links)\n",
    "    time.sleep(1)"
   ]
  },
  {
   "cell_type": "code",
   "execution_count": 21,
   "metadata": {
    "collapsed": false
   },
   "outputs": [
    {
     "data": {
      "text/plain": [
       "289"
      ]
     },
     "execution_count": 21,
     "metadata": {},
     "output_type": "execute_result"
    }
   ],
   "source": [
    "len(links)"
   ]
  },
  {
   "cell_type": "code",
   "execution_count": 22,
   "metadata": {
    "collapsed": false
   },
   "outputs": [
    {
     "name": "stdout",
     "output_type": "stream",
     "text": [
      "10\n",
      "9\n",
      "8\n",
      "7\n",
      "6\n",
      "5\n",
      "4\n",
      "3\n",
      "2\n",
      "1\n"
     ]
    }
   ],
   "source": [
    "counter=10\n",
    "while counter>0:\n",
    "    print(counter)\n",
    "    counter = counter -1"
   ]
  },
  {
   "cell_type": "code",
   "execution_count": null,
   "metadata": {
    "collapsed": false
   },
   "outputs": [],
   "source": [
    "len(links)"
   ]
  },
  {
   "cell_type": "code",
   "execution_count": null,
   "metadata": {
    "collapsed": false
   },
   "outputs": [],
   "source": [
    "links[0]"
   ]
  },
  {
   "cell_type": "code",
   "execution_count": 23,
   "metadata": {
    "collapsed": true
   },
   "outputs": [],
   "source": [
    "def get_page(url):\n",
    "    '''\n",
    "    \n",
    "    '''\n",
    "\n",
    "    try:\n",
    "        resp = requests.get(url)\n",
    "        assert(resp.status_code==200)\n",
    "    except:\n",
    "        return None\n",
    "    \n",
    "    html = BeautifulSoup(resp.text, 'html.parser')\n",
    "    blog = html.find('div', {'class': 'blog'})\n",
    "    title = blog.find('h4', {'class': 'heading'}).text\n",
    "    paras = [p.text for p in blog.findAll('p')]\n",
    "    \n",
    "    return {'title': title, 'text': ' '.join(paras), 'url': url}"
   ]
  },
  {
   "cell_type": "code",
   "execution_count": 24,
   "metadata": {
    "collapsed": false
   },
   "outputs": [
    {
     "name": "stdout",
     "output_type": "stream",
     "text": [
      "Processing 0 of 289 http://vaping.info/news/2015/20-yr-smoker-now-ex-smoker-since-2008-quit-vaping\n",
      "Processing 1 of 289 http://vaping.info/news/2015/42-year-smoker-3-week-vaper\n",
      "Processing 2 of 289 http://vaping.info/news/2015/finally-smoke-free-thanks-vaping\n",
      "Processing 3 of 289 http://vaping.info/news/2015/vaping-saved-life-turned-saved-4\n",
      "Processing 4 of 289 http://vaping.info/news/2015/smoker-27-years-made-many-attempts-quit-time\n",
      "Processing 5 of 289 http://vaping.info/news/2015/brilliant-alternative-cigarette-smoking\n",
      "Processing 6 of 289 http://vaping.info/news/2015/4-years-vaping\n",
      "Processing 7 of 289 http://vaping.info/news/2015/thank-son\n",
      "Processing 8 of 289 http://vaping.info/news/2015/el-vapeo-si-funciona\n",
      "Processing 9 of 289 http://vaping.info/news/2015/dipping\n",
      "Processing 10 of 289 http://vaping.info/news/2015/hardest-thing-ive-ever-done\n",
      "Processing 11 of 289 http://vaping.info/news/2015/30-years-smoking-ended-2-months-ago\n",
      "Processing 12 of 289 http://vaping.info/news/2015/amazing-thats-can-say\n",
      "Processing 13 of 289 http://vaping.info/news/2015/smoked-16-years\n",
      "Processing 14 of 289 http://vaping.info/news/2015/done-1201-new-year-day-2015\n",
      "Processing 15 of 289 http://vaping.info/news/2015/story\n",
      "Processing 16 of 289 http://vaping.info/news/2015/whats-smell\n",
      "Processing 17 of 289 http://vaping.info/news/2015/mrs\n",
      "Processing 18 of 289 http://vaping.info/news/2015/helped-quit-even-didnt-want\n",
      "Processing 19 of 289 http://vaping.info/news/2015/vaping-saved-life\n",
      "Processing 20 of 289 http://vaping.info/news/2015/success\n",
      "Processing 21 of 289 http://vaping.info/news/2015/people-vape-industry\n",
      "Processing 22 of 289 http://vaping.info/news/2015/ms\n",
      "Processing 23 of 289 http://vaping.info/news/2015/life-forever-changed-better\n",
      "Processing 24 of 289 http://vaping.info/news/2015/vaping-helped-quit\n",
      "Processing 25 of 289 http://vaping.info/news/2015/vaping-nicotine-alternative-helped-quit-smoking\n",
      "Processing 26 of 289 http://vaping.info/news/2015/vaping-testimonial\n",
      "Processing 27 of 289 http://vaping.info/news/2015/made-switch\n",
      "Processing 28 of 289 http://vaping.info/news/2015/vaping-worked-nothing-else\n",
      "Processing 29 of 289 http://vaping.info/news/2015/smoke-free\n",
      "Processing 30 of 289 http://vaping.info/news/2015/bigmoose-vapes\n",
      "Processing 31 of 289 http://vaping.info/news/2015/35-years-quit\n",
      "Processing 32 of 289 http://vaping.info/news/2015/2-months-off-3-packs-day\n",
      "Processing 33 of 289 http://vaping.info/news/2015/quit-smoking-im-happy\n",
      "Processing 34 of 289 http://vaping.info/news/2015/20-year-smoker-no\n",
      "Processing 35 of 289 http://vaping.info/news/2015/x-smoker\n",
      "Processing 36 of 289 http://vaping.info/news/2015/siento-bien-vaping\n",
      "Processing 37 of 289 http://vaping.info/news/2015/35-yr-former-smoker\n",
      "Processing 38 of 289 http://vaping.info/news/2015/quit-smoking-cold-turkey-vaping\n",
      "Processing 39 of 289 http://vaping.info/news/2015/testimonial-9\n",
      "Processing 40 of 289 http://vaping.info/news/2015/vape-saved-life\n",
      "Processing 41 of 289 http://vaping.info/news/2014/one-year-counting\n",
      "Processing 42 of 289 http://vaping.info/news/2014/testimonial-8\n",
      "Processing 43 of 289 http://vaping.info/news/2014/testimonial-7\n",
      "Processing 44 of 289 http://vaping.info/news/2014/big-tobacco\n",
      "Processing 45 of 289 http://vaping.info/news/2014/testimonial-6\n",
      "Processing 46 of 289 http://vaping.info/news/2014/chief-gofer\n",
      "Processing 47 of 289 http://vaping.info/news/2014/retired-commercial-fishermandisabled-truckdriver\n",
      "Processing 48 of 289 http://vaping.info/news/2014/quit-got-husband-quit\n",
      "Processing 49 of 289 http://vaping.info/news/2014/ecigs-changed-life\n",
      "Processing 50 of 289 http://vaping.info/news/2014/freedom-choose\n",
      "Processing 51 of 289 http://vaping.info/news/2014/center-universe\n",
      "Processing 52 of 289 http://vaping.info/news/2014/28-years-smoking-vaping-helped-quit-1-month\n",
      "Processing 53 of 289 http://vaping.info/news/2014/let-tell\n",
      "Processing 54 of 289 http://vaping.info/news/2014/doubt-vaping-saved-life\n",
      "Processing 55 of 289 http://vaping.info/news/2014/documented-proof\n",
      "Processing 56 of 289 http://vaping.info/news/2014/testimonial-5\n",
      "Processing 57 of 289 http://vaping.info/news/2014/ill-never-go-back-traditional-cigarettes\n",
      "Processing 58 of 289 http://vaping.info/news/2014/testimony-2\n",
      "Processing 59 of 289 http://vaping.info/news/2014/never-going-back-regular-cigarettes\n",
      "Processing 60 of 289 http://vaping.info/news/2014/vaping-saved\n",
      "Processing 61 of 289 http://vaping.info/news/2014/incredible\n",
      "Processing 62 of 289 http://vaping.info/news/2014/25-year-smoker-quit-2-weeks\n",
      "Processing 63 of 289 http://vaping.info/news/2014/healthy-choice\n",
      "Processing 64 of 289 http://vaping.info/news/2014/proud-quitter\n",
      "Processing 65 of 289 http://vaping.info/news/2014/exercise-can-kinds-now-dont-smoke-anymore\n",
      "Processing 66 of 289 http://vaping.info/news/2014/tobacco-gone-good\n",
      "Processing 67 of 289 http://vaping.info/news/2014/ecigs-amazeing\n",
      "Processing 68 of 289 http://vaping.info/news/2014/smoke-free-journey\n",
      "Processing 69 of 289 http://vaping.info/news/2014/testimony\n",
      "Processing 70 of 289 http://vaping.info/news/2014/thank-e-cigs\n",
      "Processing 71 of 289 http://vaping.info/news/2014/vaping-has-given-me-a-new-life-after-20-years-of-cigarette-smoking\n",
      "Processing 72 of 289 http://vaping.info/news/2014/smoking-ruined-my-life\n",
      "Processing 73 of 289 http://vaping.info/news/2014/my-story-behind-vaping\n",
      "Processing 74 of 289 http://vaping.info/news/2014/former-smoker-for-25-years\n",
      "Processing 75 of 289 http://vaping.info/news/2014/my-very-rare-vaping-story-haha\n",
      "Processing 76 of 289 http://vaping.info/news/2014/cpa-vaper\n",
      "Processing 77 of 289 http://vaping.info/news/2014/vaping-4\n",
      "Processing 78 of 289 http://vaping.info/news/2014/best-thing-ever\n",
      "Processing 79 of 289 http://vaping.info/news/2014/vaping-is-how-i-quit-smoking\n",
      "Processing 80 of 289 http://vaping.info/news/2014/jason\n",
      "Processing 81 of 289 http://vaping.info/news/2014/on-a-whim\n",
      "Processing 82 of 289 http://vaping.info/news/2014/20-years-of-cigarettes-until-i-found-my-vaporizer\n",
      "Processing 83 of 289 http://vaping.info/news/2014/an-unexpected-journey\n",
      "Processing 84 of 289 http://vaping.info/news/2014/testimonial-4\n",
      "Processing 85 of 289 http://vaping.info/news/2014/finally-clean\n",
      "Processing 86 of 289 http://vaping.info/news/2014/my-testimony-16\n",
      "Processing 87 of 289 http://vaping.info/news/2014/director-of-shared-servies\n",
      "Processing 88 of 289 http://vaping.info/news/2014/its-a-true-miracle\n",
      "Processing 89 of 289 http://vaping.info/news/2014/42-12-yr-heavy-smoker-who-can-no-longer-stand-the-taste-of-cigarettes\n",
      "Processing 90 of 289 http://vaping.info/news/2014/laughing-again-all-the-way-to-the-bank\n",
      "Processing 91 of 289 http://vaping.info/news/2014/quit-smoking-in-one-day\n",
      "Processing 92 of 289 http://vaping.info/news/2014/my-testimony-15\n",
      "Processing 93 of 289 http://vaping.info/news/2014/a-more-than-adequate-alternative\n",
      "Processing 94 of 289 http://vaping.info/news/2014/been-a-real-change-for-me\n",
      "Processing 95 of 289 http://vaping.info/news/2014/vaping-helped-my-family-kick-the-habit\n",
      "Processing 96 of 289 http://vaping.info/news/2014/i-smoked-a-pack-a-day-for-28-years-and-quit-overnight-thanks-to-ecigs\n",
      "Processing 97 of 289 http://vaping.info/news/2014/3-packs-a-day-now-none\n",
      "Processing 98 of 289 http://vaping.info/news/2014/vaping-changed-my-life-3\n",
      "Processing 99 of 289 http://vaping.info/news/2014/quit-smoking-and-started-vaping\n",
      "Processing 100 of 289 http://vaping.info/news/2014/didnt-even-use-vaping-as-an-atlernative-and-i-still-quit\n",
      "Processing 101 of 289 http://vaping.info/news/2014/3-years-no-tobacco\n",
      "Processing 102 of 289 http://vaping.info/news/2014/vaping-works\n",
      "Processing 103 of 289 http://vaping.info/news/2014/my-testimony-14\n",
      "Processing 104 of 289 http://vaping.info/news/2014/vaping-helped-me-stop-smoking\n",
      "Processing 105 of 289 http://vaping.info/news/2014/vape-on-2\n",
      "Processing 106 of 289 http://vaping.info/news/2014/my-testimony-13\n",
      "Processing 107 of 289 http://vaping.info/news/2014/my-testimonial-3\n",
      "Processing 108 of 289 http://vaping.info/news/2014/vaping-3\n",
      "Processing 109 of 289 http://vaping.info/news/2014/egos-got-me-off-smoking\n",
      "Processing 110 of 289 http://vaping.info/news/2014/works-for-me\n",
      "Processing 111 of 289 http://vaping.info/news/2014/my-testimony-12\n",
      "Processing 112 of 289 http://vaping.info/news/2014/how-vaping-has-changed-my-life\n",
      "Processing 113 of 289 http://vaping.info/news/2014/vape-on\n",
      "Processing 114 of 289 http://vaping.info/news/2014/the-only-thing-that-worked\n",
      "Processing 115 of 289 http://vaping.info/news/2014/i-quit-cigs\n",
      "Processing 116 of 289 http://vaping.info/news/2014/my-family-is-happy\n",
      "Processing 117 of 289 http://vaping.info/news/2014/vaping-has-changed-my-life-6\n",
      "Processing 118 of 289 http://vaping.info/news/2014/vaping-bat\n",
      "Processing 119 of 289 http://vaping.info/news/2014/this-works\n",
      "Processing 120 of 289 http://vaping.info/news/2014/building-engineer\n",
      "Processing 121 of 289 http://vaping.info/news/2014/vaping-has-changed-my-life-5\n",
      "Processing 122 of 289 http://vaping.info/news/2014/sub-ohm-vaping-to-get-off-of-a-pipe\n",
      "Processing 123 of 289 http://vaping.info/news/2014/we-the-people\n",
      "Processing 124 of 289 http://vaping.info/news/2014/ex-smoker\n",
      "Processing 125 of 289 http://vaping.info/news/2014/testimonial-3\n",
      "Processing 126 of 289 http://vaping.info/news/2014/the-only-way-that-worked\n",
      "Processing 127 of 289 http://vaping.info/news/2014/computer-tech\n",
      "Processing 128 of 289 http://vaping.info/news/2014/operations-manager\n",
      "Processing 129 of 289 http://vaping.info/news/2014/finally-something-thats-worked\n",
      "Processing 130 of 289 http://vaping.info/news/2014/smoker-for-20-years\n",
      "Processing 131 of 289 http://vaping.info/news/2014/a-family-man\n",
      "Processing 132 of 289 http://vaping.info/news/2014/after-44-years\n",
      "Processing 133 of 289 http://vaping.info/news/2014/please-let-me-share-my-story-with-you\n",
      "Processing 134 of 289 http://vaping.info/news/2014/ecigs-have-changed-my-life\n",
      "Processing 135 of 289 http://vaping.info/news/2014/i-can-breathe\n",
      "Processing 136 of 289 http://vaping.info/news/2014/so-happy-i-found-my-way-to-vaping\n",
      "Processing 137 of 289 http://vaping.info/news/2014/vaping-has-changed-my-life-4\n",
      "Processing 138 of 289 http://vaping.info/news/2014/my-family-is-why-i-started-vaping\n",
      "Processing 139 of 289 http://vaping.info/news/2014/vaping-2\n",
      "Processing 140 of 289 http://vaping.info/news/2014/for-ellie\n",
      "Processing 141 of 289 http://vaping.info/news/2014/finally-something-that-has-helped-me-quit-all-of-my-tobacco-use\n",
      "Processing 142 of 289 http://vaping.info/news/2014/better-dad\n",
      "Processing 143 of 289 http://vaping.info/news/2014/my-testimony-11\n",
      "Processing 144 of 289 http://vaping.info/news/2014/life-saved\n",
      "Processing 145 of 289 http://vaping.info/news/2014/my-switch-from-smoking-to-vaping\n",
      "Processing 146 of 289 http://vaping.info/news/2014/vaping-has-changed-my-life-3\n",
      "Processing 147 of 289 http://vaping.info/news/2014/my-thoughts-on-vaping\n",
      "Processing 148 of 289 http://vaping.info/news/2014/pack-and-a-half-smoker-now-quit\n",
      "Processing 149 of 289 http://vaping.info/news/2014/e-cigarettes-do-work\n",
      "Processing 150 of 289 http://vaping.info/news/2014/life-changing-change\n",
      "Processing 151 of 289 http://vaping.info/news/2014/my-vaping-experience-3\n",
      "Processing 152 of 289 http://vaping.info/news/2014/vaping-saved-my-life-3\n",
      "Processing 153 of 289 http://vaping.info/news/2014/vaping-has-saved-my-life\n",
      "Processing 154 of 289 http://vaping.info/news/2014/the-switch\n",
      "Processing 155 of 289 http://vaping.info/news/2014/my-testimony-10\n",
      "Processing 156 of 289 http://vaping.info/news/2014/great-alternative-to-traditional-smoking\n",
      "Processing 157 of 289 http://vaping.info/news/2014/my-testimony-9\n",
      "Processing 158 of 289 http://vaping.info/news/2014/vaping-saved-me-and-my-dads-life\n",
      "Processing 159 of 289 http://vaping.info/news/2014/my-testimony-8\n",
      "Processing 160 of 289 http://vaping.info/news/2014/the-only-thing-that-works\n",
      "Processing 161 of 289 http://vaping.info/news/2014/smoke-free-for-5-months\n",
      "Processing 162 of 289 http://vaping.info/news/2014/my-testimony-7\n",
      "Processing 163 of 289 http://vaping.info/news/2014/vaping-changed-my-life-2\n",
      "Processing 164 of 289 http://vaping.info/news/2014/6-years-smoke-free\n",
      "Processing 165 of 289 http://vaping.info/news/2014/38-year-ex-smoker\n",
      "Processing 166 of 289 http://vaping.info/news/2014/my-vaping-experience-2\n",
      "Processing 167 of 289 http://vaping.info/news/2014/vaping-saves-lives-2\n",
      "Processing 168 of 289 http://vaping.info/news/2014/20-year-smoker-quit\n",
      "Processing 169 of 289 http://vaping.info/news/2014/my-testimony-6\n",
      "Processing 170 of 289 http://vaping.info/news/2014/no-more-cigarettes-for-me\n",
      "Processing 171 of 289 http://vaping.info/news/2014/vaping-has-changed-my-life-2\n",
      "Processing 172 of 289 http://vaping.info/news/2014/vaping-saved-my-life-twice\n",
      "Processing 173 of 289 http://vaping.info/news/2014/how-vaping-has-changed-my-life-no-more-smoking\n",
      "Processing 174 of 289 http://vaping.info/news/2014/mark-e\n",
      "Processing 175 of 289 http://vaping.info/news/2014/vaping-really-has-changed-my-life\n",
      "Processing 176 of 289 http://vaping.info/news/2014/one-voice-can-make-a-difference\n",
      "Processing 177 of 289 http://vaping.info/news/2014/vaping-and-me\n",
      "Processing 178 of 289 http://vaping.info/news/2014/my-testimony-5\n",
      "Processing 179 of 289 http://vaping.info/news/2014/testimonial-2\n",
      "Processing 180 of 289 http://vaping.info/news/2014/smoke-and-stench-free-and-loving-it\n",
      "Processing 181 of 289 http://vaping.info/news/2014/how-vapeing-help-save-my-life\n",
      "Processing 182 of 289 http://vaping.info/news/2014/account-manager\n",
      "Processing 183 of 289 http://vaping.info/news/2014/i-can-breath-again\n",
      "Processing 184 of 289 http://vaping.info/news/2014/my-testimony-4\n",
      "Processing 185 of 289 http://vaping.info/news/2014/how-vaping-saved-my-life-2\n",
      "Processing 186 of 289 http://vaping.info/news/2014/i-live-a-healthy-life-thanks-to-vaping\n",
      "Processing 187 of 289 http://vaping.info/news/2014/how-vaping-changed-my-life\n",
      "Processing 188 of 289 http://vaping.info/news/2014/my-vape-experience\n",
      "Processing 189 of 289 http://vaping.info/news/2014/vaping-saves-lives\n",
      "Processing 190 of 289 http://vaping.info/news/2014/vaping-has-changed-my-life\n",
      "Processing 191 of 289 http://vaping.info/news/2014/vaping-is-a-life-saver\n",
      "Processing 192 of 289 http://vaping.info/news/2014/for-my-charliegirl\n",
      "Processing 193 of 289 http://vaping.info/news/2014/how-vaping-has-saved-my-life-and-ability-to-walk\n",
      "Processing 194 of 289 http://vaping.info/news/2014/vaperswin\n",
      "Processing 195 of 289 http://vaping.info/news/2014/my-vaping-experience\n",
      "Processing 196 of 289 http://vaping.info/news/2014/my-testimony-3\n",
      "Processing 197 of 289 http://vaping.info/news/2014/electronic-cigarettes-have-helped-me\n",
      "Processing 198 of 289 http://vaping.info/news/2014/vaping\n",
      "Processing 199 of 289 http://vaping.info/news/2014/i-dont-smoke-anymore-and-i-dont-want-to\n",
      "Processing 200 of 289 http://vaping.info/news/2014/vaping-saved-my-life-2\n",
      "Processing 201 of 289 http://vaping.info/news/2014/local-vape-shop-worker\n",
      "Processing 202 of 289 http://vaping.info/news/2014/how-ecigs-vaping-saved-my-life\n",
      "Processing 203 of 289 http://vaping.info/news/2014/smoked-for-40-years\n",
      "Processing 204 of 289 http://vaping.info/news/2014/my-personal-vape-story\n",
      "Processing 205 of 289 http://vaping.info/news/2014/artist\n",
      "Processing 206 of 289 http://vaping.info/news/2014/update-leslie-can-breathe-better-1-year-later\n",
      "Processing 207 of 289 http://vaping.info/news/2014/me-and-vaping\n",
      "Processing 208 of 289 http://vaping.info/news/2014/consumer\n",
      "Processing 209 of 289 http://vaping.info/news/2014/my-story-6\n",
      "Processing 210 of 289 http://vaping.info/news/2014/never-going-back-2\n",
      "Processing 211 of 289 http://vaping.info/news/2014/ecig\n",
      "Processing 212 of 289 http://vaping.info/news/2014/worried-in-wv\n",
      "Processing 213 of 289 http://vaping.info/news/2014/retired\n",
      "Processing 214 of 289 http://vaping.info/news/2014/never-going-back\n",
      "Processing 215 of 289 http://vaping.info/news/2014/i-quit-2\n",
      "Processing 216 of 289 http://vaping.info/news/2014/done-with-smoking\n",
      "Processing 217 of 289 http://vaping.info/news/2014/i-quit-smoking-after-starting-to-vape\n",
      "Processing 218 of 289 http://vaping.info/news/2014/my-testimony-2\n",
      "Processing 219 of 289 http://vaping.info/news/2014/i-am-not-a-smoker\n",
      "Processing 220 of 289 http://vaping.info/news/2014/accidental-and-permanent-quit\n",
      "Processing 221 of 289 http://vaping.info/news/2014/31-years\n",
      "Processing 222 of 289 http://vaping.info/news/2014/ex-smoker-after-42-years\n",
      "Processing 223 of 289 http://vaping.info/news/2014/vaping-helped-me-stop-smoking-and-i-didnt-even-intend-to-quit\n",
      "Processing 224 of 289 http://vaping.info/news/2014/cmv-instructor-vlogger-at-ridiculous-vape-vlog\n",
      "Processing 225 of 289 http://vaping.info/news/2014/my-testimony\n",
      "Processing 226 of 289 http://vaping.info/news/2014/young-smokernew-life\n",
      "Processing 227 of 289 http://vaping.info/news/2014/i-smoked-for-31-years-until\n",
      "Processing 228 of 289 http://vaping.info/news/2014/e-cigs-are-a-miracle\n",
      "Processing 229 of 289 http://vaping.info/news/2014/35-year-1-5-to-2-pack-a-day-smoker-no-longer\n",
      "Processing 230 of 289 http://vaping.info/news/2014/i-was-slowly-killing-myself\n",
      "Processing 231 of 289 http://vaping.info/news/2014/my-electronic-cigarette-testimony\n",
      "Processing 232 of 289 http://vaping.info/news/2014/mr-labato\n",
      "Processing 233 of 289 http://vaping.info/news/2014/investor\n",
      "Processing 234 of 289 http://vaping.info/news/2014/how-i-accidentally-quit-smoking-after-43-years\n",
      "Processing 235 of 289 http://vaping.info/news/2014/ecigs-saved-me-from-tobacco\n",
      "Processing 236 of 289 http://vaping.info/news/2014/i-gave-up-a-28-year-relationship-with-cigarettes-and-cigars-on-february-6-2013\n",
      "Processing 237 of 289 http://vaping.info/news/2014/how-vaping-saved-my-life\n",
      "Processing 238 of 289 http://vaping.info/news/2014/e-cigs-saved-my-life\n",
      "Processing 239 of 289 http://vaping.info/news/2013/testimonial\n",
      "Processing 240 of 289 http://vaping.info/news/2013/switched-and-its-like-night-and-day\n",
      "Processing 241 of 289 http://vaping.info/news/2013/my-story-5\n",
      "Processing 242 of 289 http://vaping.info/news/2013/how-ecigs-helped-me-and-my-family-quit-smoking\n",
      "Processing 243 of 289 http://vaping.info/news/2013/i-switched\n",
      "Processing 244 of 289 http://vaping.info/news/2013/my-story-4\n",
      "Processing 245 of 289 http://vaping.info/news/2013/i-quit-smoking-after-almost-40-years-thanks-to-vaping\n",
      "Processing 246 of 289 http://vaping.info/news/2013/colins-testimonial\n",
      "Processing 247 of 289 http://vaping.info/news/2013/craigs-testimonial\n",
      "Processing 248 of 289 http://vaping.info/news/2013/i-quit-smoking-after-45-years\n",
      "Processing 249 of 289 http://vaping.info/news/2013/i-can-breathe-leslies-story\n",
      "Processing 250 of 289 http://vaping.info/news/2013/maciej-testimony\n",
      "Processing 251 of 289 http://vaping.info/news/2013/my-testimonial-2\n",
      "Processing 252 of 289 http://vaping.info/news/2013/my-story-3\n",
      "Processing 253 of 289 http://vaping.info/news/2013/stopped-smoking-after-a-two-days\n",
      "Processing 254 of 289 http://vaping.info/news/2013/smoke-free-after-35-years-without-effort\n",
      "Processing 255 of 289 http://vaping.info/news/2013/miracle\n",
      "Processing 256 of 289 http://vaping.info/news/2013/my-struggle-with-tobacco-and-chrones-disease\n",
      "Processing 257 of 289 http://vaping.info/news/2013/easy\n",
      "Processing 258 of 289 http://vaping.info/news/2013/accidentally-quit-smoking-finally\n",
      "Processing 259 of 289 http://vaping.info/news/2013/johns-story\n",
      "Processing 260 of 289 http://vaping.info/news/2013/how-i-quit-smoking\n",
      "Processing 261 of 289 http://vaping.info/news/2013/i-quit-smoking\n",
      "Processing 262 of 289 http://vaping.info/news/2013/keiths-story\n",
      "Processing 263 of 289 http://vaping.info/news/2013/humanpersonworth-listening-to\n",
      "Processing 264 of 289 http://vaping.info/news/2013/free-at-last\n",
      "Processing 265 of 289 http://vaping.info/news/2013/tommy-2coils-story\n",
      "Processing 266 of 289 http://vaping.info/news/2013/3-and-a-half-years-cigarette-free\n",
      "Processing 267 of 289 http://vaping.info/news/2013/vaping-saved-my-family\n",
      "Processing 268 of 289 http://vaping.info/news/2013/mr-4\n",
      "Processing 269 of 289 http://vaping.info/news/2013/vaping-best-way-out-of-cigarettes\n",
      "Processing 270 of 289 http://vaping.info/news/2013/mr-3\n",
      "Processing 271 of 289 http://vaping.info/news/2013/mr-2\n",
      "Processing 272 of 289 http://vaping.info/news/2013/electronic-cigarettes\n",
      "Processing 273 of 289 http://vaping.info/news/2013/best-thing-i-ever-did\n",
      "Processing 274 of 289 http://vaping.info/news/2013/vaping-saved-me-from-cigarettes\n",
      "Processing 275 of 289 http://vaping.info/news/2013/my-story-2\n",
      "Processing 276 of 289 http://vaping.info/news/2013/mr\n",
      "Processing 277 of 289 http://vaping.info/news/2013/now-i-can-climb-hills-again\n",
      "Processing 278 of 289 http://vaping.info/news/2013/freedom\n",
      "Processing 279 of 289 http://vaping.info/news/2013/never-looked-back\n",
      "Processing 280 of 289 http://vaping.info/news/2013/i-quit\n",
      "Processing 281 of 289 http://vaping.info/news/2013/vaping-saved-my-life\n",
      "Processing 282 of 289 http://vaping.info/news/2013/why-i-vape\n",
      "Processing 283 of 289 http://vaping.info/news/2013/life-changing\n",
      "Processing 284 of 289 http://vaping.info/news/2013/my-testimonial\n",
      "Processing 285 of 289 http://vaping.info/news/2013/the-right-choice-for-me\n",
      "Processing 286 of 289 http://vaping.info/news/2013/my-story\n",
      "Processing 287 of 289 http://vaping.info/news/2013/vaping-changed-my-life\n",
      "Processing 288 of 289 http://vaping.info/news/2013/kevins-testimonial\n"
     ]
    }
   ],
   "source": [
    "rows = []\n",
    "num_of_links = len(links)\n",
    "for idx,link in enumerate(links):\n",
    "    print('Processing', idx, 'of', num_of_links, link)\n",
    "    data = get_page(link)\n",
    "    if data is not None:\n",
    "        rows.append(data)\n",
    "        \n",
    "    time.sleep(0.1)"
   ]
  },
  {
   "cell_type": "code",
   "execution_count": 25,
   "metadata": {
    "collapsed": false
   },
   "outputs": [],
   "source": [
    "import pandas as pd"
   ]
  },
  {
   "cell_type": "code",
   "execution_count": 26,
   "metadata": {
    "collapsed": true
   },
   "outputs": [],
   "source": [
    "df = pd.DataFrame.from_dict(rows)"
   ]
  },
  {
   "cell_type": "code",
   "execution_count": 27,
   "metadata": {
    "collapsed": false
   },
   "outputs": [
    {
     "data": {
      "text/html": [
       "<div>\n",
       "<table border=\"1\" class=\"dataframe\">\n",
       "  <thead>\n",
       "    <tr style=\"text-align: right;\">\n",
       "      <th></th>\n",
       "      <th>text</th>\n",
       "      <th>title</th>\n",
       "      <th>url</th>\n",
       "    </tr>\n",
       "  </thead>\n",
       "  <tbody>\n",
       "    <tr>\n",
       "      <th>0</th>\n",
       "      <td>I quit a 20 year habit of smoking tobacco ciga...</td>\n",
       "      <td>20+ yr Smoker Now Ex Smoker since 2008 quit be...</td>\n",
       "      <td>http://vaping.info/news/2015/20-yr-smoker-now-...</td>\n",
       "    </tr>\n",
       "    <tr>\n",
       "      <th>1</th>\n",
       "      <td>Started when I was 13 years old, now 55. Tried...</td>\n",
       "      <td>42 year smoker, 3 week vaper..</td>\n",
       "      <td>http://vaping.info/news/2015/42-year-smoker-3-...</td>\n",
       "    </tr>\n",
       "    <tr>\n",
       "      <th>2</th>\n",
       "      <td>25 years smoking, being diagnosed with COPD an...</td>\n",
       "      <td>Finally Smoke Free thanks to VAPING</td>\n",
       "      <td>http://vaping.info/news/2015/finally-smoke-fre...</td>\n",
       "    </tr>\n",
       "    <tr>\n",
       "      <th>3</th>\n",
       "      <td>I smoked for over 16 year, one pack a day if n...</td>\n",
       "      <td>Vaping saved my life, which in turned saved 4+...</td>\n",
       "      <td>http://vaping.info/news/2015/vaping-saved-life...</td>\n",
       "    </tr>\n",
       "    <tr>\n",
       "      <th>4</th>\n",
       "      <td>First let me say that No one under the legal s...</td>\n",
       "      <td>. I was a smoker for 27 years. I made many att...</td>\n",
       "      <td>http://vaping.info/news/2015/smoker-27-years-m...</td>\n",
       "    </tr>\n",
       "  </tbody>\n",
       "</table>\n",
       "</div>"
      ],
      "text/plain": [
       "                                                text  \\\n",
       "0  I quit a 20 year habit of smoking tobacco ciga...   \n",
       "1  Started when I was 13 years old, now 55. Tried...   \n",
       "2  25 years smoking, being diagnosed with COPD an...   \n",
       "3  I smoked for over 16 year, one pack a day if n...   \n",
       "4  First let me say that No one under the legal s...   \n",
       "\n",
       "                                               title  \\\n",
       "0  20+ yr Smoker Now Ex Smoker since 2008 quit be...   \n",
       "1                     42 year smoker, 3 week vaper..   \n",
       "2                Finally Smoke Free thanks to VAPING   \n",
       "3  Vaping saved my life, which in turned saved 4+...   \n",
       "4  . I was a smoker for 27 years. I made many att...   \n",
       "\n",
       "                                                 url  \n",
       "0  http://vaping.info/news/2015/20-yr-smoker-now-...  \n",
       "1  http://vaping.info/news/2015/42-year-smoker-3-...  \n",
       "2  http://vaping.info/news/2015/finally-smoke-fre...  \n",
       "3  http://vaping.info/news/2015/vaping-saved-life...  \n",
       "4  http://vaping.info/news/2015/smoker-27-years-m...  "
      ]
     },
     "execution_count": 27,
     "metadata": {},
     "output_type": "execute_result"
    }
   ],
   "source": [
    "df.head()"
   ]
  },
  {
   "cell_type": "code",
   "execution_count": 28,
   "metadata": {
    "collapsed": true
   },
   "outputs": [],
   "source": [
    "df.to_csv('data/vaping_testimonials.csv')"
   ]
  }
 ],
 "metadata": {
  "kernelspec": {
   "display_name": "Python 3",
   "language": "python",
   "name": "python3"
  },
  "language_info": {
   "codemirror_mode": {
    "name": "ipython",
    "version": 3
   },
   "file_extension": ".py",
   "mimetype": "text/x-python",
   "name": "python",
   "nbconvert_exporter": "python",
   "pygments_lexer": "ipython3",
   "version": "3.4.4"
  }
 },
 "nbformat": 4,
 "nbformat_minor": 0
}
